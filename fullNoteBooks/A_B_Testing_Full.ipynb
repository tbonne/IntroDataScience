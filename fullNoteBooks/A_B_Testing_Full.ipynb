{
  "nbformat": 4,
  "nbformat_minor": 0,
  "metadata": {
    "colab": {
      "name": "A_B_Testing_Full.ipynb",
      "provenance": [],
      "collapsed_sections": [],
      "mount_file_id": "1ZSejLEaSqtPw_BnKWwNvlKloiaTPp-zf",
      "authorship_tag": "ABX9TyO/vVPMz5fLogsOvCiogI8S",
      "include_colab_link": true
    },
    "kernelspec": {
      "name": "python3",
      "display_name": "Python 3"
    },
    "language_info": {
      "name": "python"
    }
  },
  "cells": [
    {
      "cell_type": "markdown",
      "metadata": {
        "id": "view-in-github",
        "colab_type": "text"
      },
      "source": [
        "<a href=\"https://colab.research.google.com/github/tbonne/IntroDataScience/blob/main/fullNoteBooks/A_B_Testing_Full.ipynb\" target=\"_parent\"><img src=\"https://colab.research.google.com/assets/colab-badge.svg\" alt=\"Open In Colab\"/></a>"
      ]
    },
    {
      "cell_type": "markdown",
      "metadata": {
        "id": "H_cCZ26oC09s"
      },
      "source": [
        "<img src='http://drive.google.com/uc?export=view&id=1JqHLLc4CGhWdmUAb0xCn1anYe6Qkl_U_' width=500>\n"
      ]
    },
    {
      "cell_type": "markdown",
      "metadata": {
        "id": "BQpnBRMDe_mB"
      },
      "source": [
        "# <font color='lightblue'>A/B Testing</font>\n",
        "\n",
        "Here we will look at how to collect and analyze data to determine the difference between two groups. The idea here is that if we randomly assign individuals to two groups we end up with comparable groups. If we then measure how these two groups respond to a treatment (e.g., being given game version A vs. game version B) we can better determine the effect of that treatment. \n"
      ]
    },
    {
      "cell_type": "markdown",
      "metadata": {
        "id": "yFmN1aLjfVej"
      },
      "source": [
        "We'll take a look at data collected to test how effective different versions of a game are at retaining users. \n",
        "\n",
        "\n"
      ]
    },
    {
      "cell_type": "code",
      "metadata": {
        "id": "R6oL7k7uftq4"
      },
      "source": [
        "#load packages\n",
        "import pandas as pd\n",
        "import sklearn as sk\n",
        "import seaborn as sns\n",
        "from matplotlib import pyplot as plt\n",
        "from sklearn.model_selection import train_test_split"
      ],
      "execution_count": 70,
      "outputs": []
    },
    {
      "cell_type": "markdown",
      "metadata": {
        "id": "GZ7MxOMHflXV"
      },
      "source": [
        "Load the data"
      ]
    },
    {
      "cell_type": "code",
      "metadata": {
        "colab": {
          "base_uri": "https://localhost:8080/",
          "height": 206
        },
        "id": "5NHlsf8GeMWW",
        "outputId": "ac3a67fc-7fda-4cb2-d540-a61ab1610264"
      },
      "source": [
        "#load data\n",
        "df_cats = pd.read_csv(\"/content/cookie_cats.csv\")\n",
        "\n",
        "#take a look\n",
        "df_cats.head()"
      ],
      "execution_count": 71,
      "outputs": [
        {
          "output_type": "execute_result",
          "data": {
            "text/html": [
              "<div>\n",
              "<style scoped>\n",
              "    .dataframe tbody tr th:only-of-type {\n",
              "        vertical-align: middle;\n",
              "    }\n",
              "\n",
              "    .dataframe tbody tr th {\n",
              "        vertical-align: top;\n",
              "    }\n",
              "\n",
              "    .dataframe thead th {\n",
              "        text-align: right;\n",
              "    }\n",
              "</style>\n",
              "<table border=\"1\" class=\"dataframe\">\n",
              "  <thead>\n",
              "    <tr style=\"text-align: right;\">\n",
              "      <th></th>\n",
              "      <th>userid</th>\n",
              "      <th>version</th>\n",
              "      <th>sum_gamerounds</th>\n",
              "      <th>retention_1</th>\n",
              "      <th>retention_7</th>\n",
              "    </tr>\n",
              "  </thead>\n",
              "  <tbody>\n",
              "    <tr>\n",
              "      <th>0</th>\n",
              "      <td>116</td>\n",
              "      <td>gate_30</td>\n",
              "      <td>3</td>\n",
              "      <td>False</td>\n",
              "      <td>False</td>\n",
              "    </tr>\n",
              "    <tr>\n",
              "      <th>1</th>\n",
              "      <td>337</td>\n",
              "      <td>gate_30</td>\n",
              "      <td>38</td>\n",
              "      <td>True</td>\n",
              "      <td>False</td>\n",
              "    </tr>\n",
              "    <tr>\n",
              "      <th>2</th>\n",
              "      <td>377</td>\n",
              "      <td>gate_40</td>\n",
              "      <td>165</td>\n",
              "      <td>True</td>\n",
              "      <td>False</td>\n",
              "    </tr>\n",
              "    <tr>\n",
              "      <th>3</th>\n",
              "      <td>483</td>\n",
              "      <td>gate_40</td>\n",
              "      <td>1</td>\n",
              "      <td>False</td>\n",
              "      <td>False</td>\n",
              "    </tr>\n",
              "    <tr>\n",
              "      <th>4</th>\n",
              "      <td>488</td>\n",
              "      <td>gate_40</td>\n",
              "      <td>179</td>\n",
              "      <td>True</td>\n",
              "      <td>True</td>\n",
              "    </tr>\n",
              "  </tbody>\n",
              "</table>\n",
              "</div>"
            ],
            "text/plain": [
              "   userid  version  sum_gamerounds  retention_1  retention_7\n",
              "0     116  gate_30               3        False        False\n",
              "1     337  gate_30              38         True        False\n",
              "2     377  gate_40             165         True        False\n",
              "3     483  gate_40               1        False        False\n",
              "4     488  gate_40             179         True         True"
            ]
          },
          "metadata": {
            "tags": []
          },
          "execution_count": 71
        }
      ]
    },
    {
      "cell_type": "markdown",
      "metadata": {
        "id": "mfKCZZ6mL0Fj"
      },
      "source": [
        "### <font color='lightblue'>Describe the data</font>"
      ]
    },
    {
      "cell_type": "markdown",
      "metadata": {
        "id": "2XSKxhqkFsDY"
      },
      "source": [
        "How many in each group?"
      ]
    },
    {
      "cell_type": "code",
      "metadata": {
        "colab": {
          "base_uri": "https://localhost:8080/"
        },
        "id": "PB_UE20MFuEK",
        "outputId": "e296c26b-e211-44c1-dba9-b347427c1041"
      },
      "source": [
        "df_cats.version.value_counts()"
      ],
      "execution_count": 72,
      "outputs": [
        {
          "output_type": "execute_result",
          "data": {
            "text/plain": [
              "gate_40    45489\n",
              "gate_30    44700\n",
              "Name: version, dtype: int64"
            ]
          },
          "metadata": {
            "tags": []
          },
          "execution_count": 72
        }
      ]
    },
    {
      "cell_type": "markdown",
      "metadata": {
        "id": "DqhZStXAFzfZ"
      },
      "source": [
        "How many users returned after 7 days?"
      ]
    },
    {
      "cell_type": "code",
      "metadata": {
        "colab": {
          "base_uri": "https://localhost:8080/"
        },
        "id": "fcRRUsKgF4XF",
        "outputId": "6882f1a7-ca81-4c91-a5fd-b8e08e1c4ff5"
      },
      "source": [
        "#gate placed at level 30\n",
        "df_cats[df_cats['version']=='gate_30'].retention_7.sum() / len(df_cats[df_cats['version']=='gate_30'])"
      ],
      "execution_count": 73,
      "outputs": [
        {
          "output_type": "execute_result",
          "data": {
            "text/plain": [
              "0.19020134228187918"
            ]
          },
          "metadata": {
            "tags": []
          },
          "execution_count": 73
        }
      ]
    },
    {
      "cell_type": "code",
      "metadata": {
        "colab": {
          "base_uri": "https://localhost:8080/"
        },
        "id": "bJPkzEdsGa0H",
        "outputId": "1565dbfa-8925-424b-e1b9-f76b1d73346b"
      },
      "source": [
        "#gate placed at level 40\n",
        "df_cats[df_cats['version']=='gate_40'].retention_7.sum() / len(df_cats[df_cats['version']=='gate_40'])"
      ],
      "execution_count": 74,
      "outputs": [
        {
          "output_type": "execute_result",
          "data": {
            "text/plain": [
              "0.18200004396667327"
            ]
          },
          "metadata": {
            "tags": []
          },
          "execution_count": 74
        }
      ]
    },
    {
      "cell_type": "markdown",
      "metadata": {
        "id": "FovWxCFQkiTn"
      },
      "source": [
        "### <font color='lightblue'>Visualize the data</font>"
      ]
    },
    {
      "cell_type": "code",
      "metadata": {
        "colab": {
          "base_uri": "https://localhost:8080/",
          "height": 327
        },
        "id": "Lm36a2uZmIW5",
        "outputId": "212e2dc0-e3c2-498b-f585-13f3247aa80d"
      },
      "source": [
        "#plot difference between the versions\n",
        "sns.violinplot(data=df_cats, x=\"version\",y=\"retention_7\")\n",
        "plt.xticks(rotation=90)"
      ],
      "execution_count": 75,
      "outputs": [
        {
          "output_type": "execute_result",
          "data": {
            "text/plain": [
              "(array([0, 1]), <a list of 2 Text major ticklabel objects>)"
            ]
          },
          "metadata": {
            "tags": []
          },
          "execution_count": 75
        },
        {
          "output_type": "display_data",
          "data": {
            "image/png": "[encoded data removed]",
            "text/plain": [
              "<Figure size 432x288 with 1 Axes>"
            ]
          },
          "metadata": {
            "tags": [],
            "needs_background": "light"
          }
        }
      ]
    },
    {
      "cell_type": "markdown",
      "metadata": {
        "id": "lKdW7X6B0epK"
      },
      "source": [
        "### <font color='lightblue'>Wrangle the data</font>"
      ]
    },
    {
      "cell_type": "markdown",
      "metadata": {
        "id": "jOHxEi5y0xLo"
      },
      "source": [
        "Convert the binary traget and binary input variable to 0/1"
      ]
    },
    {
      "cell_type": "code",
      "metadata": {
        "colab": {
          "base_uri": "https://localhost:8080/",
          "height": 423
        },
        "id": "wANllSTG0wjp",
        "outputId": "fe22338d-c074-4e3b-c5a2-813abc39719f"
      },
      "source": [
        "from sklearn.preprocessing import OrdinalEncoder\n",
        "\n",
        "#get the columns names of features you'd like to turn into 0/1\n",
        "bin_names = ['retention_7','version']\n",
        "\n",
        "#create a dataframe of those features\n",
        "bin_features = df_cats[bin_names]\n",
        "\n",
        "#fit the scaler to those data\n",
        "bin_scaler = OrdinalEncoder().fit(bin_features.values)\n",
        "\n",
        "#use the scaler to transform your data\n",
        "bin_features = bin_scaler.transform(bin_features.values)\n",
        "\n",
        "#put these scaled features back into your transformed features dataframe\n",
        "df_cats[bin_names] = bin_features\n",
        "\n",
        "#take a look\n",
        "df_cats"
      ],
      "execution_count": 76,
      "outputs": [
        {
          "output_type": "execute_result",
          "data": {
            "text/html": [
              "<div>\n",
              "<style scoped>\n",
              "    .dataframe tbody tr th:only-of-type {\n",
              "        vertical-align: middle;\n",
              "    }\n",
              "\n",
              "    .dataframe tbody tr th {\n",
              "        vertical-align: top;\n",
              "    }\n",
              "\n",
              "    .dataframe thead th {\n",
              "        text-align: right;\n",
              "    }\n",
              "</style>\n",
              "<table border=\"1\" class=\"dataframe\">\n",
              "  <thead>\n",
              "    <tr style=\"text-align: right;\">\n",
              "      <th></th>\n",
              "      <th>userid</th>\n",
              "      <th>version</th>\n",
              "      <th>sum_gamerounds</th>\n",
              "      <th>retention_1</th>\n",
              "      <th>retention_7</th>\n",
              "    </tr>\n",
              "  </thead>\n",
              "  <tbody>\n",
              "    <tr>\n",
              "      <th>0</th>\n",
              "      <td>116</td>\n",
              "      <td>0.0</td>\n",
              "      <td>3</td>\n",
              "      <td>False</td>\n",
              "      <td>0.0</td>\n",
              "    </tr>\n",
              "    <tr>\n",
              "      <th>1</th>\n",
              "      <td>337</td>\n",
              "      <td>0.0</td>\n",
              "      <td>38</td>\n",
              "      <td>True</td>\n",
              "      <td>0.0</td>\n",
              "    </tr>\n",
              "    <tr>\n",
              "      <th>2</th>\n",
              "      <td>377</td>\n",
              "      <td>1.0</td>\n",
              "      <td>165</td>\n",
              "      <td>True</td>\n",
              "      <td>0.0</td>\n",
              "    </tr>\n",
              "    <tr>\n",
              "      <th>3</th>\n",
              "      <td>483</td>\n",
              "      <td>1.0</td>\n",
              "      <td>1</td>\n",
              "      <td>False</td>\n",
              "      <td>0.0</td>\n",
              "    </tr>\n",
              "    <tr>\n",
              "      <th>4</th>\n",
              "      <td>488</td>\n",
              "      <td>1.0</td>\n",
              "      <td>179</td>\n",
              "      <td>True</td>\n",
              "      <td>1.0</td>\n",
              "    </tr>\n",
              "    <tr>\n",
              "      <th>...</th>\n",
              "      <td>...</td>\n",
              "      <td>...</td>\n",
              "      <td>...</td>\n",
              "      <td>...</td>\n",
              "      <td>...</td>\n",
              "    </tr>\n",
              "    <tr>\n",
              "      <th>90184</th>\n",
              "      <td>9999441</td>\n",
              "      <td>1.0</td>\n",
              "      <td>97</td>\n",
              "      <td>True</td>\n",
              "      <td>0.0</td>\n",
              "    </tr>\n",
              "    <tr>\n",
              "      <th>90185</th>\n",
              "      <td>9999479</td>\n",
              "      <td>1.0</td>\n",
              "      <td>30</td>\n",
              "      <td>False</td>\n",
              "      <td>0.0</td>\n",
              "    </tr>\n",
              "    <tr>\n",
              "      <th>90186</th>\n",
              "      <td>9999710</td>\n",
              "      <td>0.0</td>\n",
              "      <td>28</td>\n",
              "      <td>True</td>\n",
              "      <td>0.0</td>\n",
              "    </tr>\n",
              "    <tr>\n",
              "      <th>90187</th>\n",
              "      <td>9999768</td>\n",
              "      <td>1.0</td>\n",
              "      <td>51</td>\n",
              "      <td>True</td>\n",
              "      <td>0.0</td>\n",
              "    </tr>\n",
              "    <tr>\n",
              "      <th>90188</th>\n",
              "      <td>9999861</td>\n",
              "      <td>1.0</td>\n",
              "      <td>16</td>\n",
              "      <td>False</td>\n",
              "      <td>0.0</td>\n",
              "    </tr>\n",
              "  </tbody>\n",
              "</table>\n",
              "<p>90189 rows × 5 columns</p>\n",
              "</div>"
            ],
            "text/plain": [
              "        userid  version  sum_gamerounds  retention_1  retention_7\n",
              "0          116      0.0               3        False          0.0\n",
              "1          337      0.0              38         True          0.0\n",
              "2          377      1.0             165         True          0.0\n",
              "3          483      1.0               1        False          0.0\n",
              "4          488      1.0             179         True          1.0\n",
              "...        ...      ...             ...          ...          ...\n",
              "90184  9999441      1.0              97         True          0.0\n",
              "90185  9999479      1.0              30        False          0.0\n",
              "90186  9999710      0.0              28         True          0.0\n",
              "90187  9999768      1.0              51         True          0.0\n",
              "90188  9999861      1.0              16        False          0.0\n",
              "\n",
              "[90189 rows x 5 columns]"
            ]
          },
          "metadata": {
            "tags": []
          },
          "execution_count": 76
        }
      ]
    },
    {
      "cell_type": "markdown",
      "metadata": {
        "id": "qkJ0wPp46_dK"
      },
      "source": [
        "Check which version is assigned to which value"
      ]
    },
    {
      "cell_type": "code",
      "metadata": {
        "colab": {
          "base_uri": "https://localhost:8080/"
        },
        "id": "9R_97F8d67t4",
        "outputId": "2c98ad89-de3f-403a-f765-c3fc330aae22"
      },
      "source": [
        "bin_scaler.categories_"
      ],
      "execution_count": 77,
      "outputs": [
        {
          "output_type": "execute_result",
          "data": {
            "text/plain": [
              "[array([False, True], dtype=object),\n",
              " array(['gate_30', 'gate_40'], dtype=object)]"
            ]
          },
          "metadata": {
            "tags": []
          },
          "execution_count": 77
        }
      ]
    },
    {
      "cell_type": "markdown",
      "metadata": {
        "id": "9oZGMz1Y7G79"
      },
      "source": [
        "Split your data into training and testing"
      ]
    },
    {
      "cell_type": "code",
      "metadata": {
        "id": "7uuaVICoRlMs"
      },
      "source": [
        "#split these data into training and testing datasets\n",
        "df_train, df_test = train_test_split(df_cats, test_size=0.20, stratify=df_cats[['retention_7']])"
      ],
      "execution_count": 78,
      "outputs": []
    },
    {
      "cell_type": "markdown",
      "metadata": {
        "id": "OAk0s-hKmH7i"
      },
      "source": [
        "## <font color='lightblue'>Build a model</font>\n",
        "\n",
        "Can we predict which game version does better?"
      ]
    },
    {
      "cell_type": "code",
      "metadata": {
        "id": "eHrG5Z1lRJ5q",
        "colab": {
          "base_uri": "https://localhost:8080/"
        },
        "outputId": "c3ca8772-b4ef-46bb-dc3e-f5471832231a"
      },
      "source": [
        "import statsmodels.api as sm #for running regression!\n",
        "import statsmodels.formula.api as smf\n",
        "\n",
        "#1. Build the model\n",
        "linear_reg_model = smf.logit(formula='retention_7 ~ version  ', data=df_train)\n",
        "\n",
        "#2. Use the data to fit the model (i.e., find the best intercept and slope parameters)\n",
        "linear_reg_results = linear_reg_model.fit()\n",
        "\n",
        "#3. take a look at the summary\n",
        "print(linear_reg_results.summary())"
      ],
      "execution_count": 79,
      "outputs": [
        {
          "output_type": "stream",
          "text": [
            "Optimization terminated successfully.\n",
            "         Current function value: 0.480414\n",
            "         Iterations 5\n",
            "                           Logit Regression Results                           \n",
            "==============================================================================\n",
            "Dep. Variable:            retention_7   No. Observations:                72151\n",
            "Model:                          Logit   Df Residuals:                    72149\n",
            "Method:                           MLE   Df Model:                            1\n",
            "Date:                Tue, 10 Aug 2021   Pseudo R-squ.:               0.0001191\n",
            "Time:                        18:05:07   Log-Likelihood:                -34662.\n",
            "converged:                       True   LL-Null:                       -34666.\n",
            "Covariance Type:            nonrobust   LLR p-value:                  0.004065\n",
            "==============================================================================\n",
            "                 coef    std err          z      P>|z|      [0.025      0.975]\n",
            "------------------------------------------------------------------------------\n",
            "Intercept     -1.4482      0.013   -107.317      0.000      -1.475      -1.422\n",
            "version       -0.0550      0.019     -2.873      0.004      -0.092      -0.017\n",
            "==============================================================================\n"
          ],
          "name": "stdout"
        }
      ]
    },
    {
      "cell_type": "markdown",
      "metadata": {
        "id": "wGPMT5A6HvaA"
      },
      "source": [
        "Make predictions to get the probability (i.e., in the table these are values on the logit scale!)."
      ]
    },
    {
      "cell_type": "code",
      "metadata": {
        "colab": {
          "base_uri": "https://localhost:8080/",
          "height": 283
        },
        "id": "lWdIDwxXH2ZB",
        "outputId": "a822e579-10d7-4510-ee5c-1f7c32f7dc42"
      },
      "source": [
        "y_pred_prob = linear_reg_results.predict(df_train)\n",
        "y_pred_prob.hist()"
      ],
      "execution_count": 80,
      "outputs": [
        {
          "output_type": "execute_result",
          "data": {
            "text/plain": [
              "<matplotlib.axes._subplots.AxesSubplot at 0x7efe44442e50>"
            ]
          },
          "metadata": {
            "tags": []
          },
          "execution_count": 80
        },
        {
          "output_type": "display_data",
          "data": {
            "image/png": "[encoded data removed]",
            "text/plain": [
              "<Figure size 432x288 with 1 Axes>"
            ]
          },
          "metadata": {
            "tags": [],
            "needs_background": "light"
          }
        }
      ]
    },
    {
      "cell_type": "markdown",
      "metadata": {
        "id": "GuaEe9OhJayk"
      },
      "source": [
        "Run the model again but this time add in the sum of the times they played the game in the first 2 weeks."
      ]
    },
    {
      "cell_type": "code",
      "metadata": {
        "colab": {
          "base_uri": "https://localhost:8080/"
        },
        "id": "OYa4-d0ZJaf7",
        "outputId": "1378fa7e-c4f6-457a-b0a5-b9c181af73b5"
      },
      "source": [
        "import statsmodels.api as sm #for running regression!\n",
        "import statsmodels.formula.api as smf\n",
        "\n",
        "#1. Build the model\n",
        "linear_reg_model = smf.logit(formula='retention_7 ~ version + sum_gamerounds  ', data=df_train)\n",
        "\n",
        "#2. Use the data to fit the model (i.e., find the best intercept and slope parameters)\n",
        "linear_reg_results = linear_reg_model.fit()\n",
        "\n",
        "#3. take a look at the summary\n",
        "print(linear_reg_results.summary())"
      ],
      "execution_count": 81,
      "outputs": [
        {
          "output_type": "stream",
          "text": [
            "Optimization terminated successfully.\n",
            "         Current function value: 0.332355\n",
            "         Iterations 8\n",
            "                           Logit Regression Results                           \n",
            "==============================================================================\n",
            "Dep. Variable:            retention_7   No. Observations:                72151\n",
            "Model:                          Logit   Df Residuals:                    72148\n",
            "Method:                           MLE   Df Model:                            2\n",
            "Date:                Tue, 10 Aug 2021   Pseudo R-squ.:                  0.3083\n",
            "Time:                        18:05:08   Log-Likelihood:                -23980.\n",
            "converged:                       True   LL-Null:                       -34666.\n",
            "Covariance Type:            nonrobust   LLR p-value:                     0.000\n",
            "==================================================================================\n",
            "                     coef    std err          z      P>|z|      [0.025      0.975]\n",
            "----------------------------------------------------------------------------------\n",
            "Intercept         -2.6897      0.020   -132.146      0.000      -2.730      -2.650\n",
            "version           -0.0845      0.024     -3.530      0.000      -0.131      -0.038\n",
            "sum_gamerounds     0.0209      0.000    102.527      0.000       0.021       0.021\n",
            "==================================================================================\n"
          ],
          "name": "stdout"
        }
      ]
    },
    {
      "cell_type": "markdown",
      "metadata": {
        "id": "GoJsIwCmIKdI"
      },
      "source": [
        "Calculate the difference in predicted probability"
      ]
    },
    {
      "cell_type": "code",
      "metadata": {
        "colab": {
          "base_uri": "https://localhost:8080/",
          "height": 283
        },
        "id": "Yw_3YM9HIJ6M",
        "outputId": "fc800d1f-ebdb-435d-c609-faa8d9a9d3cb"
      },
      "source": [
        "y_pred_prob = linear_reg_results.predict(df_train)\n",
        "y_pred_prob.hist()"
      ],
      "execution_count": 82,
      "outputs": [
        {
          "output_type": "execute_result",
          "data": {
            "text/plain": [
              "<matplotlib.axes._subplots.AxesSubplot at 0x7efe4413dd10>"
            ]
          },
          "metadata": {
            "tags": []
          },
          "execution_count": 82
        },
        {
          "output_type": "display_data",
          "data": {
            "image/png": "[encoded data removed]",
            "text/plain": [
              "<Figure size 432x288 with 1 Axes>"
            ]
          },
          "metadata": {
            "tags": [],
            "needs_background": "light"
          }
        }
      ]
    },
    {
      "cell_type": "markdown",
      "metadata": {
        "id": "u1adWFDz7Luc"
      },
      "source": [
        "Check to make sure the pattern you found generalizes to the whitheld dataset. (i.e., are you overfitting)"
      ]
    },
    {
      "cell_type": "code",
      "metadata": {
        "colab": {
          "base_uri": "https://localhost:8080/",
          "height": 297
        },
        "id": "CG0HiBf_7SR_",
        "outputId": "699565a2-32fd-4dc3-d3d7-c91b602827f7"
      },
      "source": [
        "from sklearn.metrics import confusion_matrix\n",
        "\n",
        "#predict on testing data\n",
        "y_pred_prob = linear_reg_results.predict(df_test)\n",
        "\n",
        "#convert probs to 0/1\n",
        "y_pred = (y_pred_prob > 0.5).astype(int)\n",
        "\n",
        "#create a confusion matrix\n",
        "cm_logit = confusion_matrix(df_test.retention_7, y_pred)\n",
        "\n",
        "#visualize the confusion matrix\n",
        "sns.heatmap(cm_logit, annot=True)\n",
        "plt.xlabel('Predicted label')\n",
        "plt.ylabel('True label')"
      ],
      "execution_count": 83,
      "outputs": [
        {
          "output_type": "execute_result",
          "data": {
            "text/plain": [
              "Text(33.0, 0.5, 'True label')"
            ]
          },
          "metadata": {
            "tags": []
          },
          "execution_count": 83
        },
        {
          "output_type": "display_data",
          "data": {
            "image/png": "[encoded data removed]",
            "text/plain": [
              "<Figure size 432x288 with 2 Axes>"
            ]
          },
          "metadata": {
            "tags": [],
            "needs_background": "light"
          }
        }
      ]
    },
    {
      "cell_type": "markdown",
      "metadata": {
        "id": "Ia-v8NPYO1S8"
      },
      "source": [
        "Measure the accuracy of the model"
      ]
    },
    {
      "cell_type": "code",
      "metadata": {
        "colab": {
          "base_uri": "https://localhost:8080/"
        },
        "id": "KXDKdR2_O3FH",
        "outputId": "d06c50d6-3849-4beb-990b-e14c0f24e965"
      },
      "source": [
        "from sklearn.metrics import accuracy_score, precision_score, recall_score\n",
        "\n",
        "print('Accuracy ',accuracy_score(df_test.retention_7,y_pred).round(2))\n",
        "print('Precision ',precision_score(df_test.retention_7,y_pred).round(2))\n",
        "print('Recall ',recall_score(df_test.retention_7,y_pred).round(2))"
      ],
      "execution_count": 93,
      "outputs": [
        {
          "output_type": "stream",
          "text": [
            "Accuracy  0.87\n",
            "Precision  0.77\n",
            "Recall  0.44\n"
          ],
          "name": "stdout"
        }
      ]
    },
    {
      "cell_type": "markdown",
      "metadata": {
        "id": "VNOUHRuV45oP"
      },
      "source": [
        "## <font color='lightblue'>Bonus</font>\n"
      ]
    },
    {
      "cell_type": "markdown",
      "metadata": {
        "id": "I54NX306uLG2"
      },
      "source": [
        "What does the model think retetion will change when we vary versions and sum_gamerounds?"
      ]
    },
    {
      "cell_type": "code",
      "metadata": {
        "colab": {
          "base_uri": "https://localhost:8080/",
          "height": 297
        },
        "id": "HiCvLf23uG-B",
        "outputId": "fcc383a1-e345-4391-e53b-e7f3e919290e"
      },
      "source": [
        "#1. Create a dataframe\n",
        "df_question = pd.DataFrame({'version':[0,1],\n",
        "                            'sum_gamerounds':10})\n",
        "                            \n",
        "#2. Use the model to make predictions\n",
        "question_pred =  linear_reg_results.predict(df_question)\n",
        "\n",
        "#3. add a column to the df_question\n",
        "df_question['predicted_retention'] = question_pred\n",
        "\n",
        "#4. plot the predictions\n",
        "sns.scatterplot(data=df_question, x='version',y='predicted_retention')"
      ],
      "execution_count": 85,
      "outputs": [
        {
          "output_type": "execute_result",
          "data": {
            "text/plain": [
              "<matplotlib.axes._subplots.AxesSubplot at 0x7efe4408dbd0>"
            ]
          },
          "metadata": {
            "tags": []
          },
          "execution_count": 85
        },
        {
          "output_type": "display_data",
          "data": {
            "image/png": "[encoded data removed]",
            "text/plain": [
              "<Figure size 432x288 with 1 Axes>"
            ]
          },
          "metadata": {
            "tags": [],
            "needs_background": "light"
          }
        }
      ]
    },
    {
      "cell_type": "markdown",
      "metadata": {
        "id": "DGoQRF1C5ZOP"
      },
      "source": [
        "Try to match those predictions based on your knowledge of the linear formula (y=a+bx)"
      ]
    },
    {
      "cell_type": "code",
      "metadata": {
        "colab": {
          "base_uri": "https://localhost:8080/"
        },
        "id": "hzVj-nAL5F6g",
        "outputId": "32c34a0d-d0d7-480a-edc7-5619ff20a4e0"
      },
      "source": [
        "import scipy\n",
        "\n",
        "#the following function can be used to convert numbers on the logit scale back into the probability scale\n",
        "scipy.special.expit(0)\n",
        "\n",
        "#i.e., on the logit scale 0 is equivalent to 0.5 probability"
      ],
      "execution_count": 86,
      "outputs": [
        {
          "output_type": "execute_result",
          "data": {
            "text/plain": [
              "0.5"
            ]
          },
          "metadata": {
            "tags": []
          },
          "execution_count": 86
        }
      ]
    },
    {
      "cell_type": "code",
      "metadata": {
        "id": "zh4cX-XM6He4"
      },
      "source": [
        "#what was the intercept and slope of the line your model estimated?\n",
        "intercept = -1.4523\n",
        "b_version = -0.0802\n",
        "b_sumGame = 0.0209"
      ],
      "execution_count": 87,
      "outputs": []
    },
    {
      "cell_type": "code",
      "metadata": {
        "colab": {
          "base_uri": "https://localhost:8080/"
        },
        "id": "FzGMKz9Q50HO",
        "outputId": "5d827bc5-c428-47fa-e729-bd7daa4a8812"
      },
      "source": [
        "#probability of retention for version 0\n",
        "scipy.special.expit(intercept + b_version * 0 + b_sumGame*100)"
      ],
      "execution_count": 88,
      "outputs": [
        {
          "output_type": "execute_result",
          "data": {
            "text/plain": [
              "0.6542333575709954"
            ]
          },
          "metadata": {
            "tags": []
          },
          "execution_count": 88
        }
      ]
    },
    {
      "cell_type": "code",
      "metadata": {
        "colab": {
          "base_uri": "https://localhost:8080/"
        },
        "id": "uS3l9wxf5z-e",
        "outputId": "02dfbea5-cae5-4c71-8d00-383bac9eb558"
      },
      "source": [
        "#probability of retention for version 1\n",
        "scipy.special.expit(intercept + b_version * 1 + b_sumGame*100)"
      ],
      "execution_count": 89,
      "outputs": [
        {
          "output_type": "execute_result",
          "data": {
            "text/plain": [
              "0.6358738914270539"
            ]
          },
          "metadata": {
            "tags": []
          },
          "execution_count": 89
        }
      ]
    }
  ]
}