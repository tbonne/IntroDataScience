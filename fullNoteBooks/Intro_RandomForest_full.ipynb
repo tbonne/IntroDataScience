{
  "nbformat": 4,
  "nbformat_minor": 0,
  "metadata": {
    "colab": {
      "name": "Intro_RandomForest_full.ipynb",
      "provenance": [],
      "collapsed_sections": [],
      "authorship_tag": "ABX9TyMR4OlPAlWkbGu8831q1y21",
      "include_colab_link": true
    },
    "kernelspec": {
      "name": "python3",
      "display_name": "Python 3"
    },
    "language_info": {
      "name": "python"
    }
  },
  "cells": [
    {
      "cell_type": "markdown",
      "metadata": {
        "id": "view-in-github",
        "colab_type": "text"
      },
      "source": [
        "<a href=\"https://colab.research.google.com/github/tbonne/IntroDataScience/blob/main/fullNoteBooks/Intro_RandomForest_full.ipynb\" target=\"_parent\"><img src=\"https://colab.research.google.com/assets/colab-badge.svg\" alt=\"Open In Colab\"/></a>"
      ]
    },
    {
      "cell_type": "markdown",
      "metadata": {
        "id": "9C2arduFECBl"
      },
      "source": [
        "<img src='http://drive.google.com/uc?export=view&id=1Xa0UZixN0DKiYhSnWf6FakY7Kz3xZFI_' width=500>\n",
        "\n"
      ]
    },
    {
      "cell_type": "markdown",
      "metadata": {
        "id": "xDo_JqBMQqJM"
      },
      "source": [
        "# <font color='lightblue'>Random forests</font>"
      ]
    },
    {
      "cell_type": "markdown",
      "metadata": {
        "id": "0HwGNjO9Qt6G"
      },
      "source": [
        "Let's take a look at random forests as a way to avoid over/under fitting our model decision tree models. Here we will use this algorithm to predict who will have diabetes. "
      ]
    },
    {
      "cell_type": "markdown",
      "metadata": {
        "id": "d0x5is0FE_j9"
      },
      "source": [
        "Load in the needed libraries"
      ]
    },
    {
      "cell_type": "code",
      "metadata": {
        "id": "d-rPIThpIE3o"
      },
      "source": [
        "import sklearn as sk\n",
        "import pandas as pd\n",
        "import seaborn as sns\n",
        "import matplotlib.pyplot as plt\n",
        "from sklearn.model_selection import train_test_split\n"
      ],
      "execution_count": 1,
      "outputs": []
    },
    {
      "cell_type": "markdown",
      "metadata": {
        "id": "1z7obQJoGmr5"
      },
      "source": [
        "### <font color='lightblue'>Load the data</font>"
      ]
    },
    {
      "cell_type": "markdown",
      "metadata": {
        "id": "cwYGOotUQfqo"
      },
      "source": [
        "Get the 'wine.csv' from the class's shared data folder and load it into a dataframe."
      ]
    },
    {
      "cell_type": "code",
      "metadata": {
        "colab": {
          "base_uri": "https://localhost:8080/",
          "height": 423
        },
        "id": "NCpMYU5fQiM-",
        "outputId": "1613e88e-b9be-405d-e792-e4af61546f49"
      },
      "source": [
        "#get wine to a dataframe\n",
        "df_diab = pd.read_csv('/content/diabetes.csv')\n",
        "\n",
        "#take a look\n",
        "df_diab\n"
      ],
      "execution_count": 2,
      "outputs": [
        {
          "output_type": "execute_result",
          "data": {
            "text/html": [
              "<div>\n",
              "<style scoped>\n",
              "    .dataframe tbody tr th:only-of-type {\n",
              "        vertical-align: middle;\n",
              "    }\n",
              "\n",
              "    .dataframe tbody tr th {\n",
              "        vertical-align: top;\n",
              "    }\n",
              "\n",
              "    .dataframe thead th {\n",
              "        text-align: right;\n",
              "    }\n",
              "</style>\n",
              "<table border=\"1\" class=\"dataframe\">\n",
              "  <thead>\n",
              "    <tr style=\"text-align: right;\">\n",
              "      <th></th>\n",
              "      <th>Pregnancies</th>\n",
              "      <th>Glucose</th>\n",
              "      <th>BloodPressure</th>\n",
              "      <th>SkinThickness</th>\n",
              "      <th>Insulin</th>\n",
              "      <th>BMI</th>\n",
              "      <th>DiabetesPedigreeFunction</th>\n",
              "      <th>Age</th>\n",
              "      <th>Outcome</th>\n",
              "    </tr>\n",
              "  </thead>\n",
              "  <tbody>\n",
              "    <tr>\n",
              "      <th>0</th>\n",
              "      <td>6</td>\n",
              "      <td>148</td>\n",
              "      <td>72</td>\n",
              "      <td>35</td>\n",
              "      <td>0</td>\n",
              "      <td>33.6</td>\n",
              "      <td>0.627</td>\n",
              "      <td>50</td>\n",
              "      <td>1</td>\n",
              "    </tr>\n",
              "    <tr>\n",
              "      <th>1</th>\n",
              "      <td>1</td>\n",
              "      <td>85</td>\n",
              "      <td>66</td>\n",
              "      <td>29</td>\n",
              "      <td>0</td>\n",
              "      <td>26.6</td>\n",
              "      <td>0.351</td>\n",
              "      <td>31</td>\n",
              "      <td>0</td>\n",
              "    </tr>\n",
              "    <tr>\n",
              "      <th>2</th>\n",
              "      <td>8</td>\n",
              "      <td>183</td>\n",
              "      <td>64</td>\n",
              "      <td>0</td>\n",
              "      <td>0</td>\n",
              "      <td>23.3</td>\n",
              "      <td>0.672</td>\n",
              "      <td>32</td>\n",
              "      <td>1</td>\n",
              "    </tr>\n",
              "    <tr>\n",
              "      <th>3</th>\n",
              "      <td>1</td>\n",
              "      <td>89</td>\n",
              "      <td>66</td>\n",
              "      <td>23</td>\n",
              "      <td>94</td>\n",
              "      <td>28.1</td>\n",
              "      <td>0.167</td>\n",
              "      <td>21</td>\n",
              "      <td>0</td>\n",
              "    </tr>\n",
              "    <tr>\n",
              "      <th>4</th>\n",
              "      <td>0</td>\n",
              "      <td>137</td>\n",
              "      <td>40</td>\n",
              "      <td>35</td>\n",
              "      <td>168</td>\n",
              "      <td>43.1</td>\n",
              "      <td>2.288</td>\n",
              "      <td>33</td>\n",
              "      <td>1</td>\n",
              "    </tr>\n",
              "    <tr>\n",
              "      <th>...</th>\n",
              "      <td>...</td>\n",
              "      <td>...</td>\n",
              "      <td>...</td>\n",
              "      <td>...</td>\n",
              "      <td>...</td>\n",
              "      <td>...</td>\n",
              "      <td>...</td>\n",
              "      <td>...</td>\n",
              "      <td>...</td>\n",
              "    </tr>\n",
              "    <tr>\n",
              "      <th>763</th>\n",
              "      <td>10</td>\n",
              "      <td>101</td>\n",
              "      <td>76</td>\n",
              "      <td>48</td>\n",
              "      <td>180</td>\n",
              "      <td>32.9</td>\n",
              "      <td>0.171</td>\n",
              "      <td>63</td>\n",
              "      <td>0</td>\n",
              "    </tr>\n",
              "    <tr>\n",
              "      <th>764</th>\n",
              "      <td>2</td>\n",
              "      <td>122</td>\n",
              "      <td>70</td>\n",
              "      <td>27</td>\n",
              "      <td>0</td>\n",
              "      <td>36.8</td>\n",
              "      <td>0.340</td>\n",
              "      <td>27</td>\n",
              "      <td>0</td>\n",
              "    </tr>\n",
              "    <tr>\n",
              "      <th>765</th>\n",
              "      <td>5</td>\n",
              "      <td>121</td>\n",
              "      <td>72</td>\n",
              "      <td>23</td>\n",
              "      <td>112</td>\n",
              "      <td>26.2</td>\n",
              "      <td>0.245</td>\n",
              "      <td>30</td>\n",
              "      <td>0</td>\n",
              "    </tr>\n",
              "    <tr>\n",
              "      <th>766</th>\n",
              "      <td>1</td>\n",
              "      <td>126</td>\n",
              "      <td>60</td>\n",
              "      <td>0</td>\n",
              "      <td>0</td>\n",
              "      <td>30.1</td>\n",
              "      <td>0.349</td>\n",
              "      <td>47</td>\n",
              "      <td>1</td>\n",
              "    </tr>\n",
              "    <tr>\n",
              "      <th>767</th>\n",
              "      <td>1</td>\n",
              "      <td>93</td>\n",
              "      <td>70</td>\n",
              "      <td>31</td>\n",
              "      <td>0</td>\n",
              "      <td>30.4</td>\n",
              "      <td>0.315</td>\n",
              "      <td>23</td>\n",
              "      <td>0</td>\n",
              "    </tr>\n",
              "  </tbody>\n",
              "</table>\n",
              "<p>768 rows × 9 columns</p>\n",
              "</div>"
            ],
            "text/plain": [
              "     Pregnancies  Glucose  ...  Age  Outcome\n",
              "0              6      148  ...   50        1\n",
              "1              1       85  ...   31        0\n",
              "2              8      183  ...   32        1\n",
              "3              1       89  ...   21        0\n",
              "4              0      137  ...   33        1\n",
              "..           ...      ...  ...  ...      ...\n",
              "763           10      101  ...   63        0\n",
              "764            2      122  ...   27        0\n",
              "765            5      121  ...   30        0\n",
              "766            1      126  ...   47        1\n",
              "767            1       93  ...   23        0\n",
              "\n",
              "[768 rows x 9 columns]"
            ]
          },
          "metadata": {
            "tags": []
          },
          "execution_count": 2
        }
      ]
    },
    {
      "cell_type": "markdown",
      "metadata": {
        "id": "GTUwaLV9HdvV"
      },
      "source": [
        "<img src='http://drive.google.com/uc?export=view&id=1WC4tXGCEF-1_2LQ74gIxJAZ-GLXCwBdK' width=\"100\" align = 'left'>  "
      ]
    },
    {
      "cell_type": "markdown",
      "metadata": {
        "id": "DN6DonAlHYuX"
      },
      "source": [
        "Q: what kinds of data are we dealing with?"
      ]
    },
    {
      "cell_type": "code",
      "metadata": {
        "id": "8-4mDkjCHbsc",
        "colab": {
          "base_uri": "https://localhost:8080/"
        },
        "outputId": "b73d6225-1947-48fb-e505-66a0546f4249"
      },
      "source": [
        "df_diab.dtypes"
      ],
      "execution_count": 3,
      "outputs": [
        {
          "output_type": "execute_result",
          "data": {
            "text/plain": [
              "Pregnancies                   int64\n",
              "Glucose                       int64\n",
              "BloodPressure                 int64\n",
              "SkinThickness                 int64\n",
              "Insulin                       int64\n",
              "BMI                         float64\n",
              "DiabetesPedigreeFunction    float64\n",
              "Age                           int64\n",
              "Outcome                       int64\n",
              "dtype: object"
            ]
          },
          "metadata": {
            "tags": []
          },
          "execution_count": 3
        }
      ]
    },
    {
      "cell_type": "markdown",
      "metadata": {
        "id": "hlYmLGWeTpri"
      },
      "source": [
        "Q: are there any missing values?"
      ]
    },
    {
      "cell_type": "code",
      "metadata": {
        "id": "LN9UdxsATt8D",
        "colab": {
          "base_uri": "https://localhost:8080/"
        },
        "outputId": "1cf90879-7eb9-4abe-f25d-f587c574fa80"
      },
      "source": [
        "df_diab.isna().sum()"
      ],
      "execution_count": 4,
      "outputs": [
        {
          "output_type": "execute_result",
          "data": {
            "text/plain": [
              "Pregnancies                 0\n",
              "Glucose                     0\n",
              "BloodPressure               0\n",
              "SkinThickness               0\n",
              "Insulin                     0\n",
              "BMI                         0\n",
              "DiabetesPedigreeFunction    0\n",
              "Age                         0\n",
              "Outcome                     0\n",
              "dtype: int64"
            ]
          },
          "metadata": {
            "tags": []
          },
          "execution_count": 4
        }
      ]
    },
    {
      "cell_type": "markdown",
      "metadata": {
        "id": "nfcRG5tmRhOS"
      },
      "source": [
        "### <font color='lightblue'>Descriptive statistics</font> "
      ]
    },
    {
      "cell_type": "markdown",
      "metadata": {
        "id": "kptMv845FjpI"
      },
      "source": [
        "Let's take a little time to look at some summary statistics.\n",
        " \n",
        "E.g., how many values of outcome types there are? "
      ]
    },
    {
      "cell_type": "code",
      "metadata": {
        "colab": {
          "base_uri": "https://localhost:8080/"
        },
        "id": "nG4Am986FjTM",
        "outputId": "f6ff351d-e789-428e-ac4f-0b093277a9ad"
      },
      "source": [
        "#count how many of each value in a column using value_conunts\n",
        "df_diab.Outcome.value_counts()"
      ],
      "execution_count": 5,
      "outputs": [
        {
          "output_type": "execute_result",
          "data": {
            "text/plain": [
              "0    500\n",
              "1    268\n",
              "Name: Outcome, dtype: int64"
            ]
          },
          "metadata": {
            "tags": []
          },
          "execution_count": 5
        }
      ]
    },
    {
      "cell_type": "markdown",
      "metadata": {
        "id": "_Tr4i1cWv_Ez"
      },
      "source": [
        "What would be our accuracy if we always predicted the most common value?"
      ]
    },
    {
      "cell_type": "code",
      "metadata": {
        "colab": {
          "base_uri": "https://localhost:8080/"
        },
        "id": "KqdWFqh7wDPY",
        "outputId": "1b531c32-a648-43b4-dedc-bf963b795bb7"
      },
      "source": [
        "500/(500+268)"
      ],
      "execution_count": 6,
      "outputs": [
        {
          "output_type": "execute_result",
          "data": {
            "text/plain": [
              "0.6510416666666666"
            ]
          },
          "metadata": {
            "tags": []
          },
          "execution_count": 6
        }
      ]
    },
    {
      "cell_type": "markdown",
      "metadata": {
        "id": "dLe7t6uCGiSb"
      },
      "source": [
        "<img src='http://drive.google.com/uc?export=view&id=1WC4tXGCEF-1_2LQ74gIxJAZ-GLXCwBdK' width=\"100\" align = 'left'>  "
      ]
    },
    {
      "cell_type": "markdown",
      "metadata": {
        "id": "2-_xBgiiFyAO"
      },
      "source": [
        "Q: Choose one feature (column) and get the mean, min, and max."
      ]
    },
    {
      "cell_type": "code",
      "metadata": {
        "id": "yIYqTxojGAqj",
        "colab": {
          "base_uri": "https://localhost:8080/"
        },
        "outputId": "cb4307fa-0049-4dd2-998c-f1b3901b1bfe"
      },
      "source": [
        "print('the mean is = ',df_diab.BloodPressure.mean() ) \n",
        "print('the min is = ',df_diab.BloodPressure.min() ) \n",
        "print('the max is = ',df_diab.BloodPressure.max() ) \n"
      ],
      "execution_count": 7,
      "outputs": [
        {
          "output_type": "stream",
          "text": [
            "the mean is =  69.10546875\n",
            "the min is =  0\n",
            "the max is =  122\n"
          ],
          "name": "stdout"
        }
      ]
    },
    {
      "cell_type": "code",
      "metadata": {
        "colab": {
          "base_uri": "https://localhost:8080/",
          "height": 300
        },
        "id": "JyWnSWTatHvD",
        "outputId": "bdd70cc6-41a5-4ac5-a092-b664380db802"
      },
      "source": [
        "df_diab.describe()"
      ],
      "execution_count": 8,
      "outputs": [
        {
          "output_type": "execute_result",
          "data": {
            "text/html": [
              "<div>\n",
              "<style scoped>\n",
              "    .dataframe tbody tr th:only-of-type {\n",
              "        vertical-align: middle;\n",
              "    }\n",
              "\n",
              "    .dataframe tbody tr th {\n",
              "        vertical-align: top;\n",
              "    }\n",
              "\n",
              "    .dataframe thead th {\n",
              "        text-align: right;\n",
              "    }\n",
              "</style>\n",
              "<table border=\"1\" class=\"dataframe\">\n",
              "  <thead>\n",
              "    <tr style=\"text-align: right;\">\n",
              "      <th></th>\n",
              "      <th>Pregnancies</th>\n",
              "      <th>Glucose</th>\n",
              "      <th>BloodPressure</th>\n",
              "      <th>SkinThickness</th>\n",
              "      <th>Insulin</th>\n",
              "      <th>BMI</th>\n",
              "      <th>DiabetesPedigreeFunction</th>\n",
              "      <th>Age</th>\n",
              "      <th>Outcome</th>\n",
              "    </tr>\n",
              "  </thead>\n",
              "  <tbody>\n",
              "    <tr>\n",
              "      <th>count</th>\n",
              "      <td>768.000000</td>\n",
              "      <td>768.000000</td>\n",
              "      <td>768.000000</td>\n",
              "      <td>768.000000</td>\n",
              "      <td>768.000000</td>\n",
              "      <td>768.000000</td>\n",
              "      <td>768.000000</td>\n",
              "      <td>768.000000</td>\n",
              "      <td>768.000000</td>\n",
              "    </tr>\n",
              "    <tr>\n",
              "      <th>mean</th>\n",
              "      <td>3.845052</td>\n",
              "      <td>120.894531</td>\n",
              "      <td>69.105469</td>\n",
              "      <td>20.536458</td>\n",
              "      <td>79.799479</td>\n",
              "      <td>31.992578</td>\n",
              "      <td>0.471876</td>\n",
              "      <td>33.240885</td>\n",
              "      <td>0.348958</td>\n",
              "    </tr>\n",
              "    <tr>\n",
              "      <th>std</th>\n",
              "      <td>3.369578</td>\n",
              "      <td>31.972618</td>\n",
              "      <td>19.355807</td>\n",
              "      <td>15.952218</td>\n",
              "      <td>115.244002</td>\n",
              "      <td>7.884160</td>\n",
              "      <td>0.331329</td>\n",
              "      <td>11.760232</td>\n",
              "      <td>0.476951</td>\n",
              "    </tr>\n",
              "    <tr>\n",
              "      <th>min</th>\n",
              "      <td>0.000000</td>\n",
              "      <td>0.000000</td>\n",
              "      <td>0.000000</td>\n",
              "      <td>0.000000</td>\n",
              "      <td>0.000000</td>\n",
              "      <td>0.000000</td>\n",
              "      <td>0.078000</td>\n",
              "      <td>21.000000</td>\n",
              "      <td>0.000000</td>\n",
              "    </tr>\n",
              "    <tr>\n",
              "      <th>25%</th>\n",
              "      <td>1.000000</td>\n",
              "      <td>99.000000</td>\n",
              "      <td>62.000000</td>\n",
              "      <td>0.000000</td>\n",
              "      <td>0.000000</td>\n",
              "      <td>27.300000</td>\n",
              "      <td>0.243750</td>\n",
              "      <td>24.000000</td>\n",
              "      <td>0.000000</td>\n",
              "    </tr>\n",
              "    <tr>\n",
              "      <th>50%</th>\n",
              "      <td>3.000000</td>\n",
              "      <td>117.000000</td>\n",
              "      <td>72.000000</td>\n",
              "      <td>23.000000</td>\n",
              "      <td>30.500000</td>\n",
              "      <td>32.000000</td>\n",
              "      <td>0.372500</td>\n",
              "      <td>29.000000</td>\n",
              "      <td>0.000000</td>\n",
              "    </tr>\n",
              "    <tr>\n",
              "      <th>75%</th>\n",
              "      <td>6.000000</td>\n",
              "      <td>140.250000</td>\n",
              "      <td>80.000000</td>\n",
              "      <td>32.000000</td>\n",
              "      <td>127.250000</td>\n",
              "      <td>36.600000</td>\n",
              "      <td>0.626250</td>\n",
              "      <td>41.000000</td>\n",
              "      <td>1.000000</td>\n",
              "    </tr>\n",
              "    <tr>\n",
              "      <th>max</th>\n",
              "      <td>17.000000</td>\n",
              "      <td>199.000000</td>\n",
              "      <td>122.000000</td>\n",
              "      <td>99.000000</td>\n",
              "      <td>846.000000</td>\n",
              "      <td>67.100000</td>\n",
              "      <td>2.420000</td>\n",
              "      <td>81.000000</td>\n",
              "      <td>1.000000</td>\n",
              "    </tr>\n",
              "  </tbody>\n",
              "</table>\n",
              "</div>"
            ],
            "text/plain": [
              "       Pregnancies     Glucose  ...         Age     Outcome\n",
              "count   768.000000  768.000000  ...  768.000000  768.000000\n",
              "mean      3.845052  120.894531  ...   33.240885    0.348958\n",
              "std       3.369578   31.972618  ...   11.760232    0.476951\n",
              "min       0.000000    0.000000  ...   21.000000    0.000000\n",
              "25%       1.000000   99.000000  ...   24.000000    0.000000\n",
              "50%       3.000000  117.000000  ...   29.000000    0.000000\n",
              "75%       6.000000  140.250000  ...   41.000000    1.000000\n",
              "max      17.000000  199.000000  ...   81.000000    1.000000\n",
              "\n",
              "[8 rows x 9 columns]"
            ]
          },
          "metadata": {
            "tags": []
          },
          "execution_count": 8
        }
      ]
    },
    {
      "cell_type": "markdown",
      "metadata": {
        "id": "WsIoTD89RnSH"
      },
      "source": [
        "### <font color='lightblue'>Visualizing the data</font> "
      ]
    },
    {
      "cell_type": "markdown",
      "metadata": {
        "id": "Yi5f6tbMHLjl"
      },
      "source": [
        "Let's plot the relationships between outcome and some of the health measures.\n",
        " \n",
        "Q: Choose one or more wine measures and generate a plot that shows the relationship between that measure and plant type."
      ]
    },
    {
      "cell_type": "code",
      "metadata": {
        "id": "PP1hbowmH4zH",
        "colab": {
          "base_uri": "https://localhost:8080/",
          "height": 297
        },
        "outputId": "b5983ca3-1159-4e88-ada9-d15129a827b0"
      },
      "source": [
        "sns.scatterplot(data=df_diab, x='DiabetesPedigreeFunction', y='Outcome')"
      ],
      "execution_count": 9,
      "outputs": [
        {
          "output_type": "execute_result",
          "data": {
            "text/plain": [
              "<matplotlib.axes._subplots.AxesSubplot at 0x7fce5647fed0>"
            ]
          },
          "metadata": {
            "tags": []
          },
          "execution_count": 9
        },
        {
          "output_type": "display_data",
          "data": {
            "image/png": "[encoded data removed]",
            "text/plain": [
              "<Figure size 432x288 with 1 Axes>"
            ]
          },
          "metadata": {
            "tags": [],
            "needs_background": "light"
          }
        }
      ]
    },
    {
      "cell_type": "code",
      "metadata": {
        "colab": {
          "base_uri": "https://localhost:8080/",
          "height": 297
        },
        "id": "1TRRJdscthpG",
        "outputId": "06c74512-f742-477e-cb6a-39a83297d168"
      },
      "source": [
        "sns.violinplot(data=df_diab, y='DiabetesPedigreeFunction', x='Outcome')"
      ],
      "execution_count": 10,
      "outputs": [
        {
          "output_type": "execute_result",
          "data": {
            "text/plain": [
              "<matplotlib.axes._subplots.AxesSubplot at 0x7fce55957850>"
            ]
          },
          "metadata": {
            "tags": []
          },
          "execution_count": 10
        },
        {
          "output_type": "display_data",
          "data": {
            "image/png": "[encoded data removed]",
            "text/plain": [
              "<Figure size 432x288 with 1 Axes>"
            ]
          },
          "metadata": {
            "tags": [],
            "needs_background": "light"
          }
        }
      ]
    },
    {
      "cell_type": "markdown",
      "metadata": {
        "id": "ozz-07c9RwXe"
      },
      "source": [
        "### <font color='lightblue'>Data wrangling</font> \n",
        "\n"
      ]
    },
    {
      "cell_type": "markdown",
      "metadata": {
        "id": "1wngk9w1YMLY"
      },
      "source": [
        "Training testing split"
      ]
    },
    {
      "cell_type": "code",
      "metadata": {
        "id": "JcziOvoDYO6I"
      },
      "source": [
        "\n",
        "#split data into predictors (X) and target (y)\n",
        "X = df_diab.drop('Outcome', axis=1)\n",
        "y = df_diab['Outcome']\n",
        "\n",
        "#split these data into training and testing datasets\n",
        "X_train, X_test, y_train, y_test = train_test_split(X, y, test_size=0.20)\n"
      ],
      "execution_count": 11,
      "outputs": []
    },
    {
      "cell_type": "markdown",
      "metadata": {
        "id": "2flRXo0eR_ur"
      },
      "source": [
        "## Model building"
      ]
    },
    {
      "cell_type": "markdown",
      "metadata": {
        "id": "cekIelOqSG2B"
      },
      "source": [
        "Here we will build our first random forest model!"
      ]
    },
    {
      "cell_type": "code",
      "metadata": {
        "colab": {
          "base_uri": "https://localhost:8080/"
        },
        "id": "xWRmQuhdSH5h",
        "outputId": "48861c8b-1a50-422f-8a72-52197e99d384"
      },
      "source": [
        "from sklearn.ensemble import RandomForestClassifier\n",
        "\n",
        "#1. Build the model\n",
        "forest_classifier = RandomForestClassifier(n_estimators=1000, bootstrap=True, max_features=0.8,max_samples=0.8)\n",
        "\n",
        "#2. Fit the model to the data\n",
        "forest_classifier.fit(X_train, y_train)"
      ],
      "execution_count": 12,
      "outputs": [
        {
          "output_type": "execute_result",
          "data": {
            "text/plain": [
              "RandomForestClassifier(bootstrap=True, ccp_alpha=0.0, class_weight=None,\n",
              "                       criterion='gini', max_depth=None, max_features=0.8,\n",
              "                       max_leaf_nodes=None, max_samples=0.8,\n",
              "                       min_impurity_decrease=0.0, min_impurity_split=None,\n",
              "                       min_samples_leaf=1, min_samples_split=2,\n",
              "                       min_weight_fraction_leaf=0.0, n_estimators=1000,\n",
              "                       n_jobs=None, oob_score=False, random_state=None,\n",
              "                       verbose=0, warm_start=False)"
            ]
          },
          "metadata": {
            "tags": []
          },
          "execution_count": 12
        }
      ]
    },
    {
      "cell_type": "markdown",
      "metadata": {
        "id": "3qqm9rJiu-6u"
      },
      "source": [
        "Let's also build a decision tree model for comparison."
      ]
    },
    {
      "cell_type": "code",
      "metadata": {
        "colab": {
          "base_uri": "https://localhost:8080/"
        },
        "id": "Q-Tv-GsUvC1c",
        "outputId": "6ce9a352-8539-4ae2-f449-c4e87c3b6f29"
      },
      "source": [
        "from sklearn.tree import DecisionTreeClassifier\n",
        "\n",
        "#1. Build the model\n",
        "tree_classifier = DecisionTreeClassifier()\n",
        "\n",
        "#2. Fit the model to the data\n",
        "tree_classifier.fit(X_train, y_train)"
      ],
      "execution_count": 13,
      "outputs": [
        {
          "output_type": "execute_result",
          "data": {
            "text/plain": [
              "DecisionTreeClassifier(ccp_alpha=0.0, class_weight=None, criterion='gini',\n",
              "                       max_depth=None, max_features=None, max_leaf_nodes=None,\n",
              "                       min_impurity_decrease=0.0, min_impurity_split=None,\n",
              "                       min_samples_leaf=1, min_samples_split=2,\n",
              "                       min_weight_fraction_leaf=0.0, presort='deprecated',\n",
              "                       random_state=None, splitter='best')"
            ]
          },
          "metadata": {
            "tags": []
          },
          "execution_count": 13
        }
      ]
    },
    {
      "cell_type": "markdown",
      "metadata": {
        "id": "x1Mwjlurbeux"
      },
      "source": [
        "Make some predictions"
      ]
    },
    {
      "cell_type": "code",
      "metadata": {
        "id": "JIKo-fbPbBG7"
      },
      "source": [
        "#predictions from the forest model\n",
        "y_forest_pred = forest_classifier.predict(X_test)"
      ],
      "execution_count": 14,
      "outputs": []
    },
    {
      "cell_type": "code",
      "metadata": {
        "id": "_H6kguMZvSfF"
      },
      "source": [
        "#predictions from the tree model\n",
        "y_tree_pred = tree_classifier.predict(X_test)"
      ],
      "execution_count": 15,
      "outputs": []
    },
    {
      "cell_type": "markdown",
      "metadata": {
        "id": "DEr16lBebd6X"
      },
      "source": [
        "Measure classification success"
      ]
    },
    {
      "cell_type": "code",
      "metadata": {
        "colab": {
          "base_uri": "https://localhost:8080/"
        },
        "id": "ew9BnKJDblBY",
        "outputId": "028eb027-c163-4b62-d6be-3d67fe18cc02"
      },
      "source": [
        "from sklearn.metrics import confusion_matrix\n",
        "cm_forest = confusion_matrix(y_test, y_forest_pred)\n",
        "print(cm_forest)\n",
        "\n",
        "cm_tree = confusion_matrix(y_test, y_tree_pred)\n",
        "print(cm_forest)\n"
      ],
      "execution_count": 16,
      "outputs": [
        {
          "output_type": "stream",
          "text": [
            "[[86  7]\n",
            " [24 37]]\n",
            "[[86  7]\n",
            " [24 37]]\n"
          ],
          "name": "stdout"
        }
      ]
    },
    {
      "cell_type": "code",
      "metadata": {
        "colab": {
          "base_uri": "https://localhost:8080/",
          "height": 297
        },
        "id": "rVJQdODwcclq",
        "outputId": "cd732a91-31a2-4cfe-e3fa-1c0a2786cf94"
      },
      "source": [
        "#more visual approach\n",
        "sns.heatmap(cm_forest, annot=True)\n",
        "plt.xlabel('Predicted label')\n",
        "plt.ylabel('True label')"
      ],
      "execution_count": 17,
      "outputs": [
        {
          "output_type": "execute_result",
          "data": {
            "text/plain": [
              "Text(33.0, 0.5, 'True label')"
            ]
          },
          "metadata": {
            "tags": []
          },
          "execution_count": 17
        },
        {
          "output_type": "display_data",
          "data": {
            "image/png": "[encoded data removed]",
            "text/plain": [
              "<Figure size 432x288 with 2 Axes>"
            ]
          },
          "metadata": {
            "tags": [],
            "needs_background": "light"
          }
        }
      ]
    },
    {
      "cell_type": "markdown",
      "metadata": {
        "id": "xXdo-AEHcnQf"
      },
      "source": [
        "More detailed metrics?"
      ]
    },
    {
      "cell_type": "code",
      "metadata": {
        "colab": {
          "base_uri": "https://localhost:8080/"
        },
        "id": "bXbkeYN3cqgN",
        "outputId": "f4957cc6-192a-4c6b-9a94-6a452b58cd9d"
      },
      "source": [
        "print('Accuracy (forest): {:.2f}'.format(sk.metrics.accuracy_score(y_test, y_forest_pred)))\n",
        "print('Accuracy (tree): {:.2f}'.format(sk.metrics.accuracy_score(y_test, y_tree_pred)))\n",
        "print('Null Accuracy: {:.2f}'.format(1-(y_train.sum()/(y_train.count()))))\n"
      ],
      "execution_count": 18,
      "outputs": [
        {
          "output_type": "stream",
          "text": [
            "Accuracy (forest): 0.80\n",
            "Accuracy (tree): 0.73\n",
            "Null Accuracy: 0.66\n"
          ],
          "name": "stdout"
        }
      ]
    },
    {
      "cell_type": "code",
      "metadata": {
        "colab": {
          "base_uri": "https://localhost:8080/"
        },
        "id": "Jca32Rq8wv8Q",
        "outputId": "af39368f-9fb2-475b-f840-f5b781e136f0"
      },
      "source": [
        "print('Precision (tree): {:.2f}'.format(sk.metrics.precision_score(y_test, y_tree_pred)))\n",
        "print('Recall (tree): {:.2f}'.format(sk.metrics.recall_score(y_test, y_tree_pred)))"
      ],
      "execution_count": 19,
      "outputs": [
        {
          "output_type": "stream",
          "text": [
            "Precision (tree): 0.67\n",
            "Recall (tree): 0.61\n"
          ],
          "name": "stdout"
        }
      ]
    },
    {
      "cell_type": "markdown",
      "metadata": {
        "id": "7hyZXZE4d0VM"
      },
      "source": [
        "<img src='http://drive.google.com/uc?export=view&id=1qWrKY9TgpgQaBCzZfz1xLTV6iCeSwfmG' width=\"100\" align = 'left'>"
      ]
    },
    {
      "cell_type": "markdown",
      "metadata": {
        "id": "bKfJGA5V1scP"
      },
      "source": [
        "### <font color='lightblue'>Hyperparameter tuning</font>"
      ]
    },
    {
      "cell_type": "markdown",
      "metadata": {
        "id": "xyOD7ZsC12B7"
      },
      "source": [
        "Above we used the default values for how much randomness to include while builing our trees for the random forest. Let's look at how we can use k-fold cross validation to help us choose how much randomness to use when building these trees!"
      ]
    },
    {
      "cell_type": "markdown",
      "metadata": {
        "id": "UHDRS-2eve5y"
      },
      "source": [
        "One hyperparameter:"
      ]
    },
    {
      "cell_type": "code",
      "metadata": {
        "colab": {
          "base_uri": "https://localhost:8080/"
        },
        "id": "iVRGUvjH1r8u",
        "outputId": "c6188acd-f5f7-4fda-f734-f1d068d9c3a0"
      },
      "source": [
        "from sklearn.model_selection import cross_val_score\n",
        "\n",
        "number_of_trees = [50, 100, 150, 200, 250, 300, 350]\n",
        "\n",
        "for val in number_of_trees:\n",
        "  scores = cross_val_score(RandomForestClassifier(n_estimators=val), X_train, y_train, cv=5, scoring='accuracy')\n",
        "  print(scores.mean())"
      ],
      "execution_count": 20,
      "outputs": [
        {
          "output_type": "stream",
          "text": [
            "0.7508063441290151\n",
            "0.7556977209116353\n",
            "0.7524057043849128\n",
            "0.7491669998667201\n",
            "0.7572837531654004\n",
            "0.7573104091696654\n",
            "0.7589364254298281\n"
          ],
          "name": "stdout"
        }
      ]
    },
    {
      "cell_type": "markdown",
      "metadata": {
        "id": "JEVhNgo2veU4"
      },
      "source": [
        "Many hyperparameters:"
      ]
    },
    {
      "cell_type": "code",
      "metadata": {
        "colab": {
          "base_uri": "https://localhost:8080/"
        },
        "id": "D2RjbQGtufbv",
        "outputId": "5134749a-dfec-41f2-b583-260909e317dd"
      },
      "source": [
        "from sklearn.model_selection import GridSearchCV\n",
        "\n",
        "#define what parameters and what values to vary\n",
        "parameters = {'max_features': [0.5,0.7,0.9,1.0],\n",
        "              'n_estimators':list(range(50,200,50)),\n",
        "              'max_samples':[0.5,0.7,0.9,0.99] }\n",
        "\n",
        "#build the grid search algorithm\n",
        "grid_search = GridSearchCV(RandomForestClassifier(), parameters, cv=5, scoring='accuracy') #strattified cross validation when traget is binary or multiclass\n",
        "\n",
        "#Use training data to perform the nfold cross validation\n",
        "grid_search.fit(X_train, y_train)\n",
        "\n",
        "#find the best hyperparameters\n",
        "print(grid_search.best_params_)\n",
        "grid_search.best_score_"
      ],
      "execution_count": 21,
      "outputs": [
        {
          "output_type": "stream",
          "text": [
            "{'max_features': 0.5, 'max_samples': 0.99, 'n_estimators': 100}\n"
          ],
          "name": "stdout"
        },
        {
          "output_type": "execute_result",
          "data": {
            "text/plain": [
              "0.7702785552445689"
            ]
          },
          "metadata": {
            "tags": []
          },
          "execution_count": 21
        }
      ]
    },
    {
      "cell_type": "markdown",
      "metadata": {
        "id": "4DsVBg1sdCRH"
      },
      "source": [
        "<img src='http://drive.google.com/uc?export=view&id=1WC4tXGCEF-1_2LQ74gIxJAZ-GLXCwBdK' width=\"100\" align = 'left'>  "
      ]
    },
    {
      "cell_type": "markdown",
      "metadata": {
        "id": "-fEGDNTc83fQ"
      },
      "source": [
        "We can see that this quickly becomes time consuming to run. There are many algorithms out there to help tune your models. They generally break down into exhaustive grid searches, vs random searches. But this is an active feild that is growing all the time. "
      ]
    },
    {
      "cell_type": "markdown",
      "metadata": {
        "id": "3giY46R8-xqy"
      },
      "source": [
        "Now that we've tuned our random forest model let's see if we can beat the default model that we fit! "
      ]
    },
    {
      "cell_type": "code",
      "metadata": {
        "colab": {
          "base_uri": "https://localhost:8080/"
        },
        "id": "w-7pDJcy_g3a",
        "outputId": "6f61accc-97e5-459e-be4a-50cff7d844ce"
      },
      "source": [
        "#1. build an optimized model\n",
        "forest_classifier_opt = RandomForestClassifier(n_estimators=150,max_samples=0.5, max_features=1)\n",
        "\n",
        "#2. Fit the model to the data\n",
        "forest_classifier_opt.fit(X_train, y_train)\n",
        "\n",
        "#3. make predictions\n",
        "y_forest_pred_opt = forest_classifier_opt.predict(X_test)\n",
        "\n",
        "#Measure accuracy\n",
        "print('Accuracy: {:.2f}'.format(sk.metrics.accuracy_score(y_test, y_forest_pred_opt)))\n",
        "print('Precision : {:.2f}'.format(sk.metrics.precision_score(y_test, y_forest_pred_opt)))\n",
        "print('Recall : {:.2f}'.format(sk.metrics.recall_score(y_test, y_forest_pred_opt)))"
      ],
      "execution_count": 22,
      "outputs": [
        {
          "output_type": "stream",
          "text": [
            "Accuracy: 0.81\n",
            "Precision : 0.84\n",
            "Recall : 0.62\n"
          ],
          "name": "stdout"
        }
      ]
    },
    {
      "cell_type": "code",
      "metadata": {
        "colab": {
          "base_uri": "https://localhost:8080/",
          "height": 297
        },
        "id": "f0AZ1ESewgvu",
        "outputId": "0138cd3b-464b-4bd7-9384-24181fd2a275"
      },
      "source": [
        "#calculate a confusion matrix\n",
        "cm_forest_opt = confusion_matrix(y_test, y_forest_pred_opt)\n",
        "\n",
        "#Plot the confusion matrix\n",
        "sns.heatmap(cm_forest_opt, annot=True)\n",
        "plt.xlabel('Predicted label')\n",
        "plt.ylabel('True label')"
      ],
      "execution_count": 23,
      "outputs": [
        {
          "output_type": "execute_result",
          "data": {
            "text/plain": [
              "Text(33.0, 0.5, 'True label')"
            ]
          },
          "metadata": {
            "tags": []
          },
          "execution_count": 23
        },
        {
          "output_type": "display_data",
          "data": {
            "image/png": "[encoded data removed]",
            "text/plain": [
              "<Figure size 432x288 with 2 Axes>"
            ]
          },
          "metadata": {
            "tags": [],
            "needs_background": "light"
          }
        }
      ]
    },
    {
      "cell_type": "markdown",
      "metadata": {
        "id": "3XX3TBEGAV2z"
      },
      "source": [
        "Did your optimized model beat the default one?"
      ]
    },
    {
      "cell_type": "markdown",
      "metadata": {
        "id": "6bGe3ihU9Rzk"
      },
      "source": [
        "### <font color='lightblue'>Bonus</font>"
      ]
    },
    {
      "cell_type": "code",
      "metadata": {
        "id": "FUEujBl09hM3"
      },
      "source": [
        "#Try adding other hyperparameters, how much better can you make the model by tuning?\n",
        "#e.g., min_samples_split (how many points in a node are required to allow a split)\n",
        "#e.g., max_depth (max depth of each tree)"
      ],
      "execution_count": 24,
      "outputs": []
    },
    {
      "cell_type": "markdown",
      "metadata": {
        "id": "jAtLBkSi8SlD"
      },
      "source": [
        "<img src='http://drive.google.com/uc?export=view&id=1qWrKY9TgpgQaBCzZfz1xLTV6iCeSwfmG' width=\"100\" align = 'left'>"
      ]
    },
    {
      "cell_type": "markdown",
      "metadata": {
        "id": "0nsw2I5da-tH"
      },
      "source": [
        "### <font color='lightblue'>Model interpretation</font>"
      ]
    },
    {
      "cell_type": "markdown",
      "metadata": {
        "id": "wuVYJCI9uVNr"
      },
      "source": [
        "Random forests are collections of many decision trees. This makes it a little more difficult to interpret how the predictions are being made, as there can be 1000s of individual trees.\n",
        "> Let's look at how to use feature importance to evaluate what is being used by the model to make predictions.\n"
      ]
    },
    {
      "cell_type": "code",
      "metadata": {
        "colab": {
          "base_uri": "https://localhost:8080/",
          "height": 300
        },
        "id": "qsSw9xV1uoxA",
        "outputId": "06ffe703-12f3-4a17-c6ba-9a7f6a42bf41"
      },
      "source": [
        "from sklearn.inspection import permutation_importance\n",
        "\n",
        "#use permutation importance\n",
        "perm_result = permutation_importance(forest_classifier_opt, X=X_test, y=y_test, scoring='accuracy', n_repeats=30)\n",
        "\n",
        "#place values into a dataframe\n",
        "forest_importances = pd.DataFrame({'variable':X_test.columns,'impo':perm_result.importances_mean.round(4), \"sd\":perm_result.importances_std.round(4)})\n",
        "\n",
        "#sort the dataframe\n",
        "forest_importances.sort_values(by='impo', ascending=False)"
      ],
      "execution_count": 25,
      "outputs": [
        {
          "output_type": "execute_result",
          "data": {
            "text/html": [
              "<div>\n",
              "<style scoped>\n",
              "    .dataframe tbody tr th:only-of-type {\n",
              "        vertical-align: middle;\n",
              "    }\n",
              "\n",
              "    .dataframe tbody tr th {\n",
              "        vertical-align: top;\n",
              "    }\n",
              "\n",
              "    .dataframe thead th {\n",
              "        text-align: right;\n",
              "    }\n",
              "</style>\n",
              "<table border=\"1\" class=\"dataframe\">\n",
              "  <thead>\n",
              "    <tr style=\"text-align: right;\">\n",
              "      <th></th>\n",
              "      <th>variable</th>\n",
              "      <th>impo</th>\n",
              "      <th>sd</th>\n",
              "    </tr>\n",
              "  </thead>\n",
              "  <tbody>\n",
              "    <tr>\n",
              "      <th>1</th>\n",
              "      <td>Glucose</td>\n",
              "      <td>0.1234</td>\n",
              "      <td>0.0233</td>\n",
              "    </tr>\n",
              "    <tr>\n",
              "      <th>5</th>\n",
              "      <td>BMI</td>\n",
              "      <td>0.0790</td>\n",
              "      <td>0.0211</td>\n",
              "    </tr>\n",
              "    <tr>\n",
              "      <th>7</th>\n",
              "      <td>Age</td>\n",
              "      <td>0.0431</td>\n",
              "      <td>0.0145</td>\n",
              "    </tr>\n",
              "    <tr>\n",
              "      <th>4</th>\n",
              "      <td>Insulin</td>\n",
              "      <td>0.0323</td>\n",
              "      <td>0.0135</td>\n",
              "    </tr>\n",
              "    <tr>\n",
              "      <th>3</th>\n",
              "      <td>SkinThickness</td>\n",
              "      <td>0.0284</td>\n",
              "      <td>0.0131</td>\n",
              "    </tr>\n",
              "    <tr>\n",
              "      <th>6</th>\n",
              "      <td>DiabetesPedigreeFunction</td>\n",
              "      <td>0.0214</td>\n",
              "      <td>0.0139</td>\n",
              "    </tr>\n",
              "    <tr>\n",
              "      <th>0</th>\n",
              "      <td>Pregnancies</td>\n",
              "      <td>0.0173</td>\n",
              "      <td>0.0108</td>\n",
              "    </tr>\n",
              "    <tr>\n",
              "      <th>2</th>\n",
              "      <td>BloodPressure</td>\n",
              "      <td>0.0017</td>\n",
              "      <td>0.0102</td>\n",
              "    </tr>\n",
              "  </tbody>\n",
              "</table>\n",
              "</div>"
            ],
            "text/plain": [
              "                   variable    impo      sd\n",
              "1                   Glucose  0.1234  0.0233\n",
              "5                       BMI  0.0790  0.0211\n",
              "7                       Age  0.0431  0.0145\n",
              "4                   Insulin  0.0323  0.0135\n",
              "3             SkinThickness  0.0284  0.0131\n",
              "6  DiabetesPedigreeFunction  0.0214  0.0139\n",
              "0               Pregnancies  0.0173  0.0108\n",
              "2             BloodPressure  0.0017  0.0102"
            ]
          },
          "metadata": {
            "tags": []
          },
          "execution_count": 25
        }
      ]
    },
    {
      "cell_type": "code",
      "metadata": {
        "colab": {
          "base_uri": "https://localhost:8080/",
          "height": 413
        },
        "id": "S2Nt5sxD0nhW",
        "outputId": "e5b39786-0464-41a2-86d6-d601d21c9ace"
      },
      "source": [
        "#plot the importance\n",
        "sns.barplot(data=forest_importances, x='variable',y='impo')\n",
        "plt.xticks(rotation=70)"
      ],
      "execution_count": 26,
      "outputs": [
        {
          "output_type": "execute_result",
          "data": {
            "text/plain": [
              "(array([0, 1, 2, 3, 4, 5, 6, 7]), <a list of 8 Text major ticklabel objects>)"
            ]
          },
          "metadata": {
            "tags": []
          },
          "execution_count": 26
        },
        {
          "output_type": "display_data",
          "data": {
            "image/png": "[encoded data removed]",
            "text/plain": [
              "<Figure size 432x288 with 1 Axes>"
            ]
          },
          "metadata": {
            "tags": [],
            "needs_background": "light"
          }
        }
      ]
    },
    {
      "cell_type": "code",
      "metadata": {
        "colab": {
          "base_uri": "https://localhost:8080/",
          "height": 297
        },
        "id": "0rUKMEaMyxQP",
        "outputId": "90089e5a-9ed0-4b23-bc73-4511f5a52811"
      },
      "source": [
        "#plot the importance (switch axis to display labels better?)\n",
        "sns.barplot(data=forest_importances, y='variable',x='impo')\n"
      ],
      "execution_count": 27,
      "outputs": [
        {
          "output_type": "execute_result",
          "data": {
            "text/plain": [
              "<matplotlib.axes._subplots.AxesSubplot at 0x7fce463b70d0>"
            ]
          },
          "metadata": {
            "tags": []
          },
          "execution_count": 27
        },
        {
          "output_type": "display_data",
          "data": {
            "image/png": "[encoded data removed]",
            "text/plain": [
              "<Figure size 432x288 with 1 Axes>"
            ]
          },
          "metadata": {
            "tags": [],
            "needs_background": "light"
          }
        }
      ]
    },
    {
      "cell_type": "markdown",
      "metadata": {
        "id": "5Z2I7aMSxtwy"
      },
      "source": [
        "### <font color='lightblue'>Model Application</font>"
      ]
    },
    {
      "cell_type": "markdown",
      "metadata": {
        "id": "_IpbBZLvxx8J"
      },
      "source": [
        "Let's apply what we learnt about random forests to other datasets. "
      ]
    },
    {
      "cell_type": "code",
      "metadata": {
        "id": "u_Tzi4kAx9aF"
      },
      "source": [
        "#load dataset!"
      ],
      "execution_count": 28,
      "outputs": []
    }
  ]
}