{
  "nbformat": 4,
  "nbformat_minor": 0,
  "metadata": {
    "colab": {
      "name": "IntroModeling1_LinearReg_Full.ipynb",
      "provenance": [],
      "collapsed_sections": [],
      "authorship_tag": "ABX9TyOHQs7xUs2aLPKTwvsR4XlF",
      "include_colab_link": true
    },
    "kernelspec": {
      "name": "python3",
      "display_name": "Python 3"
    }
  },
  "cells": [
    {
      "cell_type": "markdown",
      "metadata": {
        "id": "view-in-github",
        "colab_type": "text"
      },
      "source": [
        "<a href=\"https://colab.research.google.com/github/tbonne/IntroDataScience/blob/main/fullNoteBooks/IntroModeling1_LinearReg_Full.ipynb\" target=\"_parent\"><img src=\"https://colab.research.google.com/assets/colab-badge.svg\" alt=\"Open In Colab\"/></a>"
      ]
    },
    {
      "cell_type": "markdown",
      "metadata": {
        "id": "TrWSETZ3NmJs"
      },
      "source": [
        "<img src='http://drive.google.com/uc?export=view&id=1L4qAFCwXR9S6RHVzdOc7PhL7-B3yW-Jb' width=\"300\" align = 'left'>  "
      ]
    },
    {
      "cell_type": "markdown",
      "metadata": {
        "id": "4VTsxBzT7tAb"
      },
      "source": [
        "#<font color='lightblue'>Linear regression</font>"
      ]
    },
    {
      "cell_type": "markdown",
      "metadata": {
        "id": "03s3L0-C8Zxr"
      },
      "source": [
        "In previous classes we have used exploritory approaches to visualize and quantify relationships between variables. Now we will use linear regression to start to build models that can make predictions based on these relationships. "
      ]
    },
    {
      "cell_type": "markdown",
      "metadata": {
        "id": "TF0wODYsSb22"
      },
      "source": [
        "Import the needed libraries"
      ]
    },
    {
      "cell_type": "code",
      "metadata": {
        "id": "ABe6f2_V7X3h",
        "colab": {
          "base_uri": "https://localhost:8080/"
        },
        "outputId": "a782d01a-143d-4d9e-9835-3e013ca6c0a5"
      },
      "source": [
        "import sklearn as sk\n",
        "import pandas as pd\n",
        "import seaborn as sns\n",
        "import matplotlib.pyplot as plt\n",
        "\n",
        "import statsmodels.api as sm #for running regression!\n",
        "import statsmodels.formula.api as smf\n"
      ],
      "execution_count": 1,
      "outputs": [
        {
          "output_type": "stream",
          "text": [
            "/usr/local/lib/python3.7/dist-packages/statsmodels/tools/_testing.py:19: FutureWarning: pandas.util.testing is deprecated. Use the functions in the public API at pandas.testing instead.\n",
            "  import pandas.util.testing as tm\n"
          ],
          "name": "stderr"
        }
      ]
    },
    {
      "cell_type": "markdown",
      "metadata": {
        "id": "wJHjdshLGGyI"
      },
      "source": [
        "### <font color='lightblue'>Load the data</font>"
      ]
    },
    {
      "cell_type": "markdown",
      "metadata": {
        "id": "vUf5CUjMTCgH"
      },
      "source": [
        "Download the 'bostonHouses.csv' from the class's [shared data folder](https://drive.google.com/drive/folders/1s2Civxvys_SR1sFF7D2ept1GSmFbICQb?usp=sharing) and load it into a dataframe.\n",
        "> Note: one way to get the data in, is just to drag and drop the csv file into the files tab on the left. However, using this method means that when we leave our session the data will be removed (i.e., it isn't on your gdrive)."
      ]
    },
    {
      "cell_type": "code",
      "metadata": {
        "id": "F_73fyteS9gX"
      },
      "source": [
        "df_boston = pd.read_csv('/content/bostonHouses.csv')"
      ],
      "execution_count": 2,
      "outputs": []
    },
    {
      "cell_type": "markdown",
      "metadata": {
        "id": "k3DKADFdU0re"
      },
      "source": [
        "<img src='http://drive.google.com/uc?export=view&id=1WC4tXGCEF-1_2LQ74gIxJAZ-GLXCwBdK' width=\"100\" align = 'left'>  "
      ]
    },
    {
      "cell_type": "markdown",
      "metadata": {
        "id": "E-eSiYP3HOlx"
      },
      "source": [
        "Q: What kinds of data do you have?\n"
      ]
    },
    {
      "cell_type": "code",
      "metadata": {
        "id": "3YbSSBjNHWun",
        "colab": {
          "base_uri": "https://localhost:8080/"
        },
        "outputId": "1a611e5b-097f-48b2-da23-d588970037a2"
      },
      "source": [
        "df_boston.dtypes"
      ],
      "execution_count": 3,
      "outputs": [
        {
          "output_type": "execute_result",
          "data": {
            "text/plain": [
              "CRIM       float64\n",
              "ZN         float64\n",
              "INDUS      float64\n",
              "CHAS         int64\n",
              "NOX        float64\n",
              "RM         float64\n",
              "AGE        float64\n",
              "DIS        float64\n",
              "RAD          int64\n",
              "TAX          int64\n",
              "PTRATIO    float64\n",
              "B          float64\n",
              "LSTAT      float64\n",
              "price      float64\n",
              "dtype: object"
            ]
          },
          "metadata": {
            "tags": []
          },
          "execution_count": 3
        }
      ]
    },
    {
      "cell_type": "markdown",
      "metadata": {
        "id": "4JTcOqxPHXZh"
      },
      "source": [
        "Q: Are there missing values anywhere?"
      ]
    },
    {
      "cell_type": "code",
      "metadata": {
        "id": "6hmyJub7HX6h",
        "colab": {
          "base_uri": "https://localhost:8080/"
        },
        "outputId": "3f14340a-8cba-4e5c-a242-a3feee05bf14"
      },
      "source": [
        "df_boston.isna().sum()"
      ],
      "execution_count": 4,
      "outputs": [
        {
          "output_type": "execute_result",
          "data": {
            "text/plain": [
              "CRIM       0\n",
              "ZN         0\n",
              "INDUS      0\n",
              "CHAS       0\n",
              "NOX        0\n",
              "RM         0\n",
              "AGE        0\n",
              "DIS        0\n",
              "RAD        0\n",
              "TAX        0\n",
              "PTRATIO    0\n",
              "B          0\n",
              "LSTAT      0\n",
              "price      0\n",
              "dtype: int64"
            ]
          },
          "metadata": {
            "tags": []
          },
          "execution_count": 4
        }
      ]
    },
    {
      "cell_type": "markdown",
      "metadata": {
        "id": "IRu_wGLKG5qK"
      },
      "source": [
        "### <font color='lightblue'>Visualize and Explore</font>"
      ]
    },
    {
      "cell_type": "markdown",
      "metadata": {
        "id": "Z-XsLsMQVJBE"
      },
      "source": [
        "<img src='http://drive.google.com/uc?export=view&id=1WC4tXGCEF-1_2LQ74gIxJAZ-GLXCwBdK' width=\"100\" align = 'left'>  "
      ]
    },
    {
      "cell_type": "markdown",
      "metadata": {
        "id": "g87llbBEG-J4"
      },
      "source": [
        "Plot the house prices on the y-axis, with some other variables on the x-axis.\n",
        "> Generally the value we are trying to predict is called the response variable, while the values we are using to make those predictions are the predictor variables."
      ]
    },
    {
      "cell_type": "code",
      "metadata": {
        "id": "STIJY6mXGGh3",
        "colab": {
          "base_uri": "https://localhost:8080/",
          "height": 297
        },
        "outputId": "026ea125-00cd-4786-96cf-12dc5d9d2547"
      },
      "source": [
        "sns.scatterplot(data=df_boston, x=\"RM\",y=\"price\")"
      ],
      "execution_count": 17,
      "outputs": [
        {
          "output_type": "execute_result",
          "data": {
            "text/plain": [
              "<matplotlib.axes._subplots.AxesSubplot at 0x7f7c1e76a410>"
            ]
          },
          "metadata": {
            "tags": []
          },
          "execution_count": 17
        },
        {
          "output_type": "display_data",
          "data": {
            "image/png": "[encoded data removed]",
            "text/plain": [
              "<Figure size 432x288 with 1 Axes>"
            ]
          },
          "metadata": {
            "tags": [],
            "needs_background": "light"
          }
        }
      ]
    },
    {
      "cell_type": "markdown",
      "metadata": {
        "id": "kBlzvYeAHb_p"
      },
      "source": [
        "Create a heat map to help you identify potentially interesting relationships."
      ]
    },
    {
      "cell_type": "code",
      "metadata": {
        "id": "gIxHKp43JMzO",
        "colab": {
          "base_uri": "https://localhost:8080/",
          "height": 319
        },
        "outputId": "01aa86a2-02fd-4550-8bd4-b1d4008ac85a"
      },
      "source": [
        "df_boston_corr = df_boston.corr()\n",
        "sns.heatmap(data=df_boston_corr)"
      ],
      "execution_count": 18,
      "outputs": [
        {
          "output_type": "execute_result",
          "data": {
            "text/plain": [
              "<matplotlib.axes._subplots.AxesSubplot at 0x7f7c1e666790>"
            ]
          },
          "metadata": {
            "tags": []
          },
          "execution_count": 18
        },
        {
          "output_type": "display_data",
          "data": {
            "image/png": "[encoded data removed]",
            "text/plain": [
              "<Figure size 432x288 with 2 Axes>"
            ]
          },
          "metadata": {
            "tags": [],
            "needs_background": "light"
          }
        }
      ]
    },
    {
      "cell_type": "markdown",
      "metadata": {
        "id": "d5JdBUC5HlCl"
      },
      "source": [
        "### <font color='lightblue'>Build and train a model </font>"
      ]
    },
    {
      "cell_type": "markdown",
      "metadata": {
        "id": "6Pvddzu_V9Ym"
      },
      "source": [
        "Let's look at building our first model -- linear regression! \n",
        "> Can how well can we predict the price of a house based on the proportion of large lots in the area (i.e., the ZN value)?"
      ]
    },
    {
      "cell_type": "code",
      "metadata": {
        "id": "jySJe9bGV8lf"
      },
      "source": [
        "#1. Build the model\n",
        "linear_reg_model = smf.ols(formula='price ~ RM', data=df_boston)\n",
        "\n",
        "#2. Use the data to fit the model (i.e., find the best intercept and slope parameters)\n",
        "linear_reg_results = linear_reg_model.fit()\n",
        "\n",
        "#3. make predictions using the model\n",
        "df_boston['price_pred'] = linear_reg_results.predict(df_boston)"
      ],
      "execution_count": 19,
      "outputs": []
    },
    {
      "cell_type": "markdown",
      "metadata": {
        "id": "U8It3FHqX4x1"
      },
      "source": [
        "Let's take a look at the predictions!"
      ]
    },
    {
      "cell_type": "code",
      "metadata": {
        "id": "BzbR3ZSHX9KL",
        "colab": {
          "base_uri": "https://localhost:8080/",
          "height": 423
        },
        "outputId": "148939b8-4050-4a42-8466-688ceb90fece"
      },
      "source": [
        "df_boston"
      ],
      "execution_count": 20,
      "outputs": [
        {
          "output_type": "execute_result",
          "data": {
            "text/html": [
              "<div>\n",
              "<style scoped>\n",
              "    .dataframe tbody tr th:only-of-type {\n",
              "        vertical-align: middle;\n",
              "    }\n",
              "\n",
              "    .dataframe tbody tr th {\n",
              "        vertical-align: top;\n",
              "    }\n",
              "\n",
              "    .dataframe thead th {\n",
              "        text-align: right;\n",
              "    }\n",
              "</style>\n",
              "<table border=\"1\" class=\"dataframe\">\n",
              "  <thead>\n",
              "    <tr style=\"text-align: right;\">\n",
              "      <th></th>\n",
              "      <th>CRIM</th>\n",
              "      <th>ZN</th>\n",
              "      <th>INDUS</th>\n",
              "      <th>CHAS</th>\n",
              "      <th>NOX</th>\n",
              "      <th>RM</th>\n",
              "      <th>AGE</th>\n",
              "      <th>DIS</th>\n",
              "      <th>RAD</th>\n",
              "      <th>TAX</th>\n",
              "      <th>PTRATIO</th>\n",
              "      <th>B</th>\n",
              "      <th>LSTAT</th>\n",
              "      <th>price</th>\n",
              "      <th>price_pred</th>\n",
              "    </tr>\n",
              "  </thead>\n",
              "  <tbody>\n",
              "    <tr>\n",
              "      <th>0</th>\n",
              "      <td>0.00632</td>\n",
              "      <td>18.0</td>\n",
              "      <td>2.31</td>\n",
              "      <td>0</td>\n",
              "      <td>0.538</td>\n",
              "      <td>6.575</td>\n",
              "      <td>65.2</td>\n",
              "      <td>4.0900</td>\n",
              "      <td>1</td>\n",
              "      <td>296</td>\n",
              "      <td>15.3</td>\n",
              "      <td>396.90</td>\n",
              "      <td>4.98</td>\n",
              "      <td>24.0</td>\n",
              "      <td>25.175746</td>\n",
              "    </tr>\n",
              "    <tr>\n",
              "      <th>1</th>\n",
              "      <td>0.02731</td>\n",
              "      <td>0.0</td>\n",
              "      <td>7.07</td>\n",
              "      <td>0</td>\n",
              "      <td>0.469</td>\n",
              "      <td>6.421</td>\n",
              "      <td>78.9</td>\n",
              "      <td>4.9671</td>\n",
              "      <td>2</td>\n",
              "      <td>242</td>\n",
              "      <td>17.8</td>\n",
              "      <td>396.90</td>\n",
              "      <td>9.14</td>\n",
              "      <td>21.6</td>\n",
              "      <td>23.774021</td>\n",
              "    </tr>\n",
              "    <tr>\n",
              "      <th>2</th>\n",
              "      <td>0.02729</td>\n",
              "      <td>0.0</td>\n",
              "      <td>7.07</td>\n",
              "      <td>0</td>\n",
              "      <td>0.469</td>\n",
              "      <td>7.185</td>\n",
              "      <td>61.1</td>\n",
              "      <td>4.9671</td>\n",
              "      <td>2</td>\n",
              "      <td>242</td>\n",
              "      <td>17.8</td>\n",
              "      <td>392.83</td>\n",
              "      <td>4.03</td>\n",
              "      <td>34.7</td>\n",
              "      <td>30.728032</td>\n",
              "    </tr>\n",
              "    <tr>\n",
              "      <th>3</th>\n",
              "      <td>0.03237</td>\n",
              "      <td>0.0</td>\n",
              "      <td>2.18</td>\n",
              "      <td>0</td>\n",
              "      <td>0.458</td>\n",
              "      <td>6.998</td>\n",
              "      <td>45.8</td>\n",
              "      <td>6.0622</td>\n",
              "      <td>3</td>\n",
              "      <td>222</td>\n",
              "      <td>18.7</td>\n",
              "      <td>394.63</td>\n",
              "      <td>2.94</td>\n",
              "      <td>33.4</td>\n",
              "      <td>29.025938</td>\n",
              "    </tr>\n",
              "    <tr>\n",
              "      <th>4</th>\n",
              "      <td>0.06905</td>\n",
              "      <td>0.0</td>\n",
              "      <td>2.18</td>\n",
              "      <td>0</td>\n",
              "      <td>0.458</td>\n",
              "      <td>7.147</td>\n",
              "      <td>54.2</td>\n",
              "      <td>6.0622</td>\n",
              "      <td>3</td>\n",
              "      <td>222</td>\n",
              "      <td>18.7</td>\n",
              "      <td>396.90</td>\n",
              "      <td>5.33</td>\n",
              "      <td>36.2</td>\n",
              "      <td>30.382152</td>\n",
              "    </tr>\n",
              "    <tr>\n",
              "      <th>...</th>\n",
              "      <td>...</td>\n",
              "      <td>...</td>\n",
              "      <td>...</td>\n",
              "      <td>...</td>\n",
              "      <td>...</td>\n",
              "      <td>...</td>\n",
              "      <td>...</td>\n",
              "      <td>...</td>\n",
              "      <td>...</td>\n",
              "      <td>...</td>\n",
              "      <td>...</td>\n",
              "      <td>...</td>\n",
              "      <td>...</td>\n",
              "      <td>...</td>\n",
              "      <td>...</td>\n",
              "    </tr>\n",
              "    <tr>\n",
              "      <th>501</th>\n",
              "      <td>0.06263</td>\n",
              "      <td>0.0</td>\n",
              "      <td>11.93</td>\n",
              "      <td>0</td>\n",
              "      <td>0.573</td>\n",
              "      <td>6.593</td>\n",
              "      <td>69.1</td>\n",
              "      <td>2.4786</td>\n",
              "      <td>1</td>\n",
              "      <td>273</td>\n",
              "      <td>21.0</td>\n",
              "      <td>391.99</td>\n",
              "      <td>9.67</td>\n",
              "      <td>22.4</td>\n",
              "      <td>25.339584</td>\n",
              "    </tr>\n",
              "    <tr>\n",
              "      <th>502</th>\n",
              "      <td>0.04527</td>\n",
              "      <td>0.0</td>\n",
              "      <td>11.93</td>\n",
              "      <td>0</td>\n",
              "      <td>0.573</td>\n",
              "      <td>6.120</td>\n",
              "      <td>76.7</td>\n",
              "      <td>2.2875</td>\n",
              "      <td>1</td>\n",
              "      <td>273</td>\n",
              "      <td>21.0</td>\n",
              "      <td>396.90</td>\n",
              "      <td>9.08</td>\n",
              "      <td>20.6</td>\n",
              "      <td>21.034286</td>\n",
              "    </tr>\n",
              "    <tr>\n",
              "      <th>503</th>\n",
              "      <td>0.06076</td>\n",
              "      <td>0.0</td>\n",
              "      <td>11.93</td>\n",
              "      <td>0</td>\n",
              "      <td>0.573</td>\n",
              "      <td>6.976</td>\n",
              "      <td>91.0</td>\n",
              "      <td>2.1675</td>\n",
              "      <td>1</td>\n",
              "      <td>273</td>\n",
              "      <td>21.0</td>\n",
              "      <td>396.90</td>\n",
              "      <td>5.64</td>\n",
              "      <td>23.9</td>\n",
              "      <td>28.825691</td>\n",
              "    </tr>\n",
              "    <tr>\n",
              "      <th>504</th>\n",
              "      <td>0.10959</td>\n",
              "      <td>0.0</td>\n",
              "      <td>11.93</td>\n",
              "      <td>0</td>\n",
              "      <td>0.573</td>\n",
              "      <td>6.794</td>\n",
              "      <td>89.3</td>\n",
              "      <td>2.3889</td>\n",
              "      <td>1</td>\n",
              "      <td>273</td>\n",
              "      <td>21.0</td>\n",
              "      <td>393.45</td>\n",
              "      <td>6.48</td>\n",
              "      <td>22.0</td>\n",
              "      <td>27.169108</td>\n",
              "    </tr>\n",
              "    <tr>\n",
              "      <th>505</th>\n",
              "      <td>0.04741</td>\n",
              "      <td>0.0</td>\n",
              "      <td>11.93</td>\n",
              "      <td>0</td>\n",
              "      <td>0.573</td>\n",
              "      <td>6.030</td>\n",
              "      <td>80.8</td>\n",
              "      <td>2.5050</td>\n",
              "      <td>1</td>\n",
              "      <td>273</td>\n",
              "      <td>21.0</td>\n",
              "      <td>396.90</td>\n",
              "      <td>7.88</td>\n",
              "      <td>11.9</td>\n",
              "      <td>20.215096</td>\n",
              "    </tr>\n",
              "  </tbody>\n",
              "</table>\n",
              "<p>506 rows × 15 columns</p>\n",
              "</div>"
            ],
            "text/plain": [
              "        CRIM    ZN  INDUS  CHAS  ...       B  LSTAT  price  price_pred\n",
              "0    0.00632  18.0   2.31     0  ...  396.90   4.98   24.0   25.175746\n",
              "1    0.02731   0.0   7.07     0  ...  396.90   9.14   21.6   23.774021\n",
              "2    0.02729   0.0   7.07     0  ...  392.83   4.03   34.7   30.728032\n",
              "3    0.03237   0.0   2.18     0  ...  394.63   2.94   33.4   29.025938\n",
              "4    0.06905   0.0   2.18     0  ...  396.90   5.33   36.2   30.382152\n",
              "..       ...   ...    ...   ...  ...     ...    ...    ...         ...\n",
              "501  0.06263   0.0  11.93     0  ...  391.99   9.67   22.4   25.339584\n",
              "502  0.04527   0.0  11.93     0  ...  396.90   9.08   20.6   21.034286\n",
              "503  0.06076   0.0  11.93     0  ...  396.90   5.64   23.9   28.825691\n",
              "504  0.10959   0.0  11.93     0  ...  393.45   6.48   22.0   27.169108\n",
              "505  0.04741   0.0  11.93     0  ...  396.90   7.88   11.9   20.215096\n",
              "\n",
              "[506 rows x 15 columns]"
            ]
          },
          "metadata": {
            "tags": []
          },
          "execution_count": 20
        }
      ]
    },
    {
      "cell_type": "markdown",
      "metadata": {
        "id": "L1wuh6o4YE9v"
      },
      "source": [
        "Let's plot the predictions"
      ]
    },
    {
      "cell_type": "code",
      "metadata": {
        "id": "gIp6hA-QYEw1",
        "colab": {
          "base_uri": "https://localhost:8080/",
          "height": 297
        },
        "outputId": "097ff7c6-276e-435a-ebc3-7095fe45f496"
      },
      "source": [
        "sns.scatterplot(data=df_boston,x='RM', y='price')\n",
        "sns.scatterplot(data=df_boston,x='RM', y='price_pred')\n"
      ],
      "execution_count": 21,
      "outputs": [
        {
          "output_type": "execute_result",
          "data": {
            "text/plain": [
              "<matplotlib.axes._subplots.AxesSubplot at 0x7f7c1fed2750>"
            ]
          },
          "metadata": {
            "tags": []
          },
          "execution_count": 21
        },
        {
          "output_type": "display_data",
          "data": {
            "image/png": "[encoded data removed]",
            "text/plain": [
              "<Figure size 432x288 with 1 Axes>"
            ]
          },
          "metadata": {
            "tags": [],
            "needs_background": "light"
          }
        }
      ]
    },
    {
      "cell_type": "markdown",
      "metadata": {
        "id": "0GSoZJ_aZc9v"
      },
      "source": [
        "We can see that all the predicted points fall along a line. This is y = a + b*rooms.\n",
        " \n",
        "Let's take a look at what values for a (intercept) and b (slope RM) the model estimated."
      ]
    },
    {
      "cell_type": "code",
      "metadata": {
        "id": "wyoJTungeX4p",
        "colab": {
          "base_uri": "https://localhost:8080/"
        },
        "outputId": "165ff9b0-d5c3-4e7b-9930-04db03a6181d"
      },
      "source": [
        "print(linear_reg_results.summary())"
      ],
      "execution_count": 22,
      "outputs": [
        {
          "output_type": "stream",
          "text": [
            "                            OLS Regression Results                            \n",
            "==============================================================================\n",
            "Dep. Variable:                  price   R-squared:                       0.484\n",
            "Model:                            OLS   Adj. R-squared:                  0.483\n",
            "Method:                 Least Squares   F-statistic:                     471.8\n",
            "Date:                Tue, 20 Jul 2021   Prob (F-statistic):           2.49e-74\n",
            "Time:                        20:28:47   Log-Likelihood:                -1673.1\n",
            "No. Observations:                 506   AIC:                             3350.\n",
            "Df Residuals:                     504   BIC:                             3359.\n",
            "Df Model:                           1                                         \n",
            "Covariance Type:            nonrobust                                         \n",
            "==============================================================================\n",
            "                 coef    std err          t      P>|t|      [0.025      0.975]\n",
            "------------------------------------------------------------------------------\n",
            "Intercept    -34.6706      2.650    -13.084      0.000     -39.877     -29.465\n",
            "RM             9.1021      0.419     21.722      0.000       8.279       9.925\n",
            "==============================================================================\n",
            "Omnibus:                      102.585   Durbin-Watson:                   0.684\n",
            "Prob(Omnibus):                  0.000   Jarque-Bera (JB):              612.449\n",
            "Skew:                           0.726   Prob(JB):                    1.02e-133\n",
            "Kurtosis:                       8.190   Cond. No.                         58.4\n",
            "==============================================================================\n",
            "\n",
            "Warnings:\n",
            "[1] Standard Errors assume that the covariance matrix of the errors is correctly specified.\n"
          ],
          "name": "stdout"
        }
      ]
    },
    {
      "cell_type": "markdown",
      "metadata": {
        "id": "Wr5smD6t8Tff"
      },
      "source": [
        "Before moving on let's drop the predictions we have made so far."
      ]
    },
    {
      "cell_type": "code",
      "metadata": {
        "id": "hUNqmKiO8D8f"
      },
      "source": [
        "df_boston = df_boston.drop('price_pred',axis=1)"
      ],
      "execution_count": null,
      "outputs": []
    },
    {
      "cell_type": "markdown",
      "metadata": {
        "id": "C0MmbEZ7dq5e"
      },
      "source": [
        "<img src='http://drive.google.com/uc?export=view&id=1qWrKY9TgpgQaBCzZfz1xLTV6iCeSwfmG' width=\"100\" align = 'left'>"
      ]
    },
    {
      "cell_type": "markdown",
      "metadata": {
        "id": "n8C4RUB7RYCG"
      },
      "source": [
        "### <font color='lightblue'>Training / Testing Split </font>"
      ]
    },
    {
      "cell_type": "markdown",
      "metadata": {
        "id": "xlIVmLX7HqMm"
      },
      "source": [
        "\n",
        "</br>\n",
        "</br>\n",
        "We will follow a general approach when building models. We will divide the dataset into *training* and *testing* datasets. \n",
        "</br>\n",
        "This lets us fit the model to one part of the data and then use the withheld data to test the predictions of the model. This helps us avoid *overfitting* our model!"
      ]
    },
    {
      "cell_type": "code",
      "metadata": {
        "id": "eZEdEuROIFNC"
      },
      "source": [
        "#load libraries to do the training and testing split\n",
        "from sklearn.model_selection import train_test_split\n",
        "\n",
        "#Split the dataframe into 80% training and 20% testing datasets\n",
        "df_train, df_test = train_test_split(df_boston, test_size=0.20)"
      ],
      "execution_count": 25,
      "outputs": []
    },
    {
      "cell_type": "code",
      "metadata": {
        "id": "2CmwRtpxS7Vf",
        "colab": {
          "base_uri": "https://localhost:8080/"
        },
        "outputId": "f6769477-d56e-4c1d-e1ed-53da56635dcb"
      },
      "source": [
        "#take a look at the shape of the training dataset\n",
        "df_train.shape"
      ],
      "execution_count": 26,
      "outputs": [
        {
          "output_type": "execute_result",
          "data": {
            "text/plain": [
              "(404, 14)"
            ]
          },
          "metadata": {
            "tags": []
          },
          "execution_count": 26
        }
      ]
    },
    {
      "cell_type": "code",
      "metadata": {
        "id": "HdMXfjuFSNfq",
        "colab": {
          "base_uri": "https://localhost:8080/"
        },
        "outputId": "acc0a738-c810-415e-e2a2-b6c1f083209f"
      },
      "source": [
        "#take a look at the shape of the testing dataset\n",
        "df_test.shape\n"
      ],
      "execution_count": 27,
      "outputs": [
        {
          "output_type": "execute_result",
          "data": {
            "text/plain": [
              "(102, 14)"
            ]
          },
          "metadata": {
            "tags": []
          },
          "execution_count": 27
        }
      ]
    },
    {
      "cell_type": "markdown",
      "metadata": {
        "id": "moh5HFYwTKoz"
      },
      "source": [
        "### <font color='lightblue'>Fit a model </font>"
      ]
    },
    {
      "cell_type": "markdown",
      "metadata": {
        "id": "Dvm90X8DlqnT"
      },
      "source": [
        "<img src='http://drive.google.com/uc?export=view&id=1WC4tXGCEF-1_2LQ74gIxJAZ-GLXCwBdK' width=\"100\" align = 'left'>  "
      ]
    },
    {
      "cell_type": "markdown",
      "metadata": {
        "id": "vrThvCCaTbqR"
      },
      "source": [
        "In general when using sklearn to fit a model we will follow these steps:"
      ]
    },
    {
      "cell_type": "code",
      "metadata": {
        "id": "jI65cVtTTbFd",
        "colab": {
          "base_uri": "https://localhost:8080/"
        },
        "outputId": "49319bf2-a242-4685-c50e-dbfb9e6cee19"
      },
      "source": [
        "#1. Build the model (define model parameters)\n",
        "linear_reg_split_model = smf.ols(formula='price ~ RM', data=df_train) #note: using training data\n",
        "\n",
        "#2. fit the model to the training data\n",
        "linear_reg_split_results = linear_reg_split_model.fit()\n",
        "\n",
        "#3. predict values in the training and testing dataset\n",
        "df_train['price_pred'] = linear_reg_split_results.predict(df_train) #note: using train data\n",
        "df_test['price_pred'] = linear_reg_split_results.predict(df_test) #note: using test data\n",
        "\n",
        "#Get a summary of the model parameters\n",
        "print(linear_reg_split_results.summary())"
      ],
      "execution_count": 29,
      "outputs": [
        {
          "output_type": "stream",
          "text": [
            "                            OLS Regression Results                            \n",
            "==============================================================================\n",
            "Dep. Variable:                  price   R-squared:                       0.501\n",
            "Model:                            OLS   Adj. R-squared:                  0.500\n",
            "Method:                 Least Squares   F-statistic:                     403.5\n",
            "Date:                Tue, 20 Jul 2021   Prob (F-statistic):           1.19e-62\n",
            "Time:                        20:30:48   Log-Likelihood:                -1333.8\n",
            "No. Observations:                 404   AIC:                             2672.\n",
            "Df Residuals:                     402   BIC:                             2680.\n",
            "Df Model:                           1                                         \n",
            "Covariance Type:            nonrobust                                         \n",
            "==============================================================================\n",
            "                 coef    std err          t      P>|t|      [0.025      0.975]\n",
            "------------------------------------------------------------------------------\n",
            "Intercept    -35.0893      2.888    -12.150      0.000     -40.767     -29.412\n",
            "RM             9.1819      0.457     20.088      0.000       8.283      10.080\n",
            "==============================================================================\n",
            "Omnibus:                       81.181   Durbin-Watson:                   1.845\n",
            "Prob(Omnibus):                  0.000   Jarque-Bera (JB):              517.536\n",
            "Skew:                           0.666   Prob(JB):                    4.16e-113\n",
            "Kurtosis:                       8.383   Cond. No.                         57.1\n",
            "==============================================================================\n",
            "\n",
            "Warnings:\n",
            "[1] Standard Errors assume that the covariance matrix of the errors is correctly specified.\n"
          ],
          "name": "stdout"
        },
        {
          "output_type": "stream",
          "text": [
            "/usr/local/lib/python3.7/dist-packages/ipykernel_launcher.py:8: SettingWithCopyWarning: \n",
            "A value is trying to be set on a copy of a slice from a DataFrame.\n",
            "Try using .loc[row_indexer,col_indexer] = value instead\n",
            "\n",
            "See the caveats in the documentation: https://pandas.pydata.org/pandas-docs/stable/user_guide/indexing.html#returning-a-view-versus-a-copy\n",
            "  \n",
            "/usr/local/lib/python3.7/dist-packages/ipykernel_launcher.py:9: SettingWithCopyWarning: \n",
            "A value is trying to be set on a copy of a slice from a DataFrame.\n",
            "Try using .loc[row_indexer,col_indexer] = value instead\n",
            "\n",
            "See the caveats in the documentation: https://pandas.pydata.org/pandas-docs/stable/user_guide/indexing.html#returning-a-view-versus-a-copy\n",
            "  if __name__ == '__main__':\n"
          ],
          "name": "stderr"
        }
      ]
    },
    {
      "cell_type": "markdown",
      "metadata": {
        "id": "GmYUjT27dbBy"
      },
      "source": [
        "Visualize predictions on the training dataset"
      ]
    },
    {
      "cell_type": "code",
      "metadata": {
        "id": "-OgHBdczgYn1",
        "colab": {
          "base_uri": "https://localhost:8080/",
          "height": 297
        },
        "outputId": "328e4e8e-a84b-4424-a3d5-f3a2c6936d08"
      },
      "source": [
        "sns.scatterplot(data=df_train,x=\"RM\",y=\"price\") # observed price\n",
        "sns.scatterplot(data=df_train,x=\"RM\",y=\"price_pred\") #predicted price\n"
      ],
      "execution_count": 30,
      "outputs": [
        {
          "output_type": "execute_result",
          "data": {
            "text/plain": [
              "<matplotlib.axes._subplots.AxesSubplot at 0x7f7c15b6c3d0>"
            ]
          },
          "metadata": {
            "tags": []
          },
          "execution_count": 30
        },
        {
          "output_type": "display_data",
          "data": {
            "image/png": "[encoded data removed]",
            "text/plain": [
              "<Figure size 432x288 with 1 Axes>"
            ]
          },
          "metadata": {
            "tags": [],
            "needs_background": "light"
          }
        }
      ]
    },
    {
      "cell_type": "markdown",
      "metadata": {
        "id": "OI0ISMZ6hLa5"
      },
      "source": [
        "Visualize predictions on the testing dataset"
      ]
    },
    {
      "cell_type": "code",
      "metadata": {
        "id": "KqQVt4qUhKgg",
        "colab": {
          "base_uri": "https://localhost:8080/",
          "height": 297
        },
        "outputId": "913626de-aadb-4462-ffd0-5d39c5161936"
      },
      "source": [
        "sns.scatterplot(data=df_test,x=\"RM\",y=\"price\") # observed price\n",
        "sns.scatterplot(data=df_test,x=\"RM\",y=\"price_pred\") # predicted price\n"
      ],
      "execution_count": 31,
      "outputs": [
        {
          "output_type": "execute_result",
          "data": {
            "text/plain": [
              "<matplotlib.axes._subplots.AxesSubplot at 0x7f7c15b68a10>"
            ]
          },
          "metadata": {
            "tags": []
          },
          "execution_count": 31
        },
        {
          "output_type": "display_data",
          "data": {
            "image/png": "[encoded data removed]",
            "text/plain": [
              "<Figure size 432x288 with 1 Axes>"
            ]
          },
          "metadata": {
            "tags": [],
            "needs_background": "light"
          }
        }
      ]
    },
    {
      "cell_type": "markdown",
      "metadata": {
        "id": "S7gvWHDrbuK1"
      },
      "source": [
        "How good is the model at predicting?"
      ]
    },
    {
      "cell_type": "markdown",
      "metadata": {
        "id": "JVjbIwh9jrZN"
      },
      "source": [
        "> Making predictions in the training dataset"
      ]
    },
    {
      "cell_type": "code",
      "metadata": {
        "id": "iP5YMbKljvIj",
        "colab": {
          "base_uri": "https://localhost:8080/"
        },
        "outputId": "3b459012-1141-427a-c8a1-c8178d9a9cea"
      },
      "source": [
        "#mean squared error\n",
        "mse_train = sk.metrics.mean_squared_error(df_train['price'], df_train['price_pred']) \n",
        "\n",
        "print(\" Mean squared error = \", mse_train)"
      ],
      "execution_count": 32,
      "outputs": [
        {
          "output_type": "stream",
          "text": [
            " Mean squared error =  43.17728465971623\n"
          ],
          "name": "stdout"
        }
      ]
    },
    {
      "cell_type": "markdown",
      "metadata": {
        "id": "feVCA701j0fM"
      },
      "source": [
        "> Making predictions in the testing dataset (not used to fit the model)"
      ]
    },
    {
      "cell_type": "code",
      "metadata": {
        "id": "copqYxmCj4QR",
        "colab": {
          "base_uri": "https://localhost:8080/"
        },
        "outputId": "762d5220-af9b-40c6-a17f-d0f433fa212c"
      },
      "source": [
        "#mean squared error\n",
        "mse_test = sk.metrics.mean_squared_error(df_test['price'], df_test['price_pred']) \n",
        "\n",
        "print(\" Mean squared error = \", mse_test)"
      ],
      "execution_count": 33,
      "outputs": [
        {
          "output_type": "stream",
          "text": [
            " Mean squared error =  45.32643993737139\n"
          ],
          "name": "stdout"
        }
      ]
    },
    {
      "cell_type": "markdown",
      "metadata": {
        "id": "4Y6ZNq82kMwJ"
      },
      "source": [
        "Q: Which prediction error is higher?"
      ]
    },
    {
      "cell_type": "markdown",
      "metadata": {
        "id": "d2iuYitVkb3O"
      },
      "source": [
        "Q: Is all that error just noise? Or could there be other variables that might explain why the predictions are off?"
      ]
    },
    {
      "cell_type": "markdown",
      "metadata": {
        "id": "giyvuAxJgSOa"
      },
      "source": [
        "<img src='http://drive.google.com/uc?export=view&id=1qWrKY9TgpgQaBCzZfz1xLTV6iCeSwfmG' width=\"100\" align = 'left'>"
      ]
    },
    {
      "cell_type": "markdown",
      "metadata": {
        "id": "6L3gTa8Ik_6I"
      },
      "source": [
        "### <font color='lightblue'>Fit a more complex model</font>"
      ]
    },
    {
      "cell_type": "markdown",
      "metadata": {
        "id": "S4pSaQXslLVk"
      },
      "source": [
        "This time we will try multiple linear regression"
      ]
    },
    {
      "cell_type": "code",
      "metadata": {
        "id": "LcG4MXuolVpB",
        "colab": {
          "base_uri": "https://localhost:8080/"
        },
        "outputId": "3bd0dc29-e634-464e-c0d7-2324af16ca3c"
      },
      "source": [
        "#1. build the model (define model parameters, and the training data to be used)\n",
        "multi_linear_reg = smf.ols(formula='price ~ RM + ZN', data=df_train) #use training data\n",
        "\n",
        "#2. fit the model to the training data\n",
        "results_RN_ZN = multi_linear_reg.fit() \n",
        "\n",
        "#3. Predict values in the testing dataset\n",
        "df_test['price_pred_RM_ZN'] = results_RN_ZN.predict(df_test) #predict on testing data\n",
        "\n",
        "#Get a summary of the model parameters\n",
        "print(results_RN_ZN.summary()) \n"
      ],
      "execution_count": 35,
      "outputs": [
        {
          "output_type": "stream",
          "text": [
            "                            OLS Regression Results                            \n",
            "==============================================================================\n",
            "Dep. Variable:                  price   R-squared:                       0.525\n",
            "Model:                            OLS   Adj. R-squared:                  0.523\n",
            "Method:                 Least Squares   F-statistic:                     222.0\n",
            "Date:                Tue, 20 Jul 2021   Prob (F-statistic):           1.23e-65\n",
            "Time:                        20:31:42   Log-Likelihood:                -1323.7\n",
            "No. Observations:                 404   AIC:                             2653.\n",
            "Df Residuals:                     401   BIC:                             2665.\n",
            "Df Model:                           2                                         \n",
            "Covariance Type:            nonrobust                                         \n",
            "==============================================================================\n",
            "                 coef    std err          t      P>|t|      [0.025      0.975]\n",
            "------------------------------------------------------------------------------\n",
            "Intercept    -31.1545      2.949    -10.564      0.000     -36.952     -25.357\n",
            "RM             8.4366      0.475     17.749      0.000       7.502       9.371\n",
            "ZN             0.0655      0.014      4.553      0.000       0.037       0.094\n",
            "==============================================================================\n",
            "Omnibus:                      101.209   Durbin-Watson:                   1.841\n",
            "Prob(Omnibus):                  0.000   Jarque-Bera (JB):              602.927\n",
            "Skew:                           0.913   Prob(JB):                    1.19e-131\n",
            "Kurtosis:                       8.699   Cond. No.                         247.\n",
            "==============================================================================\n",
            "\n",
            "Warnings:\n",
            "[1] Standard Errors assume that the covariance matrix of the errors is correctly specified.\n"
          ],
          "name": "stdout"
        },
        {
          "output_type": "stream",
          "text": [
            "/usr/local/lib/python3.7/dist-packages/ipykernel_launcher.py:8: SettingWithCopyWarning: \n",
            "A value is trying to be set on a copy of a slice from a DataFrame.\n",
            "Try using .loc[row_indexer,col_indexer] = value instead\n",
            "\n",
            "See the caveats in the documentation: https://pandas.pydata.org/pandas-docs/stable/user_guide/indexing.html#returning-a-view-versus-a-copy\n",
            "  \n"
          ],
          "name": "stderr"
        }
      ]
    },
    {
      "cell_type": "markdown",
      "metadata": {
        "id": "8yeNY-fNlVpo"
      },
      "source": [
        "Visualize and explore these predictions"
      ]
    },
    {
      "cell_type": "code",
      "metadata": {
        "id": "Ql6ferivj2v4",
        "colab": {
          "base_uri": "https://localhost:8080/",
          "height": 423
        },
        "outputId": "86d3d1c9-8ea8-4856-b7f6-73ab400ac931"
      },
      "source": [
        "df_test"
      ],
      "execution_count": 36,
      "outputs": [
        {
          "output_type": "execute_result",
          "data": {
            "text/html": [
              "<div>\n",
              "<style scoped>\n",
              "    .dataframe tbody tr th:only-of-type {\n",
              "        vertical-align: middle;\n",
              "    }\n",
              "\n",
              "    .dataframe tbody tr th {\n",
              "        vertical-align: top;\n",
              "    }\n",
              "\n",
              "    .dataframe thead th {\n",
              "        text-align: right;\n",
              "    }\n",
              "</style>\n",
              "<table border=\"1\" class=\"dataframe\">\n",
              "  <thead>\n",
              "    <tr style=\"text-align: right;\">\n",
              "      <th></th>\n",
              "      <th>CRIM</th>\n",
              "      <th>ZN</th>\n",
              "      <th>INDUS</th>\n",
              "      <th>CHAS</th>\n",
              "      <th>NOX</th>\n",
              "      <th>RM</th>\n",
              "      <th>AGE</th>\n",
              "      <th>DIS</th>\n",
              "      <th>RAD</th>\n",
              "      <th>TAX</th>\n",
              "      <th>PTRATIO</th>\n",
              "      <th>B</th>\n",
              "      <th>LSTAT</th>\n",
              "      <th>price</th>\n",
              "      <th>price_pred</th>\n",
              "      <th>price_pred_RM_ZN</th>\n",
              "    </tr>\n",
              "  </thead>\n",
              "  <tbody>\n",
              "    <tr>\n",
              "      <th>53</th>\n",
              "      <td>0.04981</td>\n",
              "      <td>21.0</td>\n",
              "      <td>5.64</td>\n",
              "      <td>0</td>\n",
              "      <td>0.439</td>\n",
              "      <td>5.998</td>\n",
              "      <td>21.4</td>\n",
              "      <td>6.8147</td>\n",
              "      <td>4</td>\n",
              "      <td>243</td>\n",
              "      <td>16.8</td>\n",
              "      <td>396.90</td>\n",
              "      <td>8.43</td>\n",
              "      <td>23.4</td>\n",
              "      <td>19.983591</td>\n",
              "      <td>20.823378</td>\n",
              "    </tr>\n",
              "    <tr>\n",
              "      <th>424</th>\n",
              "      <td>8.79212</td>\n",
              "      <td>0.0</td>\n",
              "      <td>18.10</td>\n",
              "      <td>0</td>\n",
              "      <td>0.584</td>\n",
              "      <td>5.565</td>\n",
              "      <td>70.6</td>\n",
              "      <td>2.0635</td>\n",
              "      <td>24</td>\n",
              "      <td>666</td>\n",
              "      <td>20.2</td>\n",
              "      <td>3.65</td>\n",
              "      <td>17.16</td>\n",
              "      <td>11.7</td>\n",
              "      <td>16.007839</td>\n",
              "      <td>15.795200</td>\n",
              "    </tr>\n",
              "    <tr>\n",
              "      <th>61</th>\n",
              "      <td>0.17171</td>\n",
              "      <td>25.0</td>\n",
              "      <td>5.13</td>\n",
              "      <td>0</td>\n",
              "      <td>0.453</td>\n",
              "      <td>5.966</td>\n",
              "      <td>93.4</td>\n",
              "      <td>6.8185</td>\n",
              "      <td>8</td>\n",
              "      <td>284</td>\n",
              "      <td>19.7</td>\n",
              "      <td>378.08</td>\n",
              "      <td>14.44</td>\n",
              "      <td>16.0</td>\n",
              "      <td>19.689771</td>\n",
              "      <td>20.815335</td>\n",
              "    </tr>\n",
              "    <tr>\n",
              "      <th>246</th>\n",
              "      <td>0.33983</td>\n",
              "      <td>22.0</td>\n",
              "      <td>5.86</td>\n",
              "      <td>0</td>\n",
              "      <td>0.431</td>\n",
              "      <td>6.108</td>\n",
              "      <td>34.9</td>\n",
              "      <td>8.0555</td>\n",
              "      <td>7</td>\n",
              "      <td>330</td>\n",
              "      <td>19.1</td>\n",
              "      <td>390.18</td>\n",
              "      <td>9.16</td>\n",
              "      <td>24.3</td>\n",
              "      <td>20.993597</td>\n",
              "      <td>21.816887</td>\n",
              "    </tr>\n",
              "    <tr>\n",
              "      <th>88</th>\n",
              "      <td>0.05660</td>\n",
              "      <td>0.0</td>\n",
              "      <td>3.41</td>\n",
              "      <td>0</td>\n",
              "      <td>0.489</td>\n",
              "      <td>7.007</td>\n",
              "      <td>86.3</td>\n",
              "      <td>3.4217</td>\n",
              "      <td>2</td>\n",
              "      <td>270</td>\n",
              "      <td>17.8</td>\n",
              "      <td>396.90</td>\n",
              "      <td>5.50</td>\n",
              "      <td>23.6</td>\n",
              "      <td>29.248103</td>\n",
              "      <td>27.960792</td>\n",
              "    </tr>\n",
              "    <tr>\n",
              "      <th>...</th>\n",
              "      <td>...</td>\n",
              "      <td>...</td>\n",
              "      <td>...</td>\n",
              "      <td>...</td>\n",
              "      <td>...</td>\n",
              "      <td>...</td>\n",
              "      <td>...</td>\n",
              "      <td>...</td>\n",
              "      <td>...</td>\n",
              "      <td>...</td>\n",
              "      <td>...</td>\n",
              "      <td>...</td>\n",
              "      <td>...</td>\n",
              "      <td>...</td>\n",
              "      <td>...</td>\n",
              "      <td>...</td>\n",
              "    </tr>\n",
              "    <tr>\n",
              "      <th>478</th>\n",
              "      <td>10.23300</td>\n",
              "      <td>0.0</td>\n",
              "      <td>18.10</td>\n",
              "      <td>0</td>\n",
              "      <td>0.614</td>\n",
              "      <td>6.185</td>\n",
              "      <td>96.7</td>\n",
              "      <td>2.1705</td>\n",
              "      <td>24</td>\n",
              "      <td>666</td>\n",
              "      <td>20.2</td>\n",
              "      <td>379.70</td>\n",
              "      <td>18.03</td>\n",
              "      <td>14.6</td>\n",
              "      <td>21.700601</td>\n",
              "      <td>21.025899</td>\n",
              "    </tr>\n",
              "    <tr>\n",
              "      <th>124</th>\n",
              "      <td>0.09849</td>\n",
              "      <td>0.0</td>\n",
              "      <td>25.65</td>\n",
              "      <td>0</td>\n",
              "      <td>0.581</td>\n",
              "      <td>5.879</td>\n",
              "      <td>95.8</td>\n",
              "      <td>2.0063</td>\n",
              "      <td>2</td>\n",
              "      <td>188</td>\n",
              "      <td>19.1</td>\n",
              "      <td>379.38</td>\n",
              "      <td>17.58</td>\n",
              "      <td>18.8</td>\n",
              "      <td>18.890948</td>\n",
              "      <td>18.444296</td>\n",
              "    </tr>\n",
              "    <tr>\n",
              "      <th>101</th>\n",
              "      <td>0.11432</td>\n",
              "      <td>0.0</td>\n",
              "      <td>8.56</td>\n",
              "      <td>0</td>\n",
              "      <td>0.520</td>\n",
              "      <td>6.781</td>\n",
              "      <td>71.3</td>\n",
              "      <td>2.8561</td>\n",
              "      <td>5</td>\n",
              "      <td>384</td>\n",
              "      <td>20.9</td>\n",
              "      <td>395.58</td>\n",
              "      <td>7.67</td>\n",
              "      <td>26.5</td>\n",
              "      <td>27.172999</td>\n",
              "      <td>26.054118</td>\n",
              "    </tr>\n",
              "    <tr>\n",
              "      <th>109</th>\n",
              "      <td>0.26363</td>\n",
              "      <td>0.0</td>\n",
              "      <td>8.56</td>\n",
              "      <td>0</td>\n",
              "      <td>0.520</td>\n",
              "      <td>6.229</td>\n",
              "      <td>91.2</td>\n",
              "      <td>2.5451</td>\n",
              "      <td>5</td>\n",
              "      <td>384</td>\n",
              "      <td>20.9</td>\n",
              "      <td>391.23</td>\n",
              "      <td>15.55</td>\n",
              "      <td>19.4</td>\n",
              "      <td>22.104604</td>\n",
              "      <td>21.397109</td>\n",
              "    </tr>\n",
              "    <tr>\n",
              "      <th>483</th>\n",
              "      <td>2.81838</td>\n",
              "      <td>0.0</td>\n",
              "      <td>18.10</td>\n",
              "      <td>0</td>\n",
              "      <td>0.532</td>\n",
              "      <td>5.762</td>\n",
              "      <td>40.3</td>\n",
              "      <td>4.0983</td>\n",
              "      <td>24</td>\n",
              "      <td>666</td>\n",
              "      <td>20.2</td>\n",
              "      <td>392.92</td>\n",
              "      <td>10.42</td>\n",
              "      <td>21.8</td>\n",
              "      <td>17.816668</td>\n",
              "      <td>17.457212</td>\n",
              "    </tr>\n",
              "  </tbody>\n",
              "</table>\n",
              "<p>102 rows × 16 columns</p>\n",
              "</div>"
            ],
            "text/plain": [
              "         CRIM    ZN  INDUS  CHAS  ...  LSTAT  price  price_pred  price_pred_RM_ZN\n",
              "53    0.04981  21.0   5.64     0  ...   8.43   23.4   19.983591         20.823378\n",
              "424   8.79212   0.0  18.10     0  ...  17.16   11.7   16.007839         15.795200\n",
              "61    0.17171  25.0   5.13     0  ...  14.44   16.0   19.689771         20.815335\n",
              "246   0.33983  22.0   5.86     0  ...   9.16   24.3   20.993597         21.816887\n",
              "88    0.05660   0.0   3.41     0  ...   5.50   23.6   29.248103         27.960792\n",
              "..        ...   ...    ...   ...  ...    ...    ...         ...               ...\n",
              "478  10.23300   0.0  18.10     0  ...  18.03   14.6   21.700601         21.025899\n",
              "124   0.09849   0.0  25.65     0  ...  17.58   18.8   18.890948         18.444296\n",
              "101   0.11432   0.0   8.56     0  ...   7.67   26.5   27.172999         26.054118\n",
              "109   0.26363   0.0   8.56     0  ...  15.55   19.4   22.104604         21.397109\n",
              "483   2.81838   0.0  18.10     0  ...  10.42   21.8   17.816668         17.457212\n",
              "\n",
              "[102 rows x 16 columns]"
            ]
          },
          "metadata": {
            "tags": []
          },
          "execution_count": 36
        }
      ]
    },
    {
      "cell_type": "markdown",
      "metadata": {
        "id": "UkNy9y6XlVpp"
      },
      "source": [
        "First let's look at how the model predicts the price of houses in the testing dataset. Now that we have two predictors we'll have to look at one at a time.\n",
        "</br>\n",
        "Let's look at the number of rooms (RM) first:"
      ]
    },
    {
      "cell_type": "code",
      "metadata": {
        "id": "ISDYqiddlVpq",
        "colab": {
          "base_uri": "https://localhost:8080/",
          "height": 423
        },
        "outputId": "53644ce3-9579-42d9-85e5-bc98baea5134"
      },
      "source": [
        "sns.scatterplot(data=df_test,x='RM', y='price')\n",
        "sns.scatterplot(data=df_test,x='RM', y='price_pred_RM_ZN')\n"
      ],
      "execution_count": 38,
      "outputs": [
        {
          "output_type": "execute_result",
          "data": {
            "text/html": [
              "<div>\n",
              "<style scoped>\n",
              "    .dataframe tbody tr th:only-of-type {\n",
              "        vertical-align: middle;\n",
              "    }\n",
              "\n",
              "    .dataframe tbody tr th {\n",
              "        vertical-align: top;\n",
              "    }\n",
              "\n",
              "    .dataframe thead th {\n",
              "        text-align: right;\n",
              "    }\n",
              "</style>\n",
              "<table border=\"1\" class=\"dataframe\">\n",
              "  <thead>\n",
              "    <tr style=\"text-align: right;\">\n",
              "      <th></th>\n",
              "      <th>CRIM</th>\n",
              "      <th>ZN</th>\n",
              "      <th>INDUS</th>\n",
              "      <th>CHAS</th>\n",
              "      <th>NOX</th>\n",
              "      <th>RM</th>\n",
              "      <th>AGE</th>\n",
              "      <th>DIS</th>\n",
              "      <th>RAD</th>\n",
              "      <th>TAX</th>\n",
              "      <th>PTRATIO</th>\n",
              "      <th>B</th>\n",
              "      <th>LSTAT</th>\n",
              "      <th>price</th>\n",
              "      <th>price_pred</th>\n",
              "      <th>price_pred_RM_ZN</th>\n",
              "    </tr>\n",
              "  </thead>\n",
              "  <tbody>\n",
              "    <tr>\n",
              "      <th>53</th>\n",
              "      <td>0.04981</td>\n",
              "      <td>21.0</td>\n",
              "      <td>5.64</td>\n",
              "      <td>0</td>\n",
              "      <td>0.439</td>\n",
              "      <td>5.998</td>\n",
              "      <td>21.4</td>\n",
              "      <td>6.8147</td>\n",
              "      <td>4</td>\n",
              "      <td>243</td>\n",
              "      <td>16.8</td>\n",
              "      <td>396.90</td>\n",
              "      <td>8.43</td>\n",
              "      <td>23.4</td>\n",
              "      <td>19.983591</td>\n",
              "      <td>20.823378</td>\n",
              "    </tr>\n",
              "    <tr>\n",
              "      <th>424</th>\n",
              "      <td>8.79212</td>\n",
              "      <td>0.0</td>\n",
              "      <td>18.10</td>\n",
              "      <td>0</td>\n",
              "      <td>0.584</td>\n",
              "      <td>5.565</td>\n",
              "      <td>70.6</td>\n",
              "      <td>2.0635</td>\n",
              "      <td>24</td>\n",
              "      <td>666</td>\n",
              "      <td>20.2</td>\n",
              "      <td>3.65</td>\n",
              "      <td>17.16</td>\n",
              "      <td>11.7</td>\n",
              "      <td>16.007839</td>\n",
              "      <td>15.795200</td>\n",
              "    </tr>\n",
              "    <tr>\n",
              "      <th>61</th>\n",
              "      <td>0.17171</td>\n",
              "      <td>25.0</td>\n",
              "      <td>5.13</td>\n",
              "      <td>0</td>\n",
              "      <td>0.453</td>\n",
              "      <td>5.966</td>\n",
              "      <td>93.4</td>\n",
              "      <td>6.8185</td>\n",
              "      <td>8</td>\n",
              "      <td>284</td>\n",
              "      <td>19.7</td>\n",
              "      <td>378.08</td>\n",
              "      <td>14.44</td>\n",
              "      <td>16.0</td>\n",
              "      <td>19.689771</td>\n",
              "      <td>20.815335</td>\n",
              "    </tr>\n",
              "    <tr>\n",
              "      <th>246</th>\n",
              "      <td>0.33983</td>\n",
              "      <td>22.0</td>\n",
              "      <td>5.86</td>\n",
              "      <td>0</td>\n",
              "      <td>0.431</td>\n",
              "      <td>6.108</td>\n",
              "      <td>34.9</td>\n",
              "      <td>8.0555</td>\n",
              "      <td>7</td>\n",
              "      <td>330</td>\n",
              "      <td>19.1</td>\n",
              "      <td>390.18</td>\n",
              "      <td>9.16</td>\n",
              "      <td>24.3</td>\n",
              "      <td>20.993597</td>\n",
              "      <td>21.816887</td>\n",
              "    </tr>\n",
              "    <tr>\n",
              "      <th>88</th>\n",
              "      <td>0.05660</td>\n",
              "      <td>0.0</td>\n",
              "      <td>3.41</td>\n",
              "      <td>0</td>\n",
              "      <td>0.489</td>\n",
              "      <td>7.007</td>\n",
              "      <td>86.3</td>\n",
              "      <td>3.4217</td>\n",
              "      <td>2</td>\n",
              "      <td>270</td>\n",
              "      <td>17.8</td>\n",
              "      <td>396.90</td>\n",
              "      <td>5.50</td>\n",
              "      <td>23.6</td>\n",
              "      <td>29.248103</td>\n",
              "      <td>27.960792</td>\n",
              "    </tr>\n",
              "    <tr>\n",
              "      <th>...</th>\n",
              "      <td>...</td>\n",
              "      <td>...</td>\n",
              "      <td>...</td>\n",
              "      <td>...</td>\n",
              "      <td>...</td>\n",
              "      <td>...</td>\n",
              "      <td>...</td>\n",
              "      <td>...</td>\n",
              "      <td>...</td>\n",
              "      <td>...</td>\n",
              "      <td>...</td>\n",
              "      <td>...</td>\n",
              "      <td>...</td>\n",
              "      <td>...</td>\n",
              "      <td>...</td>\n",
              "      <td>...</td>\n",
              "    </tr>\n",
              "    <tr>\n",
              "      <th>478</th>\n",
              "      <td>10.23300</td>\n",
              "      <td>0.0</td>\n",
              "      <td>18.10</td>\n",
              "      <td>0</td>\n",
              "      <td>0.614</td>\n",
              "      <td>6.185</td>\n",
              "      <td>96.7</td>\n",
              "      <td>2.1705</td>\n",
              "      <td>24</td>\n",
              "      <td>666</td>\n",
              "      <td>20.2</td>\n",
              "      <td>379.70</td>\n",
              "      <td>18.03</td>\n",
              "      <td>14.6</td>\n",
              "      <td>21.700601</td>\n",
              "      <td>21.025899</td>\n",
              "    </tr>\n",
              "    <tr>\n",
              "      <th>124</th>\n",
              "      <td>0.09849</td>\n",
              "      <td>0.0</td>\n",
              "      <td>25.65</td>\n",
              "      <td>0</td>\n",
              "      <td>0.581</td>\n",
              "      <td>5.879</td>\n",
              "      <td>95.8</td>\n",
              "      <td>2.0063</td>\n",
              "      <td>2</td>\n",
              "      <td>188</td>\n",
              "      <td>19.1</td>\n",
              "      <td>379.38</td>\n",
              "      <td>17.58</td>\n",
              "      <td>18.8</td>\n",
              "      <td>18.890948</td>\n",
              "      <td>18.444296</td>\n",
              "    </tr>\n",
              "    <tr>\n",
              "      <th>101</th>\n",
              "      <td>0.11432</td>\n",
              "      <td>0.0</td>\n",
              "      <td>8.56</td>\n",
              "      <td>0</td>\n",
              "      <td>0.520</td>\n",
              "      <td>6.781</td>\n",
              "      <td>71.3</td>\n",
              "      <td>2.8561</td>\n",
              "      <td>5</td>\n",
              "      <td>384</td>\n",
              "      <td>20.9</td>\n",
              "      <td>395.58</td>\n",
              "      <td>7.67</td>\n",
              "      <td>26.5</td>\n",
              "      <td>27.172999</td>\n",
              "      <td>26.054118</td>\n",
              "    </tr>\n",
              "    <tr>\n",
              "      <th>109</th>\n",
              "      <td>0.26363</td>\n",
              "      <td>0.0</td>\n",
              "      <td>8.56</td>\n",
              "      <td>0</td>\n",
              "      <td>0.520</td>\n",
              "      <td>6.229</td>\n",
              "      <td>91.2</td>\n",
              "      <td>2.5451</td>\n",
              "      <td>5</td>\n",
              "      <td>384</td>\n",
              "      <td>20.9</td>\n",
              "      <td>391.23</td>\n",
              "      <td>15.55</td>\n",
              "      <td>19.4</td>\n",
              "      <td>22.104604</td>\n",
              "      <td>21.397109</td>\n",
              "    </tr>\n",
              "    <tr>\n",
              "      <th>483</th>\n",
              "      <td>2.81838</td>\n",
              "      <td>0.0</td>\n",
              "      <td>18.10</td>\n",
              "      <td>0</td>\n",
              "      <td>0.532</td>\n",
              "      <td>5.762</td>\n",
              "      <td>40.3</td>\n",
              "      <td>4.0983</td>\n",
              "      <td>24</td>\n",
              "      <td>666</td>\n",
              "      <td>20.2</td>\n",
              "      <td>392.92</td>\n",
              "      <td>10.42</td>\n",
              "      <td>21.8</td>\n",
              "      <td>17.816668</td>\n",
              "      <td>17.457212</td>\n",
              "    </tr>\n",
              "  </tbody>\n",
              "</table>\n",
              "<p>102 rows × 16 columns</p>\n",
              "</div>"
            ],
            "text/plain": [
              "         CRIM    ZN  INDUS  CHAS  ...  LSTAT  price  price_pred  price_pred_RM_ZN\n",
              "53    0.04981  21.0   5.64     0  ...   8.43   23.4   19.983591         20.823378\n",
              "424   8.79212   0.0  18.10     0  ...  17.16   11.7   16.007839         15.795200\n",
              "61    0.17171  25.0   5.13     0  ...  14.44   16.0   19.689771         20.815335\n",
              "246   0.33983  22.0   5.86     0  ...   9.16   24.3   20.993597         21.816887\n",
              "88    0.05660   0.0   3.41     0  ...   5.50   23.6   29.248103         27.960792\n",
              "..        ...   ...    ...   ...  ...    ...    ...         ...               ...\n",
              "478  10.23300   0.0  18.10     0  ...  18.03   14.6   21.700601         21.025899\n",
              "124   0.09849   0.0  25.65     0  ...  17.58   18.8   18.890948         18.444296\n",
              "101   0.11432   0.0   8.56     0  ...   7.67   26.5   27.172999         26.054118\n",
              "109   0.26363   0.0   8.56     0  ...  15.55   19.4   22.104604         21.397109\n",
              "483   2.81838   0.0  18.10     0  ...  10.42   21.8   17.816668         17.457212\n",
              "\n",
              "[102 rows x 16 columns]"
            ]
          },
          "metadata": {
            "tags": []
          },
          "execution_count": 38
        }
      ]
    },
    {
      "cell_type": "markdown",
      "metadata": {
        "id": "lpiaTnKMtE7a"
      },
      "source": [
        "Then at lot size (ZN):"
      ]
    },
    {
      "cell_type": "code",
      "metadata": {
        "id": "SYoe7PJ1tGhL",
        "colab": {
          "base_uri": "https://localhost:8080/",
          "height": 297
        },
        "outputId": "43cb4e1b-ec09-4bc2-83c9-34c1e678c23b"
      },
      "source": [
        "sns.scatterplot(data=df_test,x='ZN', y='price')\n",
        "sns.scatterplot(data=df_test,x='ZN', y='price_pred_RM_ZN')"
      ],
      "execution_count": 39,
      "outputs": [
        {
          "output_type": "execute_result",
          "data": {
            "text/plain": [
              "<matplotlib.axes._subplots.AxesSubplot at 0x7f7c15a945d0>"
            ]
          },
          "metadata": {
            "tags": []
          },
          "execution_count": 39
        },
        {
          "output_type": "display_data",
          "data": {
            "image/png": "[encoded data removed]",
            "text/plain": [
              "<Figure size 432x288 with 1 Axes>"
            ]
          },
          "metadata": {
            "tags": [],
            "needs_background": "light"
          }
        }
      ]
    },
    {
      "cell_type": "markdown",
      "metadata": {
        "id": "NHsjIRSOlVpu"
      },
      "source": [
        "How good is the model at predicting?"
      ]
    },
    {
      "cell_type": "code",
      "metadata": {
        "id": "oE07NmnClVpv",
        "colab": {
          "base_uri": "https://localhost:8080/"
        },
        "outputId": "b955f25e-2ed4-40ed-9496-6fb0008a62e8"
      },
      "source": [
        "#mean squared error\n",
        "mse_multi = sk.metrics.mean_squared_error(df_test['price'], df_test['price_pred_RM_ZN']) \n",
        "\n",
        "print(\" Mean squared error = \", mse_multi.round(2))\n",
        "\n"
      ],
      "execution_count": 40,
      "outputs": [
        {
          "output_type": "stream",
          "text": [
            " Mean squared error =  44.18\n"
          ],
          "name": "stdout"
        }
      ]
    },
    {
      "cell_type": "markdown",
      "metadata": {
        "id": "zU9L78-Oo--6"
      },
      "source": [
        "Q: how does that compare to our simple model?"
      ]
    },
    {
      "cell_type": "markdown",
      "metadata": {
        "id": "r2ZaE1KKpKk4"
      },
      "source": [
        "<img src='http://drive.google.com/uc?export=view&id=1WC4tXGCEF-1_2LQ74gIxJAZ-GLXCwBdK' width=\"100\" align = 'left'>  "
      ]
    },
    {
      "cell_type": "markdown",
      "metadata": {
        "id": "lc8RCXOrxCHX"
      },
      "source": [
        "### <font color='lightblue'>Try adding more variables!</font>\n",
        " \n",
        " Run a linear regression model to predict house prices. Try and beat the RMSE of the previous models! Feel free to post to slack your results and RMSE scores! Does RMSE always decrease as you add more variables?"
      ]
    },
    {
      "cell_type": "code",
      "metadata": {
        "id": "dGhrD9IemCHT",
        "colab": {
          "base_uri": "https://localhost:8080/"
        },
        "outputId": "0061714f-0327-4164-a331-31066e00b988"
      },
      "source": [
        "#1. build the model (define model parameters)\n",
        "large_linear_reg_large = smf.ols(formula='price ~ RM + ZN + CRIM + INDUS + CHAS + NOX + AGE + DIS + TAX + RAD + PTRATIO + B + LSTAT', data=df_train) #use training data\n",
        "\n",
        "#2. fit the model to the training data\n",
        "large_linear_reg_large_res = large_linear_reg_large.fit()\n",
        "\n",
        "#3. predit with the full model\n",
        "df_test['price_pred_full'] = large_linear_reg_large_res.predict(df_test) #predict on testing data\n",
        "\n",
        "#Get a summary of the model parameters\n",
        "print(large_linear_reg_large_res.summary()) "
      ],
      "execution_count": 42,
      "outputs": [
        {
          "output_type": "stream",
          "text": [
            "                            OLS Regression Results                            \n",
            "==============================================================================\n",
            "Dep. Variable:                  price   R-squared:                       0.751\n",
            "Model:                            OLS   Adj. R-squared:                  0.743\n",
            "Method:                 Least Squares   F-statistic:                     90.41\n",
            "Date:                Tue, 20 Jul 2021   Prob (F-statistic):          6.37e-109\n",
            "Time:                        20:35:29   Log-Likelihood:                -1193.5\n",
            "No. Observations:                 404   AIC:                             2415.\n",
            "Df Residuals:                     390   BIC:                             2471.\n",
            "Df Model:                          13                                         \n",
            "Covariance Type:            nonrobust                                         \n",
            "==============================================================================\n",
            "                 coef    std err          t      P>|t|      [0.025      0.975]\n",
            "------------------------------------------------------------------------------\n",
            "Intercept     37.9883      5.717      6.645      0.000      26.748      49.228\n",
            "RM             3.8633      0.470      8.213      0.000       2.939       4.788\n",
            "ZN             0.0531      0.015      3.553      0.000       0.024       0.082\n",
            "CRIM          -0.0998      0.036     -2.754      0.006      -0.171      -0.029\n",
            "INDUS          0.0175      0.068      0.259      0.795      -0.115       0.150\n",
            "CHAS           2.6988      1.006      2.683      0.008       0.721       4.676\n",
            "NOX          -16.8587      4.343     -3.882      0.000     -25.397      -8.320\n",
            "AGE           -0.0039      0.015     -0.267      0.789      -0.033       0.025\n",
            "DIS           -1.5018      0.221     -6.800      0.000      -1.936      -1.068\n",
            "TAX           -0.0123      0.004     -3.048      0.002      -0.020      -0.004\n",
            "RAD            0.2793      0.072      3.872      0.000       0.137       0.421\n",
            "PTRATIO       -1.0499      0.144     -7.297      0.000      -1.333      -0.767\n",
            "B              0.0083      0.003      2.718      0.007       0.002       0.014\n",
            "LSTAT         -0.4855      0.057     -8.570      0.000      -0.597      -0.374\n",
            "==============================================================================\n",
            "Omnibus:                      136.204   Durbin-Watson:                   1.889\n",
            "Prob(Omnibus):                  0.000   Jarque-Bera (JB):              578.628\n",
            "Skew:                           1.426   Prob(JB):                    2.25e-126\n",
            "Kurtosis:                       8.123   Cond. No.                     1.53e+04\n",
            "==============================================================================\n",
            "\n",
            "Warnings:\n",
            "[1] Standard Errors assume that the covariance matrix of the errors is correctly specified.\n",
            "[2] The condition number is large, 1.53e+04. This might indicate that there are\n",
            "strong multicollinearity or other numerical problems.\n"
          ],
          "name": "stdout"
        },
        {
          "output_type": "stream",
          "text": [
            "/usr/local/lib/python3.7/dist-packages/ipykernel_launcher.py:8: SettingWithCopyWarning: \n",
            "A value is trying to be set on a copy of a slice from a DataFrame.\n",
            "Try using .loc[row_indexer,col_indexer] = value instead\n",
            "\n",
            "See the caveats in the documentation: https://pandas.pydata.org/pandas-docs/stable/user_guide/indexing.html#returning-a-view-versus-a-copy\n",
            "  \n"
          ],
          "name": "stderr"
        }
      ]
    },
    {
      "cell_type": "markdown",
      "metadata": {
        "id": "aWSmXpW_maHS"
      },
      "source": [
        "How well does it do on the test data?"
      ]
    },
    {
      "cell_type": "code",
      "metadata": {
        "id": "q9Ji6W8QmZ3U",
        "colab": {
          "base_uri": "https://localhost:8080/"
        },
        "outputId": "7668a495-335e-446a-c513-36d49f8eb113"
      },
      "source": [
        "#mean squared error\n",
        "mse_full = sk.metrics.mean_squared_error(df_test['price'], df_test['price_pred_full']) \n",
        "\n",
        "print(\" Mean squared error = \", mse_full)\n"
      ],
      "execution_count": 43,
      "outputs": [
        {
          "output_type": "stream",
          "text": [
            " Mean squared error =  24.064055709356563\n"
          ],
          "name": "stdout"
        }
      ]
    },
    {
      "cell_type": "markdown",
      "metadata": {
        "id": "-weXKGRN3MCv"
      },
      "source": [
        "<img src='http://drive.google.com/uc?export=view&id=1qWrKY9TgpgQaBCzZfz1xLTV6iCeSwfmG' width=\"100\" align = 'left'>"
      ]
    },
    {
      "cell_type": "markdown",
      "metadata": {
        "id": "h852C7SpsWzN"
      },
      "source": [
        "### <font color='lightblue'>Explaining how the model is making predictions</font>"
      ]
    },
    {
      "cell_type": "markdown",
      "metadata": {
        "id": "gW82VH3Ks4wd"
      },
      "source": [
        "With linear regression we can look to see what features are important when making predictions. We can also see the direction and magnitude of the effect of these features.\n",
        "> E.g., more rooms in a house are positively associated with house price"
      ]
    },
    {
      "cell_type": "markdown",
      "metadata": {
        "id": "R8saNIkjtVlr"
      },
      "source": [
        "Let's take a look at how to make it easier to see which features are important when making predictions.\n",
        "> To do this we'll ensure that all numeric features are on the same scale (e.g., mean of 0, and standard deviation of 1)."
      ]
    },
    {
      "cell_type": "markdown",
      "metadata": {
        "id": "XjxUeWwpv-_s"
      },
      "source": [
        "Data wrangling: preprocessing the data"
      ]
    },
    {
      "cell_type": "code",
      "metadata": {
        "id": "z1TzauNnstwu"
      },
      "source": [
        "from sklearn.preprocessing import StandardScaler\n"
      ],
      "execution_count": 44,
      "outputs": []
    },
    {
      "cell_type": "markdown",
      "metadata": {
        "id": "v19jraci1Hym"
      },
      "source": [
        "Data preprocessing should be done after the training testing split"
      ]
    },
    {
      "cell_type": "code",
      "metadata": {
        "id": "6D1Sq_4V1McD"
      },
      "source": [
        "#Split the dataframe into 80% training and 20% testing datasets\n",
        "df_train, df_test = train_test_split(df_boston, test_size=0.20)"
      ],
      "execution_count": 45,
      "outputs": []
    },
    {
      "cell_type": "markdown",
      "metadata": {
        "id": "kuebewUqwHlo"
      },
      "source": [
        "As the preprocessing step can be quite time consuming, We'll use a function called DataFrameMapper to help make it easier. The steps to using this function are:\n",
        "> 1. Build the transformer\n",
        "2. Fit the transformer and \n",
        "3. Use the transformer to transform the data\n"
      ]
    },
    {
      "cell_type": "code",
      "metadata": {
        "id": "rmLVRaLRw93V",
        "colab": {
          "base_uri": "https://localhost:8080/",
          "height": 423
        },
        "outputId": "fbca6dee-dd59-456c-f395-59537924c94c"
      },
      "source": [
        "#create a copy of your dataframe to transform\n",
        "df_train_scaled = df_train.copy()\n",
        "\n",
        "#1. build the preprocessing transformer\n",
        "scal = StandardScaler()\n",
        "\n",
        "#2. Fit the DataFrameMapper, and transform the data \n",
        "df_train_scaled[:] = scal.fit_transform(df_train_scaled[:])\n",
        "\n",
        "#take a look\n",
        "df_train_scaled"
      ],
      "execution_count": 52,
      "outputs": [
        {
          "output_type": "execute_result",
          "data": {
            "text/html": [
              "<div>\n",
              "<style scoped>\n",
              "    .dataframe tbody tr th:only-of-type {\n",
              "        vertical-align: middle;\n",
              "    }\n",
              "\n",
              "    .dataframe tbody tr th {\n",
              "        vertical-align: top;\n",
              "    }\n",
              "\n",
              "    .dataframe thead th {\n",
              "        text-align: right;\n",
              "    }\n",
              "</style>\n",
              "<table border=\"1\" class=\"dataframe\">\n",
              "  <thead>\n",
              "    <tr style=\"text-align: right;\">\n",
              "      <th></th>\n",
              "      <th>CRIM</th>\n",
              "      <th>ZN</th>\n",
              "      <th>INDUS</th>\n",
              "      <th>CHAS</th>\n",
              "      <th>NOX</th>\n",
              "      <th>RM</th>\n",
              "      <th>AGE</th>\n",
              "      <th>DIS</th>\n",
              "      <th>RAD</th>\n",
              "      <th>TAX</th>\n",
              "      <th>PTRATIO</th>\n",
              "      <th>B</th>\n",
              "      <th>LSTAT</th>\n",
              "      <th>price</th>\n",
              "    </tr>\n",
              "  </thead>\n",
              "  <tbody>\n",
              "    <tr>\n",
              "      <th>168</th>\n",
              "      <td>-0.149246</td>\n",
              "      <td>-0.498127</td>\n",
              "      <td>1.273961</td>\n",
              "      <td>-0.283221</td>\n",
              "      <td>0.424089</td>\n",
              "      <td>0.051701</td>\n",
              "      <td>0.958969</td>\n",
              "      <td>-0.799753</td>\n",
              "      <td>-0.503675</td>\n",
              "      <td>-0.019142</td>\n",
              "      <td>-1.699060</td>\n",
              "      <td>-0.641609</td>\n",
              "      <td>-0.220745</td>\n",
              "      <td>0.132991</td>\n",
              "    </tr>\n",
              "    <tr>\n",
              "      <th>406</th>\n",
              "      <td>2.105882</td>\n",
              "      <td>-0.498127</td>\n",
              "      <td>1.055664</td>\n",
              "      <td>-0.283221</td>\n",
              "      <td>0.885438</td>\n",
              "      <td>-2.988758</td>\n",
              "      <td>1.096844</td>\n",
              "      <td>-1.230858</td>\n",
              "      <td>1.709382</td>\n",
              "      <td>1.569807</td>\n",
              "      <td>0.799657</td>\n",
              "      <td>0.155826</td>\n",
              "      <td>1.464874</td>\n",
              "      <td>-1.161802</td>\n",
              "    </tr>\n",
              "    <tr>\n",
              "      <th>188</th>\n",
              "      <td>-0.415541</td>\n",
              "      <td>1.404383</td>\n",
              "      <td>-1.106653</td>\n",
              "      <td>-0.283221</td>\n",
              "      <td>-1.011217</td>\n",
              "      <td>0.382095</td>\n",
              "      <td>-1.409663</td>\n",
              "      <td>0.353743</td>\n",
              "      <td>-0.503675</td>\n",
              "      <td>-0.049350</td>\n",
              "      <td>-1.471904</td>\n",
              "      <td>0.293439</td>\n",
              "      <td>-1.121394</td>\n",
              "      <td>0.785828</td>\n",
              "    </tr>\n",
              "    <tr>\n",
              "      <th>334</th>\n",
              "      <td>-0.426367</td>\n",
              "      <td>-0.498127</td>\n",
              "      <td>-0.848532</td>\n",
              "      <td>-0.283221</td>\n",
              "      <td>-0.344825</td>\n",
              "      <td>0.039155</td>\n",
              "      <td>-1.077348</td>\n",
              "      <td>1.238352</td>\n",
              "      <td>-0.503675</td>\n",
              "      <td>-1.100594</td>\n",
              "      <td>0.799657</td>\n",
              "      <td>0.364971</td>\n",
              "      <td>-0.819800</td>\n",
              "      <td>-0.204308</td>\n",
              "    </tr>\n",
              "    <tr>\n",
              "      <th>161</th>\n",
              "      <td>-0.251747</td>\n",
              "      <td>-0.498127</td>\n",
              "      <td>1.273961</td>\n",
              "      <td>-0.283221</td>\n",
              "      <td>0.424089</td>\n",
              "      <td>1.682759</td>\n",
              "      <td>0.771599</td>\n",
              "      <td>-0.860123</td>\n",
              "      <td>-0.503675</td>\n",
              "      <td>-0.019142</td>\n",
              "      <td>-1.699060</td>\n",
              "      <td>0.201733</td>\n",
              "      <td>-1.511124</td>\n",
              "      <td>2.983712</td>\n",
              "    </tr>\n",
              "    <tr>\n",
              "      <th>...</th>\n",
              "      <td>...</td>\n",
              "      <td>...</td>\n",
              "      <td>...</td>\n",
              "      <td>...</td>\n",
              "      <td>...</td>\n",
              "      <td>...</td>\n",
              "      <td>...</td>\n",
              "      <td>...</td>\n",
              "      <td>...</td>\n",
              "      <td>...</td>\n",
              "      <td>...</td>\n",
              "      <td>...</td>\n",
              "      <td>...</td>\n",
              "      <td>...</td>\n",
              "    </tr>\n",
              "    <tr>\n",
              "      <th>361</th>\n",
              "      <td>0.038900</td>\n",
              "      <td>-0.498127</td>\n",
              "      <td>1.055664</td>\n",
              "      <td>-0.283221</td>\n",
              "      <td>1.833765</td>\n",
              "      <td>-0.043095</td>\n",
              "      <td>0.782205</td>\n",
              "      <td>-0.708332</td>\n",
              "      <td>1.709382</td>\n",
              "      <td>1.569807</td>\n",
              "      <td>0.799657</td>\n",
              "      <td>-0.057572</td>\n",
              "      <td>0.204792</td>\n",
              "      <td>-0.291353</td>\n",
              "    </tr>\n",
              "    <tr>\n",
              "      <th>400</th>\n",
              "      <td>2.636105</td>\n",
              "      <td>-0.498127</td>\n",
              "      <td>1.055664</td>\n",
              "      <td>-0.283221</td>\n",
              "      <td>1.175916</td>\n",
              "      <td>-0.411129</td>\n",
              "      <td>1.096844</td>\n",
              "      <td>-1.038804</td>\n",
              "      <td>1.709382</td>\n",
              "      <td>1.569807</td>\n",
              "      <td>0.799657</td>\n",
              "      <td>0.446754</td>\n",
              "      <td>1.937233</td>\n",
              "      <td>-1.847280</td>\n",
              "    </tr>\n",
              "    <tr>\n",
              "      <th>318</th>\n",
              "      <td>-0.381714</td>\n",
              "      <td>-0.498127</td>\n",
              "      <td>-0.153818</td>\n",
              "      <td>-0.283221</td>\n",
              "      <td>-0.097064</td>\n",
              "      <td>0.139527</td>\n",
              "      <td>-0.062725</td>\n",
              "      <td>-0.129877</td>\n",
              "      <td>-0.620152</td>\n",
              "      <td>-0.617263</td>\n",
              "      <td>-0.018105</td>\n",
              "      <td>0.428325</td>\n",
              "      <td>-0.322653</td>\n",
              "      <td>0.056827</td>\n",
              "    </tr>\n",
              "    <tr>\n",
              "      <th>365</th>\n",
              "      <td>0.126950</td>\n",
              "      <td>-0.498127</td>\n",
              "      <td>1.055664</td>\n",
              "      <td>-0.283221</td>\n",
              "      <td>1.389504</td>\n",
              "      <td>-3.793134</td>\n",
              "      <td>0.669076</td>\n",
              "      <td>-1.027394</td>\n",
              "      <td>1.709382</td>\n",
              "      <td>1.569807</td>\n",
              "      <td>0.799657</td>\n",
              "      <td>-0.013410</td>\n",
              "      <td>-0.768846</td>\n",
              "      <td>0.535574</td>\n",
              "    </tr>\n",
              "    <tr>\n",
              "      <th>65</th>\n",
              "      <td>-0.426555</td>\n",
              "      <td>2.884114</td>\n",
              "      <td>-1.116978</td>\n",
              "      <td>-0.283221</td>\n",
              "      <td>-1.344414</td>\n",
              "      <td>0.011273</td>\n",
              "      <td>-1.809149</td>\n",
              "      <td>1.309946</td>\n",
              "      <td>-0.620152</td>\n",
              "      <td>-0.417889</td>\n",
              "      <td>-1.063023</td>\n",
              "      <td>0.446754</td>\n",
              "      <td>-1.106245</td>\n",
              "      <td>0.100349</td>\n",
              "    </tr>\n",
              "  </tbody>\n",
              "</table>\n",
              "<p>404 rows × 14 columns</p>\n",
              "</div>"
            ],
            "text/plain": [
              "         CRIM        ZN     INDUS  ...         B     LSTAT     price\n",
              "168 -0.149246 -0.498127  1.273961  ... -0.641609 -0.220745  0.132991\n",
              "406  2.105882 -0.498127  1.055664  ...  0.155826  1.464874 -1.161802\n",
              "188 -0.415541  1.404383 -1.106653  ...  0.293439 -1.121394  0.785828\n",
              "334 -0.426367 -0.498127 -0.848532  ...  0.364971 -0.819800 -0.204308\n",
              "161 -0.251747 -0.498127  1.273961  ...  0.201733 -1.511124  2.983712\n",
              "..        ...       ...       ...  ...       ...       ...       ...\n",
              "361  0.038900 -0.498127  1.055664  ... -0.057572  0.204792 -0.291353\n",
              "400  2.636105 -0.498127  1.055664  ...  0.446754  1.937233 -1.847280\n",
              "318 -0.381714 -0.498127 -0.153818  ...  0.428325 -0.322653  0.056827\n",
              "365  0.126950 -0.498127  1.055664  ... -0.013410 -0.768846  0.535574\n",
              "65  -0.426555  2.884114 -1.116978  ...  0.446754 -1.106245  0.100349\n",
              "\n",
              "[404 rows x 14 columns]"
            ]
          },
          "metadata": {
            "tags": []
          },
          "execution_count": 52
        }
      ]
    },
    {
      "cell_type": "markdown",
      "metadata": {
        "id": "9QgxxZhjye6U"
      },
      "source": [
        "Q: estimate the mean and standard deviation for one of the new transformed features."
      ]
    },
    {
      "cell_type": "code",
      "metadata": {
        "id": "bF1BAk60ymip",
        "colab": {
          "base_uri": "https://localhost:8080/"
        },
        "outputId": "89916903-4dd3-4e63-afdb-8c23d6cd6089"
      },
      "source": [
        "df_train_scaled.RM.mean()"
      ],
      "execution_count": 53,
      "outputs": [
        {
          "output_type": "execute_result",
          "data": {
            "text/plain": [
              "3.669111906490549e-17"
            ]
          },
          "metadata": {
            "tags": []
          },
          "execution_count": 53
        }
      ]
    },
    {
      "cell_type": "code",
      "metadata": {
        "colab": {
          "base_uri": "https://localhost:8080/"
        },
        "id": "IT88GDNSouRU",
        "outputId": "f4735feb-9e6d-4d26-9022-b2577f2cec98"
      },
      "source": [
        "df_train.RM.std()"
      ],
      "execution_count": 54,
      "outputs": [
        {
          "output_type": "execute_result",
          "data": {
            "text/plain": [
              "1.0012399260807392"
            ]
          },
          "metadata": {
            "tags": []
          },
          "execution_count": 54
        }
      ]
    },
    {
      "cell_type": "markdown",
      "metadata": {
        "id": "lwf3qy3_zYzU"
      },
      "source": [
        "Now run your best model again, this time with the scaled training data."
      ]
    },
    {
      "cell_type": "code",
      "metadata": {
        "id": "SPJe3CE3zlZv",
        "colab": {
          "base_uri": "https://localhost:8080/"
        },
        "outputId": "41b59be8-b9a0-4a34-a4fd-e8a93bc56157"
      },
      "source": [
        "#1. build the model (define model parameters)\n",
        "large_linear_reg_large_scaled = smf.ols(formula='price ~ RM + ZN + CRIM + INDUS + CHAS + NOX + AGE + DIS + TAX + RAD + PTRATIO + B + LSTAT', data=df_train_scaled) #use training data\n",
        "\n",
        "#2. fit the model to the training data\n",
        "large_linear_reg_large_scaled_res = large_linear_reg_large_scaled.fit()\n",
        "\n",
        "#3. predit with the full model\n",
        "df_test['price_pred_full'] = large_linear_reg_large_scaled_res.predict(df_test) #predict on testing data\n",
        "\n",
        "#Get a summary of the model parameters\n",
        "print(large_linear_reg_large_scaled_res.summary()) \n",
        "\n",
        "\n"
      ],
      "execution_count": 56,
      "outputs": [
        {
          "output_type": "stream",
          "text": [
            "                            OLS Regression Results                            \n",
            "==============================================================================\n",
            "Dep. Variable:                  price   R-squared:                       0.747\n",
            "Model:                            OLS   Adj. R-squared:                  0.739\n",
            "Method:                 Least Squares   F-statistic:                     88.58\n",
            "Date:                Tue, 20 Jul 2021   Prob (F-statistic):          1.22e-107\n",
            "Time:                        20:41:01   Log-Likelihood:                -295.62\n",
            "No. Observations:                 404   AIC:                             619.2\n",
            "Df Residuals:                     390   BIC:                             675.3\n",
            "Df Model:                          13                                         \n",
            "Covariance Type:            nonrobust                                         \n",
            "==============================================================================\n",
            "                 coef    std err          t      P>|t|      [0.025      0.975]\n",
            "------------------------------------------------------------------------------\n",
            "Intercept   1.475e-17      0.025   5.79e-16      1.000      -0.050       0.050\n",
            "RM             0.2850      0.036      8.005      0.000       0.215       0.355\n",
            "ZN             0.1314      0.040      3.295      0.001       0.053       0.210\n",
            "CRIM          -0.0775      0.036     -2.144      0.033      -0.148      -0.006\n",
            "INDUS          0.0669      0.053      1.256      0.210      -0.038       0.172\n",
            "CHAS           0.0783      0.026      2.960      0.003       0.026       0.130\n",
            "NOX           -0.2413      0.054     -4.473      0.000      -0.347      -0.135\n",
            "AGE            0.0070      0.046      0.152      0.880      -0.083       0.097\n",
            "DIS           -0.3064      0.051     -6.017      0.000      -0.407      -0.206\n",
            "TAX           -0.2249      0.079     -2.833      0.005      -0.381      -0.069\n",
            "RAD            0.2833      0.071      3.995      0.000       0.144       0.423\n",
            "PTRATIO       -0.2419      0.034     -7.084      0.000      -0.309      -0.175\n",
            "B              0.0859      0.030      2.831      0.005       0.026       0.145\n",
            "LSTAT         -0.4192      0.044     -9.543      0.000      -0.506      -0.333\n",
            "==============================================================================\n",
            "Omnibus:                      123.474   Durbin-Watson:                   2.068\n",
            "Prob(Omnibus):                  0.000   Jarque-Bera (JB):              471.635\n",
            "Skew:                           1.318   Prob(JB):                    3.85e-103\n",
            "Kurtosis:                       7.591   Cond. No.                         10.3\n",
            "==============================================================================\n",
            "\n",
            "Warnings:\n",
            "[1] Standard Errors assume that the covariance matrix of the errors is correctly specified.\n"
          ],
          "name": "stdout"
        },
        {
          "output_type": "stream",
          "text": [
            "/usr/local/lib/python3.7/dist-packages/ipykernel_launcher.py:8: SettingWithCopyWarning: \n",
            "A value is trying to be set on a copy of a slice from a DataFrame.\n",
            "Try using .loc[row_indexer,col_indexer] = value instead\n",
            "\n",
            "See the caveats in the documentation: https://pandas.pydata.org/pandas-docs/stable/user_guide/indexing.html#returning-a-view-versus-a-copy\n",
            "  \n"
          ],
          "name": "stderr"
        }
      ]
    },
    {
      "cell_type": "markdown",
      "metadata": {
        "id": "nj-mUI_j34tG"
      },
      "source": [
        "We can now compare the relative effect of each of the features in predicting the price of a house.\n",
        "> e.g the magnitude and direction of each parameter estimate.\n",
        " \n"
      ]
    },
    {
      "cell_type": "markdown",
      "metadata": {
        "id": "ck64DNX_jcjl"
      },
      "source": [
        "\n",
        "# <font color='lightblue'>Further reading</font>"
      ]
    },
    {
      "cell_type": "markdown",
      "metadata": {
        "id": "BBuzn2WSjd3y"
      },
      "source": [
        "Read more about [using statsmodel](https://www.statsmodels.org/stable/gettingstarted.html) to run regression models.\n"
      ]
    }
  ]
}