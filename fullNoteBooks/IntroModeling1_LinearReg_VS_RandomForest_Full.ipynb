{
  "nbformat": 4,
  "nbformat_minor": 0,
  "metadata": {
    "colab": {
      "name": "IntroModeling1_LinearReg_VS_RandomForest_Full.ipynb",
      "provenance": [],
      "collapsed_sections": [],
      "authorship_tag": "ABX9TyMUtVnM0+TTW4PgBjLPUDmQ",
      "include_colab_link": true
    },
    "kernelspec": {
      "name": "python3",
      "display_name": "Python 3"
    }
  },
  "cells": [
    {
      "cell_type": "markdown",
      "metadata": {
        "id": "view-in-github",
        "colab_type": "text"
      },
      "source": [
        "<a href=\"https://colab.research.google.com/github/tbonne/IntroDataScience/blob/main/fullNoteBooks/IntroModeling1_LinearReg_VS_RandomForest_Full.ipynb\" target=\"_parent\"><img src=\"https://colab.research.google.com/assets/colab-badge.svg\" alt=\"Open In Colab\"/></a>"
      ]
    },
    {
      "cell_type": "markdown",
      "metadata": {
        "id": "TrWSETZ3NmJs"
      },
      "source": [
        "<img src='http://drive.google.com/uc?export=view&id=1L4qAFCwXR9S6RHVzdOc7PhL7-B3yW-Jb' width=\"300\" align = 'left'>  "
      ]
    },
    {
      "cell_type": "markdown",
      "metadata": {
        "id": "4VTsxBzT7tAb"
      },
      "source": [
        "#<font color='lightblue'>Linear regression</font>"
      ]
    },
    {
      "cell_type": "markdown",
      "metadata": {
        "id": "03s3L0-C8Zxr"
      },
      "source": [
        "In previous classes we have used exploritory approaches to visualize and quantify relationships between variables. Now we will use linear regression to start to build models that can make predictions based on these relationships. "
      ]
    },
    {
      "cell_type": "markdown",
      "metadata": {
        "id": "TF0wODYsSb22"
      },
      "source": [
        "Import the needed libraries"
      ]
    },
    {
      "cell_type": "code",
      "metadata": {
        "id": "ABe6f2_V7X3h",
        "colab": {
          "base_uri": "https://localhost:8080/"
        },
        "outputId": "b10ea837-77ef-4134-83a1-5f4391c76f74"
      },
      "source": [
        "import sklearn as sk\n",
        "import pandas as pd\n",
        "import seaborn as sns\n",
        "import matplotlib.pyplot as plt\n",
        "\n",
        "import statsmodels.api as sm #for running regression!\n",
        "import statsmodels.formula.api as smf\n"
      ],
      "execution_count": null,
      "outputs": [
        {
          "output_type": "stream",
          "text": [
            "/usr/local/lib/python3.7/dist-packages/statsmodels/tools/_testing.py:19: FutureWarning: pandas.util.testing is deprecated. Use the functions in the public API at pandas.testing instead.\n",
            "  import pandas.util.testing as tm\n"
          ],
          "name": "stderr"
        }
      ]
    },
    {
      "cell_type": "markdown",
      "metadata": {
        "id": "wJHjdshLGGyI"
      },
      "source": [
        "### <font color='lightblue'>Load the data</font>"
      ]
    },
    {
      "cell_type": "markdown",
      "metadata": {
        "id": "vUf5CUjMTCgH"
      },
      "source": [
        "Download the 'bostonHouses.csv' from the class's [shared data folder](https://drive.google.com/drive/folders/1s2Civxvys_SR1sFF7D2ept1GSmFbICQb?usp=sharing) and load it into a dataframe.\n",
        "> Note: one way to get the data in, is just to drag and drop the csv file into the files tab on the left. However, using this method means that when we leave our session the data will be removed (i.e., it isn't on your gdrive)."
      ]
    },
    {
      "cell_type": "code",
      "metadata": {
        "id": "F_73fyteS9gX"
      },
      "source": [
        "df_boston = pd.read_csv('/content/bostonHouses.csv')"
      ],
      "execution_count": null,
      "outputs": []
    },
    {
      "cell_type": "markdown",
      "metadata": {
        "id": "k3DKADFdU0re"
      },
      "source": [
        "<img src='http://drive.google.com/uc?export=view&id=1WC4tXGCEF-1_2LQ74gIxJAZ-GLXCwBdK' width=\"100\" align = 'left'>  "
      ]
    },
    {
      "cell_type": "markdown",
      "metadata": {
        "id": "E-eSiYP3HOlx"
      },
      "source": [
        "Q: What kinds of data do you have?\n"
      ]
    },
    {
      "cell_type": "code",
      "metadata": {
        "id": "3YbSSBjNHWun",
        "colab": {
          "base_uri": "https://localhost:8080/"
        },
        "outputId": "c1ddccb8-45c2-4f2c-d264-97e894203a61"
      },
      "source": [
        "df_boston.dtypes"
      ],
      "execution_count": null,
      "outputs": [
        {
          "output_type": "execute_result",
          "data": {
            "text/plain": [
              "CRIM       float64\n",
              "ZN         float64\n",
              "INDUS      float64\n",
              "CHAS         int64\n",
              "NOX        float64\n",
              "RM         float64\n",
              "AGE        float64\n",
              "DIS        float64\n",
              "RAD          int64\n",
              "TAX          int64\n",
              "PTRATIO    float64\n",
              "B          float64\n",
              "LSTAT      float64\n",
              "price      float64\n",
              "dtype: object"
            ]
          },
          "metadata": {
            "tags": []
          },
          "execution_count": 3
        }
      ]
    },
    {
      "cell_type": "markdown",
      "metadata": {
        "id": "4JTcOqxPHXZh"
      },
      "source": [
        "Q: Are there missing values anywhere?"
      ]
    },
    {
      "cell_type": "code",
      "metadata": {
        "id": "6hmyJub7HX6h",
        "colab": {
          "base_uri": "https://localhost:8080/"
        },
        "outputId": "9902d546-40ba-4fb7-f8a7-38198a9c03a2"
      },
      "source": [
        "df_boston.isna().sum()"
      ],
      "execution_count": null,
      "outputs": [
        {
          "output_type": "execute_result",
          "data": {
            "text/plain": [
              "CRIM       0\n",
              "ZN         0\n",
              "INDUS      0\n",
              "CHAS       0\n",
              "NOX        0\n",
              "RM         0\n",
              "AGE        0\n",
              "DIS        0\n",
              "RAD        0\n",
              "TAX        0\n",
              "PTRATIO    0\n",
              "B          0\n",
              "LSTAT      0\n",
              "price      0\n",
              "dtype: int64"
            ]
          },
          "metadata": {
            "tags": []
          },
          "execution_count": 4
        }
      ]
    },
    {
      "cell_type": "markdown",
      "metadata": {
        "id": "IRu_wGLKG5qK"
      },
      "source": [
        "### <font color='lightblue'>Visualize and Explore</font>"
      ]
    },
    {
      "cell_type": "markdown",
      "metadata": {
        "id": "Z-XsLsMQVJBE"
      },
      "source": [
        "<img src='http://drive.google.com/uc?export=view&id=1WC4tXGCEF-1_2LQ74gIxJAZ-GLXCwBdK' width=\"100\" align = 'left'>  "
      ]
    },
    {
      "cell_type": "markdown",
      "metadata": {
        "id": "g87llbBEG-J4"
      },
      "source": [
        "Plot the house prices on the y-axis, with some other variables on the x-axis.\n",
        "> Generally the value we are trying to predict is called the response variable, while the values we are using to make those predictions are the predictor variables."
      ]
    },
    {
      "cell_type": "code",
      "metadata": {
        "id": "STIJY6mXGGh3",
        "colab": {
          "base_uri": "https://localhost:8080/",
          "height": 297
        },
        "outputId": "613a00e0-33b6-4f4d-c8d1-1e508f2b2d0d"
      },
      "source": [
        "sns.scatterplot(data=df_boston, x=\"RM\",y=\"price\")"
      ],
      "execution_count": null,
      "outputs": [
        {
          "output_type": "execute_result",
          "data": {
            "text/plain": [
              "<matplotlib.axes._subplots.AxesSubplot at 0x7f9d4c325b50>"
            ]
          },
          "metadata": {
            "tags": []
          },
          "execution_count": 5
        },
        {
          "output_type": "display_data",
          "data": {
            "image/png": "[encoded data removed]",
            "text/plain": [
              "<Figure size 432x288 with 1 Axes>"
            ]
          },
          "metadata": {
            "tags": [],
            "needs_background": "light"
          }
        }
      ]
    },
    {
      "cell_type": "markdown",
      "metadata": {
        "id": "kBlzvYeAHb_p"
      },
      "source": [
        "Create a heat map to help you identify potentially interesting relationships."
      ]
    },
    {
      "cell_type": "code",
      "metadata": {
        "id": "gIxHKp43JMzO",
        "colab": {
          "base_uri": "https://localhost:8080/",
          "height": 319
        },
        "outputId": "a7c7c547-d525-4e19-edfb-04ec16a68e01"
      },
      "source": [
        "df_boston_corr = df_boston.corr()\n",
        "sns.heatmap(data=df_boston_corr)"
      ],
      "execution_count": null,
      "outputs": [
        {
          "output_type": "execute_result",
          "data": {
            "text/plain": [
              "<matplotlib.axes._subplots.AxesSubplot at 0x7f9d4b7c2d90>"
            ]
          },
          "metadata": {
            "tags": []
          },
          "execution_count": 6
        },
        {
          "output_type": "display_data",
          "data": {
            "image/png": "[encoded data removed]",
            "text/plain": [
              "<Figure size 432x288 with 2 Axes>"
            ]
          },
          "metadata": {
            "tags": [],
            "needs_background": "light"
          }
        }
      ]
    },
    {
      "cell_type": "markdown",
      "metadata": {
        "id": "d5JdBUC5HlCl"
      },
      "source": [
        "### <font color='lightblue'>Build and train a model </font>"
      ]
    },
    {
      "cell_type": "markdown",
      "metadata": {
        "id": "6Pvddzu_V9Ym"
      },
      "source": [
        "Let's look at building our first model -- linear regression! \n",
        "> Can how well can we predict the price of a house based on the proportion of large lots in the area (i.e., the ZN value)?"
      ]
    },
    {
      "cell_type": "code",
      "metadata": {
        "id": "jySJe9bGV8lf"
      },
      "source": [
        "#1. Build the model\n",
        "linear_reg_model = smf.ols(formula='price ~ RM', data=df_boston)\n",
        "\n",
        "#2. Use the data to fit the model (i.e., find the best intercept and slope parameters)\n",
        "linear_reg_results = linear_reg_model.fit()\n",
        "\n",
        "#3. make predictions using the model\n",
        "df_boston['price_pred'] = linear_reg_results.predict(df_boston)"
      ],
      "execution_count": null,
      "outputs": []
    },
    {
      "cell_type": "markdown",
      "metadata": {
        "id": "U8It3FHqX4x1"
      },
      "source": [
        "Let's take a look at the predictions!"
      ]
    },
    {
      "cell_type": "code",
      "metadata": {
        "id": "BzbR3ZSHX9KL",
        "colab": {
          "base_uri": "https://localhost:8080/",
          "height": 423
        },
        "outputId": "67ed2302-49b2-4648-ead1-f6f60ab347b2"
      },
      "source": [
        "df_boston"
      ],
      "execution_count": null,
      "outputs": [
        {
          "output_type": "execute_result",
          "data": {
            "text/html": [
              "<div>\n",
              "<style scoped>\n",
              "    .dataframe tbody tr th:only-of-type {\n",
              "        vertical-align: middle;\n",
              "    }\n",
              "\n",
              "    .dataframe tbody tr th {\n",
              "        vertical-align: top;\n",
              "    }\n",
              "\n",
              "    .dataframe thead th {\n",
              "        text-align: right;\n",
              "    }\n",
              "</style>\n",
              "<table border=\"1\" class=\"dataframe\">\n",
              "  <thead>\n",
              "    <tr style=\"text-align: right;\">\n",
              "      <th></th>\n",
              "      <th>CRIM</th>\n",
              "      <th>ZN</th>\n",
              "      <th>INDUS</th>\n",
              "      <th>CHAS</th>\n",
              "      <th>NOX</th>\n",
              "      <th>RM</th>\n",
              "      <th>AGE</th>\n",
              "      <th>DIS</th>\n",
              "      <th>RAD</th>\n",
              "      <th>TAX</th>\n",
              "      <th>PTRATIO</th>\n",
              "      <th>B</th>\n",
              "      <th>LSTAT</th>\n",
              "      <th>price</th>\n",
              "      <th>price_pred</th>\n",
              "    </tr>\n",
              "  </thead>\n",
              "  <tbody>\n",
              "    <tr>\n",
              "      <th>0</th>\n",
              "      <td>0.00632</td>\n",
              "      <td>18.0</td>\n",
              "      <td>2.31</td>\n",
              "      <td>0</td>\n",
              "      <td>0.538</td>\n",
              "      <td>6.575</td>\n",
              "      <td>65.2</td>\n",
              "      <td>4.0900</td>\n",
              "      <td>1</td>\n",
              "      <td>296</td>\n",
              "      <td>15.3</td>\n",
              "      <td>396.90</td>\n",
              "      <td>4.98</td>\n",
              "      <td>24.0</td>\n",
              "      <td>25.175746</td>\n",
              "    </tr>\n",
              "    <tr>\n",
              "      <th>1</th>\n",
              "      <td>0.02731</td>\n",
              "      <td>0.0</td>\n",
              "      <td>7.07</td>\n",
              "      <td>0</td>\n",
              "      <td>0.469</td>\n",
              "      <td>6.421</td>\n",
              "      <td>78.9</td>\n",
              "      <td>4.9671</td>\n",
              "      <td>2</td>\n",
              "      <td>242</td>\n",
              "      <td>17.8</td>\n",
              "      <td>396.90</td>\n",
              "      <td>9.14</td>\n",
              "      <td>21.6</td>\n",
              "      <td>23.774021</td>\n",
              "    </tr>\n",
              "    <tr>\n",
              "      <th>2</th>\n",
              "      <td>0.02729</td>\n",
              "      <td>0.0</td>\n",
              "      <td>7.07</td>\n",
              "      <td>0</td>\n",
              "      <td>0.469</td>\n",
              "      <td>7.185</td>\n",
              "      <td>61.1</td>\n",
              "      <td>4.9671</td>\n",
              "      <td>2</td>\n",
              "      <td>242</td>\n",
              "      <td>17.8</td>\n",
              "      <td>392.83</td>\n",
              "      <td>4.03</td>\n",
              "      <td>34.7</td>\n",
              "      <td>30.728032</td>\n",
              "    </tr>\n",
              "    <tr>\n",
              "      <th>3</th>\n",
              "      <td>0.03237</td>\n",
              "      <td>0.0</td>\n",
              "      <td>2.18</td>\n",
              "      <td>0</td>\n",
              "      <td>0.458</td>\n",
              "      <td>6.998</td>\n",
              "      <td>45.8</td>\n",
              "      <td>6.0622</td>\n",
              "      <td>3</td>\n",
              "      <td>222</td>\n",
              "      <td>18.7</td>\n",
              "      <td>394.63</td>\n",
              "      <td>2.94</td>\n",
              "      <td>33.4</td>\n",
              "      <td>29.025938</td>\n",
              "    </tr>\n",
              "    <tr>\n",
              "      <th>4</th>\n",
              "      <td>0.06905</td>\n",
              "      <td>0.0</td>\n",
              "      <td>2.18</td>\n",
              "      <td>0</td>\n",
              "      <td>0.458</td>\n",
              "      <td>7.147</td>\n",
              "      <td>54.2</td>\n",
              "      <td>6.0622</td>\n",
              "      <td>3</td>\n",
              "      <td>222</td>\n",
              "      <td>18.7</td>\n",
              "      <td>396.90</td>\n",
              "      <td>5.33</td>\n",
              "      <td>36.2</td>\n",
              "      <td>30.382152</td>\n",
              "    </tr>\n",
              "    <tr>\n",
              "      <th>...</th>\n",
              "      <td>...</td>\n",
              "      <td>...</td>\n",
              "      <td>...</td>\n",
              "      <td>...</td>\n",
              "      <td>...</td>\n",
              "      <td>...</td>\n",
              "      <td>...</td>\n",
              "      <td>...</td>\n",
              "      <td>...</td>\n",
              "      <td>...</td>\n",
              "      <td>...</td>\n",
              "      <td>...</td>\n",
              "      <td>...</td>\n",
              "      <td>...</td>\n",
              "      <td>...</td>\n",
              "    </tr>\n",
              "    <tr>\n",
              "      <th>501</th>\n",
              "      <td>0.06263</td>\n",
              "      <td>0.0</td>\n",
              "      <td>11.93</td>\n",
              "      <td>0</td>\n",
              "      <td>0.573</td>\n",
              "      <td>6.593</td>\n",
              "      <td>69.1</td>\n",
              "      <td>2.4786</td>\n",
              "      <td>1</td>\n",
              "      <td>273</td>\n",
              "      <td>21.0</td>\n",
              "      <td>391.99</td>\n",
              "      <td>9.67</td>\n",
              "      <td>22.4</td>\n",
              "      <td>25.339584</td>\n",
              "    </tr>\n",
              "    <tr>\n",
              "      <th>502</th>\n",
              "      <td>0.04527</td>\n",
              "      <td>0.0</td>\n",
              "      <td>11.93</td>\n",
              "      <td>0</td>\n",
              "      <td>0.573</td>\n",
              "      <td>6.120</td>\n",
              "      <td>76.7</td>\n",
              "      <td>2.2875</td>\n",
              "      <td>1</td>\n",
              "      <td>273</td>\n",
              "      <td>21.0</td>\n",
              "      <td>396.90</td>\n",
              "      <td>9.08</td>\n",
              "      <td>20.6</td>\n",
              "      <td>21.034286</td>\n",
              "    </tr>\n",
              "    <tr>\n",
              "      <th>503</th>\n",
              "      <td>0.06076</td>\n",
              "      <td>0.0</td>\n",
              "      <td>11.93</td>\n",
              "      <td>0</td>\n",
              "      <td>0.573</td>\n",
              "      <td>6.976</td>\n",
              "      <td>91.0</td>\n",
              "      <td>2.1675</td>\n",
              "      <td>1</td>\n",
              "      <td>273</td>\n",
              "      <td>21.0</td>\n",
              "      <td>396.90</td>\n",
              "      <td>5.64</td>\n",
              "      <td>23.9</td>\n",
              "      <td>28.825691</td>\n",
              "    </tr>\n",
              "    <tr>\n",
              "      <th>504</th>\n",
              "      <td>0.10959</td>\n",
              "      <td>0.0</td>\n",
              "      <td>11.93</td>\n",
              "      <td>0</td>\n",
              "      <td>0.573</td>\n",
              "      <td>6.794</td>\n",
              "      <td>89.3</td>\n",
              "      <td>2.3889</td>\n",
              "      <td>1</td>\n",
              "      <td>273</td>\n",
              "      <td>21.0</td>\n",
              "      <td>393.45</td>\n",
              "      <td>6.48</td>\n",
              "      <td>22.0</td>\n",
              "      <td>27.169108</td>\n",
              "    </tr>\n",
              "    <tr>\n",
              "      <th>505</th>\n",
              "      <td>0.04741</td>\n",
              "      <td>0.0</td>\n",
              "      <td>11.93</td>\n",
              "      <td>0</td>\n",
              "      <td>0.573</td>\n",
              "      <td>6.030</td>\n",
              "      <td>80.8</td>\n",
              "      <td>2.5050</td>\n",
              "      <td>1</td>\n",
              "      <td>273</td>\n",
              "      <td>21.0</td>\n",
              "      <td>396.90</td>\n",
              "      <td>7.88</td>\n",
              "      <td>11.9</td>\n",
              "      <td>20.215096</td>\n",
              "    </tr>\n",
              "  </tbody>\n",
              "</table>\n",
              "<p>506 rows × 15 columns</p>\n",
              "</div>"
            ],
            "text/plain": [
              "        CRIM    ZN  INDUS  CHAS  ...       B  LSTAT  price  price_pred\n",
              "0    0.00632  18.0   2.31     0  ...  396.90   4.98   24.0   25.175746\n",
              "1    0.02731   0.0   7.07     0  ...  396.90   9.14   21.6   23.774021\n",
              "2    0.02729   0.0   7.07     0  ...  392.83   4.03   34.7   30.728032\n",
              "3    0.03237   0.0   2.18     0  ...  394.63   2.94   33.4   29.025938\n",
              "4    0.06905   0.0   2.18     0  ...  396.90   5.33   36.2   30.382152\n",
              "..       ...   ...    ...   ...  ...     ...    ...    ...         ...\n",
              "501  0.06263   0.0  11.93     0  ...  391.99   9.67   22.4   25.339584\n",
              "502  0.04527   0.0  11.93     0  ...  396.90   9.08   20.6   21.034286\n",
              "503  0.06076   0.0  11.93     0  ...  396.90   5.64   23.9   28.825691\n",
              "504  0.10959   0.0  11.93     0  ...  393.45   6.48   22.0   27.169108\n",
              "505  0.04741   0.0  11.93     0  ...  396.90   7.88   11.9   20.215096\n",
              "\n",
              "[506 rows x 15 columns]"
            ]
          },
          "metadata": {
            "tags": []
          },
          "execution_count": 8
        }
      ]
    },
    {
      "cell_type": "markdown",
      "metadata": {
        "id": "L1wuh6o4YE9v"
      },
      "source": [
        "Let's plot the predictions"
      ]
    },
    {
      "cell_type": "code",
      "metadata": {
        "id": "gIp6hA-QYEw1",
        "colab": {
          "base_uri": "https://localhost:8080/",
          "height": 297
        },
        "outputId": "0773fb8e-fce8-4d7f-9239-19ba2724df7a"
      },
      "source": [
        "sns.scatterplot(data=df_boston,x='RM', y='price')\n",
        "sns.scatterplot(data=df_boston,x='RM', y='price_pred')\n"
      ],
      "execution_count": null,
      "outputs": [
        {
          "output_type": "execute_result",
          "data": {
            "text/plain": [
              "<matplotlib.axes._subplots.AxesSubplot at 0x7f9d429d80d0>"
            ]
          },
          "metadata": {
            "tags": []
          },
          "execution_count": 9
        },
        {
          "output_type": "display_data",
          "data": {
            "image/png": "[encoded data removed]",
            "text/plain": [
              "<Figure size 432x288 with 1 Axes>"
            ]
          },
          "metadata": {
            "tags": [],
            "needs_background": "light"
          }
        }
      ]
    },
    {
      "cell_type": "markdown",
      "metadata": {
        "id": "0GSoZJ_aZc9v"
      },
      "source": [
        "We can see that all the predicted points fall along a line. This is y = a + b*rooms.\n",
        " \n",
        "Let's take a look at what values for a (intercept) and b (slope RM) the model estimated."
      ]
    },
    {
      "cell_type": "code",
      "metadata": {
        "id": "wyoJTungeX4p",
        "colab": {
          "base_uri": "https://localhost:8080/"
        },
        "outputId": "2ef63ae7-5f8f-4174-8f2a-a66bcd3c66f1"
      },
      "source": [
        "print(linear_reg_results.summary())"
      ],
      "execution_count": null,
      "outputs": [
        {
          "output_type": "stream",
          "text": [
            "                            OLS Regression Results                            \n",
            "==============================================================================\n",
            "Dep. Variable:                  price   R-squared:                       0.484\n",
            "Model:                            OLS   Adj. R-squared:                  0.483\n",
            "Method:                 Least Squares   F-statistic:                     471.8\n",
            "Date:                Tue, 03 Aug 2021   Prob (F-statistic):           2.49e-74\n",
            "Time:                        23:02:01   Log-Likelihood:                -1673.1\n",
            "No. Observations:                 506   AIC:                             3350.\n",
            "Df Residuals:                     504   BIC:                             3359.\n",
            "Df Model:                           1                                         \n",
            "Covariance Type:            nonrobust                                         \n",
            "==============================================================================\n",
            "                 coef    std err          t      P>|t|      [0.025      0.975]\n",
            "------------------------------------------------------------------------------\n",
            "Intercept    -34.6706      2.650    -13.084      0.000     -39.877     -29.465\n",
            "RM             9.1021      0.419     21.722      0.000       8.279       9.925\n",
            "==============================================================================\n",
            "Omnibus:                      102.585   Durbin-Watson:                   0.684\n",
            "Prob(Omnibus):                  0.000   Jarque-Bera (JB):              612.449\n",
            "Skew:                           0.726   Prob(JB):                    1.02e-133\n",
            "Kurtosis:                       8.190   Cond. No.                         58.4\n",
            "==============================================================================\n",
            "\n",
            "Warnings:\n",
            "[1] Standard Errors assume that the covariance matrix of the errors is correctly specified.\n"
          ],
          "name": "stdout"
        }
      ]
    },
    {
      "cell_type": "markdown",
      "metadata": {
        "id": "Wr5smD6t8Tff"
      },
      "source": [
        "Before moving on let's drop the predictions we have made so far."
      ]
    },
    {
      "cell_type": "code",
      "metadata": {
        "id": "hUNqmKiO8D8f"
      },
      "source": [
        "df_boston = df_boston.drop('price_pred',axis=1)"
      ],
      "execution_count": null,
      "outputs": []
    },
    {
      "cell_type": "markdown",
      "metadata": {
        "id": "C0MmbEZ7dq5e"
      },
      "source": [
        "<img src='http://drive.google.com/uc?export=view&id=1qWrKY9TgpgQaBCzZfz1xLTV6iCeSwfmG' width=\"100\" align = 'left'>"
      ]
    },
    {
      "cell_type": "markdown",
      "metadata": {
        "id": "n8C4RUB7RYCG"
      },
      "source": [
        "### <font color='lightblue'>Training / Testing Split </font>"
      ]
    },
    {
      "cell_type": "markdown",
      "metadata": {
        "id": "xlIVmLX7HqMm"
      },
      "source": [
        "\n",
        "</br>\n",
        "</br>\n",
        "We will follow a general approach when building models. We will divide the dataset into *training* and *testing* datasets. \n",
        "</br>\n",
        "This lets us fit the model to one part of the data and then use the withheld data to test the predictions of the model. This helps us avoid *overfitting* our model!"
      ]
    },
    {
      "cell_type": "code",
      "metadata": {
        "id": "eZEdEuROIFNC"
      },
      "source": [
        "#load libraries to do the training and testing split\n",
        "from sklearn.model_selection import train_test_split\n",
        "\n",
        "#Split the dataframe into 80% training and 20% testing datasets\n",
        "df_train, df_test = train_test_split(df_boston, test_size=0.20)"
      ],
      "execution_count": null,
      "outputs": []
    },
    {
      "cell_type": "code",
      "metadata": {
        "id": "2CmwRtpxS7Vf",
        "colab": {
          "base_uri": "https://localhost:8080/"
        },
        "outputId": "051e8cd3-7e46-42b2-c74e-3e127f9db6a8"
      },
      "source": [
        "#take a look at the shape of the training dataset\n",
        "df_train.shape"
      ],
      "execution_count": null,
      "outputs": [
        {
          "output_type": "execute_result",
          "data": {
            "text/plain": [
              "(404, 14)"
            ]
          },
          "metadata": {
            "tags": []
          },
          "execution_count": 13
        }
      ]
    },
    {
      "cell_type": "code",
      "metadata": {
        "id": "HdMXfjuFSNfq",
        "colab": {
          "base_uri": "https://localhost:8080/"
        },
        "outputId": "65f75c95-b5db-44bc-b123-fee00a0c6ce0"
      },
      "source": [
        "#take a look at the shape of the testing dataset\n",
        "df_test.shape\n"
      ],
      "execution_count": null,
      "outputs": [
        {
          "output_type": "execute_result",
          "data": {
            "text/plain": [
              "(102, 14)"
            ]
          },
          "metadata": {
            "tags": []
          },
          "execution_count": 14
        }
      ]
    },
    {
      "cell_type": "markdown",
      "metadata": {
        "id": "moh5HFYwTKoz"
      },
      "source": [
        "### <font color='lightblue'>Fit a model </font>"
      ]
    },
    {
      "cell_type": "markdown",
      "metadata": {
        "id": "Dvm90X8DlqnT"
      },
      "source": [
        "<img src='http://drive.google.com/uc?export=view&id=1WC4tXGCEF-1_2LQ74gIxJAZ-GLXCwBdK' width=\"100\" align = 'left'>  "
      ]
    },
    {
      "cell_type": "markdown",
      "metadata": {
        "id": "vrThvCCaTbqR"
      },
      "source": [
        "In general when using sklearn to fit a model we will follow these steps:"
      ]
    },
    {
      "cell_type": "code",
      "metadata": {
        "id": "jI65cVtTTbFd",
        "colab": {
          "base_uri": "https://localhost:8080/"
        },
        "outputId": "486a056a-7d3e-4b43-9ae0-bd51d6b82691"
      },
      "source": [
        "#1. Build the model (define model parameters)\n",
        "linear_reg_split_model = smf.ols(formula='price ~ RM', data=df_train) #note: using training data\n",
        "\n",
        "#2. fit the model to the training data\n",
        "linear_reg_split_results = linear_reg_split_model.fit()\n",
        "\n",
        "#3. predict values in the training and testing dataset\n",
        "df_train['price_pred'] = linear_reg_split_results.predict(df_train) #note: using train data\n",
        "df_test['price_pred'] = linear_reg_split_results.predict(df_test) #note: using test data\n",
        "\n",
        "#Get a summary of the model parameters\n",
        "print(linear_reg_split_results.summary())"
      ],
      "execution_count": null,
      "outputs": [
        {
          "output_type": "stream",
          "text": [
            "                            OLS Regression Results                            \n",
            "==============================================================================\n",
            "Dep. Variable:                  price   R-squared:                       0.472\n",
            "Model:                            OLS   Adj. R-squared:                  0.471\n",
            "Method:                 Least Squares   F-statistic:                     360.1\n",
            "Date:                Tue, 03 Aug 2021   Prob (F-statistic):           8.51e-58\n",
            "Time:                        23:02:01   Log-Likelihood:                -1329.9\n",
            "No. Observations:                 404   AIC:                             2664.\n",
            "Df Residuals:                     402   BIC:                             2672.\n",
            "Df Model:                           1                                         \n",
            "Covariance Type:            nonrobust                                         \n",
            "==============================================================================\n",
            "                 coef    std err          t      P>|t|      [0.025      0.975]\n",
            "------------------------------------------------------------------------------\n",
            "Intercept    -34.3935      2.995    -11.482      0.000     -40.282     -28.505\n",
            "RM             9.0277      0.476     18.975      0.000       8.092       9.963\n",
            "==============================================================================\n",
            "Omnibus:                       89.454   Durbin-Watson:                   2.126\n",
            "Prob(Omnibus):                  0.000   Jarque-Bera (JB):              495.058\n",
            "Skew:                           0.807   Prob(JB):                    3.16e-108\n",
            "Kurtosis:                       8.177   Cond. No.                         59.6\n",
            "==============================================================================\n",
            "\n",
            "Warnings:\n",
            "[1] Standard Errors assume that the covariance matrix of the errors is correctly specified.\n"
          ],
          "name": "stdout"
        },
        {
          "output_type": "stream",
          "text": [
            "/usr/local/lib/python3.7/dist-packages/ipykernel_launcher.py:8: SettingWithCopyWarning: \n",
            "A value is trying to be set on a copy of a slice from a DataFrame.\n",
            "Try using .loc[row_indexer,col_indexer] = value instead\n",
            "\n",
            "See the caveats in the documentation: https://pandas.pydata.org/pandas-docs/stable/user_guide/indexing.html#returning-a-view-versus-a-copy\n",
            "  \n",
            "/usr/local/lib/python3.7/dist-packages/ipykernel_launcher.py:9: SettingWithCopyWarning: \n",
            "A value is trying to be set on a copy of a slice from a DataFrame.\n",
            "Try using .loc[row_indexer,col_indexer] = value instead\n",
            "\n",
            "See the caveats in the documentation: https://pandas.pydata.org/pandas-docs/stable/user_guide/indexing.html#returning-a-view-versus-a-copy\n",
            "  if __name__ == '__main__':\n"
          ],
          "name": "stderr"
        }
      ]
    },
    {
      "cell_type": "markdown",
      "metadata": {
        "id": "GmYUjT27dbBy"
      },
      "source": [
        "Visualize predictions on the training dataset"
      ]
    },
    {
      "cell_type": "code",
      "metadata": {
        "id": "-OgHBdczgYn1",
        "colab": {
          "base_uri": "https://localhost:8080/",
          "height": 297
        },
        "outputId": "1f2c6a04-d7ea-4676-ba2a-2b2902047b37"
      },
      "source": [
        "sns.scatterplot(data=df_train,x=\"RM\",y=\"price\") # observed price\n",
        "sns.scatterplot(data=df_train,x=\"RM\",y=\"price_pred\") #predicted price\n"
      ],
      "execution_count": null,
      "outputs": [
        {
          "output_type": "execute_result",
          "data": {
            "text/plain": [
              "<matplotlib.axes._subplots.AxesSubplot at 0x7f9d41acfd50>"
            ]
          },
          "metadata": {
            "tags": []
          },
          "execution_count": 16
        },
        {
          "output_type": "display_data",
          "data": {
            "image/png": "[encoded data removed]",
            "text/plain": [
              "<Figure size 432x288 with 1 Axes>"
            ]
          },
          "metadata": {
            "tags": [],
            "needs_background": "light"
          }
        }
      ]
    },
    {
      "cell_type": "markdown",
      "metadata": {
        "id": "OI0ISMZ6hLa5"
      },
      "source": [
        "Visualize predictions on the testing dataset"
      ]
    },
    {
      "cell_type": "code",
      "metadata": {
        "id": "KqQVt4qUhKgg",
        "colab": {
          "base_uri": "https://localhost:8080/",
          "height": 297
        },
        "outputId": "0eb61b38-8162-4961-e1a0-dced48f830e6"
      },
      "source": [
        "sns.scatterplot(data=df_test,x=\"RM\",y=\"price\") # observed price\n",
        "sns.scatterplot(data=df_test,x=\"RM\",y=\"price_pred\") # predicted price\n"
      ],
      "execution_count": null,
      "outputs": [
        {
          "output_type": "execute_result",
          "data": {
            "text/plain": [
              "<matplotlib.axes._subplots.AxesSubplot at 0x7f9d41ab44d0>"
            ]
          },
          "metadata": {
            "tags": []
          },
          "execution_count": 17
        },
        {
          "output_type": "display_data",
          "data": {
            "image/png": "[encoded data removed]",
            "text/plain": [
              "<Figure size 432x288 with 1 Axes>"
            ]
          },
          "metadata": {
            "tags": [],
            "needs_background": "light"
          }
        }
      ]
    },
    {
      "cell_type": "markdown",
      "metadata": {
        "id": "S7gvWHDrbuK1"
      },
      "source": [
        "How good is the model at predicting?"
      ]
    },
    {
      "cell_type": "markdown",
      "metadata": {
        "id": "JVjbIwh9jrZN"
      },
      "source": [
        "> Making predictions in the training dataset"
      ]
    },
    {
      "cell_type": "code",
      "metadata": {
        "id": "iP5YMbKljvIj",
        "colab": {
          "base_uri": "https://localhost:8080/"
        },
        "outputId": "5e087d7a-1ede-49b7-fed5-73f2619588ce"
      },
      "source": [
        "#mean squared error\n",
        "mse_train = sk.metrics.mean_squared_error(df_train['price'], df_train['price_pred']) \n",
        "\n",
        "print(\" Mean squared error = \", mse_train)"
      ],
      "execution_count": null,
      "outputs": [
        {
          "output_type": "stream",
          "text": [
            " Mean squared error =  42.338054650564686\n"
          ],
          "name": "stdout"
        }
      ]
    },
    {
      "cell_type": "markdown",
      "metadata": {
        "id": "feVCA701j0fM"
      },
      "source": [
        "> Making predictions in the testing dataset (not used to fit the model)"
      ]
    },
    {
      "cell_type": "code",
      "metadata": {
        "id": "copqYxmCj4QR",
        "colab": {
          "base_uri": "https://localhost:8080/"
        },
        "outputId": "45b0ed2d-af9a-41b7-8be0-dab8cf9b7127"
      },
      "source": [
        "#mean squared error\n",
        "mse_test = sk.metrics.mean_squared_error(df_test['price'], df_test['price_pred']) \n",
        "\n",
        "print(\" Mean squared error = \", mse_test)"
      ],
      "execution_count": null,
      "outputs": [
        {
          "output_type": "stream",
          "text": [
            " Mean squared error =  48.794317274824635\n"
          ],
          "name": "stdout"
        }
      ]
    },
    {
      "cell_type": "markdown",
      "metadata": {
        "id": "4Y6ZNq82kMwJ"
      },
      "source": [
        "Q: Which prediction error is higher?"
      ]
    },
    {
      "cell_type": "markdown",
      "metadata": {
        "id": "d2iuYitVkb3O"
      },
      "source": [
        "Q: Is all that error just noise? Or could there be other variables that might explain why the predictions are off?"
      ]
    },
    {
      "cell_type": "markdown",
      "metadata": {
        "id": "giyvuAxJgSOa"
      },
      "source": [
        "<img src='http://drive.google.com/uc?export=view&id=1qWrKY9TgpgQaBCzZfz1xLTV6iCeSwfmG' width=\"100\" align = 'left'>"
      ]
    },
    {
      "cell_type": "markdown",
      "metadata": {
        "id": "6L3gTa8Ik_6I"
      },
      "source": [
        "### <font color='lightblue'>Fit a more complex model</font>"
      ]
    },
    {
      "cell_type": "markdown",
      "metadata": {
        "id": "S4pSaQXslLVk"
      },
      "source": [
        "This time we will try multiple linear regression"
      ]
    },
    {
      "cell_type": "code",
      "metadata": {
        "id": "LcG4MXuolVpB",
        "colab": {
          "base_uri": "https://localhost:8080/"
        },
        "outputId": "095ff39a-ee40-4787-9be7-af90ec56657c"
      },
      "source": [
        "#1. build the model (define model parameters, and the training data to be used)\n",
        "multi_linear_reg = smf.ols(formula='price ~ RM + ZN', data=df_train) #use training data\n",
        "\n",
        "#2. fit the model to the training data\n",
        "results_RN_ZN = multi_linear_reg.fit() \n",
        "\n",
        "#3. Predict values in the testing dataset\n",
        "df_test['price_pred_RM_ZN'] = results_RN_ZN.predict(df_test) #predict on testing data\n",
        "\n",
        "#Get a summary of the model parameters\n",
        "print(results_RN_ZN.summary()) \n"
      ],
      "execution_count": null,
      "outputs": [
        {
          "output_type": "stream",
          "text": [
            "                            OLS Regression Results                            \n",
            "==============================================================================\n",
            "Dep. Variable:                  price   R-squared:                       0.501\n",
            "Model:                            OLS   Adj. R-squared:                  0.499\n",
            "Method:                 Least Squares   F-statistic:                     201.6\n",
            "Date:                Tue, 03 Aug 2021   Prob (F-statistic):           2.49e-61\n",
            "Time:                        23:02:02   Log-Likelihood:                -1318.5\n",
            "No. Observations:                 404   AIC:                             2643.\n",
            "Df Residuals:                     401   BIC:                             2655.\n",
            "Df Model:                           2                                         \n",
            "Covariance Type:            nonrobust                                         \n",
            "==============================================================================\n",
            "                 coef    std err          t      P>|t|      [0.025      0.975]\n",
            "------------------------------------------------------------------------------\n",
            "Intercept    -30.1119      3.048     -9.880      0.000     -36.104     -24.120\n",
            "RM             8.2198      0.492     16.691      0.000       7.252       9.188\n",
            "ZN             0.0701      0.015      4.824      0.000       0.042       0.099\n",
            "==============================================================================\n",
            "Omnibus:                      109.848   Durbin-Watson:                   2.081\n",
            "Prob(Omnibus):                  0.000   Jarque-Bera (JB):              607.599\n",
            "Skew:                           1.033   Prob(JB):                    1.15e-132\n",
            "Kurtosis:                       8.641   Cond. No.                         252.\n",
            "==============================================================================\n",
            "\n",
            "Warnings:\n",
            "[1] Standard Errors assume that the covariance matrix of the errors is correctly specified.\n"
          ],
          "name": "stdout"
        },
        {
          "output_type": "stream",
          "text": [
            "/usr/local/lib/python3.7/dist-packages/ipykernel_launcher.py:8: SettingWithCopyWarning: \n",
            "A value is trying to be set on a copy of a slice from a DataFrame.\n",
            "Try using .loc[row_indexer,col_indexer] = value instead\n",
            "\n",
            "See the caveats in the documentation: https://pandas.pydata.org/pandas-docs/stable/user_guide/indexing.html#returning-a-view-versus-a-copy\n",
            "  \n"
          ],
          "name": "stderr"
        }
      ]
    },
    {
      "cell_type": "markdown",
      "metadata": {
        "id": "8yeNY-fNlVpo"
      },
      "source": [
        "Visualize and explore these predictions"
      ]
    },
    {
      "cell_type": "code",
      "metadata": {
        "id": "Ql6ferivj2v4",
        "colab": {
          "base_uri": "https://localhost:8080/",
          "height": 423
        },
        "outputId": "f4174e47-9cf3-4fa5-8d41-0b61c00b88db"
      },
      "source": [
        "df_test"
      ],
      "execution_count": null,
      "outputs": [
        {
          "output_type": "execute_result",
          "data": {
            "text/html": [
              "<div>\n",
              "<style scoped>\n",
              "    .dataframe tbody tr th:only-of-type {\n",
              "        vertical-align: middle;\n",
              "    }\n",
              "\n",
              "    .dataframe tbody tr th {\n",
              "        vertical-align: top;\n",
              "    }\n",
              "\n",
              "    .dataframe thead th {\n",
              "        text-align: right;\n",
              "    }\n",
              "</style>\n",
              "<table border=\"1\" class=\"dataframe\">\n",
              "  <thead>\n",
              "    <tr style=\"text-align: right;\">\n",
              "      <th></th>\n",
              "      <th>CRIM</th>\n",
              "      <th>ZN</th>\n",
              "      <th>INDUS</th>\n",
              "      <th>CHAS</th>\n",
              "      <th>NOX</th>\n",
              "      <th>RM</th>\n",
              "      <th>AGE</th>\n",
              "      <th>DIS</th>\n",
              "      <th>RAD</th>\n",
              "      <th>TAX</th>\n",
              "      <th>PTRATIO</th>\n",
              "      <th>B</th>\n",
              "      <th>LSTAT</th>\n",
              "      <th>price</th>\n",
              "      <th>price_pred</th>\n",
              "      <th>price_pred_RM_ZN</th>\n",
              "    </tr>\n",
              "  </thead>\n",
              "  <tbody>\n",
              "    <tr>\n",
              "      <th>356</th>\n",
              "      <td>8.98296</td>\n",
              "      <td>0.0</td>\n",
              "      <td>18.10</td>\n",
              "      <td>1</td>\n",
              "      <td>0.770</td>\n",
              "      <td>6.212</td>\n",
              "      <td>97.4</td>\n",
              "      <td>2.1222</td>\n",
              "      <td>24</td>\n",
              "      <td>666</td>\n",
              "      <td>20.2</td>\n",
              "      <td>377.73</td>\n",
              "      <td>17.60</td>\n",
              "      <td>17.8</td>\n",
              "      <td>21.686724</td>\n",
              "      <td>20.949477</td>\n",
              "    </tr>\n",
              "    <tr>\n",
              "      <th>501</th>\n",
              "      <td>0.06263</td>\n",
              "      <td>0.0</td>\n",
              "      <td>11.93</td>\n",
              "      <td>0</td>\n",
              "      <td>0.573</td>\n",
              "      <td>6.593</td>\n",
              "      <td>69.1</td>\n",
              "      <td>2.4786</td>\n",
              "      <td>1</td>\n",
              "      <td>273</td>\n",
              "      <td>21.0</td>\n",
              "      <td>391.99</td>\n",
              "      <td>9.67</td>\n",
              "      <td>22.4</td>\n",
              "      <td>25.126286</td>\n",
              "      <td>24.081222</td>\n",
              "    </tr>\n",
              "    <tr>\n",
              "      <th>407</th>\n",
              "      <td>11.95110</td>\n",
              "      <td>0.0</td>\n",
              "      <td>18.10</td>\n",
              "      <td>0</td>\n",
              "      <td>0.659</td>\n",
              "      <td>5.608</td>\n",
              "      <td>100.0</td>\n",
              "      <td>1.2852</td>\n",
              "      <td>24</td>\n",
              "      <td>666</td>\n",
              "      <td>20.2</td>\n",
              "      <td>332.09</td>\n",
              "      <td>12.13</td>\n",
              "      <td>27.9</td>\n",
              "      <td>16.233980</td>\n",
              "      <td>15.984718</td>\n",
              "    </tr>\n",
              "    <tr>\n",
              "      <th>26</th>\n",
              "      <td>0.67191</td>\n",
              "      <td>0.0</td>\n",
              "      <td>8.14</td>\n",
              "      <td>0</td>\n",
              "      <td>0.538</td>\n",
              "      <td>5.813</td>\n",
              "      <td>90.3</td>\n",
              "      <td>4.6820</td>\n",
              "      <td>4</td>\n",
              "      <td>307</td>\n",
              "      <td>21.0</td>\n",
              "      <td>376.88</td>\n",
              "      <td>14.81</td>\n",
              "      <td>16.6</td>\n",
              "      <td>18.084663</td>\n",
              "      <td>17.669777</td>\n",
              "    </tr>\n",
              "    <tr>\n",
              "      <th>414</th>\n",
              "      <td>45.74610</td>\n",
              "      <td>0.0</td>\n",
              "      <td>18.10</td>\n",
              "      <td>0</td>\n",
              "      <td>0.693</td>\n",
              "      <td>4.519</td>\n",
              "      <td>100.0</td>\n",
              "      <td>1.6582</td>\n",
              "      <td>24</td>\n",
              "      <td>666</td>\n",
              "      <td>20.2</td>\n",
              "      <td>88.27</td>\n",
              "      <td>36.98</td>\n",
              "      <td>7.0</td>\n",
              "      <td>6.402790</td>\n",
              "      <td>7.033354</td>\n",
              "    </tr>\n",
              "    <tr>\n",
              "      <th>...</th>\n",
              "      <td>...</td>\n",
              "      <td>...</td>\n",
              "      <td>...</td>\n",
              "      <td>...</td>\n",
              "      <td>...</td>\n",
              "      <td>...</td>\n",
              "      <td>...</td>\n",
              "      <td>...</td>\n",
              "      <td>...</td>\n",
              "      <td>...</td>\n",
              "      <td>...</td>\n",
              "      <td>...</td>\n",
              "      <td>...</td>\n",
              "      <td>...</td>\n",
              "      <td>...</td>\n",
              "      <td>...</td>\n",
              "    </tr>\n",
              "    <tr>\n",
              "      <th>56</th>\n",
              "      <td>0.02055</td>\n",
              "      <td>85.0</td>\n",
              "      <td>0.74</td>\n",
              "      <td>0</td>\n",
              "      <td>0.410</td>\n",
              "      <td>6.383</td>\n",
              "      <td>35.7</td>\n",
              "      <td>9.1876</td>\n",
              "      <td>2</td>\n",
              "      <td>313</td>\n",
              "      <td>17.3</td>\n",
              "      <td>396.90</td>\n",
              "      <td>5.77</td>\n",
              "      <td>24.7</td>\n",
              "      <td>23.230464</td>\n",
              "      <td>28.317293</td>\n",
              "    </tr>\n",
              "    <tr>\n",
              "      <th>470</th>\n",
              "      <td>4.34879</td>\n",
              "      <td>0.0</td>\n",
              "      <td>18.10</td>\n",
              "      <td>0</td>\n",
              "      <td>0.580</td>\n",
              "      <td>6.167</td>\n",
              "      <td>84.0</td>\n",
              "      <td>3.0334</td>\n",
              "      <td>24</td>\n",
              "      <td>666</td>\n",
              "      <td>20.2</td>\n",
              "      <td>396.90</td>\n",
              "      <td>16.29</td>\n",
              "      <td>19.9</td>\n",
              "      <td>21.280476</td>\n",
              "      <td>20.579586</td>\n",
              "    </tr>\n",
              "    <tr>\n",
              "      <th>187</th>\n",
              "      <td>0.07875</td>\n",
              "      <td>45.0</td>\n",
              "      <td>3.44</td>\n",
              "      <td>0</td>\n",
              "      <td>0.437</td>\n",
              "      <td>6.782</td>\n",
              "      <td>41.1</td>\n",
              "      <td>3.7886</td>\n",
              "      <td>5</td>\n",
              "      <td>398</td>\n",
              "      <td>15.2</td>\n",
              "      <td>393.87</td>\n",
              "      <td>6.68</td>\n",
              "      <td>32.0</td>\n",
              "      <td>26.832526</td>\n",
              "      <td>28.791239</td>\n",
              "    </tr>\n",
              "    <tr>\n",
              "      <th>482</th>\n",
              "      <td>5.73116</td>\n",
              "      <td>0.0</td>\n",
              "      <td>18.10</td>\n",
              "      <td>0</td>\n",
              "      <td>0.532</td>\n",
              "      <td>7.061</td>\n",
              "      <td>77.0</td>\n",
              "      <td>3.4106</td>\n",
              "      <td>24</td>\n",
              "      <td>666</td>\n",
              "      <td>20.2</td>\n",
              "      <td>395.28</td>\n",
              "      <td>7.01</td>\n",
              "      <td>25.0</td>\n",
              "      <td>29.351260</td>\n",
              "      <td>27.928089</td>\n",
              "    </tr>\n",
              "    <tr>\n",
              "      <th>224</th>\n",
              "      <td>0.31533</td>\n",
              "      <td>0.0</td>\n",
              "      <td>6.20</td>\n",
              "      <td>0</td>\n",
              "      <td>0.504</td>\n",
              "      <td>8.266</td>\n",
              "      <td>78.3</td>\n",
              "      <td>2.8944</td>\n",
              "      <td>8</td>\n",
              "      <td>307</td>\n",
              "      <td>17.4</td>\n",
              "      <td>385.05</td>\n",
              "      <td>4.14</td>\n",
              "      <td>44.8</td>\n",
              "      <td>40.229666</td>\n",
              "      <td>37.832949</td>\n",
              "    </tr>\n",
              "  </tbody>\n",
              "</table>\n",
              "<p>102 rows × 16 columns</p>\n",
              "</div>"
            ],
            "text/plain": [
              "         CRIM    ZN  INDUS  CHAS  ...  LSTAT  price  price_pred  price_pred_RM_ZN\n",
              "356   8.98296   0.0  18.10     1  ...  17.60   17.8   21.686724         20.949477\n",
              "501   0.06263   0.0  11.93     0  ...   9.67   22.4   25.126286         24.081222\n",
              "407  11.95110   0.0  18.10     0  ...  12.13   27.9   16.233980         15.984718\n",
              "26    0.67191   0.0   8.14     0  ...  14.81   16.6   18.084663         17.669777\n",
              "414  45.74610   0.0  18.10     0  ...  36.98    7.0    6.402790          7.033354\n",
              "..        ...   ...    ...   ...  ...    ...    ...         ...               ...\n",
              "56    0.02055  85.0   0.74     0  ...   5.77   24.7   23.230464         28.317293\n",
              "470   4.34879   0.0  18.10     0  ...  16.29   19.9   21.280476         20.579586\n",
              "187   0.07875  45.0   3.44     0  ...   6.68   32.0   26.832526         28.791239\n",
              "482   5.73116   0.0  18.10     0  ...   7.01   25.0   29.351260         27.928089\n",
              "224   0.31533   0.0   6.20     0  ...   4.14   44.8   40.229666         37.832949\n",
              "\n",
              "[102 rows x 16 columns]"
            ]
          },
          "metadata": {
            "tags": []
          },
          "execution_count": 21
        }
      ]
    },
    {
      "cell_type": "markdown",
      "metadata": {
        "id": "UkNy9y6XlVpp"
      },
      "source": [
        "First let's look at how the model predicts the price of houses in the testing dataset. Now that we have two predictors we'll have to look at one at a time.\n",
        "</br>\n",
        "Let's look at the number of rooms (RM) first:"
      ]
    },
    {
      "cell_type": "code",
      "metadata": {
        "id": "ISDYqiddlVpq",
        "colab": {
          "base_uri": "https://localhost:8080/",
          "height": 297
        },
        "outputId": "be223592-97ff-4a9f-8fde-7bc3a78d17ec"
      },
      "source": [
        "sns.scatterplot(data=df_test,x='RM', y='price')\n",
        "sns.scatterplot(data=df_test,x='RM', y='price_pred_RM_ZN')\n"
      ],
      "execution_count": null,
      "outputs": [
        {
          "output_type": "execute_result",
          "data": {
            "text/plain": [
              "<matplotlib.axes._subplots.AxesSubplot at 0x7f9d41a61a10>"
            ]
          },
          "metadata": {
            "tags": []
          },
          "execution_count": 22
        },
        {
          "output_type": "display_data",
          "data": {
            "image/png": "[encoded data removed]",
            "text/plain": [
              "<Figure size 432x288 with 1 Axes>"
            ]
          },
          "metadata": {
            "tags": [],
            "needs_background": "light"
          }
        }
      ]
    },
    {
      "cell_type": "markdown",
      "metadata": {
        "id": "lpiaTnKMtE7a"
      },
      "source": [
        "Then at lot size (ZN):"
      ]
    },
    {
      "cell_type": "code",
      "metadata": {
        "id": "SYoe7PJ1tGhL",
        "colab": {
          "base_uri": "https://localhost:8080/",
          "height": 297
        },
        "outputId": "a61119a0-56d6-42c8-94d0-30e50f645c67"
      },
      "source": [
        "sns.scatterplot(data=df_test,x='ZN', y='price')\n",
        "sns.scatterplot(data=df_test,x='ZN', y='price_pred_RM_ZN')"
      ],
      "execution_count": null,
      "outputs": [
        {
          "output_type": "execute_result",
          "data": {
            "text/plain": [
              "<matplotlib.axes._subplots.AxesSubplot at 0x7f9d41a2ad50>"
            ]
          },
          "metadata": {
            "tags": []
          },
          "execution_count": 23
        },
        {
          "output_type": "display_data",
          "data": {
            "image/png": "[encoded data removed]",
            "text/plain": [
              "<Figure size 432x288 with 1 Axes>"
            ]
          },
          "metadata": {
            "tags": [],
            "needs_background": "light"
          }
        }
      ]
    },
    {
      "cell_type": "markdown",
      "metadata": {
        "id": "NHsjIRSOlVpu"
      },
      "source": [
        "How good is the model at predicting?"
      ]
    },
    {
      "cell_type": "code",
      "metadata": {
        "id": "oE07NmnClVpv",
        "colab": {
          "base_uri": "https://localhost:8080/"
        },
        "outputId": "7f034ecd-78d6-4f55-f07f-eaeb8e5f025e"
      },
      "source": [
        "#mean squared error\n",
        "mse_multi = sk.metrics.mean_squared_error(df_test['price'], df_test['price_pred_RM_ZN']) \n",
        "\n",
        "print(\" Mean squared error = \", mse_multi.round(2))\n",
        "\n"
      ],
      "execution_count": null,
      "outputs": [
        {
          "output_type": "stream",
          "text": [
            " Mean squared error =  48.62\n"
          ],
          "name": "stdout"
        }
      ]
    },
    {
      "cell_type": "markdown",
      "metadata": {
        "id": "zU9L78-Oo--6"
      },
      "source": [
        "Q: how does that compare to our simple model?"
      ]
    },
    {
      "cell_type": "markdown",
      "metadata": {
        "id": "r2ZaE1KKpKk4"
      },
      "source": [
        "<img src='http://drive.google.com/uc?export=view&id=1WC4tXGCEF-1_2LQ74gIxJAZ-GLXCwBdK' width=\"100\" align = 'left'>  "
      ]
    },
    {
      "cell_type": "markdown",
      "metadata": {
        "id": "lc8RCXOrxCHX"
      },
      "source": [
        "### <font color='lightblue'>Try adding more variables!</font>\n",
        " \n",
        " Run a linear regression model to predict house prices. Try and beat the RMSE of the previous models! Feel free to post to slack your results and RMSE scores! Does RMSE always decrease as you add more variables?"
      ]
    },
    {
      "cell_type": "code",
      "metadata": {
        "id": "dGhrD9IemCHT",
        "colab": {
          "base_uri": "https://localhost:8080/"
        },
        "outputId": "d94ccaa1-54b0-4cba-cdc8-30b4e24a1dae"
      },
      "source": [
        "#1. build the model (define model parameters)\n",
        "large_linear_reg_large = smf.ols(formula='price ~ RM + ZN + CRIM + INDUS + CHAS + NOX + AGE + DIS + TAX + RAD + PTRATIO + B + LSTAT', data=df_train) #use training data\n",
        "\n",
        "#2. fit the model to the training data\n",
        "large_linear_reg_large_res = large_linear_reg_large.fit()\n",
        "\n",
        "#3. predit with the full model\n",
        "df_test['price_pred_full'] = large_linear_reg_large_res.predict(df_test) #predict on testing data\n",
        "\n",
        "#Get a summary of the model parameters\n",
        "print(large_linear_reg_large_res.summary()) "
      ],
      "execution_count": null,
      "outputs": [
        {
          "output_type": "stream",
          "text": [
            "                            OLS Regression Results                            \n",
            "==============================================================================\n",
            "Dep. Variable:                  price   R-squared:                       0.751\n",
            "Model:                            OLS   Adj. R-squared:                  0.743\n",
            "Method:                 Least Squares   F-statistic:                     90.55\n",
            "Date:                Tue, 03 Aug 2021   Prob (F-statistic):          5.06e-109\n",
            "Time:                        23:02:02   Log-Likelihood:                -1178.1\n",
            "No. Observations:                 404   AIC:                             2384.\n",
            "Df Residuals:                     390   BIC:                             2440.\n",
            "Df Model:                          13                                         \n",
            "Covariance Type:            nonrobust                                         \n",
            "==============================================================================\n",
            "                 coef    std err          t      P>|t|      [0.025      0.975]\n",
            "------------------------------------------------------------------------------\n",
            "Intercept     37.6261      5.495      6.847      0.000      26.823      48.429\n",
            "RM             3.7551      0.453      8.298      0.000       2.865       4.645\n",
            "ZN             0.0499      0.015      3.336      0.001       0.020       0.079\n",
            "CRIM          -0.1316      0.033     -4.024      0.000      -0.196      -0.067\n",
            "INDUS          0.0641      0.067      0.959      0.338      -0.067       0.195\n",
            "CHAS           2.0743      0.954      2.175      0.030       0.199       3.949\n",
            "NOX          -18.4924      3.993     -4.631      0.000     -26.343     -10.642\n",
            "AGE            0.0042      0.014      0.298      0.766      -0.023       0.032\n",
            "DIS           -1.3648      0.213     -6.410      0.000      -1.783      -0.946\n",
            "TAX           -0.0124      0.004     -3.145      0.002      -0.020      -0.005\n",
            "RAD            0.3097      0.069      4.494      0.000       0.174       0.445\n",
            "PTRATIO       -1.0292      0.140     -7.365      0.000      -1.304      -0.754\n",
            "B              0.0083      0.003      2.974      0.003       0.003       0.014\n",
            "LSTAT         -0.5130      0.053     -9.764      0.000      -0.616      -0.410\n",
            "==============================================================================\n",
            "Omnibus:                      159.105   Durbin-Watson:                   2.102\n",
            "Prob(Omnibus):                  0.000   Jarque-Bera (JB):              772.947\n",
            "Skew:                           1.646   Prob(JB):                    1.43e-168\n",
            "Kurtosis:                       8.923   Cond. No.                     1.51e+04\n",
            "==============================================================================\n",
            "\n",
            "Warnings:\n",
            "[1] Standard Errors assume that the covariance matrix of the errors is correctly specified.\n",
            "[2] The condition number is large, 1.51e+04. This might indicate that there are\n",
            "strong multicollinearity or other numerical problems.\n"
          ],
          "name": "stdout"
        },
        {
          "output_type": "stream",
          "text": [
            "/usr/local/lib/python3.7/dist-packages/ipykernel_launcher.py:8: SettingWithCopyWarning: \n",
            "A value is trying to be set on a copy of a slice from a DataFrame.\n",
            "Try using .loc[row_indexer,col_indexer] = value instead\n",
            "\n",
            "See the caveats in the documentation: https://pandas.pydata.org/pandas-docs/stable/user_guide/indexing.html#returning-a-view-versus-a-copy\n",
            "  \n"
          ],
          "name": "stderr"
        }
      ]
    },
    {
      "cell_type": "markdown",
      "metadata": {
        "id": "aWSmXpW_maHS"
      },
      "source": [
        "How well does it do on the test data?"
      ]
    },
    {
      "cell_type": "code",
      "metadata": {
        "id": "q9Ji6W8QmZ3U",
        "colab": {
          "base_uri": "https://localhost:8080/"
        },
        "outputId": "b0db4837-52ca-48f7-d314-5eb85e9faed5"
      },
      "source": [
        "#mean squared error\n",
        "mse_full = sk.metrics.mean_squared_error(df_test['price'], df_test['price_pred_full']) \n",
        "\n",
        "print(\" Mean squared error = \", mse_full)\n"
      ],
      "execution_count": null,
      "outputs": [
        {
          "output_type": "stream",
          "text": [
            " Mean squared error =  30.1881695692771\n"
          ],
          "name": "stdout"
        }
      ]
    },
    {
      "cell_type": "markdown",
      "metadata": {
        "id": "-weXKGRN3MCv"
      },
      "source": [
        "<img src='http://drive.google.com/uc?export=view&id=1qWrKY9TgpgQaBCzZfz1xLTV6iCeSwfmG' width=\"100\" align = 'left'>"
      ]
    },
    {
      "cell_type": "markdown",
      "metadata": {
        "id": "h852C7SpsWzN"
      },
      "source": [
        "### <font color='lightblue'>Explaining how the model is making predictions</font>"
      ]
    },
    {
      "cell_type": "markdown",
      "metadata": {
        "id": "gW82VH3Ks4wd"
      },
      "source": [
        "With linear regression we can look to see what features are important when making predictions. We can also see the direction and magnitude of the effect of these features.\n",
        "> E.g., more rooms in a house are positively associated with house price"
      ]
    },
    {
      "cell_type": "markdown",
      "metadata": {
        "id": "R8saNIkjtVlr"
      },
      "source": [
        "Let's take a look at how to make it easier to see which features are important when making predictions.\n",
        "> To do this we'll ensure that all numeric features are on the same scale (e.g., mean of 0, and standard deviation of 1)."
      ]
    },
    {
      "cell_type": "markdown",
      "metadata": {
        "id": "XjxUeWwpv-_s"
      },
      "source": [
        "Data wrangling: preprocessing the data"
      ]
    },
    {
      "cell_type": "code",
      "metadata": {
        "id": "z1TzauNnstwu"
      },
      "source": [
        "from sklearn.preprocessing import StandardScaler\n"
      ],
      "execution_count": null,
      "outputs": []
    },
    {
      "cell_type": "markdown",
      "metadata": {
        "id": "v19jraci1Hym"
      },
      "source": [
        "Data preprocessing should be done after the training testing split"
      ]
    },
    {
      "cell_type": "code",
      "metadata": {
        "id": "6D1Sq_4V1McD"
      },
      "source": [
        "#Split the dataframe into 80% training and 20% testing datasets\n",
        "df_train, df_test = train_test_split(df_boston, test_size=0.20)"
      ],
      "execution_count": null,
      "outputs": []
    },
    {
      "cell_type": "markdown",
      "metadata": {
        "id": "kuebewUqwHlo"
      },
      "source": [
        "As the preprocessing step can be quite time consuming, We'll use a function called DataFrameMapper to help make it easier. The steps to using this function are:\n",
        "> 1. Build the transformer\n",
        "2. Fit the transformer and \n",
        "3. Use the transformer to transform the data\n"
      ]
    },
    {
      "cell_type": "code",
      "metadata": {
        "id": "rmLVRaLRw93V",
        "colab": {
          "base_uri": "https://localhost:8080/",
          "height": 423
        },
        "outputId": "848acc22-6d63-4059-da41-aa33fdde7048"
      },
      "source": [
        "#create a copy of your dataframe to transform\n",
        "df_train_scaled = df_train.copy()\n",
        "\n",
        "#1. build the preprocessing transformer\n",
        "scal = StandardScaler()\n",
        "\n",
        "#2. Fit the DataFrameMapper, and transform the data \n",
        "df_train_scaled[:] = scal.fit_transform(df_train_scaled[:])\n",
        "\n",
        "#take a look\n",
        "df_train_scaled"
      ],
      "execution_count": null,
      "outputs": [
        {
          "output_type": "execute_result",
          "data": {
            "text/html": [
              "<div>\n",
              "<style scoped>\n",
              "    .dataframe tbody tr th:only-of-type {\n",
              "        vertical-align: middle;\n",
              "    }\n",
              "\n",
              "    .dataframe tbody tr th {\n",
              "        vertical-align: top;\n",
              "    }\n",
              "\n",
              "    .dataframe thead th {\n",
              "        text-align: right;\n",
              "    }\n",
              "</style>\n",
              "<table border=\"1\" class=\"dataframe\">\n",
              "  <thead>\n",
              "    <tr style=\"text-align: right;\">\n",
              "      <th></th>\n",
              "      <th>CRIM</th>\n",
              "      <th>ZN</th>\n",
              "      <th>INDUS</th>\n",
              "      <th>CHAS</th>\n",
              "      <th>NOX</th>\n",
              "      <th>RM</th>\n",
              "      <th>AGE</th>\n",
              "      <th>DIS</th>\n",
              "      <th>RAD</th>\n",
              "      <th>TAX</th>\n",
              "      <th>PTRATIO</th>\n",
              "      <th>B</th>\n",
              "      <th>LSTAT</th>\n",
              "      <th>price</th>\n",
              "    </tr>\n",
              "  </thead>\n",
              "  <tbody>\n",
              "    <tr>\n",
              "      <th>218</th>\n",
              "      <td>-0.395506</td>\n",
              "      <td>-0.478596</td>\n",
              "      <td>0.410630</td>\n",
              "      <td>3.595975</td>\n",
              "      <td>-0.020858</td>\n",
              "      <td>-0.500534</td>\n",
              "      <td>0.913108</td>\n",
              "      <td>-0.443012</td>\n",
              "      <td>-0.504899</td>\n",
              "      <td>-0.770081</td>\n",
              "      <td>-0.938948</td>\n",
              "      <td>0.441302</td>\n",
              "      <td>0.752075</td>\n",
              "      <td>-0.119325</td>\n",
              "    </tr>\n",
              "    <tr>\n",
              "      <th>319</th>\n",
              "      <td>-0.351403</td>\n",
              "      <td>-0.478596</td>\n",
              "      <td>-0.170807</td>\n",
              "      <td>-0.278089</td>\n",
              "      <td>-0.073816</td>\n",
              "      <td>-0.269530</td>\n",
              "      <td>-0.346351</td>\n",
              "      <td>0.091352</td>\n",
              "      <td>-0.621326</td>\n",
              "      <td>-0.602678</td>\n",
              "      <td>-0.027633</td>\n",
              "      <td>0.433973</td>\n",
              "      <td>0.022877</td>\n",
              "      <td>-0.174483</td>\n",
              "    </tr>\n",
              "    <tr>\n",
              "      <th>465</th>\n",
              "      <td>-0.026398</td>\n",
              "      <td>-0.478596</td>\n",
              "      <td>1.024125</td>\n",
              "      <td>-0.278089</td>\n",
              "      <td>0.905916</td>\n",
              "      <td>-0.774317</td>\n",
              "      <td>-0.727788</td>\n",
              "      <td>-0.357905</td>\n",
              "      <td>1.707204</td>\n",
              "      <td>1.561606</td>\n",
              "      <td>0.792551</td>\n",
              "      <td>-0.242332</td>\n",
              "      <td>0.219577</td>\n",
              "      <td>-0.295829</td>\n",
              "    </tr>\n",
              "    <tr>\n",
              "      <th>386</th>\n",
              "      <td>2.540410</td>\n",
              "      <td>-0.478596</td>\n",
              "      <td>1.024125</td>\n",
              "      <td>-0.278089</td>\n",
              "      <td>1.303105</td>\n",
              "      <td>-2.352846</td>\n",
              "      <td>1.136212</td>\n",
              "      <td>-1.126022</td>\n",
              "      <td>1.707204</td>\n",
              "      <td>1.561606</td>\n",
              "      <td>0.792551</td>\n",
              "      <td>0.441302</td>\n",
              "      <td>2.207661</td>\n",
              "      <td>-1.332786</td>\n",
              "    </tr>\n",
              "    <tr>\n",
              "      <th>130</th>\n",
              "      <td>-0.367774</td>\n",
              "      <td>-0.478596</td>\n",
              "      <td>1.576417</td>\n",
              "      <td>-0.278089</td>\n",
              "      <td>0.632297</td>\n",
              "      <td>0.222424</td>\n",
              "      <td>1.096629</td>\n",
              "      <td>-0.813214</td>\n",
              "      <td>-0.621326</td>\n",
              "      <td>0.192487</td>\n",
              "      <td>1.248209</td>\n",
              "      <td>0.420957</td>\n",
              "      <td>0.004611</td>\n",
              "      <td>-0.373049</td>\n",
              "    </tr>\n",
              "    <tr>\n",
              "      <th>...</th>\n",
              "      <td>...</td>\n",
              "      <td>...</td>\n",
              "      <td>...</td>\n",
              "      <td>...</td>\n",
              "      <td>...</td>\n",
              "      <td>...</td>\n",
              "      <td>...</td>\n",
              "      <td>...</td>\n",
              "      <td>...</td>\n",
              "      <td>...</td>\n",
              "      <td>...</td>\n",
              "      <td>...</td>\n",
              "      <td>...</td>\n",
              "      <td>...</td>\n",
              "    </tr>\n",
              "    <tr>\n",
              "      <th>228</th>\n",
              "      <td>-0.372837</td>\n",
              "      <td>-0.478596</td>\n",
              "      <td>-0.709983</td>\n",
              "      <td>-0.278089</td>\n",
              "      <td>-0.426873</td>\n",
              "      <td>1.973493</td>\n",
              "      <td>-1.850506</td>\n",
              "      <td>-0.209690</td>\n",
              "      <td>-0.155620</td>\n",
              "      <td>-0.584742</td>\n",
              "      <td>-0.483291</td>\n",
              "      <td>0.229211</td>\n",
              "      <td>-1.214934</td>\n",
              "      <td>2.660602</td>\n",
              "    </tr>\n",
              "    <tr>\n",
              "      <th>68</th>\n",
              "      <td>-0.392502</td>\n",
              "      <td>0.064530</td>\n",
              "      <td>-0.728927</td>\n",
              "      <td>-0.278089</td>\n",
              "      <td>-1.265383</td>\n",
              "      <td>-1.009599</td>\n",
              "      <td>-1.138012</td>\n",
              "      <td>1.290187</td>\n",
              "      <td>-0.621326</td>\n",
              "      <td>-0.357552</td>\n",
              "      <td>0.200196</td>\n",
              "      <td>0.441302</td>\n",
              "      <td>0.073457</td>\n",
              "      <td>-0.571615</td>\n",
              "    </tr>\n",
              "    <tr>\n",
              "      <th>458</th>\n",
              "      <td>0.528384</td>\n",
              "      <td>-0.478596</td>\n",
              "      <td>1.024125</td>\n",
              "      <td>-0.278089</td>\n",
              "      <td>1.417849</td>\n",
              "      <td>-0.001451</td>\n",
              "      <td>0.549664</td>\n",
              "      <td>-0.494018</td>\n",
              "      <td>1.707204</td>\n",
              "      <td>1.561606</td>\n",
              "      <td>0.792551</td>\n",
              "      <td>-0.922574</td>\n",
              "      <td>0.514629</td>\n",
              "      <td>-0.847402</td>\n",
              "    </tr>\n",
              "    <tr>\n",
              "      <th>420</th>\n",
              "      <td>0.931618</td>\n",
              "      <td>-0.478596</td>\n",
              "      <td>1.024125</td>\n",
              "      <td>-0.278089</td>\n",
              "      <td>1.461981</td>\n",
              "      <td>0.155404</td>\n",
              "      <td>1.136212</td>\n",
              "      <td>-0.937896</td>\n",
              "      <td>1.707204</td>\n",
              "      <td>1.561606</td>\n",
              "      <td>0.792551</td>\n",
              "      <td>-0.413513</td>\n",
              "      <td>0.344623</td>\n",
              "      <td>-0.648836</td>\n",
              "    </tr>\n",
              "    <tr>\n",
              "      <th>492</th>\n",
              "      <td>-0.395430</td>\n",
              "      <td>-0.478596</td>\n",
              "      <td>2.428898</td>\n",
              "      <td>-0.278089</td>\n",
              "      <td>0.499901</td>\n",
              "      <td>-0.454903</td>\n",
              "      <td>0.542467</td>\n",
              "      <td>-0.817344</td>\n",
              "      <td>-0.621326</td>\n",
              "      <td>1.830647</td>\n",
              "      <td>0.746986</td>\n",
              "      <td>0.441302</td>\n",
              "      <td>0.109987</td>\n",
              "      <td>-0.273766</td>\n",
              "    </tr>\n",
              "  </tbody>\n",
              "</table>\n",
              "<p>404 rows × 14 columns</p>\n",
              "</div>"
            ],
            "text/plain": [
              "         CRIM        ZN     INDUS  ...         B     LSTAT     price\n",
              "218 -0.395506 -0.478596  0.410630  ...  0.441302  0.752075 -0.119325\n",
              "319 -0.351403 -0.478596 -0.170807  ...  0.433973  0.022877 -0.174483\n",
              "465 -0.026398 -0.478596  1.024125  ... -0.242332  0.219577 -0.295829\n",
              "386  2.540410 -0.478596  1.024125  ...  0.441302  2.207661 -1.332786\n",
              "130 -0.367774 -0.478596  1.576417  ...  0.420957  0.004611 -0.373049\n",
              "..        ...       ...       ...  ...       ...       ...       ...\n",
              "228 -0.372837 -0.478596 -0.709983  ...  0.229211 -1.214934  2.660602\n",
              "68  -0.392502  0.064530 -0.728927  ...  0.441302  0.073457 -0.571615\n",
              "458  0.528384 -0.478596  1.024125  ... -0.922574  0.514629 -0.847402\n",
              "420  0.931618 -0.478596  1.024125  ... -0.413513  0.344623 -0.648836\n",
              "492 -0.395430 -0.478596  2.428898  ...  0.441302  0.109987 -0.273766\n",
              "\n",
              "[404 rows x 14 columns]"
            ]
          },
          "metadata": {
            "tags": []
          },
          "execution_count": 29
        }
      ]
    },
    {
      "cell_type": "markdown",
      "metadata": {
        "id": "9QgxxZhjye6U"
      },
      "source": [
        "Q: estimate the mean and standard deviation for one of the new transformed features."
      ]
    },
    {
      "cell_type": "code",
      "metadata": {
        "id": "bF1BAk60ymip",
        "colab": {
          "base_uri": "https://localhost:8080/"
        },
        "outputId": "5590c2c1-87f1-4f55-9994-6df74aff7b1a"
      },
      "source": [
        "df_train_scaled.RM.mean()"
      ],
      "execution_count": null,
      "outputs": [
        {
          "output_type": "execute_result",
          "data": {
            "text/plain": [
              "2.43479603915319e-16"
            ]
          },
          "metadata": {
            "tags": []
          },
          "execution_count": 30
        }
      ]
    },
    {
      "cell_type": "code",
      "metadata": {
        "colab": {
          "base_uri": "https://localhost:8080/"
        },
        "id": "IT88GDNSouRU",
        "outputId": "7df5999c-63f2-490c-c836-c5abc93ae8a5"
      },
      "source": [
        "df_train.RM.std()"
      ],
      "execution_count": null,
      "outputs": [
        {
          "output_type": "execute_result",
          "data": {
            "text/plain": [
              "0.7021553433891305"
            ]
          },
          "metadata": {
            "tags": []
          },
          "execution_count": 31
        }
      ]
    },
    {
      "cell_type": "markdown",
      "metadata": {
        "id": "lwf3qy3_zYzU"
      },
      "source": [
        "Now run your best model again, this time with the scaled training data."
      ]
    },
    {
      "cell_type": "code",
      "metadata": {
        "id": "SPJe3CE3zlZv",
        "colab": {
          "base_uri": "https://localhost:8080/"
        },
        "outputId": "520e087d-f63a-41a3-da99-2cfa9ab5fb50"
      },
      "source": [
        "#1. build the model (define model parameters)\n",
        "large_linear_reg_large_scaled = smf.ols(formula='price ~ RM + ZN + CRIM + INDUS + CHAS + NOX + AGE + DIS + TAX + RAD + PTRATIO + B + LSTAT', data=df_train_scaled) #use training data\n",
        "\n",
        "#2. fit the model to the training data\n",
        "large_linear_reg_large_scaled_res = large_linear_reg_large_scaled.fit()\n",
        "\n",
        "#3. predit with the full model\n",
        "df_test['price_pred_full'] = large_linear_reg_large_scaled_res.predict(df_test) #predict on testing data\n",
        "\n",
        "#Get a summary of the model parameters\n",
        "print(large_linear_reg_large_scaled_res.summary()) \n",
        "\n",
        "\n"
      ],
      "execution_count": null,
      "outputs": [
        {
          "output_type": "stream",
          "text": [
            "/usr/local/lib/python3.7/dist-packages/ipykernel_launcher.py:8: SettingWithCopyWarning: \n",
            "A value is trying to be set on a copy of a slice from a DataFrame.\n",
            "Try using .loc[row_indexer,col_indexer] = value instead\n",
            "\n",
            "See the caveats in the documentation: https://pandas.pydata.org/pandas-docs/stable/user_guide/indexing.html#returning-a-view-versus-a-copy\n",
            "  \n"
          ],
          "name": "stderr"
        },
        {
          "output_type": "stream",
          "text": [
            "                            OLS Regression Results                            \n",
            "==============================================================================\n",
            "Dep. Variable:                  price   R-squared:                       0.749\n",
            "Model:                            OLS   Adj. R-squared:                  0.741\n",
            "Method:                 Least Squares   F-statistic:                     89.62\n",
            "Date:                Tue, 03 Aug 2021   Prob (F-statistic):          2.29e-108\n",
            "Time:                        23:02:03   Log-Likelihood:                -293.87\n",
            "No. Observations:                 404   AIC:                             615.7\n",
            "Df Residuals:                     390   BIC:                             671.8\n",
            "Df Model:                          13                                         \n",
            "Covariance Type:            nonrobust                                         \n",
            "==============================================================================\n",
            "                 coef    std err          t      P>|t|      [0.025      0.975]\n",
            "------------------------------------------------------------------------------\n",
            "Intercept  -1.006e-16      0.025  -3.97e-15      1.000      -0.050       0.050\n",
            "RM             0.2983      0.036      8.263      0.000       0.227       0.369\n",
            "ZN             0.1240      0.039      3.198      0.001       0.048       0.200\n",
            "CRIM          -0.0789      0.034     -2.335      0.020      -0.145      -0.012\n",
            "INDUS         -0.0232      0.051     -0.455      0.649      -0.123       0.077\n",
            "CHAS           0.0874      0.026      3.334      0.001       0.036       0.139\n",
            "NOX           -0.2395      0.052     -4.602      0.000      -0.342      -0.137\n",
            "AGE           -0.0298      0.044     -0.677      0.499      -0.116       0.057\n",
            "DIS           -0.3887      0.051     -7.600      0.000      -0.489      -0.288\n",
            "TAX           -0.2050      0.074     -2.759      0.006      -0.351      -0.059\n",
            "RAD            0.2385      0.066      3.602      0.000       0.108       0.369\n",
            "PTRATIO       -0.2270      0.034     -6.725      0.000      -0.293      -0.161\n",
            "B              0.0849      0.030      2.858      0.004       0.026       0.143\n",
            "LSTAT         -0.3582      0.044     -8.191      0.000      -0.444      -0.272\n",
            "==============================================================================\n",
            "Omnibus:                      139.770   Durbin-Watson:                   2.013\n",
            "Prob(Omnibus):                  0.000   Jarque-Bera (JB):              621.672\n",
            "Skew:                           1.450   Prob(JB):                    1.01e-135\n",
            "Kurtosis:                       8.341   Cond. No.                         9.43\n",
            "==============================================================================\n",
            "\n",
            "Warnings:\n",
            "[1] Standard Errors assume that the covariance matrix of the errors is correctly specified.\n"
          ],
          "name": "stdout"
        }
      ]
    },
    {
      "cell_type": "markdown",
      "metadata": {
        "id": "nj-mUI_j34tG"
      },
      "source": [
        "We can now compare the relative effect of each of the features in predicting the price of a house.\n",
        "> e.g the magnitude and direction of each parameter estimate.\n",
        " \n"
      ]
    },
    {
      "cell_type": "markdown",
      "metadata": {
        "id": "ck64DNX_jcjl"
      },
      "source": [
        "# <font color='lightblue'>Comparing linear regression to random forest</font>"
      ]
    },
    {
      "cell_type": "markdown",
      "metadata": {
        "id": "z0RnuDmic3Yu"
      },
      "source": [
        "Fit a linear regression model. To make things a little easier we'll use LinearRegression from sklearn. This is the same algorithm it just uses the same training and testing split as random forest."
      ]
    },
    {
      "cell_type": "markdown",
      "metadata": {
        "id": "CTW7DweJdTGX"
      },
      "source": [
        "Let's split the data into training and testing"
      ]
    },
    {
      "cell_type": "code",
      "metadata": {
        "id": "EViV0UbLQTdW"
      },
      "source": [
        "#split data into predictors (X) and target (y)\n",
        "X = df_boston.drop(['price','RM'], axis=1)\n",
        "y = df_boston['price']\n",
        "\n",
        "#split these data into training and testing datasets\n",
        "X_train, X_test, y_train, y_test = train_test_split(X, y, test_size=0.20)"
      ],
      "execution_count": null,
      "outputs": []
    },
    {
      "cell_type": "markdown",
      "metadata": {
        "id": "-OxQUP04dV_g"
      },
      "source": [
        "Let's fit a linear regression with the training dataset, and calculate the mean squared error on the test dataset."
      ]
    },
    {
      "cell_type": "code",
      "metadata": {
        "colab": {
          "base_uri": "https://localhost:8080/"
        },
        "id": "B838zWiXUdzh",
        "outputId": "e15e5df6-4b00-4d15-d350-f56c9d995329"
      },
      "source": [
        "from sklearn.linear_model import LinearRegression\n",
        "\n",
        "#1. Build the model\n",
        "linear_reg = LinearRegression()\n",
        "\n",
        "#2. Fit the model to the data\n",
        "linear_reg.fit(X_train, y_train)\n",
        "\n",
        "#3. Make predictions\n",
        "y_linear_pred = linear_reg.predict(X_test)\n",
        "\n",
        "#mean squared error\n",
        "mse_test_linear = sk.metrics.mean_squared_error(y_test, y_linear_pred) \n",
        "\n",
        "print(\" Mean squared error = \", mse_test_linear)"
      ],
      "execution_count": null,
      "outputs": [
        {
          "output_type": "stream",
          "text": [
            " Mean squared error =  18.753597231530662\n"
          ],
          "name": "stdout"
        }
      ]
    },
    {
      "cell_type": "markdown",
      "metadata": {
        "id": "w6Vboj9rQ3TD"
      },
      "source": [
        "Let's now fit a random forest model with the trainnig dataset, and make predictions on the testing dataset."
      ]
    },
    {
      "cell_type": "code",
      "metadata": {
        "id": "fS8iGQsMQmNV"
      },
      "source": [
        "from sklearn.ensemble import RandomForestRegressor\n",
        "\n",
        "#1. Build the model\n",
        "forest_reg = RandomForestRegressor(n_estimators=1000, bootstrap=True, max_features=0.8,max_samples=0.8)\n",
        "\n",
        "#2. Fit the model to the data\n",
        "forest_reg.fit(X_train, y_train)\n",
        "\n",
        "#3. Make predictions\n",
        "y_forest_pred = forest_reg.predict(X_test)"
      ],
      "execution_count": null,
      "outputs": []
    },
    {
      "cell_type": "markdown",
      "metadata": {
        "id": "r8TXjMFDRHXr"
      },
      "source": [
        "Measure the mean squared error. It is lower than the linear regression model, which means it predicts values closer to the real values!"
      ]
    },
    {
      "cell_type": "code",
      "metadata": {
        "colab": {
          "base_uri": "https://localhost:8080/"
        },
        "id": "-cM5JTwIRGoF",
        "outputId": "caa75d9d-306b-4d55-ce52-fd4e0dec8493"
      },
      "source": [
        "#mean squared error\n",
        "mse_test = sk.metrics.mean_squared_error(y_test, y_forest_pred) \n",
        "\n",
        "print(\" Mean squared error = \", mse_test)"
      ],
      "execution_count": null,
      "outputs": [
        {
          "output_type": "stream",
          "text": [
            " Mean squared error =  6.622757318627445\n"
          ],
          "name": "stdout"
        }
      ]
    },
    {
      "cell_type": "markdown",
      "metadata": {
        "id": "-4HqQHQxRYjc"
      },
      "source": [
        "Let's look at the feature importance of variables in the random forest model."
      ]
    },
    {
      "cell_type": "code",
      "metadata": {
        "colab": {
          "base_uri": "https://localhost:8080/",
          "height": 457
        },
        "id": "Jedo6F0mRdQj",
        "outputId": "929a51af-c140-4493-b429-5c88ce50ef12"
      },
      "source": [
        "from sklearn.inspection import permutation_importance\n",
        "\n",
        "#use permutation importance\n",
        "perm_result = permutation_importance(forest_reg, X=X_test, y=y_test, scoring='neg_mean_squared_error', n_repeats=30)\n",
        "\n",
        "#place values into a dataframe\n",
        "forest_importances = pd.DataFrame({'variable':X_test.columns,'impo':perm_result.importances_mean.round(4), \"sd\":perm_result.importances_std.round(4)})\n",
        "\n",
        "#sort the dataframe\n",
        "forest_importances.sort_values(by='impo', ascending=False)"
      ],
      "execution_count": null,
      "outputs": [
        {
          "output_type": "execute_result",
          "data": {
            "text/html": [
              "<div>\n",
              "<style scoped>\n",
              "    .dataframe tbody tr th:only-of-type {\n",
              "        vertical-align: middle;\n",
              "    }\n",
              "\n",
              "    .dataframe tbody tr th {\n",
              "        vertical-align: top;\n",
              "    }\n",
              "\n",
              "    .dataframe thead th {\n",
              "        text-align: right;\n",
              "    }\n",
              "</style>\n",
              "<table border=\"1\" class=\"dataframe\">\n",
              "  <thead>\n",
              "    <tr style=\"text-align: right;\">\n",
              "      <th></th>\n",
              "      <th>variable</th>\n",
              "      <th>impo</th>\n",
              "      <th>sd</th>\n",
              "    </tr>\n",
              "  </thead>\n",
              "  <tbody>\n",
              "    <tr>\n",
              "      <th>12</th>\n",
              "      <td>LSTAT</td>\n",
              "      <td>45.5727</td>\n",
              "      <td>8.4872</td>\n",
              "    </tr>\n",
              "    <tr>\n",
              "      <th>5</th>\n",
              "      <td>RM</td>\n",
              "      <td>34.0057</td>\n",
              "      <td>4.0587</td>\n",
              "    </tr>\n",
              "    <tr>\n",
              "      <th>7</th>\n",
              "      <td>DIS</td>\n",
              "      <td>3.4657</td>\n",
              "      <td>1.2023</td>\n",
              "    </tr>\n",
              "    <tr>\n",
              "      <th>0</th>\n",
              "      <td>CRIM</td>\n",
              "      <td>3.4146</td>\n",
              "      <td>0.5393</td>\n",
              "    </tr>\n",
              "    <tr>\n",
              "      <th>4</th>\n",
              "      <td>NOX</td>\n",
              "      <td>3.2903</td>\n",
              "      <td>0.5963</td>\n",
              "    </tr>\n",
              "    <tr>\n",
              "      <th>10</th>\n",
              "      <td>PTRATIO</td>\n",
              "      <td>0.9953</td>\n",
              "      <td>0.4005</td>\n",
              "    </tr>\n",
              "    <tr>\n",
              "      <th>6</th>\n",
              "      <td>AGE</td>\n",
              "      <td>0.8912</td>\n",
              "      <td>0.2321</td>\n",
              "    </tr>\n",
              "    <tr>\n",
              "      <th>9</th>\n",
              "      <td>TAX</td>\n",
              "      <td>0.6426</td>\n",
              "      <td>0.1104</td>\n",
              "    </tr>\n",
              "    <tr>\n",
              "      <th>11</th>\n",
              "      <td>B</td>\n",
              "      <td>0.5557</td>\n",
              "      <td>0.0958</td>\n",
              "    </tr>\n",
              "    <tr>\n",
              "      <th>2</th>\n",
              "      <td>INDUS</td>\n",
              "      <td>0.2650</td>\n",
              "      <td>0.0747</td>\n",
              "    </tr>\n",
              "    <tr>\n",
              "      <th>8</th>\n",
              "      <td>RAD</td>\n",
              "      <td>0.1850</td>\n",
              "      <td>0.1038</td>\n",
              "    </tr>\n",
              "    <tr>\n",
              "      <th>1</th>\n",
              "      <td>ZN</td>\n",
              "      <td>-0.0009</td>\n",
              "      <td>0.0136</td>\n",
              "    </tr>\n",
              "    <tr>\n",
              "      <th>3</th>\n",
              "      <td>CHAS</td>\n",
              "      <td>-0.0011</td>\n",
              "      <td>0.0363</td>\n",
              "    </tr>\n",
              "  </tbody>\n",
              "</table>\n",
              "</div>"
            ],
            "text/plain": [
              "   variable     impo      sd\n",
              "12    LSTAT  45.5727  8.4872\n",
              "5        RM  34.0057  4.0587\n",
              "7       DIS   3.4657  1.2023\n",
              "0      CRIM   3.4146  0.5393\n",
              "4       NOX   3.2903  0.5963\n",
              "10  PTRATIO   0.9953  0.4005\n",
              "6       AGE   0.8912  0.2321\n",
              "9       TAX   0.6426  0.1104\n",
              "11        B   0.5557  0.0958\n",
              "2     INDUS   0.2650  0.0747\n",
              "8       RAD   0.1850  0.1038\n",
              "1        ZN  -0.0009  0.0136\n",
              "3      CHAS  -0.0011  0.0363"
            ]
          },
          "metadata": {
            "tags": []
          },
          "execution_count": 40
        }
      ]
    },
    {
      "cell_type": "markdown",
      "metadata": {
        "id": "iDQExcP4d3uQ"
      },
      "source": [
        "LSTAT and RM seem to be very important for making acurate predictions!"
      ]
    },
    {
      "cell_type": "markdown",
      "metadata": {
        "id": "-9VqhzKCRdsU"
      },
      "source": [
        "Let's now ask questions and see what the model predicts? \n",
        "> E.g., what if Lstat changed, how does that affect the predicted house price."
      ]
    },
    {
      "cell_type": "markdown",
      "metadata": {
        "id": "Am7DdVl3eXfe"
      },
      "source": [
        "Let's see how the model predictions change for the average house when we vary LSTAT. "
      ]
    },
    {
      "cell_type": "code",
      "metadata": {
        "id": "4rSrL9ttRfZW",
        "colab": {
          "base_uri": "https://localhost:8080/"
        },
        "outputId": "74c24b78-d250-484a-d177-886a7ab851f5"
      },
      "source": [
        "#1. Create a dataframe\n",
        "df_question = pd.DataFrame({'LSTAT':list(range(1,37,1)),\n",
        "                            'RM':X_train.RM.mean(),\n",
        "                            'DIS':X_train.DIS.mean(),\n",
        "                            'CRIM':X_train.CRIM.mean(),\n",
        "                            'NOX':X_train.NOX.mean(),\n",
        "                            'PTRATIO':X_train.PTRATIO.mean(),\n",
        "                            'AGE':X_train.AGE.mean(),\n",
        "                            'TAX':X_train.TAX.mean(),\n",
        "                            'B':X_train.B.mean(),\n",
        "                            'INDUS':X_train.INDUS.mean(),\n",
        "                            'RAD':X_train.RAD.mean(),\n",
        "                            'ZN':X_train.ZN.mean(),\n",
        "                            'CHAS':X_train.CHAS.mean()})\n",
        "                            \n",
        "\n",
        "#2. Use the model to make predictions\n",
        "question_pred =  forest_reg.predict(df_question)\n",
        "\n",
        "#3. Take a look at the answer\n",
        "question_pred\n",
        "\n"
      ],
      "execution_count": 95,
      "outputs": [
        {
          "output_type": "execute_result",
          "data": {
            "text/plain": [
              "array([43.538 , 43.5803, 42.2566, 42.2566, 42.2597, 42.2306, 42.2234,\n",
              "       42.2234, 42.1884, 42.1884, 42.1884, 42.1884, 42.1884, 42.1815,\n",
              "       42.1815, 42.1815, 42.1815, 42.1465, 42.1465, 42.1465, 42.1465,\n",
              "       42.1465, 42.1465, 42.1465, 42.1465, 42.1465, 42.1465, 42.1465,\n",
              "       42.1465, 42.1465, 42.1465, 42.1465, 42.1465, 42.1465, 42.1465,\n",
              "       42.1465])"
            ]
          },
          "metadata": {
            "tags": []
          },
          "execution_count": 95
        }
      ]
    },
    {
      "cell_type": "code",
      "metadata": {
        "colab": {
          "base_uri": "https://localhost:8080/",
          "height": 297
        },
        "id": "5Ji3fz2yS9bk",
        "outputId": "ded49727-eee7-4c05-d567-2bb7007dbc9d"
      },
      "source": [
        "#add a column to the df_question\n",
        "df_question['predicted_price'] = question_pred\n",
        "\n",
        "\n",
        "#plot the predictions\n",
        "sns.scatterplot(data=df_question, x='LSTAT',y='predicted_price')"
      ],
      "execution_count": 96,
      "outputs": [
        {
          "output_type": "execute_result",
          "data": {
            "text/plain": [
              "<matplotlib.axes._subplots.AxesSubplot at 0x7f9d37c45990>"
            ]
          },
          "metadata": {
            "tags": []
          },
          "execution_count": 96
        },
        {
          "output_type": "display_data",
          "data": {
            "image/png": "[encoded data removed]",
            "text/plain": [
              "<Figure size 432x288 with 1 Axes>"
            ]
          },
          "metadata": {
            "tags": [],
            "needs_background": "light"
          }
        }
      ]
    },
    {
      "cell_type": "markdown",
      "metadata": {
        "id": "IzU9uu6CeMg8"
      },
      "source": [
        "We can see that the model predicts that LSTAT has a non-linear and decreasing effect on house prices."
      ]
    }
  ]
}