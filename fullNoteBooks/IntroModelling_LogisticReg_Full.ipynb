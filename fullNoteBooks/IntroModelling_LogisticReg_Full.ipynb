{
  "nbformat": 4,
  "nbformat_minor": 0,
  "metadata": {
    "colab": {
      "name": "IntroModelling_LogisticReg_Full.ipynb",
      "provenance": [],
      "collapsed_sections": [],
      "authorship_tag": "ABX9TyPvarf5QhKDLF6jYR8694Pj",
      "include_colab_link": true
    },
    "kernelspec": {
      "name": "python3",
      "display_name": "Python 3"
    },
    "language_info": {
      "name": "python"
    }
  },
  "cells": [
    {
      "cell_type": "markdown",
      "metadata": {
        "id": "view-in-github",
        "colab_type": "text"
      },
      "source": [
        "<a href=\"https://colab.research.google.com/github/tbonne/IntroDataScience/blob/main/fullNoteBooks/IntroModelling_LogisticReg_Full.ipynb\" target=\"_parent\"><img src=\"https://colab.research.google.com/assets/colab-badge.svg\" alt=\"Open In Colab\"/></a>"
      ]
    },
    {
      "cell_type": "markdown",
      "metadata": {
        "id": "0BFAQnfHmeaB"
      },
      "source": [
        "<img src='http://drive.google.com/uc?export=view&id=1bZKsW45WU9qy7y13X5QF5IYgJ58OTYm0'>"
      ]
    },
    {
      "cell_type": "markdown",
      "metadata": {
        "id": "4VTsxBzT7tAb"
      },
      "source": [
        "#<font color='darkorange'>Logistic regression</font>"
      ]
    },
    {
      "cell_type": "markdown",
      "metadata": {
        "id": "03s3L0-C8Zxr"
      },
      "source": [
        "> In previous classes we have used exploritory approaches to visualize and quantify relationships between variables. We used linear regression to make predictions about numeric values (e.g., boston house prices), now we will use logistic regression models for a classification problem. Here we will try and distinguish tissue samples as positive/negative for breast cancer."
      ]
    },
    {
      "cell_type": "markdown",
      "metadata": {
        "id": "MAhpAGvgCH_5"
      },
      "source": [
        "Let's load in our growing list of python packages that we are getting used to using.\n"
      ]
    },
    {
      "cell_type": "code",
      "metadata": {
        "id": "JyXkhDShnx8J"
      },
      "source": [
        "import sklearn as sk\n",
        "from sklearn.model_selection import train_test_split\n",
        "\n",
        "import pandas as pd\n",
        "import seaborn as sns\n",
        "import matplotlib.pyplot as plt\n",
        "\n",
        "import statsmodels.api as sm\n",
        "import statsmodels.formula.api as smf\n"
      ],
      "execution_count": 88,
      "outputs": []
    },
    {
      "cell_type": "markdown",
      "metadata": {
        "id": "aZZS3rQvo7Xk"
      },
      "source": [
        "Then let's load in the breast cancer dataset, and get it into a format we can use."
      ]
    },
    {
      "cell_type": "code",
      "metadata": {
        "colab": {
          "base_uri": "https://localhost:8080/",
          "height": 443
        },
        "id": "Iv6LFQPupABa",
        "outputId": "dd75eff4-2cb4-4e69-b013-48cd28765b9f"
      },
      "source": [
        "# The tissue sample dataset\n",
        "df_cancer = pd.read_csv('/content/tissueSamples.csv')\n",
        "\n",
        "#take a look\n",
        "df_cancer"
      ],
      "execution_count": 89,
      "outputs": [
        {
          "output_type": "execute_result",
          "data": {
            "text/html": [
              "<div>\n",
              "<style scoped>\n",
              "    .dataframe tbody tr th:only-of-type {\n",
              "        vertical-align: middle;\n",
              "    }\n",
              "\n",
              "    .dataframe tbody tr th {\n",
              "        vertical-align: top;\n",
              "    }\n",
              "\n",
              "    .dataframe thead th {\n",
              "        text-align: right;\n",
              "    }\n",
              "</style>\n",
              "<table border=\"1\" class=\"dataframe\">\n",
              "  <thead>\n",
              "    <tr style=\"text-align: right;\">\n",
              "      <th></th>\n",
              "      <th>mean_radius</th>\n",
              "      <th>mean_texture</th>\n",
              "      <th>mean_perimeter</th>\n",
              "      <th>mean_area</th>\n",
              "      <th>mean_smoothness</th>\n",
              "      <th>mean_compactness</th>\n",
              "      <th>mean_concavity</th>\n",
              "      <th>mean_concave_points</th>\n",
              "      <th>mean_symmetry</th>\n",
              "      <th>mean_fractal_dimension</th>\n",
              "      <th>radius_error</th>\n",
              "      <th>texture_error</th>\n",
              "      <th>perimeter_error</th>\n",
              "      <th>area_error</th>\n",
              "      <th>smoothness_error</th>\n",
              "      <th>compactness_error</th>\n",
              "      <th>concavity_error</th>\n",
              "      <th>concave_points_error</th>\n",
              "      <th>symmetry_error</th>\n",
              "      <th>fractal_dimension_error</th>\n",
              "      <th>worst_radius</th>\n",
              "      <th>worst_texture</th>\n",
              "      <th>worst_perimeter</th>\n",
              "      <th>worst_area</th>\n",
              "      <th>worst_smoothness</th>\n",
              "      <th>worst_compactness</th>\n",
              "      <th>worst_concavity</th>\n",
              "      <th>worst_concave_points</th>\n",
              "      <th>worst_symmetry</th>\n",
              "      <th>worst_fractal_dimension</th>\n",
              "      <th>benign</th>\n",
              "      <th>technician</th>\n",
              "    </tr>\n",
              "  </thead>\n",
              "  <tbody>\n",
              "    <tr>\n",
              "      <th>0</th>\n",
              "      <td>17.99</td>\n",
              "      <td>10.38</td>\n",
              "      <td>122.80</td>\n",
              "      <td>1001.0</td>\n",
              "      <td>0.11840</td>\n",
              "      <td>0.27760</td>\n",
              "      <td>0.30010</td>\n",
              "      <td>0.14710</td>\n",
              "      <td>0.2419</td>\n",
              "      <td>0.07871</td>\n",
              "      <td>1.0950</td>\n",
              "      <td>0.9053</td>\n",
              "      <td>8.589</td>\n",
              "      <td>153.40</td>\n",
              "      <td>0.006399</td>\n",
              "      <td>0.04904</td>\n",
              "      <td>0.05373</td>\n",
              "      <td>0.01587</td>\n",
              "      <td>0.03003</td>\n",
              "      <td>0.006193</td>\n",
              "      <td>25.380</td>\n",
              "      <td>17.33</td>\n",
              "      <td>184.60</td>\n",
              "      <td>2019.0</td>\n",
              "      <td>0.16220</td>\n",
              "      <td>0.66560</td>\n",
              "      <td>0.7119</td>\n",
              "      <td>0.2654</td>\n",
              "      <td>0.4601</td>\n",
              "      <td>0.11890</td>\n",
              "      <td>benign</td>\n",
              "      <td>2</td>\n",
              "    </tr>\n",
              "    <tr>\n",
              "      <th>1</th>\n",
              "      <td>20.57</td>\n",
              "      <td>17.77</td>\n",
              "      <td>132.90</td>\n",
              "      <td>1326.0</td>\n",
              "      <td>0.08474</td>\n",
              "      <td>0.07864</td>\n",
              "      <td>0.08690</td>\n",
              "      <td>0.07017</td>\n",
              "      <td>0.1812</td>\n",
              "      <td>0.05667</td>\n",
              "      <td>0.5435</td>\n",
              "      <td>0.7339</td>\n",
              "      <td>3.398</td>\n",
              "      <td>74.08</td>\n",
              "      <td>0.005225</td>\n",
              "      <td>0.01308</td>\n",
              "      <td>0.01860</td>\n",
              "      <td>0.01340</td>\n",
              "      <td>0.01389</td>\n",
              "      <td>0.003532</td>\n",
              "      <td>24.990</td>\n",
              "      <td>23.41</td>\n",
              "      <td>158.80</td>\n",
              "      <td>1956.0</td>\n",
              "      <td>0.12380</td>\n",
              "      <td>0.18660</td>\n",
              "      <td>0.2416</td>\n",
              "      <td>0.1860</td>\n",
              "      <td>0.2750</td>\n",
              "      <td>0.08902</td>\n",
              "      <td>benign</td>\n",
              "      <td>3</td>\n",
              "    </tr>\n",
              "    <tr>\n",
              "      <th>2</th>\n",
              "      <td>19.69</td>\n",
              "      <td>21.25</td>\n",
              "      <td>130.00</td>\n",
              "      <td>1203.0</td>\n",
              "      <td>0.10960</td>\n",
              "      <td>0.15990</td>\n",
              "      <td>0.19740</td>\n",
              "      <td>0.12790</td>\n",
              "      <td>0.2069</td>\n",
              "      <td>0.05999</td>\n",
              "      <td>0.7456</td>\n",
              "      <td>0.7869</td>\n",
              "      <td>4.585</td>\n",
              "      <td>94.03</td>\n",
              "      <td>0.006150</td>\n",
              "      <td>0.04006</td>\n",
              "      <td>0.03832</td>\n",
              "      <td>0.02058</td>\n",
              "      <td>0.02250</td>\n",
              "      <td>0.004571</td>\n",
              "      <td>23.570</td>\n",
              "      <td>25.53</td>\n",
              "      <td>152.50</td>\n",
              "      <td>1709.0</td>\n",
              "      <td>0.14440</td>\n",
              "      <td>0.42450</td>\n",
              "      <td>0.4504</td>\n",
              "      <td>0.2430</td>\n",
              "      <td>0.3613</td>\n",
              "      <td>0.08758</td>\n",
              "      <td>benign</td>\n",
              "      <td>3</td>\n",
              "    </tr>\n",
              "    <tr>\n",
              "      <th>3</th>\n",
              "      <td>11.42</td>\n",
              "      <td>20.38</td>\n",
              "      <td>77.58</td>\n",
              "      <td>386.1</td>\n",
              "      <td>0.14250</td>\n",
              "      <td>0.28390</td>\n",
              "      <td>0.24140</td>\n",
              "      <td>0.10520</td>\n",
              "      <td>0.2597</td>\n",
              "      <td>0.09744</td>\n",
              "      <td>0.4956</td>\n",
              "      <td>1.1560</td>\n",
              "      <td>3.445</td>\n",
              "      <td>27.23</td>\n",
              "      <td>0.009110</td>\n",
              "      <td>0.07458</td>\n",
              "      <td>0.05661</td>\n",
              "      <td>0.01867</td>\n",
              "      <td>0.05963</td>\n",
              "      <td>0.009208</td>\n",
              "      <td>14.910</td>\n",
              "      <td>26.50</td>\n",
              "      <td>98.87</td>\n",
              "      <td>567.7</td>\n",
              "      <td>0.20980</td>\n",
              "      <td>0.86630</td>\n",
              "      <td>0.6869</td>\n",
              "      <td>0.2575</td>\n",
              "      <td>0.6638</td>\n",
              "      <td>0.17300</td>\n",
              "      <td>benign</td>\n",
              "      <td>1</td>\n",
              "    </tr>\n",
              "    <tr>\n",
              "      <th>4</th>\n",
              "      <td>20.29</td>\n",
              "      <td>14.34</td>\n",
              "      <td>135.10</td>\n",
              "      <td>1297.0</td>\n",
              "      <td>0.10030</td>\n",
              "      <td>0.13280</td>\n",
              "      <td>0.19800</td>\n",
              "      <td>0.10430</td>\n",
              "      <td>0.1809</td>\n",
              "      <td>0.05883</td>\n",
              "      <td>0.7572</td>\n",
              "      <td>0.7813</td>\n",
              "      <td>5.438</td>\n",
              "      <td>94.44</td>\n",
              "      <td>0.011490</td>\n",
              "      <td>0.02461</td>\n",
              "      <td>0.05688</td>\n",
              "      <td>0.01885</td>\n",
              "      <td>0.01756</td>\n",
              "      <td>0.005115</td>\n",
              "      <td>22.540</td>\n",
              "      <td>16.67</td>\n",
              "      <td>152.20</td>\n",
              "      <td>1575.0</td>\n",
              "      <td>0.13740</td>\n",
              "      <td>0.20500</td>\n",
              "      <td>0.4000</td>\n",
              "      <td>0.1625</td>\n",
              "      <td>0.2364</td>\n",
              "      <td>0.07678</td>\n",
              "      <td>benign</td>\n",
              "      <td>1</td>\n",
              "    </tr>\n",
              "    <tr>\n",
              "      <th>...</th>\n",
              "      <td>...</td>\n",
              "      <td>...</td>\n",
              "      <td>...</td>\n",
              "      <td>...</td>\n",
              "      <td>...</td>\n",
              "      <td>...</td>\n",
              "      <td>...</td>\n",
              "      <td>...</td>\n",
              "      <td>...</td>\n",
              "      <td>...</td>\n",
              "      <td>...</td>\n",
              "      <td>...</td>\n",
              "      <td>...</td>\n",
              "      <td>...</td>\n",
              "      <td>...</td>\n",
              "      <td>...</td>\n",
              "      <td>...</td>\n",
              "      <td>...</td>\n",
              "      <td>...</td>\n",
              "      <td>...</td>\n",
              "      <td>...</td>\n",
              "      <td>...</td>\n",
              "      <td>...</td>\n",
              "      <td>...</td>\n",
              "      <td>...</td>\n",
              "      <td>...</td>\n",
              "      <td>...</td>\n",
              "      <td>...</td>\n",
              "      <td>...</td>\n",
              "      <td>...</td>\n",
              "      <td>...</td>\n",
              "      <td>...</td>\n",
              "    </tr>\n",
              "    <tr>\n",
              "      <th>564</th>\n",
              "      <td>21.56</td>\n",
              "      <td>22.39</td>\n",
              "      <td>142.00</td>\n",
              "      <td>1479.0</td>\n",
              "      <td>0.11100</td>\n",
              "      <td>0.11590</td>\n",
              "      <td>0.24390</td>\n",
              "      <td>0.13890</td>\n",
              "      <td>0.1726</td>\n",
              "      <td>0.05623</td>\n",
              "      <td>1.1760</td>\n",
              "      <td>1.2560</td>\n",
              "      <td>7.673</td>\n",
              "      <td>158.70</td>\n",
              "      <td>0.010300</td>\n",
              "      <td>0.02891</td>\n",
              "      <td>0.05198</td>\n",
              "      <td>0.02454</td>\n",
              "      <td>0.01114</td>\n",
              "      <td>0.004239</td>\n",
              "      <td>25.450</td>\n",
              "      <td>26.40</td>\n",
              "      <td>166.10</td>\n",
              "      <td>2027.0</td>\n",
              "      <td>0.14100</td>\n",
              "      <td>0.21130</td>\n",
              "      <td>0.4107</td>\n",
              "      <td>0.2216</td>\n",
              "      <td>0.2060</td>\n",
              "      <td>0.07115</td>\n",
              "      <td>benign</td>\n",
              "      <td>3</td>\n",
              "    </tr>\n",
              "    <tr>\n",
              "      <th>565</th>\n",
              "      <td>20.13</td>\n",
              "      <td>28.25</td>\n",
              "      <td>131.20</td>\n",
              "      <td>1261.0</td>\n",
              "      <td>0.09780</td>\n",
              "      <td>0.10340</td>\n",
              "      <td>0.14400</td>\n",
              "      <td>0.09791</td>\n",
              "      <td>0.1752</td>\n",
              "      <td>0.05533</td>\n",
              "      <td>0.7655</td>\n",
              "      <td>2.4630</td>\n",
              "      <td>5.203</td>\n",
              "      <td>99.04</td>\n",
              "      <td>0.005769</td>\n",
              "      <td>0.02423</td>\n",
              "      <td>0.03950</td>\n",
              "      <td>0.01678</td>\n",
              "      <td>0.01898</td>\n",
              "      <td>0.002498</td>\n",
              "      <td>23.690</td>\n",
              "      <td>38.25</td>\n",
              "      <td>155.00</td>\n",
              "      <td>1731.0</td>\n",
              "      <td>0.11660</td>\n",
              "      <td>0.19220</td>\n",
              "      <td>0.3215</td>\n",
              "      <td>0.1628</td>\n",
              "      <td>0.2572</td>\n",
              "      <td>0.06637</td>\n",
              "      <td>benign</td>\n",
              "      <td>4</td>\n",
              "    </tr>\n",
              "    <tr>\n",
              "      <th>566</th>\n",
              "      <td>16.60</td>\n",
              "      <td>28.08</td>\n",
              "      <td>108.30</td>\n",
              "      <td>858.1</td>\n",
              "      <td>0.08455</td>\n",
              "      <td>0.10230</td>\n",
              "      <td>0.09251</td>\n",
              "      <td>0.05302</td>\n",
              "      <td>0.1590</td>\n",
              "      <td>0.05648</td>\n",
              "      <td>0.4564</td>\n",
              "      <td>1.0750</td>\n",
              "      <td>3.425</td>\n",
              "      <td>48.55</td>\n",
              "      <td>0.005903</td>\n",
              "      <td>0.03731</td>\n",
              "      <td>0.04730</td>\n",
              "      <td>0.01557</td>\n",
              "      <td>0.01318</td>\n",
              "      <td>0.003892</td>\n",
              "      <td>18.980</td>\n",
              "      <td>34.12</td>\n",
              "      <td>126.70</td>\n",
              "      <td>1124.0</td>\n",
              "      <td>0.11390</td>\n",
              "      <td>0.30940</td>\n",
              "      <td>0.3403</td>\n",
              "      <td>0.1418</td>\n",
              "      <td>0.2218</td>\n",
              "      <td>0.07820</td>\n",
              "      <td>benign</td>\n",
              "      <td>3</td>\n",
              "    </tr>\n",
              "    <tr>\n",
              "      <th>567</th>\n",
              "      <td>20.60</td>\n",
              "      <td>29.33</td>\n",
              "      <td>140.10</td>\n",
              "      <td>1265.0</td>\n",
              "      <td>0.11780</td>\n",
              "      <td>0.27700</td>\n",
              "      <td>0.35140</td>\n",
              "      <td>0.15200</td>\n",
              "      <td>0.2397</td>\n",
              "      <td>0.07016</td>\n",
              "      <td>0.7260</td>\n",
              "      <td>1.5950</td>\n",
              "      <td>5.772</td>\n",
              "      <td>86.22</td>\n",
              "      <td>0.006522</td>\n",
              "      <td>0.06158</td>\n",
              "      <td>0.07117</td>\n",
              "      <td>0.01664</td>\n",
              "      <td>0.02324</td>\n",
              "      <td>0.006185</td>\n",
              "      <td>25.740</td>\n",
              "      <td>39.42</td>\n",
              "      <td>184.60</td>\n",
              "      <td>1821.0</td>\n",
              "      <td>0.16500</td>\n",
              "      <td>0.86810</td>\n",
              "      <td>0.9387</td>\n",
              "      <td>0.2650</td>\n",
              "      <td>0.4087</td>\n",
              "      <td>0.12400</td>\n",
              "      <td>benign</td>\n",
              "      <td>3</td>\n",
              "    </tr>\n",
              "    <tr>\n",
              "      <th>568</th>\n",
              "      <td>7.76</td>\n",
              "      <td>24.54</td>\n",
              "      <td>47.92</td>\n",
              "      <td>181.0</td>\n",
              "      <td>0.05263</td>\n",
              "      <td>0.04362</td>\n",
              "      <td>0.00000</td>\n",
              "      <td>0.00000</td>\n",
              "      <td>0.1587</td>\n",
              "      <td>0.05884</td>\n",
              "      <td>0.3857</td>\n",
              "      <td>1.4280</td>\n",
              "      <td>2.548</td>\n",
              "      <td>19.15</td>\n",
              "      <td>0.007189</td>\n",
              "      <td>0.00466</td>\n",
              "      <td>0.00000</td>\n",
              "      <td>0.00000</td>\n",
              "      <td>0.02676</td>\n",
              "      <td>0.002783</td>\n",
              "      <td>9.456</td>\n",
              "      <td>30.37</td>\n",
              "      <td>59.16</td>\n",
              "      <td>268.6</td>\n",
              "      <td>0.08996</td>\n",
              "      <td>0.06444</td>\n",
              "      <td>0.0000</td>\n",
              "      <td>0.0000</td>\n",
              "      <td>0.2871</td>\n",
              "      <td>0.07039</td>\n",
              "      <td>cancer</td>\n",
              "      <td>1</td>\n",
              "    </tr>\n",
              "  </tbody>\n",
              "</table>\n",
              "<p>569 rows × 32 columns</p>\n",
              "</div>"
            ],
            "text/plain": [
              "     mean_radius  mean_texture  ...  benign  technician\n",
              "0          17.99         10.38  ...  benign           2\n",
              "1          20.57         17.77  ...  benign           3\n",
              "2          19.69         21.25  ...  benign           3\n",
              "3          11.42         20.38  ...  benign           1\n",
              "4          20.29         14.34  ...  benign           1\n",
              "..           ...           ...  ...     ...         ...\n",
              "564        21.56         22.39  ...  benign           3\n",
              "565        20.13         28.25  ...  benign           4\n",
              "566        16.60         28.08  ...  benign           3\n",
              "567        20.60         29.33  ...  benign           3\n",
              "568         7.76         24.54  ...  cancer           1\n",
              "\n",
              "[569 rows x 32 columns]"
            ]
          },
          "metadata": {
            "tags": []
          },
          "execution_count": 89
        }
      ]
    },
    {
      "cell_type": "markdown",
      "metadata": {
        "id": "wJHjdshLGGyI"
      },
      "source": [
        "##<font color='darkorange'>Understand the data </font>"
      ]
    },
    {
      "cell_type": "markdown",
      "metadata": {
        "id": "E-eSiYP3HOlx"
      },
      "source": [
        "What kinds of data is the cancer data?\n"
      ]
    },
    {
      "cell_type": "code",
      "metadata": {
        "id": "3YbSSBjNHWun",
        "colab": {
          "base_uri": "https://localhost:8080/"
        },
        "outputId": "a51f86f0-2196-4eaa-e8cf-970414987133"
      },
      "source": [
        "df_cancer.dtypes"
      ],
      "execution_count": 90,
      "outputs": [
        {
          "output_type": "execute_result",
          "data": {
            "text/plain": [
              "mean_radius                float64\n",
              "mean_texture               float64\n",
              "mean_perimeter             float64\n",
              "mean_area                  float64\n",
              "mean_smoothness            float64\n",
              "mean_compactness           float64\n",
              "mean_concavity             float64\n",
              "mean_concave_points        float64\n",
              "mean_symmetry              float64\n",
              "mean_fractal_dimension     float64\n",
              "radius_error               float64\n",
              "texture_error              float64\n",
              "perimeter_error            float64\n",
              "area_error                 float64\n",
              "smoothness_error           float64\n",
              "compactness_error          float64\n",
              "concavity_error            float64\n",
              "concave_points_error       float64\n",
              "symmetry_error             float64\n",
              "fractal_dimension_error    float64\n",
              "worst_radius               float64\n",
              "worst_texture              float64\n",
              "worst_perimeter            float64\n",
              "worst_area                 float64\n",
              "worst_smoothness           float64\n",
              "worst_compactness          float64\n",
              "worst_concavity            float64\n",
              "worst_concave_points       float64\n",
              "worst_symmetry             float64\n",
              "worst_fractal_dimension    float64\n",
              "benign                      object\n",
              "technician                   int64\n",
              "dtype: object"
            ]
          },
          "metadata": {
            "tags": []
          },
          "execution_count": 90
        }
      ]
    },
    {
      "cell_type": "markdown",
      "metadata": {
        "id": "4JTcOqxPHXZh"
      },
      "source": [
        "Are there missing values anywhere?"
      ]
    },
    {
      "cell_type": "code",
      "metadata": {
        "id": "6hmyJub7HX6h",
        "colab": {
          "base_uri": "https://localhost:8080/"
        },
        "outputId": "521616e2-f580-4987-c5a4-8c14e92282d1"
      },
      "source": [
        "df_cancer.isna().sum()"
      ],
      "execution_count": 91,
      "outputs": [
        {
          "output_type": "execute_result",
          "data": {
            "text/plain": [
              "mean_radius                0\n",
              "mean_texture               0\n",
              "mean_perimeter             0\n",
              "mean_area                  0\n",
              "mean_smoothness            0\n",
              "mean_compactness           0\n",
              "mean_concavity             0\n",
              "mean_concave_points        0\n",
              "mean_symmetry              0\n",
              "mean_fractal_dimension     0\n",
              "radius_error               0\n",
              "texture_error              0\n",
              "perimeter_error            0\n",
              "area_error                 0\n",
              "smoothness_error           0\n",
              "compactness_error          0\n",
              "concavity_error            0\n",
              "concave_points_error       0\n",
              "symmetry_error             0\n",
              "fractal_dimension_error    0\n",
              "worst_radius               0\n",
              "worst_texture              0\n",
              "worst_perimeter            0\n",
              "worst_area                 0\n",
              "worst_smoothness           0\n",
              "worst_compactness          0\n",
              "worst_concavity            0\n",
              "worst_concave_points       0\n",
              "worst_symmetry             0\n",
              "worst_fractal_dimension    0\n",
              "benign                     0\n",
              "technician                 0\n",
              "dtype: int64"
            ]
          },
          "metadata": {
            "tags": []
          },
          "execution_count": 91
        }
      ]
    },
    {
      "cell_type": "markdown",
      "metadata": {
        "id": "IRu_wGLKG5qK"
      },
      "source": [
        "##<font color='darkorange'>Visualize and Explore </font>"
      ]
    },
    {
      "cell_type": "markdown",
      "metadata": {
        "id": "mEcsEoBeFpYa"
      },
      "source": [
        "Histogram of the dependent variable"
      ]
    },
    {
      "cell_type": "code",
      "metadata": {
        "id": "RNIgmjtjFrz5",
        "colab": {
          "base_uri": "https://localhost:8080/",
          "height": 387
        },
        "outputId": "2c318896-ebe4-408f-8844-aeb68b4b85c0"
      },
      "source": [
        "sns.displot(data=df_cancer,x='benign')"
      ],
      "execution_count": 92,
      "outputs": [
        {
          "output_type": "execute_result",
          "data": {
            "text/plain": [
              "<seaborn.axisgrid.FacetGrid at 0x7fe448e837d0>"
            ]
          },
          "metadata": {
            "tags": []
          },
          "execution_count": 92
        },
        {
          "output_type": "display_data",
          "data": {
            "image/png": "[encoded data removed]",
            "text/plain": [
              "<Figure size 360x360 with 1 Axes>"
            ]
          },
          "metadata": {
            "tags": [],
            "needs_background": "light"
          }
        }
      ]
    },
    {
      "cell_type": "markdown",
      "metadata": {
        "id": "g87llbBEG-J4"
      },
      "source": [
        "Plot the dependent variable (benign) on the y-axis with another variable on the x-axis. Try out a few different variables on the x-axis."
      ]
    },
    {
      "cell_type": "code",
      "metadata": {
        "colab": {
          "base_uri": "https://localhost:8080/",
          "height": 297
        },
        "id": "STIJY6mXGGh3",
        "outputId": "798f3065-1290-4ae3-e112-e2b1d0b5911f"
      },
      "source": [
        "sns.scatterplot(data=df_cancer, x=\"benign\",y=\"mean_radius\")"
      ],
      "execution_count": 93,
      "outputs": [
        {
          "output_type": "execute_result",
          "data": {
            "text/plain": [
              "<matplotlib.axes._subplots.AxesSubplot at 0x7fe448bdfe10>"
            ]
          },
          "metadata": {
            "tags": []
          },
          "execution_count": 93
        },
        {
          "output_type": "display_data",
          "data": {
            "image/png": "[encoded data removed]",
            "text/plain": [
              "<Figure size 432x288 with 1 Axes>"
            ]
          },
          "metadata": {
            "tags": [],
            "needs_background": "light"
          }
        }
      ]
    },
    {
      "cell_type": "markdown",
      "metadata": {
        "id": "kBlzvYeAHb_p"
      },
      "source": [
        "Create a heat map to help you explore"
      ]
    },
    {
      "cell_type": "code",
      "metadata": {
        "colab": {
          "base_uri": "https://localhost:8080/",
          "height": 371
        },
        "id": "gIxHKp43JMzO",
        "outputId": "22145559-c110-4ab3-cbf1-6c096d627c42"
      },
      "source": [
        "#calculate the correlations between each variable\n",
        "df_cancer_corr = df_cancer.corr()\n",
        "\n",
        "#plot the correlations in a heat map (hotter = higher correlation)\n",
        "sns.heatmap(data=df_cancer_corr)"
      ],
      "execution_count": 94,
      "outputs": [
        {
          "output_type": "execute_result",
          "data": {
            "text/plain": [
              "<matplotlib.axes._subplots.AxesSubplot at 0x7fe448bdf810>"
            ]
          },
          "metadata": {
            "tags": []
          },
          "execution_count": 94
        },
        {
          "output_type": "display_data",
          "data": {
            "image/png": "[encoded data removed]",
            "text/plain": [
              "<Figure size 432x288 with 2 Axes>"
            ]
          },
          "metadata": {
            "tags": [],
            "needs_background": "light"
          }
        }
      ]
    },
    {
      "cell_type": "markdown",
      "metadata": {
        "id": "GFsEVUnqquWz"
      },
      "source": [
        "##<font color='darkorange'>Data wrangeling </font>"
      ]
    },
    {
      "cell_type": "markdown",
      "metadata": {
        "id": "HYoCKQeQsVBl"
      },
      "source": [
        "#### Data preprocessing (binary variables)"
      ]
    },
    {
      "cell_type": "code",
      "metadata": {
        "colab": {
          "base_uri": "https://localhost:8080/",
          "height": 443
        },
        "id": "Mc_Ru7FRsdJ9",
        "outputId": "739ffff3-98d4-4bb1-f30c-4e080cd4f814"
      },
      "source": [
        "from sklearn.preprocessing import OrdinalEncoder\n",
        "\n",
        "#get the columns names of features you'd like to turn into 0/1\n",
        "bin_names = ['benign']\n",
        "\n",
        "#create a dataframe of those features\n",
        "bin_features = df_cancer[bin_names]\n",
        "\n",
        "#fit the scaler to those data\n",
        "bin_scaler = OrdinalEncoder().fit(bin_features.values)\n",
        "\n",
        "#use the scaler to transform your data\n",
        "bin_features = bin_scaler.transform(bin_features.values)\n",
        "\n",
        "#put these scaled features back into your transformed features dataframe\n",
        "df_cancer[bin_names] = bin_features\n",
        "\n",
        "#take a look\n",
        "df_cancer"
      ],
      "execution_count": 95,
      "outputs": [
        {
          "output_type": "execute_result",
          "data": {
            "text/html": [
              "<div>\n",
              "<style scoped>\n",
              "    .dataframe tbody tr th:only-of-type {\n",
              "        vertical-align: middle;\n",
              "    }\n",
              "\n",
              "    .dataframe tbody tr th {\n",
              "        vertical-align: top;\n",
              "    }\n",
              "\n",
              "    .dataframe thead th {\n",
              "        text-align: right;\n",
              "    }\n",
              "</style>\n",
              "<table border=\"1\" class=\"dataframe\">\n",
              "  <thead>\n",
              "    <tr style=\"text-align: right;\">\n",
              "      <th></th>\n",
              "      <th>mean_radius</th>\n",
              "      <th>mean_texture</th>\n",
              "      <th>mean_perimeter</th>\n",
              "      <th>mean_area</th>\n",
              "      <th>mean_smoothness</th>\n",
              "      <th>mean_compactness</th>\n",
              "      <th>mean_concavity</th>\n",
              "      <th>mean_concave_points</th>\n",
              "      <th>mean_symmetry</th>\n",
              "      <th>mean_fractal_dimension</th>\n",
              "      <th>radius_error</th>\n",
              "      <th>texture_error</th>\n",
              "      <th>perimeter_error</th>\n",
              "      <th>area_error</th>\n",
              "      <th>smoothness_error</th>\n",
              "      <th>compactness_error</th>\n",
              "      <th>concavity_error</th>\n",
              "      <th>concave_points_error</th>\n",
              "      <th>symmetry_error</th>\n",
              "      <th>fractal_dimension_error</th>\n",
              "      <th>worst_radius</th>\n",
              "      <th>worst_texture</th>\n",
              "      <th>worst_perimeter</th>\n",
              "      <th>worst_area</th>\n",
              "      <th>worst_smoothness</th>\n",
              "      <th>worst_compactness</th>\n",
              "      <th>worst_concavity</th>\n",
              "      <th>worst_concave_points</th>\n",
              "      <th>worst_symmetry</th>\n",
              "      <th>worst_fractal_dimension</th>\n",
              "      <th>benign</th>\n",
              "      <th>technician</th>\n",
              "    </tr>\n",
              "  </thead>\n",
              "  <tbody>\n",
              "    <tr>\n",
              "      <th>0</th>\n",
              "      <td>17.99</td>\n",
              "      <td>10.38</td>\n",
              "      <td>122.80</td>\n",
              "      <td>1001.0</td>\n",
              "      <td>0.11840</td>\n",
              "      <td>0.27760</td>\n",
              "      <td>0.30010</td>\n",
              "      <td>0.14710</td>\n",
              "      <td>0.2419</td>\n",
              "      <td>0.07871</td>\n",
              "      <td>1.0950</td>\n",
              "      <td>0.9053</td>\n",
              "      <td>8.589</td>\n",
              "      <td>153.40</td>\n",
              "      <td>0.006399</td>\n",
              "      <td>0.04904</td>\n",
              "      <td>0.05373</td>\n",
              "      <td>0.01587</td>\n",
              "      <td>0.03003</td>\n",
              "      <td>0.006193</td>\n",
              "      <td>25.380</td>\n",
              "      <td>17.33</td>\n",
              "      <td>184.60</td>\n",
              "      <td>2019.0</td>\n",
              "      <td>0.16220</td>\n",
              "      <td>0.66560</td>\n",
              "      <td>0.7119</td>\n",
              "      <td>0.2654</td>\n",
              "      <td>0.4601</td>\n",
              "      <td>0.11890</td>\n",
              "      <td>0.0</td>\n",
              "      <td>2</td>\n",
              "    </tr>\n",
              "    <tr>\n",
              "      <th>1</th>\n",
              "      <td>20.57</td>\n",
              "      <td>17.77</td>\n",
              "      <td>132.90</td>\n",
              "      <td>1326.0</td>\n",
              "      <td>0.08474</td>\n",
              "      <td>0.07864</td>\n",
              "      <td>0.08690</td>\n",
              "      <td>0.07017</td>\n",
              "      <td>0.1812</td>\n",
              "      <td>0.05667</td>\n",
              "      <td>0.5435</td>\n",
              "      <td>0.7339</td>\n",
              "      <td>3.398</td>\n",
              "      <td>74.08</td>\n",
              "      <td>0.005225</td>\n",
              "      <td>0.01308</td>\n",
              "      <td>0.01860</td>\n",
              "      <td>0.01340</td>\n",
              "      <td>0.01389</td>\n",
              "      <td>0.003532</td>\n",
              "      <td>24.990</td>\n",
              "      <td>23.41</td>\n",
              "      <td>158.80</td>\n",
              "      <td>1956.0</td>\n",
              "      <td>0.12380</td>\n",
              "      <td>0.18660</td>\n",
              "      <td>0.2416</td>\n",
              "      <td>0.1860</td>\n",
              "      <td>0.2750</td>\n",
              "      <td>0.08902</td>\n",
              "      <td>0.0</td>\n",
              "      <td>3</td>\n",
              "    </tr>\n",
              "    <tr>\n",
              "      <th>2</th>\n",
              "      <td>19.69</td>\n",
              "      <td>21.25</td>\n",
              "      <td>130.00</td>\n",
              "      <td>1203.0</td>\n",
              "      <td>0.10960</td>\n",
              "      <td>0.15990</td>\n",
              "      <td>0.19740</td>\n",
              "      <td>0.12790</td>\n",
              "      <td>0.2069</td>\n",
              "      <td>0.05999</td>\n",
              "      <td>0.7456</td>\n",
              "      <td>0.7869</td>\n",
              "      <td>4.585</td>\n",
              "      <td>94.03</td>\n",
              "      <td>0.006150</td>\n",
              "      <td>0.04006</td>\n",
              "      <td>0.03832</td>\n",
              "      <td>0.02058</td>\n",
              "      <td>0.02250</td>\n",
              "      <td>0.004571</td>\n",
              "      <td>23.570</td>\n",
              "      <td>25.53</td>\n",
              "      <td>152.50</td>\n",
              "      <td>1709.0</td>\n",
              "      <td>0.14440</td>\n",
              "      <td>0.42450</td>\n",
              "      <td>0.4504</td>\n",
              "      <td>0.2430</td>\n",
              "      <td>0.3613</td>\n",
              "      <td>0.08758</td>\n",
              "      <td>0.0</td>\n",
              "      <td>3</td>\n",
              "    </tr>\n",
              "    <tr>\n",
              "      <th>3</th>\n",
              "      <td>11.42</td>\n",
              "      <td>20.38</td>\n",
              "      <td>77.58</td>\n",
              "      <td>386.1</td>\n",
              "      <td>0.14250</td>\n",
              "      <td>0.28390</td>\n",
              "      <td>0.24140</td>\n",
              "      <td>0.10520</td>\n",
              "      <td>0.2597</td>\n",
              "      <td>0.09744</td>\n",
              "      <td>0.4956</td>\n",
              "      <td>1.1560</td>\n",
              "      <td>3.445</td>\n",
              "      <td>27.23</td>\n",
              "      <td>0.009110</td>\n",
              "      <td>0.07458</td>\n",
              "      <td>0.05661</td>\n",
              "      <td>0.01867</td>\n",
              "      <td>0.05963</td>\n",
              "      <td>0.009208</td>\n",
              "      <td>14.910</td>\n",
              "      <td>26.50</td>\n",
              "      <td>98.87</td>\n",
              "      <td>567.7</td>\n",
              "      <td>0.20980</td>\n",
              "      <td>0.86630</td>\n",
              "      <td>0.6869</td>\n",
              "      <td>0.2575</td>\n",
              "      <td>0.6638</td>\n",
              "      <td>0.17300</td>\n",
              "      <td>0.0</td>\n",
              "      <td>1</td>\n",
              "    </tr>\n",
              "    <tr>\n",
              "      <th>4</th>\n",
              "      <td>20.29</td>\n",
              "      <td>14.34</td>\n",
              "      <td>135.10</td>\n",
              "      <td>1297.0</td>\n",
              "      <td>0.10030</td>\n",
              "      <td>0.13280</td>\n",
              "      <td>0.19800</td>\n",
              "      <td>0.10430</td>\n",
              "      <td>0.1809</td>\n",
              "      <td>0.05883</td>\n",
              "      <td>0.7572</td>\n",
              "      <td>0.7813</td>\n",
              "      <td>5.438</td>\n",
              "      <td>94.44</td>\n",
              "      <td>0.011490</td>\n",
              "      <td>0.02461</td>\n",
              "      <td>0.05688</td>\n",
              "      <td>0.01885</td>\n",
              "      <td>0.01756</td>\n",
              "      <td>0.005115</td>\n",
              "      <td>22.540</td>\n",
              "      <td>16.67</td>\n",
              "      <td>152.20</td>\n",
              "      <td>1575.0</td>\n",
              "      <td>0.13740</td>\n",
              "      <td>0.20500</td>\n",
              "      <td>0.4000</td>\n",
              "      <td>0.1625</td>\n",
              "      <td>0.2364</td>\n",
              "      <td>0.07678</td>\n",
              "      <td>0.0</td>\n",
              "      <td>1</td>\n",
              "    </tr>\n",
              "    <tr>\n",
              "      <th>...</th>\n",
              "      <td>...</td>\n",
              "      <td>...</td>\n",
              "      <td>...</td>\n",
              "      <td>...</td>\n",
              "      <td>...</td>\n",
              "      <td>...</td>\n",
              "      <td>...</td>\n",
              "      <td>...</td>\n",
              "      <td>...</td>\n",
              "      <td>...</td>\n",
              "      <td>...</td>\n",
              "      <td>...</td>\n",
              "      <td>...</td>\n",
              "      <td>...</td>\n",
              "      <td>...</td>\n",
              "      <td>...</td>\n",
              "      <td>...</td>\n",
              "      <td>...</td>\n",
              "      <td>...</td>\n",
              "      <td>...</td>\n",
              "      <td>...</td>\n",
              "      <td>...</td>\n",
              "      <td>...</td>\n",
              "      <td>...</td>\n",
              "      <td>...</td>\n",
              "      <td>...</td>\n",
              "      <td>...</td>\n",
              "      <td>...</td>\n",
              "      <td>...</td>\n",
              "      <td>...</td>\n",
              "      <td>...</td>\n",
              "      <td>...</td>\n",
              "    </tr>\n",
              "    <tr>\n",
              "      <th>564</th>\n",
              "      <td>21.56</td>\n",
              "      <td>22.39</td>\n",
              "      <td>142.00</td>\n",
              "      <td>1479.0</td>\n",
              "      <td>0.11100</td>\n",
              "      <td>0.11590</td>\n",
              "      <td>0.24390</td>\n",
              "      <td>0.13890</td>\n",
              "      <td>0.1726</td>\n",
              "      <td>0.05623</td>\n",
              "      <td>1.1760</td>\n",
              "      <td>1.2560</td>\n",
              "      <td>7.673</td>\n",
              "      <td>158.70</td>\n",
              "      <td>0.010300</td>\n",
              "      <td>0.02891</td>\n",
              "      <td>0.05198</td>\n",
              "      <td>0.02454</td>\n",
              "      <td>0.01114</td>\n",
              "      <td>0.004239</td>\n",
              "      <td>25.450</td>\n",
              "      <td>26.40</td>\n",
              "      <td>166.10</td>\n",
              "      <td>2027.0</td>\n",
              "      <td>0.14100</td>\n",
              "      <td>0.21130</td>\n",
              "      <td>0.4107</td>\n",
              "      <td>0.2216</td>\n",
              "      <td>0.2060</td>\n",
              "      <td>0.07115</td>\n",
              "      <td>0.0</td>\n",
              "      <td>3</td>\n",
              "    </tr>\n",
              "    <tr>\n",
              "      <th>565</th>\n",
              "      <td>20.13</td>\n",
              "      <td>28.25</td>\n",
              "      <td>131.20</td>\n",
              "      <td>1261.0</td>\n",
              "      <td>0.09780</td>\n",
              "      <td>0.10340</td>\n",
              "      <td>0.14400</td>\n",
              "      <td>0.09791</td>\n",
              "      <td>0.1752</td>\n",
              "      <td>0.05533</td>\n",
              "      <td>0.7655</td>\n",
              "      <td>2.4630</td>\n",
              "      <td>5.203</td>\n",
              "      <td>99.04</td>\n",
              "      <td>0.005769</td>\n",
              "      <td>0.02423</td>\n",
              "      <td>0.03950</td>\n",
              "      <td>0.01678</td>\n",
              "      <td>0.01898</td>\n",
              "      <td>0.002498</td>\n",
              "      <td>23.690</td>\n",
              "      <td>38.25</td>\n",
              "      <td>155.00</td>\n",
              "      <td>1731.0</td>\n",
              "      <td>0.11660</td>\n",
              "      <td>0.19220</td>\n",
              "      <td>0.3215</td>\n",
              "      <td>0.1628</td>\n",
              "      <td>0.2572</td>\n",
              "      <td>0.06637</td>\n",
              "      <td>0.0</td>\n",
              "      <td>4</td>\n",
              "    </tr>\n",
              "    <tr>\n",
              "      <th>566</th>\n",
              "      <td>16.60</td>\n",
              "      <td>28.08</td>\n",
              "      <td>108.30</td>\n",
              "      <td>858.1</td>\n",
              "      <td>0.08455</td>\n",
              "      <td>0.10230</td>\n",
              "      <td>0.09251</td>\n",
              "      <td>0.05302</td>\n",
              "      <td>0.1590</td>\n",
              "      <td>0.05648</td>\n",
              "      <td>0.4564</td>\n",
              "      <td>1.0750</td>\n",
              "      <td>3.425</td>\n",
              "      <td>48.55</td>\n",
              "      <td>0.005903</td>\n",
              "      <td>0.03731</td>\n",
              "      <td>0.04730</td>\n",
              "      <td>0.01557</td>\n",
              "      <td>0.01318</td>\n",
              "      <td>0.003892</td>\n",
              "      <td>18.980</td>\n",
              "      <td>34.12</td>\n",
              "      <td>126.70</td>\n",
              "      <td>1124.0</td>\n",
              "      <td>0.11390</td>\n",
              "      <td>0.30940</td>\n",
              "      <td>0.3403</td>\n",
              "      <td>0.1418</td>\n",
              "      <td>0.2218</td>\n",
              "      <td>0.07820</td>\n",
              "      <td>0.0</td>\n",
              "      <td>3</td>\n",
              "    </tr>\n",
              "    <tr>\n",
              "      <th>567</th>\n",
              "      <td>20.60</td>\n",
              "      <td>29.33</td>\n",
              "      <td>140.10</td>\n",
              "      <td>1265.0</td>\n",
              "      <td>0.11780</td>\n",
              "      <td>0.27700</td>\n",
              "      <td>0.35140</td>\n",
              "      <td>0.15200</td>\n",
              "      <td>0.2397</td>\n",
              "      <td>0.07016</td>\n",
              "      <td>0.7260</td>\n",
              "      <td>1.5950</td>\n",
              "      <td>5.772</td>\n",
              "      <td>86.22</td>\n",
              "      <td>0.006522</td>\n",
              "      <td>0.06158</td>\n",
              "      <td>0.07117</td>\n",
              "      <td>0.01664</td>\n",
              "      <td>0.02324</td>\n",
              "      <td>0.006185</td>\n",
              "      <td>25.740</td>\n",
              "      <td>39.42</td>\n",
              "      <td>184.60</td>\n",
              "      <td>1821.0</td>\n",
              "      <td>0.16500</td>\n",
              "      <td>0.86810</td>\n",
              "      <td>0.9387</td>\n",
              "      <td>0.2650</td>\n",
              "      <td>0.4087</td>\n",
              "      <td>0.12400</td>\n",
              "      <td>0.0</td>\n",
              "      <td>3</td>\n",
              "    </tr>\n",
              "    <tr>\n",
              "      <th>568</th>\n",
              "      <td>7.76</td>\n",
              "      <td>24.54</td>\n",
              "      <td>47.92</td>\n",
              "      <td>181.0</td>\n",
              "      <td>0.05263</td>\n",
              "      <td>0.04362</td>\n",
              "      <td>0.00000</td>\n",
              "      <td>0.00000</td>\n",
              "      <td>0.1587</td>\n",
              "      <td>0.05884</td>\n",
              "      <td>0.3857</td>\n",
              "      <td>1.4280</td>\n",
              "      <td>2.548</td>\n",
              "      <td>19.15</td>\n",
              "      <td>0.007189</td>\n",
              "      <td>0.00466</td>\n",
              "      <td>0.00000</td>\n",
              "      <td>0.00000</td>\n",
              "      <td>0.02676</td>\n",
              "      <td>0.002783</td>\n",
              "      <td>9.456</td>\n",
              "      <td>30.37</td>\n",
              "      <td>59.16</td>\n",
              "      <td>268.6</td>\n",
              "      <td>0.08996</td>\n",
              "      <td>0.06444</td>\n",
              "      <td>0.0000</td>\n",
              "      <td>0.0000</td>\n",
              "      <td>0.2871</td>\n",
              "      <td>0.07039</td>\n",
              "      <td>1.0</td>\n",
              "      <td>1</td>\n",
              "    </tr>\n",
              "  </tbody>\n",
              "</table>\n",
              "<p>569 rows × 32 columns</p>\n",
              "</div>"
            ],
            "text/plain": [
              "     mean_radius  mean_texture  ...  benign  technician\n",
              "0          17.99         10.38  ...     0.0           2\n",
              "1          20.57         17.77  ...     0.0           3\n",
              "2          19.69         21.25  ...     0.0           3\n",
              "3          11.42         20.38  ...     0.0           1\n",
              "4          20.29         14.34  ...     0.0           1\n",
              "..           ...           ...  ...     ...         ...\n",
              "564        21.56         22.39  ...     0.0           3\n",
              "565        20.13         28.25  ...     0.0           4\n",
              "566        16.60         28.08  ...     0.0           3\n",
              "567        20.60         29.33  ...     0.0           3\n",
              "568         7.76         24.54  ...     1.0           1\n",
              "\n",
              "[569 rows x 32 columns]"
            ]
          },
          "metadata": {
            "tags": []
          },
          "execution_count": 95
        }
      ]
    },
    {
      "cell_type": "code",
      "metadata": {
        "colab": {
          "base_uri": "https://localhost:8080/"
        },
        "id": "dl4BZFyoM6qq",
        "outputId": "d88a9ee8-fbe8-4001-8ed1-1e74c476686a"
      },
      "source": [
        "bin_scaler.categories_"
      ],
      "execution_count": 96,
      "outputs": [
        {
          "output_type": "execute_result",
          "data": {
            "text/plain": [
              "[array(['benign', 'cancer'], dtype=object)]"
            ]
          },
          "metadata": {
            "tags": []
          },
          "execution_count": 96
        }
      ]
    },
    {
      "cell_type": "markdown",
      "metadata": {
        "id": "RWiQn1gHs4i5"
      },
      "source": [
        "#### Data preprocessing (categorical variables)"
      ]
    },
    {
      "cell_type": "markdown",
      "metadata": {
        "id": "O2wZLBstt_rV"
      },
      "source": [
        "Technician ID number is a categorical value, but it is being treated as a number (int64). Let's convert it to a category."
      ]
    },
    {
      "cell_type": "code",
      "metadata": {
        "id": "6hLs5unAN0kb"
      },
      "source": [
        "df_cancer['technician'] = df_cancer.technician.astype('category')"
      ],
      "execution_count": 97,
      "outputs": []
    },
    {
      "cell_type": "code",
      "metadata": {
        "colab": {
          "base_uri": "https://localhost:8080/",
          "height": 443
        },
        "id": "X2loCli-s0SF",
        "outputId": "ab2e9238-faca-469f-9e86-94205a2d75ea"
      },
      "source": [
        "\n",
        "#categorical variables\n",
        "cat_names = ['technician']\n",
        "\n",
        "#create dummy variables\n",
        "df_cat = pd.get_dummies(df_cancer[cat_names])\n",
        "\n",
        "#add them back to the original dataframe\n",
        "df_cancer = pd.concat([df_cancer,df_cat], axis=1)\n",
        "\n",
        "#remove the old columns\n",
        "df_cancer = df_cancer.drop(cat_names, axis=1)\n",
        "\n",
        "#take a look\n",
        "df_cancer"
      ],
      "execution_count": 98,
      "outputs": [
        {
          "output_type": "execute_result",
          "data": {
            "text/html": [
              "<div>\n",
              "<style scoped>\n",
              "    .dataframe tbody tr th:only-of-type {\n",
              "        vertical-align: middle;\n",
              "    }\n",
              "\n",
              "    .dataframe tbody tr th {\n",
              "        vertical-align: top;\n",
              "    }\n",
              "\n",
              "    .dataframe thead th {\n",
              "        text-align: right;\n",
              "    }\n",
              "</style>\n",
              "<table border=\"1\" class=\"dataframe\">\n",
              "  <thead>\n",
              "    <tr style=\"text-align: right;\">\n",
              "      <th></th>\n",
              "      <th>mean_radius</th>\n",
              "      <th>mean_texture</th>\n",
              "      <th>mean_perimeter</th>\n",
              "      <th>mean_area</th>\n",
              "      <th>mean_smoothness</th>\n",
              "      <th>mean_compactness</th>\n",
              "      <th>mean_concavity</th>\n",
              "      <th>mean_concave_points</th>\n",
              "      <th>mean_symmetry</th>\n",
              "      <th>mean_fractal_dimension</th>\n",
              "      <th>radius_error</th>\n",
              "      <th>texture_error</th>\n",
              "      <th>perimeter_error</th>\n",
              "      <th>area_error</th>\n",
              "      <th>smoothness_error</th>\n",
              "      <th>compactness_error</th>\n",
              "      <th>concavity_error</th>\n",
              "      <th>concave_points_error</th>\n",
              "      <th>symmetry_error</th>\n",
              "      <th>fractal_dimension_error</th>\n",
              "      <th>worst_radius</th>\n",
              "      <th>worst_texture</th>\n",
              "      <th>worst_perimeter</th>\n",
              "      <th>worst_area</th>\n",
              "      <th>worst_smoothness</th>\n",
              "      <th>worst_compactness</th>\n",
              "      <th>worst_concavity</th>\n",
              "      <th>worst_concave_points</th>\n",
              "      <th>worst_symmetry</th>\n",
              "      <th>worst_fractal_dimension</th>\n",
              "      <th>benign</th>\n",
              "      <th>technician_1</th>\n",
              "      <th>technician_2</th>\n",
              "      <th>technician_3</th>\n",
              "      <th>technician_4</th>\n",
              "    </tr>\n",
              "  </thead>\n",
              "  <tbody>\n",
              "    <tr>\n",
              "      <th>0</th>\n",
              "      <td>17.99</td>\n",
              "      <td>10.38</td>\n",
              "      <td>122.80</td>\n",
              "      <td>1001.0</td>\n",
              "      <td>0.11840</td>\n",
              "      <td>0.27760</td>\n",
              "      <td>0.30010</td>\n",
              "      <td>0.14710</td>\n",
              "      <td>0.2419</td>\n",
              "      <td>0.07871</td>\n",
              "      <td>1.0950</td>\n",
              "      <td>0.9053</td>\n",
              "      <td>8.589</td>\n",
              "      <td>153.40</td>\n",
              "      <td>0.006399</td>\n",
              "      <td>0.04904</td>\n",
              "      <td>0.05373</td>\n",
              "      <td>0.01587</td>\n",
              "      <td>0.03003</td>\n",
              "      <td>0.006193</td>\n",
              "      <td>25.380</td>\n",
              "      <td>17.33</td>\n",
              "      <td>184.60</td>\n",
              "      <td>2019.0</td>\n",
              "      <td>0.16220</td>\n",
              "      <td>0.66560</td>\n",
              "      <td>0.7119</td>\n",
              "      <td>0.2654</td>\n",
              "      <td>0.4601</td>\n",
              "      <td>0.11890</td>\n",
              "      <td>0.0</td>\n",
              "      <td>0</td>\n",
              "      <td>1</td>\n",
              "      <td>0</td>\n",
              "      <td>0</td>\n",
              "    </tr>\n",
              "    <tr>\n",
              "      <th>1</th>\n",
              "      <td>20.57</td>\n",
              "      <td>17.77</td>\n",
              "      <td>132.90</td>\n",
              "      <td>1326.0</td>\n",
              "      <td>0.08474</td>\n",
              "      <td>0.07864</td>\n",
              "      <td>0.08690</td>\n",
              "      <td>0.07017</td>\n",
              "      <td>0.1812</td>\n",
              "      <td>0.05667</td>\n",
              "      <td>0.5435</td>\n",
              "      <td>0.7339</td>\n",
              "      <td>3.398</td>\n",
              "      <td>74.08</td>\n",
              "      <td>0.005225</td>\n",
              "      <td>0.01308</td>\n",
              "      <td>0.01860</td>\n",
              "      <td>0.01340</td>\n",
              "      <td>0.01389</td>\n",
              "      <td>0.003532</td>\n",
              "      <td>24.990</td>\n",
              "      <td>23.41</td>\n",
              "      <td>158.80</td>\n",
              "      <td>1956.0</td>\n",
              "      <td>0.12380</td>\n",
              "      <td>0.18660</td>\n",
              "      <td>0.2416</td>\n",
              "      <td>0.1860</td>\n",
              "      <td>0.2750</td>\n",
              "      <td>0.08902</td>\n",
              "      <td>0.0</td>\n",
              "      <td>0</td>\n",
              "      <td>0</td>\n",
              "      <td>1</td>\n",
              "      <td>0</td>\n",
              "    </tr>\n",
              "    <tr>\n",
              "      <th>2</th>\n",
              "      <td>19.69</td>\n",
              "      <td>21.25</td>\n",
              "      <td>130.00</td>\n",
              "      <td>1203.0</td>\n",
              "      <td>0.10960</td>\n",
              "      <td>0.15990</td>\n",
              "      <td>0.19740</td>\n",
              "      <td>0.12790</td>\n",
              "      <td>0.2069</td>\n",
              "      <td>0.05999</td>\n",
              "      <td>0.7456</td>\n",
              "      <td>0.7869</td>\n",
              "      <td>4.585</td>\n",
              "      <td>94.03</td>\n",
              "      <td>0.006150</td>\n",
              "      <td>0.04006</td>\n",
              "      <td>0.03832</td>\n",
              "      <td>0.02058</td>\n",
              "      <td>0.02250</td>\n",
              "      <td>0.004571</td>\n",
              "      <td>23.570</td>\n",
              "      <td>25.53</td>\n",
              "      <td>152.50</td>\n",
              "      <td>1709.0</td>\n",
              "      <td>0.14440</td>\n",
              "      <td>0.42450</td>\n",
              "      <td>0.4504</td>\n",
              "      <td>0.2430</td>\n",
              "      <td>0.3613</td>\n",
              "      <td>0.08758</td>\n",
              "      <td>0.0</td>\n",
              "      <td>0</td>\n",
              "      <td>0</td>\n",
              "      <td>1</td>\n",
              "      <td>0</td>\n",
              "    </tr>\n",
              "    <tr>\n",
              "      <th>3</th>\n",
              "      <td>11.42</td>\n",
              "      <td>20.38</td>\n",
              "      <td>77.58</td>\n",
              "      <td>386.1</td>\n",
              "      <td>0.14250</td>\n",
              "      <td>0.28390</td>\n",
              "      <td>0.24140</td>\n",
              "      <td>0.10520</td>\n",
              "      <td>0.2597</td>\n",
              "      <td>0.09744</td>\n",
              "      <td>0.4956</td>\n",
              "      <td>1.1560</td>\n",
              "      <td>3.445</td>\n",
              "      <td>27.23</td>\n",
              "      <td>0.009110</td>\n",
              "      <td>0.07458</td>\n",
              "      <td>0.05661</td>\n",
              "      <td>0.01867</td>\n",
              "      <td>0.05963</td>\n",
              "      <td>0.009208</td>\n",
              "      <td>14.910</td>\n",
              "      <td>26.50</td>\n",
              "      <td>98.87</td>\n",
              "      <td>567.7</td>\n",
              "      <td>0.20980</td>\n",
              "      <td>0.86630</td>\n",
              "      <td>0.6869</td>\n",
              "      <td>0.2575</td>\n",
              "      <td>0.6638</td>\n",
              "      <td>0.17300</td>\n",
              "      <td>0.0</td>\n",
              "      <td>1</td>\n",
              "      <td>0</td>\n",
              "      <td>0</td>\n",
              "      <td>0</td>\n",
              "    </tr>\n",
              "    <tr>\n",
              "      <th>4</th>\n",
              "      <td>20.29</td>\n",
              "      <td>14.34</td>\n",
              "      <td>135.10</td>\n",
              "      <td>1297.0</td>\n",
              "      <td>0.10030</td>\n",
              "      <td>0.13280</td>\n",
              "      <td>0.19800</td>\n",
              "      <td>0.10430</td>\n",
              "      <td>0.1809</td>\n",
              "      <td>0.05883</td>\n",
              "      <td>0.7572</td>\n",
              "      <td>0.7813</td>\n",
              "      <td>5.438</td>\n",
              "      <td>94.44</td>\n",
              "      <td>0.011490</td>\n",
              "      <td>0.02461</td>\n",
              "      <td>0.05688</td>\n",
              "      <td>0.01885</td>\n",
              "      <td>0.01756</td>\n",
              "      <td>0.005115</td>\n",
              "      <td>22.540</td>\n",
              "      <td>16.67</td>\n",
              "      <td>152.20</td>\n",
              "      <td>1575.0</td>\n",
              "      <td>0.13740</td>\n",
              "      <td>0.20500</td>\n",
              "      <td>0.4000</td>\n",
              "      <td>0.1625</td>\n",
              "      <td>0.2364</td>\n",
              "      <td>0.07678</td>\n",
              "      <td>0.0</td>\n",
              "      <td>1</td>\n",
              "      <td>0</td>\n",
              "      <td>0</td>\n",
              "      <td>0</td>\n",
              "    </tr>\n",
              "    <tr>\n",
              "      <th>...</th>\n",
              "      <td>...</td>\n",
              "      <td>...</td>\n",
              "      <td>...</td>\n",
              "      <td>...</td>\n",
              "      <td>...</td>\n",
              "      <td>...</td>\n",
              "      <td>...</td>\n",
              "      <td>...</td>\n",
              "      <td>...</td>\n",
              "      <td>...</td>\n",
              "      <td>...</td>\n",
              "      <td>...</td>\n",
              "      <td>...</td>\n",
              "      <td>...</td>\n",
              "      <td>...</td>\n",
              "      <td>...</td>\n",
              "      <td>...</td>\n",
              "      <td>...</td>\n",
              "      <td>...</td>\n",
              "      <td>...</td>\n",
              "      <td>...</td>\n",
              "      <td>...</td>\n",
              "      <td>...</td>\n",
              "      <td>...</td>\n",
              "      <td>...</td>\n",
              "      <td>...</td>\n",
              "      <td>...</td>\n",
              "      <td>...</td>\n",
              "      <td>...</td>\n",
              "      <td>...</td>\n",
              "      <td>...</td>\n",
              "      <td>...</td>\n",
              "      <td>...</td>\n",
              "      <td>...</td>\n",
              "      <td>...</td>\n",
              "    </tr>\n",
              "    <tr>\n",
              "      <th>564</th>\n",
              "      <td>21.56</td>\n",
              "      <td>22.39</td>\n",
              "      <td>142.00</td>\n",
              "      <td>1479.0</td>\n",
              "      <td>0.11100</td>\n",
              "      <td>0.11590</td>\n",
              "      <td>0.24390</td>\n",
              "      <td>0.13890</td>\n",
              "      <td>0.1726</td>\n",
              "      <td>0.05623</td>\n",
              "      <td>1.1760</td>\n",
              "      <td>1.2560</td>\n",
              "      <td>7.673</td>\n",
              "      <td>158.70</td>\n",
              "      <td>0.010300</td>\n",
              "      <td>0.02891</td>\n",
              "      <td>0.05198</td>\n",
              "      <td>0.02454</td>\n",
              "      <td>0.01114</td>\n",
              "      <td>0.004239</td>\n",
              "      <td>25.450</td>\n",
              "      <td>26.40</td>\n",
              "      <td>166.10</td>\n",
              "      <td>2027.0</td>\n",
              "      <td>0.14100</td>\n",
              "      <td>0.21130</td>\n",
              "      <td>0.4107</td>\n",
              "      <td>0.2216</td>\n",
              "      <td>0.2060</td>\n",
              "      <td>0.07115</td>\n",
              "      <td>0.0</td>\n",
              "      <td>0</td>\n",
              "      <td>0</td>\n",
              "      <td>1</td>\n",
              "      <td>0</td>\n",
              "    </tr>\n",
              "    <tr>\n",
              "      <th>565</th>\n",
              "      <td>20.13</td>\n",
              "      <td>28.25</td>\n",
              "      <td>131.20</td>\n",
              "      <td>1261.0</td>\n",
              "      <td>0.09780</td>\n",
              "      <td>0.10340</td>\n",
              "      <td>0.14400</td>\n",
              "      <td>0.09791</td>\n",
              "      <td>0.1752</td>\n",
              "      <td>0.05533</td>\n",
              "      <td>0.7655</td>\n",
              "      <td>2.4630</td>\n",
              "      <td>5.203</td>\n",
              "      <td>99.04</td>\n",
              "      <td>0.005769</td>\n",
              "      <td>0.02423</td>\n",
              "      <td>0.03950</td>\n",
              "      <td>0.01678</td>\n",
              "      <td>0.01898</td>\n",
              "      <td>0.002498</td>\n",
              "      <td>23.690</td>\n",
              "      <td>38.25</td>\n",
              "      <td>155.00</td>\n",
              "      <td>1731.0</td>\n",
              "      <td>0.11660</td>\n",
              "      <td>0.19220</td>\n",
              "      <td>0.3215</td>\n",
              "      <td>0.1628</td>\n",
              "      <td>0.2572</td>\n",
              "      <td>0.06637</td>\n",
              "      <td>0.0</td>\n",
              "      <td>0</td>\n",
              "      <td>0</td>\n",
              "      <td>0</td>\n",
              "      <td>1</td>\n",
              "    </tr>\n",
              "    <tr>\n",
              "      <th>566</th>\n",
              "      <td>16.60</td>\n",
              "      <td>28.08</td>\n",
              "      <td>108.30</td>\n",
              "      <td>858.1</td>\n",
              "      <td>0.08455</td>\n",
              "      <td>0.10230</td>\n",
              "      <td>0.09251</td>\n",
              "      <td>0.05302</td>\n",
              "      <td>0.1590</td>\n",
              "      <td>0.05648</td>\n",
              "      <td>0.4564</td>\n",
              "      <td>1.0750</td>\n",
              "      <td>3.425</td>\n",
              "      <td>48.55</td>\n",
              "      <td>0.005903</td>\n",
              "      <td>0.03731</td>\n",
              "      <td>0.04730</td>\n",
              "      <td>0.01557</td>\n",
              "      <td>0.01318</td>\n",
              "      <td>0.003892</td>\n",
              "      <td>18.980</td>\n",
              "      <td>34.12</td>\n",
              "      <td>126.70</td>\n",
              "      <td>1124.0</td>\n",
              "      <td>0.11390</td>\n",
              "      <td>0.30940</td>\n",
              "      <td>0.3403</td>\n",
              "      <td>0.1418</td>\n",
              "      <td>0.2218</td>\n",
              "      <td>0.07820</td>\n",
              "      <td>0.0</td>\n",
              "      <td>0</td>\n",
              "      <td>0</td>\n",
              "      <td>1</td>\n",
              "      <td>0</td>\n",
              "    </tr>\n",
              "    <tr>\n",
              "      <th>567</th>\n",
              "      <td>20.60</td>\n",
              "      <td>29.33</td>\n",
              "      <td>140.10</td>\n",
              "      <td>1265.0</td>\n",
              "      <td>0.11780</td>\n",
              "      <td>0.27700</td>\n",
              "      <td>0.35140</td>\n",
              "      <td>0.15200</td>\n",
              "      <td>0.2397</td>\n",
              "      <td>0.07016</td>\n",
              "      <td>0.7260</td>\n",
              "      <td>1.5950</td>\n",
              "      <td>5.772</td>\n",
              "      <td>86.22</td>\n",
              "      <td>0.006522</td>\n",
              "      <td>0.06158</td>\n",
              "      <td>0.07117</td>\n",
              "      <td>0.01664</td>\n",
              "      <td>0.02324</td>\n",
              "      <td>0.006185</td>\n",
              "      <td>25.740</td>\n",
              "      <td>39.42</td>\n",
              "      <td>184.60</td>\n",
              "      <td>1821.0</td>\n",
              "      <td>0.16500</td>\n",
              "      <td>0.86810</td>\n",
              "      <td>0.9387</td>\n",
              "      <td>0.2650</td>\n",
              "      <td>0.4087</td>\n",
              "      <td>0.12400</td>\n",
              "      <td>0.0</td>\n",
              "      <td>0</td>\n",
              "      <td>0</td>\n",
              "      <td>1</td>\n",
              "      <td>0</td>\n",
              "    </tr>\n",
              "    <tr>\n",
              "      <th>568</th>\n",
              "      <td>7.76</td>\n",
              "      <td>24.54</td>\n",
              "      <td>47.92</td>\n",
              "      <td>181.0</td>\n",
              "      <td>0.05263</td>\n",
              "      <td>0.04362</td>\n",
              "      <td>0.00000</td>\n",
              "      <td>0.00000</td>\n",
              "      <td>0.1587</td>\n",
              "      <td>0.05884</td>\n",
              "      <td>0.3857</td>\n",
              "      <td>1.4280</td>\n",
              "      <td>2.548</td>\n",
              "      <td>19.15</td>\n",
              "      <td>0.007189</td>\n",
              "      <td>0.00466</td>\n",
              "      <td>0.00000</td>\n",
              "      <td>0.00000</td>\n",
              "      <td>0.02676</td>\n",
              "      <td>0.002783</td>\n",
              "      <td>9.456</td>\n",
              "      <td>30.37</td>\n",
              "      <td>59.16</td>\n",
              "      <td>268.6</td>\n",
              "      <td>0.08996</td>\n",
              "      <td>0.06444</td>\n",
              "      <td>0.0000</td>\n",
              "      <td>0.0000</td>\n",
              "      <td>0.2871</td>\n",
              "      <td>0.07039</td>\n",
              "      <td>1.0</td>\n",
              "      <td>1</td>\n",
              "      <td>0</td>\n",
              "      <td>0</td>\n",
              "      <td>0</td>\n",
              "    </tr>\n",
              "  </tbody>\n",
              "</table>\n",
              "<p>569 rows × 35 columns</p>\n",
              "</div>"
            ],
            "text/plain": [
              "     mean_radius  mean_texture  ...  technician_3  technician_4\n",
              "0          17.99         10.38  ...             0             0\n",
              "1          20.57         17.77  ...             1             0\n",
              "2          19.69         21.25  ...             1             0\n",
              "3          11.42         20.38  ...             0             0\n",
              "4          20.29         14.34  ...             0             0\n",
              "..           ...           ...  ...           ...           ...\n",
              "564        21.56         22.39  ...             1             0\n",
              "565        20.13         28.25  ...             0             1\n",
              "566        16.60         28.08  ...             1             0\n",
              "567        20.60         29.33  ...             1             0\n",
              "568         7.76         24.54  ...             0             0\n",
              "\n",
              "[569 rows x 35 columns]"
            ]
          },
          "metadata": {
            "tags": []
          },
          "execution_count": 98
        }
      ]
    },
    {
      "cell_type": "markdown",
      "metadata": {
        "id": "n8C4RUB7RYCG"
      },
      "source": [
        "#### Split our dataframe into training and testing datasets"
      ]
    },
    {
      "cell_type": "code",
      "metadata": {
        "id": "eZEdEuROIFNC"
      },
      "source": [
        "#split the data into training and testing (80/20 split)\n",
        "df_train, df_test = sk.model_selection.train_test_split(df_cancer, test_size=0.20)\n"
      ],
      "execution_count": 99,
      "outputs": []
    },
    {
      "cell_type": "code",
      "metadata": {
        "colab": {
          "base_uri": "https://localhost:8080/"
        },
        "id": "2CmwRtpxS7Vf",
        "outputId": "3dffa630-f884-4b54-a122-8bd1a8b1cbe4"
      },
      "source": [
        "#take a look training dataset\n",
        "df_train.shape"
      ],
      "execution_count": 100,
      "outputs": [
        {
          "output_type": "execute_result",
          "data": {
            "text/plain": [
              "(455, 35)"
            ]
          },
          "metadata": {
            "tags": []
          },
          "execution_count": 100
        }
      ]
    },
    {
      "cell_type": "code",
      "metadata": {
        "colab": {
          "base_uri": "https://localhost:8080/"
        },
        "id": "HdMXfjuFSNfq",
        "outputId": "7bda2c36-5b4b-4f55-8310-8f87f315a3f1"
      },
      "source": [
        "#take a look\n",
        "df_test.shape\n"
      ],
      "execution_count": 101,
      "outputs": [
        {
          "output_type": "execute_result",
          "data": {
            "text/plain": [
              "(114, 35)"
            ]
          },
          "metadata": {
            "tags": []
          },
          "execution_count": 101
        }
      ]
    },
    {
      "cell_type": "markdown",
      "metadata": {
        "id": "gk9WNnywF7Cw"
      },
      "source": [
        "### Data pre-processing (numeric)"
      ]
    },
    {
      "cell_type": "code",
      "metadata": {
        "id": "7dXBfXA8F9UD",
        "colab": {
          "base_uri": "https://localhost:8080/"
        },
        "outputId": "8234de59-ba62-4816-fd4f-2faee3c083f0"
      },
      "source": [
        "#Feature Scaling (after spliting the data!)\n",
        "from sklearn.preprocessing import StandardScaler \n",
        "\n",
        "#numeric variables\n",
        "numb_names = df_train.drop(['benign','technician_1','technician_2','technician_3','technician_4'],axis=1).select_dtypes('number').columns.tolist()\n",
        "\n",
        "#create the standard scaler object\n",
        "sc = StandardScaler()\n",
        "\n",
        "#use this object to fit (i.e., to calculate the mean and sd of each variable in the training data) and then to transform the training data\n",
        "df_train[numb_names] = sc.fit_transform(df_train[numb_names])\n",
        "\n",
        "#use the fit from the training data to transform the test data\n",
        "df_test[numb_names] = sc.transform(df_test[numb_names])\n"
      ],
      "execution_count": 102,
      "outputs": [
        {
          "output_type": "stream",
          "text": [
            "/usr/local/lib/python3.7/dist-packages/ipykernel_launcher.py:11: SettingWithCopyWarning: \n",
            "A value is trying to be set on a copy of a slice from a DataFrame.\n",
            "Try using .loc[row_indexer,col_indexer] = value instead\n",
            "\n",
            "See the caveats in the documentation: https://pandas.pydata.org/pandas-docs/stable/user_guide/indexing.html#returning-a-view-versus-a-copy\n",
            "  # This is added back by InteractiveShellApp.init_path()\n",
            "/usr/local/lib/python3.7/dist-packages/pandas/core/indexing.py:1734: SettingWithCopyWarning: \n",
            "A value is trying to be set on a copy of a slice from a DataFrame.\n",
            "Try using .loc[row_indexer,col_indexer] = value instead\n",
            "\n",
            "See the caveats in the documentation: https://pandas.pydata.org/pandas-docs/stable/user_guide/indexing.html#returning-a-view-versus-a-copy\n",
            "  isetter(loc, value[:, i].tolist())\n",
            "/usr/local/lib/python3.7/dist-packages/ipykernel_launcher.py:14: SettingWithCopyWarning: \n",
            "A value is trying to be set on a copy of a slice from a DataFrame.\n",
            "Try using .loc[row_indexer,col_indexer] = value instead\n",
            "\n",
            "See the caveats in the documentation: https://pandas.pydata.org/pandas-docs/stable/user_guide/indexing.html#returning-a-view-versus-a-copy\n",
            "  \n",
            "/usr/local/lib/python3.7/dist-packages/pandas/core/indexing.py:1734: SettingWithCopyWarning: \n",
            "A value is trying to be set on a copy of a slice from a DataFrame.\n",
            "Try using .loc[row_indexer,col_indexer] = value instead\n",
            "\n",
            "See the caveats in the documentation: https://pandas.pydata.org/pandas-docs/stable/user_guide/indexing.html#returning-a-view-versus-a-copy\n",
            "  isetter(loc, value[:, i].tolist())\n"
          ],
          "name": "stderr"
        }
      ]
    },
    {
      "cell_type": "markdown",
      "metadata": {
        "id": "d5JdBUC5HlCl"
      },
      "source": [
        "\n",
        "##<font color='darkorange'>Modeling and Prediction</font>"
      ]
    },
    {
      "cell_type": "markdown",
      "metadata": {
        "id": "xlIVmLX7HqMm"
      },
      "source": [
        "> Let's look building our second kind of model -- logistic regression! How well can we predict the benign cases? This is similar to clustering analysis except we have the labels! Can we train a model to make the right predictions?\n",
        "<br>\n",
        "We will follow a general approach when building models. We will divide the dataset into *training* and *testing* datasets. \n",
        "<br>\n",
        "This lets us fit the model to one part of the data and then use the withheld data to test the predictions of the model. This helps us avoid *overfitting* our model!"
      ]
    },
    {
      "cell_type": "markdown",
      "metadata": {
        "id": "moh5HFYwTKoz"
      },
      "source": [
        "### Fit a model"
      ]
    },
    {
      "cell_type": "markdown",
      "metadata": {
        "id": "_YLTO-6TN-wq"
      },
      "source": [
        "<img src='http://drive.google.com/uc?export=view&id=1WC4tXGCEF-1_2LQ74gIxJAZ-GLXCwBdK' width=\"100\" align = 'left'>  "
      ]
    },
    {
      "cell_type": "markdown",
      "metadata": {
        "id": "dIvVVDYnN_uq"
      },
      "source": [
        "Below choose a variable to predict if the tissue sample is benign or not."
      ]
    },
    {
      "cell_type": "markdown",
      "metadata": {
        "id": "vrThvCCaTbqR"
      },
      "source": [
        "In general when using sklearn to fit a model we will follow these steps:"
      ]
    },
    {
      "cell_type": "code",
      "metadata": {
        "colab": {
          "base_uri": "https://localhost:8080/"
        },
        "id": "jI65cVtTTbFd",
        "outputId": "57945595-dc26-4a4f-d2fc-891e1b35fc92"
      },
      "source": [
        "#define model parameters\n",
        "log_reg = smf.logit('benign ~ mean_symmetry', data=df_train)\n",
        "\n",
        "#fit the model to the training data\n",
        "results = log_reg.fit()\n",
        "\n",
        "#Get a summary of the model parameters\n",
        "print(results.summary())\n"
      ],
      "execution_count": 103,
      "outputs": [
        {
          "output_type": "stream",
          "text": [
            "Optimization terminated successfully.\n",
            "         Current function value: 0.599596\n",
            "         Iterations 5\n",
            "                           Logit Regression Results                           \n",
            "==============================================================================\n",
            "Dep. Variable:                 benign   No. Observations:                  455\n",
            "Model:                          Logit   Df Residuals:                      453\n",
            "Method:                           MLE   Df Model:                            1\n",
            "Date:                Tue, 27 Jul 2021   Pseudo R-squ.:                 0.09112\n",
            "Time:                        19:46:45   Log-Likelihood:                -272.82\n",
            "converged:                       True   LL-Null:                       -300.17\n",
            "Covariance Type:            nonrobust   LLR p-value:                 1.401e-13\n",
            "=================================================================================\n",
            "                    coef    std err          z      P>|z|      [0.025      0.975]\n",
            "---------------------------------------------------------------------------------\n",
            "Intercept         0.5772      0.104      5.554      0.000       0.373       0.781\n",
            "mean_symmetry    -0.7850      0.117     -6.705      0.000      -1.014      -0.556\n",
            "=================================================================================\n"
          ],
          "name": "stdout"
        }
      ]
    },
    {
      "cell_type": "markdown",
      "metadata": {
        "id": "GmYUjT27dbBy"
      },
      "source": [
        "#### Visualize and explore the model predictions"
      ]
    },
    {
      "cell_type": "markdown",
      "metadata": {
        "id": "_s_PldxndpS3"
      },
      "source": [
        "Let's look at where the model to a good/bad job of classifying images into benign or not!"
      ]
    },
    {
      "cell_type": "code",
      "metadata": {
        "id": "OYucuvmqj0uN",
        "colab": {
          "base_uri": "https://localhost:8080/",
          "height": 651
        },
        "outputId": "06cf90f0-951b-48b8-a743-d61aed6adf2f"
      },
      "source": [
        "#let's first predict values in the testing dataset\n",
        "df_test['benign_prob'] = results.predict(df_test).round(2)\n",
        "\n",
        "df_test['benign_pred'] = (df_test['benign_prob']>0.5).astype(int) #here we've used 0.5 as the threshold of benign or not!\n",
        "\n",
        "df_test"
      ],
      "execution_count": 104,
      "outputs": [
        {
          "output_type": "stream",
          "text": [
            "/usr/local/lib/python3.7/dist-packages/ipykernel_launcher.py:2: SettingWithCopyWarning: \n",
            "A value is trying to be set on a copy of a slice from a DataFrame.\n",
            "Try using .loc[row_indexer,col_indexer] = value instead\n",
            "\n",
            "See the caveats in the documentation: https://pandas.pydata.org/pandas-docs/stable/user_guide/indexing.html#returning-a-view-versus-a-copy\n",
            "  \n",
            "/usr/local/lib/python3.7/dist-packages/ipykernel_launcher.py:4: SettingWithCopyWarning: \n",
            "A value is trying to be set on a copy of a slice from a DataFrame.\n",
            "Try using .loc[row_indexer,col_indexer] = value instead\n",
            "\n",
            "See the caveats in the documentation: https://pandas.pydata.org/pandas-docs/stable/user_guide/indexing.html#returning-a-view-versus-a-copy\n",
            "  after removing the cwd from sys.path.\n"
          ],
          "name": "stderr"
        },
        {
          "output_type": "execute_result",
          "data": {
            "text/html": [
              "<div>\n",
              "<style scoped>\n",
              "    .dataframe tbody tr th:only-of-type {\n",
              "        vertical-align: middle;\n",
              "    }\n",
              "\n",
              "    .dataframe tbody tr th {\n",
              "        vertical-align: top;\n",
              "    }\n",
              "\n",
              "    .dataframe thead th {\n",
              "        text-align: right;\n",
              "    }\n",
              "</style>\n",
              "<table border=\"1\" class=\"dataframe\">\n",
              "  <thead>\n",
              "    <tr style=\"text-align: right;\">\n",
              "      <th></th>\n",
              "      <th>mean_radius</th>\n",
              "      <th>mean_texture</th>\n",
              "      <th>mean_perimeter</th>\n",
              "      <th>mean_area</th>\n",
              "      <th>mean_smoothness</th>\n",
              "      <th>mean_compactness</th>\n",
              "      <th>mean_concavity</th>\n",
              "      <th>mean_concave_points</th>\n",
              "      <th>mean_symmetry</th>\n",
              "      <th>mean_fractal_dimension</th>\n",
              "      <th>radius_error</th>\n",
              "      <th>texture_error</th>\n",
              "      <th>perimeter_error</th>\n",
              "      <th>area_error</th>\n",
              "      <th>smoothness_error</th>\n",
              "      <th>compactness_error</th>\n",
              "      <th>concavity_error</th>\n",
              "      <th>concave_points_error</th>\n",
              "      <th>symmetry_error</th>\n",
              "      <th>fractal_dimension_error</th>\n",
              "      <th>worst_radius</th>\n",
              "      <th>worst_texture</th>\n",
              "      <th>worst_perimeter</th>\n",
              "      <th>worst_area</th>\n",
              "      <th>worst_smoothness</th>\n",
              "      <th>worst_compactness</th>\n",
              "      <th>worst_concavity</th>\n",
              "      <th>worst_concave_points</th>\n",
              "      <th>worst_symmetry</th>\n",
              "      <th>worst_fractal_dimension</th>\n",
              "      <th>benign</th>\n",
              "      <th>technician_1</th>\n",
              "      <th>technician_2</th>\n",
              "      <th>technician_3</th>\n",
              "      <th>technician_4</th>\n",
              "      <th>benign_prob</th>\n",
              "      <th>benign_pred</th>\n",
              "    </tr>\n",
              "  </thead>\n",
              "  <tbody>\n",
              "    <tr>\n",
              "      <th>144</th>\n",
              "      <td>-0.967854</td>\n",
              "      <td>-0.980131</td>\n",
              "      <td>-0.984363</td>\n",
              "      <td>-0.862553</td>\n",
              "      <td>-1.321975</td>\n",
              "      <td>-1.005431</td>\n",
              "      <td>-0.834341</td>\n",
              "      <td>-1.058948</td>\n",
              "      <td>-1.470949</td>\n",
              "      <td>-0.843197</td>\n",
              "      <td>-0.570918</td>\n",
              "      <td>0.051135</td>\n",
              "      <td>-0.541278</td>\n",
              "      <td>-0.524511</td>\n",
              "      <td>-0.138791</td>\n",
              "      <td>-0.411753</td>\n",
              "      <td>-0.370406</td>\n",
              "      <td>-0.992389</td>\n",
              "      <td>-0.452888</td>\n",
              "      <td>-0.541941</td>\n",
              "      <td>-0.899306</td>\n",
              "      <td>-0.801803</td>\n",
              "      <td>-0.881442</td>\n",
              "      <td>-0.773059</td>\n",
              "      <td>-1.106264</td>\n",
              "      <td>-0.843693</td>\n",
              "      <td>-0.843748</td>\n",
              "      <td>-1.231835</td>\n",
              "      <td>-0.973992</td>\n",
              "      <td>-0.907825</td>\n",
              "      <td>1.0</td>\n",
              "      <td>0</td>\n",
              "      <td>0</td>\n",
              "      <td>1</td>\n",
              "      <td>0</td>\n",
              "      <td>0.85</td>\n",
              "      <td>1</td>\n",
              "    </tr>\n",
              "    <tr>\n",
              "      <th>43</th>\n",
              "      <td>-0.234114</td>\n",
              "      <td>0.217963</td>\n",
              "      <td>-0.182683</td>\n",
              "      <td>-0.306126</td>\n",
              "      <td>0.553180</td>\n",
              "      <td>0.780040</td>\n",
              "      <td>0.137501</td>\n",
              "      <td>0.343189</td>\n",
              "      <td>0.624828</td>\n",
              "      <td>0.723126</td>\n",
              "      <td>-0.103308</td>\n",
              "      <td>-0.683373</td>\n",
              "      <td>-0.203030</td>\n",
              "      <td>-0.187934</td>\n",
              "      <td>-0.634383</td>\n",
              "      <td>-0.199759</td>\n",
              "      <td>-0.317041</td>\n",
              "      <td>-0.346650</td>\n",
              "      <td>-0.393782</td>\n",
              "      <td>-0.178614</td>\n",
              "      <td>0.243543</td>\n",
              "      <td>0.362153</td>\n",
              "      <td>0.189027</td>\n",
              "      <td>0.060872</td>\n",
              "      <td>0.907665</td>\n",
              "      <td>0.772216</td>\n",
              "      <td>0.444607</td>\n",
              "      <td>0.532811</td>\n",
              "      <td>1.370389</td>\n",
              "      <td>1.015717</td>\n",
              "      <td>0.0</td>\n",
              "      <td>0</td>\n",
              "      <td>0</td>\n",
              "      <td>0</td>\n",
              "      <td>1</td>\n",
              "      <td>0.52</td>\n",
              "      <td>1</td>\n",
              "    </tr>\n",
              "    <tr>\n",
              "      <th>199</th>\n",
              "      <td>0.105205</td>\n",
              "      <td>0.204426</td>\n",
              "      <td>0.118894</td>\n",
              "      <td>-0.020441</td>\n",
              "      <td>0.167688</td>\n",
              "      <td>0.334689</td>\n",
              "      <td>0.387371</td>\n",
              "      <td>0.296717</td>\n",
              "      <td>0.537352</td>\n",
              "      <td>0.270696</td>\n",
              "      <td>-0.742652</td>\n",
              "      <td>-0.992005</td>\n",
              "      <td>-0.737363</td>\n",
              "      <td>-0.482903</td>\n",
              "      <td>-0.979785</td>\n",
              "      <td>-0.518329</td>\n",
              "      <td>-0.376158</td>\n",
              "      <td>-0.715807</td>\n",
              "      <td>-0.636362</td>\n",
              "      <td>-0.687727</td>\n",
              "      <td>0.443488</td>\n",
              "      <td>0.701108</td>\n",
              "      <td>0.334545</td>\n",
              "      <td>0.305683</td>\n",
              "      <td>1.005257</td>\n",
              "      <td>0.986723</td>\n",
              "      <td>1.069017</td>\n",
              "      <td>1.063416</td>\n",
              "      <td>3.022371</td>\n",
              "      <td>0.938797</td>\n",
              "      <td>0.0</td>\n",
              "      <td>0</td>\n",
              "      <td>1</td>\n",
              "      <td>0</td>\n",
              "      <td>0</td>\n",
              "      <td>0.54</td>\n",
              "      <td>1</td>\n",
              "    </tr>\n",
              "    <tr>\n",
              "      <th>235</th>\n",
              "      <td>-0.016602</td>\n",
              "      <td>0.436824</td>\n",
              "      <td>-0.078792</td>\n",
              "      <td>-0.135594</td>\n",
              "      <td>-0.406968</td>\n",
              "      <td>-0.655734</td>\n",
              "      <td>-0.935287</td>\n",
              "      <td>-0.769539</td>\n",
              "      <td>-1.040859</td>\n",
              "      <td>-0.632731</td>\n",
              "      <td>-0.545535</td>\n",
              "      <td>0.519405</td>\n",
              "      <td>-0.616988</td>\n",
              "      <td>-0.417272</td>\n",
              "      <td>0.144116</td>\n",
              "      <td>-0.642282</td>\n",
              "      <td>-0.781920</td>\n",
              "      <td>-0.268141</td>\n",
              "      <td>-0.955288</td>\n",
              "      <td>-0.327437</td>\n",
              "      <td>-0.187920</td>\n",
              "      <td>0.726689</td>\n",
              "      <td>-0.260564</td>\n",
              "      <td>-0.282185</td>\n",
              "      <td>-0.170275</td>\n",
              "      <td>-0.656323</td>\n",
              "      <td>-1.012622</td>\n",
              "      <td>-0.534074</td>\n",
              "      <td>-1.094550</td>\n",
              "      <td>-0.441912</td>\n",
              "      <td>1.0</td>\n",
              "      <td>0</td>\n",
              "      <td>0</td>\n",
              "      <td>0</td>\n",
              "      <td>1</td>\n",
              "      <td>0.80</td>\n",
              "      <td>1</td>\n",
              "    </tr>\n",
              "    <tr>\n",
              "      <th>542</th>\n",
              "      <td>0.189310</td>\n",
              "      <td>1.377701</td>\n",
              "      <td>0.127726</td>\n",
              "      <td>0.055449</td>\n",
              "      <td>-0.976608</td>\n",
              "      <td>-0.603647</td>\n",
              "      <td>-0.597138</td>\n",
              "      <td>-0.474256</td>\n",
              "      <td>0.136421</td>\n",
              "      <td>-0.854651</td>\n",
              "      <td>-0.370230</td>\n",
              "      <td>0.310102</td>\n",
              "      <td>-0.339200</td>\n",
              "      <td>-0.285019</td>\n",
              "      <td>-0.734173</td>\n",
              "      <td>-0.764497</td>\n",
              "      <td>-0.393094</td>\n",
              "      <td>0.165296</td>\n",
              "      <td>-0.207844</td>\n",
              "      <td>-0.440953</td>\n",
              "      <td>0.060434</td>\n",
              "      <td>1.048056</td>\n",
              "      <td>0.016224</td>\n",
              "      <td>-0.083724</td>\n",
              "      <td>-1.177240</td>\n",
              "      <td>-0.744839</td>\n",
              "      <td>-0.539211</td>\n",
              "      <td>-0.076005</td>\n",
              "      <td>-0.286480</td>\n",
              "      <td>-0.805083</td>\n",
              "      <td>1.0</td>\n",
              "      <td>1</td>\n",
              "      <td>0</td>\n",
              "      <td>0</td>\n",
              "      <td>0</td>\n",
              "      <td>0.62</td>\n",
              "      <td>1</td>\n",
              "    </tr>\n",
              "    <tr>\n",
              "      <th>...</th>\n",
              "      <td>...</td>\n",
              "      <td>...</td>\n",
              "      <td>...</td>\n",
              "      <td>...</td>\n",
              "      <td>...</td>\n",
              "      <td>...</td>\n",
              "      <td>...</td>\n",
              "      <td>...</td>\n",
              "      <td>...</td>\n",
              "      <td>...</td>\n",
              "      <td>...</td>\n",
              "      <td>...</td>\n",
              "      <td>...</td>\n",
              "      <td>...</td>\n",
              "      <td>...</td>\n",
              "      <td>...</td>\n",
              "      <td>...</td>\n",
              "      <td>...</td>\n",
              "      <td>...</td>\n",
              "      <td>...</td>\n",
              "      <td>...</td>\n",
              "      <td>...</td>\n",
              "      <td>...</td>\n",
              "      <td>...</td>\n",
              "      <td>...</td>\n",
              "      <td>...</td>\n",
              "      <td>...</td>\n",
              "      <td>...</td>\n",
              "      <td>...</td>\n",
              "      <td>...</td>\n",
              "      <td>...</td>\n",
              "      <td>...</td>\n",
              "      <td>...</td>\n",
              "      <td>...</td>\n",
              "      <td>...</td>\n",
              "      <td>...</td>\n",
              "      <td>...</td>\n",
              "    </tr>\n",
              "    <tr>\n",
              "      <th>205</th>\n",
              "      <td>0.299516</td>\n",
              "      <td>-0.594304</td>\n",
              "      <td>0.299335</td>\n",
              "      <td>0.196094</td>\n",
              "      <td>-0.545974</td>\n",
              "      <td>-0.143967</td>\n",
              "      <td>-0.156380</td>\n",
              "      <td>-0.199599</td>\n",
              "      <td>-0.760207</td>\n",
              "      <td>-0.416538</td>\n",
              "      <td>-0.497147</td>\n",
              "      <td>-1.504263</td>\n",
              "      <td>-0.449771</td>\n",
              "      <td>-0.309042</td>\n",
              "      <td>-0.499985</td>\n",
              "      <td>-0.331821</td>\n",
              "      <td>-0.363695</td>\n",
              "      <td>-0.559279</td>\n",
              "      <td>-0.635131</td>\n",
              "      <td>-0.344142</td>\n",
              "      <td>0.325626</td>\n",
              "      <td>-0.878547</td>\n",
              "      <td>0.328482</td>\n",
              "      <td>0.208152</td>\n",
              "      <td>0.734663</td>\n",
              "      <td>0.518297</td>\n",
              "      <td>0.283113</td>\n",
              "      <td>0.164761</td>\n",
              "      <td>0.842537</td>\n",
              "      <td>0.724521</td>\n",
              "      <td>0.0</td>\n",
              "      <td>1</td>\n",
              "      <td>0</td>\n",
              "      <td>0</td>\n",
              "      <td>0</td>\n",
              "      <td>0.76</td>\n",
              "      <td>1</td>\n",
              "    </tr>\n",
              "    <tr>\n",
              "      <th>428</th>\n",
              "      <td>-0.857648</td>\n",
              "      <td>-0.607842</td>\n",
              "      <td>-0.891409</td>\n",
              "      <td>-0.786956</td>\n",
              "      <td>-1.065457</td>\n",
              "      <td>-1.258120</td>\n",
              "      <td>-0.947186</td>\n",
              "      <td>-0.906868</td>\n",
              "      <td>-1.062728</td>\n",
              "      <td>-0.184597</td>\n",
              "      <td>-1.011161</td>\n",
              "      <td>-0.431146</td>\n",
              "      <td>-0.997721</td>\n",
              "      <td>-0.723535</td>\n",
              "      <td>-0.361891</td>\n",
              "      <td>-1.080576</td>\n",
              "      <td>-0.714942</td>\n",
              "      <td>-0.898014</td>\n",
              "      <td>-0.036684</td>\n",
              "      <td>-0.535487</td>\n",
              "      <td>-0.956133</td>\n",
              "      <td>-0.870553</td>\n",
              "      <td>-0.985730</td>\n",
              "      <td>-0.809029</td>\n",
              "      <td>-1.310319</td>\n",
              "      <td>-1.232067</td>\n",
              "      <td>-1.091739</td>\n",
              "      <td>-1.135069</td>\n",
              "      <td>-0.838770</td>\n",
              "      <td>-0.735306</td>\n",
              "      <td>1.0</td>\n",
              "      <td>0</td>\n",
              "      <td>0</td>\n",
              "      <td>1</td>\n",
              "      <td>0</td>\n",
              "      <td>0.80</td>\n",
              "      <td>1</td>\n",
              "    </tr>\n",
              "    <tr>\n",
              "      <th>360</th>\n",
              "      <td>-0.448725</td>\n",
              "      <td>-0.280679</td>\n",
              "      <td>-0.514964</td>\n",
              "      <td>-0.462301</td>\n",
              "      <td>-1.577775</td>\n",
              "      <td>-1.487379</td>\n",
              "      <td>-1.107061</td>\n",
              "      <td>-1.122286</td>\n",
              "      <td>-1.000766</td>\n",
              "      <td>-1.563361</td>\n",
              "      <td>-0.179855</td>\n",
              "      <td>-0.456688</td>\n",
              "      <td>-0.256409</td>\n",
              "      <td>-0.262976</td>\n",
              "      <td>-0.395491</td>\n",
              "      <td>-1.171513</td>\n",
              "      <td>-0.989916</td>\n",
              "      <td>-1.318694</td>\n",
              "      <td>0.005183</td>\n",
              "      <td>-1.036248</td>\n",
              "      <td>-0.526775</td>\n",
              "      <td>-0.760233</td>\n",
              "      <td>-0.607685</td>\n",
              "      <td>-0.514469</td>\n",
              "      <td>-1.757021</td>\n",
              "      <td>-1.354310</td>\n",
              "      <td>-1.294057</td>\n",
              "      <td>-1.504499</td>\n",
              "      <td>-1.083146</td>\n",
              "      <td>-1.593510</td>\n",
              "      <td>1.0</td>\n",
              "      <td>0</td>\n",
              "      <td>0</td>\n",
              "      <td>0</td>\n",
              "      <td>1</td>\n",
              "      <td>0.80</td>\n",
              "      <td>1</td>\n",
              "    </tr>\n",
              "    <tr>\n",
              "      <th>436</th>\n",
              "      <td>-0.353020</td>\n",
              "      <td>0.050997</td>\n",
              "      <td>-0.378266</td>\n",
              "      <td>-0.411610</td>\n",
              "      <td>-0.359677</td>\n",
              "      <td>-0.474108</td>\n",
              "      <td>-0.892427</td>\n",
              "      <td>-0.718889</td>\n",
              "      <td>0.212962</td>\n",
              "      <td>0.100319</td>\n",
              "      <td>-0.118776</td>\n",
              "      <td>-0.781994</td>\n",
              "      <td>-0.110434</td>\n",
              "      <td>-0.307556</td>\n",
              "      <td>-0.352820</td>\n",
              "      <td>-0.654445</td>\n",
              "      <td>-0.789461</td>\n",
              "      <td>-0.846820</td>\n",
              "      <td>0.226830</td>\n",
              "      <td>-0.535107</td>\n",
              "      <td>-0.373133</td>\n",
              "      <td>-0.216627</td>\n",
              "      <td>-0.355454</td>\n",
              "      <td>-0.440739</td>\n",
              "      <td>-0.494101</td>\n",
              "      <td>-0.566514</td>\n",
              "      <td>-0.969685</td>\n",
              "      <td>-0.776220</td>\n",
              "      <td>0.676361</td>\n",
              "      <td>-0.377079</td>\n",
              "      <td>1.0</td>\n",
              "      <td>0</td>\n",
              "      <td>0</td>\n",
              "      <td>1</td>\n",
              "      <td>0</td>\n",
              "      <td>0.60</td>\n",
              "      <td>1</td>\n",
              "    </tr>\n",
              "    <tr>\n",
              "      <th>421</th>\n",
              "      <td>0.174809</td>\n",
              "      <td>-1.203505</td>\n",
              "      <td>0.275781</td>\n",
              "      <td>0.018822</td>\n",
              "      <td>0.481528</td>\n",
              "      <td>1.554564</td>\n",
              "      <td>0.732813</td>\n",
              "      <td>0.380263</td>\n",
              "      <td>1.033048</td>\n",
              "      <td>1.616531</td>\n",
              "      <td>0.593942</td>\n",
              "      <td>0.533595</td>\n",
              "      <td>1.086777</td>\n",
              "      <td>0.260836</td>\n",
              "      <td>1.013332</td>\n",
              "      <td>1.594079</td>\n",
              "      <td>0.671321</td>\n",
              "      <td>0.673971</td>\n",
              "      <td>0.756321</td>\n",
              "      <td>0.628907</td>\n",
              "      <td>0.049911</td>\n",
              "      <td>-1.182327</td>\n",
              "      <td>0.219344</td>\n",
              "      <td>-0.114504</td>\n",
              "      <td>-0.059376</td>\n",
              "      <td>0.714713</td>\n",
              "      <td>0.231359</td>\n",
              "      <td>-0.056069</td>\n",
              "      <td>-0.115417</td>\n",
              "      <td>0.432226</td>\n",
              "      <td>1.0</td>\n",
              "      <td>0</td>\n",
              "      <td>0</td>\n",
              "      <td>1</td>\n",
              "      <td>0</td>\n",
              "      <td>0.44</td>\n",
              "      <td>0</td>\n",
              "    </tr>\n",
              "  </tbody>\n",
              "</table>\n",
              "<p>114 rows × 37 columns</p>\n",
              "</div>"
            ],
            "text/plain": [
              "     mean_radius  mean_texture  ...  benign_prob  benign_pred\n",
              "144    -0.967854     -0.980131  ...         0.85            1\n",
              "43     -0.234114      0.217963  ...         0.52            1\n",
              "199     0.105205      0.204426  ...         0.54            1\n",
              "235    -0.016602      0.436824  ...         0.80            1\n",
              "542     0.189310      1.377701  ...         0.62            1\n",
              "..           ...           ...  ...          ...          ...\n",
              "205     0.299516     -0.594304  ...         0.76            1\n",
              "428    -0.857648     -0.607842  ...         0.80            1\n",
              "360    -0.448725     -0.280679  ...         0.80            1\n",
              "436    -0.353020      0.050997  ...         0.60            1\n",
              "421     0.174809     -1.203505  ...         0.44            0\n",
              "\n",
              "[114 rows x 37 columns]"
            ]
          },
          "metadata": {
            "tags": []
          },
          "execution_count": 104
        }
      ]
    },
    {
      "cell_type": "markdown",
      "metadata": {
        "id": "V4YdwcpskQyC"
      },
      "source": [
        "Let's plot the predicted and observed points!"
      ]
    },
    {
      "cell_type": "code",
      "metadata": {
        "colab": {
          "base_uri": "https://localhost:8080/",
          "height": 297
        },
        "id": "EZxBRFwqdwd5",
        "outputId": "fe28b9c7-4e45-41cb-c447-e2c47710601e"
      },
      "source": [
        "sns.scatterplot(data=df_test,x='mean_symmetry', y='benign')"
      ],
      "execution_count": 105,
      "outputs": [
        {
          "output_type": "execute_result",
          "data": {
            "text/plain": [
              "<matplotlib.axes._subplots.AxesSubplot at 0x7fe448a1de90>"
            ]
          },
          "metadata": {
            "tags": []
          },
          "execution_count": 105
        },
        {
          "output_type": "display_data",
          "data": {
            "image/png": "[encoded data removed]",
            "text/plain": [
              "<Figure size 432x288 with 1 Axes>"
            ]
          },
          "metadata": {
            "tags": [],
            "needs_background": "light"
          }
        }
      ]
    },
    {
      "cell_type": "code",
      "metadata": {
        "colab": {
          "base_uri": "https://localhost:8080/",
          "height": 297
        },
        "id": "-OgHBdczgYn1",
        "outputId": "8c3f7eea-0008-4e40-cd1c-c26c3a41fb93"
      },
      "source": [
        "sns.scatterplot(data=df_test,x='mean_symmetry', y='benign')\n",
        "sns.scatterplot(data=df_test,x='mean_symmetry', y='benign_pred')"
      ],
      "execution_count": 106,
      "outputs": [
        {
          "output_type": "execute_result",
          "data": {
            "text/plain": [
              "<matplotlib.axes._subplots.AxesSubplot at 0x7fe448a3e950>"
            ]
          },
          "metadata": {
            "tags": []
          },
          "execution_count": 106
        },
        {
          "output_type": "display_data",
          "data": {
            "image/png": "[encoded data removed]",
            "text/plain": [
              "<Figure size 432x288 with 1 Axes>"
            ]
          },
          "metadata": {
            "tags": [],
            "needs_background": "light"
          }
        }
      ]
    },
    {
      "cell_type": "markdown",
      "metadata": {
        "id": "C0MmbEZ7dq5e"
      },
      "source": [
        "<img src='http://drive.google.com/uc?export=view&id=1qWrKY9TgpgQaBCzZfz1xLTV6iCeSwfmG' width=\"100\" align = 'left'>"
      ]
    },
    {
      "cell_type": "markdown",
      "metadata": {
        "id": "S7gvWHDrbuK1"
      },
      "source": [
        "How good is the model at classifying?"
      ]
    },
    {
      "cell_type": "code",
      "metadata": {
        "colab": {
          "base_uri": "https://localhost:8080/"
        },
        "id": "ksoip4-QFDYe",
        "outputId": "d6cbdd2d-8568-465c-e1d6-bb13fff36202"
      },
      "source": [
        "#confusion table\n",
        "confusion_matrix = sk.metrics.confusion_matrix(df_test['benign'], df_test['benign_pred'])\n",
        "print(confusion_matrix)"
      ],
      "execution_count": 107,
      "outputs": [
        {
          "output_type": "stream",
          "text": [
            "[[16 27]\n",
            " [ 7 64]]\n"
          ],
          "name": "stdout"
        }
      ]
    },
    {
      "cell_type": "code",
      "metadata": {
        "colab": {
          "base_uri": "https://localhost:8080/",
          "height": 297
        },
        "id": "AhYeBHZJMn2u",
        "outputId": "d3bfe23d-4c15-40dd-bd73-6f9dd3a7d768"
      },
      "source": [
        "#more visual approach\n",
        "sns.heatmap(confusion_matrix, annot=True)\n",
        "plt.xlabel('Predicted label')\n",
        "plt.ylabel('True label')"
      ],
      "execution_count": 108,
      "outputs": [
        {
          "output_type": "execute_result",
          "data": {
            "text/plain": [
              "Text(33.0, 0.5, 'True label')"
            ]
          },
          "metadata": {
            "tags": []
          },
          "execution_count": 108
        },
        {
          "output_type": "display_data",
          "data": {
            "image/png": "[encoded data removed]",
            "text/plain": [
              "<Figure size 432x288 with 2 Axes>"
            ]
          },
          "metadata": {
            "tags": [],
            "needs_background": "light"
          }
        }
      ]
    },
    {
      "cell_type": "markdown",
      "metadata": {
        "id": "bEvZvpW3FFdB"
      },
      "source": [
        "Measuring classification success:"
      ]
    },
    {
      "cell_type": "code",
      "metadata": {
        "id": "T-3K34M6clh1",
        "colab": {
          "base_uri": "https://localhost:8080/"
        },
        "outputId": "a18c6729-4e53-4978-8e52-29b060ba9c86"
      },
      "source": [
        "print('Accuracy: {:.2f}'.format(sk.metrics.accuracy_score(df_test['benign'], df_test['benign_pred'])))\n",
        "print('precision: {:.2f}'.format(sk.metrics.precision_score(df_test['benign'], df_test['benign_pred'])))\n",
        "print('recal: {:.2f}'.format(sk.metrics.recall_score(df_test['benign'], df_test['benign_pred'])))\n"
      ],
      "execution_count": 109,
      "outputs": [
        {
          "output_type": "stream",
          "text": [
            "Accuracy: 0.70\n",
            "precision: 0.70\n",
            "recal: 0.90\n"
          ],
          "name": "stdout"
        }
      ]
    },
    {
      "cell_type": "markdown",
      "metadata": {
        "id": "8wk1MP3yPt41"
      },
      "source": [
        "> **Accuracy** is the overall ability of the model to correctly identify positive and negative samples.\n",
        "\n",
        "> **Precision** is intuitively the ability of the classifier to not label a sample as positive if it is negative.\n",
        "\n",
        "> **Recall** is intuitively the ability of the classifier to find all the positive samples."
      ]
    },
    {
      "cell_type": "markdown",
      "metadata": {
        "id": "imuhCYCRwAKW"
      },
      "source": [
        "Compare that accuracy if we just predicted the most common type (i.e., let's compute a baseline!)"
      ]
    },
    {
      "cell_type": "code",
      "metadata": {
        "colab": {
          "base_uri": "https://localhost:8080/"
        },
        "id": "nZtsrN4AwHZG",
        "outputId": "7bd7d7cd-a65e-4929-a7c3-54f45ea6e1ad"
      },
      "source": [
        "df_cancer.benign.value_counts()"
      ],
      "execution_count": 110,
      "outputs": [
        {
          "output_type": "execute_result",
          "data": {
            "text/plain": [
              "1.0    357\n",
              "0.0    212\n",
              "Name: benign, dtype: int64"
            ]
          },
          "metadata": {
            "tags": []
          },
          "execution_count": 110
        }
      ]
    },
    {
      "cell_type": "code",
      "metadata": {
        "colab": {
          "base_uri": "https://localhost:8080/"
        },
        "id": "mBePam8lwMDT",
        "outputId": "7831fcb1-4fb4-4fc2-bc93-f965c24b5794"
      },
      "source": [
        "357/(212+357)"
      ],
      "execution_count": 111,
      "outputs": [
        {
          "output_type": "execute_result",
          "data": {
            "text/plain": [
              "0.6274165202108963"
            ]
          },
          "metadata": {
            "tags": []
          },
          "execution_count": 111
        }
      ]
    },
    {
      "cell_type": "markdown",
      "metadata": {
        "id": "d2iuYitVkb3O"
      },
      "source": [
        "Is all that variation noise? Or maybe there are other variables that might explain why the predictions are off."
      ]
    },
    {
      "cell_type": "markdown",
      "metadata": {
        "id": "SS_vxHN7vpBg"
      },
      "source": [
        "<img src='http://drive.google.com/uc?export=view&id=1qWrKY9TgpgQaBCzZfz1xLTV6iCeSwfmG' width=\"100\" align = 'left'>"
      ]
    },
    {
      "cell_type": "markdown",
      "metadata": {
        "id": "6L3gTa8Ik_6I"
      },
      "source": [
        "### Fit a more complex model"
      ]
    },
    {
      "cell_type": "markdown",
      "metadata": {
        "id": "S4pSaQXslLVk"
      },
      "source": [
        "This time we will try logistic regression with many predictors. How high can you get the accuracy?"
      ]
    },
    {
      "cell_type": "markdown",
      "metadata": {
        "id": "uUm_ZfRBvhs5"
      },
      "source": [
        "<img src='http://drive.google.com/uc?export=view&id=1WC4tXGCEF-1_2LQ74gIxJAZ-GLXCwBdK' width=\"100\" align = 'left'>  "
      ]
    },
    {
      "cell_type": "code",
      "metadata": {
        "colab": {
          "base_uri": "https://localhost:8080/"
        },
        "id": "LcG4MXuolVpB",
        "outputId": "83ae0739-78e5-479e-c44b-7bf7012f9a57"
      },
      "source": [
        "#get all the column names, with a + between them, as a string\n",
        "all_columns = \"+\".join(df_train.drop(['benign','technician_1'],axis=1).columns )\n",
        "\n",
        "#write the formula\n",
        "my_formula = \"benign~\" + all_columns\n",
        "\n",
        "#define model parameters\n",
        "log_reg2 = smf.logit(my_formula , data=df_train)\n",
        "\n",
        "#fit the model to the training data\n",
        "results2 = log_reg2.fit(method='bfgs')\n",
        "\n",
        "#Get a summary of the model parameters\n",
        "print(results2.summary())\n"
      ],
      "execution_count": 112,
      "outputs": [
        {
          "output_type": "stream",
          "text": [
            "Warning: Maximum number of iterations has been exceeded.\n",
            "         Current function value: 0.021147\n",
            "         Iterations: 35\n",
            "         Function evaluations: 36\n",
            "         Gradient evaluations: 36\n",
            "                           Logit Regression Results                           \n",
            "==============================================================================\n",
            "Dep. Variable:                 benign   No. Observations:                  455\n",
            "Model:                          Logit   Df Residuals:                      421\n",
            "Method:                           MLE   Df Model:                           33\n",
            "Date:                Tue, 27 Jul 2021   Pseudo R-squ.:                  0.9679\n",
            "Time:                        19:46:49   Log-Likelihood:                -9.6217\n",
            "converged:                      False   LL-Null:                       -300.17\n",
            "Covariance Type:            nonrobust   LLR p-value:                2.020e-101\n",
            "===========================================================================================\n",
            "                              coef    std err          z      P>|z|      [0.025      0.975]\n",
            "-------------------------------------------------------------------------------------------\n",
            "Intercept                   0.5643      8.012      0.070      0.944     -15.139      16.268\n",
            "mean_radius                -1.8673    194.736     -0.010      0.992    -383.542     379.807\n",
            "mean_texture               -1.7517      6.441     -0.272      0.786     -14.376      10.873\n",
            "mean_perimeter             -1.7785    206.612     -0.009      0.993    -406.730     403.173\n",
            "mean_area                  -1.7496     79.291     -0.022      0.982    -157.158     153.659\n",
            "mean_smoothness            -0.7024      6.454     -0.109      0.913     -13.352      11.948\n",
            "mean_compactness            0.9953     14.742      0.068      0.946     -27.898      29.888\n",
            "mean_concavity             -1.4323     24.127     -0.059      0.953     -48.721      45.857\n",
            "mean_concave_points        -1.8512     23.659     -0.078      0.938     -48.221      44.519\n",
            "mean_symmetry               0.6331      3.419      0.185      0.853      -6.068       7.334\n",
            "mean_fractal_dimension      1.5236      9.136      0.167      0.868     -16.383      19.430\n",
            "radius_error               -2.4526     28.515     -0.086      0.931     -58.342      53.436\n",
            "texture_error               1.3113      3.818      0.343      0.731      -6.172       8.795\n",
            "perimeter_error            -1.9115     21.370     -0.089      0.929     -43.795      39.973\n",
            "area_error                 -2.2739     39.749     -0.057      0.954     -80.180      75.633\n",
            "smoothness_error           -1.7564      7.042     -0.249      0.803     -15.558      12.045\n",
            "compactness_error           1.5467     12.569      0.123      0.902     -23.088      26.181\n",
            "concavity_error             0.7622     18.394      0.041      0.967     -35.289      36.813\n",
            "concave_points_error        0.1990     10.692      0.019      0.985     -20.756      21.154\n",
            "symmetry_error              1.9063      4.182      0.456      0.649      -6.290      10.103\n",
            "fractal_dimension_error     2.3417      8.904      0.263      0.793     -15.109      19.793\n",
            "worst_radius               -2.9757     93.259     -0.032      0.975    -185.760     179.809\n",
            "worst_texture              -3.7568      7.756     -0.484      0.628     -18.958      11.445\n",
            "worst_perimeter            -2.6779     58.072     -0.046      0.963    -116.496     111.140\n",
            "worst_area                 -2.5910    112.632     -0.023      0.982    -223.346     218.164\n",
            "worst_smoothness           -3.4653      7.180     -0.483      0.629     -17.539      10.608\n",
            "worst_compactness          -0.8598     15.542     -0.055      0.956     -31.322      29.602\n",
            "worst_concavity            -2.7518     12.774     -0.215      0.829     -27.788      22.285\n",
            "worst_concave_points       -1.9678     16.124     -0.122      0.903     -33.570      29.635\n",
            "worst_symmetry             -2.1465      5.214     -0.412      0.681     -12.366       8.073\n",
            "worst_fractal_dimension    -1.7347      7.959     -0.218      0.827     -17.333      13.864\n",
            "technician_2                2.7536      5.226      0.527      0.598      -7.490      12.997\n",
            "technician_3               -1.1359      3.887     -0.292      0.770      -8.753       6.482\n",
            "technician_4                0.0979      5.742      0.017      0.986     -11.156      11.352\n",
            "===========================================================================================\n",
            "\n",
            "Possibly complete quasi-separation: A fraction 0.84 of observations can be\n",
            "perfectly predicted. This might indicate that there is complete\n",
            "quasi-separation. In this case some parameters will not be identified.\n"
          ],
          "name": "stdout"
        },
        {
          "output_type": "stream",
          "text": [
            "/usr/local/lib/python3.7/dist-packages/statsmodels/base/model.py:512: ConvergenceWarning: Maximum Likelihood optimization failed to converge. Check mle_retvals\n",
            "  \"Check mle_retvals\", ConvergenceWarning)\n"
          ],
          "name": "stderr"
        }
      ]
    },
    {
      "cell_type": "markdown",
      "metadata": {
        "id": "8yeNY-fNlVpo"
      },
      "source": [
        "Visualize and explore these predictions"
      ]
    },
    {
      "cell_type": "code",
      "metadata": {
        "colab": {
          "base_uri": "https://localhost:8080/",
          "height": 651
        },
        "id": "Ql6ferivj2v4",
        "outputId": "f660dd5f-56df-4575-cfd0-30abbf82bc5c"
      },
      "source": [
        "#let's first predict values in the testing dataset\n",
        "df_test['benign_prob_multi'] = results2.predict(df_test).round(2)\n",
        "\n",
        "df_test['benign_pred_multi'] = (df_test['benign_prob_multi']>0.5).astype(int) #here we've used 0.5 as the threshold of benign or not!\n",
        "\n",
        "df_test"
      ],
      "execution_count": 113,
      "outputs": [
        {
          "output_type": "stream",
          "text": [
            "/usr/local/lib/python3.7/dist-packages/ipykernel_launcher.py:2: SettingWithCopyWarning: \n",
            "A value is trying to be set on a copy of a slice from a DataFrame.\n",
            "Try using .loc[row_indexer,col_indexer] = value instead\n",
            "\n",
            "See the caveats in the documentation: https://pandas.pydata.org/pandas-docs/stable/user_guide/indexing.html#returning-a-view-versus-a-copy\n",
            "  \n",
            "/usr/local/lib/python3.7/dist-packages/ipykernel_launcher.py:4: SettingWithCopyWarning: \n",
            "A value is trying to be set on a copy of a slice from a DataFrame.\n",
            "Try using .loc[row_indexer,col_indexer] = value instead\n",
            "\n",
            "See the caveats in the documentation: https://pandas.pydata.org/pandas-docs/stable/user_guide/indexing.html#returning-a-view-versus-a-copy\n",
            "  after removing the cwd from sys.path.\n"
          ],
          "name": "stderr"
        },
        {
          "output_type": "execute_result",
          "data": {
            "text/html": [
              "<div>\n",
              "<style scoped>\n",
              "    .dataframe tbody tr th:only-of-type {\n",
              "        vertical-align: middle;\n",
              "    }\n",
              "\n",
              "    .dataframe tbody tr th {\n",
              "        vertical-align: top;\n",
              "    }\n",
              "\n",
              "    .dataframe thead th {\n",
              "        text-align: right;\n",
              "    }\n",
              "</style>\n",
              "<table border=\"1\" class=\"dataframe\">\n",
              "  <thead>\n",
              "    <tr style=\"text-align: right;\">\n",
              "      <th></th>\n",
              "      <th>mean_radius</th>\n",
              "      <th>mean_texture</th>\n",
              "      <th>mean_perimeter</th>\n",
              "      <th>mean_area</th>\n",
              "      <th>mean_smoothness</th>\n",
              "      <th>mean_compactness</th>\n",
              "      <th>mean_concavity</th>\n",
              "      <th>mean_concave_points</th>\n",
              "      <th>mean_symmetry</th>\n",
              "      <th>mean_fractal_dimension</th>\n",
              "      <th>radius_error</th>\n",
              "      <th>texture_error</th>\n",
              "      <th>perimeter_error</th>\n",
              "      <th>area_error</th>\n",
              "      <th>smoothness_error</th>\n",
              "      <th>compactness_error</th>\n",
              "      <th>concavity_error</th>\n",
              "      <th>concave_points_error</th>\n",
              "      <th>symmetry_error</th>\n",
              "      <th>fractal_dimension_error</th>\n",
              "      <th>worst_radius</th>\n",
              "      <th>worst_texture</th>\n",
              "      <th>worst_perimeter</th>\n",
              "      <th>worst_area</th>\n",
              "      <th>worst_smoothness</th>\n",
              "      <th>worst_compactness</th>\n",
              "      <th>worst_concavity</th>\n",
              "      <th>worst_concave_points</th>\n",
              "      <th>worst_symmetry</th>\n",
              "      <th>worst_fractal_dimension</th>\n",
              "      <th>benign</th>\n",
              "      <th>technician_1</th>\n",
              "      <th>technician_2</th>\n",
              "      <th>technician_3</th>\n",
              "      <th>technician_4</th>\n",
              "      <th>benign_prob</th>\n",
              "      <th>benign_pred</th>\n",
              "      <th>benign_prob_multi</th>\n",
              "      <th>benign_pred_multi</th>\n",
              "    </tr>\n",
              "  </thead>\n",
              "  <tbody>\n",
              "    <tr>\n",
              "      <th>144</th>\n",
              "      <td>-0.967854</td>\n",
              "      <td>-0.980131</td>\n",
              "      <td>-0.984363</td>\n",
              "      <td>-0.862553</td>\n",
              "      <td>-1.321975</td>\n",
              "      <td>-1.005431</td>\n",
              "      <td>-0.834341</td>\n",
              "      <td>-1.058948</td>\n",
              "      <td>-1.470949</td>\n",
              "      <td>-0.843197</td>\n",
              "      <td>-0.570918</td>\n",
              "      <td>0.051135</td>\n",
              "      <td>-0.541278</td>\n",
              "      <td>-0.524511</td>\n",
              "      <td>-0.138791</td>\n",
              "      <td>-0.411753</td>\n",
              "      <td>-0.370406</td>\n",
              "      <td>-0.992389</td>\n",
              "      <td>-0.452888</td>\n",
              "      <td>-0.541941</td>\n",
              "      <td>-0.899306</td>\n",
              "      <td>-0.801803</td>\n",
              "      <td>-0.881442</td>\n",
              "      <td>-0.773059</td>\n",
              "      <td>-1.106264</td>\n",
              "      <td>-0.843693</td>\n",
              "      <td>-0.843748</td>\n",
              "      <td>-1.231835</td>\n",
              "      <td>-0.973992</td>\n",
              "      <td>-0.907825</td>\n",
              "      <td>1.0</td>\n",
              "      <td>0</td>\n",
              "      <td>0</td>\n",
              "      <td>1</td>\n",
              "      <td>0</td>\n",
              "      <td>0.85</td>\n",
              "      <td>1</td>\n",
              "      <td>1.00</td>\n",
              "      <td>1</td>\n",
              "    </tr>\n",
              "    <tr>\n",
              "      <th>43</th>\n",
              "      <td>-0.234114</td>\n",
              "      <td>0.217963</td>\n",
              "      <td>-0.182683</td>\n",
              "      <td>-0.306126</td>\n",
              "      <td>0.553180</td>\n",
              "      <td>0.780040</td>\n",
              "      <td>0.137501</td>\n",
              "      <td>0.343189</td>\n",
              "      <td>0.624828</td>\n",
              "      <td>0.723126</td>\n",
              "      <td>-0.103308</td>\n",
              "      <td>-0.683373</td>\n",
              "      <td>-0.203030</td>\n",
              "      <td>-0.187934</td>\n",
              "      <td>-0.634383</td>\n",
              "      <td>-0.199759</td>\n",
              "      <td>-0.317041</td>\n",
              "      <td>-0.346650</td>\n",
              "      <td>-0.393782</td>\n",
              "      <td>-0.178614</td>\n",
              "      <td>0.243543</td>\n",
              "      <td>0.362153</td>\n",
              "      <td>0.189027</td>\n",
              "      <td>0.060872</td>\n",
              "      <td>0.907665</td>\n",
              "      <td>0.772216</td>\n",
              "      <td>0.444607</td>\n",
              "      <td>0.532811</td>\n",
              "      <td>1.370389</td>\n",
              "      <td>1.015717</td>\n",
              "      <td>0.0</td>\n",
              "      <td>0</td>\n",
              "      <td>0</td>\n",
              "      <td>0</td>\n",
              "      <td>1</td>\n",
              "      <td>0.52</td>\n",
              "      <td>1</td>\n",
              "      <td>0.00</td>\n",
              "      <td>0</td>\n",
              "    </tr>\n",
              "    <tr>\n",
              "      <th>199</th>\n",
              "      <td>0.105205</td>\n",
              "      <td>0.204426</td>\n",
              "      <td>0.118894</td>\n",
              "      <td>-0.020441</td>\n",
              "      <td>0.167688</td>\n",
              "      <td>0.334689</td>\n",
              "      <td>0.387371</td>\n",
              "      <td>0.296717</td>\n",
              "      <td>0.537352</td>\n",
              "      <td>0.270696</td>\n",
              "      <td>-0.742652</td>\n",
              "      <td>-0.992005</td>\n",
              "      <td>-0.737363</td>\n",
              "      <td>-0.482903</td>\n",
              "      <td>-0.979785</td>\n",
              "      <td>-0.518329</td>\n",
              "      <td>-0.376158</td>\n",
              "      <td>-0.715807</td>\n",
              "      <td>-0.636362</td>\n",
              "      <td>-0.687727</td>\n",
              "      <td>0.443488</td>\n",
              "      <td>0.701108</td>\n",
              "      <td>0.334545</td>\n",
              "      <td>0.305683</td>\n",
              "      <td>1.005257</td>\n",
              "      <td>0.986723</td>\n",
              "      <td>1.069017</td>\n",
              "      <td>1.063416</td>\n",
              "      <td>3.022371</td>\n",
              "      <td>0.938797</td>\n",
              "      <td>0.0</td>\n",
              "      <td>0</td>\n",
              "      <td>1</td>\n",
              "      <td>0</td>\n",
              "      <td>0</td>\n",
              "      <td>0.54</td>\n",
              "      <td>1</td>\n",
              "      <td>0.00</td>\n",
              "      <td>0</td>\n",
              "    </tr>\n",
              "    <tr>\n",
              "      <th>235</th>\n",
              "      <td>-0.016602</td>\n",
              "      <td>0.436824</td>\n",
              "      <td>-0.078792</td>\n",
              "      <td>-0.135594</td>\n",
              "      <td>-0.406968</td>\n",
              "      <td>-0.655734</td>\n",
              "      <td>-0.935287</td>\n",
              "      <td>-0.769539</td>\n",
              "      <td>-1.040859</td>\n",
              "      <td>-0.632731</td>\n",
              "      <td>-0.545535</td>\n",
              "      <td>0.519405</td>\n",
              "      <td>-0.616988</td>\n",
              "      <td>-0.417272</td>\n",
              "      <td>0.144116</td>\n",
              "      <td>-0.642282</td>\n",
              "      <td>-0.781920</td>\n",
              "      <td>-0.268141</td>\n",
              "      <td>-0.955288</td>\n",
              "      <td>-0.327437</td>\n",
              "      <td>-0.187920</td>\n",
              "      <td>0.726689</td>\n",
              "      <td>-0.260564</td>\n",
              "      <td>-0.282185</td>\n",
              "      <td>-0.170275</td>\n",
              "      <td>-0.656323</td>\n",
              "      <td>-1.012622</td>\n",
              "      <td>-0.534074</td>\n",
              "      <td>-1.094550</td>\n",
              "      <td>-0.441912</td>\n",
              "      <td>1.0</td>\n",
              "      <td>0</td>\n",
              "      <td>0</td>\n",
              "      <td>0</td>\n",
              "      <td>1</td>\n",
              "      <td>0.80</td>\n",
              "      <td>1</td>\n",
              "      <td>1.00</td>\n",
              "      <td>1</td>\n",
              "    </tr>\n",
              "    <tr>\n",
              "      <th>542</th>\n",
              "      <td>0.189310</td>\n",
              "      <td>1.377701</td>\n",
              "      <td>0.127726</td>\n",
              "      <td>0.055449</td>\n",
              "      <td>-0.976608</td>\n",
              "      <td>-0.603647</td>\n",
              "      <td>-0.597138</td>\n",
              "      <td>-0.474256</td>\n",
              "      <td>0.136421</td>\n",
              "      <td>-0.854651</td>\n",
              "      <td>-0.370230</td>\n",
              "      <td>0.310102</td>\n",
              "      <td>-0.339200</td>\n",
              "      <td>-0.285019</td>\n",
              "      <td>-0.734173</td>\n",
              "      <td>-0.764497</td>\n",
              "      <td>-0.393094</td>\n",
              "      <td>0.165296</td>\n",
              "      <td>-0.207844</td>\n",
              "      <td>-0.440953</td>\n",
              "      <td>0.060434</td>\n",
              "      <td>1.048056</td>\n",
              "      <td>0.016224</td>\n",
              "      <td>-0.083724</td>\n",
              "      <td>-1.177240</td>\n",
              "      <td>-0.744839</td>\n",
              "      <td>-0.539211</td>\n",
              "      <td>-0.076005</td>\n",
              "      <td>-0.286480</td>\n",
              "      <td>-0.805083</td>\n",
              "      <td>1.0</td>\n",
              "      <td>1</td>\n",
              "      <td>0</td>\n",
              "      <td>0</td>\n",
              "      <td>0</td>\n",
              "      <td>0.62</td>\n",
              "      <td>1</td>\n",
              "      <td>0.97</td>\n",
              "      <td>1</td>\n",
              "    </tr>\n",
              "    <tr>\n",
              "      <th>...</th>\n",
              "      <td>...</td>\n",
              "      <td>...</td>\n",
              "      <td>...</td>\n",
              "      <td>...</td>\n",
              "      <td>...</td>\n",
              "      <td>...</td>\n",
              "      <td>...</td>\n",
              "      <td>...</td>\n",
              "      <td>...</td>\n",
              "      <td>...</td>\n",
              "      <td>...</td>\n",
              "      <td>...</td>\n",
              "      <td>...</td>\n",
              "      <td>...</td>\n",
              "      <td>...</td>\n",
              "      <td>...</td>\n",
              "      <td>...</td>\n",
              "      <td>...</td>\n",
              "      <td>...</td>\n",
              "      <td>...</td>\n",
              "      <td>...</td>\n",
              "      <td>...</td>\n",
              "      <td>...</td>\n",
              "      <td>...</td>\n",
              "      <td>...</td>\n",
              "      <td>...</td>\n",
              "      <td>...</td>\n",
              "      <td>...</td>\n",
              "      <td>...</td>\n",
              "      <td>...</td>\n",
              "      <td>...</td>\n",
              "      <td>...</td>\n",
              "      <td>...</td>\n",
              "      <td>...</td>\n",
              "      <td>...</td>\n",
              "      <td>...</td>\n",
              "      <td>...</td>\n",
              "      <td>...</td>\n",
              "      <td>...</td>\n",
              "    </tr>\n",
              "    <tr>\n",
              "      <th>205</th>\n",
              "      <td>0.299516</td>\n",
              "      <td>-0.594304</td>\n",
              "      <td>0.299335</td>\n",
              "      <td>0.196094</td>\n",
              "      <td>-0.545974</td>\n",
              "      <td>-0.143967</td>\n",
              "      <td>-0.156380</td>\n",
              "      <td>-0.199599</td>\n",
              "      <td>-0.760207</td>\n",
              "      <td>-0.416538</td>\n",
              "      <td>-0.497147</td>\n",
              "      <td>-1.504263</td>\n",
              "      <td>-0.449771</td>\n",
              "      <td>-0.309042</td>\n",
              "      <td>-0.499985</td>\n",
              "      <td>-0.331821</td>\n",
              "      <td>-0.363695</td>\n",
              "      <td>-0.559279</td>\n",
              "      <td>-0.635131</td>\n",
              "      <td>-0.344142</td>\n",
              "      <td>0.325626</td>\n",
              "      <td>-0.878547</td>\n",
              "      <td>0.328482</td>\n",
              "      <td>0.208152</td>\n",
              "      <td>0.734663</td>\n",
              "      <td>0.518297</td>\n",
              "      <td>0.283113</td>\n",
              "      <td>0.164761</td>\n",
              "      <td>0.842537</td>\n",
              "      <td>0.724521</td>\n",
              "      <td>0.0</td>\n",
              "      <td>1</td>\n",
              "      <td>0</td>\n",
              "      <td>0</td>\n",
              "      <td>0</td>\n",
              "      <td>0.76</td>\n",
              "      <td>1</td>\n",
              "      <td>0.00</td>\n",
              "      <td>0</td>\n",
              "    </tr>\n",
              "    <tr>\n",
              "      <th>428</th>\n",
              "      <td>-0.857648</td>\n",
              "      <td>-0.607842</td>\n",
              "      <td>-0.891409</td>\n",
              "      <td>-0.786956</td>\n",
              "      <td>-1.065457</td>\n",
              "      <td>-1.258120</td>\n",
              "      <td>-0.947186</td>\n",
              "      <td>-0.906868</td>\n",
              "      <td>-1.062728</td>\n",
              "      <td>-0.184597</td>\n",
              "      <td>-1.011161</td>\n",
              "      <td>-0.431146</td>\n",
              "      <td>-0.997721</td>\n",
              "      <td>-0.723535</td>\n",
              "      <td>-0.361891</td>\n",
              "      <td>-1.080576</td>\n",
              "      <td>-0.714942</td>\n",
              "      <td>-0.898014</td>\n",
              "      <td>-0.036684</td>\n",
              "      <td>-0.535487</td>\n",
              "      <td>-0.956133</td>\n",
              "      <td>-0.870553</td>\n",
              "      <td>-0.985730</td>\n",
              "      <td>-0.809029</td>\n",
              "      <td>-1.310319</td>\n",
              "      <td>-1.232067</td>\n",
              "      <td>-1.091739</td>\n",
              "      <td>-1.135069</td>\n",
              "      <td>-0.838770</td>\n",
              "      <td>-0.735306</td>\n",
              "      <td>1.0</td>\n",
              "      <td>0</td>\n",
              "      <td>0</td>\n",
              "      <td>1</td>\n",
              "      <td>0</td>\n",
              "      <td>0.80</td>\n",
              "      <td>1</td>\n",
              "      <td>1.00</td>\n",
              "      <td>1</td>\n",
              "    </tr>\n",
              "    <tr>\n",
              "      <th>360</th>\n",
              "      <td>-0.448725</td>\n",
              "      <td>-0.280679</td>\n",
              "      <td>-0.514964</td>\n",
              "      <td>-0.462301</td>\n",
              "      <td>-1.577775</td>\n",
              "      <td>-1.487379</td>\n",
              "      <td>-1.107061</td>\n",
              "      <td>-1.122286</td>\n",
              "      <td>-1.000766</td>\n",
              "      <td>-1.563361</td>\n",
              "      <td>-0.179855</td>\n",
              "      <td>-0.456688</td>\n",
              "      <td>-0.256409</td>\n",
              "      <td>-0.262976</td>\n",
              "      <td>-0.395491</td>\n",
              "      <td>-1.171513</td>\n",
              "      <td>-0.989916</td>\n",
              "      <td>-1.318694</td>\n",
              "      <td>0.005183</td>\n",
              "      <td>-1.036248</td>\n",
              "      <td>-0.526775</td>\n",
              "      <td>-0.760233</td>\n",
              "      <td>-0.607685</td>\n",
              "      <td>-0.514469</td>\n",
              "      <td>-1.757021</td>\n",
              "      <td>-1.354310</td>\n",
              "      <td>-1.294057</td>\n",
              "      <td>-1.504499</td>\n",
              "      <td>-1.083146</td>\n",
              "      <td>-1.593510</td>\n",
              "      <td>1.0</td>\n",
              "      <td>0</td>\n",
              "      <td>0</td>\n",
              "      <td>0</td>\n",
              "      <td>1</td>\n",
              "      <td>0.80</td>\n",
              "      <td>1</td>\n",
              "      <td>1.00</td>\n",
              "      <td>1</td>\n",
              "    </tr>\n",
              "    <tr>\n",
              "      <th>436</th>\n",
              "      <td>-0.353020</td>\n",
              "      <td>0.050997</td>\n",
              "      <td>-0.378266</td>\n",
              "      <td>-0.411610</td>\n",
              "      <td>-0.359677</td>\n",
              "      <td>-0.474108</td>\n",
              "      <td>-0.892427</td>\n",
              "      <td>-0.718889</td>\n",
              "      <td>0.212962</td>\n",
              "      <td>0.100319</td>\n",
              "      <td>-0.118776</td>\n",
              "      <td>-0.781994</td>\n",
              "      <td>-0.110434</td>\n",
              "      <td>-0.307556</td>\n",
              "      <td>-0.352820</td>\n",
              "      <td>-0.654445</td>\n",
              "      <td>-0.789461</td>\n",
              "      <td>-0.846820</td>\n",
              "      <td>0.226830</td>\n",
              "      <td>-0.535107</td>\n",
              "      <td>-0.373133</td>\n",
              "      <td>-0.216627</td>\n",
              "      <td>-0.355454</td>\n",
              "      <td>-0.440739</td>\n",
              "      <td>-0.494101</td>\n",
              "      <td>-0.566514</td>\n",
              "      <td>-0.969685</td>\n",
              "      <td>-0.776220</td>\n",
              "      <td>0.676361</td>\n",
              "      <td>-0.377079</td>\n",
              "      <td>1.0</td>\n",
              "      <td>0</td>\n",
              "      <td>0</td>\n",
              "      <td>1</td>\n",
              "      <td>0</td>\n",
              "      <td>0.60</td>\n",
              "      <td>1</td>\n",
              "      <td>1.00</td>\n",
              "      <td>1</td>\n",
              "    </tr>\n",
              "    <tr>\n",
              "      <th>421</th>\n",
              "      <td>0.174809</td>\n",
              "      <td>-1.203505</td>\n",
              "      <td>0.275781</td>\n",
              "      <td>0.018822</td>\n",
              "      <td>0.481528</td>\n",
              "      <td>1.554564</td>\n",
              "      <td>0.732813</td>\n",
              "      <td>0.380263</td>\n",
              "      <td>1.033048</td>\n",
              "      <td>1.616531</td>\n",
              "      <td>0.593942</td>\n",
              "      <td>0.533595</td>\n",
              "      <td>1.086777</td>\n",
              "      <td>0.260836</td>\n",
              "      <td>1.013332</td>\n",
              "      <td>1.594079</td>\n",
              "      <td>0.671321</td>\n",
              "      <td>0.673971</td>\n",
              "      <td>0.756321</td>\n",
              "      <td>0.628907</td>\n",
              "      <td>0.049911</td>\n",
              "      <td>-1.182327</td>\n",
              "      <td>0.219344</td>\n",
              "      <td>-0.114504</td>\n",
              "      <td>-0.059376</td>\n",
              "      <td>0.714713</td>\n",
              "      <td>0.231359</td>\n",
              "      <td>-0.056069</td>\n",
              "      <td>-0.115417</td>\n",
              "      <td>0.432226</td>\n",
              "      <td>1.0</td>\n",
              "      <td>0</td>\n",
              "      <td>0</td>\n",
              "      <td>1</td>\n",
              "      <td>0</td>\n",
              "      <td>0.44</td>\n",
              "      <td>0</td>\n",
              "      <td>1.00</td>\n",
              "      <td>1</td>\n",
              "    </tr>\n",
              "  </tbody>\n",
              "</table>\n",
              "<p>114 rows × 39 columns</p>\n",
              "</div>"
            ],
            "text/plain": [
              "     mean_radius  mean_texture  ...  benign_prob_multi  benign_pred_multi\n",
              "144    -0.967854     -0.980131  ...               1.00                  1\n",
              "43     -0.234114      0.217963  ...               0.00                  0\n",
              "199     0.105205      0.204426  ...               0.00                  0\n",
              "235    -0.016602      0.436824  ...               1.00                  1\n",
              "542     0.189310      1.377701  ...               0.97                  1\n",
              "..           ...           ...  ...                ...                ...\n",
              "205     0.299516     -0.594304  ...               0.00                  0\n",
              "428    -0.857648     -0.607842  ...               1.00                  1\n",
              "360    -0.448725     -0.280679  ...               1.00                  1\n",
              "436    -0.353020      0.050997  ...               1.00                  1\n",
              "421     0.174809     -1.203505  ...               1.00                  1\n",
              "\n",
              "[114 rows x 39 columns]"
            ]
          },
          "metadata": {
            "tags": []
          },
          "execution_count": 113
        }
      ]
    },
    {
      "cell_type": "markdown",
      "metadata": {
        "id": "UkNy9y6XlVpp"
      },
      "source": [
        "First let's look at how the model fit to the training data. Now that we have two predictors we'll have to look at one at a time.\n",
        "</br>\n",
        "Let's look at RM first:"
      ]
    },
    {
      "cell_type": "markdown",
      "metadata": {
        "id": "NHsjIRSOlVpu"
      },
      "source": [
        "How good is the model at predicting?"
      ]
    },
    {
      "cell_type": "code",
      "metadata": {
        "colab": {
          "base_uri": "https://localhost:8080/"
        },
        "id": "aFLuCoA1TFjY",
        "outputId": "cd0254b6-44f2-47d2-85d4-c47f3b401325"
      },
      "source": [
        "#confusion table\n",
        "confusion_matrix2 = sk.metrics.confusion_matrix(df_test['benign'], df_test['benign_pred_multi'])\n",
        "print(confusion_matrix2)"
      ],
      "execution_count": 114,
      "outputs": [
        {
          "output_type": "stream",
          "text": [
            "[[40  3]\n",
            " [ 2 69]]\n"
          ],
          "name": "stdout"
        }
      ]
    },
    {
      "cell_type": "code",
      "metadata": {
        "colab": {
          "base_uri": "https://localhost:8080/",
          "height": 297
        },
        "id": "IyradqCwTFj4",
        "outputId": "cc65850e-bc7d-4c7a-f2c2-333f6f27cac0"
      },
      "source": [
        "#more visual approach\n",
        "sns.heatmap(confusion_matrix2, annot=True)\n",
        "plt.xlabel('Predicted label')\n",
        "plt.ylabel('True label')"
      ],
      "execution_count": 115,
      "outputs": [
        {
          "output_type": "execute_result",
          "data": {
            "text/plain": [
              "Text(33.0, 0.5, 'True label')"
            ]
          },
          "metadata": {
            "tags": []
          },
          "execution_count": 115
        },
        {
          "output_type": "display_data",
          "data": {
            "image/png": "[encoded data removed]",
            "text/plain": [
              "<Figure size 432x288 with 2 Axes>"
            ]
          },
          "metadata": {
            "tags": [],
            "needs_background": "light"
          }
        }
      ]
    },
    {
      "cell_type": "markdown",
      "metadata": {
        "id": "CxIVSJErTFj7"
      },
      "source": [
        "Measuring classification success:"
      ]
    },
    {
      "cell_type": "code",
      "metadata": {
        "colab": {
          "base_uri": "https://localhost:8080/"
        },
        "id": "LoOHb_z4TFj7",
        "outputId": "bbdb30d4-77bd-4bae-e98c-ceb0f774b059"
      },
      "source": [
        "print('Accuracy: {:.2f}'.format(sk.metrics.accuracy_score(df_test['benign'], df_test['benign_pred_multi'])))\n",
        "print('Precision: {:.2f}'.format(sk.metrics.precision_score(df_test['benign'], df_test['benign_pred_multi'])))\n",
        "print('Recall: {:.2f}'.format(sk.metrics.recall_score(df_test['benign'], df_test['benign_pred_multi'])))"
      ],
      "execution_count": 116,
      "outputs": [
        {
          "output_type": "stream",
          "text": [
            "Accuracy: 0.96\n",
            "Precision: 0.96\n",
            "Recall: 0.97\n"
          ],
          "name": "stdout"
        }
      ]
    },
    {
      "cell_type": "markdown",
      "metadata": {
        "id": "0ng0E-HeTgiB"
      },
      "source": [
        "> **Accuracy** is the fraction of predictions our model got right.\n",
        "\n",
        "> **Precision** is intuitively the ability of the classifier to not label a sample as positive if it is negative.\n",
        "\n",
        "> **Recall** is intuitively the ability of the classifier to find all the positive samples."
      ]
    },
    {
      "cell_type": "markdown",
      "metadata": {
        "id": "03Ocqib_Yqqu"
      },
      "source": [
        "#<font color='darkorange'>Bonus </font>\n"
      ]
    },
    {
      "cell_type": "markdown",
      "metadata": {
        "id": "owdhKgOe5lfR"
      },
      "source": [
        "# Titanic survivors"
      ]
    },
    {
      "cell_type": "markdown",
      "metadata": {
        "id": "IDtR4pZx5Z6v"
      },
      "source": [
        "Let's see if we can use what we learnt today to predict who survived the titanic sinking, and what features help us to make these predictions.\n",
        "\n",
        "> I've taken a random 20% sample from the titanic data. Try and build a model on the data you have (titanic_subsample.csv - in the shared data folder) that can best predict who will survive.\n",
        "\n",
        "> when you think you've got a good model, let me know on slack and i'll give you the with-held sample. You can then estimate your models performance!"
      ]
    },
    {
      "cell_type": "code",
      "metadata": {
        "colab": {
          "base_uri": "https://localhost:8080/",
          "height": 486
        },
        "id": "sZ0zdUOa5swV",
        "outputId": "816bb1eb-601d-4682-ecb5-794e6f011a86"
      },
      "source": [
        "df_titanic = pd.read_csv('titanic_subset.csv')\n",
        "\n",
        "df_titanic.head(5)"
      ],
      "execution_count": 117,
      "outputs": [
        {
          "output_type": "execute_result",
          "data": {
            "text/html": [
              "<div>\n",
              "<style scoped>\n",
              "    .dataframe tbody tr th:only-of-type {\n",
              "        vertical-align: middle;\n",
              "    }\n",
              "\n",
              "    .dataframe tbody tr th {\n",
              "        vertical-align: top;\n",
              "    }\n",
              "\n",
              "    .dataframe thead th {\n",
              "        text-align: right;\n",
              "    }\n",
              "</style>\n",
              "<table border=\"1\" class=\"dataframe\">\n",
              "  <thead>\n",
              "    <tr style=\"text-align: right;\">\n",
              "      <th></th>\n",
              "      <th>PassengerId</th>\n",
              "      <th>Survived</th>\n",
              "      <th>Pclass</th>\n",
              "      <th>Name</th>\n",
              "      <th>Sex</th>\n",
              "      <th>Age</th>\n",
              "      <th>SibSp</th>\n",
              "      <th>Parch</th>\n",
              "      <th>Ticket</th>\n",
              "      <th>Fare</th>\n",
              "      <th>Cabin</th>\n",
              "      <th>Embarked</th>\n",
              "      <th>WikiId</th>\n",
              "      <th>Name_wiki</th>\n",
              "      <th>Age_wiki</th>\n",
              "      <th>Hometown</th>\n",
              "      <th>Boarded</th>\n",
              "      <th>Destination</th>\n",
              "      <th>Lifeboat</th>\n",
              "      <th>Body</th>\n",
              "      <th>Class</th>\n",
              "    </tr>\n",
              "  </thead>\n",
              "  <tbody>\n",
              "    <tr>\n",
              "      <th>0</th>\n",
              "      <td>1134</td>\n",
              "      <td>NaN</td>\n",
              "      <td>1</td>\n",
              "      <td>Spedden, Mr. Frederic Oakley</td>\n",
              "      <td>male</td>\n",
              "      <td>45.0</td>\n",
              "      <td>1</td>\n",
              "      <td>1</td>\n",
              "      <td>16966</td>\n",
              "      <td>134.500</td>\n",
              "      <td>E34</td>\n",
              "      <td>C</td>\n",
              "      <td>269.0</td>\n",
              "      <td>Spedden, Mr. Frederic Oakley</td>\n",
              "      <td>45.0</td>\n",
              "      <td>Tuxedo Park, New York, US</td>\n",
              "      <td>Cherbourg</td>\n",
              "      <td>Tuxedo Park, New York, US</td>\n",
              "      <td>3</td>\n",
              "      <td>NaN</td>\n",
              "      <td>1.0</td>\n",
              "    </tr>\n",
              "    <tr>\n",
              "      <th>1</th>\n",
              "      <td>962</td>\n",
              "      <td>NaN</td>\n",
              "      <td>3</td>\n",
              "      <td>Mulvihill, Miss. Bertha E</td>\n",
              "      <td>female</td>\n",
              "      <td>24.0</td>\n",
              "      <td>0</td>\n",
              "      <td>0</td>\n",
              "      <td>382653</td>\n",
              "      <td>7.750</td>\n",
              "      <td>NaN</td>\n",
              "      <td>Q</td>\n",
              "      <td>1048.0</td>\n",
              "      <td>Mulvihill, Miss Bridget Elizabeth \"Bertha\"</td>\n",
              "      <td>25.0</td>\n",
              "      <td>Athlone, Westmeath, Ireland</td>\n",
              "      <td>Queenstown</td>\n",
              "      <td>Providence, Rhode Island, US</td>\n",
              "      <td>15</td>\n",
              "      <td>NaN</td>\n",
              "      <td>3.0</td>\n",
              "    </tr>\n",
              "    <tr>\n",
              "      <th>2</th>\n",
              "      <td>185</td>\n",
              "      <td>1.0</td>\n",
              "      <td>3</td>\n",
              "      <td>Kink-Heilmann, Miss. Luise Gretchen</td>\n",
              "      <td>female</td>\n",
              "      <td>4.0</td>\n",
              "      <td>0</td>\n",
              "      <td>2</td>\n",
              "      <td>315153</td>\n",
              "      <td>22.025</td>\n",
              "      <td>NaN</td>\n",
              "      <td>S</td>\n",
              "      <td>940.0</td>\n",
              "      <td>Kink, Miss Luise Gretchen</td>\n",
              "      <td>4.0</td>\n",
              "      <td>Zürich, Switzerland</td>\n",
              "      <td>Southampton</td>\n",
              "      <td>Milwaukee, Wisconsin, US</td>\n",
              "      <td>2</td>\n",
              "      <td>NaN</td>\n",
              "      <td>3.0</td>\n",
              "    </tr>\n",
              "    <tr>\n",
              "      <th>3</th>\n",
              "      <td>769</td>\n",
              "      <td>0.0</td>\n",
              "      <td>3</td>\n",
              "      <td>Moran, Mr. Daniel J</td>\n",
              "      <td>male</td>\n",
              "      <td>NaN</td>\n",
              "      <td>1</td>\n",
              "      <td>0</td>\n",
              "      <td>371110</td>\n",
              "      <td>24.150</td>\n",
              "      <td>NaN</td>\n",
              "      <td>Q</td>\n",
              "      <td>1038.0</td>\n",
              "      <td>Moran, Mr. Daniel James</td>\n",
              "      <td>27.0</td>\n",
              "      <td>Askeaton, Limerick, Ireland</td>\n",
              "      <td>Queenstown</td>\n",
              "      <td>Brooklyn, New York, US</td>\n",
              "      <td>NaN</td>\n",
              "      <td>NaN</td>\n",
              "      <td>3.0</td>\n",
              "    </tr>\n",
              "    <tr>\n",
              "      <th>4</th>\n",
              "      <td>1050</td>\n",
              "      <td>NaN</td>\n",
              "      <td>1</td>\n",
              "      <td>Borebank, Mr. John James</td>\n",
              "      <td>male</td>\n",
              "      <td>42.0</td>\n",
              "      <td>0</td>\n",
              "      <td>0</td>\n",
              "      <td>110489</td>\n",
              "      <td>26.550</td>\n",
              "      <td>D22</td>\n",
              "      <td>S</td>\n",
              "      <td>37.0</td>\n",
              "      <td>Borebank, Mr. John James</td>\n",
              "      <td>42.0</td>\n",
              "      <td>London, England, UK</td>\n",
              "      <td>Southampton</td>\n",
              "      <td>Toronto, Ontario, Canada</td>\n",
              "      <td>NaN</td>\n",
              "      <td>NaN</td>\n",
              "      <td>1.0</td>\n",
              "    </tr>\n",
              "  </tbody>\n",
              "</table>\n",
              "</div>"
            ],
            "text/plain": [
              "   PassengerId  Survived  Pclass  ... Lifeboat Body  Class\n",
              "0         1134       NaN       1  ...        3  NaN    1.0\n",
              "1          962       NaN       3  ...       15  NaN    3.0\n",
              "2          185       1.0       3  ...        2  NaN    3.0\n",
              "3          769       0.0       3  ...      NaN  NaN    3.0\n",
              "4         1050       NaN       1  ...      NaN  NaN    1.0\n",
              "\n",
              "[5 rows x 21 columns]"
            ]
          },
          "metadata": {
            "tags": []
          },
          "execution_count": 117
        }
      ]
    },
    {
      "cell_type": "markdown",
      "metadata": {
        "id": "yILa1g5052Qj"
      },
      "source": [
        "## Data understanding"
      ]
    },
    {
      "cell_type": "code",
      "metadata": {
        "id": "CI7uRfHX54qE",
        "colab": {
          "base_uri": "https://localhost:8080/",
          "height": 300
        },
        "outputId": "7e8d80ad-a9ff-459d-b429-eb0044f71400"
      },
      "source": [
        "df_titanic.describe()"
      ],
      "execution_count": 26,
      "outputs": [
        {
          "output_type": "execute_result",
          "data": {
            "text/html": [
              "<div>\n",
              "<style scoped>\n",
              "    .dataframe tbody tr th:only-of-type {\n",
              "        vertical-align: middle;\n",
              "    }\n",
              "\n",
              "    .dataframe tbody tr th {\n",
              "        vertical-align: top;\n",
              "    }\n",
              "\n",
              "    .dataframe thead th {\n",
              "        text-align: right;\n",
              "    }\n",
              "</style>\n",
              "<table border=\"1\" class=\"dataframe\">\n",
              "  <thead>\n",
              "    <tr style=\"text-align: right;\">\n",
              "      <th></th>\n",
              "      <th>PassengerId</th>\n",
              "      <th>Survived</th>\n",
              "      <th>Pclass</th>\n",
              "      <th>Age</th>\n",
              "      <th>SibSp</th>\n",
              "      <th>Parch</th>\n",
              "      <th>Fare</th>\n",
              "      <th>WikiId</th>\n",
              "      <th>Age_wiki</th>\n",
              "      <th>Class</th>\n",
              "    </tr>\n",
              "  </thead>\n",
              "  <tbody>\n",
              "    <tr>\n",
              "      <th>count</th>\n",
              "      <td>1047.000000</td>\n",
              "      <td>710.000000</td>\n",
              "      <td>1047.000000</td>\n",
              "      <td>843.000000</td>\n",
              "      <td>1047.000000</td>\n",
              "      <td>1047.000000</td>\n",
              "      <td>1046.000000</td>\n",
              "      <td>1044.000000</td>\n",
              "      <td>1042.000000</td>\n",
              "      <td>1044.000000</td>\n",
              "    </tr>\n",
              "    <tr>\n",
              "      <th>mean</th>\n",
              "      <td>655.062082</td>\n",
              "      <td>0.391549</td>\n",
              "      <td>2.271251</td>\n",
              "      <td>30.413310</td>\n",
              "      <td>0.446036</td>\n",
              "      <td>0.360076</td>\n",
              "      <td>33.598908</td>\n",
              "      <td>645.529693</td>\n",
              "      <td>29.921459</td>\n",
              "      <td>2.268199</td>\n",
              "    </tr>\n",
              "    <tr>\n",
              "      <th>std</th>\n",
              "      <td>376.099338</td>\n",
              "      <td>0.488441</td>\n",
              "      <td>0.840516</td>\n",
              "      <td>14.284108</td>\n",
              "      <td>0.916547</td>\n",
              "      <td>0.825763</td>\n",
              "      <td>53.850500</td>\n",
              "      <td>376.820248</td>\n",
              "      <td>13.688834</td>\n",
              "      <td>0.843965</td>\n",
              "    </tr>\n",
              "    <tr>\n",
              "      <th>min</th>\n",
              "      <td>1.000000</td>\n",
              "      <td>0.000000</td>\n",
              "      <td>1.000000</td>\n",
              "      <td>0.170000</td>\n",
              "      <td>0.000000</td>\n",
              "      <td>0.000000</td>\n",
              "      <td>0.000000</td>\n",
              "      <td>1.000000</td>\n",
              "      <td>0.170000</td>\n",
              "      <td>1.000000</td>\n",
              "    </tr>\n",
              "    <tr>\n",
              "      <th>25%</th>\n",
              "      <td>327.500000</td>\n",
              "      <td>0.000000</td>\n",
              "      <td>1.000000</td>\n",
              "      <td>21.000000</td>\n",
              "      <td>0.000000</td>\n",
              "      <td>0.000000</td>\n",
              "      <td>7.895800</td>\n",
              "      <td>316.750000</td>\n",
              "      <td>21.000000</td>\n",
              "      <td>1.000000</td>\n",
              "    </tr>\n",
              "    <tr>\n",
              "      <th>50%</th>\n",
              "      <td>656.000000</td>\n",
              "      <td>0.000000</td>\n",
              "      <td>3.000000</td>\n",
              "      <td>28.500000</td>\n",
              "      <td>0.000000</td>\n",
              "      <td>0.000000</td>\n",
              "      <td>14.454200</td>\n",
              "      <td>646.500000</td>\n",
              "      <td>28.000000</td>\n",
              "      <td>3.000000</td>\n",
              "    </tr>\n",
              "    <tr>\n",
              "      <th>75%</th>\n",
              "      <td>983.500000</td>\n",
              "      <td>1.000000</td>\n",
              "      <td>3.000000</td>\n",
              "      <td>39.000000</td>\n",
              "      <td>1.000000</td>\n",
              "      <td>0.000000</td>\n",
              "      <td>30.695800</td>\n",
              "      <td>961.250000</td>\n",
              "      <td>38.000000</td>\n",
              "      <td>3.000000</td>\n",
              "    </tr>\n",
              "    <tr>\n",
              "      <th>max</th>\n",
              "      <td>1309.000000</td>\n",
              "      <td>1.000000</td>\n",
              "      <td>3.000000</td>\n",
              "      <td>80.000000</td>\n",
              "      <td>8.000000</td>\n",
              "      <td>9.000000</td>\n",
              "      <td>512.329200</td>\n",
              "      <td>1314.000000</td>\n",
              "      <td>74.000000</td>\n",
              "      <td>3.000000</td>\n",
              "    </tr>\n",
              "  </tbody>\n",
              "</table>\n",
              "</div>"
            ],
            "text/plain": [
              "       PassengerId    Survived  ...     Age_wiki        Class\n",
              "count  1047.000000  710.000000  ...  1042.000000  1044.000000\n",
              "mean    655.062082    0.391549  ...    29.921459     2.268199\n",
              "std     376.099338    0.488441  ...    13.688834     0.843965\n",
              "min       1.000000    0.000000  ...     0.170000     1.000000\n",
              "25%     327.500000    0.000000  ...    21.000000     1.000000\n",
              "50%     656.000000    0.000000  ...    28.000000     3.000000\n",
              "75%     983.500000    1.000000  ...    38.000000     3.000000\n",
              "max    1309.000000    1.000000  ...    74.000000     3.000000\n",
              "\n",
              "[8 rows x 10 columns]"
            ]
          },
          "metadata": {
            "tags": []
          },
          "execution_count": 26
        }
      ]
    },
    {
      "cell_type": "code",
      "metadata": {
        "colab": {
          "base_uri": "https://localhost:8080/"
        },
        "id": "Z-uP5LAvRCHU",
        "outputId": "f45e8331-eea1-461d-885b-a369897e0e26"
      },
      "source": [
        "df_titanic.isna().sum() / len(df_titanic)"
      ],
      "execution_count": 28,
      "outputs": [
        {
          "output_type": "execute_result",
          "data": {
            "text/plain": [
              "PassengerId    0.000000\n",
              "Survived       0.321872\n",
              "Pclass         0.000000\n",
              "Name           0.000000\n",
              "Sex            0.000000\n",
              "Age            0.194842\n",
              "SibSp          0.000000\n",
              "Parch          0.000000\n",
              "Ticket         0.000000\n",
              "Fare           0.000955\n",
              "Cabin          0.771729\n",
              "Embarked       0.000955\n",
              "WikiId         0.002865\n",
              "Name_wiki      0.002865\n",
              "Age_wiki       0.004776\n",
              "Hometown       0.002865\n",
              "Boarded        0.002865\n",
              "Destination    0.002865\n",
              "Lifeboat       0.617001\n",
              "Body           0.894938\n",
              "Class          0.002865\n",
              "dtype: float64"
            ]
          },
          "metadata": {
            "tags": []
          },
          "execution_count": 28
        }
      ]
    },
    {
      "cell_type": "code",
      "metadata": {
        "colab": {
          "base_uri": "https://localhost:8080/"
        },
        "id": "CTX9X4t5SfMv",
        "outputId": "eec030e3-6450-4bf3-f549-2f6001a28130"
      },
      "source": [
        "#Is pclass a ordinal variable... if so, how many data points in each class.\n",
        "df_titanic.Pclass.value_counts()"
      ],
      "execution_count": 42,
      "outputs": [
        {
          "output_type": "execute_result",
          "data": {
            "text/plain": [
              "3    550\n",
              "1    266\n",
              "2    231\n",
              "Name: Pclass, dtype: int64"
            ]
          },
          "metadata": {
            "tags": []
          },
          "execution_count": 42
        }
      ]
    },
    {
      "cell_type": "code",
      "metadata": {
        "colab": {
          "base_uri": "https://localhost:8080/"
        },
        "id": "SjoKEadJZscW",
        "outputId": "c298f529-56b0-4333-a621-3afb1504fb8b"
      },
      "source": [
        "df_titanic.Embarked.value_counts()"
      ],
      "execution_count": 58,
      "outputs": [
        {
          "output_type": "execute_result",
          "data": {
            "text/plain": [
              "S    741\n",
              "C    214\n",
              "Q     91\n",
              "Name: Embarked, dtype: int64"
            ]
          },
          "metadata": {
            "tags": []
          },
          "execution_count": 58
        }
      ]
    },
    {
      "cell_type": "code",
      "metadata": {
        "colab": {
          "base_uri": "https://localhost:8080/",
          "height": 283
        },
        "id": "MqhdvMFdSoMF",
        "outputId": "5921d2df-3a37-4196-8be3-1c9bfd6a0ff6"
      },
      "source": [
        "#what does the distribution of ages look like?\n",
        "df_titanic.Age_wiki.hist()"
      ],
      "execution_count": 39,
      "outputs": [
        {
          "output_type": "execute_result",
          "data": {
            "text/plain": [
              "<matplotlib.axes._subplots.AxesSubplot at 0x7fe449243450>"
            ]
          },
          "metadata": {
            "tags": []
          },
          "execution_count": 39
        },
        {
          "output_type": "display_data",
          "data": {
            "image/png": "[encoded data removed]",
            "text/plain": [
              "<Figure size 432x288 with 1 Axes>"
            ]
          },
          "metadata": {
            "tags": [],
            "needs_background": "light"
          }
        }
      ]
    },
    {
      "cell_type": "code",
      "metadata": {
        "colab": {
          "base_uri": "https://localhost:8080/",
          "height": 283
        },
        "id": "jtBqLL4ESjdr",
        "outputId": "186bf32d-85d9-4e54-db7b-f6f26f7f6c3a"
      },
      "source": [
        "#is fare numeric, if so what does its distribution look like?\n",
        "df_titanic.Fare.hist()"
      ],
      "execution_count": 37,
      "outputs": [
        {
          "output_type": "execute_result",
          "data": {
            "text/plain": [
              "<matplotlib.axes._subplots.AxesSubplot at 0x7fe449319290>"
            ]
          },
          "metadata": {
            "tags": []
          },
          "execution_count": 37
        },
        {
          "output_type": "display_data",
          "data": {
            "image/png": "[encoded data removed]",
            "text/plain": [
              "<Figure size 432x288 with 1 Axes>"
            ]
          },
          "metadata": {
            "tags": [],
            "needs_background": "light"
          }
        }
      ]
    },
    {
      "cell_type": "code",
      "metadata": {
        "colab": {
          "base_uri": "https://localhost:8080/"
        },
        "id": "jD45KjBfRJyE",
        "outputId": "2d9d20cd-e756-45d2-ce28-d62d5ed688d9"
      },
      "source": [
        "#let's only work with data where we have a value for the target variable: survived or not\n",
        "\n",
        "#filter out missing survival data\n",
        "df_titanic_survived = df_titanic[df_titanic.Survived.isna()==False]\n",
        "\n",
        "#check to make sure all worked\n",
        "df_titanic_survived.isna().sum() / len(df_titanic_survived)"
      ],
      "execution_count": 59,
      "outputs": [
        {
          "output_type": "execute_result",
          "data": {
            "text/plain": [
              "PassengerId    0.000000\n",
              "Survived       0.000000\n",
              "Pclass         0.000000\n",
              "Name           0.000000\n",
              "Sex            0.000000\n",
              "Age            0.197183\n",
              "SibSp          0.000000\n",
              "Parch          0.000000\n",
              "Ticket         0.000000\n",
              "Fare           0.000000\n",
              "Cabin          0.771831\n",
              "Embarked       0.001408\n",
              "WikiId         0.001408\n",
              "Name_wiki      0.001408\n",
              "Age_wiki       0.004225\n",
              "Hometown       0.001408\n",
              "Boarded        0.001408\n",
              "Destination    0.001408\n",
              "Lifeboat       0.604225\n",
              "Body           0.897183\n",
              "Class          0.001408\n",
              "dtype: float64"
            ]
          },
          "metadata": {
            "tags": []
          },
          "execution_count": 59
        }
      ]
    },
    {
      "cell_type": "markdown",
      "metadata": {
        "id": "ecEdp5iY55ML"
      },
      "source": [
        "### Exploration and visualization"
      ]
    },
    {
      "cell_type": "code",
      "metadata": {
        "id": "xz9Cc2uy59QN",
        "colab": {
          "base_uri": "https://localhost:8080/",
          "height": 297
        },
        "outputId": "7eb264de-0ad8-4345-e986-c4e656a08472"
      },
      "source": [
        "#Is age related to \n",
        "sns.violinplot(data=df_titanic_survived, x='Survived', y='Age_wiki')"
      ],
      "execution_count": 44,
      "outputs": [
        {
          "output_type": "execute_result",
          "data": {
            "text/plain": [
              "<matplotlib.axes._subplots.AxesSubplot at 0x7fe44911c1d0>"
            ]
          },
          "metadata": {
            "tags": []
          },
          "execution_count": 44
        },
        {
          "output_type": "display_data",
          "data": {
            "image/png": "[encoded data removed]",
            "text/plain": [
              "<Figure size 432x288 with 1 Axes>"
            ]
          },
          "metadata": {
            "tags": [],
            "needs_background": "light"
          }
        }
      ]
    },
    {
      "cell_type": "code",
      "metadata": {
        "colab": {
          "base_uri": "https://localhost:8080/",
          "height": 297
        },
        "id": "tsDAgHQGRs79",
        "outputId": "b0f38321-8106-48f4-fbc6-db8b83ee3a3d"
      },
      "source": [
        "sns.barplot(data=df_titanic_survived, y='Survived', x='Pclass')"
      ],
      "execution_count": 47,
      "outputs": [
        {
          "output_type": "execute_result",
          "data": {
            "text/plain": [
              "<matplotlib.axes._subplots.AxesSubplot at 0x7fe449008f90>"
            ]
          },
          "metadata": {
            "tags": []
          },
          "execution_count": 47
        },
        {
          "output_type": "display_data",
          "data": {
            "image/png": "[encoded data removed]",
            "text/plain": [
              "<Figure size 432x288 with 1 Axes>"
            ]
          },
          "metadata": {
            "tags": [],
            "needs_background": "light"
          }
        }
      ]
    },
    {
      "cell_type": "markdown",
      "metadata": {
        "id": "GhMq1eKv6Bbm"
      },
      "source": [
        "### Data Preprocessing"
      ]
    },
    {
      "cell_type": "markdown",
      "metadata": {
        "id": "4dgLp6Qc6F7u"
      },
      "source": [
        "> Feel free here to work with a subset of features that you think will help make predictions in the with-held dataset! I.e., what relationships will generalize well?"
      ]
    },
    {
      "cell_type": "markdown",
      "metadata": {
        "id": "416wEAd8T4Gu"
      },
      "source": [
        "Let's one hot encode Pclass "
      ]
    },
    {
      "cell_type": "code",
      "metadata": {
        "colab": {
          "base_uri": "https://localhost:8080/",
          "height": 441
        },
        "id": "SmSxdtcTUGBI",
        "outputId": "15bc7b24-6b25-41fa-d7df-9397c650f1e6"
      },
      "source": [
        "#convert Pclass to category\n",
        "df_titanic_survived['Pclass'] = df_titanic_survived.Pclass.astype('category')\n",
        "\n",
        "#categorical variables\n",
        "cat_names = ['Pclass','Embarked']\n",
        "\n",
        "#create dummy variables\n",
        "df_cat = pd.get_dummies(df_titanic_survived[cat_names])\n",
        "\n",
        "#add them back to the original dataframe\n",
        "df_titanic_survived = pd.concat([df_titanic_survived,df_cat], axis=1)\n",
        "\n",
        "#remove the old columns\n",
        "df_titanic_survived = df_titanic_survived.drop(cat_names, axis=1)\n",
        "\n",
        "#take a look\n",
        "df_titanic_survived.head(3)\n"
      ],
      "execution_count": 60,
      "outputs": [
        {
          "output_type": "stream",
          "text": [
            "/usr/local/lib/python3.7/dist-packages/ipykernel_launcher.py:2: SettingWithCopyWarning: \n",
            "A value is trying to be set on a copy of a slice from a DataFrame.\n",
            "Try using .loc[row_indexer,col_indexer] = value instead\n",
            "\n",
            "See the caveats in the documentation: https://pandas.pydata.org/pandas-docs/stable/user_guide/indexing.html#returning-a-view-versus-a-copy\n",
            "  \n"
          ],
          "name": "stderr"
        },
        {
          "output_type": "execute_result",
          "data": {
            "text/html": [
              "<div>\n",
              "<style scoped>\n",
              "    .dataframe tbody tr th:only-of-type {\n",
              "        vertical-align: middle;\n",
              "    }\n",
              "\n",
              "    .dataframe tbody tr th {\n",
              "        vertical-align: top;\n",
              "    }\n",
              "\n",
              "    .dataframe thead th {\n",
              "        text-align: right;\n",
              "    }\n",
              "</style>\n",
              "<table border=\"1\" class=\"dataframe\">\n",
              "  <thead>\n",
              "    <tr style=\"text-align: right;\">\n",
              "      <th></th>\n",
              "      <th>PassengerId</th>\n",
              "      <th>Survived</th>\n",
              "      <th>Name</th>\n",
              "      <th>Sex</th>\n",
              "      <th>Age</th>\n",
              "      <th>SibSp</th>\n",
              "      <th>Parch</th>\n",
              "      <th>Ticket</th>\n",
              "      <th>Fare</th>\n",
              "      <th>Cabin</th>\n",
              "      <th>WikiId</th>\n",
              "      <th>Name_wiki</th>\n",
              "      <th>Age_wiki</th>\n",
              "      <th>Hometown</th>\n",
              "      <th>Boarded</th>\n",
              "      <th>Destination</th>\n",
              "      <th>Lifeboat</th>\n",
              "      <th>Body</th>\n",
              "      <th>Class</th>\n",
              "      <th>Pclass_1</th>\n",
              "      <th>Pclass_2</th>\n",
              "      <th>Pclass_3</th>\n",
              "      <th>Embarked_C</th>\n",
              "      <th>Embarked_Q</th>\n",
              "      <th>Embarked_S</th>\n",
              "    </tr>\n",
              "  </thead>\n",
              "  <tbody>\n",
              "    <tr>\n",
              "      <th>2</th>\n",
              "      <td>185</td>\n",
              "      <td>1.0</td>\n",
              "      <td>Kink-Heilmann, Miss. Luise Gretchen</td>\n",
              "      <td>female</td>\n",
              "      <td>4.0</td>\n",
              "      <td>0</td>\n",
              "      <td>2</td>\n",
              "      <td>315153</td>\n",
              "      <td>22.025</td>\n",
              "      <td>NaN</td>\n",
              "      <td>940.0</td>\n",
              "      <td>Kink, Miss Luise Gretchen</td>\n",
              "      <td>4.0</td>\n",
              "      <td>Zürich, Switzerland</td>\n",
              "      <td>Southampton</td>\n",
              "      <td>Milwaukee, Wisconsin, US</td>\n",
              "      <td>2</td>\n",
              "      <td>NaN</td>\n",
              "      <td>3.0</td>\n",
              "      <td>0</td>\n",
              "      <td>0</td>\n",
              "      <td>1</td>\n",
              "      <td>0</td>\n",
              "      <td>0</td>\n",
              "      <td>1</td>\n",
              "    </tr>\n",
              "    <tr>\n",
              "      <th>3</th>\n",
              "      <td>769</td>\n",
              "      <td>0.0</td>\n",
              "      <td>Moran, Mr. Daniel J</td>\n",
              "      <td>male</td>\n",
              "      <td>NaN</td>\n",
              "      <td>1</td>\n",
              "      <td>0</td>\n",
              "      <td>371110</td>\n",
              "      <td>24.150</td>\n",
              "      <td>NaN</td>\n",
              "      <td>1038.0</td>\n",
              "      <td>Moran, Mr. Daniel James</td>\n",
              "      <td>27.0</td>\n",
              "      <td>Askeaton, Limerick, Ireland</td>\n",
              "      <td>Queenstown</td>\n",
              "      <td>Brooklyn, New York, US</td>\n",
              "      <td>NaN</td>\n",
              "      <td>NaN</td>\n",
              "      <td>3.0</td>\n",
              "      <td>0</td>\n",
              "      <td>0</td>\n",
              "      <td>1</td>\n",
              "      <td>0</td>\n",
              "      <td>1</td>\n",
              "      <td>0</td>\n",
              "    </tr>\n",
              "    <tr>\n",
              "      <th>5</th>\n",
              "      <td>118</td>\n",
              "      <td>0.0</td>\n",
              "      <td>Turpin, Mr. William John Robert</td>\n",
              "      <td>male</td>\n",
              "      <td>29.0</td>\n",
              "      <td>1</td>\n",
              "      <td>0</td>\n",
              "      <td>11668</td>\n",
              "      <td>21.000</td>\n",
              "      <td>NaN</td>\n",
              "      <td>580.0</td>\n",
              "      <td>Turpin, Mr. William John Robert</td>\n",
              "      <td>29.0</td>\n",
              "      <td>Plymouth, Devon, England</td>\n",
              "      <td>Southampton</td>\n",
              "      <td>Salt Lake City, Utah, US</td>\n",
              "      <td>NaN</td>\n",
              "      <td>NaN</td>\n",
              "      <td>2.0</td>\n",
              "      <td>0</td>\n",
              "      <td>1</td>\n",
              "      <td>0</td>\n",
              "      <td>0</td>\n",
              "      <td>0</td>\n",
              "      <td>1</td>\n",
              "    </tr>\n",
              "  </tbody>\n",
              "</table>\n",
              "</div>"
            ],
            "text/plain": [
              "   PassengerId  Survived  ... Embarked_Q Embarked_S\n",
              "2          185       1.0  ...          0          1\n",
              "3          769       0.0  ...          1          0\n",
              "5          118       0.0  ...          0          1\n",
              "\n",
              "[3 rows x 25 columns]"
            ]
          },
          "metadata": {
            "tags": []
          },
          "execution_count": 60
        }
      ]
    },
    {
      "cell_type": "markdown",
      "metadata": {
        "id": "TUZrdY0iUcES"
      },
      "source": [
        "Let's convert Sex to 0/1"
      ]
    },
    {
      "cell_type": "code",
      "metadata": {
        "colab": {
          "base_uri": "https://localhost:8080/",
          "height": 337
        },
        "id": "NLIXM-NtUm93",
        "outputId": "18ba38be-ffb3-4b6c-c3ca-4132b6d8cd3d"
      },
      "source": [
        "from sklearn.preprocessing import OrdinalEncoder\n",
        "\n",
        "#get the columns names of features you'd like to turn into 0/1\n",
        "bin_names = ['Sex']\n",
        "\n",
        "#create a dataframe of those features\n",
        "bin_features = df_titanic_survived[bin_names]\n",
        "\n",
        "#fit the scaler to those data\n",
        "bin_scaler = OrdinalEncoder().fit(bin_features.values)\n",
        "\n",
        "#use the scaler to transform your data\n",
        "bin_features = bin_scaler.transform(bin_features.values)\n",
        "\n",
        "#put these scaled features back into your transformed features dataframe\n",
        "df_titanic_survived[bin_names] = bin_features\n",
        "\n",
        "#take a look\n",
        "df_titanic_survived.head(3)"
      ],
      "execution_count": 61,
      "outputs": [
        {
          "output_type": "execute_result",
          "data": {
            "text/html": [
              "<div>\n",
              "<style scoped>\n",
              "    .dataframe tbody tr th:only-of-type {\n",
              "        vertical-align: middle;\n",
              "    }\n",
              "\n",
              "    .dataframe tbody tr th {\n",
              "        vertical-align: top;\n",
              "    }\n",
              "\n",
              "    .dataframe thead th {\n",
              "        text-align: right;\n",
              "    }\n",
              "</style>\n",
              "<table border=\"1\" class=\"dataframe\">\n",
              "  <thead>\n",
              "    <tr style=\"text-align: right;\">\n",
              "      <th></th>\n",
              "      <th>PassengerId</th>\n",
              "      <th>Survived</th>\n",
              "      <th>Name</th>\n",
              "      <th>Sex</th>\n",
              "      <th>Age</th>\n",
              "      <th>SibSp</th>\n",
              "      <th>Parch</th>\n",
              "      <th>Ticket</th>\n",
              "      <th>Fare</th>\n",
              "      <th>Cabin</th>\n",
              "      <th>WikiId</th>\n",
              "      <th>Name_wiki</th>\n",
              "      <th>Age_wiki</th>\n",
              "      <th>Hometown</th>\n",
              "      <th>Boarded</th>\n",
              "      <th>Destination</th>\n",
              "      <th>Lifeboat</th>\n",
              "      <th>Body</th>\n",
              "      <th>Class</th>\n",
              "      <th>Pclass_1</th>\n",
              "      <th>Pclass_2</th>\n",
              "      <th>Pclass_3</th>\n",
              "      <th>Embarked_C</th>\n",
              "      <th>Embarked_Q</th>\n",
              "      <th>Embarked_S</th>\n",
              "    </tr>\n",
              "  </thead>\n",
              "  <tbody>\n",
              "    <tr>\n",
              "      <th>2</th>\n",
              "      <td>185</td>\n",
              "      <td>1.0</td>\n",
              "      <td>Kink-Heilmann, Miss. Luise Gretchen</td>\n",
              "      <td>0.0</td>\n",
              "      <td>4.0</td>\n",
              "      <td>0</td>\n",
              "      <td>2</td>\n",
              "      <td>315153</td>\n",
              "      <td>22.025</td>\n",
              "      <td>NaN</td>\n",
              "      <td>940.0</td>\n",
              "      <td>Kink, Miss Luise Gretchen</td>\n",
              "      <td>4.0</td>\n",
              "      <td>Zürich, Switzerland</td>\n",
              "      <td>Southampton</td>\n",
              "      <td>Milwaukee, Wisconsin, US</td>\n",
              "      <td>2</td>\n",
              "      <td>NaN</td>\n",
              "      <td>3.0</td>\n",
              "      <td>0</td>\n",
              "      <td>0</td>\n",
              "      <td>1</td>\n",
              "      <td>0</td>\n",
              "      <td>0</td>\n",
              "      <td>1</td>\n",
              "    </tr>\n",
              "    <tr>\n",
              "      <th>3</th>\n",
              "      <td>769</td>\n",
              "      <td>0.0</td>\n",
              "      <td>Moran, Mr. Daniel J</td>\n",
              "      <td>1.0</td>\n",
              "      <td>NaN</td>\n",
              "      <td>1</td>\n",
              "      <td>0</td>\n",
              "      <td>371110</td>\n",
              "      <td>24.150</td>\n",
              "      <td>NaN</td>\n",
              "      <td>1038.0</td>\n",
              "      <td>Moran, Mr. Daniel James</td>\n",
              "      <td>27.0</td>\n",
              "      <td>Askeaton, Limerick, Ireland</td>\n",
              "      <td>Queenstown</td>\n",
              "      <td>Brooklyn, New York, US</td>\n",
              "      <td>NaN</td>\n",
              "      <td>NaN</td>\n",
              "      <td>3.0</td>\n",
              "      <td>0</td>\n",
              "      <td>0</td>\n",
              "      <td>1</td>\n",
              "      <td>0</td>\n",
              "      <td>1</td>\n",
              "      <td>0</td>\n",
              "    </tr>\n",
              "    <tr>\n",
              "      <th>5</th>\n",
              "      <td>118</td>\n",
              "      <td>0.0</td>\n",
              "      <td>Turpin, Mr. William John Robert</td>\n",
              "      <td>1.0</td>\n",
              "      <td>29.0</td>\n",
              "      <td>1</td>\n",
              "      <td>0</td>\n",
              "      <td>11668</td>\n",
              "      <td>21.000</td>\n",
              "      <td>NaN</td>\n",
              "      <td>580.0</td>\n",
              "      <td>Turpin, Mr. William John Robert</td>\n",
              "      <td>29.0</td>\n",
              "      <td>Plymouth, Devon, England</td>\n",
              "      <td>Southampton</td>\n",
              "      <td>Salt Lake City, Utah, US</td>\n",
              "      <td>NaN</td>\n",
              "      <td>NaN</td>\n",
              "      <td>2.0</td>\n",
              "      <td>0</td>\n",
              "      <td>1</td>\n",
              "      <td>0</td>\n",
              "      <td>0</td>\n",
              "      <td>0</td>\n",
              "      <td>1</td>\n",
              "    </tr>\n",
              "  </tbody>\n",
              "</table>\n",
              "</div>"
            ],
            "text/plain": [
              "   PassengerId  Survived  ... Embarked_Q  Embarked_S\n",
              "2          185       1.0  ...          0           1\n",
              "3          769       0.0  ...          1           0\n",
              "5          118       0.0  ...          0           1\n",
              "\n",
              "[3 rows x 25 columns]"
            ]
          },
          "metadata": {
            "tags": []
          },
          "execution_count": 61
        }
      ]
    },
    {
      "cell_type": "markdown",
      "metadata": {
        "id": "-3xsjXfBUnWV"
      },
      "source": [
        "Let's split the data into training and testing"
      ]
    },
    {
      "cell_type": "code",
      "metadata": {
        "id": "ujjwEGdnUntG"
      },
      "source": [
        "#split the data into training and testing (80/20 split)\n",
        "df_train, df_test = sk.model_selection.train_test_split(df_titanic_survived, test_size=0.20)"
      ],
      "execution_count": 62,
      "outputs": []
    },
    {
      "cell_type": "markdown",
      "metadata": {
        "id": "DA9AtP-KUryP"
      },
      "source": [
        "Let's scale age wiki"
      ]
    },
    {
      "cell_type": "code",
      "metadata": {
        "id": "8EL4EAQ2UvGw"
      },
      "source": [
        "#Feature Scaling (after spliting the data!)\n",
        "from sklearn.preprocessing import StandardScaler \n",
        "\n",
        "#numeric variables\n",
        "numb_names = ['Age_wiki','Fare','SibSp','Parch']\n",
        "\n",
        "#create the standard scaler object\n",
        "sc = StandardScaler()\n",
        "\n",
        "#use this object to fit (i.e., to calculate the mean and sd of each variable in the training data) and then to transform the training data\n",
        "df_train[numb_names] = sc.fit_transform(df_train[numb_names])\n",
        "\n",
        "#use the fit from the training data to transform the test data\n",
        "df_test[numb_names] = sc.transform(df_test[numb_names])"
      ],
      "execution_count": null,
      "outputs": []
    },
    {
      "cell_type": "markdown",
      "metadata": {
        "id": "4XqfoM4I594j"
      },
      "source": [
        "## Model building"
      ]
    },
    {
      "cell_type": "code",
      "metadata": {
        "id": "dmF6gOEK81cb",
        "colab": {
          "base_uri": "https://localhost:8080/"
        },
        "outputId": "6fb82dae-5404-4f39-b6ae-b28e5b8fba57"
      },
      "source": [
        "#define model parameters\n",
        "log_reg_sur = smf.logit('Survived ~ Age_wiki + Fare + SibSp + Parch + Pclass_1 + Pclass_2 + Embarked_Q + Embarked_S', data=df_train)\n",
        "\n",
        "#fit the model to the training data\n",
        "results_sur = log_reg_sur.fit()\n",
        "\n",
        "#Get a summary of the model parameters\n",
        "print(results_sur.summary())"
      ],
      "execution_count": 80,
      "outputs": [
        {
          "output_type": "stream",
          "text": [
            "Optimization terminated successfully.\n",
            "         Current function value: 0.567840\n",
            "         Iterations 6\n",
            "                           Logit Regression Results                           \n",
            "==============================================================================\n",
            "Dep. Variable:               Survived   No. Observations:                  565\n",
            "Model:                          Logit   Df Residuals:                      556\n",
            "Method:                           MLE   Df Model:                            8\n",
            "Date:                Tue, 27 Jul 2021   Pseudo R-squ.:                  0.1474\n",
            "Time:                        19:44:15   Log-Likelihood:                -320.83\n",
            "converged:                       True   LL-Null:                       -376.30\n",
            "Covariance Type:            nonrobust   LLR p-value:                 2.434e-20\n",
            "==============================================================================\n",
            "                 coef    std err          z      P>|z|      [0.025      0.975]\n",
            "------------------------------------------------------------------------------\n",
            "Intercept     -1.0854      0.268     -4.044      0.000      -1.611      -0.559\n",
            "Age_wiki      -0.5273      0.117     -4.511      0.000      -0.756      -0.298\n",
            "Fare           0.2788      0.175      1.596      0.110      -0.064       0.621\n",
            "SibSp         -0.3065      0.124     -2.480      0.013      -0.549      -0.064\n",
            "Parch          0.2465      0.107      2.301      0.021       0.037       0.456\n",
            "Pclass_1       1.9412      0.344      5.639      0.000       1.267       2.616\n",
            "Pclass_2       1.3345      0.253      5.278      0.000       0.839       1.830\n",
            "Embarked_Q     0.7620      0.399      1.911      0.056      -0.020       1.544\n",
            "Embarked_S    -0.3920      0.256     -1.532      0.125      -0.893       0.109\n",
            "==============================================================================\n"
          ],
          "name": "stdout"
        }
      ]
    },
    {
      "cell_type": "code",
      "metadata": {
        "colab": {
          "base_uri": "https://localhost:8080/",
          "height": 579
        },
        "id": "OKg9RAT6eDlk",
        "outputId": "84ff98f8-f5aa-47ce-8073-70b682f0b6cd"
      },
      "source": [
        "#let's first predict values in the testing dataset\n",
        "df_test['survive_prob'] = results_sur.predict(df_test).round(2)\n",
        "\n",
        "df_test['survive_pred'] = (df_test['survive_prob']>0.5).astype(int) #here we've used 0.5 as the threshold of benign or not!\n",
        "\n",
        "df_test.head(3)"
      ],
      "execution_count": 81,
      "outputs": [
        {
          "output_type": "stream",
          "text": [
            "/usr/local/lib/python3.7/dist-packages/ipykernel_launcher.py:2: SettingWithCopyWarning: \n",
            "A value is trying to be set on a copy of a slice from a DataFrame.\n",
            "Try using .loc[row_indexer,col_indexer] = value instead\n",
            "\n",
            "See the caveats in the documentation: https://pandas.pydata.org/pandas-docs/stable/user_guide/indexing.html#returning-a-view-versus-a-copy\n",
            "  \n",
            "/usr/local/lib/python3.7/dist-packages/ipykernel_launcher.py:4: SettingWithCopyWarning: \n",
            "A value is trying to be set on a copy of a slice from a DataFrame.\n",
            "Try using .loc[row_indexer,col_indexer] = value instead\n",
            "\n",
            "See the caveats in the documentation: https://pandas.pydata.org/pandas-docs/stable/user_guide/indexing.html#returning-a-view-versus-a-copy\n",
            "  after removing the cwd from sys.path.\n"
          ],
          "name": "stderr"
        },
        {
          "output_type": "execute_result",
          "data": {
            "text/html": [
              "<div>\n",
              "<style scoped>\n",
              "    .dataframe tbody tr th:only-of-type {\n",
              "        vertical-align: middle;\n",
              "    }\n",
              "\n",
              "    .dataframe tbody tr th {\n",
              "        vertical-align: top;\n",
              "    }\n",
              "\n",
              "    .dataframe thead th {\n",
              "        text-align: right;\n",
              "    }\n",
              "</style>\n",
              "<table border=\"1\" class=\"dataframe\">\n",
              "  <thead>\n",
              "    <tr style=\"text-align: right;\">\n",
              "      <th></th>\n",
              "      <th>PassengerId</th>\n",
              "      <th>Survived</th>\n",
              "      <th>Name</th>\n",
              "      <th>Sex</th>\n",
              "      <th>Age</th>\n",
              "      <th>SibSp</th>\n",
              "      <th>Parch</th>\n",
              "      <th>Ticket</th>\n",
              "      <th>Fare</th>\n",
              "      <th>Cabin</th>\n",
              "      <th>WikiId</th>\n",
              "      <th>Name_wiki</th>\n",
              "      <th>Age_wiki</th>\n",
              "      <th>Hometown</th>\n",
              "      <th>Boarded</th>\n",
              "      <th>Destination</th>\n",
              "      <th>Lifeboat</th>\n",
              "      <th>Body</th>\n",
              "      <th>Class</th>\n",
              "      <th>Pclass_1</th>\n",
              "      <th>Pclass_2</th>\n",
              "      <th>Pclass_3</th>\n",
              "      <th>Embarked_C</th>\n",
              "      <th>Embarked_Q</th>\n",
              "      <th>Embarked_S</th>\n",
              "      <th>survive_prob</th>\n",
              "      <th>survive_pred</th>\n",
              "    </tr>\n",
              "  </thead>\n",
              "  <tbody>\n",
              "    <tr>\n",
              "      <th>702</th>\n",
              "      <td>601</td>\n",
              "      <td>1.0</td>\n",
              "      <td>Jacobsohn, Mrs. Sidney Samuel (Amy Frances Chr...</td>\n",
              "      <td>0.0</td>\n",
              "      <td>24.0</td>\n",
              "      <td>1.498682</td>\n",
              "      <td>0.858651</td>\n",
              "      <td>243847</td>\n",
              "      <td>-0.112156</td>\n",
              "      <td>NaN</td>\n",
              "      <td>466.0</td>\n",
              "      <td>Jacobsohn, Mrs. Amy Frances Christy (née Cohen)</td>\n",
              "      <td>-0.429398</td>\n",
              "      <td>London, England</td>\n",
              "      <td>Southampton</td>\n",
              "      <td>Montreal, Quebec, Canada</td>\n",
              "      <td>12</td>\n",
              "      <td>NaN</td>\n",
              "      <td>2.0</td>\n",
              "      <td>0</td>\n",
              "      <td>1</td>\n",
              "      <td>0</td>\n",
              "      <td>0</td>\n",
              "      <td>0</td>\n",
              "      <td>1</td>\n",
              "      <td>0.45</td>\n",
              "      <td>0</td>\n",
              "    </tr>\n",
              "    <tr>\n",
              "      <th>536</th>\n",
              "      <td>215</td>\n",
              "      <td>0.0</td>\n",
              "      <td>Kiernan, Mr. Philip</td>\n",
              "      <td>1.0</td>\n",
              "      <td>NaN</td>\n",
              "      <td>0.512296</td>\n",
              "      <td>-0.455942</td>\n",
              "      <td>367229</td>\n",
              "      <td>-0.466055</td>\n",
              "      <td>NaN</td>\n",
              "      <td>936.0</td>\n",
              "      <td>Kiernan, Mr. Philip</td>\n",
              "      <td>-0.575205</td>\n",
              "      <td>Aughnacliffe, Longford, Ireland</td>\n",
              "      <td>Queenstown</td>\n",
              "      <td>Jersey City, New Jersey, US</td>\n",
              "      <td>NaN</td>\n",
              "      <td>NaN</td>\n",
              "      <td>3.0</td>\n",
              "      <td>0</td>\n",
              "      <td>0</td>\n",
              "      <td>1</td>\n",
              "      <td>0</td>\n",
              "      <td>1</td>\n",
              "      <td>0</td>\n",
              "      <td>0.40</td>\n",
              "      <td>0</td>\n",
              "    </tr>\n",
              "    <tr>\n",
              "      <th>194</th>\n",
              "      <td>802</td>\n",
              "      <td>1.0</td>\n",
              "      <td>Collyer, Mrs. Harvey (Charlotte Annie Tate)</td>\n",
              "      <td>0.0</td>\n",
              "      <td>31.0</td>\n",
              "      <td>0.512296</td>\n",
              "      <td>0.858651</td>\n",
              "      <td>C.A. 31921</td>\n",
              "      <td>-0.125945</td>\n",
              "      <td>NaN</td>\n",
              "      <td>384.0</td>\n",
              "      <td>Collyer, Mrs. Charlotte Annie (née Tate)</td>\n",
              "      <td>0.080925</td>\n",
              "      <td>Bishopstoke, Hampshire, England</td>\n",
              "      <td>Southampton</td>\n",
              "      <td>Payette, Idaho, US</td>\n",
              "      <td>14</td>\n",
              "      <td>NaN</td>\n",
              "      <td>2.0</td>\n",
              "      <td>0</td>\n",
              "      <td>1</td>\n",
              "      <td>0</td>\n",
              "      <td>0</td>\n",
              "      <td>0</td>\n",
              "      <td>1</td>\n",
              "      <td>0.46</td>\n",
              "      <td>0</td>\n",
              "    </tr>\n",
              "  </tbody>\n",
              "</table>\n",
              "</div>"
            ],
            "text/plain": [
              "     PassengerId  Survived  ... survive_prob  survive_pred\n",
              "702          601       1.0  ...         0.45             0\n",
              "536          215       0.0  ...         0.40             0\n",
              "194          802       1.0  ...         0.46             0\n",
              "\n",
              "[3 rows x 27 columns]"
            ]
          },
          "metadata": {
            "tags": []
          },
          "execution_count": 81
        }
      ]
    },
    {
      "cell_type": "markdown",
      "metadata": {
        "id": "tvKyvyb3ev_B"
      },
      "source": [
        "Let's measure the performance of our model on our with-held data set. This will give us an idea of how the model might perform on the data set I (tyler) took out before class! "
      ]
    },
    {
      "cell_type": "code",
      "metadata": {
        "colab": {
          "base_uri": "https://localhost:8080/",
          "height": 297
        },
        "id": "SM2OxUUweupp",
        "outputId": "91902d8a-61f6-4198-8e0c-5ceb0005c73e"
      },
      "source": [
        "confusion_matrix_sur = sk.metrics.confusion_matrix(df_test['Survived'], df_test['survive_pred'])\n",
        "sns.heatmap(confusion_matrix_sur, annot=True)\n",
        "plt.xlabel('Predicted label')\n",
        "plt.ylabel('True label')\n"
      ],
      "execution_count": 82,
      "outputs": [
        {
          "output_type": "execute_result",
          "data": {
            "text/plain": [
              "Text(33.0, 0.5, 'True label')"
            ]
          },
          "metadata": {
            "tags": []
          },
          "execution_count": 82
        },
        {
          "output_type": "display_data",
          "data": {
            "image/png": "[encoded data removed]",
            "text/plain": [
              "<Figure size 432x288 with 2 Axes>"
            ]
          },
          "metadata": {
            "tags": [],
            "needs_background": "light"
          }
        }
      ]
    },
    {
      "cell_type": "code",
      "metadata": {
        "colab": {
          "base_uri": "https://localhost:8080/"
        },
        "id": "3d-TzJ6bfKBT",
        "outputId": "9989653a-7980-434e-f887-8efa4ab8b106"
      },
      "source": [
        "print('Accuracy: {:.2f}'.format(sk.metrics.accuracy_score(df_test['Survived'], df_test['survive_pred'])))\n",
        "print('Precision: {:.2f}'.format(sk.metrics.precision_score(df_test['Survived'], df_test['survive_pred'])))\n",
        "print('Recall: {:.2f}'.format(sk.metrics.recall_score(df_test['Survived'], df_test['survive_pred'])))"
      ],
      "execution_count": 83,
      "outputs": [
        {
          "output_type": "stream",
          "text": [
            "Accuracy: 0.72\n",
            "Precision: 0.77\n",
            "Recall: 0.49\n"
          ],
          "name": "stdout"
        }
      ]
    },
    {
      "cell_type": "markdown",
      "metadata": {
        "id": "JmzHUa11-RVB"
      },
      "source": [
        "### Model predictions"
      ]
    },
    {
      "cell_type": "markdown",
      "metadata": {
        "id": "wdacn-sf-B7h"
      },
      "source": [
        "When you've got a good model and you are ready to test it out let me know and i'll send you the withheld data! When you measure the performance of the model does it differ in accuracy, precision, and recall?"
      ]
    },
    {
      "cell_type": "code",
      "metadata": {
        "id": "LEp71grz-UC8"
      },
      "source": [
        "#load the 'new' data \n",
        "\n",
        "#use your model to make predictions\n",
        "\n",
        "#measure the performace of your model (did it correctly predict the new data?)"
      ],
      "execution_count": null,
      "outputs": []
    }
  ]
}