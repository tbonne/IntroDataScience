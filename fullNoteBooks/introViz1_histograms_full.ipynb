{
  "nbformat": 4,
  "nbformat_minor": 0,
  "metadata": {
    "colab": {
      "name": "introViz1_histograms_full.ipynb",
      "provenance": [],
      "collapsed_sections": [],
      "mount_file_id": "1wmmR4t_k1tLgeLSdfIlxVTLfExf_HSqA",
      "authorship_tag": "ABX9TyOhF/3zYBw1JlXjGnXi5raz",
      "include_colab_link": true
    },
    "kernelspec": {
      "name": "python3",
      "display_name": "Python 3"
    }
  },
  "cells": [
    {
      "cell_type": "markdown",
      "metadata": {
        "id": "view-in-github",
        "colab_type": "text"
      },
      "source": [
        "<a href=\"https://colab.research.google.com/github/tbonne/IntroDataScience/blob/main/fullNoteBooks/introViz1_histograms_full.ipynb\" target=\"_parent\"><img src=\"https://colab.research.google.com/assets/colab-badge.svg\" alt=\"Open In Colab\"/></a>"
      ]
    },
    {
      "cell_type": "markdown",
      "metadata": {
        "id": "4sudTlocuCVM"
      },
      "source": [
        "<img src='http://drive.google.com/uc?export=view&id=1C2o3BW9_N9LkeIi2lM4viUwvXK75G6Nc'>"
      ]
    },
    {
      "cell_type": "markdown",
      "metadata": {
        "id": "Mzk8IlLNCNQk"
      },
      "source": [
        "# <font color='lightblue'>Summary statistics and histograms</font>"
      ]
    },
    {
      "cell_type": "markdown",
      "metadata": {
        "id": "jkqMc39RCSyO"
      },
      "source": [
        "In this exercise we will look at how to describe a varaible of interst using some statistical measures. We will also learn how to plot and interpret a histogram. "
      ]
    },
    {
      "cell_type": "markdown",
      "metadata": {
        "id": "9Zxm9znvzsuV"
      },
      "source": [
        "For plotting there are many options in python. For the most part, we'll use **seaborn** for this class. It is a high level plotting library that will make it easy to plot your data in many different ways!\n"
      ]
    },
    {
      "cell_type": "code",
      "metadata": {
        "id": "hSya5UmWztHd"
      },
      "source": [
        "#Import python packages\n",
        "import matplotlib.pyplot as plt\n",
        "import seaborn as sns\n",
        "import pandas as pd\n",
        "import numpy as np\n"
      ],
      "execution_count": 1,
      "outputs": []
    },
    {
      "cell_type": "markdown",
      "metadata": {
        "id": "6QqhB-2QzgBy"
      },
      "source": [
        "We'll explore different ways to summarize and visualize data using the flights data we used last class.\n",
        "\n",
        "Load that in and let's get started!"
      ]
    },
    {
      "cell_type": "markdown",
      "metadata": {
        "id": "953AfwMvn1R1"
      },
      "source": [
        "<img src='http://drive.google.com/uc?export=view&id=1WC4tXGCEF-1_2LQ74gIxJAZ-GLXCwBdK' width=\"100\" align = 'left'>  "
      ]
    },
    {
      "cell_type": "code",
      "metadata": {
        "id": "Lef4nEGz8pGr",
        "colab": {
          "base_uri": "https://localhost:8080/",
          "height": 807
        },
        "outputId": "1505b214-a5c2-4fa8-b5cd-ba7348cf3c01"
      },
      "source": [
        "#load in the nyc data \n",
        "df_flights = pd.read_csv('/content/nyc_flight_data.csv')\n",
        "\n",
        "#take a look\n",
        "df_flights"
      ],
      "execution_count": 3,
      "outputs": [
        {
          "output_type": "execute_result",
          "data": {
            "text/html": [
              "<div>\n",
              "<style scoped>\n",
              "    .dataframe tbody tr th:only-of-type {\n",
              "        vertical-align: middle;\n",
              "    }\n",
              "\n",
              "    .dataframe tbody tr th {\n",
              "        vertical-align: top;\n",
              "    }\n",
              "\n",
              "    .dataframe thead th {\n",
              "        text-align: right;\n",
              "    }\n",
              "</style>\n",
              "<table border=\"1\" class=\"dataframe\">\n",
              "  <thead>\n",
              "    <tr style=\"text-align: right;\">\n",
              "      <th></th>\n",
              "      <th>Unnamed: 0</th>\n",
              "      <th>year</th>\n",
              "      <th>month</th>\n",
              "      <th>day</th>\n",
              "      <th>dep_time</th>\n",
              "      <th>sched_dep_time</th>\n",
              "      <th>dep_delay</th>\n",
              "      <th>arr_time</th>\n",
              "      <th>sched_arr_time</th>\n",
              "      <th>arr_delay</th>\n",
              "      <th>carrier</th>\n",
              "      <th>flight</th>\n",
              "      <th>tailnum</th>\n",
              "      <th>origin</th>\n",
              "      <th>dest</th>\n",
              "      <th>air_time</th>\n",
              "      <th>distance</th>\n",
              "      <th>hour</th>\n",
              "      <th>minute</th>\n",
              "      <th>time_hour</th>\n",
              "    </tr>\n",
              "  </thead>\n",
              "  <tbody>\n",
              "    <tr>\n",
              "      <th>0</th>\n",
              "      <td>1</td>\n",
              "      <td>2013</td>\n",
              "      <td>1</td>\n",
              "      <td>1</td>\n",
              "      <td>517.0</td>\n",
              "      <td>515</td>\n",
              "      <td>2.0</td>\n",
              "      <td>830.0</td>\n",
              "      <td>819</td>\n",
              "      <td>11.0</td>\n",
              "      <td>UA</td>\n",
              "      <td>1545</td>\n",
              "      <td>N14228</td>\n",
              "      <td>EWR</td>\n",
              "      <td>IAH</td>\n",
              "      <td>227.0</td>\n",
              "      <td>1400</td>\n",
              "      <td>5</td>\n",
              "      <td>15</td>\n",
              "      <td>2013-01-01 05:00:00</td>\n",
              "    </tr>\n",
              "    <tr>\n",
              "      <th>1</th>\n",
              "      <td>2</td>\n",
              "      <td>2013</td>\n",
              "      <td>1</td>\n",
              "      <td>1</td>\n",
              "      <td>533.0</td>\n",
              "      <td>529</td>\n",
              "      <td>4.0</td>\n",
              "      <td>850.0</td>\n",
              "      <td>830</td>\n",
              "      <td>20.0</td>\n",
              "      <td>UA</td>\n",
              "      <td>1714</td>\n",
              "      <td>N24211</td>\n",
              "      <td>LGA</td>\n",
              "      <td>IAH</td>\n",
              "      <td>227.0</td>\n",
              "      <td>1416</td>\n",
              "      <td>5</td>\n",
              "      <td>29</td>\n",
              "      <td>2013-01-01 05:00:00</td>\n",
              "    </tr>\n",
              "    <tr>\n",
              "      <th>2</th>\n",
              "      <td>3</td>\n",
              "      <td>2013</td>\n",
              "      <td>1</td>\n",
              "      <td>1</td>\n",
              "      <td>542.0</td>\n",
              "      <td>540</td>\n",
              "      <td>2.0</td>\n",
              "      <td>923.0</td>\n",
              "      <td>850</td>\n",
              "      <td>33.0</td>\n",
              "      <td>AA</td>\n",
              "      <td>1141</td>\n",
              "      <td>N619AA</td>\n",
              "      <td>JFK</td>\n",
              "      <td>MIA</td>\n",
              "      <td>160.0</td>\n",
              "      <td>1089</td>\n",
              "      <td>5</td>\n",
              "      <td>40</td>\n",
              "      <td>2013-01-01 05:00:00</td>\n",
              "    </tr>\n",
              "    <tr>\n",
              "      <th>3</th>\n",
              "      <td>4</td>\n",
              "      <td>2013</td>\n",
              "      <td>1</td>\n",
              "      <td>1</td>\n",
              "      <td>544.0</td>\n",
              "      <td>545</td>\n",
              "      <td>-1.0</td>\n",
              "      <td>1004.0</td>\n",
              "      <td>1022</td>\n",
              "      <td>-18.0</td>\n",
              "      <td>B6</td>\n",
              "      <td>725</td>\n",
              "      <td>N804JB</td>\n",
              "      <td>JFK</td>\n",
              "      <td>BQN</td>\n",
              "      <td>183.0</td>\n",
              "      <td>1576</td>\n",
              "      <td>5</td>\n",
              "      <td>45</td>\n",
              "      <td>2013-01-01 05:00:00</td>\n",
              "    </tr>\n",
              "    <tr>\n",
              "      <th>4</th>\n",
              "      <td>5</td>\n",
              "      <td>2013</td>\n",
              "      <td>1</td>\n",
              "      <td>1</td>\n",
              "      <td>554.0</td>\n",
              "      <td>600</td>\n",
              "      <td>-6.0</td>\n",
              "      <td>812.0</td>\n",
              "      <td>837</td>\n",
              "      <td>-25.0</td>\n",
              "      <td>DL</td>\n",
              "      <td>461</td>\n",
              "      <td>N668DN</td>\n",
              "      <td>LGA</td>\n",
              "      <td>ATL</td>\n",
              "      <td>116.0</td>\n",
              "      <td>762</td>\n",
              "      <td>6</td>\n",
              "      <td>0</td>\n",
              "      <td>2013-01-01 06:00:00</td>\n",
              "    </tr>\n",
              "    <tr>\n",
              "      <th>...</th>\n",
              "      <td>...</td>\n",
              "      <td>...</td>\n",
              "      <td>...</td>\n",
              "      <td>...</td>\n",
              "      <td>...</td>\n",
              "      <td>...</td>\n",
              "      <td>...</td>\n",
              "      <td>...</td>\n",
              "      <td>...</td>\n",
              "      <td>...</td>\n",
              "      <td>...</td>\n",
              "      <td>...</td>\n",
              "      <td>...</td>\n",
              "      <td>...</td>\n",
              "      <td>...</td>\n",
              "      <td>...</td>\n",
              "      <td>...</td>\n",
              "      <td>...</td>\n",
              "      <td>...</td>\n",
              "      <td>...</td>\n",
              "    </tr>\n",
              "    <tr>\n",
              "      <th>3609</th>\n",
              "      <td>3610</td>\n",
              "      <td>2013</td>\n",
              "      <td>1</td>\n",
              "      <td>4</td>\n",
              "      <td>NaN</td>\n",
              "      <td>1830</td>\n",
              "      <td>NaN</td>\n",
              "      <td>NaN</td>\n",
              "      <td>2044</td>\n",
              "      <td>NaN</td>\n",
              "      <td>9E</td>\n",
              "      <td>3716</td>\n",
              "      <td>NaN</td>\n",
              "      <td>EWR</td>\n",
              "      <td>DTW</td>\n",
              "      <td>NaN</td>\n",
              "      <td>488</td>\n",
              "      <td>18</td>\n",
              "      <td>30</td>\n",
              "      <td>2013-01-04 18:00:00</td>\n",
              "    </tr>\n",
              "    <tr>\n",
              "      <th>3610</th>\n",
              "      <td>3611</td>\n",
              "      <td>2013</td>\n",
              "      <td>1</td>\n",
              "      <td>4</td>\n",
              "      <td>NaN</td>\n",
              "      <td>920</td>\n",
              "      <td>NaN</td>\n",
              "      <td>NaN</td>\n",
              "      <td>1245</td>\n",
              "      <td>NaN</td>\n",
              "      <td>AA</td>\n",
              "      <td>721</td>\n",
              "      <td>N541AA</td>\n",
              "      <td>LGA</td>\n",
              "      <td>DFW</td>\n",
              "      <td>NaN</td>\n",
              "      <td>1389</td>\n",
              "      <td>9</td>\n",
              "      <td>20</td>\n",
              "      <td>2013-01-04 09:00:00</td>\n",
              "    </tr>\n",
              "    <tr>\n",
              "      <th>3611</th>\n",
              "      <td>3612</td>\n",
              "      <td>2013</td>\n",
              "      <td>1</td>\n",
              "      <td>4</td>\n",
              "      <td>NaN</td>\n",
              "      <td>1245</td>\n",
              "      <td>NaN</td>\n",
              "      <td>NaN</td>\n",
              "      <td>1550</td>\n",
              "      <td>NaN</td>\n",
              "      <td>AA</td>\n",
              "      <td>745</td>\n",
              "      <td>N3BGAA</td>\n",
              "      <td>LGA</td>\n",
              "      <td>DFW</td>\n",
              "      <td>NaN</td>\n",
              "      <td>1389</td>\n",
              "      <td>12</td>\n",
              "      <td>45</td>\n",
              "      <td>2013-01-04 12:00:00</td>\n",
              "    </tr>\n",
              "    <tr>\n",
              "      <th>3612</th>\n",
              "      <td>3613</td>\n",
              "      <td>2013</td>\n",
              "      <td>1</td>\n",
              "      <td>4</td>\n",
              "      <td>NaN</td>\n",
              "      <td>1430</td>\n",
              "      <td>NaN</td>\n",
              "      <td>NaN</td>\n",
              "      <td>1735</td>\n",
              "      <td>NaN</td>\n",
              "      <td>AA</td>\n",
              "      <td>883</td>\n",
              "      <td>N200AA</td>\n",
              "      <td>EWR</td>\n",
              "      <td>DFW</td>\n",
              "      <td>NaN</td>\n",
              "      <td>1372</td>\n",
              "      <td>14</td>\n",
              "      <td>30</td>\n",
              "      <td>2013-01-04 14:00:00</td>\n",
              "    </tr>\n",
              "    <tr>\n",
              "      <th>3613</th>\n",
              "      <td>3614</td>\n",
              "      <td>2013</td>\n",
              "      <td>1</td>\n",
              "      <td>4</td>\n",
              "      <td>NaN</td>\n",
              "      <td>1530</td>\n",
              "      <td>NaN</td>\n",
              "      <td>NaN</td>\n",
              "      <td>1725</td>\n",
              "      <td>NaN</td>\n",
              "      <td>AA</td>\n",
              "      <td>2223</td>\n",
              "      <td>N569AA</td>\n",
              "      <td>LGA</td>\n",
              "      <td>STL</td>\n",
              "      <td>NaN</td>\n",
              "      <td>888</td>\n",
              "      <td>15</td>\n",
              "      <td>30</td>\n",
              "      <td>2013-01-04 15:00:00</td>\n",
              "    </tr>\n",
              "  </tbody>\n",
              "</table>\n",
              "<p>3614 rows × 20 columns</p>\n",
              "</div>"
            ],
            "text/plain": [
              "      Unnamed: 0  year  month  day  ...  distance  hour  minute            time_hour\n",
              "0              1  2013      1    1  ...      1400     5      15  2013-01-01 05:00:00\n",
              "1              2  2013      1    1  ...      1416     5      29  2013-01-01 05:00:00\n",
              "2              3  2013      1    1  ...      1089     5      40  2013-01-01 05:00:00\n",
              "3              4  2013      1    1  ...      1576     5      45  2013-01-01 05:00:00\n",
              "4              5  2013      1    1  ...       762     6       0  2013-01-01 06:00:00\n",
              "...          ...   ...    ...  ...  ...       ...   ...     ...                  ...\n",
              "3609        3610  2013      1    4  ...       488    18      30  2013-01-04 18:00:00\n",
              "3610        3611  2013      1    4  ...      1389     9      20  2013-01-04 09:00:00\n",
              "3611        3612  2013      1    4  ...      1389    12      45  2013-01-04 12:00:00\n",
              "3612        3613  2013      1    4  ...      1372    14      30  2013-01-04 14:00:00\n",
              "3613        3614  2013      1    4  ...       888    15      30  2013-01-04 15:00:00\n",
              "\n",
              "[3614 rows x 20 columns]"
            ]
          },
          "metadata": {
            "tags": []
          },
          "execution_count": 3
        }
      ]
    },
    {
      "cell_type": "markdown",
      "metadata": {
        "id": "p3QvQAoh536E"
      },
      "source": [
        "What kinds of variables are we dealing with?"
      ]
    },
    {
      "cell_type": "code",
      "metadata": {
        "id": "EGOd3A7E59al",
        "colab": {
          "base_uri": "https://localhost:8080/"
        },
        "outputId": "80096b9f-31b2-4f95-dfe8-e9b7a14dabfd"
      },
      "source": [
        "df_flights.dtypes"
      ],
      "execution_count": 4,
      "outputs": [
        {
          "output_type": "execute_result",
          "data": {
            "text/plain": [
              "Unnamed: 0          int64\n",
              "year                int64\n",
              "month               int64\n",
              "day                 int64\n",
              "dep_time          float64\n",
              "sched_dep_time      int64\n",
              "dep_delay         float64\n",
              "arr_time          float64\n",
              "sched_arr_time      int64\n",
              "arr_delay         float64\n",
              "carrier            object\n",
              "flight              int64\n",
              "tailnum            object\n",
              "origin             object\n",
              "dest               object\n",
              "air_time          float64\n",
              "distance            int64\n",
              "hour                int64\n",
              "minute              int64\n",
              "time_hour          object\n",
              "dtype: object"
            ]
          },
          "metadata": {
            "tags": []
          },
          "execution_count": 4
        }
      ]
    },
    {
      "cell_type": "markdown",
      "metadata": {
        "id": "aiBpHDzR6P80"
      },
      "source": [
        "\n",
        "For numeric variables we can describe their distribution.\n",
        "\n",
        "\n",
        "\n",
        " "
      ]
    },
    {
      "cell_type": "code",
      "metadata": {
        "id": "2IyIUk2L7fZb",
        "colab": {
          "base_uri": "https://localhost:8080/"
        },
        "outputId": "05b004ef-deef-4fa4-8fa3-3da9da00edaa"
      },
      "source": [
        "#get the mean\n",
        "delay_mean = df_flights['arr_delay'].mean()\n",
        "\n",
        "#geth the mode\n",
        "delay_mode = df_flights['arr_delay'].mode()\n",
        "\n",
        "#get the median\n",
        "delay_median = df_flights['arr_delay'].median()\n",
        "\n",
        "#get the variance\n",
        "delay_std = df_flights['arr_delay'].std()\n",
        "\n",
        "print(\"the mean arrival delay is: \", delay_mean)\n",
        "print(\"the most common arrival delay is: \", delay_mode)\n",
        "print(\"the middle most arrival delay is: \", delay_median)\n",
        "print(\"the standard deviation of arrival delays is: \", delay_std)"
      ],
      "execution_count": 5,
      "outputs": [
        {
          "output_type": "stream",
          "text": [
            "the mean arrival delay is:  7.204093075413513\n",
            "the most common arrival delay is:  0   -9.0\n",
            "dtype: float64\n",
            "the middle most arrival delay is:  0.0\n",
            "the standard deviation of arrival delays is:  40.1143465868095\n"
          ],
          "name": "stdout"
        }
      ]
    },
    {
      "cell_type": "markdown",
      "metadata": {
        "id": "4pBgYCJw28GJ"
      },
      "source": [
        "Let's make this a little more visual and plot a histogram. \n",
        "> Here we will use the histogram to visualize what delay times are most common and how spread out they are."
      ]
    },
    {
      "cell_type": "code",
      "metadata": {
        "id": "KfRbxhWr2S6D",
        "colab": {
          "base_uri": "https://localhost:8080/",
          "height": 386
        },
        "outputId": "26322df9-a19a-4e1e-f63a-a29ae9693e5c"
      },
      "source": [
        "sns.displot(df_flights, x='arr_delay')"
      ],
      "execution_count": null,
      "outputs": [
        {
          "output_type": "execute_result",
          "data": {
            "text/plain": [
              "<seaborn.axisgrid.FacetGrid at 0x7ff878d61550>"
            ]
          },
          "metadata": {
            "tags": []
          },
          "execution_count": 5
        },
        {
          "output_type": "display_data",
          "data": {
            "image/png": "[encoded data removed]",
            "text/plain": [
              "<Figure size 360x360 with 1 Axes>"
            ]
          },
          "metadata": {
            "tags": [],
            "needs_background": "light"
          }
        }
      ]
    },
    {
      "cell_type": "markdown",
      "metadata": {
        "id": "-8XTETjVqokE"
      },
      "source": [
        "<img src='http://drive.google.com/uc?export=view&id=1WC4tXGCEF-1_2LQ74gIxJAZ-GLXCwBdK' width=\"100\" align = 'left'>  "
      ]
    },
    {
      "cell_type": "markdown",
      "metadata": {
        "id": "0bEjAb7NpNmN"
      },
      "source": [
        "Try that again but this time try playing with the bin size. How does the width of the bins we break the data into impact the histogram? Try going very big and very small. And feel free to share your results on Slack!"
      ]
    },
    {
      "cell_type": "code",
      "metadata": {
        "id": "n6LRfTiqpM7L",
        "colab": {
          "base_uri": "https://localhost:8080/",
          "height": 387
        },
        "outputId": "5f708d05-9b4c-4228-f13e-4e66a37b5bbf"
      },
      "source": [
        "sns.displot(df_flights, x='arr_delay', binwidth=100) #E.g., 100"
      ],
      "execution_count": null,
      "outputs": [
        {
          "output_type": "execute_result",
          "data": {
            "text/plain": [
              "<seaborn.axisgrid.FacetGrid at 0x7f50a79b1410>"
            ]
          },
          "metadata": {
            "tags": []
          },
          "execution_count": 6
        },
        {
          "output_type": "display_data",
          "data": {
            "image/png": "[encoded data removed]",
            "text/plain": [
              "<Figure size 360x360 with 1 Axes>"
            ]
          },
          "metadata": {
            "tags": [],
            "needs_background": "light"
          }
        }
      ]
    },
    {
      "cell_type": "markdown",
      "metadata": {
        "id": "a9Mj_PLd5n0k"
      },
      "source": [
        "Let's now add in the measures of central tendencies and see how they match up on the histogram. Here we use the **plt.axvline()** method to add some vertical lines."
      ]
    },
    {
      "cell_type": "code",
      "metadata": {
        "colab": {
          "base_uri": "https://localhost:8080/",
          "height": 387
        },
        "id": "hcALW35eAIyW",
        "outputId": "6927eb4b-83fa-4022-f9ed-2f3690e68eaf"
      },
      "source": [
        "sns.displot(df_flights,x='arr_delay', binwidth=10)\n",
        "plt.axvline(delay_mean, color=\"red\")\n",
        "plt.axvline(delay_mode[0], color=\"purple\")\n",
        "plt.axvline(delay_median, color=\"pink\")\n"
      ],
      "execution_count": null,
      "outputs": [
        {
          "output_type": "execute_result",
          "data": {
            "text/plain": [
              "<matplotlib.lines.Line2D at 0x7f50a7117c90>"
            ]
          },
          "metadata": {
            "tags": []
          },
          "execution_count": 9
        },
        {
          "output_type": "display_data",
          "data": {
            "image/png": "[encoded data removed]",
            "text/plain": [
              "<Figure size 360x360 with 1 Axes>"
            ]
          },
          "metadata": {
            "tags": [],
            "needs_background": "light"
          }
        }
      ]
    },
    {
      "cell_type": "markdown",
      "metadata": {
        "id": "yjbg6wLzqwMp"
      },
      "source": [
        "It's a little hard to see the difference, let's set focus in on a particular range of the x-axis using the **plt.xlim()** method."
      ]
    },
    {
      "cell_type": "code",
      "metadata": {
        "colab": {
          "base_uri": "https://localhost:8080/",
          "height": 387
        },
        "id": "BgkXXQIPI9G3",
        "outputId": "3a26de5f-f2b7-4af6-fe50-b44aad7a50a2"
      },
      "source": [
        "sns.displot(df_flights,x='arr_delay', binwidth=10)\n",
        "plt.xlim(-100,100)\n",
        "plt.axvline(delay_mean, color=\"red\")\n",
        "plt.axvline(delay_mode[0], color=\"purple\")\n",
        "plt.axvline(delay_median, color=\"pink\")\n"
      ],
      "execution_count": null,
      "outputs": [
        {
          "output_type": "execute_result",
          "data": {
            "text/plain": [
              "<matplotlib.lines.Line2D at 0x7f50a6fa6090>"
            ]
          },
          "metadata": {
            "tags": []
          },
          "execution_count": 10
        },
        {
          "output_type": "display_data",
          "data": {
            "image/png": "[encoded data removed]",
            "text/plain": [
              "<Figure size 360x360 with 1 Axes>"
            ]
          },
          "metadata": {
            "tags": [],
            "needs_background": "light"
          }
        }
      ]
    },
    {
      "cell_type": "markdown",
      "metadata": {
        "id": "QPxAz7HYnwuk"
      },
      "source": [
        "<img src='http://drive.google.com/uc?export=view&id=1WC4tXGCEF-1_2LQ74gIxJAZ-GLXCwBdK' width=\"100\" align = 'left'>  "
      ]
    },
    {
      "cell_type": "markdown",
      "metadata": {
        "id": "7voAhzTSJLZv"
      },
      "source": [
        "Try this again but this time look at departure time as the variable of interest. "
      ]
    },
    {
      "cell_type": "code",
      "metadata": {
        "id": "CXBhOWB6JXcG"
      },
      "source": [
        "#get the mean\n",
        "dep_mean = df_flights['dep_time'].mean()\n",
        "\n",
        "#geth the mode\n",
        "dep_mode = df_flights['dep_time'].mode()\n",
        "\n",
        "#get the median\n",
        "dep_median = df_flights['dep_time'].median()\n",
        "\n",
        "#get the standard deviation\n",
        "dep_std = df_flights['dep_time'].std()\n",
        "\n"
      ],
      "execution_count": 7,
      "outputs": []
    },
    {
      "cell_type": "markdown",
      "metadata": {
        "id": "M-zyc_NGthe3"
      },
      "source": [
        "Create a histogram"
      ]
    },
    {
      "cell_type": "code",
      "metadata": {
        "id": "Sf142N09Jffu",
        "colab": {
          "base_uri": "https://localhost:8080/",
          "height": 387
        },
        "outputId": "cd0c9d6d-d0fc-4c2a-e435-62ef3585ca40"
      },
      "source": [
        "sns.displot(df_flights['dep_time'], binwidth=10)\n",
        "plt.axvline(dep_mean, color=\"red\")\n",
        "plt.axvline(dep_mode[0], color=\"green\")\n",
        "plt.axvline(dep_median, color=\"blue\")"
      ],
      "execution_count": 11,
      "outputs": [
        {
          "output_type": "execute_result",
          "data": {
            "text/plain": [
              "<matplotlib.lines.Line2D at 0x7fa80b236910>"
            ]
          },
          "metadata": {
            "tags": []
          },
          "execution_count": 11
        },
        {
          "output_type": "display_data",
          "data": {
            "image/png": "[encoded data removed]",
            "text/plain": [
              "<Figure size 360x360 with 1 Axes>"
            ]
          },
          "metadata": {
            "tags": [],
            "needs_background": "light"
          }
        }
      ]
    },
    {
      "cell_type": "markdown",
      "metadata": {
        "id": "oowe8KJlxFwV"
      },
      "source": [
        "# <font color='lightblue'>Measures of dispersion</font>"
      ]
    },
    {
      "cell_type": "code",
      "metadata": {
        "id": "tNZRbhT9KR4l",
        "colab": {
          "base_uri": "https://localhost:8080/"
        },
        "outputId": "51056c5b-69d4-43ed-d9a7-16bc81b98de9"
      },
      "source": [
        "#get standard deviation for arrival delay\n",
        "#df_flights['###'].std()\n",
        "delay_sd = df_flights['arr_delay'].std()\n",
        "\n",
        "#get standard deviation for departure times\n",
        "#df_flights['###'].std()\n",
        "dep_sd = df_flights['dep_time'].std()\n",
        "\n",
        "print(\"standard deviation of arrival delays = \", delay_sd)\n",
        "print(\"standard deviation of departure times = \", dep_sd)\n"
      ],
      "execution_count": 12,
      "outputs": [
        {
          "output_type": "stream",
          "text": [
            "standard deviation of arrival delays =  40.1143465868095\n",
            "standard deviation of departure times =  481.8220104738129\n"
          ],
          "name": "stdout"
        }
      ]
    },
    {
      "cell_type": "markdown",
      "metadata": {
        "id": "OZCbn6Rqsqbo"
      },
      "source": [
        "<img src='http://drive.google.com/uc?export=view&id=1WC4tXGCEF-1_2LQ74gIxJAZ-GLXCwBdK' width=\"100\" align = 'left'>  "
      ]
    },
    {
      "cell_type": "markdown",
      "metadata": {
        "id": "WqxexEaBR3JF"
      },
      "source": [
        "Similarly we can find the min and max of the variables\n"
      ]
    },
    {
      "cell_type": "code",
      "metadata": {
        "id": "04DX7yuvR9gT",
        "colab": {
          "base_uri": "https://localhost:8080/"
        },
        "outputId": "1a4005af-5f83-47ef-a6cf-8754157bd9c4"
      },
      "source": [
        "#get the min and max of delay times\n",
        "delay_min = df_flights['arr_delay'].min()\n",
        "delay_max = df_flights['arr_delay'].max()\n",
        "\n",
        "#get the min and max of departure times\n",
        "time_min = df_flights['dep_time'].min()\n",
        "time_max = df_flights['dep_time'].max()\n",
        "\n",
        "#print out the values\n",
        "print(\"min arrival delays = \", delay_min)\n",
        "print(\"max arrival delays = \", delay_max)\n",
        "print(\"min arrival delays = \", time_min)\n",
        "print(\"min arrival delays = \", time_max)\n"
      ],
      "execution_count": 14,
      "outputs": [
        {
          "output_type": "stream",
          "text": [
            "min arrival delays =  -70.0\n",
            "max arrival delays =  851.0\n",
            "min arrival delays =  25.0\n",
            "min arrival delays =  2358.0\n"
          ],
          "name": "stdout"
        }
      ]
    },
    {
      "cell_type": "markdown",
      "metadata": {
        "id": "rRrZqIfRJeFQ"
      },
      "source": [
        "# <font color='lightblue'>(BONUS QUESTION)</font>\n",
        "\n",
        "Find the variable(s) with the highest and lowest standard deviations and plot them in a histogram.\n",
        "\n",
        "\n"
      ]
    },
    {
      "cell_type": "code",
      "metadata": {
        "colab": {
          "base_uri": "https://localhost:8080/"
        },
        "id": "yEpCp6PPJ4yr",
        "outputId": "b70ba003-92d7-4972-da58-f3c496b5f55b"
      },
      "source": [
        "#estimate and sort standard deviation of all the columns\n",
        "df_flights.std().sort_values()"
      ],
      "execution_count": 20,
      "outputs": [
        {
          "output_type": "execute_result",
          "data": {
            "text/plain": [
              "Unnamed: 0          int64\n",
              "year                int64\n",
              "month               int64\n",
              "day                 int64\n",
              "dep_time          float64\n",
              "sched_dep_time      int64\n",
              "dep_delay         float64\n",
              "arr_time          float64\n",
              "sched_arr_time      int64\n",
              "arr_delay         float64\n",
              "carrier            object\n",
              "flight              int64\n",
              "tailnum            object\n",
              "origin             object\n",
              "dest               object\n",
              "air_time          float64\n",
              "distance            int64\n",
              "hour                int64\n",
              "minute              int64\n",
              "time_hour          object\n",
              "dtype: object"
            ]
          },
          "metadata": {
            "tags": []
          },
          "execution_count": 20
        }
      ]
    },
    {
      "cell_type": "code",
      "metadata": {
        "colab": {
          "base_uri": "https://localhost:8080/",
          "height": 351
        },
        "id": "W6x6LHIbKPyf",
        "outputId": "6a348141-6ca8-4011-f29e-333943e3d19f"
      },
      "source": [
        "sns.distplot(df_flights.flight)"
      ],
      "execution_count": 21,
      "outputs": [
        {
          "output_type": "stream",
          "text": [
            "/usr/local/lib/python3.7/dist-packages/seaborn/distributions.py:2557: FutureWarning: `distplot` is a deprecated function and will be removed in a future version. Please adapt your code to use either `displot` (a figure-level function with similar flexibility) or `histplot` (an axes-level function for histograms).\n",
            "  warnings.warn(msg, FutureWarning)\n"
          ],
          "name": "stderr"
        },
        {
          "output_type": "execute_result",
          "data": {
            "text/plain": [
              "<matplotlib.axes._subplots.AxesSubplot at 0x7fa80aed9b50>"
            ]
          },
          "metadata": {
            "tags": []
          },
          "execution_count": 21
        },
        {
          "output_type": "display_data",
          "data": {
            "image/png": "[encoded data removed]",
            "text/plain": [
              "<Figure size 432x288 with 1 Axes>"
            ]
          },
          "metadata": {
            "tags": [],
            "needs_background": "light"
          }
        }
      ]
    },
    {
      "cell_type": "code",
      "metadata": {
        "colab": {
          "base_uri": "https://localhost:8080/",
          "height": 386
        },
        "id": "UwifoK1HKoBT",
        "outputId": "3b85dae4-4084-4fcb-b22e-ce23c0966704"
      },
      "source": [
        "sns.distplot(df_flights.month)"
      ],
      "execution_count": 22,
      "outputs": [
        {
          "output_type": "stream",
          "text": [
            "/usr/local/lib/python3.7/dist-packages/seaborn/distributions.py:2557: FutureWarning: `distplot` is a deprecated function and will be removed in a future version. Please adapt your code to use either `displot` (a figure-level function with similar flexibility) or `histplot` (an axes-level function for histograms).\n",
            "  warnings.warn(msg, FutureWarning)\n",
            "/usr/local/lib/python3.7/dist-packages/seaborn/distributions.py:306: UserWarning: Dataset has 0 variance; skipping density estimate.\n",
            "  warnings.warn(msg, UserWarning)\n"
          ],
          "name": "stderr"
        },
        {
          "output_type": "execute_result",
          "data": {
            "text/plain": [
              "<matplotlib.axes._subplots.AxesSubplot at 0x7fa808e6ecd0>"
            ]
          },
          "metadata": {
            "tags": []
          },
          "execution_count": 22
        },
        {
          "output_type": "display_data",
          "data": {
            "image/png": "[encoded data removed]",
            "text/plain": [
              "<Figure size 432x288 with 1 Axes>"
            ]
          },
          "metadata": {
            "tags": [],
            "needs_background": "light"
          }
        }
      ]
    },
    {
      "cell_type": "markdown",
      "metadata": {
        "id": "OFnkk5NnKrXy"
      },
      "source": [
        "What is going on with the variables identified as having the lowest standard deviation? What does this tell you about the data?"
      ]
    },
    {
      "cell_type": "markdown",
      "metadata": {
        "id": "np6GPRVILDAj"
      },
      "source": [
        "Finally can you create a histogram of air speeds? "
      ]
    },
    {
      "cell_type": "code",
      "metadata": {
        "colab": {
          "base_uri": "https://localhost:8080/",
          "height": 337
        },
        "id": "XKLXHqiELbT2",
        "outputId": "8cf9e270-a552-45a7-ace8-bba5bdf374dc"
      },
      "source": [
        "#calculate speed\n",
        "df_flights['speed'] = df_flights.distance/df_flights.air_time\n",
        "\n",
        "#build a histogram\n",
        "sns.distplot(df_flights.speed)"
      ],
      "execution_count": 28,
      "outputs": [
        {
          "output_type": "stream",
          "text": [
            "/usr/local/lib/python3.7/dist-packages/seaborn/distributions.py:2557: FutureWarning: `distplot` is a deprecated function and will be removed in a future version. Please adapt your code to use either `displot` (a figure-level function with similar flexibility) or `histplot` (an axes-level function for histograms).\n",
            "  warnings.warn(msg, FutureWarning)\n"
          ],
          "name": "stderr"
        },
        {
          "output_type": "execute_result",
          "data": {
            "text/plain": [
              "<matplotlib.axes._subplots.AxesSubplot at 0x7fa810467590>"
            ]
          },
          "metadata": {
            "tags": []
          },
          "execution_count": 28
        },
        {
          "output_type": "display_data",
          "data": {
            "image/png": "[encoded data removed]",
            "text/plain": [
              "<Figure size 432x288 with 1 Axes>"
            ]
          },
          "metadata": {
            "tags": [],
            "needs_background": "light"
          }
        }
      ]
    },
    {
      "cell_type": "markdown",
      "metadata": {
        "id": "4ORY2hAQLmfN"
      },
      "source": [
        "What are the unit of the x-axis in this histogram? And can you identify the speediest airline carrier?"
      ]
    },
    {
      "cell_type": "code",
      "metadata": {
        "colab": {
          "base_uri": "https://localhost:8080/"
        },
        "id": "Bre4kagfLw-N",
        "outputId": "8f814072-7db7-4197-9d91-909fc5c6955a"
      },
      "source": [
        "#calculate speed\n",
        "df_flights['speed'] = df_flights.distance/df_flights.air_time\n",
        "\n",
        "#use group by \n",
        "df_flights.groupby('carrier').speed.mean().sort_values()"
      ],
      "execution_count": 29,
      "outputs": [
        {
          "output_type": "execute_result",
          "data": {
            "text/plain": [
              "carrier\n",
              "YV    4.721645\n",
              "9E    5.176311\n",
              "EV    5.327594\n",
              "MQ    5.524847\n",
              "US    5.702300\n",
              "WN    5.816925\n",
              "FL    5.959070\n",
              "B6    6.426155\n",
              "DL    6.509856\n",
              "AA    6.522017\n",
              "UA    6.665590\n",
              "F9    7.092209\n",
              "AS    7.243138\n",
              "VX    7.479769\n",
              "HA    7.814802\n",
              "Name: speed, dtype: float64"
            ]
          },
          "metadata": {
            "tags": []
          },
          "execution_count": 29
        }
      ]
    }
  ]
}