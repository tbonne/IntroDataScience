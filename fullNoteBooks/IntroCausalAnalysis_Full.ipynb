{
  "nbformat": 4,
  "nbformat_minor": 0,
  "metadata": {
    "colab": {
      "name": "IntroCausalAnalysis_Full.ipynb",
      "provenance": [],
      "collapsed_sections": [],
      "mount_file_id": "1ZSejLEaSqtPw_BnKWwNvlKloiaTPp-zf",
      "authorship_tag": "ABX9TyOV5nrEzGTBlEQrAjBKNBDd",
      "include_colab_link": true
    },
    "kernelspec": {
      "name": "python3",
      "display_name": "Python 3"
    },
    "language_info": {
      "name": "python"
    }
  },
  "cells": [
    {
      "cell_type": "markdown",
      "metadata": {
        "id": "view-in-github",
        "colab_type": "text"
      },
      "source": [
        "<a href=\"https://colab.research.google.com/github/tbonne/IntroDataScience/blob/main/fullNoteBooks/IntroCausalAnalysis_Full.ipynb\" target=\"_parent\"><img src=\"https://colab.research.google.com/assets/colab-badge.svg\" alt=\"Open In Colab\"/></a>"
      ]
    },
    {
      "cell_type": "markdown",
      "metadata": {
        "id": "9C2arduFECBl"
      },
      "source": [
        "<img src='http://drive.google.com/uc?export=view&id=1gfef2jOOS8IuF0L-2yYmx2D0eEEmZwQs' width=500>\n"
      ]
    },
    {
      "cell_type": "markdown",
      "metadata": {
        "id": "BQpnBRMDe_mB"
      },
      "source": [
        "# <font color='lightblue'>Explainability vs Causality</font>\n",
        "\n",
        "\n",
        "Here we will look at the difference between understanding how the ML model is making predictions (explainability) and what is causing the outcome (causality)\n"
      ]
    },
    {
      "cell_type": "markdown",
      "metadata": {
        "id": "yFmN1aLjfVej"
      },
      "source": [
        "To do so we will look at a silly example where we know that the patterns picked up by the model are not causal.\n"
      ]
    },
    {
      "cell_type": "markdown",
      "metadata": {
        "id": "H4-8qJBvfiL1"
      },
      "source": [
        "## <font color='lightblue'>Waffle houses and divorce rates</font>\n"
      ]
    },
    {
      "cell_type": "code",
      "metadata": {
        "id": "R6oL7k7uftq4"
      },
      "source": [
        "import pandas as pd\n",
        "import sklearn as sk\n",
        "import seaborn as sns\n",
        "from matplotlib import pyplot as plt\n",
        "from sklearn.model_selection import train_test_split"
      ],
      "execution_count": null,
      "outputs": []
    },
    {
      "cell_type": "markdown",
      "metadata": {
        "id": "GZ7MxOMHflXV"
      },
      "source": [
        "Load the data"
      ]
    },
    {
      "cell_type": "code",
      "metadata": {
        "colab": {
          "base_uri": "https://localhost:8080/",
          "height": 226
        },
        "id": "5NHlsf8GeMWW",
        "outputId": "6e0b93b1-ec73-4b76-a708-8df5f55e0e68"
      },
      "source": [
        "#load data\n",
        "df_waffles = pd.read_csv(\"/content/waffles.csv\")\n",
        "\n",
        "#take a look\n",
        "df_waffles.head()"
      ],
      "execution_count": null,
      "outputs": [
        {
          "output_type": "execute_result",
          "data": {
            "text/html": [
              "<div>\n",
              "<style scoped>\n",
              "    .dataframe tbody tr th:only-of-type {\n",
              "        vertical-align: middle;\n",
              "    }\n",
              "\n",
              "    .dataframe tbody tr th {\n",
              "        vertical-align: top;\n",
              "    }\n",
              "\n",
              "    .dataframe thead th {\n",
              "        text-align: right;\n",
              "    }\n",
              "</style>\n",
              "<table border=\"1\" class=\"dataframe\">\n",
              "  <thead>\n",
              "    <tr style=\"text-align: right;\">\n",
              "      <th></th>\n",
              "      <th>Location</th>\n",
              "      <th>Loc</th>\n",
              "      <th>Population</th>\n",
              "      <th>MedianAgeMarriage</th>\n",
              "      <th>Marriage</th>\n",
              "      <th>Marriage.SE</th>\n",
              "      <th>Divorce</th>\n",
              "      <th>Divorce.SE</th>\n",
              "      <th>WaffleHouses</th>\n",
              "      <th>South</th>\n",
              "    </tr>\n",
              "  </thead>\n",
              "  <tbody>\n",
              "    <tr>\n",
              "      <th>0</th>\n",
              "      <td>Alabama</td>\n",
              "      <td>AL</td>\n",
              "      <td>4.78</td>\n",
              "      <td>25.3</td>\n",
              "      <td>20.2</td>\n",
              "      <td>1.27</td>\n",
              "      <td>12.7</td>\n",
              "      <td>0.79</td>\n",
              "      <td>128</td>\n",
              "      <td>1</td>\n",
              "    </tr>\n",
              "    <tr>\n",
              "      <th>1</th>\n",
              "      <td>Alaska</td>\n",
              "      <td>AK</td>\n",
              "      <td>0.71</td>\n",
              "      <td>25.2</td>\n",
              "      <td>26.0</td>\n",
              "      <td>2.93</td>\n",
              "      <td>12.5</td>\n",
              "      <td>2.05</td>\n",
              "      <td>0</td>\n",
              "      <td>0</td>\n",
              "    </tr>\n",
              "    <tr>\n",
              "      <th>2</th>\n",
              "      <td>Arizona</td>\n",
              "      <td>AZ</td>\n",
              "      <td>6.33</td>\n",
              "      <td>25.8</td>\n",
              "      <td>20.3</td>\n",
              "      <td>0.98</td>\n",
              "      <td>10.8</td>\n",
              "      <td>0.74</td>\n",
              "      <td>18</td>\n",
              "      <td>0</td>\n",
              "    </tr>\n",
              "    <tr>\n",
              "      <th>3</th>\n",
              "      <td>Arkansas</td>\n",
              "      <td>AR</td>\n",
              "      <td>2.92</td>\n",
              "      <td>24.3</td>\n",
              "      <td>26.4</td>\n",
              "      <td>1.70</td>\n",
              "      <td>13.5</td>\n",
              "      <td>1.22</td>\n",
              "      <td>41</td>\n",
              "      <td>1</td>\n",
              "    </tr>\n",
              "    <tr>\n",
              "      <th>4</th>\n",
              "      <td>California</td>\n",
              "      <td>CA</td>\n",
              "      <td>37.25</td>\n",
              "      <td>26.8</td>\n",
              "      <td>19.1</td>\n",
              "      <td>0.39</td>\n",
              "      <td>8.0</td>\n",
              "      <td>0.24</td>\n",
              "      <td>0</td>\n",
              "      <td>0</td>\n",
              "    </tr>\n",
              "  </tbody>\n",
              "</table>\n",
              "</div>"
            ],
            "text/plain": [
              "     Location Loc  Population  ...  Divorce.SE  WaffleHouses  South\n",
              "0     Alabama  AL        4.78  ...        0.79           128      1\n",
              "1      Alaska  AK        0.71  ...        2.05             0      0\n",
              "2     Arizona  AZ        6.33  ...        0.74            18      0\n",
              "3    Arkansas  AR        2.92  ...        1.22            41      1\n",
              "4  California  CA       37.25  ...        0.24             0      0\n",
              "\n",
              "[5 rows x 10 columns]"
            ]
          },
          "metadata": {
            "tags": []
          },
          "execution_count": 11
        }
      ]
    },
    {
      "cell_type": "markdown",
      "metadata": {
        "id": "FovWxCFQkiTn"
      },
      "source": [
        "Visualize the data"
      ]
    },
    {
      "cell_type": "code",
      "metadata": {
        "colab": {
          "base_uri": "https://localhost:8080/",
          "height": 357
        },
        "id": "Lm36a2uZmIW5",
        "outputId": "7c8f9bc2-687f-4c31-845f-fcd7622a68c3"
      },
      "source": [
        "#sort the dataframe\n",
        "pd_df = df_waffles.sort_values(['Divorce']).reset_index(drop=True)\n",
        "\n",
        "#plot by state\n",
        "sns.barplot(data=pd_df, x=\"Loc\",y=\"Divorce\")\n",
        "plt.xticks(rotation=90)"
      ],
      "execution_count": null,
      "outputs": [
        {
          "output_type": "execute_result",
          "data": {
            "text/plain": [
              "(array([ 0,  1,  2,  3,  4,  5,  6,  7,  8,  9, 10, 11, 12, 13, 14, 15, 16,\n",
              "        17, 18, 19, 20, 21, 22, 23, 24, 25, 26, 27, 28, 29, 30, 31, 32, 33,\n",
              "        34, 35, 36, 37, 38, 39, 40, 41, 42, 43, 44, 45, 46, 47, 48, 49]),\n",
              " <a list of 50 Text major ticklabel objects>)"
            ]
          },
          "metadata": {
            "tags": []
          },
          "execution_count": 12
        },
        {
          "output_type": "display_data",
          "data": {
            "image/png": "[encoded data removed]",
            "text/plain": [
              "<Figure size 432x288 with 1 Axes>"
            ]
          },
          "metadata": {
            "tags": [],
            "needs_background": "light"
          }
        }
      ]
    },
    {
      "cell_type": "markdown",
      "metadata": {
        "id": "GMJVKC1ckysB"
      },
      "source": [
        "### <font color='lightblue'>Do whaffle houses cause divorce?</font>\n"
      ]
    },
    {
      "cell_type": "code",
      "metadata": {
        "colab": {
          "base_uri": "https://localhost:8080/"
        },
        "id": "8ByGVB4fLmIG",
        "outputId": "a866cd2a-a60e-4e87-e3bf-9958ef43f68d"
      },
      "source": [
        "#correlation\n",
        "df_waffles.WaffleHouses.corr(df_waffles.Divorce)"
      ],
      "execution_count": null,
      "outputs": [
        {
          "output_type": "execute_result",
          "data": {
            "text/plain": [
              "0.25447536233295187"
            ]
          },
          "metadata": {
            "tags": []
          },
          "execution_count": 4
        }
      ]
    },
    {
      "cell_type": "code",
      "metadata": {
        "colab": {
          "base_uri": "https://localhost:8080/",
          "height": 297
        },
        "id": "GUnoEdV7AZLP",
        "outputId": "a46c7986-6ee7-4d0f-d0d5-a7e88a3d621f"
      },
      "source": [
        "#scatter plot\n",
        "sns.scatterplot(data=df_waffles, x=\"WaffleHouses\", y=\"Divorce\" )\n"
      ],
      "execution_count": null,
      "outputs": [
        {
          "output_type": "execute_result",
          "data": {
            "text/plain": [
              "<matplotlib.axes._subplots.AxesSubplot at 0x7fe2ed0ba350>"
            ]
          },
          "metadata": {
            "tags": []
          },
          "execution_count": 5
        },
        {
          "output_type": "display_data",
          "data": {
            "image/png": "[encoded data removed]",
            "text/plain": [
              "<Figure size 432x288 with 1 Axes>"
            ]
          },
          "metadata": {
            "tags": [],
            "needs_background": "light"
          }
        }
      ]
    },
    {
      "cell_type": "markdown",
      "metadata": {
        "id": "lKdW7X6B0epK"
      },
      "source": [
        "Data wrangling"
      ]
    },
    {
      "cell_type": "code",
      "metadata": {
        "id": "7uuaVICoRlMs"
      },
      "source": [
        "#split these data into training and testing datasets\n",
        "df_train, df_test = train_test_split(df_waffles, test_size=0.20, random_state=14)"
      ],
      "execution_count": null,
      "outputs": []
    },
    {
      "cell_type": "markdown",
      "metadata": {
        "id": "OAk0s-hKmH7i"
      },
      "source": [
        "### <font color='lightblue'>Build a model</font>\n",
        "\n",
        "Can we predict divorce rates based on:\n",
        "1. population\n",
        "2. marage rates (more mariage more divorce)\n",
        "3. Median age at marriage\n",
        "4. Number of waffle houses"
      ]
    },
    {
      "cell_type": "markdown",
      "metadata": {
        "id": "GTUwaLV9HdvV"
      },
      "source": [
        "<img src='http://drive.google.com/uc?export=view&id=1WC4tXGCEF-1_2LQ74gIxJAZ-GLXCwBdK' width=\"100\" align = 'left'>  "
      ]
    },
    {
      "cell_type": "code",
      "metadata": {
        "id": "eHrG5Z1lRJ5q",
        "colab": {
          "base_uri": "https://localhost:8080/"
        },
        "outputId": "2268b55b-3154-4500-aba1-e976386cead2"
      },
      "source": [
        "import statsmodels.api as sm #for running regression!\n",
        "import statsmodels.formula.api as smf\n",
        "\n",
        "#Build the model\n",
        "linear_reg_model = smf.ols(formula='Divorce ~ WaffleHouses ', data=df_train)\n",
        "\n",
        "#Use the data to fit the model (i.e., find the best intercept and slope parameters)\n",
        "linear_reg_results = linear_reg_model.fit()\n",
        "\n",
        "#summary\n",
        "print(linear_reg_results.summary())"
      ],
      "execution_count": null,
      "outputs": [
        {
          "output_type": "stream",
          "text": [
            "                            OLS Regression Results                            \n",
            "==============================================================================\n",
            "Dep. Variable:                Divorce   R-squared:                       0.111\n",
            "Model:                            OLS   Adj. R-squared:                  0.088\n",
            "Method:                 Least Squares   F-statistic:                     4.766\n",
            "Date:                Tue, 10 Aug 2021   Prob (F-statistic):             0.0353\n",
            "Time:                        16:21:03   Log-Likelihood:                -76.440\n",
            "No. Observations:                  40   AIC:                             156.9\n",
            "Df Residuals:                      38   BIC:                             160.3\n",
            "Df Model:                           1                                         \n",
            "Covariance Type:            nonrobust                                         \n",
            "================================================================================\n",
            "                   coef    std err          t      P>|t|      [0.025      0.975]\n",
            "--------------------------------------------------------------------------------\n",
            "Intercept        9.2539      0.303     30.558      0.000       8.641       9.867\n",
            "WaffleHouses     0.0081      0.004      2.183      0.035       0.001       0.016\n",
            "==============================================================================\n",
            "Omnibus:                        0.636   Durbin-Watson:                   1.590\n",
            "Prob(Omnibus):                  0.727   Jarque-Bera (JB):                0.553\n",
            "Skew:                           0.271   Prob(JB):                        0.758\n",
            "Kurtosis:                       2.802   Cond. No.                         92.7\n",
            "==============================================================================\n",
            "\n",
            "Warnings:\n",
            "[1] Standard Errors assume that the covariance matrix of the errors is correctly specified.\n"
          ],
          "name": "stdout"
        }
      ]
    },
    {
      "cell_type": "markdown",
      "metadata": {
        "id": "-l9Slvyc72dT"
      },
      "source": [
        "### <font color='lightblue'>Fit the model again, this time add the South variable</font>"
      ]
    },
    {
      "cell_type": "code",
      "metadata": {
        "id": "mweD6mtJSYPh",
        "colab": {
          "base_uri": "https://localhost:8080/"
        },
        "outputId": "dfc38a8d-e1d1-4fd5-e6fb-4cc339755bb3"
      },
      "source": [
        "#Build the model\n",
        "linear_reg_model_South = smf.ols(formula='Divorce ~ WaffleHouses + South', data=df_train)\n",
        "\n",
        "#Use the data to fit the model (i.e., find the best intercept and slope parameters)\n",
        "linear_reg_model_South = linear_reg_model_South.fit()\n",
        "\n",
        "#summary\n",
        "print(linear_reg_model_South.summary())"
      ],
      "execution_count": null,
      "outputs": [
        {
          "output_type": "stream",
          "text": [
            "                            OLS Regression Results                            \n",
            "==============================================================================\n",
            "Dep. Variable:                Divorce   R-squared:                       0.193\n",
            "Model:                            OLS   Adj. R-squared:                  0.150\n",
            "Method:                 Least Squares   F-statistic:                     4.437\n",
            "Date:                Tue, 10 Aug 2021   Prob (F-statistic):             0.0187\n",
            "Time:                        16:21:18   Log-Likelihood:                -74.504\n",
            "No. Observations:                  40   AIC:                             155.0\n",
            "Df Residuals:                      37   BIC:                             160.1\n",
            "Df Model:                           2                                         \n",
            "Covariance Type:            nonrobust                                         \n",
            "================================================================================\n",
            "                   coef    std err          t      P>|t|      [0.025      0.975]\n",
            "--------------------------------------------------------------------------------\n",
            "Intercept        9.0397      0.313     28.921      0.000       8.406       9.673\n",
            "WaffleHouses     0.0011      0.005      0.224      0.824      -0.009       0.011\n",
            "South            1.5020      0.774      1.939      0.060      -0.067       3.071\n",
            "==============================================================================\n",
            "Omnibus:                        0.147   Durbin-Watson:                   1.210\n",
            "Prob(Omnibus):                  0.929   Jarque-Bera (JB):                0.316\n",
            "Skew:                           0.115   Prob(JB):                        0.854\n",
            "Kurtosis:                       2.630   Cond. No.                         248.\n",
            "==============================================================================\n",
            "\n",
            "Warnings:\n",
            "[1] Standard Errors assume that the covariance matrix of the errors is correctly specified.\n"
          ],
          "name": "stdout"
        }
      ]
    },
    {
      "cell_type": "markdown",
      "metadata": {
        "id": "KgxVHlWrjkry"
      },
      "source": [
        "### <font color='lightblue'>Statistical confounds</font>\n",
        "\n",
        "> Statistical confounds make it hard to determine the causal nature of the patterns we find in ML model results. We need to be careful about how we explain how a model makes predictions and the causal nature of those patterns.\n",
        "\n",
        "> In the case of the whaffle houses and divorce rates, there are just more waffle houses in southern states.  South --> wafflehouses --> Divorce rates"
      ]
    },
    {
      "cell_type": "code",
      "metadata": {
        "colab": {
          "base_uri": "https://localhost:8080/",
          "height": 301
        },
        "id": "xsWU8gAgkGUo",
        "outputId": "f0891996-707b-412d-b56f-d9bafbcdd19f"
      },
      "source": [
        "sns.boxplot(data=df_waffles, x=\"South\", y=\"WaffleHouses\")"
      ],
      "execution_count": null,
      "outputs": [
        {
          "output_type": "execute_result",
          "data": {
            "text/plain": [
              "<matplotlib.axes._subplots.AxesSubplot at 0x7fe2cdb56f10>"
            ]
          },
          "metadata": {
            "tags": []
          },
          "execution_count": 31
        },
        {
          "output_type": "display_data",
          "data": {
            "image/png": "[encoded data removed]",
            "text/plain": [
              "<Figure size 432x288 with 1 Axes>"
            ]
          },
          "metadata": {
            "tags": [],
            "needs_background": "light"
          }
        }
      ]
    },
    {
      "cell_type": "markdown",
      "metadata": {
        "id": "ZZmp46mF7reu"
      },
      "source": [
        "### <font color='lightblue'>Let's see what feature importance suggests</font>"
      ]
    },
    {
      "cell_type": "markdown",
      "metadata": {
        "id": "aXmjmKWK4Bnh"
      },
      "source": [
        "<img src='http://drive.google.com/uc?export=view&id=1WC4tXGCEF-1_2LQ74gIxJAZ-GLXCwBdK' width=\"100\" align = 'left'>  "
      ]
    },
    {
      "cell_type": "code",
      "metadata": {
        "id": "r9PhBzfXO26O",
        "colab": {
          "base_uri": "https://localhost:8080/",
          "height": 175
        },
        "outputId": "3052d35a-f476-4b84-f974-c65a8b11e426"
      },
      "source": [
        "from sklearn.linear_model import LinearRegression\n",
        "from sklearn.metrics import mean_squared_error\n",
        "from sklearn.inspection import permutation_importance\n",
        "\n",
        "#split data into predictors (X) and target (y)\n",
        "X = df_waffles[['WaffleHouses', 'Population', 'Marriage', 'South']]\n",
        "y = df_waffles['Divorce']\n",
        "\n",
        "#split these data into training and testing datasets\n",
        "X_train, X_test, y_train, y_test = train_test_split(X, y, test_size=0.20)\n",
        "\n",
        "#fit linear regression\n",
        "LR1 = LinearRegression()\n",
        "LR1.fit(X_train, y_train)\n",
        "\n",
        "#model interpretation\n",
        "rel_impo = permutation_importance(LR1, X_test, y_test,n_repeats=30,random_state=0)\n",
        "pd.DataFrame({\"feature\":X_test.columns,\"importance\":rel_impo.importances_mean, \"sd\":rel_impo.importances_std})"
      ],
      "execution_count": null,
      "outputs": [
        {
          "output_type": "execute_result",
          "data": {
            "text/html": [
              "<div>\n",
              "<style scoped>\n",
              "    .dataframe tbody tr th:only-of-type {\n",
              "        vertical-align: middle;\n",
              "    }\n",
              "\n",
              "    .dataframe tbody tr th {\n",
              "        vertical-align: top;\n",
              "    }\n",
              "\n",
              "    .dataframe thead th {\n",
              "        text-align: right;\n",
              "    }\n",
              "</style>\n",
              "<table border=\"1\" class=\"dataframe\">\n",
              "  <thead>\n",
              "    <tr style=\"text-align: right;\">\n",
              "      <th></th>\n",
              "      <th>feature</th>\n",
              "      <th>importance</th>\n",
              "      <th>sd</th>\n",
              "    </tr>\n",
              "  </thead>\n",
              "  <tbody>\n",
              "    <tr>\n",
              "      <th>0</th>\n",
              "      <td>WaffleHouses</td>\n",
              "      <td>0.001474</td>\n",
              "      <td>0.026076</td>\n",
              "    </tr>\n",
              "    <tr>\n",
              "      <th>1</th>\n",
              "      <td>Population</td>\n",
              "      <td>-0.285771</td>\n",
              "      <td>0.292914</td>\n",
              "    </tr>\n",
              "    <tr>\n",
              "      <th>2</th>\n",
              "      <td>Marriage</td>\n",
              "      <td>0.112782</td>\n",
              "      <td>0.867052</td>\n",
              "    </tr>\n",
              "    <tr>\n",
              "      <th>3</th>\n",
              "      <td>South</td>\n",
              "      <td>0.216785</td>\n",
              "      <td>0.292765</td>\n",
              "    </tr>\n",
              "  </tbody>\n",
              "</table>\n",
              "</div>"
            ],
            "text/plain": [
              "        feature  importance        sd\n",
              "0  WaffleHouses    0.001474  0.026076\n",
              "1    Population   -0.285771  0.292914\n",
              "2      Marriage    0.112782  0.867052\n",
              "3         South    0.216785  0.292765"
            ]
          },
          "metadata": {
            "tags": []
          },
          "execution_count": 32
        }
      ]
    },
    {
      "cell_type": "markdown",
      "metadata": {
        "id": "NK_IenAS48i1"
      },
      "source": [
        "#### <font color='lightblue'>Bonus</font>"
      ]
    },
    {
      "cell_type": "markdown",
      "metadata": {
        "id": "9lEDh3SO4_4u"
      },
      "source": [
        "Try to run the models with alternative combinations of variables? How does the model estimate of the effect of wafflehouses on divorce change?"
      ]
    },
    {
      "cell_type": "markdown",
      "metadata": {
        "id": "md1RcfQv8iJp"
      },
      "source": [
        "### <font color='lightblue'>Let's see what feature selection suggests</font>"
      ]
    },
    {
      "cell_type": "code",
      "metadata": {
        "colab": {
          "base_uri": "https://localhost:8080/"
        },
        "id": "yp9Zr-3C80AC",
        "outputId": "afc6d02a-9f15-4bbf-b648-976db3270dd7"
      },
      "source": [
        "from sklearn.model_selection import KFold\n",
        "from sklearn.feature_selection import RFECV\n",
        "\n",
        "#split data into predictors (X) and target (y)\n",
        "X = df_waffles.drop(['Divorce','Location','Loc'], axis=1)\n",
        "y = df_waffles['Divorce']\n",
        "\n",
        "#split these data into training and testing datasets\n",
        "X_train, X_test, y_train, y_test = train_test_split(X, y, test_size=0.20)\n",
        "\n",
        "#build a linear regression (full model)\n",
        "LR1 = LinearRegression()\n",
        "\n",
        "#fit linear regression\n",
        "LR1.fit(X_train, y_train)"
      ],
      "execution_count": null,
      "outputs": [
        {
          "output_type": "execute_result",
          "data": {
            "text/plain": [
              "LinearRegression(copy_X=True, fit_intercept=True, n_jobs=None, normalize=False)"
            ]
          },
          "metadata": {
            "tags": []
          },
          "execution_count": 18
        }
      ]
    },
    {
      "cell_type": "code",
      "metadata": {
        "colab": {
          "base_uri": "https://localhost:8080/"
        },
        "id": "qLvRgura9lSE",
        "outputId": "b6da9a91-57a4-4d3d-c6a6-df15d919c45e"
      },
      "source": [
        "#min number of variables/features\n",
        "min_features_to_select = 1\n",
        "\n",
        "#build the feature selection algorithm\n",
        "rfecv = RFECV(estimator=LR1, step=1, cv=3,scoring='neg_mean_squared_error', min_features_to_select=min_features_to_select)\n",
        "\n",
        "#fit the algorithm to the data\n",
        "rfecv.fit(X_train, y_train)"
      ],
      "execution_count": null,
      "outputs": [
        {
          "output_type": "execute_result",
          "data": {
            "text/plain": [
              "RFECV(cv=3,\n",
              "      estimator=LinearRegression(copy_X=True, fit_intercept=True, n_jobs=None,\n",
              "                                 normalize=False),\n",
              "      min_features_to_select=1, n_jobs=None, scoring='neg_mean_squared_error',\n",
              "      step=1, verbose=0)"
            ]
          },
          "metadata": {
            "tags": []
          },
          "execution_count": 19
        }
      ]
    },
    {
      "cell_type": "code",
      "metadata": {
        "colab": {
          "base_uri": "https://localhost:8080/",
          "height": 297
        },
        "id": "FSObYPwA80AR",
        "outputId": "a397a73c-403b-4eeb-a083-6f611e7e349f"
      },
      "source": [
        "print(\"Optimal number of features : %d\" % rfecv.n_features_)\n",
        "\n",
        "# Plot number of features VS. cross-validation scores\n",
        "plt.figure()\n",
        "plt.xlabel(\"Number of features selected\")\n",
        "plt.ylabel(\"Cross validation score (mean square error?)\")\n",
        "plt.plot(range(min_features_to_select,\n",
        "               len(rfecv.grid_scores_) + min_features_to_select),\n",
        "         rfecv.grid_scores_)\n",
        "plt.show()"
      ],
      "execution_count": null,
      "outputs": [
        {
          "output_type": "stream",
          "text": [
            "Optimal number of features : 3\n"
          ],
          "name": "stdout"
        },
        {
          "output_type": "display_data",
          "data": {
            "image/png": "[encoded data removed]",
            "text/plain": [
              "<Figure size 432x288 with 1 Axes>"
            ]
          },
          "metadata": {
            "tags": [],
            "needs_background": "light"
          }
        }
      ]
    },
    {
      "cell_type": "code",
      "metadata": {
        "colab": {
          "base_uri": "https://localhost:8080/"
        },
        "id": "XfXCCK-q80AS",
        "outputId": "682cb500-33d3-433d-b747-5ef235a97147"
      },
      "source": [
        "rfecv.support_"
      ],
      "execution_count": null,
      "outputs": [
        {
          "output_type": "execute_result",
          "data": {
            "text/plain": [
              "array([False,  True, False,  True,  True, False, False])"
            ]
          },
          "metadata": {
            "tags": []
          },
          "execution_count": 21
        }
      ]
    },
    {
      "cell_type": "code",
      "metadata": {
        "colab": {
          "base_uri": "https://localhost:8080/",
          "height": 143
        },
        "id": "3f-RxGiU80AS",
        "outputId": "1df4f3e0-a105-4a6a-995e-10cf006327c8"
      },
      "source": [
        "X_train_reduced = X_train.iloc[:,rfecv.support_]\n",
        "\n",
        "X_train_reduced.head(3)"
      ],
      "execution_count": null,
      "outputs": [
        {
          "output_type": "execute_result",
          "data": {
            "text/html": [
              "<div>\n",
              "<style scoped>\n",
              "    .dataframe tbody tr th:only-of-type {\n",
              "        vertical-align: middle;\n",
              "    }\n",
              "\n",
              "    .dataframe tbody tr th {\n",
              "        vertical-align: top;\n",
              "    }\n",
              "\n",
              "    .dataframe thead th {\n",
              "        text-align: right;\n",
              "    }\n",
              "</style>\n",
              "<table border=\"1\" class=\"dataframe\">\n",
              "  <thead>\n",
              "    <tr style=\"text-align: right;\">\n",
              "      <th></th>\n",
              "      <th>MedianAgeMarriage</th>\n",
              "      <th>Marriage.SE</th>\n",
              "      <th>Divorce.SE</th>\n",
              "    </tr>\n",
              "  </thead>\n",
              "  <tbody>\n",
              "    <tr>\n",
              "      <th>28</th>\n",
              "      <td>26.8</td>\n",
              "      <td>1.76</td>\n",
              "      <td>1.61</td>\n",
              "    </tr>\n",
              "    <tr>\n",
              "      <th>5</th>\n",
              "      <td>25.7</td>\n",
              "      <td>1.24</td>\n",
              "      <td>0.94</td>\n",
              "    </tr>\n",
              "    <tr>\n",
              "      <th>33</th>\n",
              "      <td>25.3</td>\n",
              "      <td>2.93</td>\n",
              "      <td>1.44</td>\n",
              "    </tr>\n",
              "  </tbody>\n",
              "</table>\n",
              "</div>"
            ],
            "text/plain": [
              "    MedianAgeMarriage  Marriage.SE  Divorce.SE\n",
              "28               26.8         1.76        1.61\n",
              "5                25.7         1.24        0.94\n",
              "33               25.3         2.93        1.44"
            ]
          },
          "metadata": {
            "tags": []
          },
          "execution_count": 22
        }
      ]
    },
    {
      "cell_type": "code",
      "metadata": {
        "colab": {
          "base_uri": "https://localhost:8080/"
        },
        "id": "5E1zJmWw-Oox",
        "outputId": "48261a67-6503-4993-a46d-60faeb428a37"
      },
      "source": [
        "#get the slopes!\n",
        "rfecv.estimator_.coef_"
      ],
      "execution_count": null,
      "outputs": [
        {
          "output_type": "execute_result",
          "data": {
            "text/plain": [
              "array([-1.30811383, -1.72284465,  2.76614861])"
            ]
          },
          "metadata": {
            "tags": []
          },
          "execution_count": 23
        }
      ]
    },
    {
      "cell_type": "markdown",
      "metadata": {
        "id": "rhsmIwF-OoJU"
      },
      "source": [
        "#### <font color='lightblue'>Bonus</font>"
      ]
    },
    {
      "cell_type": "markdown",
      "metadata": {
        "id": "rTOtIGZmOqsF"
      },
      "source": [
        "Redo the exercise above this time using a more black box approach, e.g., Random Forest!"
      ]
    },
    {
      "cell_type": "code",
      "metadata": {
        "id": "YvwxByCV0gdy"
      },
      "source": [
        "from sklearn.model_selection import train_test_split\n",
        "\n",
        "#split data into predictors (X) and target (y)\n",
        "X = df_waffles[['Population','Marriage','WaffleHouses']]\n",
        "y = df_waffles['Divorce']\n",
        "\n",
        "#split these data into training and testing datasets\n",
        "X_train, X_test, y_train, y_test = train_test_split(X, y, test_size=0.20)"
      ],
      "execution_count": null,
      "outputs": []
    },
    {
      "cell_type": "markdown",
      "metadata": {
        "id": "eq8pKsUQANn2"
      },
      "source": [
        "Find optimal hyperparameters"
      ]
    },
    {
      "cell_type": "code",
      "metadata": {
        "colab": {
          "base_uri": "https://localhost:8080/"
        },
        "id": "yZOfTkuj7pb8",
        "outputId": "f14216d6-cf96-4ee4-841b-6e7629e9ae68"
      },
      "source": [
        "import numpy as np\n",
        "from sklearn.ensemble import RandomForestRegressor\n",
        "from sklearn.model_selection import GridSearchCV\n",
        "\n",
        "parameters = {'max_depth': list(range(1, 10,2)),\n",
        "              'n_estimators':list(range(50,200,50)),\n",
        "              'max_samples':[0.5,0.7,0.9,0.99]}\n",
        "\n",
        "randForest = RandomForestRegressor()\n",
        "grid_search = GridSearchCV(randForest, parameters, cv=5, n_jobs=1, scoring='neg_mean_squared_error')\n",
        "grid_search.fit(X_train, y_train)\n",
        "\n",
        "sorted(grid_search.cv_results_.keys())\n",
        "print(grid_search.best_params_)\n",
        "\n",
        "\n"
      ],
      "execution_count": null,
      "outputs": [
        {
          "output_type": "stream",
          "text": [
            "{'max_depth': 5, 'max_samples': 0.99, 'n_estimators': 100}\n"
          ],
          "name": "stdout"
        }
      ]
    },
    {
      "cell_type": "markdown",
      "metadata": {
        "id": "T4hpoy5y36Zo"
      },
      "source": [
        "Build the model with the optimal hyperparameters"
      ]
    },
    {
      "cell_type": "code",
      "metadata": {
        "id": "Dk0PgRjU35ml"
      },
      "source": [
        "#1. build the model\n",
        "RFR = RandomForestRegressor(max_depth=5,n_estimators=50,max_samples=0.5)\n",
        "\n",
        "#2. fit the model to the data\n",
        "RFR.fit(X_train, y_train)\n",
        "\n",
        "#3. make predictions using the model\n",
        "y_pred = RFR.predict(X_test)"
      ],
      "execution_count": null,
      "outputs": []
    },
    {
      "cell_type": "markdown",
      "metadata": {
        "id": "nH2WdajbATXa"
      },
      "source": [
        "How well did the model perform"
      ]
    },
    {
      "cell_type": "code",
      "metadata": {
        "colab": {
          "base_uri": "https://localhost:8080/"
        },
        "id": "r6BY7JkAE1s0",
        "outputId": "8cacd119-9c73-45e1-da12-2bc0886a4d8a"
      },
      "source": [
        "#how well does it predict\n",
        "from sklearn.metrics import mean_squared_error\n",
        "\n",
        "mean_squared_error(y_test,y_pred)"
      ],
      "execution_count": null,
      "outputs": [
        {
          "output_type": "execute_result",
          "data": {
            "text/plain": [
              "2.861558440608589"
            ]
          },
          "metadata": {
            "tags": []
          },
          "execution_count": 41
        }
      ]
    },
    {
      "cell_type": "markdown",
      "metadata": {
        "id": "Q45Wwh3ZLvxL"
      },
      "source": [
        "Explain how the model is making these predictions?"
      ]
    },
    {
      "cell_type": "code",
      "metadata": {
        "colab": {
          "base_uri": "https://localhost:8080/",
          "height": 143
        },
        "id": "WKOTXaq0FAxr",
        "outputId": "cacb0f28-5a4e-4a80-f90d-b64fab4c22b5"
      },
      "source": [
        "#What is important for prediction?\n",
        "from sklearn.inspection import permutation_importance\n",
        "\n",
        "#estimate permutation importance on the test data\n",
        "perm_impo = permutation_importance(RFR, X_test, y_test,scoring='neg_mean_squared_error',n_repeats=30)\n",
        "\n",
        "#create a dataframe with the values\n",
        "df_imp = pd.DataFrame({\"feature\":X_test.columns,\"importance\":perm_impo.importances_mean, \"sd\":perm_impo.importances_std})\n",
        "sorted(sk.metrics.SCORERS.keys())\n",
        "\n",
        "#take a look\n",
        "df_imp"
      ],
      "execution_count": null,
      "outputs": [
        {
          "output_type": "execute_result",
          "data": {
            "text/html": [
              "<div>\n",
              "<style scoped>\n",
              "    .dataframe tbody tr th:only-of-type {\n",
              "        vertical-align: middle;\n",
              "    }\n",
              "\n",
              "    .dataframe tbody tr th {\n",
              "        vertical-align: top;\n",
              "    }\n",
              "\n",
              "    .dataframe thead th {\n",
              "        text-align: right;\n",
              "    }\n",
              "</style>\n",
              "<table border=\"1\" class=\"dataframe\">\n",
              "  <thead>\n",
              "    <tr style=\"text-align: right;\">\n",
              "      <th></th>\n",
              "      <th>feature</th>\n",
              "      <th>importance</th>\n",
              "      <th>sd</th>\n",
              "    </tr>\n",
              "  </thead>\n",
              "  <tbody>\n",
              "    <tr>\n",
              "      <th>0</th>\n",
              "      <td>Population</td>\n",
              "      <td>0.358426</td>\n",
              "      <td>0.292075</td>\n",
              "    </tr>\n",
              "    <tr>\n",
              "      <th>1</th>\n",
              "      <td>Marriage</td>\n",
              "      <td>1.539061</td>\n",
              "      <td>0.902035</td>\n",
              "    </tr>\n",
              "    <tr>\n",
              "      <th>2</th>\n",
              "      <td>WaffleHouses</td>\n",
              "      <td>0.878724</td>\n",
              "      <td>0.643748</td>\n",
              "    </tr>\n",
              "  </tbody>\n",
              "</table>\n",
              "</div>"
            ],
            "text/plain": [
              "        feature  importance        sd\n",
              "0    Population    0.358426  0.292075\n",
              "1      Marriage    1.539061  0.902035\n",
              "2  WaffleHouses    0.878724  0.643748"
            ]
          },
          "metadata": {
            "tags": []
          },
          "execution_count": 44
        }
      ]
    },
    {
      "cell_type": "code",
      "metadata": {
        "colab": {
          "base_uri": "https://localhost:8080/",
          "height": 355
        },
        "id": "LgfCwJOHOx-k",
        "outputId": "4ae6bf18-20a1-4d2b-f67c-70a7372ec69f"
      },
      "source": [
        "#plot the importance values\n",
        "df_imp_all = pd.DataFrame(perm_impo.importances.transpose())\n",
        "df_imp_all.columns = X_test.columns\n",
        "df_imp_all_long = pd.melt(df_imp_all)\n",
        "sns.barplot(data=df_imp_all_long, x=\"variable\",y=\"value\", ci=95)\n",
        "plt.xticks(rotation=90) \n"
      ],
      "execution_count": null,
      "outputs": [
        {
          "output_type": "execute_result",
          "data": {
            "text/plain": [
              "(array([0, 1, 2]), <a list of 3 Text major ticklabel objects>)"
            ]
          },
          "metadata": {
            "tags": []
          },
          "execution_count": 45
        },
        {
          "output_type": "display_data",
          "data": {
            "image/png": "[encoded data removed]",
            "text/plain": [
              "<Figure size 432x288 with 1 Axes>"
            ]
          },
          "metadata": {
            "tags": [],
            "needs_background": "light"
          }
        }
      ]
    },
    {
      "cell_type": "markdown",
      "metadata": {
        "id": "I54NX306uLG2"
      },
      "source": [
        "What does the model think divorce rates will change when we vary wafflehouses?"
      ]
    },
    {
      "cell_type": "code",
      "metadata": {
        "colab": {
          "base_uri": "https://localhost:8080/",
          "height": 349
        },
        "id": "HiCvLf23uG-B",
        "outputId": "acbec70e-62ff-4d24-e358-ed681eff7947"
      },
      "source": [
        "#1. Create a dataframe\n",
        "df_question = pd.DataFrame({'Population':X_train.Population.mean(),\n",
        "                            'WaffleHouses':list(range(0,200,10)),\n",
        "                            'Marriage':X_train.Marriage.mean(),\n",
        "                            })\n",
        "                            \n",
        "\n",
        "#2. Use the model to make predictions\n",
        "question_pred =  RFR.predict(df_question)\n",
        "\n",
        "#3. add a column to the df_question\n",
        "df_question['predicted_divorceRates'] = question_pred\n",
        "\n",
        "#4. plot the predictions\n",
        "sns.scatterplot(data=df_question, x='WaffleHouses',y='predicted_divorceRates')\n",
        "question_pred"
      ],
      "execution_count": null,
      "outputs": [
        {
          "output_type": "execute_result",
          "data": {
            "text/plain": [
              "array([ 9.828     ,  9.828     , 10.95209127, 11.50665238, 11.50865238,\n",
              "       11.50865238, 11.50865238, 11.50865238, 11.50865238, 11.50865238,\n",
              "       11.50865238, 11.50865238, 11.50865238, 11.50865238, 11.50865238,\n",
              "       11.50865238, 11.50865238, 11.50865238, 11.50865238, 11.50865238])"
            ]
          },
          "metadata": {
            "tags": []
          },
          "execution_count": 47
        },
        {
          "output_type": "display_data",
          "data": {
            "image/png": "[encoded data removed]",
            "text/plain": [
              "<Figure size 432x288 with 1 Axes>"
            ]
          },
          "metadata": {
            "tags": [],
            "needs_background": "light"
          }
        }
      ]
    },
    {
      "cell_type": "markdown",
      "metadata": {
        "id": "C0tUHgMi6FI7"
      },
      "source": [
        "In my case, the random forest model has found a positive association between wafflehouses and divorce rates!"
      ]
    },
    {
      "cell_type": "markdown",
      "metadata": {
        "id": "Ck4ogI1vLzGX"
      },
      "source": [
        "### Repeat the analysis but this time add in the variable 'South'\n"
      ]
    },
    {
      "cell_type": "markdown",
      "metadata": {
        "id": "6VCJDhfML9xb"
      },
      "source": [
        "Data wrangling"
      ]
    },
    {
      "cell_type": "code",
      "metadata": {
        "id": "tYdP7aH5L3yS"
      },
      "source": [
        "#split data into predictors (X) and target (y)\n",
        "X = df_waffles[['Population','Marriage','WaffleHouses','South']]\n",
        "y = df_waffles['Divorce']\n",
        "\n",
        "\n",
        "#split these data into training and testing datasets\n",
        "X_train, X_test, y_train, y_test = train_test_split(X, y, test_size=0.20)"
      ],
      "execution_count": null,
      "outputs": []
    },
    {
      "cell_type": "markdown",
      "metadata": {
        "id": "eHZqGKK4MEJb"
      },
      "source": [
        "Build the model"
      ]
    },
    {
      "cell_type": "code",
      "metadata": {
        "colab": {
          "base_uri": "https://localhost:8080/"
        },
        "id": "lUAwAPM9MDsp",
        "outputId": "95e31175-9427-426d-b9cd-758c5550da3f"
      },
      "source": [
        "RFR2 = RandomForestRegressor(max_depth=5,n_estimators=50,max_samples=0.5)\n",
        "RFR2.fit(X_train, y_train)"
      ],
      "execution_count": null,
      "outputs": [
        {
          "output_type": "execute_result",
          "data": {
            "text/plain": [
              "RandomForestRegressor(bootstrap=True, ccp_alpha=0.0, criterion='mse',\n",
              "                      max_depth=5, max_features='auto', max_leaf_nodes=None,\n",
              "                      max_samples=0.5, min_impurity_decrease=0.0,\n",
              "                      min_impurity_split=None, min_samples_leaf=1,\n",
              "                      min_samples_split=2, min_weight_fraction_leaf=0.0,\n",
              "                      n_estimators=50, n_jobs=None, oob_score=False,\n",
              "                      random_state=None, verbose=0, warm_start=False)"
            ]
          },
          "metadata": {
            "tags": []
          },
          "execution_count": 49
        }
      ]
    },
    {
      "cell_type": "markdown",
      "metadata": {
        "id": "bDMKUha5W2VV"
      },
      "source": [
        "Make predictions "
      ]
    },
    {
      "cell_type": "code",
      "metadata": {
        "colab": {
          "base_uri": "https://localhost:8080/"
        },
        "id": "Ilmul8EaW49y",
        "outputId": "34a39a11-9ee3-409a-b97e-20f17c4fb0ef"
      },
      "source": [
        "mean_squared_error(RFR2.predict(X_test), y_test)"
      ],
      "execution_count": null,
      "outputs": [
        {
          "output_type": "execute_result",
          "data": {
            "text/plain": [
              "2.3490485825328804"
            ]
          },
          "metadata": {
            "tags": []
          },
          "execution_count": 50
        }
      ]
    },
    {
      "cell_type": "code",
      "metadata": {
        "colab": {
          "base_uri": "https://localhost:8080/",
          "height": 175
        },
        "id": "BZWlb2KQMJYH",
        "outputId": "67f43f0b-813e-4a94-9861-bf2570424b5c"
      },
      "source": [
        "rel_impo2 = permutation_importance(RFR2, X_test, y_test,n_repeats=30,random_state=0)\n",
        "\n",
        "pd.DataFrame({\"feature\":X_test.columns,\"importance\":rel_impo2.importances_mean, \"sd\":rel_impo2.importances_std})"
      ],
      "execution_count": null,
      "outputs": [
        {
          "output_type": "execute_result",
          "data": {
            "text/html": [
              "<div>\n",
              "<style scoped>\n",
              "    .dataframe tbody tr th:only-of-type {\n",
              "        vertical-align: middle;\n",
              "    }\n",
              "\n",
              "    .dataframe tbody tr th {\n",
              "        vertical-align: top;\n",
              "    }\n",
              "\n",
              "    .dataframe thead th {\n",
              "        text-align: right;\n",
              "    }\n",
              "</style>\n",
              "<table border=\"1\" class=\"dataframe\">\n",
              "  <thead>\n",
              "    <tr style=\"text-align: right;\">\n",
              "      <th></th>\n",
              "      <th>feature</th>\n",
              "      <th>importance</th>\n",
              "      <th>sd</th>\n",
              "    </tr>\n",
              "  </thead>\n",
              "  <tbody>\n",
              "    <tr>\n",
              "      <th>0</th>\n",
              "      <td>Population</td>\n",
              "      <td>-0.014684</td>\n",
              "      <td>0.099183</td>\n",
              "    </tr>\n",
              "    <tr>\n",
              "      <th>1</th>\n",
              "      <td>Marriage</td>\n",
              "      <td>0.431683</td>\n",
              "      <td>0.246602</td>\n",
              "    </tr>\n",
              "    <tr>\n",
              "      <th>2</th>\n",
              "      <td>WaffleHouses</td>\n",
              "      <td>-0.122132</td>\n",
              "      <td>0.270624</td>\n",
              "    </tr>\n",
              "    <tr>\n",
              "      <th>3</th>\n",
              "      <td>South</td>\n",
              "      <td>-0.066082</td>\n",
              "      <td>0.031657</td>\n",
              "    </tr>\n",
              "  </tbody>\n",
              "</table>\n",
              "</div>"
            ],
            "text/plain": [
              "        feature  importance        sd\n",
              "0    Population   -0.014684  0.099183\n",
              "1      Marriage    0.431683  0.246602\n",
              "2  WaffleHouses   -0.122132  0.270624\n",
              "3         South   -0.066082  0.031657"
            ]
          },
          "metadata": {
            "tags": []
          },
          "execution_count": 51
        }
      ]
    },
    {
      "cell_type": "code",
      "metadata": {
        "colab": {
          "base_uri": "https://localhost:8080/",
          "height": 355
        },
        "id": "HeKVNhuFWN1D",
        "outputId": "9af2f0a2-30a0-42a2-ca8a-86d4a187149b"
      },
      "source": [
        "df_imp_all = pd.DataFrame(rel_impo2.importances.transpose())\n",
        "df_imp_all.columns = X_test.columns\n",
        "df_imp_all_long = pd.melt(df_imp_all)\n",
        "sns.barplot(data=df_imp_all_long, x=\"variable\",y=\"value\", ci=95)\n",
        "plt.xticks(rotation=90)\n"
      ],
      "execution_count": null,
      "outputs": [
        {
          "output_type": "execute_result",
          "data": {
            "text/plain": [
              "(array([0, 1, 2, 3]), <a list of 4 Text major ticklabel objects>)"
            ]
          },
          "metadata": {
            "tags": []
          },
          "execution_count": 52
        },
        {
          "output_type": "display_data",
          "data": {
            "image/png": "[encoded data removed]",
            "text/plain": [
              "<Figure size 432x288 with 1 Axes>"
            ]
          },
          "metadata": {
            "tags": [],
            "needs_background": "light"
          }
        }
      ]
    },
    {
      "cell_type": "markdown",
      "metadata": {
        "id": "_iGIZB1cw5Nr"
      },
      "source": [
        "What does the model think divorce rates will change when we vary wafflehouses?"
      ]
    },
    {
      "cell_type": "code",
      "metadata": {
        "colab": {
          "base_uri": "https://localhost:8080/",
          "height": 349
        },
        "id": "N9Unq7r3w5N7",
        "outputId": "3e04a649-35ec-465c-de81-ae0f15875c17"
      },
      "source": [
        "#1. Create a dataframe\n",
        "df_question = pd.DataFrame({'Population':X_train.Population.mean(),\n",
        "                            'WaffleHouses':list(range(0,200,10)),\n",
        "                            'Marriage':X_train.Marriage.mean(),\n",
        "                            'South':1\n",
        "                            })\n",
        "                            \n",
        "\n",
        "#2. Use the model to make predictions\n",
        "question_pred =  RFR2.predict(df_question)\n",
        "\n",
        "#3. add a column to the df_question\n",
        "df_question['predicted_divorceRates'] = question_pred\n",
        "\n",
        "#4. plot the predictions\n",
        "sns.scatterplot(data=df_question, x='WaffleHouses',y='predicted_divorceRates')\n",
        "question_pred"
      ],
      "execution_count": null,
      "outputs": [
        {
          "output_type": "execute_result",
          "data": {
            "text/plain": [
              "array([10.04433333, 10.04433333, 10.68667857, 11.44525   , 11.44925   ,\n",
              "       11.44925   , 11.44925   , 11.44925   , 11.44925   , 11.44925   ,\n",
              "       11.44925   , 11.44925   , 11.44925   , 11.44925   , 11.44925   ,\n",
              "       11.44925   , 11.44925   , 11.44925   , 11.44925   , 11.44925   ])"
            ]
          },
          "metadata": {
            "tags": []
          },
          "execution_count": 53
        },
        {
          "output_type": "display_data",
          "data": {
            "image/png": "[encoded data removed]",
            "text/plain": [
              "<Figure size 432x288 with 1 Axes>"
            ]
          },
          "metadata": {
            "tags": [],
            "needs_background": "light"
          }
        }
      ]
    },
    {
      "cell_type": "markdown",
      "metadata": {
        "id": "DtOvUZNZw5N7"
      },
      "source": [
        "In this case, the random forest model has still found a positive association between wafflehouses and divorce rates!"
      ]
    }
  ]
}