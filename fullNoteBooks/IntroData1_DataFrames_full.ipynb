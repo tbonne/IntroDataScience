{
  "nbformat": 4,
  "nbformat_minor": 0,
  "metadata": {
    "colab": {
      "name": "IntroData1_DataFrames_full.ipynb",
      "provenance": [],
      "collapsed_sections": [],
      "mount_file_id": "1BYqTV-rYD0cCvjBxN8CWpAkmb8pvXsj8",
      "authorship_tag": "ABX9TyMmb+AErHAKfZFV3wkSeqCZ",
      "include_colab_link": true
    },
    "kernelspec": {
      "name": "python3",
      "display_name": "Python 3"
    }
  },
  "cells": [
    {
      "cell_type": "markdown",
      "metadata": {
        "id": "view-in-github",
        "colab_type": "text"
      },
      "source": [
        "<a href=\"https://colab.research.google.com/github/tbonne/IntroDataScience/blob/main/fullNoteBooks/IntroData1_DataFrames_full.ipynb\" target=\"_parent\"><img src=\"https://colab.research.google.com/assets/colab-badge.svg\" alt=\"Open In Colab\"/></a>"
      ]
    },
    {
      "cell_type": "markdown",
      "metadata": {
        "id": "RiUBgnB1ZciE"
      },
      "source": [
        "<img src='http://drive.google.com/uc?export=view&id=1RkQNovXbpa5a43mEAIpdWlL_ungUN-8j' width=\"300\" align = 'left'>  "
      ]
    },
    {
      "cell_type": "markdown",
      "metadata": {
        "id": "3rLULDui-b6N"
      },
      "source": [
        "# <font color='lightblue'>Introduction to DataFrames</font>\n",
        "\n",
        "In this exercise we will introduce **dataframes** which are objects in python that we will work a lot with in this class. These **dataframes** will be how we work with data, and get the data ready for visualizing and modeling."
      ]
    },
    {
      "cell_type": "markdown",
      "metadata": {
        "id": "cjwdUlMlJyUD"
      },
      "source": [
        "Outline:\n",
        "\n",
        "\n",
        "*   Creating dataframes\n",
        "*   Selecting from DataFrames\n",
        "*   Creating new columns\n",
        "*   Filtering rows\n",
        "*   DataFrame functions\n",
        "\n"
      ]
    },
    {
      "cell_type": "markdown",
      "metadata": {
        "id": "Muqa6CAM-2aw"
      },
      "source": [
        "We'll be using the **Pandas** library to do most of this work. Let's take a look at how to create and modify dataframes using **Pandas**! "
      ]
    },
    {
      "cell_type": "markdown",
      "metadata": {
        "id": "xE8bwZnCNdfS"
      },
      "source": [
        "# <font color='lightblue'>Creating DataFrames</font>"
      ]
    },
    {
      "cell_type": "code",
      "metadata": {
        "id": "9kGezV0PzwkU"
      },
      "source": [
        "#import python libraries that we will use\n",
        "import numpy as np\n",
        "import pandas as pd"
      ],
      "execution_count": null,
      "outputs": []
    },
    {
      "cell_type": "markdown",
      "metadata": {
        "id": "0MCymSuFGaD0"
      },
      "source": [
        "Create a dataframe from scratch"
      ]
    },
    {
      "cell_type": "code",
      "metadata": {
        "id": "irF1XgaENSYc",
        "colab": {
          "base_uri": "https://localhost:8080/",
          "height": 175
        },
        "outputId": "ee13e92e-e918-4d98-e958-664016e56bcf"
      },
      "source": [
        "\n",
        "## create a dictionary\n",
        "d = {'A':[1,2,3,4], 'B':[5,6,7,8] }\n",
        "\n",
        "## convert the dictionary to a dataframe\n",
        "df_test = pd.DataFrame(data=d)\n",
        "\n",
        "#take a look at the dataframe\n",
        "df_test\n"
      ],
      "execution_count": null,
      "outputs": [
        {
          "output_type": "execute_result",
          "data": {
            "text/html": [
              "<div>\n",
              "<style scoped>\n",
              "    .dataframe tbody tr th:only-of-type {\n",
              "        vertical-align: middle;\n",
              "    }\n",
              "\n",
              "    .dataframe tbody tr th {\n",
              "        vertical-align: top;\n",
              "    }\n",
              "\n",
              "    .dataframe thead th {\n",
              "        text-align: right;\n",
              "    }\n",
              "</style>\n",
              "<table border=\"1\" class=\"dataframe\">\n",
              "  <thead>\n",
              "    <tr style=\"text-align: right;\">\n",
              "      <th></th>\n",
              "      <th>A</th>\n",
              "      <th>B</th>\n",
              "    </tr>\n",
              "  </thead>\n",
              "  <tbody>\n",
              "    <tr>\n",
              "      <th>0</th>\n",
              "      <td>1</td>\n",
              "      <td>5</td>\n",
              "    </tr>\n",
              "    <tr>\n",
              "      <th>1</th>\n",
              "      <td>2</td>\n",
              "      <td>6</td>\n",
              "    </tr>\n",
              "    <tr>\n",
              "      <th>2</th>\n",
              "      <td>3</td>\n",
              "      <td>7</td>\n",
              "    </tr>\n",
              "    <tr>\n",
              "      <th>3</th>\n",
              "      <td>4</td>\n",
              "      <td>8</td>\n",
              "    </tr>\n",
              "  </tbody>\n",
              "</table>\n",
              "</div>"
            ],
            "text/plain": [
              "   A  B\n",
              "0  1  5\n",
              "1  2  6\n",
              "2  3  7\n",
              "3  4  8"
            ]
          },
          "metadata": {
            "tags": []
          },
          "execution_count": 12
        }
      ]
    },
    {
      "cell_type": "markdown",
      "metadata": {
        "id": "OFshOnrNI2wh"
      },
      "source": [
        "Add a column to the data frame"
      ]
    },
    {
      "cell_type": "code",
      "metadata": {
        "id": "yxfMzpAsI3GH",
        "colab": {
          "base_uri": "https://localhost:8080/",
          "height": 175
        },
        "outputId": "72ec2188-ff00-418c-cfd2-82ca68f3c60c"
      },
      "source": [
        "#add list of names\n",
        "df_test['ID'] = ['Steve','Sarojini','Emil','Sarah']\n",
        "\n",
        "#add country\n",
        "df_test['country'] = 'Canada'\n",
        "\n",
        "#take a look (notice how it filled in the country!)\n",
        "df_test\n"
      ],
      "execution_count": null,
      "outputs": [
        {
          "output_type": "execute_result",
          "data": {
            "text/html": [
              "<div>\n",
              "<style scoped>\n",
              "    .dataframe tbody tr th:only-of-type {\n",
              "        vertical-align: middle;\n",
              "    }\n",
              "\n",
              "    .dataframe tbody tr th {\n",
              "        vertical-align: top;\n",
              "    }\n",
              "\n",
              "    .dataframe thead th {\n",
              "        text-align: right;\n",
              "    }\n",
              "</style>\n",
              "<table border=\"1\" class=\"dataframe\">\n",
              "  <thead>\n",
              "    <tr style=\"text-align: right;\">\n",
              "      <th></th>\n",
              "      <th>A</th>\n",
              "      <th>B</th>\n",
              "      <th>ID</th>\n",
              "      <th>country</th>\n",
              "    </tr>\n",
              "  </thead>\n",
              "  <tbody>\n",
              "    <tr>\n",
              "      <th>0</th>\n",
              "      <td>1</td>\n",
              "      <td>5</td>\n",
              "      <td>Steve</td>\n",
              "      <td>Canada</td>\n",
              "    </tr>\n",
              "    <tr>\n",
              "      <th>1</th>\n",
              "      <td>2</td>\n",
              "      <td>6</td>\n",
              "      <td>Sarojini</td>\n",
              "      <td>Canada</td>\n",
              "    </tr>\n",
              "    <tr>\n",
              "      <th>2</th>\n",
              "      <td>3</td>\n",
              "      <td>7</td>\n",
              "      <td>Emil</td>\n",
              "      <td>Canada</td>\n",
              "    </tr>\n",
              "    <tr>\n",
              "      <th>3</th>\n",
              "      <td>4</td>\n",
              "      <td>8</td>\n",
              "      <td>Sarah</td>\n",
              "      <td>Canada</td>\n",
              "    </tr>\n",
              "  </tbody>\n",
              "</table>\n",
              "</div>"
            ],
            "text/plain": [
              "   A  B        ID country\n",
              "0  1  5     Steve  Canada\n",
              "1  2  6  Sarojini  Canada\n",
              "2  3  7      Emil  Canada\n",
              "3  4  8     Sarah  Canada"
            ]
          },
          "metadata": {
            "tags": []
          },
          "execution_count": 13
        }
      ]
    },
    {
      "cell_type": "markdown",
      "metadata": {
        "id": "HJCQPHlqtsB0"
      },
      "source": [
        "All dataframes also have an index, which keeps track of what data is in each row/column."
      ]
    },
    {
      "cell_type": "code",
      "metadata": {
        "id": "ldXk8lNvtsOK",
        "colab": {
          "base_uri": "https://localhost:8080/"
        },
        "outputId": "afdb2ae2-b1a1-4606-e445-4a6e8818d5ec"
      },
      "source": [
        "#index of the rows\n",
        "df_test.index"
      ],
      "execution_count": null,
      "outputs": [
        {
          "output_type": "execute_result",
          "data": {
            "text/plain": [
              "RangeIndex(start=0, stop=4, step=1)"
            ]
          },
          "metadata": {
            "tags": []
          },
          "execution_count": 14
        }
      ]
    },
    {
      "cell_type": "code",
      "metadata": {
        "id": "2piZzMk_uFEh",
        "colab": {
          "base_uri": "https://localhost:8080/"
        },
        "outputId": "55fa51cb-a63e-433d-a9cd-ea82a500136d"
      },
      "source": [
        "#index of the columns\n",
        "df_test.columns"
      ],
      "execution_count": null,
      "outputs": [
        {
          "output_type": "execute_result",
          "data": {
            "text/plain": [
              "Index(['A', 'B', 'ID', 'country'], dtype='object')"
            ]
          },
          "metadata": {
            "tags": []
          },
          "execution_count": 15
        }
      ]
    },
    {
      "cell_type": "markdown",
      "metadata": {
        "id": "X7PiujKcuPUC"
      },
      "source": [
        "## <font color='lightblue'>Selecting from a Dataframe</font>"
      ]
    },
    {
      "cell_type": "code",
      "metadata": {
        "id": "cngjJPg0XL4y",
        "colab": {
          "base_uri": "https://localhost:8080/",
          "height": 175
        },
        "outputId": "343c841b-9388-4746-f7ed-b27c5cf279d2"
      },
      "source": [
        "#take a look at the full dataframe\n",
        "df_test"
      ],
      "execution_count": null,
      "outputs": [
        {
          "output_type": "execute_result",
          "data": {
            "text/html": [
              "<div>\n",
              "<style scoped>\n",
              "    .dataframe tbody tr th:only-of-type {\n",
              "        vertical-align: middle;\n",
              "    }\n",
              "\n",
              "    .dataframe tbody tr th {\n",
              "        vertical-align: top;\n",
              "    }\n",
              "\n",
              "    .dataframe thead th {\n",
              "        text-align: right;\n",
              "    }\n",
              "</style>\n",
              "<table border=\"1\" class=\"dataframe\">\n",
              "  <thead>\n",
              "    <tr style=\"text-align: right;\">\n",
              "      <th></th>\n",
              "      <th>A</th>\n",
              "      <th>B</th>\n",
              "      <th>ID</th>\n",
              "      <th>country</th>\n",
              "    </tr>\n",
              "  </thead>\n",
              "  <tbody>\n",
              "    <tr>\n",
              "      <th>0</th>\n",
              "      <td>1</td>\n",
              "      <td>5</td>\n",
              "      <td>Steve</td>\n",
              "      <td>Canada</td>\n",
              "    </tr>\n",
              "    <tr>\n",
              "      <th>1</th>\n",
              "      <td>2</td>\n",
              "      <td>6</td>\n",
              "      <td>Sarojini</td>\n",
              "      <td>Canada</td>\n",
              "    </tr>\n",
              "    <tr>\n",
              "      <th>2</th>\n",
              "      <td>3</td>\n",
              "      <td>7</td>\n",
              "      <td>Emil</td>\n",
              "      <td>Canada</td>\n",
              "    </tr>\n",
              "    <tr>\n",
              "      <th>3</th>\n",
              "      <td>4</td>\n",
              "      <td>8</td>\n",
              "      <td>Sarah</td>\n",
              "      <td>Canada</td>\n",
              "    </tr>\n",
              "  </tbody>\n",
              "</table>\n",
              "</div>"
            ],
            "text/plain": [
              "   A  B        ID country\n",
              "0  1  5     Steve  Canada\n",
              "1  2  6  Sarojini  Canada\n",
              "2  3  7      Emil  Canada\n",
              "3  4  8     Sarah  Canada"
            ]
          },
          "metadata": {
            "tags": []
          },
          "execution_count": 16
        }
      ]
    },
    {
      "cell_type": "code",
      "metadata": {
        "id": "g1vB62vWuSOT",
        "colab": {
          "base_uri": "https://localhost:8080/"
        },
        "outputId": "cf29fe83-2f88-43d7-95e2-6e6dd669b64b"
      },
      "source": [
        "#grab the A column\n",
        "df_test['A']"
      ],
      "execution_count": null,
      "outputs": [
        {
          "output_type": "execute_result",
          "data": {
            "text/plain": [
              "0    1\n",
              "1    2\n",
              "2    3\n",
              "3    4\n",
              "Name: A, dtype: int64"
            ]
          },
          "metadata": {
            "tags": []
          },
          "execution_count": 17
        }
      ]
    },
    {
      "cell_type": "code",
      "metadata": {
        "id": "_OB1fdVx0gah",
        "colab": {
          "base_uri": "https://localhost:8080/"
        },
        "outputId": "2d9c5d38-25a5-4105-8cec-857588d3eedb"
      },
      "source": [
        "#or similarly grab the A column\n",
        "df_test.A"
      ],
      "execution_count": null,
      "outputs": [
        {
          "output_type": "execute_result",
          "data": {
            "text/plain": [
              "0    1\n",
              "1    2\n",
              "2    3\n",
              "3    4\n",
              "Name: A, dtype: int64"
            ]
          },
          "metadata": {
            "tags": []
          },
          "execution_count": 18
        }
      ]
    },
    {
      "cell_type": "code",
      "metadata": {
        "id": "-JEUpTVPuYVA",
        "colab": {
          "base_uri": "https://localhost:8080/",
          "height": 143
        },
        "outputId": "8c8719d5-cb4e-4163-c7e3-b087cdae0863"
      },
      "source": [
        "#grab the first three rows\n",
        "df_test[0:3]"
      ],
      "execution_count": null,
      "outputs": [
        {
          "output_type": "execute_result",
          "data": {
            "text/html": [
              "<div>\n",
              "<style scoped>\n",
              "    .dataframe tbody tr th:only-of-type {\n",
              "        vertical-align: middle;\n",
              "    }\n",
              "\n",
              "    .dataframe tbody tr th {\n",
              "        vertical-align: top;\n",
              "    }\n",
              "\n",
              "    .dataframe thead th {\n",
              "        text-align: right;\n",
              "    }\n",
              "</style>\n",
              "<table border=\"1\" class=\"dataframe\">\n",
              "  <thead>\n",
              "    <tr style=\"text-align: right;\">\n",
              "      <th></th>\n",
              "      <th>A</th>\n",
              "      <th>B</th>\n",
              "      <th>ID</th>\n",
              "      <th>country</th>\n",
              "    </tr>\n",
              "  </thead>\n",
              "  <tbody>\n",
              "    <tr>\n",
              "      <th>0</th>\n",
              "      <td>1</td>\n",
              "      <td>5</td>\n",
              "      <td>Steve</td>\n",
              "      <td>Canada</td>\n",
              "    </tr>\n",
              "    <tr>\n",
              "      <th>1</th>\n",
              "      <td>2</td>\n",
              "      <td>6</td>\n",
              "      <td>Sarojini</td>\n",
              "      <td>Canada</td>\n",
              "    </tr>\n",
              "    <tr>\n",
              "      <th>2</th>\n",
              "      <td>3</td>\n",
              "      <td>7</td>\n",
              "      <td>Emil</td>\n",
              "      <td>Canada</td>\n",
              "    </tr>\n",
              "  </tbody>\n",
              "</table>\n",
              "</div>"
            ],
            "text/plain": [
              "   A  B        ID country\n",
              "0  1  5     Steve  Canada\n",
              "1  2  6  Sarojini  Canada\n",
              "2  3  7      Emil  Canada"
            ]
          },
          "metadata": {
            "tags": []
          },
          "execution_count": 19
        }
      ]
    },
    {
      "cell_type": "markdown",
      "metadata": {
        "id": "ArTxNCL0um2u"
      },
      "source": [
        "It is also possible to select by slicing similar to the numpy array! \n",
        "> Here we use the method **loc** with square brackets to select rows and columns \n",
        "[rows , columns] with the similar slicing [start:stop:steps]. The **loc** method uses the index and the column names of the dataframe.\n",
        "\n",
        "Below we take the first three rows and only the A and B columns:"
      ]
    },
    {
      "cell_type": "code",
      "metadata": {
        "id": "r72GQqs3umLB",
        "colab": {
          "base_uri": "https://localhost:8080/",
          "height": 143
        },
        "outputId": "6cea4812-a7f5-48d3-a4bd-192156044793"
      },
      "source": [
        "#first three rows and the A and B columns\n",
        "df_test.loc[ 0:2 , [\"A\",\"B\"] ]"
      ],
      "execution_count": null,
      "outputs": [
        {
          "output_type": "execute_result",
          "data": {
            "text/html": [
              "<div>\n",
              "<style scoped>\n",
              "    .dataframe tbody tr th:only-of-type {\n",
              "        vertical-align: middle;\n",
              "    }\n",
              "\n",
              "    .dataframe tbody tr th {\n",
              "        vertical-align: top;\n",
              "    }\n",
              "\n",
              "    .dataframe thead th {\n",
              "        text-align: right;\n",
              "    }\n",
              "</style>\n",
              "<table border=\"1\" class=\"dataframe\">\n",
              "  <thead>\n",
              "    <tr style=\"text-align: right;\">\n",
              "      <th></th>\n",
              "      <th>A</th>\n",
              "      <th>B</th>\n",
              "    </tr>\n",
              "  </thead>\n",
              "  <tbody>\n",
              "    <tr>\n",
              "      <th>0</th>\n",
              "      <td>1</td>\n",
              "      <td>5</td>\n",
              "    </tr>\n",
              "    <tr>\n",
              "      <th>1</th>\n",
              "      <td>2</td>\n",
              "      <td>6</td>\n",
              "    </tr>\n",
              "    <tr>\n",
              "      <th>2</th>\n",
              "      <td>3</td>\n",
              "      <td>7</td>\n",
              "    </tr>\n",
              "  </tbody>\n",
              "</table>\n",
              "</div>"
            ],
            "text/plain": [
              "   A  B\n",
              "0  1  5\n",
              "1  2  6\n",
              "2  3  7"
            ]
          },
          "metadata": {
            "tags": []
          },
          "execution_count": 20
        }
      ]
    },
    {
      "cell_type": "markdown",
      "metadata": {
        "id": "zSqMuXRE1ckh"
      },
      "source": [
        "<img src='http://drive.google.com/uc?export=view&id=1WC4tXGCEF-1_2LQ74gIxJAZ-GLXCwBdK' width=\"100\" align = 'left'>  \n",
        "<br>\n",
        "<br>\n",
        "<br>\n",
        "Let's try out what you've learnt. Try and select the ID and Country columns and only the third row:"
      ]
    },
    {
      "cell_type": "code",
      "metadata": {
        "id": "w4BAU1eY55Xc",
        "colab": {
          "base_uri": "https://localhost:8080/"
        },
        "outputId": "3a13e7cc-fc51-4672-c034-e5ebf7b0982c"
      },
      "source": [
        "#ID and country columns, and the third row\n",
        "df_test.loc[2,['ID','country']]\n"
      ],
      "execution_count": null,
      "outputs": [
        {
          "output_type": "execute_result",
          "data": {
            "text/plain": [
              "ID           Emil\n",
              "country    Canada\n",
              "Name: 2, dtype: object"
            ]
          },
          "metadata": {
            "tags": []
          },
          "execution_count": 21
        }
      ]
    },
    {
      "cell_type": "markdown",
      "metadata": {
        "id": "Zdno5mpBv97x"
      },
      "source": [
        "## <font color='lightblue'>Selecting from a Dataframe: using positions</font>"
      ]
    },
    {
      "cell_type": "code",
      "metadata": {
        "id": "K_zBDBYehPS1",
        "colab": {
          "base_uri": "https://localhost:8080/",
          "height": 175
        },
        "outputId": "bf693dc8-c980-46f5-9f2c-06236871a82b"
      },
      "source": [
        "#full dataframe\n",
        "df_test"
      ],
      "execution_count": null,
      "outputs": [
        {
          "output_type": "execute_result",
          "data": {
            "text/html": [
              "<div>\n",
              "<style scoped>\n",
              "    .dataframe tbody tr th:only-of-type {\n",
              "        vertical-align: middle;\n",
              "    }\n",
              "\n",
              "    .dataframe tbody tr th {\n",
              "        vertical-align: top;\n",
              "    }\n",
              "\n",
              "    .dataframe thead th {\n",
              "        text-align: right;\n",
              "    }\n",
              "</style>\n",
              "<table border=\"1\" class=\"dataframe\">\n",
              "  <thead>\n",
              "    <tr style=\"text-align: right;\">\n",
              "      <th></th>\n",
              "      <th>A</th>\n",
              "      <th>B</th>\n",
              "      <th>ID</th>\n",
              "      <th>country</th>\n",
              "    </tr>\n",
              "  </thead>\n",
              "  <tbody>\n",
              "    <tr>\n",
              "      <th>0</th>\n",
              "      <td>1</td>\n",
              "      <td>5</td>\n",
              "      <td>Steve</td>\n",
              "      <td>Canada</td>\n",
              "    </tr>\n",
              "    <tr>\n",
              "      <th>1</th>\n",
              "      <td>2</td>\n",
              "      <td>6</td>\n",
              "      <td>Sarojini</td>\n",
              "      <td>Canada</td>\n",
              "    </tr>\n",
              "    <tr>\n",
              "      <th>2</th>\n",
              "      <td>3</td>\n",
              "      <td>7</td>\n",
              "      <td>Emil</td>\n",
              "      <td>Canada</td>\n",
              "    </tr>\n",
              "    <tr>\n",
              "      <th>3</th>\n",
              "      <td>4</td>\n",
              "      <td>8</td>\n",
              "      <td>Sarah</td>\n",
              "      <td>Canada</td>\n",
              "    </tr>\n",
              "  </tbody>\n",
              "</table>\n",
              "</div>"
            ],
            "text/plain": [
              "   A  B        ID country\n",
              "0  1  5     Steve  Canada\n",
              "1  2  6  Sarojini  Canada\n",
              "2  3  7      Emil  Canada\n",
              "3  4  8     Sarah  Canada"
            ]
          },
          "metadata": {
            "tags": []
          },
          "execution_count": 22
        }
      ]
    },
    {
      "cell_type": "code",
      "metadata": {
        "id": "xNqlx196wA9p",
        "colab": {
          "base_uri": "https://localhost:8080/",
          "height": 143
        },
        "outputId": "b63ad47f-a5cd-4ce8-bdf1-18af00de58a7"
      },
      "source": [
        "#first three rows and the second and thrid columns - using :\n",
        "df_test.iloc[0:3,1:3]"
      ],
      "execution_count": null,
      "outputs": [
        {
          "output_type": "execute_result",
          "data": {
            "text/html": [
              "<div>\n",
              "<style scoped>\n",
              "    .dataframe tbody tr th:only-of-type {\n",
              "        vertical-align: middle;\n",
              "    }\n",
              "\n",
              "    .dataframe tbody tr th {\n",
              "        vertical-align: top;\n",
              "    }\n",
              "\n",
              "    .dataframe thead th {\n",
              "        text-align: right;\n",
              "    }\n",
              "</style>\n",
              "<table border=\"1\" class=\"dataframe\">\n",
              "  <thead>\n",
              "    <tr style=\"text-align: right;\">\n",
              "      <th></th>\n",
              "      <th>B</th>\n",
              "      <th>ID</th>\n",
              "    </tr>\n",
              "  </thead>\n",
              "  <tbody>\n",
              "    <tr>\n",
              "      <th>0</th>\n",
              "      <td>5</td>\n",
              "      <td>Steve</td>\n",
              "    </tr>\n",
              "    <tr>\n",
              "      <th>1</th>\n",
              "      <td>6</td>\n",
              "      <td>Sarojini</td>\n",
              "    </tr>\n",
              "    <tr>\n",
              "      <th>2</th>\n",
              "      <td>7</td>\n",
              "      <td>Emil</td>\n",
              "    </tr>\n",
              "  </tbody>\n",
              "</table>\n",
              "</div>"
            ],
            "text/plain": [
              "   B        ID\n",
              "0  5     Steve\n",
              "1  6  Sarojini\n",
              "2  7      Emil"
            ]
          },
          "metadata": {
            "tags": []
          },
          "execution_count": 23
        }
      ]
    },
    {
      "cell_type": "code",
      "metadata": {
        "id": "VjGSgaMYw9Nf",
        "colab": {
          "base_uri": "https://localhost:8080/",
          "height": 112
        },
        "outputId": "1a7b47e5-d474-4f4b-f449-5490a9545524"
      },
      "source": [
        "#second, and fourth rows, and second and fourth columns - using lists\n",
        "df_test.iloc[ [1,3] , [1,3] ]"
      ],
      "execution_count": null,
      "outputs": [
        {
          "output_type": "execute_result",
          "data": {
            "text/html": [
              "<div>\n",
              "<style scoped>\n",
              "    .dataframe tbody tr th:only-of-type {\n",
              "        vertical-align: middle;\n",
              "    }\n",
              "\n",
              "    .dataframe tbody tr th {\n",
              "        vertical-align: top;\n",
              "    }\n",
              "\n",
              "    .dataframe thead th {\n",
              "        text-align: right;\n",
              "    }\n",
              "</style>\n",
              "<table border=\"1\" class=\"dataframe\">\n",
              "  <thead>\n",
              "    <tr style=\"text-align: right;\">\n",
              "      <th></th>\n",
              "      <th>B</th>\n",
              "      <th>country</th>\n",
              "    </tr>\n",
              "  </thead>\n",
              "  <tbody>\n",
              "    <tr>\n",
              "      <th>1</th>\n",
              "      <td>6</td>\n",
              "      <td>Canada</td>\n",
              "    </tr>\n",
              "    <tr>\n",
              "      <th>3</th>\n",
              "      <td>8</td>\n",
              "      <td>Canada</td>\n",
              "    </tr>\n",
              "  </tbody>\n",
              "</table>\n",
              "</div>"
            ],
            "text/plain": [
              "   B country\n",
              "1  6  Canada\n",
              "3  8  Canada"
            ]
          },
          "metadata": {
            "tags": []
          },
          "execution_count": 24
        }
      ]
    },
    {
      "cell_type": "markdown",
      "metadata": {
        "id": "bYUJEa7gcSSl"
      },
      "source": [
        "<img src='http://drive.google.com/uc?export=view&id=1WC4tXGCEF-1_2LQ74gIxJAZ-GLXCwBdK' width=\"100\" align = 'left'>  \n",
        "<br>\n",
        "<br>\n",
        "<br>\n",
        "Try and select the ID and Country columns and only the third row using iloc:"
      ]
    },
    {
      "cell_type": "code",
      "metadata": {
        "id": "CqmFH1QVcSSm",
        "colab": {
          "base_uri": "https://localhost:8080/"
        },
        "outputId": "3da64af3-ec5f-4e44-a56d-5967d966a3ac"
      },
      "source": [
        "#ID and country columns, and the third row\n",
        "df_test.iloc[2, 2:4]\n"
      ],
      "execution_count": null,
      "outputs": [
        {
          "output_type": "execute_result",
          "data": {
            "text/plain": [
              "ID           Emil\n",
              "country    Canada\n",
              "Name: 2, dtype: object"
            ]
          },
          "metadata": {
            "tags": []
          },
          "execution_count": 25
        }
      ]
    },
    {
      "cell_type": "markdown",
      "metadata": {
        "id": "ZxPG6easNiRt"
      },
      "source": [
        "## <font color='lightblue'>Creating new variables</font>"
      ]
    },
    {
      "cell_type": "code",
      "metadata": {
        "id": "5z1tlk6XHmBe",
        "colab": {
          "base_uri": "https://localhost:8080/",
          "height": 175
        },
        "outputId": "97adfa9a-a2a4-452e-9487-100c38072231"
      },
      "source": [
        "\n",
        "#multiply the B column by 4 to create a new variable C\n",
        "df_test['C'] = df_test['B'] * 4\n",
        "\n",
        "#multiply the C column by A to create a new variable D\n",
        "df_test['D'] = df_test['C'] * df_test['A']\n",
        "\n",
        "#take a look\n",
        "df_test"
      ],
      "execution_count": null,
      "outputs": [
        {
          "output_type": "execute_result",
          "data": {
            "text/html": [
              "<div>\n",
              "<style scoped>\n",
              "    .dataframe tbody tr th:only-of-type {\n",
              "        vertical-align: middle;\n",
              "    }\n",
              "\n",
              "    .dataframe tbody tr th {\n",
              "        vertical-align: top;\n",
              "    }\n",
              "\n",
              "    .dataframe thead th {\n",
              "        text-align: right;\n",
              "    }\n",
              "</style>\n",
              "<table border=\"1\" class=\"dataframe\">\n",
              "  <thead>\n",
              "    <tr style=\"text-align: right;\">\n",
              "      <th></th>\n",
              "      <th>A</th>\n",
              "      <th>B</th>\n",
              "      <th>ID</th>\n",
              "      <th>country</th>\n",
              "      <th>C</th>\n",
              "      <th>D</th>\n",
              "    </tr>\n",
              "  </thead>\n",
              "  <tbody>\n",
              "    <tr>\n",
              "      <th>0</th>\n",
              "      <td>1</td>\n",
              "      <td>5</td>\n",
              "      <td>Steve</td>\n",
              "      <td>Canada</td>\n",
              "      <td>20</td>\n",
              "      <td>20</td>\n",
              "    </tr>\n",
              "    <tr>\n",
              "      <th>1</th>\n",
              "      <td>2</td>\n",
              "      <td>6</td>\n",
              "      <td>Sarojini</td>\n",
              "      <td>Canada</td>\n",
              "      <td>24</td>\n",
              "      <td>48</td>\n",
              "    </tr>\n",
              "    <tr>\n",
              "      <th>2</th>\n",
              "      <td>3</td>\n",
              "      <td>7</td>\n",
              "      <td>Emil</td>\n",
              "      <td>Canada</td>\n",
              "      <td>28</td>\n",
              "      <td>84</td>\n",
              "    </tr>\n",
              "    <tr>\n",
              "      <th>3</th>\n",
              "      <td>4</td>\n",
              "      <td>8</td>\n",
              "      <td>Sarah</td>\n",
              "      <td>Canada</td>\n",
              "      <td>32</td>\n",
              "      <td>128</td>\n",
              "    </tr>\n",
              "  </tbody>\n",
              "</table>\n",
              "</div>"
            ],
            "text/plain": [
              "   A  B        ID country   C    D\n",
              "0  1  5     Steve  Canada  20   20\n",
              "1  2  6  Sarojini  Canada  24   48\n",
              "2  3  7      Emil  Canada  28   84\n",
              "3  4  8     Sarah  Canada  32  128"
            ]
          },
          "metadata": {
            "tags": []
          },
          "execution_count": 26
        }
      ]
    },
    {
      "cell_type": "markdown",
      "metadata": {
        "id": "3ZjmqvNgcy18"
      },
      "source": [
        "## <font color='lightblue'>Filtering DataFrames</font>"
      ]
    },
    {
      "cell_type": "markdown",
      "metadata": {
        "id": "PFbIn1XAHljz"
      },
      "source": [
        "Keep only the rows/columns that you'd like"
      ]
    },
    {
      "cell_type": "code",
      "metadata": {
        "id": "AdbAWCNjINd6",
        "colab": {
          "base_uri": "https://localhost:8080/",
          "height": 112
        },
        "outputId": "106cdca9-8947-44d1-e6eb-4033c030d7de"
      },
      "source": [
        "#keep only the rows where A is less than 3\n",
        "df_test_sub = df_test[df_test.A<3]\n",
        "\n",
        "#keep only the columns A and ID\n",
        "df_test_sub = df_test_sub[['A','B']]\n",
        "\n",
        "#take a look\n",
        "df_test_sub"
      ],
      "execution_count": null,
      "outputs": [
        {
          "output_type": "execute_result",
          "data": {
            "text/html": [
              "<div>\n",
              "<style scoped>\n",
              "    .dataframe tbody tr th:only-of-type {\n",
              "        vertical-align: middle;\n",
              "    }\n",
              "\n",
              "    .dataframe tbody tr th {\n",
              "        vertical-align: top;\n",
              "    }\n",
              "\n",
              "    .dataframe thead th {\n",
              "        text-align: right;\n",
              "    }\n",
              "</style>\n",
              "<table border=\"1\" class=\"dataframe\">\n",
              "  <thead>\n",
              "    <tr style=\"text-align: right;\">\n",
              "      <th></th>\n",
              "      <th>A</th>\n",
              "      <th>B</th>\n",
              "    </tr>\n",
              "  </thead>\n",
              "  <tbody>\n",
              "    <tr>\n",
              "      <th>0</th>\n",
              "      <td>1</td>\n",
              "      <td>5</td>\n",
              "    </tr>\n",
              "    <tr>\n",
              "      <th>1</th>\n",
              "      <td>2</td>\n",
              "      <td>6</td>\n",
              "    </tr>\n",
              "  </tbody>\n",
              "</table>\n",
              "</div>"
            ],
            "text/plain": [
              "   A  B\n",
              "0  1  5\n",
              "1  2  6"
            ]
          },
          "metadata": {
            "tags": []
          },
          "execution_count": 27
        }
      ]
    },
    {
      "cell_type": "markdown",
      "metadata": {
        "id": "cG8Sd9JhdRFF"
      },
      "source": [
        "<img src='http://drive.google.com/uc?export=view&id=1WC4tXGCEF-1_2LQ74gIxJAZ-GLXCwBdK' width=\"100\" align = 'left'>  \n",
        "<br>\n",
        "<br>\n",
        "<br>\n",
        "Add the C and D columns together and select only the rows with values greater than 100:"
      ]
    },
    {
      "cell_type": "code",
      "metadata": {
        "id": "zFnR2MAkdRFG",
        "colab": {
          "base_uri": "https://localhost:8080/",
          "height": 112
        },
        "outputId": "cf0d8747-551a-4d5b-f5d3-61196eead263"
      },
      "source": [
        "#Add the columns C and D together\n",
        "df_test['E'] = df_test['C'] + df_test['D']\n",
        "\n",
        "#keep only the rows where D is greater than 100\n",
        "df_test_100 = df_test[df_test.E>100]\n",
        "\n",
        "#take a look\n",
        "df_test_100\n"
      ],
      "execution_count": null,
      "outputs": [
        {
          "output_type": "execute_result",
          "data": {
            "text/html": [
              "<div>\n",
              "<style scoped>\n",
              "    .dataframe tbody tr th:only-of-type {\n",
              "        vertical-align: middle;\n",
              "    }\n",
              "\n",
              "    .dataframe tbody tr th {\n",
              "        vertical-align: top;\n",
              "    }\n",
              "\n",
              "    .dataframe thead th {\n",
              "        text-align: right;\n",
              "    }\n",
              "</style>\n",
              "<table border=\"1\" class=\"dataframe\">\n",
              "  <thead>\n",
              "    <tr style=\"text-align: right;\">\n",
              "      <th></th>\n",
              "      <th>A</th>\n",
              "      <th>B</th>\n",
              "      <th>ID</th>\n",
              "      <th>country</th>\n",
              "      <th>C</th>\n",
              "      <th>D</th>\n",
              "      <th>E</th>\n",
              "    </tr>\n",
              "  </thead>\n",
              "  <tbody>\n",
              "    <tr>\n",
              "      <th>2</th>\n",
              "      <td>3</td>\n",
              "      <td>7</td>\n",
              "      <td>Emil</td>\n",
              "      <td>Canada</td>\n",
              "      <td>28</td>\n",
              "      <td>84</td>\n",
              "      <td>112</td>\n",
              "    </tr>\n",
              "    <tr>\n",
              "      <th>3</th>\n",
              "      <td>4</td>\n",
              "      <td>8</td>\n",
              "      <td>Sarah</td>\n",
              "      <td>Canada</td>\n",
              "      <td>32</td>\n",
              "      <td>128</td>\n",
              "      <td>160</td>\n",
              "    </tr>\n",
              "  </tbody>\n",
              "</table>\n",
              "</div>"
            ],
            "text/plain": [
              "   A  B     ID country   C    D    E\n",
              "2  3  7   Emil  Canada  28   84  112\n",
              "3  4  8  Sarah  Canada  32  128  160"
            ]
          },
          "metadata": {
            "tags": []
          },
          "execution_count": 28
        }
      ]
    },
    {
      "cell_type": "markdown",
      "metadata": {
        "id": "nEzmqKcTh2bd"
      },
      "source": [
        "## <font color='lightblue'>Dataframe functions</font>"
      ]
    },
    {
      "cell_type": "markdown",
      "metadata": {
        "id": "z5J1IOxRDoMY"
      },
      "source": [
        "When we create a dataframe we are creating an object, and this dataframe object has functions built in. Let's take a look at a few now, and we will see more as we go along in this course. \n",
        "\n",
        "Try just typing df_test. \n",
        "\n",
        "After typing the \".\" you should see the list of functions available to you once you've created a dataframe object. "
      ]
    },
    {
      "cell_type": "code",
      "metadata": {
        "id": "xG7rywyOh-EU",
        "colab": {
          "base_uri": "https://localhost:8080/",
          "height": 131
        },
        "outputId": "4edb9936-ce55-4951-cf41-1c6c7f0290ee"
      },
      "source": [
        "df_test."
      ],
      "execution_count": null,
      "outputs": [
        {
          "output_type": "error",
          "ename": "SyntaxError",
          "evalue": "ignored",
          "traceback": [
            "\u001b[0;36m  File \u001b[0;32m\"<ipython-input-42-abcc6e4f2406>\"\u001b[0;36m, line \u001b[0;32m1\u001b[0m\n\u001b[0;31m    df_test.\u001b[0m\n\u001b[0m            ^\u001b[0m\n\u001b[0;31mSyntaxError\u001b[0m\u001b[0;31m:\u001b[0m invalid syntax\n"
          ]
        }
      ]
    },
    {
      "cell_type": "markdown",
      "metadata": {
        "id": "dFVcxOeoiAGA"
      },
      "source": [
        "One useful function is the *dtypes* function. It will tell us what data type is in each column."
      ]
    },
    {
      "cell_type": "code",
      "metadata": {
        "id": "7rd8ujZdD3mo",
        "colab": {
          "base_uri": "https://localhost:8080/"
        },
        "outputId": "55bb6efd-69b8-404d-a770-b068a2749a9f"
      },
      "source": [
        "#What data type is stored in each column\n",
        "df_test.dtypes"
      ],
      "execution_count": null,
      "outputs": [
        {
          "output_type": "execute_result",
          "data": {
            "text/plain": [
              "A           int64\n",
              "B           int64\n",
              "ID         object\n",
              "country    object\n",
              "C           int64\n",
              "D           int64\n",
              "E           int64\n",
              "dtype: object"
            ]
          },
          "metadata": {
            "tags": []
          },
          "execution_count": 37
        }
      ]
    },
    {
      "cell_type": "markdown",
      "metadata": {
        "id": "rassdQRmiH6Q"
      },
      "source": [
        "The *sum* function is very useful for quickly summing up the values in a column."
      ]
    },
    {
      "cell_type": "code",
      "metadata": {
        "id": "V1rfSd1vEkRZ",
        "colab": {
          "base_uri": "https://localhost:8080/"
        },
        "outputId": "40eca880-141b-44e9-ceec-40bb9b500b14"
      },
      "source": [
        "#What is the sum of the A column\n",
        "df_test.D.sum()"
      ],
      "execution_count": null,
      "outputs": [
        {
          "output_type": "execute_result",
          "data": {
            "text/plain": [
              "904"
            ]
          },
          "metadata": {
            "tags": []
          },
          "execution_count": 39
        }
      ]
    },
    {
      "cell_type": "markdown",
      "metadata": {
        "id": "R9iqgF1XiPCS"
      },
      "source": [
        "The *?* is a very useful function in general, and can provide us with useful information about most objects."
      ]
    },
    {
      "cell_type": "code",
      "metadata": {
        "id": "d_DHj9E0FKGs"
      },
      "source": [
        "#find help on functions, objects, ... etc\n",
        "?df_test"
      ],
      "execution_count": null,
      "outputs": []
    },
    {
      "cell_type": "markdown",
      "metadata": {
        "id": "8qXfWPP13jb-"
      },
      "source": [
        "# <font color='lightblue'>Further reading</font>\n",
        "\n",
        "Pandas quick intro:\n",
        "https://pandas.pydata.org/pandas-docs/stable/user_guide/10min.html\n",
        "</br>\n",
        "Pandas longer intro:\n",
        "https://pandas.pydata.org/pandas-docs/stable/user_guide/indexing.html"
      ]
    }
  ]
}