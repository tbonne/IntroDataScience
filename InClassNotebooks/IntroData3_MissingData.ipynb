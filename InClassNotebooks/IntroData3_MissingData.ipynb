{
  "nbformat": 4,
  "nbformat_minor": 0,
  "metadata": {
    "colab": {
      "name": "IntroData3_MissingData.ipynb",
      "provenance": [],
      "collapsed_sections": [],
      "mount_file_id": "18zqUd6ikvKab_E0PdMQrguGX-3hoHck-",
      "authorship_tag": "ABX9TyMAbNSh6NG5RJhX7d/HD8A6",
      "include_colab_link": true
    },
    "kernelspec": {
      "name": "python3",
      "display_name": "Python 3"
    }
  },
  "cells": [
    {
      "cell_type": "markdown",
      "metadata": {
        "id": "view-in-github",
        "colab_type": "text"
      },
      "source": [
        "<a href=\"https://colab.research.google.com/github/tbonne/IntroDataScience/blob/main/InClassNotebooks/IntroData3_MissingData.ipynb\" target=\"_parent\"><img src=\"https://colab.research.google.com/assets/colab-badge.svg\" alt=\"Open In Colab\"/></a>"
      ]
    },
    {
      "cell_type": "markdown",
      "metadata": {
        "id": "pBZP_OiE51hS"
      },
      "source": [
        "<img src='http://drive.google.com/uc?export=view&id=100E8FHwZxTg2d27HMWeXf05Av4IIqXT9' width=\"300\" align = 'left'> "
      ]
    },
    {
      "cell_type": "markdown",
      "metadata": {
        "id": "FU-OJpTL8a8G"
      },
      "source": [
        "# <font color='lightblue'>Missing Data</font>"
      ]
    },
    {
      "cell_type": "markdown",
      "metadata": {
        "id": "t3PFv2z8AkQt"
      },
      "source": [
        "In this exercise we will learn how to handle missing data. \n",
        "\n",
        "Outline:\n",
        "*  How to find missing data\n",
        "*  How to remove missing data (if appropriate!)\n",
        "\n"
      ]
    },
    {
      "cell_type": "markdown",
      "metadata": {
        "id": "1WTg3hAj6qnT"
      },
      "source": [
        "## <font color='lightblue'>Load Data</font>"
      ]
    },
    {
      "cell_type": "markdown",
      "metadata": {
        "id": "WvsoKtBe9SOU"
      },
      "source": [
        "<img src='http://drive.google.com/uc?export=view&id=1WC4tXGCEF-1_2LQ74gIxJAZ-GLXCwBdK' width=\"100\" align = 'left'>"
      ]
    },
    {
      "cell_type": "markdown",
      "metadata": {
        "id": "_mUGfCfe6ptZ"
      },
      "source": [
        "First load in the pandas library and bring in the NYC flight data"
      ]
    },
    {
      "cell_type": "code",
      "metadata": {
        "id": "3zRNUusg8X7g"
      },
      "source": [
        "#Import pandas library\n",
        "??\n",
        "\n",
        "#read in the NYC flight data\n",
        "df_flights = ??"
      ],
      "execution_count": null,
      "outputs": []
    },
    {
      "cell_type": "markdown",
      "metadata": {
        "id": "Wsk61Ewp9fs-"
      },
      "source": [
        "Give a thumbs up in Slack once your done!"
      ]
    },
    {
      "cell_type": "markdown",
      "metadata": {
        "id": "qSD00xVj7DOS"
      },
      "source": [
        "# <font color='lightblue'>Identifying Missing Data</font>"
      ]
    },
    {
      "cell_type": "markdown",
      "metadata": {
        "id": "444XSvI7x7Dl"
      },
      "source": [
        "Most data that you'll find will have missing values, or values that cannot be true (i.e., errors). Here we will look at how to find missing values, and how to handle them."
      ]
    },
    {
      "cell_type": "markdown",
      "metadata": {
        "id": "GOVN8AbRGRvq"
      },
      "source": [
        "Below we use the method **isna()** to identify cells in the dataframe where the values are **NA**. We use the sum function ontop of the **isna** method to count the number of **NA** values.\n",
        "\n",
        "> Note: when you combine methods in this way the outputs of the first (going left to right) act as inputs for the second. This is called method chaining, and we will use it with pandas objects!"
      ]
    },
    {
      "cell_type": "code",
      "metadata": {
        "colab": {
          "base_uri": "https://localhost:8080/"
        },
        "id": "34oRtQdnCxH1",
        "outputId": "af24d4b6-b401-44a5-ccdf-8a8b2ba1e61f"
      },
      "source": [
        "#count Null values for each column of the dataframe\n",
        "df_flights.isna().sum()"
      ],
      "execution_count": null,
      "outputs": [
        {
          "output_type": "execute_result",
          "data": {
            "text/plain": [
              "Unnamed: 0         0\n",
              "year               0\n",
              "month              0\n",
              "day                0\n",
              "dep_time          28\n",
              "sched_dep_time     0\n",
              "dep_delay         28\n",
              "arr_time          31\n",
              "sched_arr_time     0\n",
              "arr_delay         47\n",
              "carrier            0\n",
              "flight             0\n",
              "tailnum            6\n",
              "origin             0\n",
              "dest               0\n",
              "air_time          47\n",
              "distance           0\n",
              "hour               0\n",
              "minute             0\n",
              "time_hour          0\n",
              "dtype: int64"
            ]
          },
          "metadata": {
            "tags": []
          },
          "execution_count": 6
        }
      ]
    },
    {
      "cell_type": "markdown",
      "metadata": {
        "id": "JA1teHK1Hzgg"
      },
      "source": [
        "So we can see that there are not that many missing values in this dataframe. Let's take a look at how many rows of data we have:"
      ]
    },
    {
      "cell_type": "code",
      "metadata": {
        "colab": {
          "base_uri": "https://localhost:8080/"
        },
        "id": "QU0WZuNEHnuT",
        "outputId": "6f75de26-7fe4-4cf5-9d12-5c4c8ec97c54"
      },
      "source": [
        "len(df_flights)"
      ],
      "execution_count": null,
      "outputs": [
        {
          "output_type": "execute_result",
          "data": {
            "text/plain": [
              "3614"
            ]
          },
          "metadata": {
            "tags": []
          },
          "execution_count": 62
        }
      ]
    },
    {
      "cell_type": "markdown",
      "metadata": {
        "id": "bLBAiMcMIBxg"
      },
      "source": [
        "And at what proportion of data is missing:"
      ]
    },
    {
      "cell_type": "code",
      "metadata": {
        "colab": {
          "base_uri": "https://localhost:8080/"
        },
        "id": "pSGg196tIBC3",
        "outputId": "14ef11fc-53be-474d-d41d-3c6aae4c545e"
      },
      "source": [
        "df_flights.isnull().sum() / len(df_flights)"
      ],
      "execution_count": null,
      "outputs": [
        {
          "output_type": "execute_result",
          "data": {
            "text/plain": [
              "Unnamed: 0        0.000000\n",
              "year              0.000000\n",
              "month             0.000000\n",
              "day               0.000000\n",
              "dep_time          0.007748\n",
              "sched_dep_time    0.000000\n",
              "dep_delay         0.007748\n",
              "arr_time          0.008578\n",
              "sched_arr_time    0.000000\n",
              "arr_delay         0.013005\n",
              "carrier           0.000000\n",
              "flight            0.000000\n",
              "tailnum           0.001660\n",
              "origin            0.000000\n",
              "dest              0.000000\n",
              "air_time          0.013005\n",
              "distance          0.000000\n",
              "hour              0.000000\n",
              "minute            0.000000\n",
              "time_hour         0.000000\n",
              "dtype: float64"
            ]
          },
          "metadata": {
            "tags": []
          },
          "execution_count": 63
        }
      ]
    },
    {
      "cell_type": "markdown",
      "metadata": {
        "id": "ZFtdL0YldwD-"
      },
      "source": [
        "We can take a look at these missing values within the dataframe by opening the dataframe in colab (Files - dubble click on the file - then filter by NA)"
      ]
    },
    {
      "cell_type": "markdown",
      "metadata": {
        "id": "IjmH1vEbIRY-"
      },
      "source": [
        "So we can see in this dataset there is very little in the way of missing data! But what should we do with those data entries? We could:\n",
        "\n",
        "1. Understand how/why they are missing (data story!)\n",
        "1. Remove those data entries (missing at random?)\n",
        "2. Fill them in with estimates (impute the missing data)"
      ]
    },
    {
      "cell_type": "markdown",
      "metadata": {
        "id": "xmUy2WNT-ANv"
      },
      "source": [
        "# <font color='lightblue'>Drop Missing Data</font>"
      ]
    },
    {
      "cell_type": "markdown",
      "metadata": {
        "id": "SNITlJ0ZIa5B"
      },
      "source": [
        "Below we will remove the rows with missing data in one column. So if there is no data in this column then it will remove that entire row from the data."
      ]
    },
    {
      "cell_type": "code",
      "metadata": {
        "colab": {
          "base_uri": "https://localhost:8080/"
        },
        "id": "DHwhiklpXq6F",
        "outputId": "ac749ba2-5e57-4047-a15c-f32a9dbeb855"
      },
      "source": [
        "#drop rows if air time contains missing values\n",
        "df_flights_airtime_na = df_flights[df_flights.air_time.isna()==False]\n",
        "\n",
        "#take a look at the new length of the dataframe\n",
        "len(df_flights_airtime_na)\n"
      ],
      "execution_count": null,
      "outputs": [
        {
          "output_type": "execute_result",
          "data": {
            "text/plain": [
              "3567"
            ]
          },
          "metadata": {
            "tags": []
          },
          "execution_count": 17
        }
      ]
    },
    {
      "cell_type": "markdown",
      "metadata": {
        "id": "PtJNhHOBgqGY"
      },
      "source": [
        "It is also possible to remove any row that has missing values."
      ]
    },
    {
      "cell_type": "code",
      "metadata": {
        "colab": {
          "base_uri": "https://localhost:8080/"
        },
        "id": "FhtLXpLkgp10",
        "outputId": "e0c0c625-9003-4626-ea9c-9c62c1eb2cc4"
      },
      "source": [
        "#drop rows if any column contain missing values\n",
        "df_flights_sub_na = df_flights.dropna(how='any')\n",
        "\n",
        "len(df_flights_sub_na)"
      ],
      "execution_count": null,
      "outputs": [
        {
          "output_type": "execute_result",
          "data": {
            "text/plain": [
              "3567"
            ]
          },
          "metadata": {
            "tags": []
          },
          "execution_count": 10
        }
      ]
    },
    {
      "cell_type": "markdown",
      "metadata": {
        "id": "WMd6olXwGU9I"
      },
      "source": [
        "<img src='http://drive.google.com/uc?export=view&id=1WC4tXGCEF-1_2LQ74gIxJAZ-GLXCwBdK' width=\"100\" align = 'left'>"
      ]
    },
    {
      "cell_type": "markdown",
      "metadata": {
        "id": "w8IudZJWGZ3O"
      },
      "source": [
        "Try removing all the rows with NAs in arr_time."
      ]
    },
    {
      "cell_type": "code",
      "metadata": {
        "id": "FnDrYBDMGUmC"
      },
      "source": [
        "#drop rows if arrival time contains missing values\n",
        "df_flights_arr_time_na = ?\n",
        "\n",
        "#check the length"
      ],
      "execution_count": null,
      "outputs": []
    },
    {
      "cell_type": "markdown",
      "metadata": {
        "id": "e7FSsKNoD50-"
      },
      "source": [
        "# <font color='lightblue'>Add column of missingness</font>"
      ]
    },
    {
      "cell_type": "markdown",
      "metadata": {
        "id": "M-JEGyDQEEc2"
      },
      "source": [
        "Here the idea is that missing data might be useful for making predictions. Let's add another column to the DataFrame to identify missing data in *air time*.\n",
        "\n",
        "> Here we use method chaining to select a column 'air_time', see if each row has an NA value. This gives us true and false values for each row."
      ]
    },
    {
      "cell_type": "code",
      "metadata": {
        "colab": {
          "base_uri": "https://localhost:8080/",
          "height": 807
        },
        "id": "3THCurOIETww",
        "outputId": "6a8f0f83-6370-4e95-dab2-c628261bf3c9"
      },
      "source": [
        "#create new column with true/false if there is missing data in air time\n",
        "df_flights['missingAirTime'] = df_flights.air_time.isna()\n",
        "\n",
        "#take a look \n",
        "df_flights"
      ],
      "execution_count": null,
      "outputs": [
        {
          "output_type": "execute_result",
          "data": {
            "text/html": [
              "<div>\n",
              "<style scoped>\n",
              "    .dataframe tbody tr th:only-of-type {\n",
              "        vertical-align: middle;\n",
              "    }\n",
              "\n",
              "    .dataframe tbody tr th {\n",
              "        vertical-align: top;\n",
              "    }\n",
              "\n",
              "    .dataframe thead th {\n",
              "        text-align: right;\n",
              "    }\n",
              "</style>\n",
              "<table border=\"1\" class=\"dataframe\">\n",
              "  <thead>\n",
              "    <tr style=\"text-align: right;\">\n",
              "      <th></th>\n",
              "      <th>Unnamed: 0</th>\n",
              "      <th>year</th>\n",
              "      <th>month</th>\n",
              "      <th>day</th>\n",
              "      <th>dep_time</th>\n",
              "      <th>sched_dep_time</th>\n",
              "      <th>dep_delay</th>\n",
              "      <th>arr_time</th>\n",
              "      <th>sched_arr_time</th>\n",
              "      <th>arr_delay</th>\n",
              "      <th>carrier</th>\n",
              "      <th>flight</th>\n",
              "      <th>tailnum</th>\n",
              "      <th>origin</th>\n",
              "      <th>dest</th>\n",
              "      <th>air_time</th>\n",
              "      <th>distance</th>\n",
              "      <th>hour</th>\n",
              "      <th>minute</th>\n",
              "      <th>time_hour</th>\n",
              "      <th>missingAirTime</th>\n",
              "    </tr>\n",
              "  </thead>\n",
              "  <tbody>\n",
              "    <tr>\n",
              "      <th>0</th>\n",
              "      <td>1</td>\n",
              "      <td>2013</td>\n",
              "      <td>1</td>\n",
              "      <td>1</td>\n",
              "      <td>517.0</td>\n",
              "      <td>515</td>\n",
              "      <td>2.0</td>\n",
              "      <td>830.0</td>\n",
              "      <td>819</td>\n",
              "      <td>11.0</td>\n",
              "      <td>UA</td>\n",
              "      <td>1545</td>\n",
              "      <td>N14228</td>\n",
              "      <td>EWR</td>\n",
              "      <td>IAH</td>\n",
              "      <td>227.0</td>\n",
              "      <td>1400</td>\n",
              "      <td>5</td>\n",
              "      <td>15</td>\n",
              "      <td>2013-01-01 05:00:00</td>\n",
              "      <td>0</td>\n",
              "    </tr>\n",
              "    <tr>\n",
              "      <th>1</th>\n",
              "      <td>2</td>\n",
              "      <td>2013</td>\n",
              "      <td>1</td>\n",
              "      <td>1</td>\n",
              "      <td>533.0</td>\n",
              "      <td>529</td>\n",
              "      <td>4.0</td>\n",
              "      <td>850.0</td>\n",
              "      <td>830</td>\n",
              "      <td>20.0</td>\n",
              "      <td>UA</td>\n",
              "      <td>1714</td>\n",
              "      <td>N24211</td>\n",
              "      <td>LGA</td>\n",
              "      <td>IAH</td>\n",
              "      <td>227.0</td>\n",
              "      <td>1416</td>\n",
              "      <td>5</td>\n",
              "      <td>29</td>\n",
              "      <td>2013-01-01 05:00:00</td>\n",
              "      <td>0</td>\n",
              "    </tr>\n",
              "    <tr>\n",
              "      <th>2</th>\n",
              "      <td>3</td>\n",
              "      <td>2013</td>\n",
              "      <td>1</td>\n",
              "      <td>1</td>\n",
              "      <td>542.0</td>\n",
              "      <td>540</td>\n",
              "      <td>2.0</td>\n",
              "      <td>923.0</td>\n",
              "      <td>850</td>\n",
              "      <td>33.0</td>\n",
              "      <td>AA</td>\n",
              "      <td>1141</td>\n",
              "      <td>N619AA</td>\n",
              "      <td>JFK</td>\n",
              "      <td>MIA</td>\n",
              "      <td>160.0</td>\n",
              "      <td>1089</td>\n",
              "      <td>5</td>\n",
              "      <td>40</td>\n",
              "      <td>2013-01-01 05:00:00</td>\n",
              "      <td>0</td>\n",
              "    </tr>\n",
              "    <tr>\n",
              "      <th>3</th>\n",
              "      <td>4</td>\n",
              "      <td>2013</td>\n",
              "      <td>1</td>\n",
              "      <td>1</td>\n",
              "      <td>544.0</td>\n",
              "      <td>545</td>\n",
              "      <td>-1.0</td>\n",
              "      <td>1004.0</td>\n",
              "      <td>1022</td>\n",
              "      <td>-18.0</td>\n",
              "      <td>B6</td>\n",
              "      <td>725</td>\n",
              "      <td>N804JB</td>\n",
              "      <td>JFK</td>\n",
              "      <td>BQN</td>\n",
              "      <td>183.0</td>\n",
              "      <td>1576</td>\n",
              "      <td>5</td>\n",
              "      <td>45</td>\n",
              "      <td>2013-01-01 05:00:00</td>\n",
              "      <td>0</td>\n",
              "    </tr>\n",
              "    <tr>\n",
              "      <th>4</th>\n",
              "      <td>5</td>\n",
              "      <td>2013</td>\n",
              "      <td>1</td>\n",
              "      <td>1</td>\n",
              "      <td>554.0</td>\n",
              "      <td>600</td>\n",
              "      <td>-6.0</td>\n",
              "      <td>812.0</td>\n",
              "      <td>837</td>\n",
              "      <td>-25.0</td>\n",
              "      <td>DL</td>\n",
              "      <td>461</td>\n",
              "      <td>N668DN</td>\n",
              "      <td>LGA</td>\n",
              "      <td>ATL</td>\n",
              "      <td>116.0</td>\n",
              "      <td>762</td>\n",
              "      <td>6</td>\n",
              "      <td>0</td>\n",
              "      <td>2013-01-01 06:00:00</td>\n",
              "      <td>0</td>\n",
              "    </tr>\n",
              "    <tr>\n",
              "      <th>...</th>\n",
              "      <td>...</td>\n",
              "      <td>...</td>\n",
              "      <td>...</td>\n",
              "      <td>...</td>\n",
              "      <td>...</td>\n",
              "      <td>...</td>\n",
              "      <td>...</td>\n",
              "      <td>...</td>\n",
              "      <td>...</td>\n",
              "      <td>...</td>\n",
              "      <td>...</td>\n",
              "      <td>...</td>\n",
              "      <td>...</td>\n",
              "      <td>...</td>\n",
              "      <td>...</td>\n",
              "      <td>...</td>\n",
              "      <td>...</td>\n",
              "      <td>...</td>\n",
              "      <td>...</td>\n",
              "      <td>...</td>\n",
              "      <td>...</td>\n",
              "    </tr>\n",
              "    <tr>\n",
              "      <th>3609</th>\n",
              "      <td>3610</td>\n",
              "      <td>2013</td>\n",
              "      <td>1</td>\n",
              "      <td>4</td>\n",
              "      <td>NaN</td>\n",
              "      <td>1830</td>\n",
              "      <td>NaN</td>\n",
              "      <td>NaN</td>\n",
              "      <td>2044</td>\n",
              "      <td>NaN</td>\n",
              "      <td>9E</td>\n",
              "      <td>3716</td>\n",
              "      <td>NaN</td>\n",
              "      <td>EWR</td>\n",
              "      <td>DTW</td>\n",
              "      <td>NaN</td>\n",
              "      <td>488</td>\n",
              "      <td>18</td>\n",
              "      <td>30</td>\n",
              "      <td>2013-01-04 18:00:00</td>\n",
              "      <td>1</td>\n",
              "    </tr>\n",
              "    <tr>\n",
              "      <th>3610</th>\n",
              "      <td>3611</td>\n",
              "      <td>2013</td>\n",
              "      <td>1</td>\n",
              "      <td>4</td>\n",
              "      <td>NaN</td>\n",
              "      <td>920</td>\n",
              "      <td>NaN</td>\n",
              "      <td>NaN</td>\n",
              "      <td>1245</td>\n",
              "      <td>NaN</td>\n",
              "      <td>AA</td>\n",
              "      <td>721</td>\n",
              "      <td>N541AA</td>\n",
              "      <td>LGA</td>\n",
              "      <td>DFW</td>\n",
              "      <td>NaN</td>\n",
              "      <td>1389</td>\n",
              "      <td>9</td>\n",
              "      <td>20</td>\n",
              "      <td>2013-01-04 09:00:00</td>\n",
              "      <td>1</td>\n",
              "    </tr>\n",
              "    <tr>\n",
              "      <th>3611</th>\n",
              "      <td>3612</td>\n",
              "      <td>2013</td>\n",
              "      <td>1</td>\n",
              "      <td>4</td>\n",
              "      <td>NaN</td>\n",
              "      <td>1245</td>\n",
              "      <td>NaN</td>\n",
              "      <td>NaN</td>\n",
              "      <td>1550</td>\n",
              "      <td>NaN</td>\n",
              "      <td>AA</td>\n",
              "      <td>745</td>\n",
              "      <td>N3BGAA</td>\n",
              "      <td>LGA</td>\n",
              "      <td>DFW</td>\n",
              "      <td>NaN</td>\n",
              "      <td>1389</td>\n",
              "      <td>12</td>\n",
              "      <td>45</td>\n",
              "      <td>2013-01-04 12:00:00</td>\n",
              "      <td>1</td>\n",
              "    </tr>\n",
              "    <tr>\n",
              "      <th>3612</th>\n",
              "      <td>3613</td>\n",
              "      <td>2013</td>\n",
              "      <td>1</td>\n",
              "      <td>4</td>\n",
              "      <td>NaN</td>\n",
              "      <td>1430</td>\n",
              "      <td>NaN</td>\n",
              "      <td>NaN</td>\n",
              "      <td>1735</td>\n",
              "      <td>NaN</td>\n",
              "      <td>AA</td>\n",
              "      <td>883</td>\n",
              "      <td>N200AA</td>\n",
              "      <td>EWR</td>\n",
              "      <td>DFW</td>\n",
              "      <td>NaN</td>\n",
              "      <td>1372</td>\n",
              "      <td>14</td>\n",
              "      <td>30</td>\n",
              "      <td>2013-01-04 14:00:00</td>\n",
              "      <td>1</td>\n",
              "    </tr>\n",
              "    <tr>\n",
              "      <th>3613</th>\n",
              "      <td>3614</td>\n",
              "      <td>2013</td>\n",
              "      <td>1</td>\n",
              "      <td>4</td>\n",
              "      <td>NaN</td>\n",
              "      <td>1530</td>\n",
              "      <td>NaN</td>\n",
              "      <td>NaN</td>\n",
              "      <td>1725</td>\n",
              "      <td>NaN</td>\n",
              "      <td>AA</td>\n",
              "      <td>2223</td>\n",
              "      <td>N569AA</td>\n",
              "      <td>LGA</td>\n",
              "      <td>STL</td>\n",
              "      <td>NaN</td>\n",
              "      <td>888</td>\n",
              "      <td>15</td>\n",
              "      <td>30</td>\n",
              "      <td>2013-01-04 15:00:00</td>\n",
              "      <td>1</td>\n",
              "    </tr>\n",
              "  </tbody>\n",
              "</table>\n",
              "<p>3614 rows × 21 columns</p>\n",
              "</div>"
            ],
            "text/plain": [
              "      Unnamed: 0  year  month  ...  minute            time_hour  missingAirTime\n",
              "0              1  2013      1  ...      15  2013-01-01 05:00:00               0\n",
              "1              2  2013      1  ...      29  2013-01-01 05:00:00               0\n",
              "2              3  2013      1  ...      40  2013-01-01 05:00:00               0\n",
              "3              4  2013      1  ...      45  2013-01-01 05:00:00               0\n",
              "4              5  2013      1  ...       0  2013-01-01 06:00:00               0\n",
              "...          ...   ...    ...  ...     ...                  ...             ...\n",
              "3609        3610  2013      1  ...      30  2013-01-04 18:00:00               1\n",
              "3610        3611  2013      1  ...      20  2013-01-04 09:00:00               1\n",
              "3611        3612  2013      1  ...      45  2013-01-04 12:00:00               1\n",
              "3612        3613  2013      1  ...      30  2013-01-04 14:00:00               1\n",
              "3613        3614  2013      1  ...      30  2013-01-04 15:00:00               1\n",
              "\n",
              "[3614 rows x 21 columns]"
            ]
          },
          "metadata": {
            "tags": []
          },
          "execution_count": 21
        }
      ]
    },
    {
      "cell_type": "markdown",
      "metadata": {
        "id": "lY8bnquJFcbo"
      },
      "source": [
        "Let's add one more step to that method chain, and convert the true false into integers. To do so we'll add the method **asType('int')**, which converts the true/false into 1/0."
      ]
    },
    {
      "cell_type": "code",
      "metadata": {
        "colab": {
          "base_uri": "https://localhost:8080/",
          "height": 807
        },
        "id": "V0SoE1fEFSxd",
        "outputId": "f7d6d425-2bc5-4d22-c38b-4d298a82b327"
      },
      "source": [
        "#create new column with true/false if there is missing data in air time\n",
        "df_flights['missingAirTime'] = df_flights.air_time.isna().astype('int')\n",
        "\n",
        "#take a look \n",
        "df_flights"
      ],
      "execution_count": null,
      "outputs": [
        {
          "output_type": "execute_result",
          "data": {
            "text/html": [
              "<div>\n",
              "<style scoped>\n",
              "    .dataframe tbody tr th:only-of-type {\n",
              "        vertical-align: middle;\n",
              "    }\n",
              "\n",
              "    .dataframe tbody tr th {\n",
              "        vertical-align: top;\n",
              "    }\n",
              "\n",
              "    .dataframe thead th {\n",
              "        text-align: right;\n",
              "    }\n",
              "</style>\n",
              "<table border=\"1\" class=\"dataframe\">\n",
              "  <thead>\n",
              "    <tr style=\"text-align: right;\">\n",
              "      <th></th>\n",
              "      <th>Unnamed: 0</th>\n",
              "      <th>year</th>\n",
              "      <th>month</th>\n",
              "      <th>day</th>\n",
              "      <th>dep_time</th>\n",
              "      <th>sched_dep_time</th>\n",
              "      <th>dep_delay</th>\n",
              "      <th>arr_time</th>\n",
              "      <th>sched_arr_time</th>\n",
              "      <th>arr_delay</th>\n",
              "      <th>carrier</th>\n",
              "      <th>flight</th>\n",
              "      <th>tailnum</th>\n",
              "      <th>origin</th>\n",
              "      <th>dest</th>\n",
              "      <th>air_time</th>\n",
              "      <th>distance</th>\n",
              "      <th>hour</th>\n",
              "      <th>minute</th>\n",
              "      <th>time_hour</th>\n",
              "      <th>missingAirTime</th>\n",
              "    </tr>\n",
              "  </thead>\n",
              "  <tbody>\n",
              "    <tr>\n",
              "      <th>0</th>\n",
              "      <td>1</td>\n",
              "      <td>2013</td>\n",
              "      <td>1</td>\n",
              "      <td>1</td>\n",
              "      <td>517.0</td>\n",
              "      <td>515</td>\n",
              "      <td>2.0</td>\n",
              "      <td>830.0</td>\n",
              "      <td>819</td>\n",
              "      <td>11.0</td>\n",
              "      <td>UA</td>\n",
              "      <td>1545</td>\n",
              "      <td>N14228</td>\n",
              "      <td>EWR</td>\n",
              "      <td>IAH</td>\n",
              "      <td>227.0</td>\n",
              "      <td>1400</td>\n",
              "      <td>5</td>\n",
              "      <td>15</td>\n",
              "      <td>2013-01-01 05:00:00</td>\n",
              "      <td>0</td>\n",
              "    </tr>\n",
              "    <tr>\n",
              "      <th>1</th>\n",
              "      <td>2</td>\n",
              "      <td>2013</td>\n",
              "      <td>1</td>\n",
              "      <td>1</td>\n",
              "      <td>533.0</td>\n",
              "      <td>529</td>\n",
              "      <td>4.0</td>\n",
              "      <td>850.0</td>\n",
              "      <td>830</td>\n",
              "      <td>20.0</td>\n",
              "      <td>UA</td>\n",
              "      <td>1714</td>\n",
              "      <td>N24211</td>\n",
              "      <td>LGA</td>\n",
              "      <td>IAH</td>\n",
              "      <td>227.0</td>\n",
              "      <td>1416</td>\n",
              "      <td>5</td>\n",
              "      <td>29</td>\n",
              "      <td>2013-01-01 05:00:00</td>\n",
              "      <td>0</td>\n",
              "    </tr>\n",
              "    <tr>\n",
              "      <th>2</th>\n",
              "      <td>3</td>\n",
              "      <td>2013</td>\n",
              "      <td>1</td>\n",
              "      <td>1</td>\n",
              "      <td>542.0</td>\n",
              "      <td>540</td>\n",
              "      <td>2.0</td>\n",
              "      <td>923.0</td>\n",
              "      <td>850</td>\n",
              "      <td>33.0</td>\n",
              "      <td>AA</td>\n",
              "      <td>1141</td>\n",
              "      <td>N619AA</td>\n",
              "      <td>JFK</td>\n",
              "      <td>MIA</td>\n",
              "      <td>160.0</td>\n",
              "      <td>1089</td>\n",
              "      <td>5</td>\n",
              "      <td>40</td>\n",
              "      <td>2013-01-01 05:00:00</td>\n",
              "      <td>0</td>\n",
              "    </tr>\n",
              "    <tr>\n",
              "      <th>3</th>\n",
              "      <td>4</td>\n",
              "      <td>2013</td>\n",
              "      <td>1</td>\n",
              "      <td>1</td>\n",
              "      <td>544.0</td>\n",
              "      <td>545</td>\n",
              "      <td>-1.0</td>\n",
              "      <td>1004.0</td>\n",
              "      <td>1022</td>\n",
              "      <td>-18.0</td>\n",
              "      <td>B6</td>\n",
              "      <td>725</td>\n",
              "      <td>N804JB</td>\n",
              "      <td>JFK</td>\n",
              "      <td>BQN</td>\n",
              "      <td>183.0</td>\n",
              "      <td>1576</td>\n",
              "      <td>5</td>\n",
              "      <td>45</td>\n",
              "      <td>2013-01-01 05:00:00</td>\n",
              "      <td>0</td>\n",
              "    </tr>\n",
              "    <tr>\n",
              "      <th>4</th>\n",
              "      <td>5</td>\n",
              "      <td>2013</td>\n",
              "      <td>1</td>\n",
              "      <td>1</td>\n",
              "      <td>554.0</td>\n",
              "      <td>600</td>\n",
              "      <td>-6.0</td>\n",
              "      <td>812.0</td>\n",
              "      <td>837</td>\n",
              "      <td>-25.0</td>\n",
              "      <td>DL</td>\n",
              "      <td>461</td>\n",
              "      <td>N668DN</td>\n",
              "      <td>LGA</td>\n",
              "      <td>ATL</td>\n",
              "      <td>116.0</td>\n",
              "      <td>762</td>\n",
              "      <td>6</td>\n",
              "      <td>0</td>\n",
              "      <td>2013-01-01 06:00:00</td>\n",
              "      <td>0</td>\n",
              "    </tr>\n",
              "    <tr>\n",
              "      <th>...</th>\n",
              "      <td>...</td>\n",
              "      <td>...</td>\n",
              "      <td>...</td>\n",
              "      <td>...</td>\n",
              "      <td>...</td>\n",
              "      <td>...</td>\n",
              "      <td>...</td>\n",
              "      <td>...</td>\n",
              "      <td>...</td>\n",
              "      <td>...</td>\n",
              "      <td>...</td>\n",
              "      <td>...</td>\n",
              "      <td>...</td>\n",
              "      <td>...</td>\n",
              "      <td>...</td>\n",
              "      <td>...</td>\n",
              "      <td>...</td>\n",
              "      <td>...</td>\n",
              "      <td>...</td>\n",
              "      <td>...</td>\n",
              "      <td>...</td>\n",
              "    </tr>\n",
              "    <tr>\n",
              "      <th>3609</th>\n",
              "      <td>3610</td>\n",
              "      <td>2013</td>\n",
              "      <td>1</td>\n",
              "      <td>4</td>\n",
              "      <td>NaN</td>\n",
              "      <td>1830</td>\n",
              "      <td>NaN</td>\n",
              "      <td>NaN</td>\n",
              "      <td>2044</td>\n",
              "      <td>NaN</td>\n",
              "      <td>9E</td>\n",
              "      <td>3716</td>\n",
              "      <td>NaN</td>\n",
              "      <td>EWR</td>\n",
              "      <td>DTW</td>\n",
              "      <td>NaN</td>\n",
              "      <td>488</td>\n",
              "      <td>18</td>\n",
              "      <td>30</td>\n",
              "      <td>2013-01-04 18:00:00</td>\n",
              "      <td>1</td>\n",
              "    </tr>\n",
              "    <tr>\n",
              "      <th>3610</th>\n",
              "      <td>3611</td>\n",
              "      <td>2013</td>\n",
              "      <td>1</td>\n",
              "      <td>4</td>\n",
              "      <td>NaN</td>\n",
              "      <td>920</td>\n",
              "      <td>NaN</td>\n",
              "      <td>NaN</td>\n",
              "      <td>1245</td>\n",
              "      <td>NaN</td>\n",
              "      <td>AA</td>\n",
              "      <td>721</td>\n",
              "      <td>N541AA</td>\n",
              "      <td>LGA</td>\n",
              "      <td>DFW</td>\n",
              "      <td>NaN</td>\n",
              "      <td>1389</td>\n",
              "      <td>9</td>\n",
              "      <td>20</td>\n",
              "      <td>2013-01-04 09:00:00</td>\n",
              "      <td>1</td>\n",
              "    </tr>\n",
              "    <tr>\n",
              "      <th>3611</th>\n",
              "      <td>3612</td>\n",
              "      <td>2013</td>\n",
              "      <td>1</td>\n",
              "      <td>4</td>\n",
              "      <td>NaN</td>\n",
              "      <td>1245</td>\n",
              "      <td>NaN</td>\n",
              "      <td>NaN</td>\n",
              "      <td>1550</td>\n",
              "      <td>NaN</td>\n",
              "      <td>AA</td>\n",
              "      <td>745</td>\n",
              "      <td>N3BGAA</td>\n",
              "      <td>LGA</td>\n",
              "      <td>DFW</td>\n",
              "      <td>NaN</td>\n",
              "      <td>1389</td>\n",
              "      <td>12</td>\n",
              "      <td>45</td>\n",
              "      <td>2013-01-04 12:00:00</td>\n",
              "      <td>1</td>\n",
              "    </tr>\n",
              "    <tr>\n",
              "      <th>3612</th>\n",
              "      <td>3613</td>\n",
              "      <td>2013</td>\n",
              "      <td>1</td>\n",
              "      <td>4</td>\n",
              "      <td>NaN</td>\n",
              "      <td>1430</td>\n",
              "      <td>NaN</td>\n",
              "      <td>NaN</td>\n",
              "      <td>1735</td>\n",
              "      <td>NaN</td>\n",
              "      <td>AA</td>\n",
              "      <td>883</td>\n",
              "      <td>N200AA</td>\n",
              "      <td>EWR</td>\n",
              "      <td>DFW</td>\n",
              "      <td>NaN</td>\n",
              "      <td>1372</td>\n",
              "      <td>14</td>\n",
              "      <td>30</td>\n",
              "      <td>2013-01-04 14:00:00</td>\n",
              "      <td>1</td>\n",
              "    </tr>\n",
              "    <tr>\n",
              "      <th>3613</th>\n",
              "      <td>3614</td>\n",
              "      <td>2013</td>\n",
              "      <td>1</td>\n",
              "      <td>4</td>\n",
              "      <td>NaN</td>\n",
              "      <td>1530</td>\n",
              "      <td>NaN</td>\n",
              "      <td>NaN</td>\n",
              "      <td>1725</td>\n",
              "      <td>NaN</td>\n",
              "      <td>AA</td>\n",
              "      <td>2223</td>\n",
              "      <td>N569AA</td>\n",
              "      <td>LGA</td>\n",
              "      <td>STL</td>\n",
              "      <td>NaN</td>\n",
              "      <td>888</td>\n",
              "      <td>15</td>\n",
              "      <td>30</td>\n",
              "      <td>2013-01-04 15:00:00</td>\n",
              "      <td>1</td>\n",
              "    </tr>\n",
              "  </tbody>\n",
              "</table>\n",
              "<p>3614 rows × 21 columns</p>\n",
              "</div>"
            ],
            "text/plain": [
              "      Unnamed: 0  year  month  ...  minute            time_hour  missingAirTime\n",
              "0              1  2013      1  ...      15  2013-01-01 05:00:00               0\n",
              "1              2  2013      1  ...      29  2013-01-01 05:00:00               0\n",
              "2              3  2013      1  ...      40  2013-01-01 05:00:00               0\n",
              "3              4  2013      1  ...      45  2013-01-01 05:00:00               0\n",
              "4              5  2013      1  ...       0  2013-01-01 06:00:00               0\n",
              "...          ...   ...    ...  ...     ...                  ...             ...\n",
              "3609        3610  2013      1  ...      30  2013-01-04 18:00:00               1\n",
              "3610        3611  2013      1  ...      20  2013-01-04 09:00:00               1\n",
              "3611        3612  2013      1  ...      45  2013-01-04 12:00:00               1\n",
              "3612        3613  2013      1  ...      30  2013-01-04 14:00:00               1\n",
              "3613        3614  2013      1  ...      30  2013-01-04 15:00:00               1\n",
              "\n",
              "[3614 rows x 21 columns]"
            ]
          },
          "metadata": {
            "tags": []
          },
          "execution_count": 24
        }
      ]
    },
    {
      "cell_type": "markdown",
      "metadata": {
        "id": "x0NQ_2SFbwAl"
      },
      "source": [
        "<img src='http://drive.google.com/uc?export=view&id=1WC4tXGCEF-1_2LQ74gIxJAZ-GLXCwBdK' width=\"100\" align = 'left'>"
      ]
    },
    {
      "cell_type": "markdown",
      "metadata": {
        "id": "LJhK9sj_bwAn"
      },
      "source": [
        "Try adding a column of missingness for plane tail number (i.e., tailnum)."
      ]
    },
    {
      "cell_type": "code",
      "metadata": {
        "id": "fx5WdyuHbwAo"
      },
      "source": [
        "#create new column with 1/0 if there is missing data in tailnum\n",
        "df_flights[?] = ?\n",
        "\n",
        "#take a look\n",
        "?\n"
      ],
      "execution_count": null,
      "outputs": []
    },
    {
      "cell_type": "markdown",
      "metadata": {
        "id": "KXhMgL0tAULT"
      },
      "source": [
        "# <font color='lightblue'>Further reading</font>"
      ]
    },
    {
      "cell_type": "markdown",
      "metadata": {
        "id": "QXhltXp2AUln"
      },
      "source": [
        "There are many ways to deal with [missing data with pandas](https://pandas.pydata.org/pandas-docs/stable/user_guide/missing_data.html). Just remember that some ways are more justifyable than others, and a good understanding of how the data came to be is key in deciding which ways might work best."
      ]
    }
  ]
}