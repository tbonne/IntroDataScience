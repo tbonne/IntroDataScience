{
  "nbformat": 4,
  "nbformat_minor": 0,
  "metadata": {
    "colab": {
      "name": "IntroModeling1_LinearReg.ipynb",
      "provenance": [],
      "collapsed_sections": [],
      "authorship_tag": "ABX9TyPX+t0gp8pvF9bHI0M6EbTI",
      "include_colab_link": true
    },
    "kernelspec": {
      "name": "python3",
      "display_name": "Python 3"
    }
  },
  "cells": [
    {
      "cell_type": "markdown",
      "metadata": {
        "id": "view-in-github",
        "colab_type": "text"
      },
      "source": [
        "<a href=\"https://colab.research.google.com/github/tbonne/IntroDataScience/blob/main/InClassNotebooks/IntroModeling1_LinearReg.ipynb\" target=\"_parent\"><img src=\"https://colab.research.google.com/assets/colab-badge.svg\" alt=\"Open In Colab\"/></a>"
      ]
    },
    {
      "cell_type": "markdown",
      "metadata": {
        "id": "TrWSETZ3NmJs"
      },
      "source": [
        "<img src='http://drive.google.com/uc?export=view&id=1L4qAFCwXR9S6RHVzdOc7PhL7-B3yW-Jb' width=\"300\" align = 'left'>  "
      ]
    },
    {
      "cell_type": "markdown",
      "metadata": {
        "id": "4VTsxBzT7tAb"
      },
      "source": [
        "#<font color='lightblue'>Linear regression</font>"
      ]
    },
    {
      "cell_type": "markdown",
      "metadata": {
        "id": "03s3L0-C8Zxr"
      },
      "source": [
        "In previous classes we have used exploritory approaches to visualize and quantify relationships between variables. Now we will use linear regression to start to build models that can make predictions based on these relationships. "
      ]
    },
    {
      "cell_type": "markdown",
      "metadata": {
        "id": "TF0wODYsSb22"
      },
      "source": [
        "Import the needed libraries"
      ]
    },
    {
      "cell_type": "code",
      "metadata": {
        "id": "ABe6f2_V7X3h"
      },
      "source": [
        "import sklearn as sk\n",
        "import pandas as pd\n",
        "import seaborn as sns\n",
        "import matplotlib.pyplot as plt\n",
        "\n",
        "import statsmodels.api as sm #for running regression!\n",
        "from patsy import dmatrices"
      ],
      "execution_count": 101,
      "outputs": []
    },
    {
      "cell_type": "markdown",
      "metadata": {
        "id": "wJHjdshLGGyI"
      },
      "source": [
        "### <font color='lightblue'>Load the data</font>"
      ]
    },
    {
      "cell_type": "markdown",
      "metadata": {
        "id": "vUf5CUjMTCgH"
      },
      "source": [
        "Download the 'bostonHouses.csv' from the class's [shared data folder](https://drive.google.com/drive/folders/1s2Civxvys_SR1sFF7D2ept1GSmFbICQb?usp=sharing) and load it into a dataframe.\n",
        "> Note: one way to get the data in, is just to drag and drop the csv file into the files tab on the left. However, using this method means that when we leave our session the data will be removed (i.e., it isn't on your gdrive)."
      ]
    },
    {
      "cell_type": "code",
      "metadata": {
        "id": "F_73fyteS9gX"
      },
      "source": [
        "df_boston = pd.read_csv('/content/bostonHouses.csv')"
      ],
      "execution_count": 63,
      "outputs": []
    },
    {
      "cell_type": "markdown",
      "metadata": {
        "id": "k3DKADFdU0re"
      },
      "source": [
        "<img src='http://drive.google.com/uc?export=view&id=1WC4tXGCEF-1_2LQ74gIxJAZ-GLXCwBdK' width=\"100\" align = 'left'>  "
      ]
    },
    {
      "cell_type": "markdown",
      "metadata": {
        "id": "E-eSiYP3HOlx"
      },
      "source": [
        "Q: What kinds of data do you have?\n"
      ]
    },
    {
      "cell_type": "code",
      "metadata": {
        "id": "3YbSSBjNHWun"
      },
      "source": [
        "?"
      ],
      "execution_count": null,
      "outputs": []
    },
    {
      "cell_type": "markdown",
      "metadata": {
        "id": "4JTcOqxPHXZh"
      },
      "source": [
        "Q: Are there missing values anywhere?"
      ]
    },
    {
      "cell_type": "code",
      "metadata": {
        "id": "6hmyJub7HX6h"
      },
      "source": [
        "?"
      ],
      "execution_count": null,
      "outputs": []
    },
    {
      "cell_type": "markdown",
      "metadata": {
        "id": "IRu_wGLKG5qK"
      },
      "source": [
        "### <font color='lightblue'>Visualize and Explore</font>"
      ]
    },
    {
      "cell_type": "markdown",
      "metadata": {
        "id": "Z-XsLsMQVJBE"
      },
      "source": [
        "<img src='http://drive.google.com/uc?export=view&id=1WC4tXGCEF-1_2LQ74gIxJAZ-GLXCwBdK' width=\"100\" align = 'left'>  "
      ]
    },
    {
      "cell_type": "markdown",
      "metadata": {
        "id": "g87llbBEG-J4"
      },
      "source": [
        "Plot the house prices on the y-axis, with some other variables on the x-axis.\n",
        "> Generally the value we are trying to predict is called the response variable, while the values we are using to make those predictions are the predictor variables."
      ]
    },
    {
      "cell_type": "code",
      "metadata": {
        "id": "STIJY6mXGGh3"
      },
      "source": [
        "sns.scatterplot(data=df_boston, x=\"?\",y=\"price\")"
      ],
      "execution_count": null,
      "outputs": []
    },
    {
      "cell_type": "markdown",
      "metadata": {
        "id": "kBlzvYeAHb_p"
      },
      "source": [
        "Create a heat map to help you identify potentially interesting relationships."
      ]
    },
    {
      "cell_type": "code",
      "metadata": {
        "id": "gIxHKp43JMzO"
      },
      "source": [
        "df_boston_corr = df_boston.?()\n",
        "sns.heatmap(data=?)"
      ],
      "execution_count": null,
      "outputs": []
    },
    {
      "cell_type": "markdown",
      "metadata": {
        "id": "d5JdBUC5HlCl"
      },
      "source": [
        "### <font color='lightblue'>Build and train a model </font>"
      ]
    },
    {
      "cell_type": "markdown",
      "metadata": {
        "id": "6Pvddzu_V9Ym"
      },
      "source": [
        "Let's look at building our first model -- linear regression! \n",
        "> Can how well can we predict the price of a house based on the proportion of large lots in the area (i.e., the ZN value)?"
      ]
    },
    {
      "cell_type": "code",
      "metadata": {
        "id": "jySJe9bGV8lf"
      },
      "source": [
        "#Build the model\n",
        "linear_reg_model = smf.ols(formula='price ~ RM', data=df_boston)\n",
        "\n",
        "#Use the data to fit the model (i.e., find the best intercept and slope parameters)\n",
        "linear_reg_results = linear_reg_model.fit()\n",
        "\n",
        "#make predictions using the model\n",
        "df_boston['price_pred'] = linear_reg_results.predict(df_boston)"
      ],
      "execution_count": 64,
      "outputs": []
    },
    {
      "cell_type": "markdown",
      "metadata": {
        "id": "U8It3FHqX4x1"
      },
      "source": [
        "Let's take a look at the predictions!"
      ]
    },
    {
      "cell_type": "code",
      "metadata": {
        "colab": {
          "base_uri": "https://localhost:8080/",
          "height": 423
        },
        "id": "BzbR3ZSHX9KL",
        "outputId": "f643c2d3-762f-4f8e-95b4-41334c9c9369"
      },
      "source": [
        "df_boston"
      ],
      "execution_count": 132,
      "outputs": [
        {
          "output_type": "execute_result",
          "data": {
            "text/html": [
              "<div>\n",
              "<style scoped>\n",
              "    .dataframe tbody tr th:only-of-type {\n",
              "        vertical-align: middle;\n",
              "    }\n",
              "\n",
              "    .dataframe tbody tr th {\n",
              "        vertical-align: top;\n",
              "    }\n",
              "\n",
              "    .dataframe thead th {\n",
              "        text-align: right;\n",
              "    }\n",
              "</style>\n",
              "<table border=\"1\" class=\"dataframe\">\n",
              "  <thead>\n",
              "    <tr style=\"text-align: right;\">\n",
              "      <th></th>\n",
              "      <th>CRIM</th>\n",
              "      <th>ZN</th>\n",
              "      <th>INDUS</th>\n",
              "      <th>CHAS</th>\n",
              "      <th>NOX</th>\n",
              "      <th>RM</th>\n",
              "      <th>AGE</th>\n",
              "      <th>DIS</th>\n",
              "      <th>RAD</th>\n",
              "      <th>TAX</th>\n",
              "      <th>PTRATIO</th>\n",
              "      <th>B</th>\n",
              "      <th>LSTAT</th>\n",
              "      <th>price</th>\n",
              "      <th>price_pred</th>\n",
              "    </tr>\n",
              "  </thead>\n",
              "  <tbody>\n",
              "    <tr>\n",
              "      <th>0</th>\n",
              "      <td>0.00632</td>\n",
              "      <td>18.0</td>\n",
              "      <td>2.31</td>\n",
              "      <td>0</td>\n",
              "      <td>0.538</td>\n",
              "      <td>6.575</td>\n",
              "      <td>65.2</td>\n",
              "      <td>4.0900</td>\n",
              "      <td>1</td>\n",
              "      <td>296</td>\n",
              "      <td>15.3</td>\n",
              "      <td>396.90</td>\n",
              "      <td>4.98</td>\n",
              "      <td>24.0</td>\n",
              "      <td>24.020779</td>\n",
              "    </tr>\n",
              "    <tr>\n",
              "      <th>1</th>\n",
              "      <td>0.02731</td>\n",
              "      <td>0.0</td>\n",
              "      <td>7.07</td>\n",
              "      <td>0</td>\n",
              "      <td>0.469</td>\n",
              "      <td>6.421</td>\n",
              "      <td>78.9</td>\n",
              "      <td>4.9671</td>\n",
              "      <td>2</td>\n",
              "      <td>242</td>\n",
              "      <td>17.8</td>\n",
              "      <td>396.90</td>\n",
              "      <td>9.14</td>\n",
              "      <td>21.6</td>\n",
              "      <td>23.458163</td>\n",
              "    </tr>\n",
              "    <tr>\n",
              "      <th>2</th>\n",
              "      <td>0.02729</td>\n",
              "      <td>0.0</td>\n",
              "      <td>7.07</td>\n",
              "      <td>0</td>\n",
              "      <td>0.469</td>\n",
              "      <td>7.185</td>\n",
              "      <td>61.1</td>\n",
              "      <td>4.9671</td>\n",
              "      <td>2</td>\n",
              "      <td>242</td>\n",
              "      <td>17.8</td>\n",
              "      <td>392.83</td>\n",
              "      <td>4.03</td>\n",
              "      <td>34.7</td>\n",
              "      <td>26.249323</td>\n",
              "    </tr>\n",
              "    <tr>\n",
              "      <th>3</th>\n",
              "      <td>0.03237</td>\n",
              "      <td>0.0</td>\n",
              "      <td>2.18</td>\n",
              "      <td>0</td>\n",
              "      <td>0.458</td>\n",
              "      <td>6.998</td>\n",
              "      <td>45.8</td>\n",
              "      <td>6.0622</td>\n",
              "      <td>3</td>\n",
              "      <td>222</td>\n",
              "      <td>18.7</td>\n",
              "      <td>394.63</td>\n",
              "      <td>2.94</td>\n",
              "      <td>33.4</td>\n",
              "      <td>25.566146</td>\n",
              "    </tr>\n",
              "    <tr>\n",
              "      <th>4</th>\n",
              "      <td>0.06905</td>\n",
              "      <td>0.0</td>\n",
              "      <td>2.18</td>\n",
              "      <td>0</td>\n",
              "      <td>0.458</td>\n",
              "      <td>7.147</td>\n",
              "      <td>54.2</td>\n",
              "      <td>6.0622</td>\n",
              "      <td>3</td>\n",
              "      <td>222</td>\n",
              "      <td>18.7</td>\n",
              "      <td>396.90</td>\n",
              "      <td>5.33</td>\n",
              "      <td>36.2</td>\n",
              "      <td>26.110495</td>\n",
              "    </tr>\n",
              "    <tr>\n",
              "      <th>...</th>\n",
              "      <td>...</td>\n",
              "      <td>...</td>\n",
              "      <td>...</td>\n",
              "      <td>...</td>\n",
              "      <td>...</td>\n",
              "      <td>...</td>\n",
              "      <td>...</td>\n",
              "      <td>...</td>\n",
              "      <td>...</td>\n",
              "      <td>...</td>\n",
              "      <td>...</td>\n",
              "      <td>...</td>\n",
              "      <td>...</td>\n",
              "      <td>...</td>\n",
              "      <td>...</td>\n",
              "    </tr>\n",
              "    <tr>\n",
              "      <th>501</th>\n",
              "      <td>0.06263</td>\n",
              "      <td>0.0</td>\n",
              "      <td>11.93</td>\n",
              "      <td>0</td>\n",
              "      <td>0.573</td>\n",
              "      <td>6.593</td>\n",
              "      <td>69.1</td>\n",
              "      <td>2.4786</td>\n",
              "      <td>1</td>\n",
              "      <td>273</td>\n",
              "      <td>21.0</td>\n",
              "      <td>391.99</td>\n",
              "      <td>9.67</td>\n",
              "      <td>22.4</td>\n",
              "      <td>24.086539</td>\n",
              "    </tr>\n",
              "    <tr>\n",
              "      <th>502</th>\n",
              "      <td>0.04527</td>\n",
              "      <td>0.0</td>\n",
              "      <td>11.93</td>\n",
              "      <td>0</td>\n",
              "      <td>0.573</td>\n",
              "      <td>6.120</td>\n",
              "      <td>76.7</td>\n",
              "      <td>2.2875</td>\n",
              "      <td>1</td>\n",
              "      <td>273</td>\n",
              "      <td>21.0</td>\n",
              "      <td>396.90</td>\n",
              "      <td>9.08</td>\n",
              "      <td>20.6</td>\n",
              "      <td>22.358504</td>\n",
              "    </tr>\n",
              "    <tr>\n",
              "      <th>503</th>\n",
              "      <td>0.06076</td>\n",
              "      <td>0.0</td>\n",
              "      <td>11.93</td>\n",
              "      <td>0</td>\n",
              "      <td>0.573</td>\n",
              "      <td>6.976</td>\n",
              "      <td>91.0</td>\n",
              "      <td>2.1675</td>\n",
              "      <td>1</td>\n",
              "      <td>273</td>\n",
              "      <td>21.0</td>\n",
              "      <td>396.90</td>\n",
              "      <td>5.64</td>\n",
              "      <td>23.9</td>\n",
              "      <td>25.485772</td>\n",
              "    </tr>\n",
              "    <tr>\n",
              "      <th>504</th>\n",
              "      <td>0.10959</td>\n",
              "      <td>0.0</td>\n",
              "      <td>11.93</td>\n",
              "      <td>0</td>\n",
              "      <td>0.573</td>\n",
              "      <td>6.794</td>\n",
              "      <td>89.3</td>\n",
              "      <td>2.3889</td>\n",
              "      <td>1</td>\n",
              "      <td>273</td>\n",
              "      <td>21.0</td>\n",
              "      <td>393.45</td>\n",
              "      <td>6.48</td>\n",
              "      <td>22.0</td>\n",
              "      <td>24.820863</td>\n",
              "    </tr>\n",
              "    <tr>\n",
              "      <th>505</th>\n",
              "      <td>0.04741</td>\n",
              "      <td>0.0</td>\n",
              "      <td>11.93</td>\n",
              "      <td>0</td>\n",
              "      <td>0.573</td>\n",
              "      <td>6.030</td>\n",
              "      <td>80.8</td>\n",
              "      <td>2.5050</td>\n",
              "      <td>1</td>\n",
              "      <td>273</td>\n",
              "      <td>21.0</td>\n",
              "      <td>396.90</td>\n",
              "      <td>7.88</td>\n",
              "      <td>11.9</td>\n",
              "      <td>22.029703</td>\n",
              "    </tr>\n",
              "  </tbody>\n",
              "</table>\n",
              "<p>506 rows × 15 columns</p>\n",
              "</div>"
            ],
            "text/plain": [
              "        CRIM    ZN  INDUS  CHAS  ...       B  LSTAT  price  price_pred\n",
              "0    0.00632  18.0   2.31     0  ...  396.90   4.98   24.0   24.020779\n",
              "1    0.02731   0.0   7.07     0  ...  396.90   9.14   21.6   23.458163\n",
              "2    0.02729   0.0   7.07     0  ...  392.83   4.03   34.7   26.249323\n",
              "3    0.03237   0.0   2.18     0  ...  394.63   2.94   33.4   25.566146\n",
              "4    0.06905   0.0   2.18     0  ...  396.90   5.33   36.2   26.110495\n",
              "..       ...   ...    ...   ...  ...     ...    ...    ...         ...\n",
              "501  0.06263   0.0  11.93     0  ...  391.99   9.67   22.4   24.086539\n",
              "502  0.04527   0.0  11.93     0  ...  396.90   9.08   20.6   22.358504\n",
              "503  0.06076   0.0  11.93     0  ...  396.90   5.64   23.9   25.485772\n",
              "504  0.10959   0.0  11.93     0  ...  393.45   6.48   22.0   24.820863\n",
              "505  0.04741   0.0  11.93     0  ...  396.90   7.88   11.9   22.029703\n",
              "\n",
              "[506 rows x 15 columns]"
            ]
          },
          "metadata": {
            "tags": []
          },
          "execution_count": 132
        }
      ]
    },
    {
      "cell_type": "markdown",
      "metadata": {
        "id": "L1wuh6o4YE9v"
      },
      "source": [
        "Let's plot the predictions"
      ]
    },
    {
      "cell_type": "code",
      "metadata": {
        "colab": {
          "base_uri": "https://localhost:8080/",
          "height": 297
        },
        "id": "gIp6hA-QYEw1",
        "outputId": "9301f60d-90ec-4b14-c616-e473e638db1f"
      },
      "source": [
        "sns.scatterplot(data=df_boston,x='RM', y='price')\n",
        "sns.scatterplot(data=df_boston,x='RM', y='price_pred')\n"
      ],
      "execution_count": 133,
      "outputs": [
        {
          "output_type": "execute_result",
          "data": {
            "text/plain": [
              "<matplotlib.axes._subplots.AxesSubplot at 0x7fa1638fb510>"
            ]
          },
          "metadata": {
            "tags": []
          },
          "execution_count": 133
        },
        {
          "output_type": "display_data",
          "data": {
            "image/png": "[encoded data removed]",
            "text/plain": [
              "<Figure size 432x288 with 1 Axes>"
            ]
          },
          "metadata": {
            "tags": [],
            "needs_background": "light"
          }
        }
      ]
    },
    {
      "cell_type": "markdown",
      "metadata": {
        "id": "0GSoZJ_aZc9v"
      },
      "source": [
        "We can see that all the predicted points fall along a line. This is y = a + b*rooms.\n",
        " \n",
        "Let's take a look at what values for a (intercept) and b (slope RM) the model estimated."
      ]
    },
    {
      "cell_type": "code",
      "metadata": {
        "colab": {
          "base_uri": "https://localhost:8080/"
        },
        "id": "wyoJTungeX4p",
        "outputId": "988ecafe-d72d-47b0-c513-8fe34de31650"
      },
      "source": [
        "print(linear_reg_results.summary())"
      ],
      "execution_count": 106,
      "outputs": [
        {
          "output_type": "stream",
          "text": [
            "                            OLS Regression Results                            \n",
            "==============================================================================\n",
            "Dep. Variable:                  price   R-squared:                       0.484\n",
            "Model:                            OLS   Adj. R-squared:                  0.483\n",
            "Method:                 Least Squares   F-statistic:                     471.8\n",
            "Date:                Tue, 06 Jul 2021   Prob (F-statistic):           2.49e-74\n",
            "Time:                        18:10:09   Log-Likelihood:                -1673.1\n",
            "No. Observations:                 506   AIC:                             3350.\n",
            "Df Residuals:                     504   BIC:                             3359.\n",
            "Df Model:                           1                                         \n",
            "Covariance Type:            nonrobust                                         \n",
            "==============================================================================\n",
            "                 coef    std err          t      P>|t|      [0.025      0.975]\n",
            "------------------------------------------------------------------------------\n",
            "Intercept    -34.6706      2.650    -13.084      0.000     -39.877     -29.465\n",
            "RM             9.1021      0.419     21.722      0.000       8.279       9.925\n",
            "==============================================================================\n",
            "Omnibus:                      102.585   Durbin-Watson:                   0.684\n",
            "Prob(Omnibus):                  0.000   Jarque-Bera (JB):              612.449\n",
            "Skew:                           0.726   Prob(JB):                    1.02e-133\n",
            "Kurtosis:                       8.190   Cond. No.                         58.4\n",
            "==============================================================================\n",
            "\n",
            "Warnings:\n",
            "[1] Standard Errors assume that the covariance matrix of the errors is correctly specified.\n"
          ],
          "name": "stdout"
        }
      ]
    },
    {
      "cell_type": "markdown",
      "metadata": {
        "id": "Wr5smD6t8Tff"
      },
      "source": [
        "Before moving on let's drop the predictions we have made so far."
      ]
    },
    {
      "cell_type": "code",
      "metadata": {
        "id": "hUNqmKiO8D8f"
      },
      "source": [
        "df_boston = df_boston.drop('price_pred',axis=1)"
      ],
      "execution_count": 137,
      "outputs": []
    },
    {
      "cell_type": "markdown",
      "metadata": {
        "id": "C0MmbEZ7dq5e"
      },
      "source": [
        "<img src='http://drive.google.com/uc?export=view&id=1qWrKY9TgpgQaBCzZfz1xLTV6iCeSwfmG' width=\"100\" align = 'left'>"
      ]
    },
    {
      "cell_type": "markdown",
      "metadata": {
        "id": "n8C4RUB7RYCG"
      },
      "source": [
        "### <font color='lightblue'>Training / Testing Split </font>"
      ]
    },
    {
      "cell_type": "markdown",
      "metadata": {
        "id": "xlIVmLX7HqMm"
      },
      "source": [
        "\n",
        "</br>\n",
        "</br>\n",
        "We will follow a general approach when building models. We will divide the dataset into *training* and *testing* datasets. \n",
        "</br>\n",
        "This lets us fit the model to one part of the data and then use the withheld data to test the predictions of the model. This helps us avoid *overfitting* our model!"
      ]
    },
    {
      "cell_type": "code",
      "metadata": {
        "id": "eZEdEuROIFNC"
      },
      "source": [
        "#load libraries to do the training and testing split\n",
        "from sklearn.model_selection import train_test_split\n",
        "\n",
        "#Split the dataframe into 80% training and 20% testing datasets\n",
        "df_train, df_test = train_test_split(df_boston, test_size=0.20)"
      ],
      "execution_count": 138,
      "outputs": []
    },
    {
      "cell_type": "code",
      "metadata": {
        "colab": {
          "base_uri": "https://localhost:8080/"
        },
        "id": "2CmwRtpxS7Vf",
        "outputId": "f809e499-1d46-4e53-dc58-bf7392289b22"
      },
      "source": [
        "#take a look at the shape of the training dataset\n",
        "df_train.shape"
      ],
      "execution_count": 139,
      "outputs": [
        {
          "output_type": "execute_result",
          "data": {
            "text/plain": [
              "(404, 14)"
            ]
          },
          "metadata": {
            "tags": []
          },
          "execution_count": 139
        }
      ]
    },
    {
      "cell_type": "code",
      "metadata": {
        "colab": {
          "base_uri": "https://localhost:8080/"
        },
        "id": "HdMXfjuFSNfq",
        "outputId": "e539a61f-359a-4a29-ecec-6172e480a7c8"
      },
      "source": [
        "#take a look at the shape of the testing dataset\n",
        "df_test.shape\n"
      ],
      "execution_count": 140,
      "outputs": [
        {
          "output_type": "execute_result",
          "data": {
            "text/plain": [
              "(102, 14)"
            ]
          },
          "metadata": {
            "tags": []
          },
          "execution_count": 140
        }
      ]
    },
    {
      "cell_type": "markdown",
      "metadata": {
        "id": "moh5HFYwTKoz"
      },
      "source": [
        "### <font color='lightblue'>Fit a model </font>"
      ]
    },
    {
      "cell_type": "markdown",
      "metadata": {
        "id": "Dvm90X8DlqnT"
      },
      "source": [
        "<img src='http://drive.google.com/uc?export=view&id=1WC4tXGCEF-1_2LQ74gIxJAZ-GLXCwBdK' width=\"100\" align = 'left'>  "
      ]
    },
    {
      "cell_type": "markdown",
      "metadata": {
        "id": "vrThvCCaTbqR"
      },
      "source": [
        "In general when using sklearn to fit a model we will follow these steps:"
      ]
    },
    {
      "cell_type": "code",
      "metadata": {
        "colab": {
          "base_uri": "https://localhost:8080/"
        },
        "id": "jI65cVtTTbFd",
        "outputId": "2302777c-92f1-4689-f0f0-ed60107a790d"
      },
      "source": [
        "#define model parameters\n",
        "linear_reg_split_model = smf.ols(formula='price ~ RM', data=df_train) #note: using training data\n",
        "\n",
        "#fit the model to the training data\n",
        "linear_reg_split_results = linear_reg_split_model.fit()\n",
        "\n",
        "#predict values in the training and testing dataset\n",
        "df_train['price_pred'] = linear_reg_split_results.predict(df_train) #note: using train data\n",
        "df_test['price_pred'] = linear_reg_split_results.predict(df_test) #note: using test data\n",
        "\n",
        "#Get a summary of the model parameters\n",
        "print(linear_reg_split_results.summary())"
      ],
      "execution_count": 141,
      "outputs": [
        {
          "output_type": "stream",
          "text": [
            "                            OLS Regression Results                            \n",
            "==============================================================================\n",
            "Dep. Variable:                  price   R-squared:                       0.492\n",
            "Model:                            OLS   Adj. R-squared:                  0.491\n",
            "Method:                 Least Squares   F-statistic:                     389.4\n",
            "Date:                Tue, 06 Jul 2021   Prob (F-statistic):           4.16e-61\n",
            "Time:                        18:23:21   Log-Likelihood:                -1338.3\n",
            "No. Observations:                 404   AIC:                             2681.\n",
            "Df Residuals:                     402   BIC:                             2689.\n",
            "Df Model:                           1                                         \n",
            "Covariance Type:            nonrobust                                         \n",
            "==============================================================================\n",
            "                 coef    std err          t      P>|t|      [0.025      0.975]\n",
            "------------------------------------------------------------------------------\n",
            "Intercept    -35.2800      2.949    -11.964      0.000     -41.077     -29.483\n",
            "RM             9.1947      0.466     19.734      0.000       8.279      10.111\n",
            "==============================================================================\n",
            "Omnibus:                       98.958   Durbin-Watson:                   1.974\n",
            "Prob(Omnibus):                  0.000   Jarque-Bera (JB):              565.744\n",
            "Skew:                           0.902   Prob(JB):                    1.41e-123\n",
            "Kurtosis:                       8.509   Cond. No.                         57.7\n",
            "==============================================================================\n",
            "\n",
            "Warnings:\n",
            "[1] Standard Errors assume that the covariance matrix of the errors is correctly specified.\n"
          ],
          "name": "stdout"
        },
        {
          "output_type": "stream",
          "text": [
            "/usr/local/lib/python3.7/dist-packages/ipykernel_launcher.py:8: SettingWithCopyWarning: \n",
            "A value is trying to be set on a copy of a slice from a DataFrame.\n",
            "Try using .loc[row_indexer,col_indexer] = value instead\n",
            "\n",
            "See the caveats in the documentation: https://pandas.pydata.org/pandas-docs/stable/user_guide/indexing.html#returning-a-view-versus-a-copy\n",
            "  \n",
            "/usr/local/lib/python3.7/dist-packages/ipykernel_launcher.py:9: SettingWithCopyWarning: \n",
            "A value is trying to be set on a copy of a slice from a DataFrame.\n",
            "Try using .loc[row_indexer,col_indexer] = value instead\n",
            "\n",
            "See the caveats in the documentation: https://pandas.pydata.org/pandas-docs/stable/user_guide/indexing.html#returning-a-view-versus-a-copy\n",
            "  if __name__ == '__main__':\n"
          ],
          "name": "stderr"
        }
      ]
    },
    {
      "cell_type": "markdown",
      "metadata": {
        "id": "GmYUjT27dbBy"
      },
      "source": [
        "Visualize predictions on the training dataset"
      ]
    },
    {
      "cell_type": "code",
      "metadata": {
        "colab": {
          "base_uri": "https://localhost:8080/",
          "height": 131
        },
        "id": "-OgHBdczgYn1",
        "outputId": "b4e884d1-5fc4-467e-97dc-c21bd5926927"
      },
      "source": [
        "sns.scatterplot(data=df_train,?) # observed price\n",
        "sns.scatterplot(data=df_train,?) #predicted price\n"
      ],
      "execution_count": 142,
      "outputs": [
        {
          "output_type": "error",
          "ename": "SyntaxError",
          "evalue": "ignored",
          "traceback": [
            "\u001b[0;36m  File \u001b[0;32m\"<ipython-input-142-b4ebff11b9e5>\"\u001b[0;36m, line \u001b[0;32m1\u001b[0m\n\u001b[0;31m    sns.scatterplot(data=df_train,?) # observed price\u001b[0m\n\u001b[0m                                  ^\u001b[0m\n\u001b[0;31mSyntaxError\u001b[0m\u001b[0;31m:\u001b[0m invalid syntax\n"
          ]
        }
      ]
    },
    {
      "cell_type": "markdown",
      "metadata": {
        "id": "OI0ISMZ6hLa5"
      },
      "source": [
        "Visualize predictions on the testing dataset"
      ]
    },
    {
      "cell_type": "code",
      "metadata": {
        "colab": {
          "base_uri": "https://localhost:8080/",
          "height": 297
        },
        "id": "KqQVt4qUhKgg",
        "outputId": "8b825a21-e5e8-4722-a686-402e2413ae98"
      },
      "source": [
        "sns.scatterplot(data=df_test,?) # observed price\n",
        "sns.scatterplot(data=df_test,?) # predicted price\n"
      ],
      "execution_count": 53,
      "outputs": [
        {
          "output_type": "execute_result",
          "data": {
            "text/plain": [
              "<matplotlib.axes._subplots.AxesSubplot at 0x7fa16487b6d0>"
            ]
          },
          "metadata": {
            "tags": []
          },
          "execution_count": 53
        },
        {
          "output_type": "display_data",
          "data": {
            "image/png": "[encoded data removed]",
            "text/plain": [
              "<Figure size 432x288 with 1 Axes>"
            ]
          },
          "metadata": {
            "tags": [],
            "needs_background": "light"
          }
        }
      ]
    },
    {
      "cell_type": "markdown",
      "metadata": {
        "id": "S7gvWHDrbuK1"
      },
      "source": [
        "How good is the model at predicting?"
      ]
    },
    {
      "cell_type": "markdown",
      "metadata": {
        "id": "JVjbIwh9jrZN"
      },
      "source": [
        "> Making predictions in the training dataset"
      ]
    },
    {
      "cell_type": "code",
      "metadata": {
        "colab": {
          "base_uri": "https://localhost:8080/"
        },
        "id": "iP5YMbKljvIj",
        "outputId": "9a9abe3a-9443-409a-9081-27c54ac6564d"
      },
      "source": [
        "#mean squared error\n",
        "mse_train = sk.metrics.mean_squared_error(df_train['price'], df_train['price_pred']) \n",
        "\n",
        "print(\" Mean squared error = \", mse_train)"
      ],
      "execution_count": 143,
      "outputs": [
        {
          "output_type": "stream",
          "text": [
            " Mean squared error =  44.13389384783904\n"
          ],
          "name": "stdout"
        }
      ]
    },
    {
      "cell_type": "markdown",
      "metadata": {
        "id": "feVCA701j0fM"
      },
      "source": [
        "> Making predictions in the testing dataset (not used to fit the model)"
      ]
    },
    {
      "cell_type": "code",
      "metadata": {
        "colab": {
          "base_uri": "https://localhost:8080/"
        },
        "id": "copqYxmCj4QR",
        "outputId": "70f69620-3b53-44cb-db44-2dbc8326a5d0"
      },
      "source": [
        "#mean squared error\n",
        "mse_test = sk.metrics.mean_squared_error(df_test['price'], df_test['price_pred']) \n",
        "\n",
        "print(\" Mean squared error = \", mse_test)"
      ],
      "execution_count": 144,
      "outputs": [
        {
          "output_type": "stream",
          "text": [
            " Mean squared error =  41.51278278760135\n"
          ],
          "name": "stdout"
        }
      ]
    },
    {
      "cell_type": "markdown",
      "metadata": {
        "id": "4Y6ZNq82kMwJ"
      },
      "source": [
        "Q: Which prediction error is higher?"
      ]
    },
    {
      "cell_type": "markdown",
      "metadata": {
        "id": "d2iuYitVkb3O"
      },
      "source": [
        "Q: Is all that error just noise? Or could there be other variables that might explain why the predictions are off?"
      ]
    },
    {
      "cell_type": "markdown",
      "metadata": {
        "id": "giyvuAxJgSOa"
      },
      "source": [
        "<img src='http://drive.google.com/uc?export=view&id=1qWrKY9TgpgQaBCzZfz1xLTV6iCeSwfmG' width=\"100\" align = 'left'>"
      ]
    },
    {
      "cell_type": "markdown",
      "metadata": {
        "id": "6L3gTa8Ik_6I"
      },
      "source": [
        "### <font color='lightblue'>Fit a more complex model</font>"
      ]
    },
    {
      "cell_type": "markdown",
      "metadata": {
        "id": "S4pSaQXslLVk"
      },
      "source": [
        "This time we will try multiple linear regression"
      ]
    },
    {
      "cell_type": "code",
      "metadata": {
        "colab": {
          "base_uri": "https://localhost:8080/"
        },
        "id": "LcG4MXuolVpB",
        "outputId": "137f6162-93b4-4393-f4db-5caa81598871"
      },
      "source": [
        "#define model parameters, and the training data to be used\n",
        "multi_linear_reg = smf.ols(formula='price ~ RM + ZN', data=df_train) #use training data\n",
        "\n",
        "#fit the model to the training data\n",
        "results_RN_ZN = multi_linear_reg.fit() \n",
        "\n",
        "#Predict values in the testing dataset\n",
        "df_test['price_pred_RM_ZN'] = results_RN_ZN.predict(df_test) #predict on testing data\n",
        "\n",
        "#Get a summary of the model parameters\n",
        "print(results_RN_ZN.summary()) \n"
      ],
      "execution_count": 86,
      "outputs": [
        {
          "output_type": "stream",
          "text": [
            "                            OLS Regression Results                            \n",
            "==============================================================================\n",
            "Dep. Variable:                  price   R-squared:                       0.519\n",
            "Model:                            OLS   Adj. R-squared:                  0.516\n",
            "Method:                 Least Squares   F-statistic:                     216.0\n",
            "Date:                Tue, 06 Jul 2021   Prob (F-statistic):           2.19e-64\n",
            "Time:                        17:51:01   Log-Likelihood:                -1318.9\n",
            "No. Observations:                 404   AIC:                             2644.\n",
            "Df Residuals:                     401   BIC:                             2656.\n",
            "Df Model:                           2                                         \n",
            "Covariance Type:            nonrobust                                         \n",
            "==============================================================================\n",
            "                 coef    std err          t      P>|t|      [0.025      0.975]\n",
            "------------------------------------------------------------------------------\n",
            "Intercept    -33.3489      3.089    -10.794      0.000     -39.423     -27.275\n",
            "RM             8.7518      0.497     17.626      0.000       7.776       9.728\n",
            "ZN             0.0631      0.014      4.476      0.000       0.035       0.091\n",
            "==============================================================================\n",
            "Omnibus:                       93.970   Durbin-Watson:                   2.058\n",
            "Prob(Omnibus):                  0.000   Jarque-Bera (JB):              572.870\n",
            "Skew:                           0.825   Prob(JB):                    4.01e-125\n",
            "Kurtosis:                       8.595   Cond. No.                         265.\n",
            "==============================================================================\n",
            "\n",
            "Warnings:\n",
            "[1] Standard Errors assume that the covariance matrix of the errors is correctly specified.\n"
          ],
          "name": "stdout"
        },
        {
          "output_type": "stream",
          "text": [
            "/usr/local/lib/python3.7/dist-packages/ipykernel_launcher.py:8: SettingWithCopyWarning: \n",
            "A value is trying to be set on a copy of a slice from a DataFrame.\n",
            "Try using .loc[row_indexer,col_indexer] = value instead\n",
            "\n",
            "See the caveats in the documentation: https://pandas.pydata.org/pandas-docs/stable/user_guide/indexing.html#returning-a-view-versus-a-copy\n",
            "  \n"
          ],
          "name": "stderr"
        }
      ]
    },
    {
      "cell_type": "markdown",
      "metadata": {
        "id": "8yeNY-fNlVpo"
      },
      "source": [
        "Visualize and explore these predictions"
      ]
    },
    {
      "cell_type": "code",
      "metadata": {
        "colab": {
          "base_uri": "https://localhost:8080/",
          "height": 423
        },
        "id": "Ql6ferivj2v4",
        "outputId": "3356e7a6-5d7d-45f4-eb16-780df263899a"
      },
      "source": [
        "df_test"
      ],
      "execution_count": 87,
      "outputs": [
        {
          "output_type": "execute_result",
          "data": {
            "text/html": [
              "<div>\n",
              "<style scoped>\n",
              "    .dataframe tbody tr th:only-of-type {\n",
              "        vertical-align: middle;\n",
              "    }\n",
              "\n",
              "    .dataframe tbody tr th {\n",
              "        vertical-align: top;\n",
              "    }\n",
              "\n",
              "    .dataframe thead th {\n",
              "        text-align: right;\n",
              "    }\n",
              "</style>\n",
              "<table border=\"1\" class=\"dataframe\">\n",
              "  <thead>\n",
              "    <tr style=\"text-align: right;\">\n",
              "      <th></th>\n",
              "      <th>CRIM</th>\n",
              "      <th>ZN</th>\n",
              "      <th>INDUS</th>\n",
              "      <th>CHAS</th>\n",
              "      <th>NOX</th>\n",
              "      <th>RM</th>\n",
              "      <th>AGE</th>\n",
              "      <th>DIS</th>\n",
              "      <th>RAD</th>\n",
              "      <th>TAX</th>\n",
              "      <th>PTRATIO</th>\n",
              "      <th>B</th>\n",
              "      <th>LSTAT</th>\n",
              "      <th>price</th>\n",
              "      <th>price_pred</th>\n",
              "      <th>price_pred_RM_ZN</th>\n",
              "    </tr>\n",
              "  </thead>\n",
              "  <tbody>\n",
              "    <tr>\n",
              "      <th>166</th>\n",
              "      <td>2.01019</td>\n",
              "      <td>0.0</td>\n",
              "      <td>19.58</td>\n",
              "      <td>0</td>\n",
              "      <td>0.605</td>\n",
              "      <td>7.929</td>\n",
              "      <td>96.2</td>\n",
              "      <td>2.0459</td>\n",
              "      <td>5</td>\n",
              "      <td>403</td>\n",
              "      <td>14.7</td>\n",
              "      <td>369.30</td>\n",
              "      <td>3.70</td>\n",
              "      <td>50.0</td>\n",
              "      <td>38.003515</td>\n",
              "      <td>36.043956</td>\n",
              "    </tr>\n",
              "    <tr>\n",
              "      <th>250</th>\n",
              "      <td>0.14030</td>\n",
              "      <td>22.0</td>\n",
              "      <td>5.86</td>\n",
              "      <td>0</td>\n",
              "      <td>0.431</td>\n",
              "      <td>6.487</td>\n",
              "      <td>13.0</td>\n",
              "      <td>7.3967</td>\n",
              "      <td>7</td>\n",
              "      <td>330</td>\n",
              "      <td>19.1</td>\n",
              "      <td>396.28</td>\n",
              "      <td>5.90</td>\n",
              "      <td>24.4</td>\n",
              "      <td>24.310324</td>\n",
              "      <td>24.811303</td>\n",
              "    </tr>\n",
              "    <tr>\n",
              "      <th>459</th>\n",
              "      <td>6.80117</td>\n",
              "      <td>0.0</td>\n",
              "      <td>18.10</td>\n",
              "      <td>0</td>\n",
              "      <td>0.713</td>\n",
              "      <td>6.081</td>\n",
              "      <td>84.4</td>\n",
              "      <td>2.7175</td>\n",
              "      <td>24</td>\n",
              "      <td>666</td>\n",
              "      <td>20.2</td>\n",
              "      <td>396.90</td>\n",
              "      <td>14.70</td>\n",
              "      <td>20.0</td>\n",
              "      <td>20.454960</td>\n",
              "      <td>19.870663</td>\n",
              "    </tr>\n",
              "    <tr>\n",
              "      <th>157</th>\n",
              "      <td>1.22358</td>\n",
              "      <td>0.0</td>\n",
              "      <td>19.58</td>\n",
              "      <td>0</td>\n",
              "      <td>0.605</td>\n",
              "      <td>6.943</td>\n",
              "      <td>97.4</td>\n",
              "      <td>1.8773</td>\n",
              "      <td>5</td>\n",
              "      <td>403</td>\n",
              "      <td>14.7</td>\n",
              "      <td>363.43</td>\n",
              "      <td>4.59</td>\n",
              "      <td>41.3</td>\n",
              "      <td>28.640487</td>\n",
              "      <td>27.414699</td>\n",
              "    </tr>\n",
              "    <tr>\n",
              "      <th>149</th>\n",
              "      <td>2.73397</td>\n",
              "      <td>0.0</td>\n",
              "      <td>19.58</td>\n",
              "      <td>0</td>\n",
              "      <td>0.871</td>\n",
              "      <td>5.597</td>\n",
              "      <td>94.9</td>\n",
              "      <td>1.5257</td>\n",
              "      <td>5</td>\n",
              "      <td>403</td>\n",
              "      <td>14.7</td>\n",
              "      <td>351.85</td>\n",
              "      <td>21.45</td>\n",
              "      <td>15.4</td>\n",
              "      <td>15.858910</td>\n",
              "      <td>15.634800</td>\n",
              "    </tr>\n",
              "    <tr>\n",
              "      <th>...</th>\n",
              "      <td>...</td>\n",
              "      <td>...</td>\n",
              "      <td>...</td>\n",
              "      <td>...</td>\n",
              "      <td>...</td>\n",
              "      <td>...</td>\n",
              "      <td>...</td>\n",
              "      <td>...</td>\n",
              "      <td>...</td>\n",
              "      <td>...</td>\n",
              "      <td>...</td>\n",
              "      <td>...</td>\n",
              "      <td>...</td>\n",
              "      <td>...</td>\n",
              "      <td>...</td>\n",
              "      <td>...</td>\n",
              "    </tr>\n",
              "    <tr>\n",
              "      <th>430</th>\n",
              "      <td>8.49213</td>\n",
              "      <td>0.0</td>\n",
              "      <td>18.10</td>\n",
              "      <td>0</td>\n",
              "      <td>0.584</td>\n",
              "      <td>6.348</td>\n",
              "      <td>86.1</td>\n",
              "      <td>2.0527</td>\n",
              "      <td>24</td>\n",
              "      <td>666</td>\n",
              "      <td>20.2</td>\n",
              "      <td>83.45</td>\n",
              "      <td>17.64</td>\n",
              "      <td>14.5</td>\n",
              "      <td>22.990384</td>\n",
              "      <td>22.207389</td>\n",
              "    </tr>\n",
              "    <tr>\n",
              "      <th>116</th>\n",
              "      <td>0.13158</td>\n",
              "      <td>0.0</td>\n",
              "      <td>10.01</td>\n",
              "      <td>0</td>\n",
              "      <td>0.547</td>\n",
              "      <td>6.176</td>\n",
              "      <td>72.5</td>\n",
              "      <td>2.7301</td>\n",
              "      <td>6</td>\n",
              "      <td>432</td>\n",
              "      <td>17.8</td>\n",
              "      <td>393.30</td>\n",
              "      <td>12.04</td>\n",
              "      <td>21.2</td>\n",
              "      <td>21.357077</td>\n",
              "      <td>20.702082</td>\n",
              "    </tr>\n",
              "    <tr>\n",
              "      <th>295</th>\n",
              "      <td>0.12932</td>\n",
              "      <td>0.0</td>\n",
              "      <td>13.92</td>\n",
              "      <td>0</td>\n",
              "      <td>0.437</td>\n",
              "      <td>6.678</td>\n",
              "      <td>31.1</td>\n",
              "      <td>5.9604</td>\n",
              "      <td>4</td>\n",
              "      <td>289</td>\n",
              "      <td>16.0</td>\n",
              "      <td>396.90</td>\n",
              "      <td>6.27</td>\n",
              "      <td>28.6</td>\n",
              "      <td>26.124055</td>\n",
              "      <td>25.095477</td>\n",
              "    </tr>\n",
              "    <tr>\n",
              "      <th>28</th>\n",
              "      <td>0.77299</td>\n",
              "      <td>0.0</td>\n",
              "      <td>8.14</td>\n",
              "      <td>0</td>\n",
              "      <td>0.538</td>\n",
              "      <td>6.495</td>\n",
              "      <td>94.4</td>\n",
              "      <td>4.4547</td>\n",
              "      <td>4</td>\n",
              "      <td>307</td>\n",
              "      <td>21.0</td>\n",
              "      <td>387.94</td>\n",
              "      <td>12.80</td>\n",
              "      <td>18.4</td>\n",
              "      <td>24.386292</td>\n",
              "      <td>23.493901</td>\n",
              "    </tr>\n",
              "    <tr>\n",
              "      <th>357</th>\n",
              "      <td>3.84970</td>\n",
              "      <td>0.0</td>\n",
              "      <td>18.10</td>\n",
              "      <td>1</td>\n",
              "      <td>0.770</td>\n",
              "      <td>6.395</td>\n",
              "      <td>91.0</td>\n",
              "      <td>2.5052</td>\n",
              "      <td>24</td>\n",
              "      <td>666</td>\n",
              "      <td>20.2</td>\n",
              "      <td>391.34</td>\n",
              "      <td>13.27</td>\n",
              "      <td>21.7</td>\n",
              "      <td>23.436695</td>\n",
              "      <td>22.618722</td>\n",
              "    </tr>\n",
              "  </tbody>\n",
              "</table>\n",
              "<p>102 rows × 16 columns</p>\n",
              "</div>"
            ],
            "text/plain": [
              "        CRIM    ZN  INDUS  CHAS  ...  LSTAT  price  price_pred  price_pred_RM_ZN\n",
              "166  2.01019   0.0  19.58     0  ...   3.70   50.0   38.003515         36.043956\n",
              "250  0.14030  22.0   5.86     0  ...   5.90   24.4   24.310324         24.811303\n",
              "459  6.80117   0.0  18.10     0  ...  14.70   20.0   20.454960         19.870663\n",
              "157  1.22358   0.0  19.58     0  ...   4.59   41.3   28.640487         27.414699\n",
              "149  2.73397   0.0  19.58     0  ...  21.45   15.4   15.858910         15.634800\n",
              "..       ...   ...    ...   ...  ...    ...    ...         ...               ...\n",
              "430  8.49213   0.0  18.10     0  ...  17.64   14.5   22.990384         22.207389\n",
              "116  0.13158   0.0  10.01     0  ...  12.04   21.2   21.357077         20.702082\n",
              "295  0.12932   0.0  13.92     0  ...   6.27   28.6   26.124055         25.095477\n",
              "28   0.77299   0.0   8.14     0  ...  12.80   18.4   24.386292         23.493901\n",
              "357  3.84970   0.0  18.10     1  ...  13.27   21.7   23.436695         22.618722\n",
              "\n",
              "[102 rows x 16 columns]"
            ]
          },
          "metadata": {
            "tags": []
          },
          "execution_count": 87
        }
      ]
    },
    {
      "cell_type": "markdown",
      "metadata": {
        "id": "UkNy9y6XlVpp"
      },
      "source": [
        "First let's look at how the model predicts the price of houses in the testing dataset. Now that we have two predictors we'll have to look at one at a time.\n",
        "</br>\n",
        "Let's look at the number of rooms (RM) first:"
      ]
    },
    {
      "cell_type": "code",
      "metadata": {
        "colab": {
          "base_uri": "https://localhost:8080/",
          "height": 297
        },
        "id": "ISDYqiddlVpq",
        "outputId": "810ba2c9-84af-4fe4-8f13-a426be908087"
      },
      "source": [
        "sns.scatterplot(data=df_test,x='RM', y='price')\n",
        "sns.scatterplot(data=df_test,x='RM', y='price_pred_RM_ZN')\n"
      ],
      "execution_count": 88,
      "outputs": [
        {
          "output_type": "execute_result",
          "data": {
            "text/plain": [
              "<matplotlib.axes._subplots.AxesSubplot at 0x7fa164839bd0>"
            ]
          },
          "metadata": {
            "tags": []
          },
          "execution_count": 88
        },
        {
          "output_type": "display_data",
          "data": {
            "image/png": "[encoded data removed]",
            "text/plain": [
              "<Figure size 432x288 with 1 Axes>"
            ]
          },
          "metadata": {
            "tags": [],
            "needs_background": "light"
          }
        }
      ]
    },
    {
      "cell_type": "markdown",
      "metadata": {
        "id": "lpiaTnKMtE7a"
      },
      "source": [
        "Then at lot size (ZN):"
      ]
    },
    {
      "cell_type": "code",
      "metadata": {
        "colab": {
          "base_uri": "https://localhost:8080/",
          "height": 297
        },
        "id": "SYoe7PJ1tGhL",
        "outputId": "b1b0022a-4bb2-4b72-f36e-874d5e7e0a3e"
      },
      "source": [
        "sns.scatterplot(data=df_test,x='ZN', y='price')\n",
        "sns.scatterplot(data=df_test,x='ZN', y='price_pred_RM_ZN')"
      ],
      "execution_count": 89,
      "outputs": [
        {
          "output_type": "execute_result",
          "data": {
            "text/plain": [
              "<matplotlib.axes._subplots.AxesSubplot at 0x7fa1645ea850>"
            ]
          },
          "metadata": {
            "tags": []
          },
          "execution_count": 89
        },
        {
          "output_type": "display_data",
          "data": {
            "image/png": "[encoded data removed]",
            "text/plain": [
              "<Figure size 432x288 with 1 Axes>"
            ]
          },
          "metadata": {
            "tags": [],
            "needs_background": "light"
          }
        }
      ]
    },
    {
      "cell_type": "markdown",
      "metadata": {
        "id": "NHsjIRSOlVpu"
      },
      "source": [
        "How good is the model at predicting?"
      ]
    },
    {
      "cell_type": "code",
      "metadata": {
        "colab": {
          "base_uri": "https://localhost:8080/"
        },
        "id": "oE07NmnClVpv",
        "outputId": "eade6bf2-9de4-42e4-b204-8b06220f8dca"
      },
      "source": [
        "#mean squared error\n",
        "mse_multi = sk.metrics.mean_squared_error(df_test['price'], df_test['price_pred_RM_ZN']) \n",
        "\n",
        "print(\" Mean squared error = \", mse_multi.round(2))\n",
        "\n"
      ],
      "execution_count": 90,
      "outputs": [
        {
          "output_type": "stream",
          "text": [
            " Mean squared error =  48.27\n"
          ],
          "name": "stdout"
        }
      ]
    },
    {
      "cell_type": "markdown",
      "metadata": {
        "id": "zU9L78-Oo--6"
      },
      "source": [
        "Q: how does that compare to our simple model?"
      ]
    },
    {
      "cell_type": "markdown",
      "metadata": {
        "id": "r2ZaE1KKpKk4"
      },
      "source": [
        "<img src='http://drive.google.com/uc?export=view&id=1WC4tXGCEF-1_2LQ74gIxJAZ-GLXCwBdK' width=\"100\" align = 'left'>  "
      ]
    },
    {
      "cell_type": "markdown",
      "metadata": {
        "id": "lc8RCXOrxCHX"
      },
      "source": [
        "### <font color='lightblue'>Try adding more variables!</font>\n",
        " \n",
        " Run a linear regression model to predict house prices. Try and beat the RMSE of the previous models! Feel free to post to slack your results and RMSE scores! Does RMSE always decrease as you add more variables?"
      ]
    },
    {
      "cell_type": "code",
      "metadata": {
        "colab": {
          "base_uri": "https://localhost:8080/"
        },
        "id": "dGhrD9IemCHT",
        "outputId": "a3973610-3add-42ae-8b7a-f723c4ce16f8"
      },
      "source": [
        "#define model parameters\n",
        "large_linear_reg = ?\n",
        "\n",
        "#fit the model to the training data\n",
        "large_linear_reg_res = ?\n",
        "\n",
        "#predit with the full model\n",
        "df_test['price_pred_full'] = ?\n",
        "\n",
        "#Get a summary of the model parameters\n",
        "print(?) "
      ],
      "execution_count": null,
      "outputs": [
        {
          "output_type": "stream",
          "text": [
            "                            OLS Regression Results                            \n",
            "==============================================================================\n",
            "Dep. Variable:                  price   R-squared:                       0.520\n",
            "Model:                            OLS   Adj. R-squared:                  0.517\n",
            "Method:                 Least Squares   F-statistic:                     217.1\n",
            "Date:                Mon, 05 Jul 2021   Prob (F-statistic):           1.29e-64\n",
            "Time:                        17:10:45   Log-Likelihood:                -1331.0\n",
            "No. Observations:                 404   AIC:                             2668.\n",
            "Df Residuals:                     401   BIC:                             2680.\n",
            "Df Model:                           2                                         \n",
            "Covariance Type:            nonrobust                                         \n",
            "==============================================================================\n",
            "                 coef    std err          t      P>|t|      [0.025      0.975]\n",
            "------------------------------------------------------------------------------\n",
            "Intercept    -33.8673      3.026    -11.191      0.000     -39.817     -27.918\n",
            "RM             8.8554      0.484     18.297      0.000       7.904       9.807\n",
            "ZN             0.0608      0.014      4.200      0.000       0.032       0.089\n",
            "==============================================================================\n",
            "Omnibus:                       98.992   Durbin-Watson:                   2.175\n",
            "Prob(Omnibus):                  0.000   Jarque-Bera (JB):              602.353\n",
            "Skew:                           0.882   Prob(JB):                    1.59e-131\n",
            "Kurtosis:                       8.716   Cond. No.                         248.\n",
            "==============================================================================\n",
            "\n",
            "Warnings:\n",
            "[1] Standard Errors assume that the covariance matrix of the errors is correctly specified.\n"
          ],
          "name": "stdout"
        },
        {
          "output_type": "stream",
          "text": [
            "/usr/local/lib/python3.7/dist-packages/ipykernel_launcher.py:8: SettingWithCopyWarning: \n",
            "A value is trying to be set on a copy of a slice from a DataFrame.\n",
            "Try using .loc[row_indexer,col_indexer] = value instead\n",
            "\n",
            "See the caveats in the documentation: https://pandas.pydata.org/pandas-docs/stable/user_guide/indexing.html#returning-a-view-versus-a-copy\n",
            "  \n"
          ],
          "name": "stderr"
        }
      ]
    },
    {
      "cell_type": "markdown",
      "metadata": {
        "id": "aWSmXpW_maHS"
      },
      "source": [
        "How well does it do on the test data?"
      ]
    },
    {
      "cell_type": "code",
      "metadata": {
        "colab": {
          "base_uri": "https://localhost:8080/"
        },
        "id": "q9Ji6W8QmZ3U",
        "outputId": "2cdcd5e3-95a2-4138-8dea-d51af2d57081"
      },
      "source": [
        "#mean squared error\n",
        "mse_full = ?\n",
        "\n",
        "print(\" Mean squared error = \", ?)\n"
      ],
      "execution_count": null,
      "outputs": [
        {
          "output_type": "stream",
          "text": [
            " Mean squared error =  38.51\n"
          ],
          "name": "stdout"
        }
      ]
    },
    {
      "cell_type": "markdown",
      "metadata": {
        "id": "-weXKGRN3MCv"
      },
      "source": [
        "<img src='http://drive.google.com/uc?export=view&id=1qWrKY9TgpgQaBCzZfz1xLTV6iCeSwfmG' width=\"100\" align = 'left'>"
      ]
    },
    {
      "cell_type": "markdown",
      "metadata": {
        "id": "h852C7SpsWzN"
      },
      "source": [
        "### <font color='lightblue'>Explaining how the model is making predictions</font>"
      ]
    },
    {
      "cell_type": "markdown",
      "metadata": {
        "id": "gW82VH3Ks4wd"
      },
      "source": [
        "With linear regression we can look to see what features are important when making predictions. We can also see the direction and magnitude of the effect of these features.\n",
        "> E.g., more rooms in a house are positively associated with house price"
      ]
    },
    {
      "cell_type": "markdown",
      "metadata": {
        "id": "R8saNIkjtVlr"
      },
      "source": [
        "Let's take a look at how to make it easier to see which features are important when making predictions.\n",
        "> To do this we'll ensure that all numeric features are on the same scale (e.g., mean of 0, and standard deviation of 1)."
      ]
    },
    {
      "cell_type": "markdown",
      "metadata": {
        "id": "XjxUeWwpv-_s"
      },
      "source": [
        "Data wrangling: preprocessing the data"
      ]
    },
    {
      "cell_type": "code",
      "metadata": {
        "id": "z1TzauNnstwu"
      },
      "source": [
        "from sklearn.preprocessing import StandardScaler\n"
      ],
      "execution_count": 145,
      "outputs": []
    },
    {
      "cell_type": "markdown",
      "metadata": {
        "id": "v19jraci1Hym"
      },
      "source": [
        "Data preprocessing should be done after the training testing split"
      ]
    },
    {
      "cell_type": "code",
      "metadata": {
        "id": "6D1Sq_4V1McD"
      },
      "source": [
        "#Split the dataframe into 80% training and 20% testing datasets\n",
        "df_train, df_test = train_test_split(df_boston, test_size=0.20)"
      ],
      "execution_count": null,
      "outputs": []
    },
    {
      "cell_type": "markdown",
      "metadata": {
        "id": "kuebewUqwHlo"
      },
      "source": [
        "As the preprocessing step can be quite time consuming, We'll use a function called DataFrameMapper to help make it easier. The steps to using this function are:\n",
        "> 1. Build the transformer\n",
        "2. Fit the transformer and \n",
        "3. Use the transformer to transform the data\n"
      ]
    },
    {
      "cell_type": "code",
      "metadata": {
        "colab": {
          "base_uri": "https://localhost:8080/"
        },
        "id": "rmLVRaLRw93V",
        "outputId": "959f6c18-1202-4a41-b73a-f9c5d56650c3"
      },
      "source": [
        "#build the preprocessing transformer\n",
        "scal = StandardScaler()\n",
        "\n",
        "#Fit the DataFrameMapper, and transform the data \n",
        "df_train_scaled = scal.fit_transform(df_train)\n",
        "\n",
        "#take a look\n",
        "df_train_scaled"
      ],
      "execution_count": null,
      "outputs": [
        {
          "output_type": "execute_result",
          "data": {
            "text/plain": [
              "array([[-0.40824001, -0.46340797, -0.24469438, ...,  0.45434947,\n",
              "         0.30095347, -0.52597523],\n",
              "       [ 2.44548676, -0.46340797,  0.97579245, ...,  0.46607544,\n",
              "         1.48563687, -1.02285229],\n",
              "       [-0.40778284, -0.46340797, -0.57992917, ...,  0.46607544,\n",
              "        -0.8340808 ,  0.10641376],\n",
              "       ...,\n",
              "       [-0.40251806,  0.07039911, -0.50881876, ...,  0.42062434,\n",
              "         1.0387947 , -0.80829174],\n",
              "       [-0.39723018, -0.46340797, -0.24469438, ...,  0.46607544,\n",
              "         0.16303922, -0.43563394],\n",
              "       [-0.42720296,  2.09886604, -1.2257278 , ...,  0.42944476,\n",
              "        -1.08784302,  1.0098266 ]])"
            ]
          },
          "metadata": {
            "tags": []
          },
          "execution_count": 42
        }
      ]
    },
    {
      "cell_type": "markdown",
      "metadata": {
        "id": "mZut1L9204aN"
      },
      "source": [
        "Outputs a numpy array, let's make it into a dataframe again"
      ]
    },
    {
      "cell_type": "code",
      "metadata": {
        "colab": {
          "base_uri": "https://localhost:8080/",
          "height": 423
        },
        "id": "FW_makwh08vL",
        "outputId": "5bbb6d36-e9b7-434c-9689-e1f1175b6e0e"
      },
      "source": [
        "#convert numpy array to dataframe\n",
        "df_train_scaled_df = pd.DataFrame(df_train_scaled, columns=df_train.columns, index=df_train.index)\n",
        "\n",
        "#take a look\n",
        "df_train_scaled_df"
      ],
      "execution_count": null,
      "outputs": [
        {
          "output_type": "execute_result",
          "data": {
            "text/html": [
              "<div>\n",
              "<style scoped>\n",
              "    .dataframe tbody tr th:only-of-type {\n",
              "        vertical-align: middle;\n",
              "    }\n",
              "\n",
              "    .dataframe tbody tr th {\n",
              "        vertical-align: top;\n",
              "    }\n",
              "\n",
              "    .dataframe thead th {\n",
              "        text-align: right;\n",
              "    }\n",
              "</style>\n",
              "<table border=\"1\" class=\"dataframe\">\n",
              "  <thead>\n",
              "    <tr style=\"text-align: right;\">\n",
              "      <th></th>\n",
              "      <th>CRIM</th>\n",
              "      <th>ZN</th>\n",
              "      <th>INDUS</th>\n",
              "      <th>CHAS</th>\n",
              "      <th>NOX</th>\n",
              "      <th>RM</th>\n",
              "      <th>AGE</th>\n",
              "      <th>DIS</th>\n",
              "      <th>RAD</th>\n",
              "      <th>TAX</th>\n",
              "      <th>PTRATIO</th>\n",
              "      <th>B</th>\n",
              "      <th>LSTAT</th>\n",
              "      <th>price</th>\n",
              "    </tr>\n",
              "  </thead>\n",
              "  <tbody>\n",
              "    <tr>\n",
              "      <th>499</th>\n",
              "      <td>-0.408240</td>\n",
              "      <td>-0.463408</td>\n",
              "      <td>-0.244694</td>\n",
              "      <td>-0.245698</td>\n",
              "      <td>0.248214</td>\n",
              "      <td>-0.991922</td>\n",
              "      <td>0.157964</td>\n",
              "      <td>-0.647281</td>\n",
              "      <td>-0.409470</td>\n",
              "      <td>-0.122709</td>\n",
              "      <td>0.311695</td>\n",
              "      <td>0.454349</td>\n",
              "      <td>0.300953</td>\n",
              "      <td>-0.525975</td>\n",
              "    </tr>\n",
              "    <tr>\n",
              "      <th>378</th>\n",
              "      <td>2.445487</td>\n",
              "      <td>-0.463408</td>\n",
              "      <td>0.975792</td>\n",
              "      <td>-0.245698</td>\n",
              "      <td>0.995433</td>\n",
              "      <td>0.169753</td>\n",
              "      <td>0.971632</td>\n",
              "      <td>-1.140495</td>\n",
              "      <td>1.635629</td>\n",
              "      <td>1.493334</td>\n",
              "      <td>0.770938</td>\n",
              "      <td>0.466075</td>\n",
              "      <td>1.485637</td>\n",
              "      <td>-1.022852</td>\n",
              "    </tr>\n",
              "    <tr>\n",
              "      <th>321</th>\n",
              "      <td>-0.407783</td>\n",
              "      <td>-0.463408</td>\n",
              "      <td>-0.579929</td>\n",
              "      <td>-0.245698</td>\n",
              "      <td>-0.551136</td>\n",
              "      <td>0.164024</td>\n",
              "      <td>-0.530249</td>\n",
              "      <td>0.394075</td>\n",
              "      <td>-0.523086</td>\n",
              "      <td>-0.733867</td>\n",
              "      <td>0.495392</td>\n",
              "      <td>0.466075</td>\n",
              "      <td>-0.834081</td>\n",
              "      <td>0.106414</td>\n",
              "    </tr>\n",
              "    <tr>\n",
              "      <th>197</th>\n",
              "      <td>-0.424189</td>\n",
              "      <td>2.952957</td>\n",
              "      <td>-1.430352</td>\n",
              "      <td>-0.245698</td>\n",
              "      <td>-1.324421</td>\n",
              "      <td>1.211108</td>\n",
              "      <td>-1.164695</td>\n",
              "      <td>1.741001</td>\n",
              "      <td>-0.863936</td>\n",
              "      <td>-0.487053</td>\n",
              "      <td>-2.719313</td>\n",
              "      <td>0.024121</td>\n",
              "      <td>-0.594110</td>\n",
              "      <td>0.919485</td>\n",
              "    </tr>\n",
              "    <tr>\n",
              "      <th>286</th>\n",
              "      <td>-0.427473</td>\n",
              "      <td>2.952957</td>\n",
              "      <td>-1.395522</td>\n",
              "      <td>-0.245698</td>\n",
              "      <td>-1.489504</td>\n",
              "      <td>-0.045106</td>\n",
              "      <td>-1.347501</td>\n",
              "      <td>2.607070</td>\n",
              "      <td>-0.977553</td>\n",
              "      <td>-1.004187</td>\n",
              "      <td>-0.147549</td>\n",
              "      <td>-0.107771</td>\n",
              "      <td>0.001680</td>\n",
              "      <td>-0.232366</td>\n",
              "    </tr>\n",
              "    <tr>\n",
              "      <th>...</th>\n",
              "      <td>...</td>\n",
              "      <td>...</td>\n",
              "      <td>...</td>\n",
              "      <td>...</td>\n",
              "      <td>...</td>\n",
              "      <td>...</td>\n",
              "      <td>...</td>\n",
              "      <td>...</td>\n",
              "      <td>...</td>\n",
              "      <td>...</td>\n",
              "      <td>...</td>\n",
              "      <td>...</td>\n",
              "      <td>...</td>\n",
              "      <td>...</td>\n",
              "    </tr>\n",
              "    <tr>\n",
              "      <th>207</th>\n",
              "      <td>-0.399223</td>\n",
              "      <td>-0.463408</td>\n",
              "      <td>-0.114083</td>\n",
              "      <td>-0.245698</td>\n",
              "      <td>-0.585891</td>\n",
              "      <td>-0.685389</td>\n",
              "      <td>0.129288</td>\n",
              "      <td>0.303829</td>\n",
              "      <td>-0.636703</td>\n",
              "      <td>-0.792632</td>\n",
              "      <td>0.036148</td>\n",
              "      <td>0.388560</td>\n",
              "      <td>0.709180</td>\n",
              "      <td>0.038658</td>\n",
              "    </tr>\n",
              "    <tr>\n",
              "      <th>84</th>\n",
              "      <td>-0.423711</td>\n",
              "      <td>-0.463408</td>\n",
              "      <td>-0.999335</td>\n",
              "      <td>-0.245698</td>\n",
              "      <td>-0.933434</td>\n",
              "      <td>0.182645</td>\n",
              "      <td>-0.756069</td>\n",
              "      <td>0.510348</td>\n",
              "      <td>-0.750320</td>\n",
              "      <td>-0.968928</td>\n",
              "      <td>-0.009776</td>\n",
              "      <td>0.466075</td>\n",
              "      <td>-0.454817</td>\n",
              "      <td>0.196755</td>\n",
              "    </tr>\n",
              "    <tr>\n",
              "      <th>10</th>\n",
              "      <td>-0.402518</td>\n",
              "      <td>0.070399</td>\n",
              "      <td>-0.508819</td>\n",
              "      <td>-0.245698</td>\n",
              "      <td>-0.281790</td>\n",
              "      <td>0.165456</td>\n",
              "      <td>0.903528</td>\n",
              "      <td>1.272841</td>\n",
              "      <td>-0.523086</td>\n",
              "      <td>-0.592830</td>\n",
              "      <td>-1.525280</td>\n",
              "      <td>0.420624</td>\n",
              "      <td>1.038795</td>\n",
              "      <td>-0.808292</td>\n",
              "    </tr>\n",
              "    <tr>\n",
              "      <th>497</th>\n",
              "      <td>-0.397230</td>\n",
              "      <td>-0.463408</td>\n",
              "      <td>-0.244694</td>\n",
              "      <td>-0.245698</td>\n",
              "      <td>0.248214</td>\n",
              "      <td>-0.669632</td>\n",
              "      <td>0.054015</td>\n",
              "      <td>-0.407533</td>\n",
              "      <td>-0.409470</td>\n",
              "      <td>-0.122709</td>\n",
              "      <td>0.311695</td>\n",
              "      <td>0.466075</td>\n",
              "      <td>0.163039</td>\n",
              "      <td>-0.435634</td>\n",
              "    </tr>\n",
              "    <tr>\n",
              "      <th>193</th>\n",
              "      <td>-0.427203</td>\n",
              "      <td>2.098866</td>\n",
              "      <td>-1.225728</td>\n",
              "      <td>-0.245698</td>\n",
              "      <td>-1.350487</td>\n",
              "      <td>0.771361</td>\n",
              "      <td>-2.121741</td>\n",
              "      <td>1.211007</td>\n",
              "      <td>-0.977553</td>\n",
              "      <td>-0.863150</td>\n",
              "      <td>-1.341583</td>\n",
              "      <td>0.429445</td>\n",
              "      <td>-1.087843</td>\n",
              "      <td>1.009827</td>\n",
              "    </tr>\n",
              "  </tbody>\n",
              "</table>\n",
              "<p>404 rows × 14 columns</p>\n",
              "</div>"
            ],
            "text/plain": [
              "         CRIM        ZN     INDUS  ...         B     LSTAT     price\n",
              "499 -0.408240 -0.463408 -0.244694  ...  0.454349  0.300953 -0.525975\n",
              "378  2.445487 -0.463408  0.975792  ...  0.466075  1.485637 -1.022852\n",
              "321 -0.407783 -0.463408 -0.579929  ...  0.466075 -0.834081  0.106414\n",
              "197 -0.424189  2.952957 -1.430352  ...  0.024121 -0.594110  0.919485\n",
              "286 -0.427473  2.952957 -1.395522  ... -0.107771  0.001680 -0.232366\n",
              "..        ...       ...       ...  ...       ...       ...       ...\n",
              "207 -0.399223 -0.463408 -0.114083  ...  0.388560  0.709180  0.038658\n",
              "84  -0.423711 -0.463408 -0.999335  ...  0.466075 -0.454817  0.196755\n",
              "10  -0.402518  0.070399 -0.508819  ...  0.420624  1.038795 -0.808292\n",
              "497 -0.397230 -0.463408 -0.244694  ...  0.466075  0.163039 -0.435634\n",
              "193 -0.427203  2.098866 -1.225728  ...  0.429445 -1.087843  1.009827\n",
              "\n",
              "[404 rows x 14 columns]"
            ]
          },
          "metadata": {
            "tags": []
          },
          "execution_count": 68
        }
      ]
    },
    {
      "cell_type": "markdown",
      "metadata": {
        "id": "9QgxxZhjye6U"
      },
      "source": [
        "Q: estimate the mean and standard deviation for one of the new transformed features."
      ]
    },
    {
      "cell_type": "code",
      "metadata": {
        "id": "bF1BAk60ymip"
      },
      "source": [
        ""
      ],
      "execution_count": null,
      "outputs": []
    },
    {
      "cell_type": "markdown",
      "metadata": {
        "id": "lwf3qy3_zYzU"
      },
      "source": [
        "Now run your best model again, this time with the scaled training data."
      ]
    },
    {
      "cell_type": "code",
      "metadata": {
        "colab": {
          "base_uri": "https://localhost:8080/"
        },
        "id": "SPJe3CE3zlZv",
        "outputId": "9b73b027-f2d8-411e-f68b-b560d04fcbb7"
      },
      "source": [
        "#define model parameters, and the training data to be used\n",
        "best_linear_reg_scaled = smf.ols(formula='price ~ ?', data=df_train_scaled_df) \n",
        "\n",
        "#fit the model to the training data\n",
        "?\n",
        "\n",
        "#Get a summary of the model parameters\n",
        "?\n"
      ],
      "execution_count": null,
      "outputs": [
        {
          "output_type": "stream",
          "text": [
            "                            OLS Regression Results                            \n",
            "==============================================================================\n",
            "Dep. Variable:                  price   R-squared:                       0.492\n",
            "Model:                            OLS   Adj. R-squared:                  0.490\n",
            "Method:                 Least Squares   F-statistic:                     194.3\n",
            "Date:                Mon, 05 Jul 2021   Prob (F-statistic):           1.02e-59\n",
            "Time:                        22:44:02   Log-Likelihood:                -436.40\n",
            "No. Observations:                 404   AIC:                             878.8\n",
            "Df Residuals:                     401   BIC:                             890.8\n",
            "Df Model:                           2                                         \n",
            "Covariance Type:            nonrobust                                         \n",
            "==============================================================================\n",
            "                 coef    std err          t      P>|t|      [0.025      0.975]\n",
            "------------------------------------------------------------------------------\n",
            "Intercept  -3.123e-16      0.036  -8.77e-15      1.000      -0.070       0.070\n",
            "RM             0.6150      0.038     16.360      0.000       0.541       0.689\n",
            "ZN             0.1931      0.038      5.137      0.000       0.119       0.267\n",
            "==============================================================================\n",
            "Omnibus:                       96.561   Durbin-Watson:                   2.109\n",
            "Prob(Omnibus):                  0.000   Jarque-Bera (JB):              535.419\n",
            "Skew:                           0.886   Prob(JB):                    5.44e-117\n",
            "Kurtosis:                       8.354   Cond. No.                         1.40\n",
            "==============================================================================\n",
            "\n",
            "Warnings:\n",
            "[1] Standard Errors assume that the covariance matrix of the errors is correctly specified.\n"
          ],
          "name": "stdout"
        }
      ]
    },
    {
      "cell_type": "markdown",
      "metadata": {
        "id": "nj-mUI_j34tG"
      },
      "source": [
        "We can now compare the relative effect of each of the features in predicting the price of a house.\n",
        "> e.g the magnitude and direction of each parameter estimate.\n",
        " \n"
      ]
    },
    {
      "cell_type": "markdown",
      "metadata": {
        "id": "ck64DNX_jcjl"
      },
      "source": [
        "\n",
        "# <font color='lightblue'>Further reading</font>"
      ]
    },
    {
      "cell_type": "markdown",
      "metadata": {
        "id": "BBuzn2WSjd3y"
      },
      "source": [
        "Read more about [using statsmodel](https://www.statsmodels.org/stable/gettingstarted.html) to run regression models.\n"
      ]
    }
  ]
}