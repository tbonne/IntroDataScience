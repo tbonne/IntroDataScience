{
  "nbformat": 4,
  "nbformat_minor": 0,
  "metadata": {
    "colab": {
      "name": "IntroData2_LoadingData.ipynb",
      "provenance": [],
      "collapsed_sections": [],
      "mount_file_id": "1DPfUfk_MvYKEIp0HqW0MZCrxHuqjl_RU",
      "authorship_tag": "ABX9TyOwZnZB4e7fR5w1wutzVvE2",
      "include_colab_link": true
    },
    "kernelspec": {
      "name": "python3",
      "display_name": "Python 3"
    }
  },
  "cells": [
    {
      "cell_type": "markdown",
      "metadata": {
        "id": "view-in-github",
        "colab_type": "text"
      },
      "source": [
        "<a href=\"https://colab.research.google.com/github/tbonne/IntroDataScience/blob/main/InClassNotebooks/IntroData2_LoadingData.ipynb\" target=\"_parent\"><img src=\"https://colab.research.google.com/assets/colab-badge.svg\" alt=\"Open In Colab\"/></a>"
      ]
    },
    {
      "cell_type": "markdown",
      "metadata": {
        "id": "BAIFtJ6eihzI"
      },
      "source": [
        "<img src='http://drive.google.com/uc?export=view&id=1FZW6_R4T8PailZCgLSdNTZLIDoAG9VM5' width=\"300\" align = 'left'> "
      ]
    },
    {
      "cell_type": "markdown",
      "metadata": {
        "id": "QQfYJa5t8HtW"
      },
      "source": [
        "# <font color='lightblue'>Using existing data</font>"
      ]
    },
    {
      "cell_type": "markdown",
      "metadata": {
        "id": "0RXQK2SpjqCu"
      },
      "source": [
        "In this exercise we will start working with some real data. We will first learn how to load in data, then test out what you've learnt about DataFrames.\n",
        "\n",
        "Outline:\n",
        "*   Load in data\n",
        "*   Explore the dataframe\n",
        "*   Manipulate the dataframe"
      ]
    },
    {
      "cell_type": "code",
      "metadata": {
        "id": "awfx5nbUGxfd"
      },
      "source": [
        "#Load in pandas\n",
        "import pandas as pd"
      ],
      "execution_count": 3,
      "outputs": []
    },
    {
      "cell_type": "markdown",
      "metadata": {
        "id": "9oJgGETQkiwY"
      },
      "source": [
        "## <font color='lightblue'>Loading data</font>"
      ]
    },
    {
      "cell_type": "markdown",
      "metadata": {
        "id": "8FvZqqDOkrWL"
      },
      "source": [
        "There are many ways to load in datasets, here we'll look at two methods."
      ]
    },
    {
      "cell_type": "markdown",
      "metadata": {
        "id": "cYghAs_iqdAM"
      },
      "source": [
        "But first let's get the data:\n",
        "> Goto the shared [data folder](https://drive.google.com/drive/folders/1s2Civxvys_SR1sFF7D2ept1GSmFbICQb?usp=sharing) for the class and download nyc_flight_data.csv\n",
        "\n"
      ]
    },
    {
      "cell_type": "markdown",
      "metadata": {
        "id": "HskW9AzTI7cJ"
      },
      "source": [
        "Let's then load in the flights data using a function from pandas called *read_csv*."
      ]
    },
    {
      "cell_type": "markdown",
      "metadata": {
        "id": "s5NhKsGTGULu"
      },
      "source": [
        "Option 1 - load from temporary folder (easier but not permanent). \n",
        "1. Drag and drop the data into the files tab on the left. \n",
        "2. Then right click and copy the path.\n",
        "3. Then paste the path into the pd.read_csv(PATH_HERE) "
      ]
    },
    {
      "cell_type": "code",
      "metadata": {
        "id": "jnwMrEIVGTps"
      },
      "source": [
        "#load in the nyc flight data\n",
        "df_flights = pd.read_csv('/content/nyc_flight_data.csv') "
      ],
      "execution_count": 6,
      "outputs": []
    },
    {
      "cell_type": "markdown",
      "metadata": {
        "id": "kl1JU2UbGQcI"
      },
      "source": [
        "Option 2 - load from your google drive\n",
        "1. mount your google drive"
      ]
    },
    {
      "cell_type": "code",
      "metadata": {
        "id": "7YY7VNVtG66S"
      },
      "source": [
        "#mount your google drive\n",
        "from google.colab import drive\n",
        "drive.mount('/content/gdrive')"
      ],
      "execution_count": null,
      "outputs": []
    },
    {
      "cell_type": "markdown",
      "metadata": {
        "id": "fWDxTfOEIHeU"
      },
      "source": [
        "2. Use the files tab on the left to find the file you like to load \n",
        "3. Right click on the file and copy the path\n",
        "4. Paste the path into the pd.read_csv()"
      ]
    },
    {
      "cell_type": "code",
      "metadata": {
        "id": "g2KKj_co9xsz"
      },
      "source": [
        "##load in the nyc flight data \n",
        "df_flights = pd.read_csv('/content/gdrive/MyDrive/Colab Notebooks/DataScience/dataDSI/nyc_flight_data.csv') "
      ],
      "execution_count": null,
      "outputs": []
    },
    {
      "cell_type": "markdown",
      "metadata": {
        "id": "zmXGEfFKnM7H"
      },
      "source": [
        "## <font color='lightblue'>Exploring the dataframe</font>"
      ]
    },
    {
      "cell_type": "markdown",
      "metadata": {
        "id": "lsYFARHaGdX-"
      },
      "source": [
        "Now that we have the dataset loaded, let's take a look at it. Let's first look at it's shape."
      ]
    },
    {
      "cell_type": "code",
      "metadata": {
        "colab": {
          "base_uri": "https://localhost:8080/"
        },
        "id": "uLa-XVQxuBwF",
        "outputId": "7a75eeac-f825-4142-d3b3-624ed15e10f5"
      },
      "source": [
        "df_flights.shape"
      ],
      "execution_count": 8,
      "outputs": [
        {
          "output_type": "execute_result",
          "data": {
            "text/plain": [
              "(3614, 20)"
            ]
          },
          "metadata": {
            "tags": []
          },
          "execution_count": 8
        }
      ]
    },
    {
      "cell_type": "markdown",
      "metadata": {
        "id": "pubLayxLuA5f"
      },
      "source": [
        "Here we can get a quick look the dataframe using the **head** method."
      ]
    },
    {
      "cell_type": "code",
      "metadata": {
        "colab": {
          "base_uri": "https://localhost:8080/",
          "height": 365
        },
        "id": "jV14MnZpGpnL",
        "outputId": "b29ca70b-6bee-40a2-9a26-6bf9d1dc5081"
      },
      "source": [
        "df_flights.head(5)"
      ],
      "execution_count": 14,
      "outputs": [
        {
          "output_type": "execute_result",
          "data": {
            "application/vnd.google.colaboratory.module+javascript": "\n      import \"https://ssl.gstatic.com/colaboratory/data_table/a6224c040fa35dcf/data_table.js\";\n\n      window.createDataTable({\n        data: [[{\n            'v': 0,\n            'f': \"0\",\n        },\n{\n            'v': 1,\n            'f': \"1\",\n        },\n{\n            'v': 2013,\n            'f': \"2013\",\n        },\n{\n            'v': 1,\n            'f': \"1\",\n        },\n{\n            'v': 1,\n            'f': \"1\",\n        },\n{\n            'v': 517.0,\n            'f': \"517.0\",\n        },\n{\n            'v': 515,\n            'f': \"515\",\n        },\n{\n            'v': 2.0,\n            'f': \"2.0\",\n        },\n{\n            'v': 830.0,\n            'f': \"830.0\",\n        },\n{\n            'v': 819,\n            'f': \"819\",\n        },\n{\n            'v': 11.0,\n            'f': \"11.0\",\n        },\n\"UA\",\n{\n            'v': 1545,\n            'f': \"1545\",\n        },\n\"N14228\",\n\"EWR\",\n\"IAH\",\n{\n            'v': 227.0,\n            'f': \"227.0\",\n        },\n{\n            'v': 1400,\n            'f': \"1400\",\n        },\n{\n            'v': 5,\n            'f': \"5\",\n        },\n{\n            'v': 15,\n            'f': \"15\",\n        },\n\"2013-01-01 05:00:00\"],\n [{\n            'v': 1,\n            'f': \"1\",\n        },\n{\n            'v': 2,\n            'f': \"2\",\n        },\n{\n            'v': 2013,\n            'f': \"2013\",\n        },\n{\n            'v': 1,\n            'f': \"1\",\n        },\n{\n            'v': 1,\n            'f': \"1\",\n        },\n{\n            'v': 533.0,\n            'f': \"533.0\",\n        },\n{\n            'v': 529,\n            'f': \"529\",\n        },\n{\n            'v': 4.0,\n            'f': \"4.0\",\n        },\n{\n            'v': 850.0,\n            'f': \"850.0\",\n        },\n{\n            'v': 830,\n            'f': \"830\",\n        },\n{\n            'v': 20.0,\n            'f': \"20.0\",\n        },\n\"UA\",\n{\n            'v': 1714,\n            'f': \"1714\",\n        },\n\"N24211\",\n\"LGA\",\n\"IAH\",\n{\n            'v': 227.0,\n            'f': \"227.0\",\n        },\n{\n            'v': 1416,\n            'f': \"1416\",\n        },\n{\n            'v': 5,\n            'f': \"5\",\n        },\n{\n            'v': 29,\n            'f': \"29\",\n        },\n\"2013-01-01 05:00:00\"],\n [{\n            'v': 2,\n            'f': \"2\",\n        },\n{\n            'v': 3,\n            'f': \"3\",\n        },\n{\n            'v': 2013,\n            'f': \"2013\",\n        },\n{\n            'v': 1,\n            'f': \"1\",\n        },\n{\n            'v': 1,\n            'f': \"1\",\n        },\n{\n            'v': 542.0,\n            'f': \"542.0\",\n        },\n{\n            'v': 540,\n            'f': \"540\",\n        },\n{\n            'v': 2.0,\n            'f': \"2.0\",\n        },\n{\n            'v': 923.0,\n            'f': \"923.0\",\n        },\n{\n            'v': 850,\n            'f': \"850\",\n        },\n{\n            'v': 33.0,\n            'f': \"33.0\",\n        },\n\"AA\",\n{\n            'v': 1141,\n            'f': \"1141\",\n        },\n\"N619AA\",\n\"JFK\",\n\"MIA\",\n{\n            'v': 160.0,\n            'f': \"160.0\",\n        },\n{\n            'v': 1089,\n            'f': \"1089\",\n        },\n{\n            'v': 5,\n            'f': \"5\",\n        },\n{\n            'v': 40,\n            'f': \"40\",\n        },\n\"2013-01-01 05:00:00\"],\n [{\n            'v': 3,\n            'f': \"3\",\n        },\n{\n            'v': 4,\n            'f': \"4\",\n        },\n{\n            'v': 2013,\n            'f': \"2013\",\n        },\n{\n            'v': 1,\n            'f': \"1\",\n        },\n{\n            'v': 1,\n            'f': \"1\",\n        },\n{\n            'v': 544.0,\n            'f': \"544.0\",\n        },\n{\n            'v': 545,\n            'f': \"545\",\n        },\n{\n            'v': -1.0,\n            'f': \"-1.0\",\n        },\n{\n            'v': 1004.0,\n            'f': \"1004.0\",\n        },\n{\n            'v': 1022,\n            'f': \"1022\",\n        },\n{\n            'v': -18.0,\n            'f': \"-18.0\",\n        },\n\"B6\",\n{\n            'v': 725,\n            'f': \"725\",\n        },\n\"N804JB\",\n\"JFK\",\n\"BQN\",\n{\n            'v': 183.0,\n            'f': \"183.0\",\n        },\n{\n            'v': 1576,\n            'f': \"1576\",\n        },\n{\n            'v': 5,\n            'f': \"5\",\n        },\n{\n            'v': 45,\n            'f': \"45\",\n        },\n\"2013-01-01 05:00:00\"],\n [{\n            'v': 4,\n            'f': \"4\",\n        },\n{\n            'v': 5,\n            'f': \"5\",\n        },\n{\n            'v': 2013,\n            'f': \"2013\",\n        },\n{\n            'v': 1,\n            'f': \"1\",\n        },\n{\n            'v': 1,\n            'f': \"1\",\n        },\n{\n            'v': 554.0,\n            'f': \"554.0\",\n        },\n{\n            'v': 600,\n            'f': \"600\",\n        },\n{\n            'v': -6.0,\n            'f': \"-6.0\",\n        },\n{\n            'v': 812.0,\n            'f': \"812.0\",\n        },\n{\n            'v': 837,\n            'f': \"837\",\n        },\n{\n            'v': -25.0,\n            'f': \"-25.0\",\n        },\n\"DL\",\n{\n            'v': 461,\n            'f': \"461\",\n        },\n\"N668DN\",\n\"LGA\",\n\"ATL\",\n{\n            'v': 116.0,\n            'f': \"116.0\",\n        },\n{\n            'v': 762,\n            'f': \"762\",\n        },\n{\n            'v': 6,\n            'f': \"6\",\n        },\n{\n            'v': 0,\n            'f': \"0\",\n        },\n\"2013-01-01 06:00:00\"]],\n        columns: [[\"number\", \"index\"], [\"number\", \"Unnamed: 0\"], [\"number\", \"year\"], [\"number\", \"month\"], [\"number\", \"day\"], [\"number\", \"dep_time\"], [\"number\", \"sched_dep_time\"], [\"number\", \"dep_delay\"], [\"number\", \"arr_time\"], [\"number\", \"sched_arr_time\"], [\"number\", \"arr_delay\"], [\"string\", \"carrier\"], [\"number\", \"flight\"], [\"string\", \"tailnum\"], [\"string\", \"origin\"], [\"string\", \"dest\"], [\"number\", \"air_time\"], [\"number\", \"distance\"], [\"number\", \"hour\"], [\"number\", \"minute\"], [\"string\", \"time_hour\"]],\n        columnOptions: [{\"width\": \"1px\", \"className\": \"index_column\"}],\n        rowsPerPage: 25,\n        helpUrl: \"https://colab.research.google.com/notebooks/data_table.ipynb\",\n        suppressOutputScrolling: true,\n        minimumWidth: undefined,\n      });\n    ",
            "text/html": [
              "<div>\n",
              "<style scoped>\n",
              "    .dataframe tbody tr th:only-of-type {\n",
              "        vertical-align: middle;\n",
              "    }\n",
              "\n",
              "    .dataframe tbody tr th {\n",
              "        vertical-align: top;\n",
              "    }\n",
              "\n",
              "    .dataframe thead th {\n",
              "        text-align: right;\n",
              "    }\n",
              "</style>\n",
              "<table border=\"1\" class=\"dataframe\">\n",
              "  <thead>\n",
              "    <tr style=\"text-align: right;\">\n",
              "      <th></th>\n",
              "      <th>Unnamed: 0</th>\n",
              "      <th>year</th>\n",
              "      <th>month</th>\n",
              "      <th>day</th>\n",
              "      <th>dep_time</th>\n",
              "      <th>sched_dep_time</th>\n",
              "      <th>dep_delay</th>\n",
              "      <th>arr_time</th>\n",
              "      <th>sched_arr_time</th>\n",
              "      <th>arr_delay</th>\n",
              "      <th>carrier</th>\n",
              "      <th>flight</th>\n",
              "      <th>tailnum</th>\n",
              "      <th>origin</th>\n",
              "      <th>dest</th>\n",
              "      <th>air_time</th>\n",
              "      <th>distance</th>\n",
              "      <th>hour</th>\n",
              "      <th>minute</th>\n",
              "      <th>time_hour</th>\n",
              "    </tr>\n",
              "  </thead>\n",
              "  <tbody>\n",
              "    <tr>\n",
              "      <th>0</th>\n",
              "      <td>1</td>\n",
              "      <td>2013</td>\n",
              "      <td>1</td>\n",
              "      <td>1</td>\n",
              "      <td>517.0</td>\n",
              "      <td>515</td>\n",
              "      <td>2.0</td>\n",
              "      <td>830.0</td>\n",
              "      <td>819</td>\n",
              "      <td>11.0</td>\n",
              "      <td>UA</td>\n",
              "      <td>1545</td>\n",
              "      <td>N14228</td>\n",
              "      <td>EWR</td>\n",
              "      <td>IAH</td>\n",
              "      <td>227.0</td>\n",
              "      <td>1400</td>\n",
              "      <td>5</td>\n",
              "      <td>15</td>\n",
              "      <td>2013-01-01 05:00:00</td>\n",
              "    </tr>\n",
              "    <tr>\n",
              "      <th>1</th>\n",
              "      <td>2</td>\n",
              "      <td>2013</td>\n",
              "      <td>1</td>\n",
              "      <td>1</td>\n",
              "      <td>533.0</td>\n",
              "      <td>529</td>\n",
              "      <td>4.0</td>\n",
              "      <td>850.0</td>\n",
              "      <td>830</td>\n",
              "      <td>20.0</td>\n",
              "      <td>UA</td>\n",
              "      <td>1714</td>\n",
              "      <td>N24211</td>\n",
              "      <td>LGA</td>\n",
              "      <td>IAH</td>\n",
              "      <td>227.0</td>\n",
              "      <td>1416</td>\n",
              "      <td>5</td>\n",
              "      <td>29</td>\n",
              "      <td>2013-01-01 05:00:00</td>\n",
              "    </tr>\n",
              "    <tr>\n",
              "      <th>2</th>\n",
              "      <td>3</td>\n",
              "      <td>2013</td>\n",
              "      <td>1</td>\n",
              "      <td>1</td>\n",
              "      <td>542.0</td>\n",
              "      <td>540</td>\n",
              "      <td>2.0</td>\n",
              "      <td>923.0</td>\n",
              "      <td>850</td>\n",
              "      <td>33.0</td>\n",
              "      <td>AA</td>\n",
              "      <td>1141</td>\n",
              "      <td>N619AA</td>\n",
              "      <td>JFK</td>\n",
              "      <td>MIA</td>\n",
              "      <td>160.0</td>\n",
              "      <td>1089</td>\n",
              "      <td>5</td>\n",
              "      <td>40</td>\n",
              "      <td>2013-01-01 05:00:00</td>\n",
              "    </tr>\n",
              "    <tr>\n",
              "      <th>3</th>\n",
              "      <td>4</td>\n",
              "      <td>2013</td>\n",
              "      <td>1</td>\n",
              "      <td>1</td>\n",
              "      <td>544.0</td>\n",
              "      <td>545</td>\n",
              "      <td>-1.0</td>\n",
              "      <td>1004.0</td>\n",
              "      <td>1022</td>\n",
              "      <td>-18.0</td>\n",
              "      <td>B6</td>\n",
              "      <td>725</td>\n",
              "      <td>N804JB</td>\n",
              "      <td>JFK</td>\n",
              "      <td>BQN</td>\n",
              "      <td>183.0</td>\n",
              "      <td>1576</td>\n",
              "      <td>5</td>\n",
              "      <td>45</td>\n",
              "      <td>2013-01-01 05:00:00</td>\n",
              "    </tr>\n",
              "    <tr>\n",
              "      <th>4</th>\n",
              "      <td>5</td>\n",
              "      <td>2013</td>\n",
              "      <td>1</td>\n",
              "      <td>1</td>\n",
              "      <td>554.0</td>\n",
              "      <td>600</td>\n",
              "      <td>-6.0</td>\n",
              "      <td>812.0</td>\n",
              "      <td>837</td>\n",
              "      <td>-25.0</td>\n",
              "      <td>DL</td>\n",
              "      <td>461</td>\n",
              "      <td>N668DN</td>\n",
              "      <td>LGA</td>\n",
              "      <td>ATL</td>\n",
              "      <td>116.0</td>\n",
              "      <td>762</td>\n",
              "      <td>6</td>\n",
              "      <td>0</td>\n",
              "      <td>2013-01-01 06:00:00</td>\n",
              "    </tr>\n",
              "  </tbody>\n",
              "</table>\n",
              "</div>"
            ],
            "text/plain": [
              "   Unnamed: 0  year  month  day  ...  distance  hour  minute            time_hour\n",
              "0           1  2013      1    1  ...      1400     5      15  2013-01-01 05:00:00\n",
              "1           2  2013      1    1  ...      1416     5      29  2013-01-01 05:00:00\n",
              "2           3  2013      1    1  ...      1089     5      40  2013-01-01 05:00:00\n",
              "3           4  2013      1    1  ...      1576     5      45  2013-01-01 05:00:00\n",
              "4           5  2013      1    1  ...       762     6       0  2013-01-01 06:00:00\n",
              "\n",
              "[5 rows x 20 columns]"
            ]
          },
          "metadata": {
            "tags": []
          },
          "execution_count": 14
        }
      ]
    },
    {
      "cell_type": "markdown",
      "metadata": {
        "id": "ihn7iAw6I_lQ"
      },
      "source": [
        "Or if you like a little more options you can use the folowing to help visualize the table better."
      ]
    },
    {
      "cell_type": "code",
      "metadata": {
        "id": "TIgYRG3nI_Ul"
      },
      "source": [
        "%load_ext google.colab.data_table"
      ],
      "execution_count": 10,
      "outputs": []
    },
    {
      "cell_type": "markdown",
      "metadata": {
        "id": "AQ_xGhtRJOw_"
      },
      "source": [
        "Now try looking at your dataframe again."
      ]
    },
    {
      "cell_type": "code",
      "metadata": {
        "colab": {
          "base_uri": "https://localhost:8080/",
          "height": 365
        },
        "id": "H37YQMKPJRpB",
        "outputId": "d8de296f-1327-492b-aa97-8108a1887db6"
      },
      "source": [
        "df_flights.head(5)"
      ],
      "execution_count": 13,
      "outputs": [
        {
          "output_type": "execute_result",
          "data": {
            "application/vnd.google.colaboratory.module+javascript": "\n      import \"https://ssl.gstatic.com/colaboratory/data_table/a6224c040fa35dcf/data_table.js\";\n\n      window.createDataTable({\n        data: [[{\n            'v': 0,\n            'f': \"0\",\n        },\n{\n            'v': 1,\n            'f': \"1\",\n        },\n{\n            'v': 2013,\n            'f': \"2013\",\n        },\n{\n            'v': 1,\n            'f': \"1\",\n        },\n{\n            'v': 1,\n            'f': \"1\",\n        },\n{\n            'v': 517.0,\n            'f': \"517.0\",\n        },\n{\n            'v': 515,\n            'f': \"515\",\n        },\n{\n            'v': 2.0,\n            'f': \"2.0\",\n        },\n{\n            'v': 830.0,\n            'f': \"830.0\",\n        },\n{\n            'v': 819,\n            'f': \"819\",\n        },\n{\n            'v': 11.0,\n            'f': \"11.0\",\n        },\n\"UA\",\n{\n            'v': 1545,\n            'f': \"1545\",\n        },\n\"N14228\",\n\"EWR\",\n\"IAH\",\n{\n            'v': 227.0,\n            'f': \"227.0\",\n        },\n{\n            'v': 1400,\n            'f': \"1400\",\n        },\n{\n            'v': 5,\n            'f': \"5\",\n        },\n{\n            'v': 15,\n            'f': \"15\",\n        },\n\"2013-01-01 05:00:00\"],\n [{\n            'v': 1,\n            'f': \"1\",\n        },\n{\n            'v': 2,\n            'f': \"2\",\n        },\n{\n            'v': 2013,\n            'f': \"2013\",\n        },\n{\n            'v': 1,\n            'f': \"1\",\n        },\n{\n            'v': 1,\n            'f': \"1\",\n        },\n{\n            'v': 533.0,\n            'f': \"533.0\",\n        },\n{\n            'v': 529,\n            'f': \"529\",\n        },\n{\n            'v': 4.0,\n            'f': \"4.0\",\n        },\n{\n            'v': 850.0,\n            'f': \"850.0\",\n        },\n{\n            'v': 830,\n            'f': \"830\",\n        },\n{\n            'v': 20.0,\n            'f': \"20.0\",\n        },\n\"UA\",\n{\n            'v': 1714,\n            'f': \"1714\",\n        },\n\"N24211\",\n\"LGA\",\n\"IAH\",\n{\n            'v': 227.0,\n            'f': \"227.0\",\n        },\n{\n            'v': 1416,\n            'f': \"1416\",\n        },\n{\n            'v': 5,\n            'f': \"5\",\n        },\n{\n            'v': 29,\n            'f': \"29\",\n        },\n\"2013-01-01 05:00:00\"],\n [{\n            'v': 2,\n            'f': \"2\",\n        },\n{\n            'v': 3,\n            'f': \"3\",\n        },\n{\n            'v': 2013,\n            'f': \"2013\",\n        },\n{\n            'v': 1,\n            'f': \"1\",\n        },\n{\n            'v': 1,\n            'f': \"1\",\n        },\n{\n            'v': 542.0,\n            'f': \"542.0\",\n        },\n{\n            'v': 540,\n            'f': \"540\",\n        },\n{\n            'v': 2.0,\n            'f': \"2.0\",\n        },\n{\n            'v': 923.0,\n            'f': \"923.0\",\n        },\n{\n            'v': 850,\n            'f': \"850\",\n        },\n{\n            'v': 33.0,\n            'f': \"33.0\",\n        },\n\"AA\",\n{\n            'v': 1141,\n            'f': \"1141\",\n        },\n\"N619AA\",\n\"JFK\",\n\"MIA\",\n{\n            'v': 160.0,\n            'f': \"160.0\",\n        },\n{\n            'v': 1089,\n            'f': \"1089\",\n        },\n{\n            'v': 5,\n            'f': \"5\",\n        },\n{\n            'v': 40,\n            'f': \"40\",\n        },\n\"2013-01-01 05:00:00\"],\n [{\n            'v': 3,\n            'f': \"3\",\n        },\n{\n            'v': 4,\n            'f': \"4\",\n        },\n{\n            'v': 2013,\n            'f': \"2013\",\n        },\n{\n            'v': 1,\n            'f': \"1\",\n        },\n{\n            'v': 1,\n            'f': \"1\",\n        },\n{\n            'v': 544.0,\n            'f': \"544.0\",\n        },\n{\n            'v': 545,\n            'f': \"545\",\n        },\n{\n            'v': -1.0,\n            'f': \"-1.0\",\n        },\n{\n            'v': 1004.0,\n            'f': \"1004.0\",\n        },\n{\n            'v': 1022,\n            'f': \"1022\",\n        },\n{\n            'v': -18.0,\n            'f': \"-18.0\",\n        },\n\"B6\",\n{\n            'v': 725,\n            'f': \"725\",\n        },\n\"N804JB\",\n\"JFK\",\n\"BQN\",\n{\n            'v': 183.0,\n            'f': \"183.0\",\n        },\n{\n            'v': 1576,\n            'f': \"1576\",\n        },\n{\n            'v': 5,\n            'f': \"5\",\n        },\n{\n            'v': 45,\n            'f': \"45\",\n        },\n\"2013-01-01 05:00:00\"],\n [{\n            'v': 4,\n            'f': \"4\",\n        },\n{\n            'v': 5,\n            'f': \"5\",\n        },\n{\n            'v': 2013,\n            'f': \"2013\",\n        },\n{\n            'v': 1,\n            'f': \"1\",\n        },\n{\n            'v': 1,\n            'f': \"1\",\n        },\n{\n            'v': 554.0,\n            'f': \"554.0\",\n        },\n{\n            'v': 600,\n            'f': \"600\",\n        },\n{\n            'v': -6.0,\n            'f': \"-6.0\",\n        },\n{\n            'v': 812.0,\n            'f': \"812.0\",\n        },\n{\n            'v': 837,\n            'f': \"837\",\n        },\n{\n            'v': -25.0,\n            'f': \"-25.0\",\n        },\n\"DL\",\n{\n            'v': 461,\n            'f': \"461\",\n        },\n\"N668DN\",\n\"LGA\",\n\"ATL\",\n{\n            'v': 116.0,\n            'f': \"116.0\",\n        },\n{\n            'v': 762,\n            'f': \"762\",\n        },\n{\n            'v': 6,\n            'f': \"6\",\n        },\n{\n            'v': 0,\n            'f': \"0\",\n        },\n\"2013-01-01 06:00:00\"]],\n        columns: [[\"number\", \"index\"], [\"number\", \"Unnamed: 0\"], [\"number\", \"year\"], [\"number\", \"month\"], [\"number\", \"day\"], [\"number\", \"dep_time\"], [\"number\", \"sched_dep_time\"], [\"number\", \"dep_delay\"], [\"number\", \"arr_time\"], [\"number\", \"sched_arr_time\"], [\"number\", \"arr_delay\"], [\"string\", \"carrier\"], [\"number\", \"flight\"], [\"string\", \"tailnum\"], [\"string\", \"origin\"], [\"string\", \"dest\"], [\"number\", \"air_time\"], [\"number\", \"distance\"], [\"number\", \"hour\"], [\"number\", \"minute\"], [\"string\", \"time_hour\"]],\n        columnOptions: [{\"width\": \"1px\", \"className\": \"index_column\"}],\n        rowsPerPage: 25,\n        helpUrl: \"https://colab.research.google.com/notebooks/data_table.ipynb\",\n        suppressOutputScrolling: true,\n        minimumWidth: undefined,\n      });\n    ",
            "text/html": [
              "<div>\n",
              "<style scoped>\n",
              "    .dataframe tbody tr th:only-of-type {\n",
              "        vertical-align: middle;\n",
              "    }\n",
              "\n",
              "    .dataframe tbody tr th {\n",
              "        vertical-align: top;\n",
              "    }\n",
              "\n",
              "    .dataframe thead th {\n",
              "        text-align: right;\n",
              "    }\n",
              "</style>\n",
              "<table border=\"1\" class=\"dataframe\">\n",
              "  <thead>\n",
              "    <tr style=\"text-align: right;\">\n",
              "      <th></th>\n",
              "      <th>Unnamed: 0</th>\n",
              "      <th>year</th>\n",
              "      <th>month</th>\n",
              "      <th>day</th>\n",
              "      <th>dep_time</th>\n",
              "      <th>sched_dep_time</th>\n",
              "      <th>dep_delay</th>\n",
              "      <th>arr_time</th>\n",
              "      <th>sched_arr_time</th>\n",
              "      <th>arr_delay</th>\n",
              "      <th>carrier</th>\n",
              "      <th>flight</th>\n",
              "      <th>tailnum</th>\n",
              "      <th>origin</th>\n",
              "      <th>dest</th>\n",
              "      <th>air_time</th>\n",
              "      <th>distance</th>\n",
              "      <th>hour</th>\n",
              "      <th>minute</th>\n",
              "      <th>time_hour</th>\n",
              "    </tr>\n",
              "  </thead>\n",
              "  <tbody>\n",
              "    <tr>\n",
              "      <th>0</th>\n",
              "      <td>1</td>\n",
              "      <td>2013</td>\n",
              "      <td>1</td>\n",
              "      <td>1</td>\n",
              "      <td>517.0</td>\n",
              "      <td>515</td>\n",
              "      <td>2.0</td>\n",
              "      <td>830.0</td>\n",
              "      <td>819</td>\n",
              "      <td>11.0</td>\n",
              "      <td>UA</td>\n",
              "      <td>1545</td>\n",
              "      <td>N14228</td>\n",
              "      <td>EWR</td>\n",
              "      <td>IAH</td>\n",
              "      <td>227.0</td>\n",
              "      <td>1400</td>\n",
              "      <td>5</td>\n",
              "      <td>15</td>\n",
              "      <td>2013-01-01 05:00:00</td>\n",
              "    </tr>\n",
              "    <tr>\n",
              "      <th>1</th>\n",
              "      <td>2</td>\n",
              "      <td>2013</td>\n",
              "      <td>1</td>\n",
              "      <td>1</td>\n",
              "      <td>533.0</td>\n",
              "      <td>529</td>\n",
              "      <td>4.0</td>\n",
              "      <td>850.0</td>\n",
              "      <td>830</td>\n",
              "      <td>20.0</td>\n",
              "      <td>UA</td>\n",
              "      <td>1714</td>\n",
              "      <td>N24211</td>\n",
              "      <td>LGA</td>\n",
              "      <td>IAH</td>\n",
              "      <td>227.0</td>\n",
              "      <td>1416</td>\n",
              "      <td>5</td>\n",
              "      <td>29</td>\n",
              "      <td>2013-01-01 05:00:00</td>\n",
              "    </tr>\n",
              "    <tr>\n",
              "      <th>2</th>\n",
              "      <td>3</td>\n",
              "      <td>2013</td>\n",
              "      <td>1</td>\n",
              "      <td>1</td>\n",
              "      <td>542.0</td>\n",
              "      <td>540</td>\n",
              "      <td>2.0</td>\n",
              "      <td>923.0</td>\n",
              "      <td>850</td>\n",
              "      <td>33.0</td>\n",
              "      <td>AA</td>\n",
              "      <td>1141</td>\n",
              "      <td>N619AA</td>\n",
              "      <td>JFK</td>\n",
              "      <td>MIA</td>\n",
              "      <td>160.0</td>\n",
              "      <td>1089</td>\n",
              "      <td>5</td>\n",
              "      <td>40</td>\n",
              "      <td>2013-01-01 05:00:00</td>\n",
              "    </tr>\n",
              "    <tr>\n",
              "      <th>3</th>\n",
              "      <td>4</td>\n",
              "      <td>2013</td>\n",
              "      <td>1</td>\n",
              "      <td>1</td>\n",
              "      <td>544.0</td>\n",
              "      <td>545</td>\n",
              "      <td>-1.0</td>\n",
              "      <td>1004.0</td>\n",
              "      <td>1022</td>\n",
              "      <td>-18.0</td>\n",
              "      <td>B6</td>\n",
              "      <td>725</td>\n",
              "      <td>N804JB</td>\n",
              "      <td>JFK</td>\n",
              "      <td>BQN</td>\n",
              "      <td>183.0</td>\n",
              "      <td>1576</td>\n",
              "      <td>5</td>\n",
              "      <td>45</td>\n",
              "      <td>2013-01-01 05:00:00</td>\n",
              "    </tr>\n",
              "    <tr>\n",
              "      <th>4</th>\n",
              "      <td>5</td>\n",
              "      <td>2013</td>\n",
              "      <td>1</td>\n",
              "      <td>1</td>\n",
              "      <td>554.0</td>\n",
              "      <td>600</td>\n",
              "      <td>-6.0</td>\n",
              "      <td>812.0</td>\n",
              "      <td>837</td>\n",
              "      <td>-25.0</td>\n",
              "      <td>DL</td>\n",
              "      <td>461</td>\n",
              "      <td>N668DN</td>\n",
              "      <td>LGA</td>\n",
              "      <td>ATL</td>\n",
              "      <td>116.0</td>\n",
              "      <td>762</td>\n",
              "      <td>6</td>\n",
              "      <td>0</td>\n",
              "      <td>2013-01-01 06:00:00</td>\n",
              "    </tr>\n",
              "  </tbody>\n",
              "</table>\n",
              "</div>"
            ],
            "text/plain": [
              "   Unnamed: 0  year  month  day  ...  distance  hour  minute            time_hour\n",
              "0           1  2013      1    1  ...      1400     5      15  2013-01-01 05:00:00\n",
              "1           2  2013      1    1  ...      1416     5      29  2013-01-01 05:00:00\n",
              "2           3  2013      1    1  ...      1089     5      40  2013-01-01 05:00:00\n",
              "3           4  2013      1    1  ...      1576     5      45  2013-01-01 05:00:00\n",
              "4           5  2013      1    1  ...       762     6       0  2013-01-01 06:00:00\n",
              "\n",
              "[5 rows x 20 columns]"
            ]
          },
          "metadata": {
            "tags": []
          },
          "execution_count": 13
        }
      ]
    },
    {
      "cell_type": "markdown",
      "metadata": {
        "id": "_HiaHTk4HTpv"
      },
      "source": [
        "We can also see what kinds of variables are in the dataframe by using the **dtype** method:"
      ]
    },
    {
      "cell_type": "code",
      "metadata": {
        "colab": {
          "base_uri": "https://localhost:8080/"
        },
        "id": "r3SY-DNmHai7",
        "outputId": "bc7efdcc-4c7e-4c41-b4b9-c247564c9733"
      },
      "source": [
        "#find the data types\n",
        "df_flights.dtypes"
      ],
      "execution_count": 15,
      "outputs": [
        {
          "output_type": "execute_result",
          "data": {
            "text/plain": [
              "Unnamed: 0          int64\n",
              "year                int64\n",
              "month               int64\n",
              "day                 int64\n",
              "dep_time          float64\n",
              "sched_dep_time      int64\n",
              "dep_delay         float64\n",
              "arr_time          float64\n",
              "sched_arr_time      int64\n",
              "arr_delay         float64\n",
              "carrier            object\n",
              "flight              int64\n",
              "tailnum            object\n",
              "origin             object\n",
              "dest               object\n",
              "air_time          float64\n",
              "distance            int64\n",
              "hour                int64\n",
              "minute              int64\n",
              "time_hour          object\n",
              "dtype: object"
            ]
          },
          "metadata": {
            "tags": []
          },
          "execution_count": 15
        }
      ]
    },
    {
      "cell_type": "markdown",
      "metadata": {
        "id": "HEpqUyo0q8JK"
      },
      "source": [
        "We can get a quick description of the numeric data using the **describe** method:"
      ]
    },
    {
      "cell_type": "code",
      "metadata": {
        "colab": {
          "base_uri": "https://localhost:8080/",
          "height": 267
        },
        "id": "X_ExHFhxq77p",
        "outputId": "86f6ac39-f336-4b58-a0de-16bb90073d8a"
      },
      "source": [
        "df_flights.describe()"
      ],
      "execution_count": 16,
      "outputs": [
        {
          "output_type": "execute_result",
          "data": {
            "application/vnd.google.colaboratory.module+javascript": "\n      import \"https://ssl.gstatic.com/colaboratory/data_table/a6224c040fa35dcf/data_table.js\";\n\n      window.createDataTable({\n        data: [[\"count\",\n{\n            'v': 3614.0,\n            'f': \"3614.0\",\n        },\n{\n            'v': 3614.0,\n            'f': \"3614.0\",\n        },\n{\n            'v': 3614.0,\n            'f': \"3614.0\",\n        },\n{\n            'v': 3614.0,\n            'f': \"3614.0\",\n        },\n{\n            'v': 3586.0,\n            'f': \"3586.0\",\n        },\n{\n            'v': 3614.0,\n            'f': \"3614.0\",\n        },\n{\n            'v': 3586.0,\n            'f': \"3586.0\",\n        },\n{\n            'v': 3583.0,\n            'f': \"3583.0\",\n        },\n{\n            'v': 3614.0,\n            'f': \"3614.0\",\n        },\n{\n            'v': 3567.0,\n            'f': \"3567.0\",\n        },\n{\n            'v': 3614.0,\n            'f': \"3614.0\",\n        },\n{\n            'v': 3567.0,\n            'f': \"3567.0\",\n        },\n{\n            'v': 3614.0,\n            'f': \"3614.0\",\n        },\n{\n            'v': 3614.0,\n            'f': \"3614.0\",\n        },\n{\n            'v': 3614.0,\n            'f': \"3614.0\",\n        }],\n [\"mean\",\n{\n            'v': 1807.5,\n            'f': \"1807.5\",\n        },\n{\n            'v': 2013.0,\n            'f': \"2013.0\",\n        },\n{\n            'v': 1.0,\n            'f': \"1.0\",\n        },\n{\n            'v': 2.5262866629773106,\n            'f': \"2.5262866629773106\",\n        },\n{\n            'v': 1360.3469046291132,\n            'f': \"1360.3469046291132\",\n        },\n{\n            'v': 1349.081903707803,\n            'f': \"1349.081903707803\",\n        },\n{\n            'v': 11.351366424986058,\n            'f': \"11.351366424986058\",\n        },\n{\n            'v': 1537.0926597823054,\n            'f': \"1537.0926597823054\",\n        },\n{\n            'v': 1547.1679579413392,\n            'f': \"1547.1679579413392\",\n        },\n{\n            'v': 7.204093075413513,\n            'f': \"7.204093075413513\",\n        },\n{\n            'v': 1897.3021582733813,\n            'f': \"1897.3021582733813\",\n        },\n{\n            'v': 159.6694701429773,\n            'f': \"159.6694701429773\",\n        },\n{\n            'v': 1049.573325954621,\n            'f': \"1049.573325954621\",\n        },\n{\n            'v': 13.229662423907028,\n            'f': \"13.229662423907028\",\n        },\n{\n            'v': 26.115661317100166,\n            'f': \"26.115661317100166\",\n        }],\n [\"std\",\n{\n            'v': 1043.4162640097193,\n            'f': \"1043.4162640097193\",\n        },\n{\n            'v': 0.0,\n            'f': \"0.0\",\n        },\n{\n            'v': 0.0,\n            'f': \"0.0\",\n        },\n{\n            'v': 1.1054306685254005,\n            'f': \"1.1054306685254005\",\n        },\n{\n            'v': 481.8220104738129,\n            'f': \"481.8220104738129\",\n        },\n{\n            'v': 468.32965334316145,\n            'f': \"468.32965334316145\",\n        },\n{\n            'v': 35.86371724056061,\n            'f': \"35.86371724056061\",\n        },\n{\n            'v': 519.6029905549785,\n            'f': \"519.6029905549785\",\n        },\n{\n            'v': 498.762866136817,\n            'f': \"498.762866136817\",\n        },\n{\n            'v': 40.1143465868095,\n            'f': \"40.1143465868095\",\n        },\n{\n            'v': 1642.780817821054,\n            'f': \"1642.780817821054\",\n        },\n{\n            'v': 91.37515703326781,\n            'f': \"91.37515703326781\",\n        },\n{\n            'v': 719.8067797576351,\n            'f': \"719.8067797576351\",\n        },\n{\n            'v': 4.6730164571494415,\n            'f': \"4.6730164571494415\",\n        },\n{\n            'v': 19.205890247430954,\n            'f': \"19.205890247430954\",\n        }],\n [\"min\",\n{\n            'v': 1.0,\n            'f': \"1.0\",\n        },\n{\n            'v': 2013.0,\n            'f': \"2013.0\",\n        },\n{\n            'v': 1.0,\n            'f': \"1.0\",\n        },\n{\n            'v': 1.0,\n            'f': \"1.0\",\n        },\n{\n            'v': 25.0,\n            'f': \"25.0\",\n        },\n{\n            'v': 500.0,\n            'f': \"500.0\",\n        },\n{\n            'v': -19.0,\n            'f': \"-19.0\",\n        },\n{\n            'v': 1.0,\n            'f': \"1.0\",\n        },\n{\n            'v': 2.0,\n            'f': \"2.0\",\n        },\n{\n            'v': -70.0,\n            'f': \"-70.0\",\n        },\n{\n            'v': 1.0,\n            'f': \"1.0\",\n        },\n{\n            'v': 24.0,\n            'f': \"24.0\",\n        },\n{\n            'v': 80.0,\n            'f': \"80.0\",\n        },\n{\n            'v': 5.0,\n            'f': \"5.0\",\n        },\n{\n            'v': 0.0,\n            'f': \"0.0\",\n        }],\n [\"25%\",\n{\n            'v': 904.25,\n            'f': \"904.25\",\n        },\n{\n            'v': 2013.0,\n            'f': \"2013.0\",\n        },\n{\n            'v': 1.0,\n            'f': \"1.0\",\n        },\n{\n            'v': 2.0,\n            'f': \"2.0\",\n        },\n{\n            'v': 917.0,\n            'f': \"917.0\",\n        },\n{\n            'v': 905.0,\n            'f': \"905.0\",\n        },\n{\n            'v': -4.0,\n            'f': \"-4.0\",\n        },\n{\n            'v': 1124.0,\n            'f': \"1124.0\",\n        },\n{\n            'v': 1131.0,\n            'f': \"1131.0\",\n        },\n{\n            'v': -13.0,\n            'f': \"-13.0\",\n        },\n{\n            'v': 527.0,\n            'f': \"527.0\",\n        },\n{\n            'v': 93.0,\n            'f': \"93.0\",\n        },\n{\n            'v': 529.0,\n            'f': \"529.0\",\n        },\n{\n            'v': 9.0,\n            'f': \"9.0\",\n        },\n{\n            'v': 9.0,\n            'f': \"9.0\",\n        }],\n [\"50%\",\n{\n            'v': 1807.5,\n            'f': \"1807.5\",\n        },\n{\n            'v': 2013.0,\n            'f': \"2013.0\",\n        },\n{\n            'v': 1.0,\n            'f': \"1.0\",\n        },\n{\n            'v': 3.0,\n            'f': \"3.0\",\n        },\n{\n            'v': 1423.0,\n            'f': \"1423.0\",\n        },\n{\n            'v': 1410.5,\n            'f': \"1410.5\",\n        },\n{\n            'v': 0.0,\n            'f': \"0.0\",\n        },\n{\n            'v': 1604.0,\n            'f': \"1604.0\",\n        },\n{\n            'v': 1607.0,\n            'f': \"1607.0\",\n        },\n{\n            'v': 0.0,\n            'f': \"0.0\",\n        },\n{\n            'v': 1294.0,\n            'f': \"1294.0\",\n        },\n{\n            'v': 147.0,\n            'f': \"147.0\",\n        },\n{\n            'v': 944.0,\n            'f': \"944.0\",\n        },\n{\n            'v': 14.0,\n            'f': \"14.0\",\n        },\n{\n            'v': 29.0,\n            'f': \"29.0\",\n        }],\n [\"75%\",\n{\n            'v': 2710.75,\n            'f': \"2710.75\",\n        },\n{\n            'v': 2013.0,\n            'f': \"2013.0\",\n        },\n{\n            'v': 1.0,\n            'f': \"1.0\",\n        },\n{\n            'v': 4.0,\n            'f': \"4.0\",\n        },\n{\n            'v': 1752.0,\n            'f': \"1752.0\",\n        },\n{\n            'v': 1729.0,\n            'f': \"1729.0\",\n        },\n{\n            'v': 11.0,\n            'f': \"11.0\",\n        },\n{\n            'v': 1955.0,\n            'f': \"1955.0\",\n        },\n{\n            'v': 1952.0,\n            'f': \"1952.0\",\n        },\n{\n            'v': 16.0,\n            'f': \"16.0\",\n        },\n{\n            'v': 3697.0,\n            'f': \"3697.0\",\n        },\n{\n            'v': 204.0,\n            'f': \"204.0\",\n        },\n{\n            'v': 1389.0,\n            'f': \"1389.0\",\n        },\n{\n            'v': 17.0,\n            'f': \"17.0\",\n        },\n{\n            'v': 44.75,\n            'f': \"44.75\",\n        }],\n [\"max\",\n{\n            'v': 3614.0,\n            'f': \"3614.0\",\n        },\n{\n            'v': 2013.0,\n            'f': \"2013.0\",\n        },\n{\n            'v': 1.0,\n            'f': \"1.0\",\n        },\n{\n            'v': 4.0,\n            'f': \"4.0\",\n        },\n{\n            'v': 2358.0,\n            'f': \"2358.0\",\n        },\n{\n            'v': 2359.0,\n            'f': \"2359.0\",\n        },\n{\n            'v': 853.0,\n            'f': \"853.0\",\n        },\n{\n            'v': 2400.0,\n            'f': \"2400.0\",\n        },\n{\n            'v': 2359.0,\n            'f': \"2359.0\",\n        },\n{\n            'v': 851.0,\n            'f': \"851.0\",\n        },\n{\n            'v': 6055.0,\n            'f': \"6055.0\",\n        },\n{\n            'v': 659.0,\n            'f': \"659.0\",\n        },\n{\n            'v': 4983.0,\n            'f': \"4983.0\",\n        },\n{\n            'v': 23.0,\n            'f': \"23.0\",\n        },\n{\n            'v': 59.0,\n            'f': \"59.0\",\n        }]],\n        columns: [[\"string\", \"index\"], [\"number\", \"Unnamed: 0\"], [\"number\", \"year\"], [\"number\", \"month\"], [\"number\", \"day\"], [\"number\", \"dep_time\"], [\"number\", \"sched_dep_time\"], [\"number\", \"dep_delay\"], [\"number\", \"arr_time\"], [\"number\", \"sched_arr_time\"], [\"number\", \"arr_delay\"], [\"number\", \"flight\"], [\"number\", \"air_time\"], [\"number\", \"distance\"], [\"number\", \"hour\"], [\"number\", \"minute\"]],\n        columnOptions: [{\"width\": \"1px\", \"className\": \"index_column\"}],\n        rowsPerPage: 25,\n        helpUrl: \"https://colab.research.google.com/notebooks/data_table.ipynb\",\n        suppressOutputScrolling: true,\n        minimumWidth: undefined,\n      });\n    ",
            "text/html": [
              "<div>\n",
              "<style scoped>\n",
              "    .dataframe tbody tr th:only-of-type {\n",
              "        vertical-align: middle;\n",
              "    }\n",
              "\n",
              "    .dataframe tbody tr th {\n",
              "        vertical-align: top;\n",
              "    }\n",
              "\n",
              "    .dataframe thead th {\n",
              "        text-align: right;\n",
              "    }\n",
              "</style>\n",
              "<table border=\"1\" class=\"dataframe\">\n",
              "  <thead>\n",
              "    <tr style=\"text-align: right;\">\n",
              "      <th></th>\n",
              "      <th>Unnamed: 0</th>\n",
              "      <th>year</th>\n",
              "      <th>month</th>\n",
              "      <th>day</th>\n",
              "      <th>dep_time</th>\n",
              "      <th>sched_dep_time</th>\n",
              "      <th>dep_delay</th>\n",
              "      <th>arr_time</th>\n",
              "      <th>sched_arr_time</th>\n",
              "      <th>arr_delay</th>\n",
              "      <th>flight</th>\n",
              "      <th>air_time</th>\n",
              "      <th>distance</th>\n",
              "      <th>hour</th>\n",
              "      <th>minute</th>\n",
              "    </tr>\n",
              "  </thead>\n",
              "  <tbody>\n",
              "    <tr>\n",
              "      <th>count</th>\n",
              "      <td>3614.000000</td>\n",
              "      <td>3614.0</td>\n",
              "      <td>3614.0</td>\n",
              "      <td>3614.000000</td>\n",
              "      <td>3586.000000</td>\n",
              "      <td>3614.000000</td>\n",
              "      <td>3586.000000</td>\n",
              "      <td>3583.000000</td>\n",
              "      <td>3614.000000</td>\n",
              "      <td>3567.000000</td>\n",
              "      <td>3614.000000</td>\n",
              "      <td>3567.000000</td>\n",
              "      <td>3614.000000</td>\n",
              "      <td>3614.000000</td>\n",
              "      <td>3614.000000</td>\n",
              "    </tr>\n",
              "    <tr>\n",
              "      <th>mean</th>\n",
              "      <td>1807.500000</td>\n",
              "      <td>2013.0</td>\n",
              "      <td>1.0</td>\n",
              "      <td>2.526287</td>\n",
              "      <td>1360.346905</td>\n",
              "      <td>1349.081904</td>\n",
              "      <td>11.351366</td>\n",
              "      <td>1537.092660</td>\n",
              "      <td>1547.167958</td>\n",
              "      <td>7.204093</td>\n",
              "      <td>1897.302158</td>\n",
              "      <td>159.669470</td>\n",
              "      <td>1049.573326</td>\n",
              "      <td>13.229662</td>\n",
              "      <td>26.115661</td>\n",
              "    </tr>\n",
              "    <tr>\n",
              "      <th>std</th>\n",
              "      <td>1043.416264</td>\n",
              "      <td>0.0</td>\n",
              "      <td>0.0</td>\n",
              "      <td>1.105431</td>\n",
              "      <td>481.822010</td>\n",
              "      <td>468.329653</td>\n",
              "      <td>35.863717</td>\n",
              "      <td>519.602991</td>\n",
              "      <td>498.762866</td>\n",
              "      <td>40.114347</td>\n",
              "      <td>1642.780818</td>\n",
              "      <td>91.375157</td>\n",
              "      <td>719.806780</td>\n",
              "      <td>4.673016</td>\n",
              "      <td>19.205890</td>\n",
              "    </tr>\n",
              "    <tr>\n",
              "      <th>min</th>\n",
              "      <td>1.000000</td>\n",
              "      <td>2013.0</td>\n",
              "      <td>1.0</td>\n",
              "      <td>1.000000</td>\n",
              "      <td>25.000000</td>\n",
              "      <td>500.000000</td>\n",
              "      <td>-19.000000</td>\n",
              "      <td>1.000000</td>\n",
              "      <td>2.000000</td>\n",
              "      <td>-70.000000</td>\n",
              "      <td>1.000000</td>\n",
              "      <td>24.000000</td>\n",
              "      <td>80.000000</td>\n",
              "      <td>5.000000</td>\n",
              "      <td>0.000000</td>\n",
              "    </tr>\n",
              "    <tr>\n",
              "      <th>25%</th>\n",
              "      <td>904.250000</td>\n",
              "      <td>2013.0</td>\n",
              "      <td>1.0</td>\n",
              "      <td>2.000000</td>\n",
              "      <td>917.000000</td>\n",
              "      <td>905.000000</td>\n",
              "      <td>-4.000000</td>\n",
              "      <td>1124.000000</td>\n",
              "      <td>1131.000000</td>\n",
              "      <td>-13.000000</td>\n",
              "      <td>527.000000</td>\n",
              "      <td>93.000000</td>\n",
              "      <td>529.000000</td>\n",
              "      <td>9.000000</td>\n",
              "      <td>9.000000</td>\n",
              "    </tr>\n",
              "    <tr>\n",
              "      <th>50%</th>\n",
              "      <td>1807.500000</td>\n",
              "      <td>2013.0</td>\n",
              "      <td>1.0</td>\n",
              "      <td>3.000000</td>\n",
              "      <td>1423.000000</td>\n",
              "      <td>1410.500000</td>\n",
              "      <td>0.000000</td>\n",
              "      <td>1604.000000</td>\n",
              "      <td>1607.000000</td>\n",
              "      <td>0.000000</td>\n",
              "      <td>1294.000000</td>\n",
              "      <td>147.000000</td>\n",
              "      <td>944.000000</td>\n",
              "      <td>14.000000</td>\n",
              "      <td>29.000000</td>\n",
              "    </tr>\n",
              "    <tr>\n",
              "      <th>75%</th>\n",
              "      <td>2710.750000</td>\n",
              "      <td>2013.0</td>\n",
              "      <td>1.0</td>\n",
              "      <td>4.000000</td>\n",
              "      <td>1752.000000</td>\n",
              "      <td>1729.000000</td>\n",
              "      <td>11.000000</td>\n",
              "      <td>1955.000000</td>\n",
              "      <td>1952.000000</td>\n",
              "      <td>16.000000</td>\n",
              "      <td>3697.000000</td>\n",
              "      <td>204.000000</td>\n",
              "      <td>1389.000000</td>\n",
              "      <td>17.000000</td>\n",
              "      <td>44.750000</td>\n",
              "    </tr>\n",
              "    <tr>\n",
              "      <th>max</th>\n",
              "      <td>3614.000000</td>\n",
              "      <td>2013.0</td>\n",
              "      <td>1.0</td>\n",
              "      <td>4.000000</td>\n",
              "      <td>2358.000000</td>\n",
              "      <td>2359.000000</td>\n",
              "      <td>853.000000</td>\n",
              "      <td>2400.000000</td>\n",
              "      <td>2359.000000</td>\n",
              "      <td>851.000000</td>\n",
              "      <td>6055.000000</td>\n",
              "      <td>659.000000</td>\n",
              "      <td>4983.000000</td>\n",
              "      <td>23.000000</td>\n",
              "      <td>59.000000</td>\n",
              "    </tr>\n",
              "  </tbody>\n",
              "</table>\n",
              "</div>"
            ],
            "text/plain": [
              "        Unnamed: 0    year   month  ...     distance         hour       minute\n",
              "count  3614.000000  3614.0  3614.0  ...  3614.000000  3614.000000  3614.000000\n",
              "mean   1807.500000  2013.0     1.0  ...  1049.573326    13.229662    26.115661\n",
              "std    1043.416264     0.0     0.0  ...   719.806780     4.673016    19.205890\n",
              "min       1.000000  2013.0     1.0  ...    80.000000     5.000000     0.000000\n",
              "25%     904.250000  2013.0     1.0  ...   529.000000     9.000000     9.000000\n",
              "50%    1807.500000  2013.0     1.0  ...   944.000000    14.000000    29.000000\n",
              "75%    2710.750000  2013.0     1.0  ...  1389.000000    17.000000    44.750000\n",
              "max    3614.000000  2013.0     1.0  ...  4983.000000    23.000000    59.000000\n",
              "\n",
              "[8 rows x 15 columns]"
            ]
          },
          "metadata": {
            "tags": []
          },
          "execution_count": 16
        }
      ]
    },
    {
      "cell_type": "markdown",
      "metadata": {
        "id": "bJxRYLmYHaFB"
      },
      "source": [
        "We can also take a look at the dataframe by double clicking on the nycflights.csv file in the files tab on the left. This gives us a more dynamic view as we can use filter to explore the data a little more.\n",
        "Try filtering for carrier: e.g., AA"
      ]
    },
    {
      "cell_type": "markdown",
      "metadata": {
        "id": "uk7OJAh6mBSQ"
      },
      "source": [
        "## <font color='lightblue'>Manipulate the dataframe</font>"
      ]
    },
    {
      "cell_type": "markdown",
      "metadata": {
        "id": "aN7MXElJl-4u"
      },
      "source": [
        "Let's now use your new found skills to answer some questions!"
      ]
    },
    {
      "cell_type": "markdown",
      "metadata": {
        "id": "o0ndWycZn9sR"
      },
      "source": [
        "<img src='http://drive.google.com/uc?export=view&id=1WC4tXGCEF-1_2LQ74gIxJAZ-GLXCwBdK' width=\"100\" align = 'left'>"
      ]
    },
    {
      "cell_type": "markdown",
      "metadata": {
        "id": "qsvRUqaEJ4JT"
      },
      "source": [
        "Make a dataframe with only carrier, arr_delay, dep_delay, and air_time as columns."
      ]
    },
    {
      "cell_type": "code",
      "metadata": {
        "colab": {
          "base_uri": "https://localhost:8080/",
          "height": 141
        },
        "id": "m0zqbaCcAneP",
        "outputId": "4f9072c6-bbd7-4715-d7e6-e45c3eb29d96"
      },
      "source": [
        "#keep only the a subset of columns\n",
        "df_flights_sub = df_flights.loc[? ,?  ]  #Warning: the column names will be case sensitive!\n",
        "\n",
        "#take a look at the new dataframe\n",
        "?"
      ],
      "execution_count": null,
      "outputs": [
        {
          "output_type": "execute_result",
          "data": {
            "text/html": [
              "<div>\n",
              "<style scoped>\n",
              "    .dataframe tbody tr th:only-of-type {\n",
              "        vertical-align: middle;\n",
              "    }\n",
              "\n",
              "    .dataframe tbody tr th {\n",
              "        vertical-align: top;\n",
              "    }\n",
              "\n",
              "    .dataframe thead th {\n",
              "        text-align: right;\n",
              "    }\n",
              "</style>\n",
              "<table border=\"1\" class=\"dataframe\">\n",
              "  <thead>\n",
              "    <tr style=\"text-align: right;\">\n",
              "      <th></th>\n",
              "      <th>carrier</th>\n",
              "      <th>arr_delay</th>\n",
              "      <th>dep_delay</th>\n",
              "      <th>air_time</th>\n",
              "    </tr>\n",
              "  </thead>\n",
              "  <tbody>\n",
              "    <tr>\n",
              "      <th>0</th>\n",
              "      <td>UA</td>\n",
              "      <td>11.0</td>\n",
              "      <td>2.0</td>\n",
              "      <td>227.0</td>\n",
              "    </tr>\n",
              "    <tr>\n",
              "      <th>1</th>\n",
              "      <td>UA</td>\n",
              "      <td>20.0</td>\n",
              "      <td>4.0</td>\n",
              "      <td>227.0</td>\n",
              "    </tr>\n",
              "    <tr>\n",
              "      <th>2</th>\n",
              "      <td>AA</td>\n",
              "      <td>33.0</td>\n",
              "      <td>2.0</td>\n",
              "      <td>160.0</td>\n",
              "    </tr>\n",
              "  </tbody>\n",
              "</table>\n",
              "</div>"
            ],
            "text/plain": [
              "  carrier  arr_delay  dep_delay  air_time\n",
              "0      UA       11.0        2.0     227.0\n",
              "1      UA       20.0        4.0     227.0\n",
              "2      AA       33.0        2.0     160.0"
            ]
          },
          "metadata": {
            "tags": []
          },
          "execution_count": 42
        }
      ]
    },
    {
      "cell_type": "markdown",
      "metadata": {
        "id": "2znJOff0JpXE"
      },
      "source": [
        "Make a dataframe of all flights that have an arrival delay of greater than 60min"
      ]
    },
    {
      "cell_type": "code",
      "metadata": {
        "id": "lS27a2TUJ2IG"
      },
      "source": [
        "#keep only the rows with arr_delay of greater than 60 minutes\n",
        "df_flights_delayed60 = df_flights[?]\n",
        "\n",
        "#What is the shape of this new dataframe\n",
        "?"
      ],
      "execution_count": null,
      "outputs": []
    },
    {
      "cell_type": "markdown",
      "metadata": {
        "id": "Edr1BV2OjImL"
      },
      "source": [
        "Can you also calculate how many flights arrived earlier than expected (i.e., where the plane arrived before the scheduled arrival time). "
      ]
    },
    {
      "cell_type": "code",
      "metadata": {
        "id": "L1RLoJ5mNrAt"
      },
      "source": [
        "#keep only the rows with arr_delay less than 0 minutes (i.e., negative delay!)\n",
        "\n",
        "#what is the shape of this new dataframe"
      ],
      "execution_count": null,
      "outputs": []
    },
    {
      "cell_type": "markdown",
      "metadata": {
        "id": "3cUMKEmbyxsY"
      },
      "source": [
        "Finally can you express these numbers as percentages?"
      ]
    },
    {
      "cell_type": "code",
      "metadata": {
        "id": "dOspEKWIy8fQ"
      },
      "source": [
        "#percentage of flights delayed more than 60mins, i.e., number delayed rows / number total rows\n"
      ],
      "execution_count": null,
      "outputs": []
    },
    {
      "cell_type": "code",
      "metadata": {
        "id": "sZ65plI6zGUA"
      },
      "source": [
        "#percentage of flights arriving before scheduled time, i.e., number early rows / number total rows\n"
      ],
      "execution_count": null,
      "outputs": []
    },
    {
      "cell_type": "markdown",
      "metadata": {
        "id": "TUNoATnrzL4K"
      },
      "source": [
        "Post to slack once you've got an answer!"
      ]
    },
    {
      "cell_type": "markdown",
      "metadata": {
        "id": "xVcb23hW1oXD"
      },
      "source": [
        "# <font color='lightblue'>Further reading</font>"
      ]
    },
    {
      "cell_type": "markdown",
      "metadata": {
        "id": "T0CUWO8D1wPz"
      },
      "source": [
        "The many ways to work with [data in colab](https://neptune.ai/blog/google-colab-dealing-with-files)."
      ]
    }
  ]
}