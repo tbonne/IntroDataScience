{
  "nbformat": 4,
  "nbformat_minor": 0,
  "metadata": {
    "colab": {
      "name": "IntroData2_LoadingData.ipynb",
      "provenance": [],
      "collapsed_sections": [],
      "mount_file_id": "1DPfUfk_MvYKEIp0HqW0MZCrxHuqjl_RU",
      "authorship_tag": "ABX9TyOXXO84JcmjrPAZVAlQrdVN",
      "include_colab_link": true
    },
    "kernelspec": {
      "name": "python3",
      "display_name": "Python 3"
    }
  },
  "cells": [
    {
      "cell_type": "markdown",
      "metadata": {
        "id": "view-in-github",
        "colab_type": "text"
      },
      "source": [
        "<a href=\"https://colab.research.google.com/github/tbonne/IntroDataScience/blob/main/InClassNotebooks/IntroData2_LoadingData.ipynb\" target=\"_parent\"><img src=\"https://colab.research.google.com/assets/colab-badge.svg\" alt=\"Open In Colab\"/></a>"
      ]
    },
    {
      "cell_type": "markdown",
      "metadata": {
        "id": "BAIFtJ6eihzI"
      },
      "source": [
        "<img src='http://drive.google.com/uc?export=view&id=1FZW6_R4T8PailZCgLSdNTZLIDoAG9VM5' width=\"300\" align = 'left'> "
      ]
    },
    {
      "cell_type": "markdown",
      "metadata": {
        "id": "QQfYJa5t8HtW"
      },
      "source": [
        "# <font color='lightblue'>Using existing data</font>"
      ]
    },
    {
      "cell_type": "markdown",
      "metadata": {
        "id": "0RXQK2SpjqCu"
      },
      "source": [
        "In this exercise we will start working with some real data. We will first learn how to load in data, then test out what you've learnt about DataFrames.\n",
        "\n",
        "Outline:\n",
        "*   Load in data\n",
        "*   Explore the dataframe\n",
        "*   Manipulate the dataframe"
      ]
    },
    {
      "cell_type": "markdown",
      "metadata": {
        "id": "9oJgGETQkiwY"
      },
      "source": [
        "## <font color='lightblue'>Loading data</font>"
      ]
    },
    {
      "cell_type": "markdown",
      "metadata": {
        "id": "8FvZqqDOkrWL"
      },
      "source": [
        "There are many ways to load in datasets, here we'll look at how to use google drive to load in a csv file."
      ]
    },
    {
      "cell_type": "markdown",
      "metadata": {
        "id": "hqT-dE9QlmKR"
      },
      "source": [
        "Let's first connect you colab notbook to your gdrive. After running this code chunk you should see a popup. Follow the directions to setup your link."
      ]
    },
    {
      "cell_type": "code",
      "metadata": {
        "id": "nHhnvh6plPwt"
      },
      "source": [
        "#mount your google drive\n",
        "from google.colab import drive\n",
        "drive.mount('/content/gdrive')"
      ],
      "execution_count": null,
      "outputs": []
    },
    {
      "cell_type": "markdown",
      "metadata": {
        "id": "cYghAs_iqdAM"
      },
      "source": [
        "Next, let's get the data:\n",
        "> Goto the shared [data folder](https://drive.google.com/drive/folders/1s2Civxvys_SR1sFF7D2ept1GSmFbICQb?usp=sharing) for the class and download nyc_flight_data.csv\n",
        " \n",
        "> Then place the data into your google drive.\n",
        "\n"
      ]
    },
    {
      "cell_type": "markdown",
      "metadata": {
        "id": "HskW9AzTI7cJ"
      },
      "source": [
        "Finally, let's load in the flights data using a function from pandas called *read_csv*\n",
        "\n",
        "> note: the exact location will depend on where you placed the data in your google drive. Try using the files explorer on the left to find your file. When you find it right click on it and copy the path. Then paste the path into the *read_csv* function."
      ]
    },
    {
      "cell_type": "code",
      "metadata": {
        "id": "g2KKj_co9xsz"
      },
      "source": [
        "import pandas as pd\n",
        "\n",
        "##load in the nyc flight data \n",
        "df_flights = pd.read_csv('/content/drive/MyDrive/Colab Notebooks/nyc_flight_data.csv') "
      ],
      "execution_count": null,
      "outputs": []
    },
    {
      "cell_type": "markdown",
      "metadata": {
        "id": "zmXGEfFKnM7H"
      },
      "source": [
        "## <font color='lightblue'>Exploring the dataframe</font>"
      ]
    },
    {
      "cell_type": "markdown",
      "metadata": {
        "id": "lsYFARHaGdX-"
      },
      "source": [
        "Now that we have the dataset loaded, let's take a look at it. Let's first look at it's shape."
      ]
    },
    {
      "cell_type": "code",
      "metadata": {
        "colab": {
          "base_uri": "https://localhost:8080/"
        },
        "id": "uLa-XVQxuBwF",
        "outputId": "c8973be9-3680-4e54-cc8f-4b73a80270dc"
      },
      "source": [
        "df_flights.shape"
      ],
      "execution_count": null,
      "outputs": [
        {
          "output_type": "execute_result",
          "data": {
            "text/plain": [
              "(3614, 20)"
            ]
          },
          "metadata": {
            "tags": []
          },
          "execution_count": 12
        }
      ]
    },
    {
      "cell_type": "markdown",
      "metadata": {
        "id": "pubLayxLuA5f"
      },
      "source": [
        "Here we can get a quick look the dataframe using the **head** method."
      ]
    },
    {
      "cell_type": "code",
      "metadata": {
        "colab": {
          "base_uri": "https://localhost:8080/",
          "height": 285
        },
        "id": "jV14MnZpGpnL",
        "outputId": "207f534a-a7fd-47f7-f552-4f5015b1665f"
      },
      "source": [
        "df_flights.head(3)"
      ],
      "execution_count": null,
      "outputs": [
        {
          "output_type": "execute_result",
          "data": {
            "text/html": [
              "<div>\n",
              "<style scoped>\n",
              "    .dataframe tbody tr th:only-of-type {\n",
              "        vertical-align: middle;\n",
              "    }\n",
              "\n",
              "    .dataframe tbody tr th {\n",
              "        vertical-align: top;\n",
              "    }\n",
              "\n",
              "    .dataframe thead th {\n",
              "        text-align: right;\n",
              "    }\n",
              "</style>\n",
              "<table border=\"1\" class=\"dataframe\">\n",
              "  <thead>\n",
              "    <tr style=\"text-align: right;\">\n",
              "      <th></th>\n",
              "      <th>Unnamed: 0</th>\n",
              "      <th>year</th>\n",
              "      <th>month</th>\n",
              "      <th>day</th>\n",
              "      <th>dep_time</th>\n",
              "      <th>sched_dep_time</th>\n",
              "      <th>dep_delay</th>\n",
              "      <th>arr_time</th>\n",
              "      <th>sched_arr_time</th>\n",
              "      <th>arr_delay</th>\n",
              "      <th>carrier</th>\n",
              "      <th>flight</th>\n",
              "      <th>tailnum</th>\n",
              "      <th>origin</th>\n",
              "      <th>dest</th>\n",
              "      <th>air_time</th>\n",
              "      <th>distance</th>\n",
              "      <th>hour</th>\n",
              "      <th>minute</th>\n",
              "      <th>time_hour</th>\n",
              "    </tr>\n",
              "  </thead>\n",
              "  <tbody>\n",
              "    <tr>\n",
              "      <th>0</th>\n",
              "      <td>1</td>\n",
              "      <td>2013</td>\n",
              "      <td>1</td>\n",
              "      <td>1</td>\n",
              "      <td>517.0</td>\n",
              "      <td>515</td>\n",
              "      <td>2.0</td>\n",
              "      <td>830.0</td>\n",
              "      <td>819</td>\n",
              "      <td>11.0</td>\n",
              "      <td>UA</td>\n",
              "      <td>1545</td>\n",
              "      <td>N14228</td>\n",
              "      <td>EWR</td>\n",
              "      <td>IAH</td>\n",
              "      <td>227.0</td>\n",
              "      <td>1400</td>\n",
              "      <td>5</td>\n",
              "      <td>15</td>\n",
              "      <td>2013-01-01 05:00:00</td>\n",
              "    </tr>\n",
              "    <tr>\n",
              "      <th>1</th>\n",
              "      <td>2</td>\n",
              "      <td>2013</td>\n",
              "      <td>1</td>\n",
              "      <td>1</td>\n",
              "      <td>533.0</td>\n",
              "      <td>529</td>\n",
              "      <td>4.0</td>\n",
              "      <td>850.0</td>\n",
              "      <td>830</td>\n",
              "      <td>20.0</td>\n",
              "      <td>UA</td>\n",
              "      <td>1714</td>\n",
              "      <td>N24211</td>\n",
              "      <td>LGA</td>\n",
              "      <td>IAH</td>\n",
              "      <td>227.0</td>\n",
              "      <td>1416</td>\n",
              "      <td>5</td>\n",
              "      <td>29</td>\n",
              "      <td>2013-01-01 05:00:00</td>\n",
              "    </tr>\n",
              "    <tr>\n",
              "      <th>2</th>\n",
              "      <td>3</td>\n",
              "      <td>2013</td>\n",
              "      <td>1</td>\n",
              "      <td>1</td>\n",
              "      <td>542.0</td>\n",
              "      <td>540</td>\n",
              "      <td>2.0</td>\n",
              "      <td>923.0</td>\n",
              "      <td>850</td>\n",
              "      <td>33.0</td>\n",
              "      <td>AA</td>\n",
              "      <td>1141</td>\n",
              "      <td>N619AA</td>\n",
              "      <td>JFK</td>\n",
              "      <td>MIA</td>\n",
              "      <td>160.0</td>\n",
              "      <td>1089</td>\n",
              "      <td>5</td>\n",
              "      <td>40</td>\n",
              "      <td>2013-01-01 05:00:00</td>\n",
              "    </tr>\n",
              "  </tbody>\n",
              "</table>\n",
              "</div>"
            ],
            "text/plain": [
              "   Unnamed: 0  year  month  day  ...  distance  hour  minute            time_hour\n",
              "0           1  2013      1    1  ...      1400     5      15  2013-01-01 05:00:00\n",
              "1           2  2013      1    1  ...      1416     5      29  2013-01-01 05:00:00\n",
              "2           3  2013      1    1  ...      1089     5      40  2013-01-01 05:00:00\n",
              "\n",
              "[3 rows x 20 columns]"
            ]
          },
          "metadata": {
            "tags": []
          },
          "execution_count": 4
        }
      ]
    },
    {
      "cell_type": "markdown",
      "metadata": {
        "id": "_HiaHTk4HTpv"
      },
      "source": [
        "We can also see what kinds of variables are in the dataframe by using the **dtype** method:"
      ]
    },
    {
      "cell_type": "code",
      "metadata": {
        "colab": {
          "base_uri": "https://localhost:8080/"
        },
        "id": "r3SY-DNmHai7",
        "outputId": "5da237b0-3d63-4abe-9da1-573232725766"
      },
      "source": [
        "#find the data types\n",
        "df_flights.dtypes"
      ],
      "execution_count": null,
      "outputs": [
        {
          "output_type": "execute_result",
          "data": {
            "text/plain": [
              "Unnamed: 0          int64\n",
              "year                int64\n",
              "month               int64\n",
              "day                 int64\n",
              "dep_time          float64\n",
              "sched_dep_time      int64\n",
              "dep_delay         float64\n",
              "arr_time          float64\n",
              "sched_arr_time      int64\n",
              "arr_delay         float64\n",
              "carrier            object\n",
              "flight              int64\n",
              "tailnum            object\n",
              "origin             object\n",
              "dest               object\n",
              "air_time          float64\n",
              "distance            int64\n",
              "hour                int64\n",
              "minute              int64\n",
              "time_hour          object\n",
              "dtype: object"
            ]
          },
          "metadata": {
            "tags": []
          },
          "execution_count": 44
        }
      ]
    },
    {
      "cell_type": "markdown",
      "metadata": {
        "id": "HEpqUyo0q8JK"
      },
      "source": [
        "We can get a quick description of the numeric data using the **describe** method:"
      ]
    },
    {
      "cell_type": "code",
      "metadata": {
        "colab": {
          "base_uri": "https://localhost:8080/",
          "height": 314
        },
        "id": "X_ExHFhxq77p",
        "outputId": "34606ea5-cb4c-4345-dca8-0084d0d21bce"
      },
      "source": [
        "df_flights.describe()"
      ],
      "execution_count": null,
      "outputs": [
        {
          "output_type": "execute_result",
          "data": {
            "text/html": [
              "<div>\n",
              "<style scoped>\n",
              "    .dataframe tbody tr th:only-of-type {\n",
              "        vertical-align: middle;\n",
              "    }\n",
              "\n",
              "    .dataframe tbody tr th {\n",
              "        vertical-align: top;\n",
              "    }\n",
              "\n",
              "    .dataframe thead th {\n",
              "        text-align: right;\n",
              "    }\n",
              "</style>\n",
              "<table border=\"1\" class=\"dataframe\">\n",
              "  <thead>\n",
              "    <tr style=\"text-align: right;\">\n",
              "      <th></th>\n",
              "      <th>Unnamed: 0</th>\n",
              "      <th>year</th>\n",
              "      <th>month</th>\n",
              "      <th>day</th>\n",
              "      <th>dep_time</th>\n",
              "      <th>sched_dep_time</th>\n",
              "      <th>dep_delay</th>\n",
              "      <th>arr_time</th>\n",
              "      <th>sched_arr_time</th>\n",
              "      <th>arr_delay</th>\n",
              "      <th>flight</th>\n",
              "      <th>air_time</th>\n",
              "      <th>distance</th>\n",
              "      <th>hour</th>\n",
              "      <th>minute</th>\n",
              "    </tr>\n",
              "  </thead>\n",
              "  <tbody>\n",
              "    <tr>\n",
              "      <th>count</th>\n",
              "      <td>3614.000000</td>\n",
              "      <td>3614.0</td>\n",
              "      <td>3614.0</td>\n",
              "      <td>3614.000000</td>\n",
              "      <td>3586.000000</td>\n",
              "      <td>3614.000000</td>\n",
              "      <td>3586.000000</td>\n",
              "      <td>3583.000000</td>\n",
              "      <td>3614.000000</td>\n",
              "      <td>3567.000000</td>\n",
              "      <td>3614.000000</td>\n",
              "      <td>3567.000000</td>\n",
              "      <td>3614.000000</td>\n",
              "      <td>3614.000000</td>\n",
              "      <td>3614.000000</td>\n",
              "    </tr>\n",
              "    <tr>\n",
              "      <th>mean</th>\n",
              "      <td>1807.500000</td>\n",
              "      <td>2013.0</td>\n",
              "      <td>1.0</td>\n",
              "      <td>2.526287</td>\n",
              "      <td>1360.346905</td>\n",
              "      <td>1349.081904</td>\n",
              "      <td>11.351366</td>\n",
              "      <td>1537.092660</td>\n",
              "      <td>1547.167958</td>\n",
              "      <td>7.204093</td>\n",
              "      <td>1897.302158</td>\n",
              "      <td>159.669470</td>\n",
              "      <td>1049.573326</td>\n",
              "      <td>13.229662</td>\n",
              "      <td>26.115661</td>\n",
              "    </tr>\n",
              "    <tr>\n",
              "      <th>std</th>\n",
              "      <td>1043.416264</td>\n",
              "      <td>0.0</td>\n",
              "      <td>0.0</td>\n",
              "      <td>1.105431</td>\n",
              "      <td>481.822010</td>\n",
              "      <td>468.329653</td>\n",
              "      <td>35.863717</td>\n",
              "      <td>519.602991</td>\n",
              "      <td>498.762866</td>\n",
              "      <td>40.114347</td>\n",
              "      <td>1642.780818</td>\n",
              "      <td>91.375157</td>\n",
              "      <td>719.806780</td>\n",
              "      <td>4.673016</td>\n",
              "      <td>19.205890</td>\n",
              "    </tr>\n",
              "    <tr>\n",
              "      <th>min</th>\n",
              "      <td>1.000000</td>\n",
              "      <td>2013.0</td>\n",
              "      <td>1.0</td>\n",
              "      <td>1.000000</td>\n",
              "      <td>25.000000</td>\n",
              "      <td>500.000000</td>\n",
              "      <td>-19.000000</td>\n",
              "      <td>1.000000</td>\n",
              "      <td>2.000000</td>\n",
              "      <td>-70.000000</td>\n",
              "      <td>1.000000</td>\n",
              "      <td>24.000000</td>\n",
              "      <td>80.000000</td>\n",
              "      <td>5.000000</td>\n",
              "      <td>0.000000</td>\n",
              "    </tr>\n",
              "    <tr>\n",
              "      <th>25%</th>\n",
              "      <td>904.250000</td>\n",
              "      <td>2013.0</td>\n",
              "      <td>1.0</td>\n",
              "      <td>2.000000</td>\n",
              "      <td>917.000000</td>\n",
              "      <td>905.000000</td>\n",
              "      <td>-4.000000</td>\n",
              "      <td>1124.000000</td>\n",
              "      <td>1131.000000</td>\n",
              "      <td>-13.000000</td>\n",
              "      <td>527.000000</td>\n",
              "      <td>93.000000</td>\n",
              "      <td>529.000000</td>\n",
              "      <td>9.000000</td>\n",
              "      <td>9.000000</td>\n",
              "    </tr>\n",
              "    <tr>\n",
              "      <th>50%</th>\n",
              "      <td>1807.500000</td>\n",
              "      <td>2013.0</td>\n",
              "      <td>1.0</td>\n",
              "      <td>3.000000</td>\n",
              "      <td>1423.000000</td>\n",
              "      <td>1410.500000</td>\n",
              "      <td>0.000000</td>\n",
              "      <td>1604.000000</td>\n",
              "      <td>1607.000000</td>\n",
              "      <td>0.000000</td>\n",
              "      <td>1294.000000</td>\n",
              "      <td>147.000000</td>\n",
              "      <td>944.000000</td>\n",
              "      <td>14.000000</td>\n",
              "      <td>29.000000</td>\n",
              "    </tr>\n",
              "    <tr>\n",
              "      <th>75%</th>\n",
              "      <td>2710.750000</td>\n",
              "      <td>2013.0</td>\n",
              "      <td>1.0</td>\n",
              "      <td>4.000000</td>\n",
              "      <td>1752.000000</td>\n",
              "      <td>1729.000000</td>\n",
              "      <td>11.000000</td>\n",
              "      <td>1955.000000</td>\n",
              "      <td>1952.000000</td>\n",
              "      <td>16.000000</td>\n",
              "      <td>3697.000000</td>\n",
              "      <td>204.000000</td>\n",
              "      <td>1389.000000</td>\n",
              "      <td>17.000000</td>\n",
              "      <td>44.750000</td>\n",
              "    </tr>\n",
              "    <tr>\n",
              "      <th>max</th>\n",
              "      <td>3614.000000</td>\n",
              "      <td>2013.0</td>\n",
              "      <td>1.0</td>\n",
              "      <td>4.000000</td>\n",
              "      <td>2358.000000</td>\n",
              "      <td>2359.000000</td>\n",
              "      <td>853.000000</td>\n",
              "      <td>2400.000000</td>\n",
              "      <td>2359.000000</td>\n",
              "      <td>851.000000</td>\n",
              "      <td>6055.000000</td>\n",
              "      <td>659.000000</td>\n",
              "      <td>4983.000000</td>\n",
              "      <td>23.000000</td>\n",
              "      <td>59.000000</td>\n",
              "    </tr>\n",
              "  </tbody>\n",
              "</table>\n",
              "</div>"
            ],
            "text/plain": [
              "        Unnamed: 0    year   month  ...     distance         hour       minute\n",
              "count  3614.000000  3614.0  3614.0  ...  3614.000000  3614.000000  3614.000000\n",
              "mean   1807.500000  2013.0     1.0  ...  1049.573326    13.229662    26.115661\n",
              "std    1043.416264     0.0     0.0  ...   719.806780     4.673016    19.205890\n",
              "min       1.000000  2013.0     1.0  ...    80.000000     5.000000     0.000000\n",
              "25%     904.250000  2013.0     1.0  ...   529.000000     9.000000     9.000000\n",
              "50%    1807.500000  2013.0     1.0  ...   944.000000    14.000000    29.000000\n",
              "75%    2710.750000  2013.0     1.0  ...  1389.000000    17.000000    44.750000\n",
              "max    3614.000000  2013.0     1.0  ...  4983.000000    23.000000    59.000000\n",
              "\n",
              "[8 rows x 15 columns]"
            ]
          },
          "metadata": {
            "tags": []
          },
          "execution_count": 4
        }
      ]
    },
    {
      "cell_type": "markdown",
      "metadata": {
        "id": "bJxRYLmYHaFB"
      },
      "source": [
        "We can also take a look at the dataframe by double clicking on the nycflights.csv file in the files tab on the left. This gives us a more dynamic view as we can use filter to explore the data a little more.\n",
        "Try filtering for carrier: e.g., AA"
      ]
    },
    {
      "cell_type": "markdown",
      "metadata": {
        "id": "uk7OJAh6mBSQ"
      },
      "source": [
        "## <font color='lightblue'>Manipulate the dataframe</font>"
      ]
    },
    {
      "cell_type": "markdown",
      "metadata": {
        "id": "aN7MXElJl-4u"
      },
      "source": [
        "Let's now use your new found skills to answer some questions!"
      ]
    },
    {
      "cell_type": "markdown",
      "metadata": {
        "id": "o0ndWycZn9sR"
      },
      "source": [
        "<img src='http://drive.google.com/uc?export=view&id=1WC4tXGCEF-1_2LQ74gIxJAZ-GLXCwBdK' width=\"100\" align = 'left'>"
      ]
    },
    {
      "cell_type": "markdown",
      "metadata": {
        "id": "qsvRUqaEJ4JT"
      },
      "source": [
        "Make a dataframe with only carrier, arr_delay, dep_delay, and air_time as columns."
      ]
    },
    {
      "cell_type": "code",
      "metadata": {
        "colab": {
          "base_uri": "https://localhost:8080/",
          "height": 141
        },
        "id": "m0zqbaCcAneP",
        "outputId": "4f9072c6-bbd7-4715-d7e6-e45c3eb29d96"
      },
      "source": [
        "#keep only the a subset of columns\n",
        "df_flights_sub = df_flights.loc[? ,?  ]  #Warning: the column names will be case sensitive!\n",
        "\n",
        "#take a look at the new dataframe\n",
        "?"
      ],
      "execution_count": null,
      "outputs": [
        {
          "output_type": "execute_result",
          "data": {
            "text/html": [
              "<div>\n",
              "<style scoped>\n",
              "    .dataframe tbody tr th:only-of-type {\n",
              "        vertical-align: middle;\n",
              "    }\n",
              "\n",
              "    .dataframe tbody tr th {\n",
              "        vertical-align: top;\n",
              "    }\n",
              "\n",
              "    .dataframe thead th {\n",
              "        text-align: right;\n",
              "    }\n",
              "</style>\n",
              "<table border=\"1\" class=\"dataframe\">\n",
              "  <thead>\n",
              "    <tr style=\"text-align: right;\">\n",
              "      <th></th>\n",
              "      <th>carrier</th>\n",
              "      <th>arr_delay</th>\n",
              "      <th>dep_delay</th>\n",
              "      <th>air_time</th>\n",
              "    </tr>\n",
              "  </thead>\n",
              "  <tbody>\n",
              "    <tr>\n",
              "      <th>0</th>\n",
              "      <td>UA</td>\n",
              "      <td>11.0</td>\n",
              "      <td>2.0</td>\n",
              "      <td>227.0</td>\n",
              "    </tr>\n",
              "    <tr>\n",
              "      <th>1</th>\n",
              "      <td>UA</td>\n",
              "      <td>20.0</td>\n",
              "      <td>4.0</td>\n",
              "      <td>227.0</td>\n",
              "    </tr>\n",
              "    <tr>\n",
              "      <th>2</th>\n",
              "      <td>AA</td>\n",
              "      <td>33.0</td>\n",
              "      <td>2.0</td>\n",
              "      <td>160.0</td>\n",
              "    </tr>\n",
              "  </tbody>\n",
              "</table>\n",
              "</div>"
            ],
            "text/plain": [
              "  carrier  arr_delay  dep_delay  air_time\n",
              "0      UA       11.0        2.0     227.0\n",
              "1      UA       20.0        4.0     227.0\n",
              "2      AA       33.0        2.0     160.0"
            ]
          },
          "metadata": {
            "tags": []
          },
          "execution_count": 42
        }
      ]
    },
    {
      "cell_type": "markdown",
      "metadata": {
        "id": "2znJOff0JpXE"
      },
      "source": [
        "Make a dataframe of all flights that have an arrival delay of greater than 60min"
      ]
    },
    {
      "cell_type": "code",
      "metadata": {
        "id": "lS27a2TUJ2IG"
      },
      "source": [
        "#keep only the rows with arr_delay of greater than 60 minutes\n",
        "df_flights_delayed60 = df_flights[?]\n",
        "\n",
        "#What is the shape of this new dataframe\n",
        "?"
      ],
      "execution_count": null,
      "outputs": []
    },
    {
      "cell_type": "markdown",
      "metadata": {
        "id": "Edr1BV2OjImL"
      },
      "source": [
        "Can you also calculate how many flights arrived earlier than expected (i.e., where the plane arrived before the scheduled arrival time). "
      ]
    },
    {
      "cell_type": "code",
      "metadata": {
        "id": "L1RLoJ5mNrAt"
      },
      "source": [
        "#keep only the rows with arr_delay less than 0 minutes (i.e., negative delay!)\n",
        "\n",
        "#what is the shape of this new dataframe"
      ],
      "execution_count": null,
      "outputs": []
    },
    {
      "cell_type": "markdown",
      "metadata": {
        "id": "3cUMKEmbyxsY"
      },
      "source": [
        "Finally can you express these numbers as percentages?"
      ]
    },
    {
      "cell_type": "code",
      "metadata": {
        "id": "dOspEKWIy8fQ"
      },
      "source": [
        "#percentage of flights delayed more than 60mins, i.e., number delayed rows / number total rows\n"
      ],
      "execution_count": null,
      "outputs": []
    },
    {
      "cell_type": "code",
      "metadata": {
        "id": "sZ65plI6zGUA"
      },
      "source": [
        "#percentage of flights arriving before scheduled time, i.e., number early rows / number total rows\n"
      ],
      "execution_count": null,
      "outputs": []
    },
    {
      "cell_type": "markdown",
      "metadata": {
        "id": "TUNoATnrzL4K"
      },
      "source": [
        "Post to slack once you've got an answer!"
      ]
    },
    {
      "cell_type": "markdown",
      "metadata": {
        "id": "xVcb23hW1oXD"
      },
      "source": [
        "# <font color='lightblue'>Further reading</font>"
      ]
    },
    {
      "cell_type": "markdown",
      "metadata": {
        "id": "T0CUWO8D1wPz"
      },
      "source": [
        "The many ways to work with [data in colab](https://neptune.ai/blog/google-colab-dealing-with-files)."
      ]
    }
  ]
}