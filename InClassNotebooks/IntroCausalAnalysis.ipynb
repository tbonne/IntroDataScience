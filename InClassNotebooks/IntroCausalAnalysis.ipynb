{
  "nbformat": 4,
  "nbformat_minor": 0,
  "metadata": {
    "colab": {
      "name": "IntroCausalAnalysis.ipynb",
      "provenance": [],
      "collapsed_sections": [],
      "mount_file_id": "1ZSejLEaSqtPw_BnKWwNvlKloiaTPp-zf",
      "authorship_tag": "ABX9TyPuikTeu2ENpKcVMXy2xWpA",
      "include_colab_link": true
    },
    "kernelspec": {
      "name": "python3",
      "display_name": "Python 3"
    },
    "language_info": {
      "name": "python"
    }
  },
  "cells": [
    {
      "cell_type": "markdown",
      "metadata": {
        "id": "view-in-github",
        "colab_type": "text"
      },
      "source": [
        "<a href=\"https://colab.research.google.com/github/tbonne/IntroDataScience/blob/main/InClassNotebooks/IntroCausalAnalysis.ipynb\" target=\"_parent\"><img src=\"https://colab.research.google.com/assets/colab-badge.svg\" alt=\"Open In Colab\"/></a>"
      ]
    },
    {
      "cell_type": "markdown",
      "metadata": {
        "id": "BQpnBRMDe_mB"
      },
      "source": [
        "# Explainability vs Causality\n",
        "\n",
        "Here we will look at the difference between understanding how the ML model is making predictions (explainability) and what is causing the outcome (causality)\n"
      ]
    },
    {
      "cell_type": "markdown",
      "metadata": {
        "id": "yFmN1aLjfVej"
      },
      "source": [
        "To do so we will look at a silly example where we know that the patterns picked up by the model are not causal.\n"
      ]
    },
    {
      "cell_type": "markdown",
      "metadata": {
        "id": "H4-8qJBvfiL1"
      },
      "source": [
        "## Waffle houses and divorce rates"
      ]
    },
    {
      "cell_type": "code",
      "metadata": {
        "id": "R6oL7k7uftq4"
      },
      "source": [
        "import pandas as pd\n",
        "import sklearn as sk\n",
        "import seaborn as sns\n",
        "from matplotlib import pyplot as plt\n",
        "from sklearn.model_selection import train_test_split"
      ],
      "execution_count": null,
      "outputs": []
    },
    {
      "cell_type": "markdown",
      "metadata": {
        "id": "GZ7MxOMHflXV"
      },
      "source": [
        "Load the data (get the data from slack, and place it into your google drive folder)"
      ]
    },
    {
      "cell_type": "code",
      "metadata": {
        "id": "5NHlsf8GeMWW"
      },
      "source": [
        "#load data\n",
        "df_waffles = pd.read_csv(\"/content/drive/MyDrive/Colab Notebooks/DataScience/IntroCausalAnalysis/waffles.csv\")\n",
        "\n",
        "#take a look\n",
        "df_waffles.head()"
      ],
      "execution_count": null,
      "outputs": []
    },
    {
      "cell_type": "markdown",
      "metadata": {
        "id": "FovWxCFQkiTn"
      },
      "source": [
        "Visualize the data"
      ]
    },
    {
      "cell_type": "code",
      "metadata": {
        "id": "Lm36a2uZmIW5"
      },
      "source": [
        "#sort the dataframe\n",
        "pd_df = df_waffles.sort_values(['Divorce']).reset_index(drop=True)\n",
        "\n",
        "#plot by state\n",
        "sns.barplot(data=pd_df, x=\"Loc\",y=\"Divorce\")\n",
        "plt.xticks(rotation=90)"
      ],
      "execution_count": null,
      "outputs": []
    },
    {
      "cell_type": "markdown",
      "metadata": {
        "id": "GMJVKC1ckysB"
      },
      "source": [
        "### Do whaffle houses cause divorce?"
      ]
    },
    {
      "cell_type": "code",
      "metadata": {
        "id": "8ByGVB4fLmIG"
      },
      "source": [
        "#correlation\n",
        "df_waffles.WaffleHouses.corr(df_waffles.Divorce)"
      ],
      "execution_count": null,
      "outputs": []
    },
    {
      "cell_type": "code",
      "metadata": {
        "id": "GUnoEdV7AZLP"
      },
      "source": [
        "#scatter plot\n",
        "sns.scatterplot(data=df_waffles, x=\"WaffleHouses\", y=\"Divorce\" )\n"
      ],
      "execution_count": null,
      "outputs": []
    },
    {
      "cell_type": "markdown",
      "metadata": {
        "id": "lKdW7X6B0epK"
      },
      "source": [
        "Data wrangling"
      ]
    },
    {
      "cell_type": "code",
      "metadata": {
        "id": "7uuaVICoRlMs"
      },
      "source": [
        "#split these data into training and testing datasets\n",
        "df_train, df_test = train_test_split(df_waffles, test_size=0.20, random_state=34)"
      ],
      "execution_count": null,
      "outputs": []
    },
    {
      "cell_type": "markdown",
      "metadata": {
        "id": "OAk0s-hKmH7i"
      },
      "source": [
        "# Build a model\n",
        "\n",
        "Can we predict divorce rates based on:\n",
        "1. population\n",
        "2. marage rates (more mariage more divorce)\n",
        "3. Median age at marriage\n",
        "4. Number of waffle houses"
      ]
    },
    {
      "cell_type": "code",
      "metadata": {
        "id": "eHrG5Z1lRJ5q"
      },
      "source": [
        "import statsmodels.api as sm #for running regression!\n",
        "import statsmodels.formula.api as smf\n",
        "\n",
        "#Build the model\n",
        "linear_reg_model = smf.ols(formula='Divorce ~ WaffleHouses + Population + Marriage', data=df_train)\n",
        "\n",
        "#Use the data to fit the model (i.e., find the best intercept and slope parameters)\n",
        "linear_reg_results = linear_reg_model.fit()\n",
        "\n",
        "#summary\n",
        "print(linear_reg_results.summary())"
      ],
      "execution_count": null,
      "outputs": []
    },
    {
      "cell_type": "markdown",
      "metadata": {
        "id": "-l9Slvyc72dT"
      },
      "source": [
        "### Fit the model again, this time add the South variable."
      ]
    },
    {
      "cell_type": "code",
      "metadata": {
        "id": "mweD6mtJSYPh"
      },
      "source": [
        "#Build the model\n",
        "linear_reg_model_South = smf.ols(formula='Divorce ~ WaffleHouses + Population + Marriage + South', data=df_train)\n",
        "\n",
        "#Use the data to fit the model (i.e., find the best intercept and slope parameters)\n",
        "linear_reg_model_South = linear_reg_model_South.fit()\n",
        "\n",
        "#summary\n",
        "print(linear_reg_model_South.summary())"
      ],
      "execution_count": null,
      "outputs": []
    },
    {
      "cell_type": "markdown",
      "metadata": {
        "id": "ZZmp46mF7reu"
      },
      "source": [
        "## Let's see what feature importance suggests"
      ]
    },
    {
      "cell_type": "code",
      "metadata": {
        "id": "r9PhBzfXO26O"
      },
      "source": [
        "from sklearn.linear_model import LinearRegression\n",
        "from sklearn.metrics import mean_squared_error\n",
        "from sklearn.inspection import permutation_importance\n",
        "\n",
        "#split data into predictors (X) and target (y)\n",
        "X = df_waffles[['WaffleHouses', 'Population', 'Marriage', 'South']]\n",
        "y = df_waffles['Divorce']\n",
        "\n",
        "#split these data into training and testing datasets\n",
        "X_train, X_test, y_train, y_test = train_test_split(X, y, test_size=0.20)\n",
        "\n",
        "#fit linear regression\n",
        "LR1 = LinearRegression()\n",
        "LR1.fit(X_train, y_train)\n",
        "\n",
        "#prediction error\n",
        "mean_squared_error(LR1.predict(X_test), y_test)\n",
        "\n",
        "#model interpretation\n",
        "rel_impo = permutation_importance(LR1, X_test, y_test,n_repeats=30,random_state=0)\n",
        "pd.DataFrame({\"feature\":X_test.columns,\"importance\":rel_impo.importances_mean, \"sd\":rel_impo.importances_std})"
      ],
      "execution_count": null,
      "outputs": []
    },
    {
      "cell_type": "markdown",
      "metadata": {
        "id": "md1RcfQv8iJp"
      },
      "source": [
        "## Let's see what feature selection suggests"
      ]
    },
    {
      "cell_type": "code",
      "metadata": {
        "id": "yp9Zr-3C80AC"
      },
      "source": [
        "from sklearn.model_selection import KFold\n",
        "from sklearn.feature_selection import RFECV\n",
        "\n",
        "#split data into predictors (X) and target (y)\n",
        "X = df_waffles.drop(['Divorce','Unnamed: 0','Location','Loc'], axis=1)\n",
        "y = df_waffles['Divorce']\n",
        "\n",
        "#split these data into training and testing datasets\n",
        "X_train, X_test, y_train, y_test = train_test_split(X, y, test_size=0.20)\n",
        "\n",
        "#build a linear regression (full model)\n",
        "LR1 = LinearRegression()\n",
        "\n",
        "#fit linear regression\n",
        "LR1.fit(X_train, y_train)"
      ],
      "execution_count": null,
      "outputs": []
    },
    {
      "cell_type": "code",
      "metadata": {
        "id": "qLvRgura9lSE"
      },
      "source": [
        "#min number of variables/features\n",
        "min_features_to_select = 1\n",
        "\n",
        "#build the feature selection algorithm\n",
        "rfecv = RFECV(estimator=LR1, step=1, cv=3,scoring='neg_mean_squared_error', min_features_to_select=min_features_to_select)\n",
        "\n",
        "#fit the algorithm to the data\n",
        "rfecv.fit(X_train, y_train)"
      ],
      "execution_count": null,
      "outputs": []
    },
    {
      "cell_type": "code",
      "metadata": {
        "id": "FSObYPwA80AR"
      },
      "source": [
        "print(\"Optimal number of features : %d\" % rfecv.n_features_)\n",
        "\n",
        "# Plot number of features VS. cross-validation scores\n",
        "plt.figure()\n",
        "plt.xlabel(\"Number of features selected\")\n",
        "plt.ylabel(\"Cross validation score (mean square error?)\")\n",
        "plt.plot(range(min_features_to_select,\n",
        "               len(rfecv.grid_scores_) + min_features_to_select),\n",
        "         rfecv.grid_scores_)\n",
        "plt.show()"
      ],
      "execution_count": null,
      "outputs": []
    },
    {
      "cell_type": "code",
      "metadata": {
        "id": "XfXCCK-q80AS"
      },
      "source": [
        "rfecv.support_"
      ],
      "execution_count": null,
      "outputs": []
    },
    {
      "cell_type": "code",
      "metadata": {
        "id": "3f-RxGiU80AS"
      },
      "source": [
        "X_train_reduced = X_train.iloc[:,rfecv.support_]\n",
        "\n",
        "X_train_reduced.head(3)"
      ],
      "execution_count": null,
      "outputs": []
    },
    {
      "cell_type": "code",
      "metadata": {
        "id": "5E1zJmWw-Oox"
      },
      "source": [
        "#get the slopes!\n",
        "rfecv.estimator_.coef_"
      ],
      "execution_count": null,
      "outputs": []
    },
    {
      "cell_type": "markdown",
      "metadata": {
        "id": "KgxVHlWrjkry"
      },
      "source": [
        "### <font color='lightblue'>Statistical confounds</font>\n",
        "\n",
        "> Statistical confounds make it hard to determine the causal nature of the patterns we find in ML model results. We need to be careful about how we explain how a model makes predictions and the causal nature of those patterns.\n",
        "\n",
        "> In the case of the whaffle houses and divorce rates, there are just more waffle houses in southern states.  "
      ]
    },
    {
      "cell_type": "code",
      "metadata": {
        "id": "xsWU8gAgkGUo"
      },
      "source": [
        "sns.boxplot(data=df_waffles, x=\"South\", y=\"WaffleHouses\")"
      ],
      "execution_count": null,
      "outputs": []
    },
    {
      "cell_type": "markdown",
      "metadata": {
        "id": "rhsmIwF-OoJU"
      },
      "source": [
        "### <font color='lightblue'>Bonus</font>"
      ]
    },
    {
      "cell_type": "markdown",
      "metadata": {
        "id": "rTOtIGZmOqsF"
      },
      "source": [
        "Redo the exercise above this time using a more black box approach, e.g., Random Forest!"
      ]
    },
    {
      "cell_type": "code",
      "metadata": {
        "id": "YvwxByCV0gdy"
      },
      "source": [
        "from sklearn.model_selection import train_test_split\n",
        "\n",
        "#split data into predictors (X) and target (y)\n",
        "X = df_waffles[['Population','Marriage','WaffleHouses']]\n",
        "y = df_waffles['Divorce']\n",
        "\n",
        "#split these data into training and testing datasets\n",
        "?"
      ],
      "execution_count": null,
      "outputs": []
    },
    {
      "cell_type": "markdown",
      "metadata": {
        "id": "eq8pKsUQANn2"
      },
      "source": [
        "Find optimal hyperparameters"
      ]
    },
    {
      "cell_type": "code",
      "metadata": {
        "id": "yZOfTkuj7pb8"
      },
      "source": [
        "?\n",
        "\n",
        "\n"
      ],
      "execution_count": null,
      "outputs": []
    },
    {
      "cell_type": "markdown",
      "metadata": {
        "id": "T4hpoy5y36Zo"
      },
      "source": [
        "Build the model with the optimal hyperparameters"
      ]
    },
    {
      "cell_type": "code",
      "metadata": {
        "id": "Dk0PgRjU35ml"
      },
      "source": [
        "#1. build the model\n",
        "RFR = ?\n",
        "\n",
        "#2. fit the model to the data\n",
        "?\n",
        "\n",
        "#3. make predictions using the model\n",
        "y_pred = ?"
      ],
      "execution_count": null,
      "outputs": []
    },
    {
      "cell_type": "markdown",
      "metadata": {
        "id": "nH2WdajbATXa"
      },
      "source": [
        "How well did the model perform"
      ]
    },
    {
      "cell_type": "code",
      "metadata": {
        "id": "r6BY7JkAE1s0"
      },
      "source": [
        "#how well does it predict\n",
        "from sklearn.metrics import mean_squared_error\n",
        "\n",
        "?"
      ],
      "execution_count": null,
      "outputs": []
    },
    {
      "cell_type": "markdown",
      "metadata": {
        "id": "Q45Wwh3ZLvxL"
      },
      "source": [
        "Explain how the model is making these predictions?"
      ]
    },
    {
      "cell_type": "code",
      "metadata": {
        "id": "WKOTXaq0FAxr"
      },
      "source": [
        "#What is important for prediction?\n",
        "from sklearn.inspection import permutation_importance\n",
        "\n",
        "#estimate permutation importance on the test data\n",
        "perm_impo = ?\n",
        "\n",
        "#create a dataframe with the values\n",
        "df_imp = pd.DataFrame({\"feature\":X_test.columns,\"importance\":perm_impo.importances_mean, \"sd\":perm_impo.importances_std})\n",
        "sorted(sk.metrics.SCORERS.keys())\n",
        "\n",
        "#take a look\n",
        "df_imp"
      ],
      "execution_count": null,
      "outputs": []
    },
    {
      "cell_type": "code",
      "metadata": {
        "id": "LgfCwJOHOx-k"
      },
      "source": [
        "#plot the importance values\n",
        "df_imp_all = pd.DataFrame(perm_impo.importances.transpose())\n",
        "df_imp_all.columns = X_test.columns\n",
        "df_imp_all_long = pd.melt(df_imp_all)\n",
        "sns.barplot(data=df_imp_all_long, x=\"variable\",y=\"value\", ci=95)\n",
        "plt.xticks(rotation=90) \n"
      ],
      "execution_count": null,
      "outputs": []
    },
    {
      "cell_type": "markdown",
      "metadata": {
        "id": "I54NX306uLG2"
      },
      "source": [
        "What does the model think divorce rates will change when we vary wafflehouses?"
      ]
    },
    {
      "cell_type": "code",
      "metadata": {
        "id": "HiCvLf23uG-B"
      },
      "source": [
        "#1. Create a dataframe\n",
        "df_question = pd.DataFrame({'Population':X_train.Population.mean(),\n",
        "                            'WaffleHouses':list(range(0,200,10)),\n",
        "                            'Marriage':X_train.Marriage.mean(),\n",
        "                            })\n",
        "                            \n",
        "\n",
        "#2. Use the model to make predictions\n",
        "question_pred =  RFR.?\n",
        "\n",
        "#3. add a column to the df_question\n",
        "df_question['predicted_divorceRates'] = ?\n",
        "\n",
        "#4. plot the predictions\n",
        "sns.scatterplot(data=df_question, x='?',y='?')\n",
        "question_pred"
      ],
      "execution_count": null,
      "outputs": []
    },
    {
      "cell_type": "markdown",
      "metadata": {
        "id": "C0tUHgMi6FI7"
      },
      "source": [
        "In my case, the random forest model has found a positive association between wafflehouses and divorce rates!"
      ]
    },
    {
      "cell_type": "markdown",
      "metadata": {
        "id": "Ck4ogI1vLzGX"
      },
      "source": [
        "### Repeat the analysis but this time add in the variable 'South'\n"
      ]
    },
    {
      "cell_type": "markdown",
      "metadata": {
        "id": "6VCJDhfML9xb"
      },
      "source": [
        "Data wrangling"
      ]
    },
    {
      "cell_type": "code",
      "metadata": {
        "id": "tYdP7aH5L3yS"
      },
      "source": [
        "#split data into predictors (X) and target (y)\n",
        "X = df_waffles[['Population','Marriage','WaffleHouses','South']]\n",
        "y = df_waffles['Divorce']\n",
        "\n",
        "\n",
        "#split these data into training and testing datasets\n",
        "?"
      ],
      "execution_count": null,
      "outputs": []
    },
    {
      "cell_type": "markdown",
      "metadata": {
        "id": "eHZqGKK4MEJb"
      },
      "source": [
        "Build the model"
      ]
    },
    {
      "cell_type": "code",
      "metadata": {
        "id": "lUAwAPM9MDsp"
      },
      "source": [
        "?"
      ],
      "execution_count": null,
      "outputs": []
    },
    {
      "cell_type": "markdown",
      "metadata": {
        "id": "bDMKUha5W2VV"
      },
      "source": [
        "Make predictions "
      ]
    },
    {
      "cell_type": "code",
      "metadata": {
        "id": "Ilmul8EaW49y"
      },
      "source": [
        "mean_squared_error(?)"
      ],
      "execution_count": null,
      "outputs": []
    },
    {
      "cell_type": "code",
      "metadata": {
        "id": "BZWlb2KQMJYH"
      },
      "source": [
        "rel_impo2 = permutation_importance(?)\n",
        "\n",
        "pd.DataFrame({\"feature\":X_test.columns,\"importance\":rel_impo2.importances_mean, \"sd\":rel_impo2.importances_std})"
      ],
      "execution_count": null,
      "outputs": []
    },
    {
      "cell_type": "code",
      "metadata": {
        "id": "HeKVNhuFWN1D"
      },
      "source": [
        "df_imp_all = pd.DataFrame(rel_impo2.importances.transpose())\n",
        "df_imp_all.columns = X_test.columns\n",
        "df_imp_all_long = pd.melt(df_imp_all)\n",
        "sns.barplot(data=df_imp_all_long, x=\"variable\",y=\"value\", ci=95)\n",
        "plt.xticks(rotation=90)\n"
      ],
      "execution_count": null,
      "outputs": []
    },
    {
      "cell_type": "markdown",
      "metadata": {
        "id": "_iGIZB1cw5Nr"
      },
      "source": [
        "What does the model think divorce rates will change when we vary wafflehouses?"
      ]
    },
    {
      "cell_type": "code",
      "metadata": {
        "id": "N9Unq7r3w5N7"
      },
      "source": [
        "#1. Create a dataframe\n",
        "df_question = pd.DataFrame({'Population':X_train.Population.mean(),\n",
        "                            'WaffleHouses':list(range(0,200,10)),\n",
        "                            'Marriage':X_train.Marriage.mean(),\n",
        "                            'South':1\n",
        "                            })\n",
        "                            \n",
        "\n",
        "#2. Use the model to make predictions\n",
        "question_pred =  RFR2.?\n",
        "\n",
        "#3. add a column to the df_question\n",
        "df_question['predicted_divorceRates'] = ?\n",
        "\n",
        "#4. plot the predictions\n",
        "sns.scatterplot(data=df_question, x='?',y='?')\n",
        "question_pred"
      ],
      "execution_count": null,
      "outputs": []
    },
    {
      "cell_type": "markdown",
      "metadata": {
        "id": "DtOvUZNZw5N7"
      },
      "source": [
        "In this case, the random forest model has still found a positive association between wafflehouses and divorce rates!"
      ]
    }
  ]
}