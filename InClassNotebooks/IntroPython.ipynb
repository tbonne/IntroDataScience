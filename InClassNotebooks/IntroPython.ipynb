{
  "nbformat": 4,
  "nbformat_minor": 0,
  "metadata": {
    "colab": {
      "name": "IntroPython.ipynb",
      "provenance": [],
      "collapsed_sections": [],
      "toc_visible": true,
      "authorship_tag": "ABX9TyONLZCnSW3ZIuO4OJ2/Ttxe",
      "include_colab_link": true
    },
    "kernelspec": {
      "name": "python3",
      "display_name": "Python 3"
    }
  },
  "cells": [
    {
      "cell_type": "markdown",
      "metadata": {
        "id": "view-in-github",
        "colab_type": "text"
      },
      "source": [
        "<a href=\"https://colab.research.google.com/github/tbonne/IntroDataScience/blob/main/InClassNotebooks/IntroPython.ipynb\" target=\"_parent\"><img src=\"https://colab.research.google.com/assets/colab-badge.svg\" alt=\"Open In Colab\"/></a>"
      ]
    },
    {
      "cell_type": "markdown",
      "metadata": {
        "id": "Q7CPHsPmNULC"
      },
      "source": [
        "\n",
        "\n",
        "<img src='http://drive.google.com/uc?export=view&id=1qaKkjdduZW96yCyFyPKRK8J0Pfem4Ldk'>"
      ]
    },
    {
      "cell_type": "markdown",
      "metadata": {
        "id": "ANZEaZ5SuhD_"
      },
      "source": [
        "# Short introduction to Python\n",
        "\n",
        "In this course you'll learn python, but rather than gain a wide perspective we will learn what we need to know to run through the data science wrokflow, and build on python along the way\n",
        "\n",
        "That said let's learn some basics to help us get started!\n"
      ]
    },
    {
      "cell_type": "markdown",
      "metadata": {
        "id": "pPig20py3Ixm"
      },
      "source": [
        "## Data types in Python"
      ]
    },
    {
      "cell_type": "markdown",
      "metadata": {
        "id": "KsmhKPaTyl-y"
      },
      "source": [
        "First we will explore the main kinds of data types you can have in python:\n",
        "1. **Integers** (1,2,3,4)\n",
        "2. **Floats** (1.2, 2.3, 5.6)\n",
        "3. **Boolean** (True / False)\n",
        "4. **String** ('this is a string')\n",
        "5. **Lists** ('oneString', 'twoString') or (1,2,3,4) or (1.2, 2.3, 5.6) or..."
      ]
    },
    {
      "cell_type": "code",
      "metadata": {
        "id": "gUnNT2n6yqej"
      },
      "source": [
        "#This is an integer\n",
        "c1 = 1\n",
        "\n",
        "#this is an float\n",
        "c2 = 1.2\n",
        "\n",
        "#this is a boolean\n",
        "c3 = True\n",
        "\n",
        "#this is a string\n",
        "c4 = \"oneString\"\n",
        "\n",
        "#this is a list\n",
        "c5 = [\"oneString\", \"twoString\", \"threeString\"]\n"
      ],
      "execution_count": 1,
      "outputs": []
    },
    {
      "cell_type": "markdown",
      "metadata": {
        "id": "_r8pA1bHyqGt"
      },
      "source": [
        "We can do simple mathematical opperations with the different data types:"
      ]
    },
    {
      "cell_type": "code",
      "metadata": {
        "colab": {
          "base_uri": "https://localhost:8080/"
        },
        "id": "jXN8FY_r0Amo",
        "outputId": "4614d4be-427f-4249-d9a2-7082a9cf4eb6"
      },
      "source": [
        "c1 - c2\n",
        "c1 + c2\n",
        "c1 * c2\n",
        "c1 / c2"
      ],
      "execution_count": 2,
      "outputs": [
        {
          "output_type": "execute_result",
          "data": {
            "text/plain": [
              "0.8333333333333334"
            ]
          },
          "metadata": {
            "tags": []
          },
          "execution_count": 2
        }
      ]
    },
    {
      "cell_type": "markdown",
      "metadata": {
        "id": "nkn3H5Pdz_4Q"
      },
      "source": [
        "As well as ask questions about relative size:"
      ]
    },
    {
      "cell_type": "code",
      "metadata": {
        "colab": {
          "base_uri": "https://localhost:8080/"
        },
        "id": "bLNHmW1K0WNM",
        "outputId": "c34b2e08-90d6-4851-f927-73755eb5d075"
      },
      "source": [
        "c1 > c2\n",
        "c1 <= c2"
      ],
      "execution_count": null,
      "outputs": [
        {
          "output_type": "execute_result",
          "data": {
            "text/plain": [
              "True"
            ]
          },
          "metadata": {
            "tags": []
          },
          "execution_count": 40
        }
      ]
    },
    {
      "cell_type": "markdown",
      "metadata": {
        "id": "mc4wGYpO0zrn"
      },
      "source": [
        "Try doing something that you know should not work. The error message points to the line where the error occured, and tries to help you figure out what went wrong (stack overflow link)."
      ]
    },
    {
      "cell_type": "code",
      "metadata": {
        "colab": {
          "base_uri": "https://localhost:8080/",
          "height": 165
        },
        "id": "MJBT5eZi03t3",
        "outputId": "6f4b67e7-2951-4f46-ff4f-acff1f5cac1c"
      },
      "source": [
        "c4 + c1"
      ],
      "execution_count": null,
      "outputs": [
        {
          "output_type": "error",
          "ename": "TypeError",
          "evalue": "ignored",
          "traceback": [
            "\u001b[0;31m---------------------------------------------------------------------------\u001b[0m",
            "\u001b[0;31mTypeError\u001b[0m                                 Traceback (most recent call last)",
            "\u001b[0;32m<ipython-input-24-8b34212087ff>\u001b[0m in \u001b[0;36m<module>\u001b[0;34m()\u001b[0m\n\u001b[0;32m----> 1\u001b[0;31m \u001b[0mc4\u001b[0m \u001b[0;34m+\u001b[0m \u001b[0mc1\u001b[0m\u001b[0;34m\u001b[0m\u001b[0;34m\u001b[0m\u001b[0m\n\u001b[0m",
            "\u001b[0;31mTypeError\u001b[0m: can only concatenate str (not \"int\") to str"
          ]
        }
      ]
    },
    {
      "cell_type": "markdown",
      "metadata": {
        "id": "92veJ72KzpHP"
      },
      "source": [
        "### **Lists**"
      ]
    },
    {
      "cell_type": "markdown",
      "metadata": {
        "id": "I1sgWmRM7HGo"
      },
      "source": [
        "We'll take a closer look at lists as they will come in very handy throughout the course."
      ]
    },
    {
      "cell_type": "markdown",
      "metadata": {
        "id": "HOOXF6Ng0vK_"
      },
      "source": [
        "#### Indexing\n",
        " \n",
        "Indexing is where you'd like to get a value out of a list, or change one value in the list."
      ]
    },
    {
      "cell_type": "code",
      "metadata": {
        "id": "kce0HO682MvY"
      },
      "source": [
        "#create list\n",
        "x = ['apples','oranges']"
      ],
      "execution_count": 3,
      "outputs": []
    },
    {
      "cell_type": "markdown",
      "metadata": {
        "id": "QthB8yZj1jau"
      },
      "source": [
        "Grabing one value:"
      ]
    },
    {
      "cell_type": "code",
      "metadata": {
        "colab": {
          "base_uri": "https://localhost:8080/",
          "height": 35
        },
        "id": "aZjmxuLDzl0e",
        "outputId": "7abe176b-b2be-4707-c7e8-8f8f255ac072"
      },
      "source": [
        "#take a look at the first value in the array (note: starts at 0 index)\n",
        "x[0]\n"
      ],
      "execution_count": 4,
      "outputs": [
        {
          "output_type": "execute_result",
          "data": {
            "application/vnd.google.colaboratory.intrinsic+json": {
              "type": "string"
            },
            "text/plain": [
              "'apples'"
            ]
          },
          "metadata": {
            "tags": []
          },
          "execution_count": 4
        }
      ]
    },
    {
      "cell_type": "markdown",
      "metadata": {
        "id": "2dRfyOQl0Pav"
      },
      "source": [
        "Modifying the first value:"
      ]
    },
    {
      "cell_type": "code",
      "metadata": {
        "id": "2rmZrzcZ0Q3X",
        "colab": {
          "base_uri": "https://localhost:8080/"
        },
        "outputId": "5350e6ee-137c-4396-98ef-5c34113640a6"
      },
      "source": [
        "#assign a new value!\n",
        "x[0] = 'watermelon'\n",
        "\n",
        "#how has it changed?\n",
        "x"
      ],
      "execution_count": 5,
      "outputs": [
        {
          "output_type": "execute_result",
          "data": {
            "text/plain": [
              "['watermelon', 'oranges']"
            ]
          },
          "metadata": {
            "tags": []
          },
          "execution_count": 5
        }
      ]
    },
    {
      "cell_type": "markdown",
      "metadata": {
        "id": "OwObEA1x2cJ7"
      },
      "source": [
        "#### Slicing"
      ]
    },
    {
      "cell_type": "markdown",
      "metadata": {
        "id": "G2KwjQs96xDL"
      },
      "source": [
        "> Slicing a list is where you'd like to get a few values from a list, or modify a few values in the list\n",
        "\n",
        "> To do slicing on a list we use **x2[start:stop:step]**"
      ]
    },
    {
      "cell_type": "markdown",
      "metadata": {
        "id": "raq6uD2_zwCs"
      },
      "source": [
        "Let's make a list of numbers:\n",
        "\n"
      ]
    },
    {
      "cell_type": "code",
      "metadata": {
        "colab": {
          "base_uri": "https://localhost:8080/"
        },
        "id": "LIiAAbkyz0dZ",
        "outputId": "a3122567-a0b8-436d-d561-530377321b56"
      },
      "source": [
        "#create a list of numbers \n",
        "x2 = [0,1,2,3,4,5,6,7,8,9]\n",
        "\n",
        "#take a look\n",
        "x2"
      ],
      "execution_count": 6,
      "outputs": [
        {
          "output_type": "execute_result",
          "data": {
            "text/plain": [
              "[0, 1, 2, 3, 4, 5, 6, 7, 8, 9]"
            ]
          },
          "metadata": {
            "tags": []
          },
          "execution_count": 6
        }
      ]
    },
    {
      "cell_type": "markdown",
      "metadata": {
        "id": "Rcu8mfyhz7VY"
      },
      "source": [
        "Now when we want to grab a few numbers we can use slicing"
      ]
    },
    {
      "cell_type": "code",
      "metadata": {
        "colab": {
          "base_uri": "https://localhost:8080/"
        },
        "id": "ZF47Ymemz-c2",
        "outputId": "b26196c5-5ba6-42b3-8658-4b8200b182c1"
      },
      "source": [
        "#get the first three values (Note: we did not specify the 'step' size so it defaults to use 1)\n",
        "x2[0:3]  "
      ],
      "execution_count": 7,
      "outputs": [
        {
          "output_type": "execute_result",
          "data": {
            "text/plain": [
              "[0, 1, 2]"
            ]
          },
          "metadata": {
            "tags": []
          },
          "execution_count": 7
        }
      ]
    },
    {
      "cell_type": "code",
      "metadata": {
        "colab": {
          "base_uri": "https://localhost:8080/"
        },
        "id": "C953rsRX3DQX",
        "outputId": "702147d6-ee03-4f1b-e97f-c18127e54330"
      },
      "source": [
        "#get everything after the third value\n",
        "x2[3:]"
      ],
      "execution_count": 8,
      "outputs": [
        {
          "output_type": "execute_result",
          "data": {
            "text/plain": [
              "[3, 4, 5, 6, 7, 8, 9]"
            ]
          },
          "metadata": {
            "tags": []
          },
          "execution_count": 8
        }
      ]
    },
    {
      "cell_type": "markdown",
      "metadata": {
        "id": "hXgc8Tt_8SHH"
      },
      "source": [
        "<img src='http://drive.google.com/uc?export=view&id=1WC4tXGCEF-1_2LQ74gIxJAZ-GLXCwBdK' width=\"100\">    \n",
        "Try and select only the values 5 to 7"
      ]
    },
    {
      "cell_type": "code",
      "metadata": {
        "id": "FkarpCY9-i9c"
      },
      "source": [
        "x2[?:?]"
      ],
      "execution_count": null,
      "outputs": []
    },
    {
      "cell_type": "markdown",
      "metadata": {
        "id": "L1m6PbRZ6780"
      },
      "source": [
        "## Further reading\n",
        "\n",
        "> There are lot's of resources out there to supplement this introduction to python. One good resource is the book by Jake VanderPlas: [Python data science handbook](https://jakevdp.github.io/PythonDataScienceHandbook/).\n",
        "\n",
        "> In this course we will build slowly on our python skills. Each new challendge in developing our data science workflow will require learning new bits of python code. The idea here is that you'll learn python through applied examples.\n"
      ]
    }
  ]
}